{
 "cells": [
  {
   "cell_type": "markdown",
   "id": "23055369",
   "metadata": {},
   "source": [
    "# Portafolios de Inversión\n",
    "## Actividad en Clase\n",
    "José Armando Melchor Soto"
   ]
  },
  {
   "cell_type": "markdown",
   "id": "8c28d29d",
   "metadata": {},
   "source": [
    "---"
   ]
  },
  {
   "cell_type": "markdown",
   "id": "a5ed18a8",
   "metadata": {},
   "source": [
    "### Indicaciones\n",
    "Descargar los cierres de Precio ajustado de Microsoft (2019-01-01 a 2024-01-01), calculo los rendimientos diarios, con estas encuentra e interpreta las siguientes métricas. \n",
    "- Rendimiento Esperado , diario y anual\n",
    "- Varianza y Volatilidad, diaria y anual\n",
    "- Asimetria de los rendimientos\n",
    "- Gráfica la distribución de los rendimientos"
   ]
  },
  {
   "cell_type": "markdown",
   "id": "ce78922b",
   "metadata": {},
   "source": [
    "---\n",
    "### Librerías\n"
   ]
  },
  {
   "cell_type": "code",
   "execution_count": 20,
   "id": "82bbb6d7",
   "metadata": {},
   "outputs": [],
   "source": [
    "import pandas as pd\n",
    "import numpy as np\n",
    "import yfinance as yf\n",
    "import matplotlib.pyplot as plt"
   ]
  },
  {
   "cell_type": "markdown",
   "id": "07106f08",
   "metadata": {},
   "source": [
    "---"
   ]
  },
  {
   "cell_type": "code",
   "execution_count": 21,
   "id": "21268a62",
   "metadata": {},
   "outputs": [
    {
     "name": "stderr",
     "output_type": "stream",
     "text": [
      "[*********************100%***********************]  1 of 1 completed\n"
     ]
    },
    {
     "data": {
      "text/html": [
       "<div>\n",
       "<style scoped>\n",
       "    .dataframe tbody tr th:only-of-type {\n",
       "        vertical-align: middle;\n",
       "    }\n",
       "\n",
       "    .dataframe tbody tr th {\n",
       "        vertical-align: top;\n",
       "    }\n",
       "\n",
       "    .dataframe thead th {\n",
       "        text-align: right;\n",
       "    }\n",
       "</style>\n",
       "<table border=\"1\" class=\"dataframe\">\n",
       "  <thead>\n",
       "    <tr style=\"text-align: right;\">\n",
       "      <th>Ticker</th>\n",
       "      <th>MSFT</th>\n",
       "    </tr>\n",
       "    <tr>\n",
       "      <th>Date</th>\n",
       "      <th></th>\n",
       "    </tr>\n",
       "  </thead>\n",
       "  <tbody>\n",
       "    <tr>\n",
       "      <th>2019-01-02</th>\n",
       "      <td>94.945518</td>\n",
       "    </tr>\n",
       "    <tr>\n",
       "      <th>2019-01-03</th>\n",
       "      <td>91.452644</td>\n",
       "    </tr>\n",
       "    <tr>\n",
       "      <th>2019-01-04</th>\n",
       "      <td>95.706047</td>\n",
       "    </tr>\n",
       "    <tr>\n",
       "      <th>2019-01-07</th>\n",
       "      <td>95.828110</td>\n",
       "    </tr>\n",
       "    <tr>\n",
       "      <th>2019-01-08</th>\n",
       "      <td>96.522949</td>\n",
       "    </tr>\n",
       "  </tbody>\n",
       "</table>\n",
       "</div>"
      ],
      "text/plain": [
       "Ticker           MSFT\n",
       "Date                 \n",
       "2019-01-02  94.945518\n",
       "2019-01-03  91.452644\n",
       "2019-01-04  95.706047\n",
       "2019-01-07  95.828110\n",
       "2019-01-08  96.522949"
      ]
     },
     "execution_count": 21,
     "metadata": {},
     "output_type": "execute_result"
    }
   ],
   "source": [
    "df = yf.download('MSFT', start= '2019-01-01', end= '2024-01-01')['Close']\n",
    "df.head()"
   ]
  },
  {
   "cell_type": "markdown",
   "id": "c23a470f",
   "metadata": {},
   "source": [
    "### Rendimiento"
   ]
  },
  {
   "cell_type": "code",
   "execution_count": 22,
   "id": "1b45f9a8",
   "metadata": {},
   "outputs": [
    {
     "data": {
      "text/html": [
       "<div>\n",
       "<style scoped>\n",
       "    .dataframe tbody tr th:only-of-type {\n",
       "        vertical-align: middle;\n",
       "    }\n",
       "\n",
       "    .dataframe tbody tr th {\n",
       "        vertical-align: top;\n",
       "    }\n",
       "\n",
       "    .dataframe thead th {\n",
       "        text-align: right;\n",
       "    }\n",
       "</style>\n",
       "<table border=\"1\" class=\"dataframe\">\n",
       "  <thead>\n",
       "    <tr style=\"text-align: right;\">\n",
       "      <th>Ticker</th>\n",
       "      <th>MSFT</th>\n",
       "    </tr>\n",
       "    <tr>\n",
       "      <th>Date</th>\n",
       "      <th></th>\n",
       "    </tr>\n",
       "  </thead>\n",
       "  <tbody>\n",
       "    <tr>\n",
       "      <th>2019-01-03</th>\n",
       "      <td>-0.036788</td>\n",
       "    </tr>\n",
       "    <tr>\n",
       "      <th>2019-01-04</th>\n",
       "      <td>0.046509</td>\n",
       "    </tr>\n",
       "    <tr>\n",
       "      <th>2019-01-07</th>\n",
       "      <td>0.001275</td>\n",
       "    </tr>\n",
       "    <tr>\n",
       "      <th>2019-01-08</th>\n",
       "      <td>0.007251</td>\n",
       "    </tr>\n",
       "    <tr>\n",
       "      <th>2019-01-09</th>\n",
       "      <td>0.014300</td>\n",
       "    </tr>\n",
       "    <tr>\n",
       "      <th>...</th>\n",
       "      <td>...</td>\n",
       "    </tr>\n",
       "    <tr>\n",
       "      <th>2023-12-22</th>\n",
       "      <td>0.002784</td>\n",
       "    </tr>\n",
       "    <tr>\n",
       "      <th>2023-12-26</th>\n",
       "      <td>0.000214</td>\n",
       "    </tr>\n",
       "    <tr>\n",
       "      <th>2023-12-27</th>\n",
       "      <td>-0.001575</td>\n",
       "    </tr>\n",
       "    <tr>\n",
       "      <th>2023-12-28</th>\n",
       "      <td>0.003235</td>\n",
       "    </tr>\n",
       "    <tr>\n",
       "      <th>2023-12-29</th>\n",
       "      <td>0.002025</td>\n",
       "    </tr>\n",
       "  </tbody>\n",
       "</table>\n",
       "<p>1257 rows × 1 columns</p>\n",
       "</div>"
      ],
      "text/plain": [
       "Ticker          MSFT\n",
       "Date                \n",
       "2019-01-03 -0.036788\n",
       "2019-01-04  0.046509\n",
       "2019-01-07  0.001275\n",
       "2019-01-08  0.007251\n",
       "2019-01-09  0.014300\n",
       "...              ...\n",
       "2023-12-22  0.002784\n",
       "2023-12-26  0.000214\n",
       "2023-12-27 -0.001575\n",
       "2023-12-28  0.003235\n",
       "2023-12-29  0.002025\n",
       "\n",
       "[1257 rows x 1 columns]"
      ]
     },
     "execution_count": 22,
     "metadata": {},
     "output_type": "execute_result"
    }
   ],
   "source": [
    "daily_returns= (df/df.shift()-1).dropna()\n",
    "daily_returns"
   ]
  },
  {
   "cell_type": "code",
   "execution_count": 23,
   "id": "e466ec48",
   "metadata": {},
   "outputs": [
    {
     "data": {
      "text/plain": [
       "Ticker\n",
       "MSFT    0.001271\n",
       "dtype: float64"
      ]
     },
     "execution_count": 23,
     "metadata": {},
     "output_type": "execute_result"
    }
   ],
   "source": [
    "daily_returns.mean()"
   ]
  },
  {
   "cell_type": "code",
   "execution_count": 24,
   "id": "42498952",
   "metadata": {},
   "outputs": [
    {
     "data": {
      "image/png": "[encoded data removed]",
      "text/plain": [
       "<Figure size 1400x700 with 1 Axes>"
      ]
     },
     "metadata": {},
     "output_type": "display_data"
    }
   ],
   "source": [
    "plt.figure(figsize=(14, 7))\n",
    "plt.hist(daily_returns, label=daily_returns.keys(), density=True, bins=50)\n",
    "plt.title('Microsoft Daily Returns Distribution')\n",
    "plt.xlabel('Price')\n",
    "plt.ylabel('Probability')\n",
    "plt.legend()\n",
    "plt.show()"
   ]
  },
  {
   "cell_type": "markdown",
   "id": "5d1159f7",
   "metadata": {},
   "source": [
    "### Rendimiento Esperado , dirario y anual"
   ]
  },
  {
   "cell_type": "code",
   "execution_count": 25,
   "id": "f72ade73",
   "metadata": {},
   "outputs": [
    {
     "data": {
      "text/html": [
       "<div>\n",
       "<style scoped>\n",
       "    .dataframe tbody tr th:only-of-type {\n",
       "        vertical-align: middle;\n",
       "    }\n",
       "\n",
       "    .dataframe tbody tr th {\n",
       "        vertical-align: top;\n",
       "    }\n",
       "\n",
       "    .dataframe thead th {\n",
       "        text-align: right;\n",
       "    }\n",
       "</style>\n",
       "<table border=\"1\" class=\"dataframe\">\n",
       "  <thead>\n",
       "    <tr style=\"text-align: right;\">\n",
       "      <th></th>\n",
       "      <th>Daily_rate</th>\n",
       "      <th>Anual_rate</th>\n",
       "    </tr>\n",
       "    <tr>\n",
       "      <th>Ticker</th>\n",
       "      <th></th>\n",
       "      <th></th>\n",
       "    </tr>\n",
       "  </thead>\n",
       "  <tbody>\n",
       "    <tr>\n",
       "      <th>MSFT</th>\n",
       "      <td>0.127101</td>\n",
       "      <td>32.029497</td>\n",
       "    </tr>\n",
       "  </tbody>\n",
       "</table>\n",
       "</div>"
      ],
      "text/plain": [
       "        Daily_rate  Anual_rate\n",
       "Ticker                        \n",
       "MSFT      0.127101   32.029497"
      ]
     },
     "execution_count": 25,
     "metadata": {},
     "output_type": "execute_result"
    }
   ],
   "source": [
    "df= pd.DataFrame(columns=daily_returns.keys()).T\n",
    "\n",
    "df['Daily_rate']= daily_returns.mean()\n",
    "df['Anual_rate']= daily_returns.mean()*252\n",
    "\n",
    "df*100"
   ]
  },
  {
   "cell_type": "markdown",
   "id": "b8d789b5",
   "metadata": {},
   "source": [
    "### Varianza y Volatilidad , diaria y anual"
   ]
  },
  {
   "cell_type": "code",
   "execution_count": 26,
   "id": "47853c44",
   "metadata": {},
   "outputs": [],
   "source": [
    "df['Daily_Var']= daily_returns.var()\n",
    "df['Anual_Var']= daily_returns.var()*np.sqrt(252)\n"
   ]
  },
  {
   "cell_type": "code",
   "execution_count": 27,
   "id": "ef16136e",
   "metadata": {},
   "outputs": [],
   "source": [
    "df['Daily_Vol']= daily_returns.std()\n",
    "df['Anual_Vol']= daily_returns.std()*np.sqrt(252)"
   ]
  },
  {
   "cell_type": "code",
   "execution_count": 30,
   "id": "bc9c0f42",
   "metadata": {},
   "outputs": [
    {
     "data": {
      "text/html": [
       "<div>\n",
       "<style scoped>\n",
       "    .dataframe tbody tr th:only-of-type {\n",
       "        vertical-align: middle;\n",
       "    }\n",
       "\n",
       "    .dataframe tbody tr th {\n",
       "        vertical-align: top;\n",
       "    }\n",
       "\n",
       "    .dataframe thead th {\n",
       "        text-align: right;\n",
       "    }\n",
       "</style>\n",
       "<table border=\"1\" class=\"dataframe\">\n",
       "  <thead>\n",
       "    <tr style=\"text-align: right;\">\n",
       "      <th></th>\n",
       "      <th>Daily_rate</th>\n",
       "      <th>Anual_rate</th>\n",
       "      <th>Daily_Var</th>\n",
       "      <th>Anual_Var</th>\n",
       "      <th>Daily_Vol</th>\n",
       "      <th>Anual_Vol</th>\n",
       "      <th>CV</th>\n",
       "    </tr>\n",
       "    <tr>\n",
       "      <th>Ticker</th>\n",
       "      <th></th>\n",
       "      <th></th>\n",
       "      <th></th>\n",
       "      <th></th>\n",
       "      <th></th>\n",
       "      <th></th>\n",
       "      <th></th>\n",
       "    </tr>\n",
       "  </thead>\n",
       "  <tbody>\n",
       "    <tr>\n",
       "      <th>MSFT</th>\n",
       "      <td>0.001271</td>\n",
       "      <td>0.320295</td>\n",
       "      <td>0.000369</td>\n",
       "      <td>0.005857</td>\n",
       "      <td>0.019207</td>\n",
       "      <td>0.304908</td>\n",
       "      <td>0.951961</td>\n",
       "    </tr>\n",
       "  </tbody>\n",
       "</table>\n",
       "</div>"
      ],
      "text/plain": [
       "        Daily_rate  Anual_rate  Daily_Var  Anual_Var  Daily_Vol  Anual_Vol  \\\n",
       "Ticker                                                                       \n",
       "MSFT      0.001271    0.320295   0.000369   0.005857   0.019207   0.304908   \n",
       "\n",
       "              CV  \n",
       "Ticker            \n",
       "MSFT    0.951961  "
      ]
     },
     "execution_count": 30,
     "metadata": {},
     "output_type": "execute_result"
    }
   ],
   "source": [
    "df"
   ]
  },
  {
   "cell_type": "markdown",
   "id": "3ae1f22c",
   "metadata": {},
   "source": [
    "### Coeficiente de Variación "
   ]
  },
  {
   "cell_type": "code",
   "execution_count": null,
   "id": "3ae1f22c",
   "metadata": {},
   "outputs": [
    {
     "data": {
      "text/plain": [
       "Ticker\n",
       "MSFT    0.951961\n",
       "Name: CV, dtype: float64"
      ]
     },
     "execution_count": 31,
     "metadata": {},
     "output_type": "execute_result"
    }
   ],
   "source": [
    "df['CV']= df['Anual_Vol']/df['Anual_rate']  \n",
    "### 0.30/0.3202\n",
    "df['CV']"
   ]
  },
  {
   "cell_type": "markdown",
   "id": "e46c3cb0",
   "metadata": {},
   "source": [
    "Podemos decir que esta acción tiene un coeficiente muy alto, por lo que puede ser bueno relativamente hablando. Pero a la vez no tiene tanto valor esto, porque no hay un mejor activo con el cual pudieramos comparar este activo. Por lo que en general , este calculo no sirve si nomass buscamos conseguir información de un solo activo."
   ]
  },
  {
   "cell_type": "markdown",
   "id": "54d1053a",
   "metadata": {},
   "source": [
    "### Asimetría "
   ]
  },
  {
   "cell_type": "code",
   "execution_count": 28,
   "id": "734920c2",
   "metadata": {},
   "outputs": [
    {
     "data": {
      "text/plain": [
       "Ticker\n",
       "MSFT   -0.004066\n",
       "dtype: float64"
      ]
     },
     "execution_count": 28,
     "metadata": {},
     "output_type": "execute_result"
    }
   ],
   "source": [
    "daily_returns.skew()"
   ]
  },
  {
   "cell_type": "markdown",
   "id": "f3d78de9",
   "metadata": {},
   "source": [
    "Tiende a una asimetría negativa , por lo que tiende a que pueda haber perdidas, se busca que haya ganancias , asi que se puede buscar un activo mejor.\n"
   ]
  }
 ],
 "metadata": {
  "kernelspec": {
   "display_name": "Python 3",
   "language": "python",
   "name": "python3"
  },
  "language_info": {
   "codemirror_mode": {
    "name": "ipython",
    "version": 3
   },
   "file_extension": ".py",
   "mimetype": "text/x-python",
   "name": "python",
   "nbconvert_exporter": "python",
   "pygments_lexer": "ipython3",
   "version": "3.12.8"
  }
 },
 "nbformat": 4,
 "nbformat_minor": 5
}
