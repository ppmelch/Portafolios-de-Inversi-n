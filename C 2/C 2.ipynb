{
 "cells": [
  {
   "cell_type": "markdown",
   "id": "0c708686",
   "metadata": {},
   "source": [
    "# Portafolios de Inversión\n",
    "## Introducción a Pandas\n",
    "José Armando Melchor Soto"
   ]
  },
  {
   "cell_type": "markdown",
   "id": "7d491bc5",
   "metadata": {},
   "source": [
    "---"
   ]
  }
 ],
 "metadata": {
  "language_info": {
   "name": "python"
  }
 },
 "nbformat": 4,
 "nbformat_minor": 5
}
