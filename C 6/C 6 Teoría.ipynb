{
 "cells": [
  {
   "cell_type": "markdown",
   "id": "44b0b85c",
   "metadata": {},
   "source": [
    "# Portafolios de Inversión\n",
    "## Portafolios de Inversión II\n",
    "José Armando Melchor Soto\n",
    "\n",
    "---\n",
    "\n",
    "\n",
    "\n"
   ]
  },
  {
   "cell_type": "markdown",
   "id": "ed66da9d",
   "metadata": {},
   "source": [
    "### Estrategia de Inversión Pasiva"
   ]
  },
  {
   "cell_type": "markdown",
   "id": "5830bc06",
   "metadata": {},
   "source": [
    "- Enfoque de inversión a largo plazo que busca replicar el desempeño de un índice o sector de referencia.\n",
    "- La estrategia consiste en invertir en un solo activo , que refleja el comportamiento del indice o sector que deseas seguir.\n",
    "- Se fundamenta en la teoría del mercado eficiente , la cual establece que ....\n"
   ]
  },
  {
   "cell_type": "markdown",
   "id": "dcdf78c9",
   "metadata": {},
   "source": [
    "---"
   ]
  },
  {
   "cell_type": "markdown",
   "id": "c1c1d6ed",
   "metadata": {},
   "source": [
    "### Estrategia de Inversión Activa\n",
    "- Enfoque de inversión que busca superar el rendimiento de un índice de referencia o del mercado en general.\n",
    "- Implica realizar constante análisis y ajustes en un portafolio con el objetivo de generar retornos superiores a los de tu \"benchmark\".\n",
    "- En una estrategia de inversión activa , los gestores analizan activamente los mercados financieros , identifican oportunidades y toman decisiones de inversión basadas en su propio análisis y criterio.\n",
    "- Conlleva un nivel más alto de involucramiento y toma de decisiones por parte del gestor, lo que también implica comisiones más altas para el inversionista.\n"
   ]
  },
  {
   "cell_type": "markdown",
   "id": "b7730669",
   "metadata": {},
   "source": [
    "---"
   ]
  },
  {
   "cell_type": "markdown",
   "id": "9db6a4de",
   "metadata": {},
   "source": []
  }
 ],
 "metadata": {
  "language_info": {
   "name": "python"
  }
 },
 "nbformat": 4,
 "nbformat_minor": 5
}
