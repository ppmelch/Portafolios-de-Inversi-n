{
 "cells": [
  {
   "cell_type": "markdown",
   "id": "44b0b85c",
   "metadata": {},
   "source": [
    "# Portafolios de Inversión\n",
    "## Estrategias de Inversión\n",
    "José Armando Melchor Soto\n",
    "\n",
    "---\n",
    "\n",
    "\n",
    "\n"
   ]
  },
  {
   "cell_type": "markdown",
   "id": "ed66da9d",
   "metadata": {},
   "source": [
    "### Estrategia de Inversión Pasiva"
   ]
  },
  {
   "cell_type": "markdown",
   "id": "5830bc06",
   "metadata": {},
   "source": [
    "- Enfoque de inversión a largo plazo que busca replicar el desempeño de un índice o sector de referencia.\n",
    "\n",
    "- La estrategia consiste en invertir en un solo activo , que refleja el comportamiento del indice o sector que deseas seguir.\n",
    "\n",
    "- Se fundamenta en la teoría del mercado eficiente , la cual establece que la mayoría de los gestores de fondos no pueden superar consistentemente el rendimiento del mercado. Según la teoría, los precios de los activos ya reflejan toda la información disponible , lo que dificulta la generación de alpha.\n",
    "\n",
    "- Las ventajas de la estrategia es que tiende a tener costos bajos, en cuestión de tiempo y costos de operación. Además , el inversor pasivo se beneficia de la difersificación inherente en índice.\n",
    "\n"
   ]
  },
  {
   "cell_type": "markdown",
   "id": "dcdf78c9",
   "metadata": {},
   "source": [
    "---"
   ]
  },
  {
   "cell_type": "markdown",
   "id": "c1c1d6ed",
   "metadata": {},
   "source": [
    "### Estrategia de Inversión Activa\n",
    "- Enfoque de inversión que busca superar el rendimiento de un índice de referencia o del mercado en general.\n",
    "\n",
    "- Implica realizar constante análisis y ajustes en un portafolio con el objetivo de generar retornos superiores a los de tu \"benchmark\".\n",
    "\n",
    "- En una estrategia de inversión activa , los gestores analizan activamente los mercados financieros , identifican oportunidades y toman decisiones de inversión basadas en su propio \n",
    "análisis y criterio.\n",
    "\n",
    "- Conlleva un nivel más alto de involucramiento y toma de decisiones por parte del gestor, lo que también implica comisiones más altas para el inversionista.\n"
   ]
  },
  {
   "cell_type": "markdown",
   "id": "b7730669",
   "metadata": {},
   "source": [
    "---"
   ]
  },
  {
   "cell_type": "markdown",
   "id": "9db6a4de",
   "metadata": {},
   "source": [
    "### BenchMark\n",
    "- Un benchmark es un índice de referencia que se utiliza para medir y comparar el desempeño de una estrategia activa. Representa el comportamiento promedio de un grupo de activos o un mercado específico. Su importancia radica en:\n",
    "\n",
    "    - Medición de desempeño\n",
    "    - Análisis del alpha\n",
    "    - Gestión y análisis del riesgo\n",
    "\n",
    "- Ayudar a evaluar la eficacia y justificar la estrategia seguida por un gestor de portafolios, ayudando a determinar al inversionista si esta genera valor por encima del mercado.\n",
    "\n",
    "\n",
    "| **Sector** | **Benchmark** |**Descripción** |  \n",
    "|---------------|------------------|----------------|\n",
    "|Mercado Americano| S&P 500 | Representa el rendimiento de las 500 empresas más grandes de EE.UU., abarcando múltiples sectores. |\n",
    "|Tecnología       | Nasdaq-100 |  Representa a las 100 empresas más grandes del sector tecnológico que cotizan en el Nasdaq. |\n",
    "|Energía          | S&P 500 Energy | Compuesto por empresas de energía, incluidos los sectores de petróleo, gas y energías renovables.|\n",
    "|Consumer Discretionary | MSCI World Consumer Discretionary | Mide el rendimiento de empresas globales en sectores como automóviles, bienes de lujo y entretenimiento.|\n",
    "|Consumer Staples|MSCI World Consumer Staples | Agrupa empresas globales que producen bienes de consumo esencial, como alimentos, bebidas y productos de higiene.|\n",
    "|Finanzas | S&P 500 Financials | Índice que agrupa a las principales instituciones financieras, incluidos bancos y aseguradoras.|\n",
    "\n",
    "    "
   ]
  },
  {
   "cell_type": "markdown",
   "id": "399a8c65",
   "metadata": {},
   "source": [
    "---"
   ]
  },
  {
   "cell_type": "markdown",
   "id": "3b7eba68",
   "metadata": {},
   "source": [
    "### Comparando el Desempeño"
   ]
  },
  {
   "cell_type": "markdown",
   "id": "774f30e6",
   "metadata": {},
   "source": [
    "- Radio de Sharpe: Medida que evalúa el rendimiento de una inversión por encima de la tasa libre de riesgo(\"excess return\"), ajustando por el riesgo asumido.\n",
    "\n",
    "    - Cuanto mayor sea el RS , mejor se considera la estrategia.\n",
    "\n",
    "    - El RS indica cuantas unidades de rendimiento estamos obteniendo por unidad de riesgo asumido.\n",
    "\n",
    "    - El Radio de Sharpe es útil para comparar el desempeño de diferentes estrategias o portafolios de inversión.\n",
    "\n",
    "$$RS = \\frac{R_p - r_f}{\\sigma_{p}}$$\n"
   ]
  },
  {
   "cell_type": "markdown",
   "id": "529e7485",
   "metadata": {},
   "source": [
    "---"
   ]
  },
  {
   "cell_type": "markdown",
   "id": "26171908",
   "metadata": {},
   "source": [
    "### Activos alternativos\n",
    "- Los activos alternativos son los activos financieros que no pertenecen a los activos financieros tradicionales de inversión, los bonos (renta fija) y las acciones (renta variable).\n",
    "- Muchos de los activos alternativos tienen la ventaja de que la mayoría son tangibles. Es decir, que al invertir en bienes raíces, materias primas y obras de arte, se tiene propiedad de algo físico con un valor intrínseco.\n",
    "\n",
    "    - Ejemplo:\n",
    "        - Bienes raíces\n",
    "        - Fondos de capital privado\n",
    "        - Inversión en materias primas\n",
    "        - Inversión en obras de arte\n",
    "        - Criptomonedas\n",
    "        - Energía renovable\n",
    "        - Préstamos privados y crowdfunding\n",
    "        - Artículos coleccionables\n"
   ]
  },
  {
   "cell_type": "markdown",
   "id": "31059943",
   "metadata": {},
   "source": [
    "---"
   ]
  },
  {
   "cell_type": "markdown",
   "id": "5368d327",
   "metadata": {},
   "source": [
    "### Aversión al Riesgo\n",
    "\n",
    "- La aversión al riesgo es una medida relativa que refleja la preferencia de un inversionista por estrategias con menor riesgo, priorizando la estabilidad sobre la posibilidad de obtener mayores rendimientos.\n",
    "\n",
    "- Hay tres perfiles de riesgo:\n",
    "    - Amante de Riesgo: Prefiere mayor riesgo y mayor rendimiento.\n",
    "    - Neutral al Riesgo: Le da igual el riesgo siempre y cuando la relación riesgo y rendimiento sea buena.\n",
    "    - Averso al Riesgo: Prefiere el menor riesgo posible\n",
    "\n",
    "- Al ser relativo , es tarea del gestor en inversiones asignar un perfil de riesgo al cliente y recomendarle inversiones en concordancia con su perfil.\n",
    "\n",
    "\n",
    "\n",
    "\n",
    "##### Ejemplo: \n",
    "- Opción A (Averso): \n",
    "    - 750 pesos seguros\n",
    "\n",
    "- Opción B(Neutro):\n",
    "    - Lanzamiento de moneda con:\n",
    "     \n",
    "        $500 con 50% de prob ó $1000\n",
    "\n",
    "- Opción C (Amante): \n",
    "    - Obtener $1250 con 50% prob ó 0 y 50% prob\n"
   ]
  },
  {
   "cell_type": "markdown",
   "id": "6f56ffa1",
   "metadata": {},
   "source": [
    "---"
   ]
  },
  {
   "cell_type": "markdown",
   "id": "31c52c66",
   "metadata": {},
   "source": [
    "### Coeficiente de Aversión al Riesgo"
   ]
  },
  {
   "cell_type": "markdown",
   "id": "0df874e1",
   "metadata": {},
   "source": [
    "- Medida que evalúa numéricamente , cual es el grado de aversión de un activo financiero o portafolio.\n",
    "\n",
    "    - Un coeficiente de AR grande indica un activo para inversores con alta aversión al riesgo. Un valor bajo sugiere un activo para inversores con preferencia por el riesgo.\n",
    "\n",
    "- Se utiliza para recomendarle a un inversionista si invertir o no en un activo o portafolio , dada una evaluación previa realizada por el gestor al inversionista.\n",
    "\n",
    "$$AR = \\frac {R_p-r_f}{\\frac{1}{2} \\sigma_{p}^{2}}$$\n"
   ]
  },
  {
   "cell_type": "markdown",
   "id": "a11fd087",
   "metadata": {},
   "source": [
    "---"
   ]
  }
 ],
 "metadata": {
  "language_info": {
   "name": "python"
  }
 },
 "nbformat": 4,
 "nbformat_minor": 5
}
