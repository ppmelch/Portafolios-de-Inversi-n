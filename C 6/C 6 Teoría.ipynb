{
 "cells": [
  {
   "cell_type": "markdown",
   "id": "44b0b85c",
   "metadata": {},
   "source": [
    "# Portafolios de Inversión\n",
    "## Portafolios de Inversión II\n",
    "José Armando Melchor Soto\n",
    "\n",
    "---\n",
    "\n",
    "\n",
    "\n"
   ]
  },
  {
   "cell_type": "markdown",
   "id": "ed66da9d",
   "metadata": {},
   "source": [
    "### Estrategia de Inversión Pasiva"
   ]
  },
  {
   "cell_type": "markdown",
   "id": "5830bc06",
   "metadata": {},
   "source": [
    "- Enfoque de inversión a largo plazo que busca replicar el desempeño de un índice o sector de referencia.\n",
    "- La estrategia consiste en invertir en un solo activo , que refleja el comportamiento del indice o sector que deseas seguir.\n",
    "- Se fundamenta en la teoría del mercado eficiente , la cual establece que ....\n"
   ]
  },
  {
   "cell_type": "markdown",
   "id": "dcdf78c9",
   "metadata": {},
   "source": [
    "---"
   ]
  },
  {
   "cell_type": "markdown",
   "id": "c1c1d6ed",
   "metadata": {},
   "source": [
    "### Estrategia de Inversión Activa\n",
    "- Enfoque de inversión que busca superar el rendimiento de un índice de referencia o del mercado en general.\n",
    "- Implica realizar constante análisis y ajustes en un portafolio con el objetivo de generar retornos superiores a los de tu \"benchmark\".\n",
    "- En una estrategia de inversión activa , los gestores analizan activamente los mercados financieros , identifican oportunidades y toman decisiones de inversión basadas en su propio análisis y criterio.\n",
    "- Conlleva un nivel más alto de involucramiento y toma de decisiones por parte del gestor, lo que también implica comisiones más altas para el inversionista.\n"
   ]
  },
  {
   "cell_type": "markdown",
   "id": "b7730669",
   "metadata": {},
   "source": [
    "---"
   ]
  },
  {
   "cell_type": "markdown",
   "id": "9db6a4de",
   "metadata": {},
   "source": [
    "### BenchMark\n",
    "- Un benchmark es un índice de referencia que se utiliza para medir y comparar el desempeño de una estrategia activa. Representa el comportamiento promedio de un grupo de activos o un mercado específico. Su importancia radica en:\n",
    "\n",
    "    - Medición de desempeño\n",
    "    - Análisis del alpha\n",
    "    - Gestión y análisis del riesgo\n",
    "\n",
    "Ayudar a evaluar la eficacia y justificar la estrategia seguida por un gestor de portafolios, ayudando..."
   ]
  },
  {
   "cell_type": "markdown",
   "id": "399a8c65",
   "metadata": {},
   "source": [
    "---"
   ]
  },
  {
   "cell_type": "markdown",
   "id": "26171908",
   "metadata": {},
   "source": [
    "### Activos alternativos\n",
    "- Los activos alternativos son los activos financieros que no pertenecen a los activos financieros tradicionales de inversión, los bonos (renta fija) y las acciones (renta variable).\n",
    "- Muchos de los activos alternativos tienen la ventaja de que la mayoría son tangibles. Es decir, que al invertir en bienes raíces, materias primas y obras de arte, se tiene propiedad de algo físico con un valor intrínseco.\n",
    "\n",
    "    - Ejemplo:\n",
    "        - Bienes raíces\n",
    "        - Fondos de capital privado\n",
    "        - Inversión en materias primas\n",
    "        - Inversión en obras de arte\n",
    "        - Criptomonedas\n",
    "        - Energía renovable\n",
    "        - Préstamos privados y crowdfunding\n",
    "        - Artículos coleccionables\n"
   ]
  },
  {
   "cell_type": "markdown",
   "id": "31059943",
   "metadata": {},
   "source": [
    "---"
   ]
  },
  {
   "cell_type": "markdown",
   "id": "5368d327",
   "metadata": {},
   "source": [
    "### Aversión al Riesgo\n",
    "- Opción A (Averso): \n",
    "    - 750 pesos seguros\n",
    "\n",
    "- Opción B(Neutro):\n",
    "    - Lanzamiento de moneda con:\n",
    "     \n",
    "        $500 con 50% de prob ó $1000\n",
    "\n",
    "- Opción C (Amante): \n",
    "    - Obtener $1250 con 50% prob ó 0 y 50% prob\n"
   ]
  },
  {
   "cell_type": "markdown",
   "id": "6f56ffa1",
   "metadata": {},
   "source": []
  }
 ],
 "metadata": {
  "language_info": {
   "name": "python"
  }
 },
 "nbformat": 4,
 "nbformat_minor": 5
}
