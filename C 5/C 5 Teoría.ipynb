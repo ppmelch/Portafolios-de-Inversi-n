{
 "cells": [
  {
   "cell_type": "markdown",
   "id": "e78fc723",
   "metadata": {},
   "source": [
    "# Portafolios de Inversión\n",
    "## Portafolios de Inversión II\n",
    "José Armando Melchor Soto\n",
    "\n",
    "---\n",
    "\n",
    "\n",
    "\n"
   ]
  },
  {
   "cell_type": "markdown",
   "id": "146e8b9d",
   "metadata": {},
   "source": [
    "### Principio de Diversificación\n",
    "\n",
    "- La clase pasada vimos que, el riesgo de un portafolio es menor que la suma ponderada de los riesgos individuales de los activos que lo componen , esto se debe al principio de diversificación.\n",
    "\n",
    "    - Pincipio de Diversificación: Poseer diferentes activos financieros mitiga el riesgo de una cartera de inversión.\n",
    "\n",
    "- El principio de diversifición nos dice que los riesgos porpios de un activo...\n",
    "\n"
   ]
  },
  {
   "cell_type": "markdown",
   "id": "ca5f3f39",
   "metadata": {},
   "source": [
    "---"
   ]
  },
  {
   "cell_type": "markdown",
   "id": "2fd57dfd",
   "metadata": {},
   "source": [
    "### Riesgo Sistemático y no sistemático\n",
    "\n",
    "- El riesgo de un activo se compone de dos tipos de riesgos:\n",
    "\n",
    "    - Riesgo Sistemático (o de mercado): Tipo de riesgo inherente al mercado que no puede ser diversificable ya que afecta a todo el mercado en su conjunto.\n",
    "        - Pandemia COVID-19\n",
    "        - Crisis Económica\n",
    "        - Guerra Mundial\n",
    "\n",
    "    \n",
    "    - Riesgo No Sistemático (o Idiosincrático): Es el riesgo propio de cada empresa o sector y que solamente afecta a estos, por lo cual , al invertir en activos con diferentes características el riesgo de compañía se elimina.\n",
    "        - Crisis en el sector tecnológico\n",
    "        - Sequía en algún bien (gas, energía, maíz , etc)\n",
    "        - Una empresa que se declara en bancarrota o en impago\n",
    "        - Despidos de empresas de software"
   ]
  },
  {
   "cell_type": "markdown",
   "id": "360ea30c",
   "metadata": {},
   "source": [
    "---"
   ]
  },
  {
   "cell_type": "markdown",
   "id": "897f06e7",
   "metadata": {},
   "source": [
    "### Correlación\n",
    "- La mejor forma de medir el nivel de diversificación de una cartera es por medio del coeficiente de correlación (p) , el cual a diferencia de la covarianza , tiene una magnitud interpretable y nos indica numéricamente (con valores entre -1 y 1) y que tanto varía un activo con respecto a otro.\n",
    "Existen cinco casos:\n",
    "\n",
    "\n",
    "| **Caso**| **Interpretación** \n",
    "|-----------|-----------|\n",
    "| $$\\rho=1 $$ ||\n",
    "|  $$\\rho=1 $$ | |\n",
    "|  $$\\rho=1 $$ ||\n",
    "|  $$\\rho=1 $$ ||\n",
    "|  $$\\rho=1 $$ ||\n",
    "|  $$\\rho=1 $$ ||\n"
   ]
  },
  {
   "cell_type": "markdown",
   "id": "aef7f2e9",
   "metadata": {},
   "source": [
    "---\n"
   ]
  },
  {
   "cell_type": "markdown",
   "id": "012eed7e",
   "metadata": {},
   "source": []
  },
  {
   "cell_type": "markdown",
   "id": "4b654079",
   "metadata": {},
   "source": []
  }
 ],
 "metadata": {
  "language_info": {
   "name": "python"
  }
 },
 "nbformat": 4,
 "nbformat_minor": 5
}
