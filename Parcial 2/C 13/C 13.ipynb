{
 "cells": [
  {
   "cell_type": "markdown",
   "id": "7cfbca36",
   "metadata": {},
   "source": [
    "<img style=\"float: left; margin: 30px 15px 15px 15px;\" src=\"https://oci02.img.iteso.mx/Identidades-De-Instancia/ITESO/Logos%20ITESO/Logo-ITESO-Principal.jpg\" width=\"400\" height=\"600\" /> \n",
    "    \n",
    "    \n",
    "##  Selección de Estrategias de Inversión\n",
    "    \n",
    "###  Portafolios de Inversión\n",
    "\n",
    "    Mtro. Sean Nicolás González Vázquez"
   ]
  },
  {
   "cell_type": "markdown",
   "id": "995082bf",
   "metadata": {},
   "source": [
    "---\n",
    "\n",
    "###  Introducción\n",
    "    "
   ]
  },
  {
   "cell_type": "markdown",
   "id": "2d6eff4d",
   "metadata": {},
   "source": [
    "\n",
    "En la clase pasada, aprendimos a realizar el **backtesting** de un portafolio de inversión. Como observamos, esta herramienta es fundamental tanto para evaluar como para seleccionar estrategias de inversión. Sin embargo, aún nos falta profundizar en las métricas de desempeño que complementan este análisis.\n",
    "\n",
    "En esta clase, nuestro objetivo será extender los conocimientos adquiridos, introduciendo varias métricas financieras clave. Comenzaremos con el concepto de **Beta**, un indicador esencial en la inversión bursátil.\n",
    "\n",
    "Además, exploraremos otras métricas de desempeño de portafolios que nos permitirán cuantificar tanto el riesgo como el rendimiento desde diferentes perspectivas. Estas métricas incluyen:\n",
    "\n",
    "\n",
    "+ **Alfa de Jensen**\n",
    "\n",
    "+ **Ratio de Treynor**\n",
    "\n",
    "+ **Ratio de Sortino**\n",
    "\n",
    "\n",
    "\n",
    "\n",
    "Durante esta clase, veremos tanto la teoría detrás de estas métricas como su aplicación práctica. Calcularemos, analizaremos e interpretaremos estos ratios para un conjunto de activos financieros, permitiéndonos tomar decisiones más informadas en la gestión de portafolios. La correcta utilización de estas herramientas mejorará nuestra capacidad de tomar decisiones financieras."
   ]
  },
  {
   "cell_type": "markdown",
   "id": "dd01b9e0",
   "metadata": {},
   "source": [
    "---\n",
    "\n",
    "###  Función Backtesting\n",
    "\n",
    "\n",
    "\n",
    "\n",
    "Antes de calcular las métricas de desempeño, comenzaremos por **automatizar el proceso de backtesting** mediante una función en Python. El objetivo es **implementar el mismo portafolio** utilizado en la clase anterior, pero de manera **más eficiente**.\n",
    "\n",
    "Nuestra función recibirá los **precios de cierre ajustados de los activos** que componen la cartera, la **información del cierre del benchmark**, un **diccionario con los nombres de las estrategias por simular** y sus respectivos **pesos eficientes**, además del **capital a invertir**. Como resultado, la función **devolverá el histórico de la evolución de las estrategias**, junto con su **gráfica correspondiente**.\n"
   ]
  },
  {
   "cell_type": "code",
   "execution_count": 28,
   "id": "1e01de12",
   "metadata": {},
   "outputs": [],
   "source": [
    "# Importacion de Librerías\n",
    "import numpy as np\n",
    "import pandas as pd\n",
    "import yfinance as yf\n",
    "import matplotlib.pyplot as plt\n",
    "from scipy.optimize import minimize"
   ]
  },
  {
   "cell_type": "code",
   "execution_count": 29,
   "id": "f8405700",
   "metadata": {},
   "outputs": [],
   "source": [
    "# Descarga de Datos\n",
    "\n",
    "# Portafolio\n",
    "tickers=['AAPL', 'BRK-B', 'NKE', 'LLY'] \n",
    "# Precios de optimizacion\n",
    "opt_prices=yf.download(tickers, start='2021-06-20', end='2023-06-20', progress=False)['Close']\n",
    "\n",
    "# Precios de Backtesting\n",
    "bt_prices=yf.download(tickers, start='2023-06-20', end='2025-06-20', progress=False)['Close']\n",
    "\n",
    "# Benchmark\n",
    "benchmark=yf.download(['^GSPC'], start='2023-06-20', end='2025-06-20', progress=False)['Close']\n",
    "\n",
    "# Get Optimization Returns \n",
    "opt_returns=opt_prices.pct_change().dropna()"
   ]
  },
  {
   "cell_type": "code",
   "execution_count": 30,
   "id": "bb09df19",
   "metadata": {},
   "outputs": [],
   "source": [
    "# Optimización en Mínima Varianza\n",
    "def opt_min_var(rets):\n",
    "    \n",
    "    cov=rets.cov()\n",
    "    n_assets = len(rets.columns)\n",
    "    \n",
    "    var = lambda w: w.T @ cov @ w\n",
    "    \n",
    "    w0=np.ones(n_assets)/n_assets\n",
    "    \n",
    "    bounds=[(0, 1)]*n_assets\n",
    "    \n",
    "    constraint=lambda w: sum(w)-1\n",
    "    \n",
    "    result=minimize(fun=var, x0=w0, bounds=bounds, constraints={'fun': constraint, 'type': 'eq'}, tol=1e-16)\n",
    "    \n",
    "    return result.x"
   ]
  },
  {
   "cell_type": "code",
   "execution_count": 31,
   "id": "34409c38",
   "metadata": {},
   "outputs": [],
   "source": [
    "# Función para optimizar Sharpe\n",
    "def opt_max_sharpe(rets, rf):\n",
    "    \n",
    "    E=rets.mean()\n",
    "    cov=rets.cov()\n",
    "    n_assets = len(rets.columns)\n",
    "    \n",
    "    rs = lambda w: -((w.T @ E - rf/252) / np.sqrt(w.T @ cov @ w))\n",
    "    \n",
    "    w0=np.ones(n_assets)/n_assets\n",
    "    \n",
    "    bounds=[(0, 1)]*n_assets\n",
    "    \n",
    "    constraint=lambda w: sum(w)-1\n",
    "    \n",
    "    result=minimize(fun=rs, x0=w0, bounds=bounds, constraints={'fun': constraint, 'type': 'eq'}, tol=1e-16)\n",
    "    \n",
    "    return result.x"
   ]
  },
  {
   "cell_type": "code",
   "execution_count": 32,
   "id": "5a4a8041",
   "metadata": {},
   "outputs": [],
   "source": [
    "# Función Backtesting\n",
    "def static_backtesting(prices: pd.DataFrame, benchmark: pd.DataFrame, weights: dict, capital: float):\n",
    "    \n",
    "    # Obtener rendimientos de precios y benchmark\n",
    "    rets_assets = prices.pct_change().dropna()\n",
    "    rets_benchmark = benchmark.pct_change().dropna()\n",
    "    \n",
    "    # data frame vacio para llenar historia\n",
    "    \n",
    "    df = pd.DataFrame(index=rets_assets.index)\n",
    "    \n",
    "    # Obtener evolución para cada estrategia dada\n",
    "    for strategy in weights.keys():\n",
    "        # para benchmark\n",
    "        if strategy == 'benchmark':\n",
    "            temp = rets_benchmark + 1\n",
    "            temp.iloc[0]=capital\n",
    "            temp = temp.cumprod()\n",
    "            df[strategy] = temp.values            \n",
    "    \n",
    "        # para otras estrategias\n",
    "    \n",
    "        else:\n",
    "            temp = (rets_assets * weights.get(strategy)).sum(axis=1)+1\n",
    "            temp.iloc[0]=capital\n",
    "            temp = temp.cumprod()\n",
    "            df[strategy] = temp.values    \n",
    "\n",
    "\n",
    "        \n",
    "    # Graficar la evolucion para ambos portafolios\n",
    "    plt.figure(figsize=(12,6))\n",
    "    plt.plot(df, label=df.keys())\n",
    "    plt.title('Backtesting of Strategies')\n",
    "    plt.xlabel('Date')\n",
    "    plt.ylabel('Portafolio Value')\n",
    "    plt.legend()\n",
    "    plt.show()\n",
    "\n",
    "\n",
    "    return df"
   ]
  },
  {
   "cell_type": "code",
   "execution_count": 33,
   "id": "eabaf2ab",
   "metadata": {},
   "outputs": [],
   "source": [
    "# Optimizar pesos\n",
    "w_minvar = opt_min_var(opt_returns)\n",
    "w_maxsharpe = opt_max_sharpe(opt_returns, 0.045)"
   ]
  },
  {
   "cell_type": "code",
   "execution_count": 34,
   "id": "26359904",
   "metadata": {},
   "outputs": [],
   "source": [
    "# Diccionario con estrategias por probar\n",
    "w_dict = {\n",
    "    'Min Varianza': w_minvar,\n",
    "    'Max Sharpe': w_maxsharpe,\n",
    "    'Benchmark': 1\n",
    "}"
   ]
  },
  {
   "cell_type": "code",
   "execution_count": 35,
   "id": "737da9eb",
   "metadata": {},
   "outputs": [
    {
     "data": {
      "text/plain": [
       "dict_values([array([6.39935086e-03, 7.38281084e-01, 2.55319565e-01, 1.21972744e-19]), array([0.13430228, 0.        , 0.86569772, 0.        ]), 1])"
      ]
     },
     "execution_count": 35,
     "metadata": {},
     "output_type": "execute_result"
    }
   ],
   "source": [
    "w_dict.get('Min Varianza') # Obtener los pesos de una estrategia correspondiente\n",
    "w_dict.keys() # Acceder a los nombres de las estartegias\n",
    "w_dict.values() #Acceder a los valores (pesos) correspondientes a cada estrategia\n"
   ]
  },
  {
   "cell_type": "code",
   "execution_count": 36,
   "id": "13c70e78",
   "metadata": {},
   "outputs": [],
   "source": [
    "# Definir capital\n",
    "capital = 1000000"
   ]
  },
  {
   "cell_type": "code",
   "execution_count": 37,
   "id": "fae6fda4",
   "metadata": {},
   "outputs": [
    {
     "data": {
      "image/png": "[encoded data removed]",
      "text/plain": [
       "<Figure size 1200x600 with 1 Axes>"
      ]
     },
     "metadata": {},
     "output_type": "display_data"
    }
   ],
   "source": [
    "# Utilizar función de backtesting\n",
    "history = static_backtesting(bt_prices, benchmark, w_dict, capital)"
   ]
  },
  {
   "cell_type": "markdown",
   "id": "38344227",
   "metadata": {},
   "source": [
    "Además, necesitamos una **función para simplificar el cálculo de las métricas de desempeño**. Esta función recibirá un **data frame con la evolución histórica de las estrategias** y la **tasa libre de riesgo**, devolviendo un **data frame con las métricas de desempeño por estrategia**."
   ]
  },
  {
   "cell_type": "code",
   "execution_count": 38,
   "id": "402cc448",
   "metadata": {},
   "outputs": [],
   "source": [
    "# Función para las metricas de desempeño\n",
    "\n",
    "def performance_metrics(history, rf):\n",
    "        \n",
    "    # Rendimiento de los portafolios\n",
    "    rets = history.pct_change().dropna()\n",
    "\n",
    "    # En un DataFrame\n",
    "    metrics = pd.DataFrame(index=rets.columns)\n",
    "\n",
    "    # Métricas de Desempeño\n",
    "\n",
    "    # Rend Prom\n",
    "    metrics['Rendimiento Promedio anual ']= rend_prom = rets.mean() * 252 * 100  # Anualizado    \n",
    "    \n",
    "    # Volatilidad\n",
    "    metrics['Volatilidad anual']= Vol = rets.std() *np.sqrt(252) *100  \n",
    "\n",
    "    # Radio de Sharpe\n",
    "    metrics['Sharpe Ratio']= Ratio_sharpe = (metrics['Rendimiento Promedio anual '] - rf) / metrics['Volatilidad anual']\n",
    "    \n",
    "    # Downside \n",
    "    \n",
    "    metrics['Downside risk']= downside = (rets[rets<0].fillna(0)).std() *np.sqrt(252) *100  \n",
    "\n",
    "    # Upside\n",
    "    \n",
    "    metrics['Upside risk']=upside = (rets[rets>0].fillna(0)).std() *np.sqrt(252) *100\n",
    "\n",
    "    # Omega\n",
    "    metrics['Omega'] = Omega = (upside/downside)\n",
    "    \n",
    "\n",
    "    return metrics.T\n"
   ]
  },
  {
   "cell_type": "code",
   "execution_count": 39,
   "id": "b012821d",
   "metadata": {},
   "outputs": [
    {
     "data": {
      "text/html": [
       "<div>\n",
       "<style scoped>\n",
       "    .dataframe tbody tr th:only-of-type {\n",
       "        vertical-align: middle;\n",
       "    }\n",
       "\n",
       "    .dataframe tbody tr th {\n",
       "        vertical-align: top;\n",
       "    }\n",
       "\n",
       "    .dataframe thead th {\n",
       "        text-align: right;\n",
       "    }\n",
       "</style>\n",
       "<table border=\"1\" class=\"dataframe\">\n",
       "  <thead>\n",
       "    <tr style=\"text-align: right;\">\n",
       "      <th></th>\n",
       "      <th>Min Varianza</th>\n",
       "      <th>Max Sharpe</th>\n",
       "      <th>Benchmark</th>\n",
       "    </tr>\n",
       "  </thead>\n",
       "  <tbody>\n",
       "    <tr>\n",
       "      <th>Rendimiento Promedio anual</th>\n",
       "      <td>23.210841</td>\n",
       "      <td>30.807351</td>\n",
       "      <td>38.529366</td>\n",
       "    </tr>\n",
       "    <tr>\n",
       "      <th>Volatilidad anual</th>\n",
       "      <td>16.410556</td>\n",
       "      <td>31.112695</td>\n",
       "      <td>76.151985</td>\n",
       "    </tr>\n",
       "    <tr>\n",
       "      <th>Sharpe Ratio</th>\n",
       "      <td>1.140171</td>\n",
       "      <td>0.845550</td>\n",
       "      <td>0.446861</td>\n",
       "    </tr>\n",
       "    <tr>\n",
       "      <th>Downside risk</th>\n",
       "      <td>9.782016</td>\n",
       "      <td>17.979918</td>\n",
       "      <td>47.727439</td>\n",
       "    </tr>\n",
       "    <tr>\n",
       "      <th>Upside risk</th>\n",
       "      <td>10.324772</td>\n",
       "      <td>20.591499</td>\n",
       "      <td>47.108701</td>\n",
       "    </tr>\n",
       "    <tr>\n",
       "      <th>Omega</th>\n",
       "      <td>1.055485</td>\n",
       "      <td>1.145250</td>\n",
       "      <td>0.987036</td>\n",
       "    </tr>\n",
       "  </tbody>\n",
       "</table>\n",
       "</div>"
      ],
      "text/plain": [
       "                             Min Varianza  Max Sharpe  Benchmark\n",
       "Rendimiento Promedio anual      23.210841   30.807351  38.529366\n",
       "Volatilidad anual               16.410556   31.112695  76.151985\n",
       "Sharpe Ratio                     1.140171    0.845550   0.446861\n",
       "Downside risk                    9.782016   17.979918  47.727439\n",
       "Upside risk                     10.324772   20.591499  47.108701\n",
       "Omega                            1.055485    1.145250   0.987036"
      ]
     },
     "execution_count": 39,
     "metadata": {},
     "output_type": "execute_result"
    }
   ],
   "source": [
    "# Calcular métricas con la función\n",
    "Metricas = performance_metrics(history, 4.5)\n",
    "Metricas"
   ]
  },
  {
   "cell_type": "markdown",
   "id": "40edbb42",
   "metadata": {},
   "source": [
    "---\n",
    "\n",
    "###  Beta\n",
    "    \n",
    "La **beta es una medida de sensibilidad de un activo (o portafolio) ante fluctuaciones de mercado**. Es un indicador clave del riesgo sistemático, es decir, el riesgo que no se puede diversificar. Se calcula de la siguiente manera:\n",
    "\n",
    "$$\\beta = \\frac{cov(Activo, Mercado)}{var(Mercado)}$$\n",
    "\n",
    "$$\\beta = \\frac{\\sigma_{i, M}}{\\sigma^2_M}$$\n",
    "\n",
    "Donde:\n",
    "    \n",
    "+ $\\sigma_{i, M}$: Covarianza del activo (o portafolio) con el mercado.\n",
    "    \n",
    "+ $\\sigma^2_M$: Varianza del mercado.\n",
    "    \n",
    "La interpretación de la Beta depende de su valor, existen tres casos específicos:\n",
    "\n",
    "| **Valor de Beta** | **Interpretación**                                                                 |\n",
    "|------------------|-------------------------------------------------------------------------------------|\n",
    "| **Beta > 1**     | Activo o portafolio agresivo. Mayor impacto de los movimientos del mercado. |\n",
    "| **Beta = 1**     | El activo se mueve en línea con el mercado.                                          |\n",
    "| **Beta < 1**     | Activo o portafolio defensivo. Menor impacto de los movimientos del mercado. |\n",
    "\n"
   ]
  },
  {
   "cell_type": "code",
   "execution_count": 40,
   "id": "86fd4cc2",
   "metadata": {},
   "outputs": [],
   "source": [
    "# Obtener covarianzas de estrategias con el mercado\n",
    "rets_history = history.pct_change().dropna()\n",
    "cov_matrix = rets_history.cov()\n",
    "covs = cov_matrix['Benchmark']"
   ]
  },
  {
   "cell_type": "code",
   "execution_count": 41,
   "id": "2d1298a5",
   "metadata": {},
   "outputs": [],
   "source": [
    "# Obtener varianza del Mercado\n",
    "varianza_market = covs['Benchmark']"
   ]
  },
  {
   "cell_type": "code",
   "execution_count": 42,
   "id": "1fe4fb17",
   "metadata": {},
   "outputs": [
    {
     "data": {
      "text/plain": [
       "Min Varianza    0.164030\n",
       "Max Sharpe      0.292718\n",
       "Benchmark       1.000000\n",
       "Name: Benchmark, dtype: float64"
      ]
     },
     "execution_count": 42,
     "metadata": {},
     "output_type": "execute_result"
    }
   ],
   "source": [
    "# Obtener betas \n",
    "Betas = covs / varianza_market\n",
    "Betas"
   ]
  },
  {
   "cell_type": "markdown",
   "id": "dda9a415",
   "metadata": {},
   "source": [
    "---\n",
    "\n",
    "###  Alfa de Jensen"
   ]
  },
  {
   "cell_type": "markdown",
   "id": "db87a787",
   "metadata": {},
   "source": [
    "El Alfa de Jensen mide el **rendimiento de un portafolio en relación con su rendimiento esperado ajustado por riesgo sistématico**. Indica si el portafolio ha tenido un rendimiento superior o inferior al esperado.\n",
    "\n",
    "\n",
    "$$\\alpha_J = R_p - [ R_f + \\beta \\cdot (R_m - R_f)] $$\n",
    "\n",
    "Donde:\n",
    "- $R_p$: Rendimiento del portafolio\n",
    "- $R_f$: Tasa libre de riesgo\n",
    "- $\\beta$: Beta del portafolio en relación con el mercado\n",
    "- $R_m$: Rendimiento del mercado\n",
    "\n",
    "El Alfa de Jensen es una herramienta clave para evaluar el desempeño de un portafolio o gestor, mostrando si se están generando rendimientos por encima de lo que se esperaría de un gestor de portafolios en función del riesgo sistemático.\n",
    "\n",
    "\n",
    "En términos simples **indica que tan bueno es un gestor para generar rendimientos por encima a los esperados**. Se expresa en porcentaje."
   ]
  },
  {
   "cell_type": "code",
   "execution_count": 43,
   "id": "28a2cc89",
   "metadata": {},
   "outputs": [
    {
     "data": {
      "text/plain": [
       "Min Varianza    23.210841\n",
       "Max Sharpe      30.807351\n",
       "Benchmark       38.529366\n",
       "dtype: float64"
      ]
     },
     "execution_count": 43,
     "metadata": {},
     "output_type": "execute_result"
    }
   ],
   "source": [
    "# Obtener rendimientos para todos los portafolios (estrategias)\n",
    "R_p = rets_history.mean()*252*100\n",
    "R_p"
   ]
  },
  {
   "cell_type": "code",
   "execution_count": 44,
   "id": "64f2f71d",
   "metadata": {},
   "outputs": [],
   "source": [
    "# Definir tasa libre de riesgo\n",
    "rf = 4.5"
   ]
  },
  {
   "cell_type": "code",
   "execution_count": 45,
   "id": "5c3c90e2",
   "metadata": {},
   "outputs": [
    {
     "data": {
      "text/plain": [
       "38.52936616709743"
      ]
     },
     "execution_count": 45,
     "metadata": {},
     "output_type": "execute_result"
    }
   ],
   "source": [
    "# Obtener rendimiento de mercado\n",
    "R_m = R_p['Benchmark']\n",
    "R_m"
   ]
  },
  {
   "cell_type": "code",
   "execution_count": 46,
   "id": "44348836",
   "metadata": {},
   "outputs": [
    {
     "data": {
      "text/plain": [
       "Min Varianza    13.128998\n",
       "Max Sharpe      16.346330\n",
       "Benchmark        0.000000\n",
       "dtype: float64"
      ]
     },
     "execution_count": 46,
     "metadata": {},
     "output_type": "execute_result"
    }
   ],
   "source": [
    "# Obtener alfa de jensen\n",
    "\n",
    "alpha_Jensen = R_p - (rf+Betas * (R_m - rf))\n",
    "alpha_Jensen"
   ]
  },
  {
   "cell_type": "markdown",
   "id": "03c51a44",
   "metadata": {},
   "source": [
    "---\n",
    "\n",
    "###  Ratio de Treynor\n",
    "    \n",
    "El Ratio de Treynor es una métrica que mide el **rendimiento ajustado por riesgo sistemático** (Beta) de un portafolio. A diferencia del ratio de Sharpe, que ajusta el rendimiento en función de la volatilidad total, el ratio de Treynor solo toma en cuenta el riesgo que proviene del mercado, es decir, el riesgo no diversificable. Mide las unidades de rendimiento generadas por unidad de riesgo sistemático asumido.\n",
    "\n",
    "\n",
    "$$T = \\frac{R_p - R_f}{\\beta}$$\n",
    "\n",
    "Donde:\n",
    "    \n",
    "- $R_p$: Rendimiento del portafolio\n",
    "- $R_f$: Tasa libre de riesgo\n",
    "- $\\beta$: Beta del portafolio\n",
    "\n",
    "\n",
    "\n",
    "El ratio de Treynor es útil para comparar portafolios con diferentes niveles de exposición al riesgo sistemático. Un ratio más alto indica un mejor desempeño ajustado por el riesgo de mercado."
   ]
  },
  {
   "cell_type": "code",
   "execution_count": 47,
   "id": "c7b66781",
   "metadata": {},
   "outputs": [
    {
     "data": {
      "text/plain": [
       "Min Varianza    114.069509\n",
       "Max Sharpe       89.872559\n",
       "Benchmark        34.029366\n",
       "dtype: float64"
      ]
     },
     "execution_count": 47,
     "metadata": {},
     "output_type": "execute_result"
    }
   ],
   "source": [
    "# Obtener Ratio de Treynor\n",
    "Ratio_Treynor = (R_p - rf) / Betas\n",
    "Ratio_Treynor"
   ]
  },
  {
   "cell_type": "code",
   "execution_count": 48,
   "id": "47a06cf8",
   "metadata": {},
   "outputs": [
    {
     "data": {
      "text/plain": [
       "Min Varianza    1.140171\n",
       "Max Sharpe      0.845550\n",
       "Benchmark       0.446861\n",
       "Name: Sharpe Ratio, dtype: float64"
      ]
     },
     "execution_count": 48,
     "metadata": {},
     "output_type": "execute_result"
    }
   ],
   "source": [
    "Ratio_Sharpe = Metricas.loc['Sharpe Ratio']\n",
    "Ratio_Sharpe"
   ]
  },
  {
   "cell_type": "markdown",
   "id": "ddbe2740",
   "metadata": {},
   "source": [
    "---\n",
    "\n",
    "###  Ratio de Sortino\n",
    "    \n",
    "    \n",
    "El Ratio de Sortino es una variación del ratio de Sharpe que ajusta el **rendimiento de un portafolio en función de su riesgo a la baja** (downside risk), es decir, solo tiene en cuenta la volatilidad de los rendimientos que están por debajo de un cierto umbral o rendimiento objetivo. Mide las unidades de rendimiento generadas por unidad de downside risk asumida.\n",
    "\n",
    "$$S = \\frac{R_p - R_f}{\\sigma_d}$$\n",
    "\n",
    "Donde:\n",
    "- $R_p$:  Rendimiento del portafolio\n",
    "- $R_f$:  Tasa libre de riesgo\n",
    "- $\\sigma_d$:  Desviación estándar de los rendimientos por debajo de un rendimiento objetivo (volatilidad negativa)\n",
    "\n",
    "El ratio de Sortino solo penaliza el riesgo de caída del rendimiento, lo que lo hace más preciso cuando se evalúa el riesgo relacionado con las pérdidas en lugar de la volatilidad total."
   ]
  },
  {
   "cell_type": "code",
   "execution_count": 51,
   "id": "ba73baa1",
   "metadata": {},
   "outputs": [
    {
     "data": {
      "text/plain": [
       "Min Varianza     9.782016\n",
       "Max Sharpe      17.979918\n",
       "Benchmark       47.727439\n",
       "Name: Downside risk, dtype: float64"
      ]
     },
     "execution_count": 51,
     "metadata": {},
     "output_type": "execute_result"
    }
   ],
   "source": [
    "# Obtener downside risk\n",
    "Downside_Risk = Metricas.loc['Downside risk']\n",
    "Downside_Risk\n"
   ]
  },
  {
   "cell_type": "code",
   "execution_count": 52,
   "id": "776d38bb",
   "metadata": {},
   "outputs": [
    {
     "data": {
      "text/plain": [
       "Min Varianza    1.912780\n",
       "Max Sharpe      1.463152\n",
       "Benchmark       0.712994\n",
       "dtype: float64"
      ]
     },
     "execution_count": 52,
     "metadata": {},
     "output_type": "execute_result"
    }
   ],
   "source": [
    "# Obtener Ratio de Sortino\n",
    "Ratio_Sortino = (R_p - rf) / Downside_Risk\n",
    "Ratio_Sortino\n"
   ]
  },
  {
   "cell_type": "code",
   "execution_count": null,
   "id": "69ec21c0",
   "metadata": {},
   "outputs": [],
   "source": []
  }
 ],
 "metadata": {
  "kernelspec": {
   "display_name": "Python 3",
   "language": "python",
   "name": "python3"
  },
  "language_info": {
   "codemirror_mode": {
    "name": "ipython",
    "version": 3
   },
   "file_extension": ".py",
   "mimetype": "text/x-python",
   "name": "python",
   "nbconvert_exporter": "python",
   "pygments_lexer": "ipython3",
   "version": "3.12.8"
  }
 },
 "nbformat": 4,
 "nbformat_minor": 5
}
