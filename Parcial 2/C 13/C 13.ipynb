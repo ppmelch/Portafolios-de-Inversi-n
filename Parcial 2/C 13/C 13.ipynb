{
 "cells": [
  {
   "cell_type": "markdown",
   "id": "52342875",
   "metadata": {},
   "source": [
    "<img style=\"float: left; margin: 30px 15px 15px 15px;\" src=\"https://oci02.img.iteso.mx/Identidades-De-Instancia/ITESO/Logos%20ITESO/Logo-ITESO-Principal.jpg\" width=\"400\" height=\"600\" /> \n",
    "    \n",
    "    \n",
    "## Backtesting\n",
    "    \n",
    "### Portafolios de Inversión\n",
    "\n",
    "    Mtro. Sean Nicolás González Vázquez"
   ]
  },
  {
   "cell_type": "markdown",
   "id": "ad1613a4",
   "metadata": {},
   "source": [
    "---\n",
    "\n",
    "### 1.- Introducción\n",
    "    \n",
    "<img src=\"https://static.seekingalpha.com/uploads/2017/5/12/681960-1494615735398704.png\" style=\"float: right; margin-left: 20px;\" width=\"500\"/>\n",
    "    \n",
    "+ El **backtesting** es el proceso de **simular una estrategia de inversión con el objetivo de evaluar su viabilidad al analizar su comportamiento histórico** utilizando datos pasados. Este método permite medir cómo se hubiera comportado un portafolio si se hubiera implementado en el pasado.\n",
    "\n",
    "\n",
    "+ El backtesting permite **evaluar el potencial de una estrategia** al analizar su capacidad para generar rendimientos consistentes y mantener **métricas de desempeño** robustas. Además, es una herramienta clave para **seleccionar estrategias de inversión** y detectar posibles debilidades antes de implementarlas en tiempo real.  \n",
    "\n",
    "\n",
    "+ **Hipótesis del mercado eficiente:** El backtesting asume que los precios reflejan toda la información disponible, pero también que es posible encontrar ineficiencias en los precios que puedan ser explotadas (es posible generar *Alpha*).\n",
    "\n",
    "\n",
    "+ **Overfitting:** Es el **riesgo de sobre-ajustar la estrategia demasiado bien a los datos históricos**, en portafolios, esta directamente relacionada con el **look-ahead bias**. El overfitting causa que los resultados sean muy buenos en backtesting, pero muy malos en la implementación real.\n",
    "\n",
    "\n",
    "#### Conceptos clave en un Backtesting\n",
    "\n",
    "<img src=\"https://assets-global.website-files.com/5fba23eb8789c3c7fcfb5f31/615b914ea1e51ed044882902_Strategy%20Backtesting%20Performance%20Metrics.jpg\" style=\"float: left; margin-left: 20px;\" width=\"350\"/>\n",
    "\n",
    "\n",
    "**Horizonte de inversión:** El período sobre el cual se realiza el backtesting.  \n",
    "    \n",
    "    \n",
    "**Capital Inicial:** El monto asignado para iniciar la inversión.\n",
    "  \n",
    "  \n",
    "**Costos transaccionales:** Costo por la compra/venta de activos, comisión del broker, IVA, ISR, etc. Estos deben incluirse para hacer el backtesting más realista.  \n",
    "  \n",
    "\n",
    "\n",
    "**Benchmark:** Al realizar el backtesting para una estrategia de inversión, siempre es recomendable además de comparar contra otras estrategias, competir contra una estrategia de inversión pasiva, es decir, estar invertido en el *benchmark*.    \n",
    "  \n",
    "  \n",
    "\n",
    "**Métricas de Desempeño:** Para medir el desempeño de una estrategia en backtesting, es recomendable comparar utilizando métricas de desempeño como el rendimiento anual promedio, el rendimiento efectivo, la volatilidad, el upside y downside risk. Existen otras métricas *(que veremos la siguiente clase)* que nos pueden ayudar, como el Ratio de Sortino, la Beta, el Ratio de Treynor, el VaR, entre otras. \n",
    "\n",
    "\n",
    "\n",
    "#### Pasos para realizar un Backtesting \n",
    "    \n",
    "    \n",
    "**1.- Definir los Activos del Portafolio**\n",
    "\n",
    "    Especificar los activos que serán parte del portafolio.  \n",
    "    \n",
    "    Descargar los datos históricos (precios de cierre ajustado) de los activos.  \n",
    "    \n",
    "    \n",
    "    \n",
    "**2.- Selección de Estrategias y Optimización de Ponderaciones** \n",
    "    \n",
    "    Describir claramente la estrategia de inversión (Activa o Pasiva) y el algoritmo de Asset Allocation \n",
    "    que se utilizará.\n",
    "\n",
    "    Con los datos históricos obtenidos, calcular las ponderaciones eficientes para las estrategias que \n",
    "    se desean simular.\n",
    "    \n",
    "**3.- Simular el comportamiento del Portafolio**\n",
    "\n",
    "    Implementar la estrategia definida en el paso anterior con los datos históricos.  \n",
    "    \n",
    "    Realizar operaciones de compra y venta según las reglas predefinidas.  \n",
    "    \n",
    "    Incorporar Costos Transaccionales.  \n",
    "    \n",
    "    Incluir comisiones, impuestos, spreads de compra/venta, impacto del Tipo de Cambio para simular\n",
    "    con precisión el desempeño de la o las estrategias.\n",
    "\n",
    "**4.- Métricas de Desempeño**\n",
    "    \n",
    "    Evaluar el desempeño del portafolio usando distintas métricas.\n",
    "\n",
    "**5.- Toma de Decisiones Financieras**\n",
    "\n",
    "    Analizar los resultados del backtesting.   \n",
    "    \n",
    "    Concluir acerca del desempeño de las estrategias, ¿En que aspectos destaca cada una de ellas? ¿Qué factores hay que considerar?\n",
    "    \n",
    "    Seleccionar la estrategia de inversión que mejor se adecúe a nuestros objetivos y características.  \n",
    "    \n",
    "    \n",
    "**6.- Re-Optimización de Ponderaciones del Portafolios**\n",
    "\n",
    "    Con la estrategia de Asset Allocation seleccionada, se re-optimizan los pesos para la implementación\n",
    "    del portafolio."
   ]
  },
  {
   "cell_type": "markdown",
   "id": "af086f15",
   "metadata": {},
   "source": [
    "> **Esta breve introducción nos brinda una visión general sobre cómo implementar un backtesting, destacando su valor como una herramienta financiera para evaluar y seleccionar estrategias de asignación de activos. ¡Es momento de ponerla en práctica!**"
   ]
  },
  {
   "cell_type": "markdown",
   "id": "9cae7cc0",
   "metadata": {},
   "source": [
    "--- \n",
    "\n",
    "###  2.- **Backtesting Implementation**\n",
    "\n",
    "    \n",
    "\n",
    "Como mencionamos anteriormente, el objetivo del backtesting es simular el desempeño de un portafolio de inversión. Aunque el proceso es sencillo en su lógica, es crucial comprender sus detalles, así como sus ventajas y desventajas.\n",
    "\n",
    "En este caso, supondremos que deseamos elegir entre dos estrategias, **Máximo Ratio de Sharpe** o **Mínima Varianza**, para aplicarlas a un portafolio que crearemos.\n",
    "\n",
    "Comencemos descargando los datos de nuestro portafolio, compuesto por **Apple**, **Berkshire Hathaway**, **Nike** y **Eli Lilly & Co**. Los datos abarcarán el período desde el `01/01/2020` hasta `hoy`.\n"
   ]
  },
  {
   "cell_type": "code",
   "execution_count": 64,
   "id": "88d2adeb",
   "metadata": {},
   "outputs": [],
   "source": [
    "# Importacion de Librerías\n",
    "import numpy as np\n",
    "import pandas as pd\n",
    "import yfinance as yf\n",
    "import matplotlib.pyplot as plt\n",
    "from scipy.optimize import minimize"
   ]
  },
  {
   "cell_type": "code",
   "execution_count": 65,
   "id": "0e0e3df2",
   "metadata": {},
   "outputs": [
    {
     "name": "stderr",
     "output_type": "stream",
     "text": [
      "[*********************100%***********************]  4 of 4 completed\n"
     ]
    }
   ],
   "source": [
    "# Descarga de Datos\n",
    "tickers=['AAPL', 'BRK-B', 'NKE', 'LLY']\n",
    "prices=yf.download(tickers, start='2020-01-01', end= '2025-06-20')['Close']"
   ]
  },
  {
   "cell_type": "code",
   "execution_count": 66,
   "id": "24c7c5a8",
   "metadata": {},
   "outputs": [],
   "source": [
    "# Obtengamos rendimientos diarios\n",
    "rets_assets = prices.pct_change().dropna()"
   ]
  },
  {
   "cell_type": "markdown",
   "id": "dfaa0eb8",
   "metadata": {},
   "source": [
    "    Ahora hay que obtener los pesos eficientes, tanto en mínima varianza como en máximo Sharpe."
   ]
  },
  {
   "cell_type": "code",
   "execution_count": 67,
   "id": "a64963ee",
   "metadata": {},
   "outputs": [],
   "source": [
    "# Definir estrategias, para posteriormente optimizar pesos\n",
    "\n",
    "# Función para optimizar Min Var\n",
    "def opt_min_var(rets):\n",
    "    \n",
    "    cov=rets.cov()\n",
    "    n_assets = len(rets.columns)\n",
    "    \n",
    "    var = lambda w: w.T @ cov @ w\n",
    "    \n",
    "    w0=np.ones(n_assets)/n_assets\n",
    "    \n",
    "    bounds=[(0, 1)]*n_assets\n",
    "    \n",
    "    constraint=lambda w: sum(w)-1\n",
    "    \n",
    "    result=minimize(fun=var, x0=w0, bounds=bounds, constraints={'fun': constraint, 'type': 'eq'}, tol=1e-16)\n",
    "    \n",
    "    return result.x\n",
    "    "
   ]
  },
  {
   "cell_type": "code",
   "execution_count": 68,
   "id": "263047cf",
   "metadata": {},
   "outputs": [
    {
     "data": {
      "text/plain": [
       "{'AAPL': 0.045397632041406316,\n",
       " 'BRK-B': 0.6986884414136542,\n",
       " 'LLY': 0.19223561179766102,\n",
       " 'NKE': 0.06367831474727852}"
      ]
     },
     "execution_count": 68,
     "metadata": {},
     "output_type": "execute_result"
    }
   ],
   "source": [
    "w_min_var = opt_min_var(rets_assets)    \n",
    "\n",
    "dict_min_var = dict(zip(rets_assets.columns, w_min_var))\n",
    "dict_min_var"
   ]
  },
  {
   "cell_type": "code",
   "execution_count": 69,
   "id": "280a6e4a",
   "metadata": {},
   "outputs": [],
   "source": [
    "# Función para optimizar Sharpe\n",
    "def opt_max_sharpe(rets, rf):\n",
    "    \n",
    "    E=rets.mean()\n",
    "    cov=rets.cov()\n",
    "    n_assets = len(rets.columns)\n",
    "    \n",
    "    rs = lambda w: -((w.T @ E - rf/252) / np.sqrt(w.T @ cov @ w))\n",
    "    \n",
    "    w0=np.ones(n_assets)/n_assets\n",
    "    \n",
    "    bounds=[(0, 1)]*n_assets\n",
    "    \n",
    "    constraint=lambda w: sum(w)-1\n",
    "    \n",
    "    result=minimize(fun=rs, x0=w0, bounds=bounds, constraints={'fun': constraint, 'type': 'eq'}, tol=1e-16)\n",
    "    \n",
    "    return result.x"
   ]
  },
  {
   "cell_type": "code",
   "execution_count": 70,
   "id": "80ae2ce8",
   "metadata": {},
   "outputs": [
    {
     "data": {
      "text/plain": [
       "{'AAPL': 0.1814716008764298,\n",
       " 'BRK-B': 0.11842888443584554,\n",
       " 'LLY': 0.7000995146877247,\n",
       " 'NKE': 0.0}"
      ]
     },
     "execution_count": 70,
     "metadata": {},
     "output_type": "execute_result"
    }
   ],
   "source": [
    "# Obtener ponderaciones en las estrategias que queremos evaluar \n",
    "w_max_sharpe = opt_max_sharpe(rets_assets, rf=0.045)\n",
    "dict_max_sharpe = dict(zip(rets_assets.columns, w_max_sharpe))\n",
    "dict_max_sharpe"
   ]
  },
  {
   "cell_type": "markdown",
   "id": "b0e7a526",
   "metadata": {},
   "source": [
    "Con los pesos obtenidos para el portafolio eficiente, simularemos su evolución asumiendo un capital inicial de **USD $1,000,000**. Nuestro objetivo es calcular cómo habría crecido ese millón de dólares desde la fecha inicial hasta la fecha final, basándonos en los rendimientos históricos del portafolio.\n",
    "\n",
    "Para ello, es necesario calcular el valor del portafolio en cada momento, siguiendo la lógica descrita a continuación.\n",
    "\n",
    "El valor del portafolio en el primer día será simplemente el capital inicial:\n",
    "\n",
    "$$V_{port, 0} = Cap_{inicial}$$\n",
    "\n",
    "En el segundo día:\n",
    "\n",
    "$$V_{port, 1} = V_{port, 0} \\times (1 + r_{port, 1})$$\n",
    "\n",
    "Para el tercer día:\n",
    "\n",
    "$$V_{port, 2} = V_{port, 1} \\times (1 + r_{port, 2}) = V_{port, 0} \\times (1 + r_{port, 1}) \\times (1 + r_{port, 2})$$\n",
    "\n",
    "Y para el cuarto día:\n",
    "\n",
    "$$V_{port, 3} = V_{port, 2} \\times (1 + r_{port, 3}) = V_{port, 0} \\times (1 + r_{port, 1}) \\times (1 + r_{port, 2}) \\times (1 + r_{port, 3})$$\n",
    "\n",
    "De este modo, podemos generalizar que el valor del portafolio en el día $n$ es el capital inicial multiplicado por el producto de los rendimientos diarios acumulados:\n",
    "\n",
    "$$V_{port,n} = Cap_{inicial} \\times \\prod_{i=1}^{n} (1 + r_{port,i})$$\n",
    "\n",
    "Recuerda que el rendimiento diario del portafolio se calcula como la suma ponderada de los rendimientos individuales de cada activo $j$, de acuerdo con sus respectivos pesos en el portafolio:\n",
    "\n",
    "$$r_{port} = \\sum_{j=1}^{n} w_j r_j$$\n",
    "\n",
    "    Ahora implementaremos este proceso paso a paso y graficaremos la evolución de las dos estrategias. \n",
    "    No olvides que siempre es útil comparar el desempeño del portafolio contra un benchmark.\n"
   ]
  },
  {
   "cell_type": "code",
   "execution_count": 71,
   "id": "3919b1f3",
   "metadata": {},
   "outputs": [
    {
     "data": {
      "text/plain": [
       "1000000"
      ]
     },
     "execution_count": 71,
     "metadata": {},
     "output_type": "execute_result"
    }
   ],
   "source": [
    "# Establecer capital inicial \n",
    "C_i = 1000000\n",
    "C_i"
   ]
  },
  {
   "cell_type": "code",
   "execution_count": 72,
   "id": "48129ea9",
   "metadata": {},
   "outputs": [
    {
     "name": "stderr",
     "output_type": "stream",
     "text": [
      "C:\\Users\\ppmel\\AppData\\Local\\Temp\\ipykernel_20072\\2194490930.py:4: FutureWarning: Series.__setitem__ treating keys as positions is deprecated. In a future version, integer keys will always be treated as labels (consistent with DataFrame behavior). To set a value by position, use `ser.iloc[pos] = value`\n",
      "  evol_minvar[0] = C_i  # Se mete el capital inicial en el primer día\n"
     ]
    },
    {
     "data": {
      "text/plain": [
       "Date\n",
       "2020-01-03    1.000000e+06\n",
       "2020-01-06    1.003523e+06\n",
       "2020-01-07    1.000336e+06\n",
       "2020-01-08    1.002881e+06\n",
       "2020-01-09    1.015238e+06\n",
       "dtype: float64"
      ]
     },
     "execution_count": 72,
     "metadata": {},
     "output_type": "execute_result"
    }
   ],
   "source": [
    "# Obtener evolucion del portafolio para cada estrategia\n",
    "# Estrategia 1.- Min Var\n",
    "evol_minvar = (rets_assets * w_min_var).sum(axis=1)+1\n",
    "evol_minvar[0] = C_i  # Se mete el capital inicial en el primer día\n",
    "\n",
    "evol_minvar= evol_minvar.cumprod()\n",
    "evol_minvar.head()"
   ]
  },
  {
   "cell_type": "code",
   "execution_count": 73,
   "id": "5af6ee79",
   "metadata": {},
   "outputs": [
    {
     "name": "stderr",
     "output_type": "stream",
     "text": [
      "C:\\Users\\ppmel\\AppData\\Local\\Temp\\ipykernel_20072\\2498611054.py:3: FutureWarning: Series.__setitem__ treating keys as positions is deprecated. In a future version, integer keys will always be treated as labels (consistent with DataFrame behavior). To set a value by position, use `ser.iloc[pos] = value`\n",
      "  evol_maxsharpe[0] = C_i  # Se mete el capital inicial en el primer día\n"
     ]
    },
    {
     "data": {
      "text/plain": [
       "Date\n",
       "2020-01-03    1.000000e+06\n",
       "2020-01-06    1.004473e+06\n",
       "2020-01-07    1.004385e+06\n",
       "2020-01-08    1.013721e+06\n",
       "2020-01-09    1.030772e+06\n",
       "dtype: float64"
      ]
     },
     "execution_count": 73,
     "metadata": {},
     "output_type": "execute_result"
    }
   ],
   "source": [
    "# Estrategia 2.- Max Sharpe\n",
    "evol_maxsharpe = (rets_assets * w_max_sharpe).sum(axis=1)+1\n",
    "evol_maxsharpe[0] = C_i  # Se mete el capital inicial en el primer día\n",
    "evol_maxsharpe= evol_maxsharpe.cumprod()\n",
    "evol_maxsharpe.head()"
   ]
  },
  {
   "cell_type": "code",
   "execution_count": 74,
   "id": "9171262e",
   "metadata": {},
   "outputs": [
    {
     "data": {
      "text/html": [
       "<div>\n",
       "<style scoped>\n",
       "    .dataframe tbody tr th:only-of-type {\n",
       "        vertical-align: middle;\n",
       "    }\n",
       "\n",
       "    .dataframe tbody tr th {\n",
       "        vertical-align: top;\n",
       "    }\n",
       "\n",
       "    .dataframe thead th {\n",
       "        text-align: right;\n",
       "    }\n",
       "</style>\n",
       "<table border=\"1\" class=\"dataframe\">\n",
       "  <thead>\n",
       "    <tr style=\"text-align: right;\">\n",
       "      <th>Ticker</th>\n",
       "      <th>^GSPC</th>\n",
       "    </tr>\n",
       "    <tr>\n",
       "      <th>Date</th>\n",
       "      <th></th>\n",
       "    </tr>\n",
       "  </thead>\n",
       "  <tbody>\n",
       "    <tr>\n",
       "      <th>2020-01-03</th>\n",
       "      <td>1.000000e+06</td>\n",
       "    </tr>\n",
       "    <tr>\n",
       "      <th>2020-01-06</th>\n",
       "      <td>1.003533e+06</td>\n",
       "    </tr>\n",
       "    <tr>\n",
       "      <th>2020-01-07</th>\n",
       "      <td>1.000720e+06</td>\n",
       "    </tr>\n",
       "    <tr>\n",
       "      <th>2020-01-08</th>\n",
       "      <td>1.005626e+06</td>\n",
       "    </tr>\n",
       "    <tr>\n",
       "      <th>2020-01-09</th>\n",
       "      <td>1.012319e+06</td>\n",
       "    </tr>\n",
       "  </tbody>\n",
       "</table>\n",
       "</div>"
      ],
      "text/plain": [
       "Ticker             ^GSPC\n",
       "Date                    \n",
       "2020-01-03  1.000000e+06\n",
       "2020-01-06  1.003533e+06\n",
       "2020-01-07  1.000720e+06\n",
       "2020-01-08  1.005626e+06\n",
       "2020-01-09  1.012319e+06"
      ]
     },
     "execution_count": 74,
     "metadata": {},
     "output_type": "execute_result"
    }
   ],
   "source": [
    "# Estrategia 3.- Pasiva\n",
    "\n",
    "benchmark = yf.download('^GSPC', start ='2020-01-01', end='2025-06-20', progress=False)['Close']\n",
    "\n",
    "benchmark_rets = benchmark.pct_change().dropna()+1\n",
    "benchmark_rets.iloc[0] = C_i  # Se mete el capital inicial en el primer día\n",
    "benchmark_rets = benchmark_rets.cumprod()\n",
    "benchmark_rets.head()\n",
    "\n"
   ]
  },
  {
   "cell_type": "code",
   "execution_count": 75,
   "id": "03dfa1c5",
   "metadata": {},
   "outputs": [
    {
     "data": {
      "text/html": [
       "<div>\n",
       "<style scoped>\n",
       "    .dataframe tbody tr th:only-of-type {\n",
       "        vertical-align: middle;\n",
       "    }\n",
       "\n",
       "    .dataframe tbody tr th {\n",
       "        vertical-align: top;\n",
       "    }\n",
       "\n",
       "    .dataframe thead th {\n",
       "        text-align: right;\n",
       "    }\n",
       "</style>\n",
       "<table border=\"1\" class=\"dataframe\">\n",
       "  <thead>\n",
       "    <tr style=\"text-align: right;\">\n",
       "      <th></th>\n",
       "      <th>Min Var</th>\n",
       "      <th>Max Sharpe</th>\n",
       "      <th>Pasiva</th>\n",
       "    </tr>\n",
       "    <tr>\n",
       "      <th>Date</th>\n",
       "      <th></th>\n",
       "      <th></th>\n",
       "      <th></th>\n",
       "    </tr>\n",
       "  </thead>\n",
       "  <tbody>\n",
       "    <tr>\n",
       "      <th>2020-01-03</th>\n",
       "      <td>1.000000e+06</td>\n",
       "      <td>1.000000e+06</td>\n",
       "      <td>1.000000e+06</td>\n",
       "    </tr>\n",
       "    <tr>\n",
       "      <th>2020-01-06</th>\n",
       "      <td>1.003523e+06</td>\n",
       "      <td>1.004473e+06</td>\n",
       "      <td>1.003533e+06</td>\n",
       "    </tr>\n",
       "    <tr>\n",
       "      <th>2020-01-07</th>\n",
       "      <td>1.000336e+06</td>\n",
       "      <td>1.004385e+06</td>\n",
       "      <td>1.000720e+06</td>\n",
       "    </tr>\n",
       "    <tr>\n",
       "      <th>2020-01-08</th>\n",
       "      <td>1.002881e+06</td>\n",
       "      <td>1.013721e+06</td>\n",
       "      <td>1.005626e+06</td>\n",
       "    </tr>\n",
       "    <tr>\n",
       "      <th>2020-01-09</th>\n",
       "      <td>1.015238e+06</td>\n",
       "      <td>1.030772e+06</td>\n",
       "      <td>1.012319e+06</td>\n",
       "    </tr>\n",
       "  </tbody>\n",
       "</table>\n",
       "</div>"
      ],
      "text/plain": [
       "                 Min Var    Max Sharpe        Pasiva\n",
       "Date                                                \n",
       "2020-01-03  1.000000e+06  1.000000e+06  1.000000e+06\n",
       "2020-01-06  1.003523e+06  1.004473e+06  1.003533e+06\n",
       "2020-01-07  1.000336e+06  1.004385e+06  1.000720e+06\n",
       "2020-01-08  1.002881e+06  1.013721e+06  1.005626e+06\n",
       "2020-01-09  1.015238e+06  1.030772e+06  1.012319e+06"
      ]
     },
     "execution_count": 75,
     "metadata": {},
     "output_type": "execute_result"
    }
   ],
   "source": [
    "evolution_all = pd.DataFrame(index=benchmark_rets.index)\n",
    "evolution_all['Min Var'] = evol_minvar.values\n",
    "evolution_all['Max Sharpe'] = evol_maxsharpe.values\n",
    "evolution_all['Pasiva'] = benchmark_rets.values\n",
    "evolution_all.head()"
   ]
  },
  {
   "cell_type": "code",
   "execution_count": 76,
   "id": "596303ad",
   "metadata": {},
   "outputs": [
    {
     "data": {
      "text/plain": [
       "Text(0, 0.5, 'Valor del Portafolio')"
      ]
     },
     "execution_count": 76,
     "metadata": {},
     "output_type": "execute_result"
    },
    {
     "data": {
      "image/png": "[encoded data removed]",
      "text/plain": [
       "<Figure size 1200x600 with 1 Axes>"
      ]
     },
     "metadata": {},
     "output_type": "display_data"
    }
   ],
   "source": [
    "# Graficar la evolucion para ambos portafolios\n",
    "\n",
    "\n",
    "plt.figure(figsize=(12, 6))\n",
    "plt.plot(evolution_all, label=evolution_all.columns)\n",
    "plt.legend()\n",
    "plt.title('Evolución de Portafolios')\n",
    "plt.xlabel('Fecha')\n",
    "plt.ylabel('Valor del Portafolio')\n",
    "\n"
   ]
  },
  {
   "cell_type": "markdown",
   "id": "7da07a3c",
   "metadata": {},
   "source": [
    "Excelente, pero ¿qué información nos aporta realmente la gráfica? Aunque visualmente puede resultar atractiva, su única función es mostrar cuál estrategia terminó con el mayor rendimiento a lo largo del período. Sin embargo, no nos responde preguntas clave como: ¿Cuál estrategia tuvo mayor volatilidad? ¿Cuál ofreció una mejor relación entre rendimiento y riesgo? ¿Cuál presentó un menor downside risk?\n",
    "\n",
    "Para responder a estas interrogantes, contamos con **métricas de desempeño**, que ofrecen una evaluación más completa del comportamiento promedio de las estrategias simuladas. Algunas de las métricas que hemos analizado hasta ahora incluyen:\n",
    "\n",
    "- **Rendimiento esperado**\n",
    "- **Rendimiento efectivo**\n",
    "- **Volatilidad**\n",
    "- **Ratio de Sharpe**\n",
    "- **Upside Risk**\n",
    "- **Downside Risk**\n",
    "- **Ratio Omega**\n",
    "\n",
    "Existen muchas más métricas, y cada administrador de portafolios tiene sus preferidas, dependiendo de los objetivos y perfiles de inversión de sus clientes. \n",
    "\n",
    "\n",
    "    Ahora, calcularemos estas métricas y las presentaremos en un dataframe para facilitar su visualización.\n"
   ]
  },
  {
   "cell_type": "code",
   "execution_count": 77,
   "id": "a7f80ac9",
   "metadata": {},
   "outputs": [
    {
     "data": {
      "text/html": [
       "<div>\n",
       "<style scoped>\n",
       "    .dataframe tbody tr th:only-of-type {\n",
       "        vertical-align: middle;\n",
       "    }\n",
       "\n",
       "    .dataframe tbody tr th {\n",
       "        vertical-align: top;\n",
       "    }\n",
       "\n",
       "    .dataframe thead th {\n",
       "        text-align: right;\n",
       "    }\n",
       "</style>\n",
       "<table border=\"1\" class=\"dataframe\">\n",
       "  <thead>\n",
       "    <tr style=\"text-align: right;\">\n",
       "      <th></th>\n",
       "      <th>Min Var</th>\n",
       "      <th>Max Sharpe</th>\n",
       "      <th>Pasiva</th>\n",
       "    </tr>\n",
       "  </thead>\n",
       "  <tbody>\n",
       "    <tr>\n",
       "      <th>Rendimiento Esperado Anual %</th>\n",
       "      <td>20.047287</td>\n",
       "      <td>34.052535</td>\n",
       "      <td>13.655729</td>\n",
       "    </tr>\n",
       "    <tr>\n",
       "      <th>Rendimiento Efectivo %</th>\n",
       "      <td>165.237186</td>\n",
       "      <td>421.101184</td>\n",
       "      <td>84.888633</td>\n",
       "    </tr>\n",
       "    <tr>\n",
       "      <th>Volatilidad Anual %</th>\n",
       "      <td>20.551192</td>\n",
       "      <td>27.306985</td>\n",
       "      <td>21.677569</td>\n",
       "    </tr>\n",
       "    <tr>\n",
       "      <th>Ratio Sharpe</th>\n",
       "      <td>0.973291</td>\n",
       "      <td>1.245379</td>\n",
       "      <td>0.627872</td>\n",
       "    </tr>\n",
       "    <tr>\n",
       "      <th>Upside Risk %</th>\n",
       "      <td>13.087633</td>\n",
       "      <td>18.769622</td>\n",
       "      <td>13.285289</td>\n",
       "    </tr>\n",
       "    <tr>\n",
       "      <th>Downside Risk %</th>\n",
       "      <td>12.544132</td>\n",
       "      <td>15.053036</td>\n",
       "      <td>13.899017</td>\n",
       "    </tr>\n",
       "    <tr>\n",
       "      <th>Omega</th>\n",
       "      <td>1.043327</td>\n",
       "      <td>1.246899</td>\n",
       "      <td>0.955844</td>\n",
       "    </tr>\n",
       "  </tbody>\n",
       "</table>\n",
       "</div>"
      ],
      "text/plain": [
       "                                 Min Var  Max Sharpe     Pasiva\n",
       "Rendimiento Esperado Anual %   20.047287   34.052535  13.655729\n",
       "Rendimiento Efectivo %        165.237186  421.101184  84.888633\n",
       "Volatilidad Anual %            20.551192   27.306985  21.677569\n",
       "Ratio Sharpe                    0.973291    1.245379   0.627872\n",
       "Upside Risk %                  13.087633   18.769622  13.285289\n",
       "Downside Risk %                12.544132   15.053036  13.899017\n",
       "Omega                           1.043327    1.246899   0.955844"
      ]
     },
     "execution_count": 77,
     "metadata": {},
     "output_type": "execute_result"
    }
   ],
   "source": [
    "# Metricas de Desempeño\n",
    "\n",
    "# Rendimientos diarios de los portafolios\n",
    "evolution_rets = evolution_all.pct_change().dropna()\n",
    "\n",
    "# Métricas de Desempeño\n",
    "metricas = pd.DataFrame(index=evolution_rets.columns)\n",
    "evolution_esperado =  evolution_rets.mean() * 252  # Anualizado\n",
    "metricas['Rendimiento Esperado Anual %'] = evolution_esperado*100\n",
    "metricas['Rendimiento Efectivo %'] = (evolution_all.iloc[-1] / C_i- 1)*100\n",
    "metricas['Volatilidad Anual %'] = evolution_rets.std() * np.sqrt(252)*100  # Anualizado\n",
    "metricas['Ratio Sharpe'] = (metricas['Rendimiento Esperado Anual %'] - 0.045) / metricas['Volatilidad Anual %']\n",
    "metricas['Upside Risk %'] = (evolution_rets[evolution_rets > 0].fillna(0)).std() * np.sqrt(252)*100  # Anualizado\n",
    "metricas['Downside Risk %'] = (evolution_rets[evolution_rets < 0].fillna(0)).std() * np.sqrt(252)*100  # Anualizado\n",
    "metricas['Omega'] =  metricas['Upside Risk %'] / metricas['Downside Risk %']\n",
    "\n",
    "\n",
    "metricas.T"
   ]
  },
  {
   "cell_type": "code",
   "execution_count": 78,
   "id": "acec71be",
   "metadata": {},
   "outputs": [],
   "source": [
    "evolution_rets = evolution_rets.std() * np.sqrt(252)  # Anualizado*"
   ]
  },
  {
   "cell_type": "markdown",
   "id": "2d128378",
   "metadata": {},
   "source": [
    "Excelente. Ahora, analicen las métricas de desempeño y seleccionen la mejor estrategia de Asset Allocation basándose en el comportamiento histórico de este conjunto de activos financieros.\n"
   ]
  },
  {
   "cell_type": "markdown",
   "id": "57a41c84",
   "metadata": {},
   "source": [
    "Aunque en este caso la selección de la estrategia parece evidente, es posible que las conclusiones obtenidas sean incorrectas. Les invito a investigar el concepto de look-ahead bias y discutir por qué el enfoque utilizado anteriormente es inadecuado para llevar a cabo el backtesting de un portafolio de inversión."
   ]
  },
  {
   "cell_type": "markdown",
   "id": "41292a25",
   "metadata": {},
   "source": [
    "---\n",
    "\n",
    "### 3.- Static Backtesting Implementation\n",
    "\n",
    "\n",
    "\n",
    "Como habrás notado, en la sección anterior realizamos el *backtesting* utilizando la misma información que empleamos para optimizar las ponderaciones del portafolio. Esto significa que conocíamos de antemano lo que sucedería con nuestros activos, algo que en la realidad no es posible.\n",
    "\n",
    "> **Imagina que hoy quieres realizar un *backtesting* para seleccionar una estrategia de inversión. ¿Con qué información optimizarías los pesos de tu portafolio?**\n",
    "\n",
    "Dado que no disponemos de datos sobre el comportamiento futuro de los activos, debemos basarnos en información pasada, es decir, en lo que ya ha ocurrido. Cuando utilizamos los mismos datos del *backtesting* para optimizar el portafolio, estamos, en esencia, asumiendo que conocemos el futuro. Este es el motivo por el cual muchos gestores que emplean esta metodología obtienen métricas de rendimiento excesivamente optimistas, pero al implementar la estrategia en el mundo real, los resultados difieren significativamente debido al **`look-ahead bias`**.\n",
    "\n",
    "> **Look-ahead bias:** Sesgo que ocurre cuando, al realizar un análisis o simulación, se utilizan datos futuros que no habrían estado disponibles en el momento de la toma de decisiones.\n",
    "\n",
    "Para evitar este sesgo en el *backtesting*, se utiliza una ventana de información pasada para optimizar el portafolio. Por ejemplo, si queremos realizar un *backtesting* para el período 2021-2024, deberíamos optimizar con datos de un período anterior, como 2019-2021. Si queremos realizar un *backtesting* de dos años, utilizamos los dos años previos para la optimización, y así sucesivamente. Se recomienda que el período de datos utilizado para la optimización coincida con el horizonte temporal del *backtesting*.\n",
    "\n",
    "\n",
    "    Ahora, implementemos el backtesting de forma correcta para el mismo portafolio presentado anteriormente, \n",
    "    separando entre datos de optimización y datos de backtest.\n",
    "\n"
   ]
  },
  {
   "cell_type": "markdown",
   "id": "8cff6746",
   "metadata": {},
   "source": [
    "#### **Paso 1. Descarga de Precios**"
   ]
  },
  {
   "cell_type": "code",
   "execution_count": 79,
   "id": "968dd30f",
   "metadata": {},
   "outputs": [
    {
     "name": "stderr",
     "output_type": "stream",
     "text": [
      "[*********************100%***********************]  4 of 4 completed\n",
      "[*********************100%***********************]  4 of 4 completed\n"
     ]
    }
   ],
   "source": [
    "# Descarguemos precios\n",
    "\n",
    "# Descarga de Datos\n",
    "# Precios de optimizacion\n",
    "\n",
    "tickers=['AAPL', 'BRK-B', 'NKE', 'LLY']\n",
    "prices_opt=yf.download(tickers, start='2021-06-20', end= '2023-06-20')['Close']\n",
    "rets_opt = prices_opt.pct_change().dropna()\n",
    "\n",
    "# Precios de Backtesting\n",
    "prices_bt = yf.download(tickers, start='2023-06-20', end='2025-06-20')['Close']\n",
    "rets_bt = prices_bt.pct_change().dropna()"
   ]
  },
  {
   "cell_type": "code",
   "execution_count": 80,
   "id": "f74cb98e",
   "metadata": {},
   "outputs": [],
   "source": [
    "# Obtengamos rendimientos diarios\n",
    "\n",
    "w_minvar = opt_min_var(rets_opt)\n",
    "w_max_sharpe = opt_max_sharpe(rets_opt, rf=0.045)\n"
   ]
  },
  {
   "cell_type": "markdown",
   "id": "fadc3055",
   "metadata": {},
   "source": [
    "#### **Paso 2. Selección de las estrategias de AA y obtención de las ponderaciones para la simulación**"
   ]
  },
  {
   "cell_type": "code",
   "execution_count": 81,
   "id": "97d2aea2",
   "metadata": {},
   "outputs": [],
   "source": [
    "# Obtener ponderaciones en las estrategias que queremos evaluar por ejemplo: Radio de Sharpe y min var\n"
   ]
  },
  {
   "cell_type": "markdown",
   "id": "7397f3a5",
   "metadata": {},
   "source": [
    "#### **Paso 3. Backtesting de Estrategias**"
   ]
  },
  {
   "cell_type": "markdown",
   "id": "00ec3d50",
   "metadata": {},
   "source": [
    "#### **Paso 4. Métricas de Desempeño**"
   ]
  },
  {
   "cell_type": "code",
   "execution_count": null,
   "id": "4aef9079",
   "metadata": {},
   "outputs": [
    {
     "data": {
      "text/html": [
       "<div>\n",
       "<style scoped>\n",
       "    .dataframe tbody tr th:only-of-type {\n",
       "        vertical-align: middle;\n",
       "    }\n",
       "\n",
       "    .dataframe tbody tr th {\n",
       "        vertical-align: top;\n",
       "    }\n",
       "\n",
       "    .dataframe thead th {\n",
       "        text-align: right;\n",
       "    }\n",
       "</style>\n",
       "<table border=\"1\" class=\"dataframe\">\n",
       "  <thead>\n",
       "    <tr style=\"text-align: right;\">\n",
       "      <th></th>\n",
       "    </tr>\n",
       "  </thead>\n",
       "  <tbody>\n",
       "    <tr>\n",
       "      <th>Rendimiento Esperado Anual %</th>\n",
       "    </tr>\n",
       "    <tr>\n",
       "      <th>Rendimiento Efectivo %</th>\n",
       "    </tr>\n",
       "    <tr>\n",
       "      <th>Volatilidad Anual %</th>\n",
       "    </tr>\n",
       "    <tr>\n",
       "      <th>Ratio Sharpe</th>\n",
       "    </tr>\n",
       "    <tr>\n",
       "      <th>Upside Risk %</th>\n",
       "    </tr>\n",
       "    <tr>\n",
       "      <th>Downside Risk %</th>\n",
       "    </tr>\n",
       "    <tr>\n",
       "      <th>Omega</th>\n",
       "    </tr>\n",
       "  </tbody>\n",
       "</table>\n",
       "</div>"
      ],
      "text/plain": [
       "Empty DataFrame\n",
       "Columns: []\n",
       "Index: [Rendimiento Esperado Anual %, Rendimiento Efectivo %, Volatilidad Anual %, Ratio Sharpe, Upside Risk %, Downside Risk %, Omega]"
      ]
     },
     "execution_count": 59,
     "metadata": {},
     "output_type": "execute_result"
    }
   ],
   "source": [
    "# Rendimientos de los portafolios\n",
    "\n",
    "\n",
    "\n",
    "# Métricas de Desempeño\n",
    "\n",
    "# Rendimientos diarios de los portafolios\n",
    "evolution_rets = evolution_all.pct_change().dropna()\n",
    "\n",
    "# Métricas de Desempeño\n",
    "metricas = pd.DataFrame(index=evolution_rets.columns)\n",
    "evolution_esperado =  evolution_rets.mean() * 252  # Anualizado\n",
    "metricas['Rendimiento Esperado Anual %'] = evolution_esperado*100\n",
    "metricas['Rendimiento Efectivo %'] = (evolution_all.iloc[-1] / C_i- 1)*100\n",
    "metricas['Volatilidad Anual %'] = evolution_rets.std() * np.sqrt(252)*100  # Anualizado\n",
    "metricas['Ratio Sharpe'] = (metricas['Rendimiento Esperado Anual %'] - 0.045) / metricas['Volatilidad Anual %']\n",
    "metricas['Upside Risk %'] = (evolution_rets[evolution_rets > 0].fillna(0)).std() * np.sqrt(252)*100  # Anualizado\n",
    "metricas['Downside Risk %'] = (evolution_rets[evolution_rets < 0].fillna(0)).std() * np.sqrt(252)*100  # Anualizado\n",
    "metricas['Omega'] =  metricas['Upside Risk %'] / metricas['Downside Risk %']\n",
    "\n",
    "\n",
    "metricas.T\n",
    "\n",
    "\n"
   ]
  },
  {
   "cell_type": "markdown",
   "id": "ca18fca1",
   "metadata": {},
   "source": [
    "#### **Paso 5. Toma de Decisiones Financieras**\n",
    "\n",
    "Al observar el desempeño de tu portafolio con la inversión simulada en 2020, esta sería la evolución *real* del portafolio. A diferencia del *backtesting* previo, en esta ocasión utilizamos únicamente datos anteriores a la simulación para la optimización, de la misma manera que lo haría un gestor en ese momento.\n",
    "\n",
    "+ ¿Qué estrategia elegirías ahora?\n",
    "+ ¿Por qué?\n",
    "\n",
    "Con base en las conclusiones obtenidas en la sección anterior, responde:\n",
    "\n",
    "+ ¿Ha cambiado algo?\n",
    "+ ¿Qué habría ocurrido si hubieras invertido siguiendo la lógica del *backtesting* con **look-ahead bias**?\n",
    "+ ¿Cuál de las dos metodologías te parece más adecuada?\n"
   ]
  },
  {
   "cell_type": "markdown",
   "id": "4720dcdf",
   "metadata": {},
   "source": [
    "####  Paso 6. Re-Optimización de Ponderaciones del Portafolios\n",
    "\n",
    "Con la estrategia de **Asset Allocation** seleccionada, procede a re-optimizar las ponderaciones para determinar los pesos en los que distribuirías tu inversión al **implementar** la estrategia en la práctica."
   ]
  },
  {
   "cell_type": "code",
   "execution_count": 94,
   "id": "64ed4064",
   "metadata": {},
   "outputs": [
    {
     "data": {
      "text/html": [
       "<div>\n",
       "<style scoped>\n",
       "    .dataframe tbody tr th:only-of-type {\n",
       "        vertical-align: middle;\n",
       "    }\n",
       "\n",
       "    .dataframe tbody tr th {\n",
       "        vertical-align: top;\n",
       "    }\n",
       "\n",
       "    .dataframe thead th {\n",
       "        text-align: right;\n",
       "    }\n",
       "</style>\n",
       "<table border=\"1\" class=\"dataframe\">\n",
       "  <thead>\n",
       "    <tr style=\"text-align: right;\">\n",
       "      <th></th>\n",
       "      <th>w</th>\n",
       "      <th>Cash</th>\n",
       "      <th>No. Acciones</th>\n",
       "    </tr>\n",
       "    <tr>\n",
       "      <th>Ticker</th>\n",
       "      <th></th>\n",
       "      <th></th>\n",
       "      <th></th>\n",
       "    </tr>\n",
       "  </thead>\n",
       "  <tbody>\n",
       "    <tr>\n",
       "      <th>AAPL</th>\n",
       "      <td>0.084994</td>\n",
       "      <td>84994.180894</td>\n",
       "      <td>432.0</td>\n",
       "    </tr>\n",
       "    <tr>\n",
       "      <th>BRK-B</th>\n",
       "      <td>0.744319</td>\n",
       "      <td>744318.508530</td>\n",
       "      <td>1534.0</td>\n",
       "    </tr>\n",
       "    <tr>\n",
       "      <th>LLY</th>\n",
       "      <td>0.099471</td>\n",
       "      <td>99470.801472</td>\n",
       "      <td>126.0</td>\n",
       "    </tr>\n",
       "    <tr>\n",
       "      <th>NKE</th>\n",
       "      <td>0.071217</td>\n",
       "      <td>71216.509104</td>\n",
       "      <td>1196.0</td>\n",
       "    </tr>\n",
       "  </tbody>\n",
       "</table>\n",
       "</div>"
      ],
      "text/plain": [
       "               w           Cash  No. Acciones\n",
       "Ticker                                       \n",
       "AAPL    0.084994   84994.180894         432.0\n",
       "BRK-B   0.744319  744318.508530        1534.0\n",
       "LLY     0.099471   99470.801472         126.0\n",
       "NKE     0.071217   71216.509104        1196.0"
      ]
     },
     "execution_count": 94,
     "metadata": {},
     "output_type": "execute_result"
    }
   ],
   "source": [
    "# Obtener ponderaciones para implementación del portafolio (inversión)\n",
    "re_opt = pd.DataFrame(index=  rets_assets.columns)\n",
    "re_opt['w'] = opt_min_var(rets_bt)\n",
    "re_opt['Cash'] = re_opt['w'] * C_i\n",
    "re_opt['No. Acciones'] = np.floor(re_opt['Cash'] / prices_bt.iloc[-1])\n",
    "re_opt"
   ]
  },
  {
   "cell_type": "markdown",
   "id": "885cf891",
   "metadata": {},
   "source": [
    "---\n",
    "\n",
    "### 4.- Consideraciones\n",
    "    "
   ]
  },
  {
   "cell_type": "markdown",
   "id": "b43d0fa9",
   "metadata": {},
   "source": [
    "> El **backtesting** es una herramienta útil para la **selección y evaluación de estrategias de inversión**, basada en el comportamiento histórico de los activos que componen un portafolio. \n",
    "\n",
    "> El backtesting es una **herramienta de simulación histórica, no de predicción.**\n",
    "\n",
    "> Las **métricas de desempeño proporcionan una visión** detallada sobre el **desempeño esperado de una estrategia** en un portafolio específico, considerando las características y sinergias de los activos que lo componen.\n",
    "\n",
    "> Además de las métricas de desempeño, **es importante considerar las características propias de un inversionista** para seleccionar una estrategia.\n",
    "\n",
    "> **El backtesting no es infalible**. **En casos de eventos extraordinarios** o cambios estructurales, como un \"*black swan*\", el desempeño de los activos, y por ende del portafolio, **puede verse significativamente alterado**, alejandose de su comportamiento histórico.\n",
    "\n",
    "> A pesar de estas limitaciones, el backtesting nos permite analizar cómo hubiera evolucionado un portafolio en el pasado bajo una estrategia determinada, revelando aspectos que, sin este análisis, podrían pasar desapercibidos.\n",
    "\n",
    "> Es importante considerar el **look-ahead bias** a la hora de realizar la simulación de un portafolio, en caso contrario, tendremos un muy buen desempeño en backtesting y mal desempeño al implementar el portafolio. Este fenómeno se denomina **over-fitting**."
   ]
  }
 ],
 "metadata": {
  "kernelspec": {
   "display_name": "Python 3",
   "language": "python",
   "name": "python3"
  },
  "language_info": {
   "codemirror_mode": {
    "name": "ipython",
    "version": 3
   },
   "file_extension": ".py",
   "mimetype": "text/x-python",
   "name": "python",
   "nbconvert_exporter": "python",
   "pygments_lexer": "ipython3",
   "version": "3.12.8"
  }
 },
 "nbformat": 4,
 "nbformat_minor": 5
}
