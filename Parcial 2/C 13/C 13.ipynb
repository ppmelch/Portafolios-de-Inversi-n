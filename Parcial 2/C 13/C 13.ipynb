{
 "cells": [
  {
   "cell_type": "markdown",
   "id": "7cfbca36",
   "metadata": {},
   "source": [
    "<img style=\"float: left; margin: 30px 15px 15px 15px;\" src=\"https://oci02.img.iteso.mx/Identidades-De-Instancia/ITESO/Logos%20ITESO/Logo-ITESO-Principal.jpg\" width=\"400\" height=\"600\" /> \n",
    "    \n",
    "    \n",
    "## <font color='navy'> Selección de Estrategias de Inversión\n",
    "    \n",
    "### <font color='navy'> Portafolios de Inversión\n",
    "\n",
    "    Mtro. Sean Nicolás González Vázquez"
   ]
  },
  {
   "cell_type": "markdown",
   "id": "995082bf",
   "metadata": {},
   "source": [
    "---\n",
    "\n",
    "### <font color='navy'> Introducción\n",
    "    "
   ]
  },
  {
   "cell_type": "markdown",
   "id": "2d6eff4d",
   "metadata": {},
   "source": [
    "\n",
    "En la clase pasada, aprendimos a realizar el **backtesting** de un portafolio de inversión. Como observamos, esta herramienta es fundamental tanto para evaluar como para seleccionar estrategias de inversión. Sin embargo, aún nos falta profundizar en las métricas de desempeño que complementan este análisis.\n",
    "\n",
    "En esta clase, nuestro objetivo será extender los conocimientos adquiridos, introduciendo varias métricas financieras clave. Comenzaremos con el concepto de **Beta**, un indicador esencial en la inversión bursátil.\n",
    "\n",
    "Además, exploraremos otras métricas de desempeño de portafolios que nos permitirán cuantificar tanto el riesgo como el rendimiento desde diferentes perspectivas. Estas métricas incluyen:\n",
    "\n",
    "\n",
    "+ **Alfa de Jensen**\n",
    "\n",
    "+ **Ratio de Treynor**\n",
    "\n",
    "+ **Ratio de Sortino**\n",
    "\n",
    "\n",
    "\n",
    "\n",
    "Durante esta clase, veremos tanto la teoría detrás de estas métricas como su aplicación práctica. Calcularemos, analizaremos e interpretaremos estos ratios para un conjunto de activos financieros, permitiéndonos tomar decisiones más informadas en la gestión de portafolios. La correcta utilización de estas herramientas mejorará nuestra capacidad de tomar decisiones financieras."
   ]
  },
  {
   "cell_type": "markdown",
   "id": "dd01b9e0",
   "metadata": {},
   "source": [
    "---\n",
    "\n",
    "### <font color='navy'> Función Backtesting\n",
    "\n",
    "\n",
    "\n",
    "\n",
    "Antes de calcular las métricas de desempeño, comenzaremos por **automatizar el proceso de backtesting** mediante una función en Python. El objetivo es **implementar el mismo portafolio** utilizado en la clase anterior, pero de manera **más eficiente**.\n",
    "\n",
    "Nuestra función recibirá los **precios de cierre ajustados de los activos** que componen la cartera, la **información del cierre del benchmark**, un **diccionario con los nombres de las estrategias por simular** y sus respectivos **pesos eficientes**, además del **capital a invertir**. Como resultado, la función **devolverá el histórico de la evolución de las estrategias**, junto con su **gráfica correspondiente**.\n"
   ]
  },
  {
   "cell_type": "code",
   "execution_count": null,
   "id": "1e01de12",
   "metadata": {},
   "outputs": [],
   "source": [
    "# Importacion de Librerías\n",
    "import numpy as np\n",
    "import pandas as pd\n",
    "import yfinance as yf\n",
    "import matplotlib.pyplot as plt\n",
    "from scipy.optimize import minimize"
   ]
  },
  {
   "cell_type": "code",
   "execution_count": null,
   "id": "f8405700",
   "metadata": {},
   "outputs": [],
   "source": [
    "# Descarga de Datos\n",
    "\n",
    "# Portafolio\n",
    "tickers=['AAPL', 'BRK-B', 'NKE', 'LLY'] \n",
    "# Precios de optimizacion\n",
    "opt_prices=yf.download(tickers, start='2021-06-20', end='2023-06-20', progress=False)['Close']\n",
    "\n",
    "# Precios de Backtesting\n",
    "bt_prices=yf.download(tickers, start='2023-06-20', end='2025-06-20', progress=False)['Close']\n",
    "\n",
    "# Benchmark\n",
    "benchmark=yf.download(['^GSPC'], start='2023-06-20', end='2025-06-20', progress=False)['Close']\n",
    "\n",
    "# Get Optimization Returns \n",
    "opt_returns=opt_prices.pct_change().dropna()"
   ]
  },
  {
   "cell_type": "code",
   "execution_count": null,
   "id": "bb09df19",
   "metadata": {},
   "outputs": [],
   "source": [
    "# Optimización en Mínima Varianza\n",
    "def opt_min_var(rets):\n",
    "    \n",
    "    cov=rets.cov()\n",
    "    n_assets = len(rets.columns)\n",
    "    \n",
    "    var = lambda w: w.T @ cov @ w\n",
    "    \n",
    "    w0=np.ones(n_assets)/n_assets\n",
    "    \n",
    "    bounds=[(0, 1)]*n_assets\n",
    "    \n",
    "    constraint=lambda w: sum(w)-1\n",
    "    \n",
    "    result=minimize(fun=var, x0=w0, bounds=bounds, constraints={'fun': constraint, 'type': 'eq'}, tol=1e-16)\n",
    "    \n",
    "    return result.x"
   ]
  },
  {
   "cell_type": "code",
   "execution_count": null,
   "id": "34409c38",
   "metadata": {},
   "outputs": [],
   "source": [
    "# Función para optimizar Sharpe\n",
    "def opt_max_sharpe(rets, rf):\n",
    "    \n",
    "    E=rets.mean()\n",
    "    cov=rets.cov()\n",
    "    n_assets = len(rets.columns)\n",
    "    \n",
    "    rs = lambda w: -((w.T @ E - rf/252) / np.sqrt(w.T @ cov @ w))\n",
    "    \n",
    "    w0=np.ones(n_assets)/n_assets\n",
    "    \n",
    "    bounds=[(0, 1)]*n_assets\n",
    "    \n",
    "    constraint=lambda w: sum(w)-1\n",
    "    \n",
    "    result=minimize(fun=rs, x0=w0, bounds=bounds, constraints={'fun': constraint, 'type': 'eq'}, tol=1e-16)\n",
    "    \n",
    "    return result.x"
   ]
  },
  {
   "cell_type": "code",
   "execution_count": null,
   "id": "5a4a8041",
   "metadata": {},
   "outputs": [],
   "source": [
    "# Función Backtesting\n",
    "def static_backtesting(prices: pd.DataFrame, benchmark: pd.DataFrame, weights: dict, capital: float):\n",
    "    ...\n",
    "    # Obtener rendimientos de precios y benchmark\n",
    "    \n",
    "    \n",
    "    # data frame vacio para llenar historia\n",
    "    \n",
    "    \n",
    "    # Obtener evolución para cada estrategia dada\n",
    "    \n",
    "    \n",
    "        # para benchmark\n",
    "    \n",
    "    \n",
    "        # para otras estrategias\n",
    "\n",
    "        \n",
    "    # Graficar la evolucion para ambos portafolios\n",
    "    \n",
    "    return history"
   ]
  },
  {
   "cell_type": "code",
   "execution_count": null,
   "id": "eabaf2ab",
   "metadata": {},
   "outputs": [],
   "source": [
    "# Optimizar pesos\n",
    "\n"
   ]
  },
  {
   "cell_type": "code",
   "execution_count": null,
   "id": "26359904",
   "metadata": {},
   "outputs": [],
   "source": [
    "# Diccionario con estrategias por probar\n"
   ]
  },
  {
   "cell_type": "code",
   "execution_count": null,
   "id": "13c70e78",
   "metadata": {},
   "outputs": [],
   "source": [
    "# Definir capital\n"
   ]
  },
  {
   "cell_type": "code",
   "execution_count": null,
   "id": "fae6fda4",
   "metadata": {},
   "outputs": [],
   "source": [
    "# Utilizar función de backtesting\n"
   ]
  },
  {
   "cell_type": "code",
   "execution_count": null,
   "id": "325e0f62",
   "metadata": {},
   "outputs": [],
   "source": [
    "# Mostrar history\n"
   ]
  },
  {
   "cell_type": "markdown",
   "id": "38344227",
   "metadata": {},
   "source": [
    "Además, necesitamos una **función para simplificar el cálculo de las métricas de desempeño**. Esta función recibirá un **data frame con la evolución histórica de las estrategias** y la **tasa libre de riesgo**, devolviendo un **data frame con las métricas de desempeño por estrategia**."
   ]
  },
  {
   "cell_type": "code",
   "execution_count": null,
   "id": "402cc448",
   "metadata": {},
   "outputs": [],
   "source": [
    "# Función para las metricas de desempeño\n",
    "\n",
    "def performance_metrics(history, rf):\n",
    "    \n",
    "    ...\n",
    "    \n",
    "    # Rendimiento de los portafolios\n",
    "\n",
    "    # Métricas de Desempeño\n",
    "    \n",
    "    # Rend Prom\n",
    "    # Volatilidad\n",
    "    # Radio de Sharpe\n",
    "    # Downside \n",
    "    # Upside\n",
    "    # Omega\n",
    "    \n",
    "    \n",
    "    return metrics\n"
   ]
  },
  {
   "cell_type": "code",
   "execution_count": null,
   "id": "b012821d",
   "metadata": {},
   "outputs": [],
   "source": [
    "# Calcular métricas con la función"
   ]
  },
  {
   "cell_type": "markdown",
   "id": "40edbb42",
   "metadata": {},
   "source": [
    "---\n",
    "\n",
    "### <font color='navy'> Beta\n",
    "    \n",
    "La **beta es una medida de sensibilidad de un activo (o portafolio) ante fluctuaciones de mercado**. Es un indicador clave del riesgo sistemático, es decir, el riesgo que no se puede diversificar. Se calcula de la siguiente manera:\n",
    "\n",
    "$$\\beta = \\frac{cov(Activo, Mercado)}{var(Mercado)}$$\n",
    "\n",
    "$$\\beta = \\frac{\\sigma_{i, M}}{\\sigma^2_M}$$\n",
    "\n",
    "Donde:\n",
    "    \n",
    "+ $\\sigma_{i, M}$: Covarianza del activo (o portafolio) con el mercado.\n",
    "    \n",
    "+ $\\sigma^2_M$: Varianza del mercado.\n",
    "    \n",
    "La interpretación de la Beta depende de su valor, existen tres casos específicos:\n",
    "\n",
    "| **Valor de Beta** | **Interpretación**                                                                 |\n",
    "|------------------|-------------------------------------------------------------------------------------|\n",
    "| **Beta > 1**     | Activo o portafolio agresivo. Mayor impacto de los movimientos del mercado. |\n",
    "| **Beta = 1**     | El activo se mueve en línea con el mercado.                                          |\n",
    "| **Beta < 1**     | Activo o portafolio defensivo. Menor impacto de los movimientos del mercado. |\n",
    "\n"
   ]
  },
  {
   "cell_type": "code",
   "execution_count": null,
   "id": "86fd4cc2",
   "metadata": {},
   "outputs": [],
   "source": [
    "# Obtener covarianzas de estrategias con el mercado\n",
    "\n",
    "\n"
   ]
  },
  {
   "cell_type": "code",
   "execution_count": null,
   "id": "2d1298a5",
   "metadata": {},
   "outputs": [],
   "source": [
    "# Obtener varianza del Mercado\n"
   ]
  },
  {
   "cell_type": "code",
   "execution_count": null,
   "id": "1fe4fb17",
   "metadata": {},
   "outputs": [],
   "source": [
    "# Obtener betas \n",
    "\n"
   ]
  },
  {
   "cell_type": "markdown",
   "id": "dda9a415",
   "metadata": {},
   "source": [
    "---\n",
    "\n",
    "### <font color='navy'> Alfa de Jensen"
   ]
  },
  {
   "cell_type": "markdown",
   "id": "db87a787",
   "metadata": {},
   "source": [
    "El Alfa de Jensen mide el **rendimiento de un portafolio en relación con su rendimiento esperado ajustado por riesgo sistématico**. Indica si el portafolio ha tenido un rendimiento superior o inferior al esperado.\n",
    "\n",
    "\n",
    "$$\\alpha_J = R_p - [ R_f + \\beta \\cdot (R_m - R_f)] $$\n",
    "\n",
    "Donde:\n",
    "- $R_p$: Rendimiento del portafolio\n",
    "- $R_f$: Tasa libre de riesgo\n",
    "- $\\beta$: Beta del portafolio en relación con el mercado\n",
    "- $R_m$: Rendimiento del mercado\n",
    "\n",
    "El Alfa de Jensen es una herramienta clave para evaluar el desempeño de un portafolio o gestor, mostrando si se están generando rendimientos por encima de lo que se esperaría de un gestor de portafolios en función del riesgo sistemático.\n",
    "\n",
    "\n",
    "En términos simples **indica que tan bueno es un gestor para generar rendimientos por encima a los esperados**. Se expresa en porcentaje."
   ]
  },
  {
   "cell_type": "code",
   "execution_count": null,
   "id": "28a2cc89",
   "metadata": {},
   "outputs": [],
   "source": [
    "# Obtener rendimientos para todos los portafolios (estrategias)\n"
   ]
  },
  {
   "cell_type": "code",
   "execution_count": null,
   "id": "64f2f71d",
   "metadata": {},
   "outputs": [],
   "source": [
    "# Definir tasa libre de riesgo\n"
   ]
  },
  {
   "cell_type": "code",
   "execution_count": null,
   "id": "5c3c90e2",
   "metadata": {},
   "outputs": [],
   "source": [
    "# Obtener rendimiento de mercado\n"
   ]
  },
  {
   "cell_type": "code",
   "execution_count": null,
   "id": "44348836",
   "metadata": {},
   "outputs": [],
   "source": [
    "# Obtener alfa de jensen\n",
    "\n"
   ]
  },
  {
   "cell_type": "markdown",
   "id": "03c51a44",
   "metadata": {},
   "source": [
    "---\n",
    "\n",
    "### <font color='navy'> Ratio de Treynor\n",
    "    \n",
    "El Ratio de Treynor es una métrica que mide el **rendimiento ajustado por riesgo sistemático** (Beta) de un portafolio. A diferencia del ratio de Sharpe, que ajusta el rendimiento en función de la volatilidad total, el ratio de Treynor solo toma en cuenta el riesgo que proviene del mercado, es decir, el riesgo no diversificable. Mide las unidades de rendimiento generadas por unidad de riesgo sistemático asumido.\n",
    "\n",
    "\n",
    "$$T = \\frac{R_p - R_f}{\\beta}$$\n",
    "\n",
    "Donde:\n",
    "    \n",
    "- $R_p$: Rendimiento del portafolio\n",
    "- $R_f$: Tasa libre de riesgo\n",
    "- $\\beta$: Beta del portafolio\n",
    "\n",
    "\n",
    "\n",
    "El ratio de Treynor es útil para comparar portafolios con diferentes niveles de exposición al riesgo sistemático. Un ratio más alto indica un mejor desempeño ajustado por el riesgo de mercado."
   ]
  },
  {
   "cell_type": "code",
   "execution_count": null,
   "id": "c7b66781",
   "metadata": {},
   "outputs": [],
   "source": [
    "# Obtener Ratio de Treynor\n",
    "\n"
   ]
  },
  {
   "cell_type": "markdown",
   "id": "ddbe2740",
   "metadata": {},
   "source": [
    "---\n",
    "\n",
    "### <font color='navy'> Ratio de Sortino\n",
    "    \n",
    "    \n",
    "El Ratio de Sortino es una variación del ratio de Sharpe que ajusta el **rendimiento de un portafolio en función de su riesgo a la baja** (downside risk), es decir, solo tiene en cuenta la volatilidad de los rendimientos que están por debajo de un cierto umbral o rendimiento objetivo. Mide las unidades de rendimiento generadas por unidad de downside risk asumida.\n",
    "\n",
    "$$S = \\frac{R_p - R_f}{\\sigma_d}$$\n",
    "\n",
    "Donde:\n",
    "- $R_p$:  Rendimiento del portafolio\n",
    "- $R_f$:  Tasa libre de riesgo\n",
    "- $\\sigma_d$:  Desviación estándar de los rendimientos por debajo de un rendimiento objetivo (volatilidad negativa)\n",
    "\n",
    "El ratio de Sortino solo penaliza el riesgo de caída del rendimiento, lo que lo hace más preciso cuando se evalúa el riesgo relacionado con las pérdidas en lugar de la volatilidad total."
   ]
  },
  {
   "cell_type": "code",
   "execution_count": null,
   "id": "ba73baa1",
   "metadata": {},
   "outputs": [],
   "source": [
    "# Obtener downside risk\n",
    "\n"
   ]
  },
  {
   "cell_type": "code",
   "execution_count": null,
   "id": "776d38bb",
   "metadata": {},
   "outputs": [],
   "source": [
    "# Obtener Ratio de Sortino\n",
    "\n"
   ]
  }
 ],
 "metadata": {
  "kernelspec": {
   "display_name": "Python 3 (ipykernel)",
   "language": "python",
   "name": "python3"
  },
  "language_info": {
   "codemirror_mode": {
    "name": "ipython",
    "version": 3
   },
   "file_extension": ".py",
   "mimetype": "text/x-python",
   "name": "python",
   "nbconvert_exporter": "python",
   "pygments_lexer": "ipython3",
   "version": "3.11.0"
  }
 },
 "nbformat": 4,
 "nbformat_minor": 5
}
