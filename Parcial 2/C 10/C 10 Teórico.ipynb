{
 "cells": [
  {
   "cell_type": "markdown",
   "id": "38943ff6",
   "metadata": {},
   "source": [
    "# Portafolios de Inversión\n",
    "## Optimización Analítica de Portafolios \n",
    "José Armando Melchor Soto"
   ]
  },
  {
   "cell_type": "markdown",
   "id": "ee2126ad",
   "metadata": {},
   "source": [
    "---"
   ]
  }
 ],
 "metadata": {
  "language_info": {
   "name": "python"
  }
 },
 "nbformat": 4,
 "nbformat_minor": 5
}
