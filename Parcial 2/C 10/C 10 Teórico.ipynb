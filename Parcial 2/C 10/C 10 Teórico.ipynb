{
 "cells": [
  {
   "cell_type": "markdown",
   "id": "38943ff6",
   "metadata": {},
   "source": [
    "# Portafolios de Inversión\n",
    "## Optimización Analítica de Portafolios \n",
    "José Armando Melchor Soto"
   ]
  },
  {
   "cell_type": "markdown",
   "id": "ee2126ad",
   "metadata": {},
   "source": [
    "---"
   ]
  },
  {
   "cell_type": "markdown",
   "id": "db00b26f",
   "metadata": {},
   "source": [
    "### Problema de Optimización "
   ]
  },
  {
   "cell_type": "markdown",
   "id": "e4959593",
   "metadata": {},
   "source": [
    "Un problema optimización trivial se define de la siguiente manera:\n",
    "\n",
    "$$min_x f(x)$$\n",
    "\n",
    "$$\n",
    "sujeto :\\begin{cases}\n",
    "h(x) = 0 \\\\\n",
    "g(x) \\leq 0\n",
    "\\end{cases}\n",
    "$$"
   ]
  },
  {
   "cell_type": "markdown",
   "id": "a9af8d86",
   "metadata": {},
   "source": [
    "Donde:\n",
    "\n",
    "- $x$ representa las variables de decisión , es decir aquellas variables que se desean determinar y sobre las cuales se tiene control.\n",
    "- $f(x)$ representa la función objetivo o función a optimizar.\n",
    "- $h(x)$ representa las restricciones de igualdad , es decir, aquellas restricciones que se deben de cumplir de manera cerrada para que el problema tenga solución.\n",
    "- $g(x)$ representa las restricciones de desigualdad, es decir,\n",
    "aquellas restricciones que se deben de cumplir de manera\n",
    "activa o inactiva para que el problema tenga solución, pero\n",
    "acotan la región factible."
   ]
  },
  {
   "cell_type": "markdown",
   "id": "f9b81aab",
   "metadata": {},
   "source": [
    "---"
   ]
  },
  {
   "cell_type": "markdown",
   "id": "6f8224cb",
   "metadata": {},
   "source": [
    "### Optimización Lagrangiana"
   ]
  },
  {
   "cell_type": "markdown",
   "id": "96038541",
   "metadata": {},
   "source": [
    "Para resolver un problema de optimización con restricciones de igualdad podemos utilizar el método de Lagrange. Dado un problema de optimización:\n",
    "\n",
    "$\n",
    "min_x f(x)\n",
    "$ \n",
    "\n",
    "$\n",
    "sujeto\n",
    "$ \n",
    "\n",
    "$\n",
    "h(x)=0\n",
    "$\n"
   ]
  },
  {
   "cell_type": "markdown",
   "id": "41fcb4a9",
   "metadata": {},
   "source": [
    "Podemos obtener el Lagrangiano de la función :\n",
    "$$L =f(x) +\\lambda{(h(x)-0)}$$ "
   ]
  },
  {
   "cell_type": "markdown",
   "id": "01c82e6c",
   "metadata": {},
   "source": [
    "Para posteriormente encontrar el gradiente del Lagrangiano:\n",
    "$$\\nabla{L}= \n",
    "\\begin{bmatrix} \n",
    "\\frac{\\partial{L}}{\\partial{x}}\n",
    " \\\\\n",
    " \\frac{\\partial{L}}{\\partial{\\lambda}} \\end{bmatrix}$$\n"
   ]
  },
  {
   "cell_type": "markdown",
   "id": "1aa9c6a6",
   "metadata": {},
   "source": [
    "Nótese que se pueden tener múltiples variables de decisión o restricciones de desigualdad , por tanto, la forma del\n",
    "gradiente dependerá de la cantidad de estas.\n",
    "A posteriori de encontrar el gradiente, se despejan la(s) variable(s) de decisión de sus respectivas derivadas parciales.\n",
    "Una vez despejada la variable de decisión de esta(s) ecuación(es), se encuentra el valor de lo(s) lambda(s) utilizando las\n",
    "restricciones.\n"
   ]
  },
  {
   "cell_type": "markdown",
   "id": "51991754",
   "metadata": {},
   "source": [
    "---"
   ]
  },
  {
   "cell_type": "markdown",
   "id": "33920b79",
   "metadata": {},
   "source": [
    "Los problemas se hicieron en la tablet."
   ]
  }
 ],
 "metadata": {
  "language_info": {
   "name": "python"
  }
 },
 "nbformat": 4,
 "nbformat_minor": 5
}
