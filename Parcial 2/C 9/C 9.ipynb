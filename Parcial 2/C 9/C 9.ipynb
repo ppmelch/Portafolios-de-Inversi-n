{
 "cells": [
  {
   "cell_type": "markdown",
   "id": "630588ac",
   "metadata": {},
   "source": [
    "<img style=\"float: left; margin: 30px 15px 15px 15px;\" src=\"https://oci02.img.iteso.mx/Identidades-De-Instancia/ITESO/Logos%20ITESO/Logo-ITESO-Principal.jpg\" width=\"400\" height=\"600\" /> \n",
    "    \n",
    "    \n",
    "## <font color='navy'> Teoría Moderna de Portafolios: Práctica\n",
    "    \n",
    "### <font color='navy'> Portafolios de Inversión\n",
    "\n",
    "    Mtro. Sean Nicolás González Vázquez\n",
    "    "
   ]
  },
  {
   "cell_type": "markdown",
   "id": "99bad716",
   "metadata": {},
   "source": [
    "###  0.- Introducción\n",
    "    \n",
    "Como discutimos en la clase anterior, la Teoría Moderna de Portafolios, propuesta por Markowitz y Sharpe, proporciona a los inversionistas herramientas valiosas para tomar decisiones de inversión más fundamentadas y basadas en datos.\n",
    "\n",
    "El objetivo principal de esta teoría es determinar las ponderaciones \"eficientes\" de un conjunto de activos dentro de un portafolio de inversión, optimizando una métrica específica, como la varianza o el ratio de Sharpe. A este proceso se le denomina:\n",
    "\n",
    "> **Asset Allocation**: Es el proceso de decidir cuánto capital asignar a cada activo dentro de un portafolio de inversión.\n",
    "    \n",
    "Ahora bien, *¿cómo podemos optimizar un portafolio en Python?*\n",
    "\n",
    "En esta clase aprenderemos a hacerlo utilizando la librería scipy, que incluye el método minimize. A continuación, se presenta el enlace a la documentación:\n",
    "\n",
    "+ https://docs.scipy.org/doc/scipy/reference/generated/scipy.optimize.minimize.html\n",
    "    \n",
    "    \n",
    "Esta función requiere los siguientes parámetros clave:\n",
    "\n",
    "+ **fun:** La función objetivo a optimizar.\n",
    "+ **x0**: Las variables iniciales que se desean ajustar.\n",
    "+ **bounds**: Los rangos permitidos para las variables de decisión.\n",
    "+ **constraints**: Las restricciones que deben cumplir las soluciones.\n",
    "+ **tol**: Tolerancia al error, por default usaremos 1e-16.\n",
    "    \n",
    "Con esta base y lo aprendido previamente sobre la Teoría Moderna de Portafolios, ¡comencemos!\n"
   ]
  },
  {
   "cell_type": "markdown",
   "id": "c05cc4f7",
   "metadata": {},
   "source": [
    "###   1.- Obtención de Datos y Métricas del Portafolio"
   ]
  },
  {
   "cell_type": "markdown",
   "id": "c5d10296",
   "metadata": {},
   "source": [
    "Primero, descargaremos los precios de cierre ajustado para los siguientes activos *AAPL*, *MSFT* y *GOOG*, desde el `2021-01-01` hasta la fecha. \n",
    "\n",
    "Después obtendremos los rendimientos y las métricas de riesgo y rendimiento de los activos de manera individual."
   ]
  },
  {
   "cell_type": "code",
   "execution_count": 116,
   "id": "c5fdc50f",
   "metadata": {},
   "outputs": [],
   "source": [
    "# Importación de librerías\n",
    "import pandas as pd\n",
    "import yfinance as yf \n",
    "import numpy as np\n",
    "from scipy.optimize import minimize \n",
    "import matplotlib.pyplot as plt\n"
   ]
  },
  {
   "cell_type": "code",
   "execution_count": 117,
   "id": "df3c5c08",
   "metadata": {},
   "outputs": [
    {
     "name": "stderr",
     "output_type": "stream",
     "text": [
      "[*********************100%***********************]  3 of 3 completed\n"
     ]
    },
    {
     "data": {
      "text/html": [
       "<div>\n",
       "<style scoped>\n",
       "    .dataframe tbody tr th:only-of-type {\n",
       "        vertical-align: middle;\n",
       "    }\n",
       "\n",
       "    .dataframe tbody tr th {\n",
       "        vertical-align: top;\n",
       "    }\n",
       "\n",
       "    .dataframe thead th {\n",
       "        text-align: right;\n",
       "    }\n",
       "</style>\n",
       "<table border=\"1\" class=\"dataframe\">\n",
       "  <thead>\n",
       "    <tr style=\"text-align: right;\">\n",
       "      <th>Ticker</th>\n",
       "      <th>AAPL</th>\n",
       "      <th>GOOG</th>\n",
       "      <th>MSFT</th>\n",
       "    </tr>\n",
       "    <tr>\n",
       "      <th>Date</th>\n",
       "      <th></th>\n",
       "      <th></th>\n",
       "      <th></th>\n",
       "    </tr>\n",
       "  </thead>\n",
       "  <tbody>\n",
       "    <tr>\n",
       "      <th>2021-01-04</th>\n",
       "      <td>126.239670</td>\n",
       "      <td>85.901390</td>\n",
       "      <td>209.617172</td>\n",
       "    </tr>\n",
       "    <tr>\n",
       "      <th>2021-01-05</th>\n",
       "      <td>127.800499</td>\n",
       "      <td>86.531647</td>\n",
       "      <td>209.819412</td>\n",
       "    </tr>\n",
       "    <tr>\n",
       "      <th>2021-01-06</th>\n",
       "      <td>123.498528</td>\n",
       "      <td>86.251801</td>\n",
       "      <td>204.378922</td>\n",
       "    </tr>\n",
       "    <tr>\n",
       "      <th>2021-01-07</th>\n",
       "      <td>127.712708</td>\n",
       "      <td>88.834457</td>\n",
       "      <td>210.194946</td>\n",
       "    </tr>\n",
       "    <tr>\n",
       "      <th>2021-01-08</th>\n",
       "      <td>128.815033</td>\n",
       "      <td>89.826553</td>\n",
       "      <td>211.475601</td>\n",
       "    </tr>\n",
       "  </tbody>\n",
       "</table>\n",
       "</div>"
      ],
      "text/plain": [
       "Ticker            AAPL       GOOG        MSFT\n",
       "Date                                         \n",
       "2021-01-04  126.239670  85.901390  209.617172\n",
       "2021-01-05  127.800499  86.531647  209.819412\n",
       "2021-01-06  123.498528  86.251801  204.378922\n",
       "2021-01-07  127.712708  88.834457  210.194946\n",
       "2021-01-08  128.815033  89.826553  211.475601"
      ]
     },
     "execution_count": 117,
     "metadata": {},
     "output_type": "execute_result"
    }
   ],
   "source": [
    "# Obtener precios\n",
    "prices = yf.download(['AAPL','MSFT','GOOG'],start = '2021-01-01', end = '2025-06-10')['Close']\n",
    "prices.head()"
   ]
  },
  {
   "cell_type": "code",
   "execution_count": 118,
   "id": "b7153727",
   "metadata": {},
   "outputs": [
    {
     "data": {
      "text/html": [
       "<div>\n",
       "<style scoped>\n",
       "    .dataframe tbody tr th:only-of-type {\n",
       "        vertical-align: middle;\n",
       "    }\n",
       "\n",
       "    .dataframe tbody tr th {\n",
       "        vertical-align: top;\n",
       "    }\n",
       "\n",
       "    .dataframe thead th {\n",
       "        text-align: right;\n",
       "    }\n",
       "</style>\n",
       "<table border=\"1\" class=\"dataframe\">\n",
       "  <thead>\n",
       "    <tr style=\"text-align: right;\">\n",
       "      <th>Ticker</th>\n",
       "      <th>AAPL</th>\n",
       "      <th>GOOG</th>\n",
       "      <th>MSFT</th>\n",
       "    </tr>\n",
       "    <tr>\n",
       "      <th>Date</th>\n",
       "      <th></th>\n",
       "      <th></th>\n",
       "      <th></th>\n",
       "    </tr>\n",
       "  </thead>\n",
       "  <tbody>\n",
       "    <tr>\n",
       "      <th>2021-01-05</th>\n",
       "      <td>0.012364</td>\n",
       "      <td>0.007337</td>\n",
       "      <td>0.000965</td>\n",
       "    </tr>\n",
       "    <tr>\n",
       "      <th>2021-01-06</th>\n",
       "      <td>-0.033662</td>\n",
       "      <td>-0.003234</td>\n",
       "      <td>-0.025929</td>\n",
       "    </tr>\n",
       "    <tr>\n",
       "      <th>2021-01-07</th>\n",
       "      <td>0.034123</td>\n",
       "      <td>0.029943</td>\n",
       "      <td>0.028457</td>\n",
       "    </tr>\n",
       "    <tr>\n",
       "      <th>2021-01-08</th>\n",
       "      <td>0.008631</td>\n",
       "      <td>0.011168</td>\n",
       "      <td>0.006093</td>\n",
       "    </tr>\n",
       "    <tr>\n",
       "      <th>2021-01-11</th>\n",
       "      <td>-0.023249</td>\n",
       "      <td>-0.022405</td>\n",
       "      <td>-0.009698</td>\n",
       "    </tr>\n",
       "  </tbody>\n",
       "</table>\n",
       "</div>"
      ],
      "text/plain": [
       "Ticker          AAPL      GOOG      MSFT\n",
       "Date                                    \n",
       "2021-01-05  0.012364  0.007337  0.000965\n",
       "2021-01-06 -0.033662 -0.003234 -0.025929\n",
       "2021-01-07  0.034123  0.029943  0.028457\n",
       "2021-01-08  0.008631  0.011168  0.006093\n",
       "2021-01-11 -0.023249 -0.022405 -0.009698"
      ]
     },
     "execution_count": 118,
     "metadata": {},
     "output_type": "execute_result"
    }
   ],
   "source": [
    "# Obtener rendimiento\n",
    "ret = prices.pct_change().dropna()\n",
    "ret.head()"
   ]
  },
  {
   "cell_type": "code",
   "execution_count": 119,
   "id": "1e4e3e28",
   "metadata": {},
   "outputs": [
    {
     "data": {
      "text/plain": [
       "Ticker\n",
       "AAPL    0.000582\n",
       "GOOG    0.000849\n",
       "MSFT    0.000872\n",
       "dtype: float64"
      ]
     },
     "execution_count": 119,
     "metadata": {},
     "output_type": "execute_result"
    }
   ],
   "source": [
    "# Obtener rendimiento promedio\n",
    "ret_mean = ret.mean()\n",
    "ret_mean"
   ]
  },
  {
   "cell_type": "code",
   "execution_count": 120,
   "id": "7f6655ce",
   "metadata": {},
   "outputs": [
    {
     "data": {
      "text/html": [
       "<div>\n",
       "<style scoped>\n",
       "    .dataframe tbody tr th:only-of-type {\n",
       "        vertical-align: middle;\n",
       "    }\n",
       "\n",
       "    .dataframe tbody tr th {\n",
       "        vertical-align: top;\n",
       "    }\n",
       "\n",
       "    .dataframe thead th {\n",
       "        text-align: right;\n",
       "    }\n",
       "</style>\n",
       "<table border=\"1\" class=\"dataframe\">\n",
       "  <thead>\n",
       "    <tr style=\"text-align: right;\">\n",
       "      <th>Ticker</th>\n",
       "      <th>AAPL</th>\n",
       "      <th>GOOG</th>\n",
       "      <th>MSFT</th>\n",
       "    </tr>\n",
       "    <tr>\n",
       "      <th>Ticker</th>\n",
       "      <th></th>\n",
       "      <th></th>\n",
       "      <th></th>\n",
       "    </tr>\n",
       "  </thead>\n",
       "  <tbody>\n",
       "    <tr>\n",
       "      <th>AAPL</th>\n",
       "      <td>0.000325</td>\n",
       "      <td>0.000213</td>\n",
       "      <td>0.000202</td>\n",
       "    </tr>\n",
       "    <tr>\n",
       "      <th>GOOG</th>\n",
       "      <td>0.000213</td>\n",
       "      <td>0.000390</td>\n",
       "      <td>0.000228</td>\n",
       "    </tr>\n",
       "    <tr>\n",
       "      <th>MSFT</th>\n",
       "      <td>0.000202</td>\n",
       "      <td>0.000228</td>\n",
       "      <td>0.000281</td>\n",
       "    </tr>\n",
       "  </tbody>\n",
       "</table>\n",
       "</div>"
      ],
      "text/plain": [
       "Ticker      AAPL      GOOG      MSFT\n",
       "Ticker                              \n",
       "AAPL    0.000325  0.000213  0.000202\n",
       "GOOG    0.000213  0.000390  0.000228\n",
       "MSFT    0.000202  0.000228  0.000281"
      ]
     },
     "execution_count": 120,
     "metadata": {},
     "output_type": "execute_result"
    }
   ],
   "source": [
    "# Obtener matriz de covariânza varianza\n",
    "cov = ret.cov()\n",
    "cov"
   ]
  },
  {
   "cell_type": "markdown",
   "id": "ef9ab109",
   "metadata": {},
   "source": [
    "Con solamente esta informacion, estamos listos para encontrar los portafolios eficientes."
   ]
  },
  {
   "cell_type": "markdown",
   "id": "3ef339d6",
   "metadata": {},
   "source": [
    "###   2.- Portafolio Eficiente en Mínima Varianza\n",
    "    \n",
    "El portafolio eficiente en mínima varianza es aquel que proporciona el menor riesgo posible, dado un conjunto de activos financieros.\n",
    "\n",
    "La idea central de este método es que es posible reducir el riesgo de un portafolio aprovechando las propiedades estadísticas de los rendimientos de los activos, específicamente sus covarianzas.\n",
    "y varianzas.\n",
    "\n",
    "Markowitz demostró que, al considerar cómo los rendimientos de una colección de activos se mueven conjuntamente (es decir, su covarianza), los inversores pueden construir un portafolio que minimice el riesgo.\n",
    "    \n",
    "El problema de optimización se define de la siguiente manera:\n",
    "    \n",
    "    \n",
    "$$\\min_w \\sigma^2 = w^T \\Sigma w$$\n",
    "    \n",
    "$$s.a. \\hspace{0.5cm} \\sum_{i=1}^n w_i= 1$$\n",
    "$$ \\hspace{0.8cm} w > 0 $$\n",
    "    \n",
    "    \n",
    "Recuerda que `scipy` nos solicitará la función objetivo, los valores iniciales, las cotas, las restricciones y la tolerancia al error para realizar la optimización."
   ]
  },
  {
   "cell_type": "code",
   "execution_count": 121,
   "id": "3a5fd3b0",
   "metadata": {},
   "outputs": [],
   "source": [
    "# Definir funcion objetivo\n",
    "varianza = lambda w: w.T @ cov @ w"
   ]
  },
  {
   "cell_type": "code",
   "execution_count": 122,
   "id": "9955a157",
   "metadata": {},
   "outputs": [
    {
     "data": {
      "text/plain": [
       "array([0.33333333, 0.33333333, 0.33333333])"
      ]
     },
     "execution_count": 122,
     "metadata": {},
     "output_type": "execute_result"
    }
   ],
   "source": [
    "# Definir valores iniciales\n",
    "n = len(ret.keys())\n",
    "w_inicial =np.ones(n)/n\n",
    "w_inicial"
   ]
  },
  {
   "cell_type": "code",
   "execution_count": 123,
   "id": "54be0711",
   "metadata": {},
   "outputs": [
    {
     "data": {
      "text/plain": [
       "[(0, 1), (0, 1), (0, 1)]"
      ]
     },
     "execution_count": 123,
     "metadata": {},
     "output_type": "execute_result"
    }
   ],
   "source": [
    "# Definir las cotas\n",
    "bounds = [(0,1)]*n\n",
    "bounds"
   ]
  },
  {
   "cell_type": "code",
   "execution_count": 124,
   "id": "456c12f7",
   "metadata": {},
   "outputs": [],
   "source": [
    "# Definir las restricciones\n",
    "restr = lambda w: sum(w)-1"
   ]
  },
  {
   "cell_type": "code",
   "execution_count": 125,
   "id": "3cf83ae3",
   "metadata": {},
   "outputs": [],
   "source": [
    "# Definir tolerancia\n",
    "tol = 1e-100"
   ]
  },
  {
   "cell_type": "code",
   "execution_count": 126,
   "id": "1b8d2031",
   "metadata": {},
   "outputs": [
    {
     "data": {
      "text/plain": [
       " message: Optimization terminated successfully\n",
       " success: True\n",
       "  status: 0\n",
       "     fun: 0.00024579838542522595\n",
       "       x: [ 3.461e-01  1.432e-01  5.106e-01]\n",
       "     nit: 15\n",
       "     jac: [ 4.916e-04  4.916e-04  4.916e-04]\n",
       "    nfev: 62\n",
       "    njev: 15"
      ]
     },
     "execution_count": 126,
     "metadata": {},
     "output_type": "execute_result"
    }
   ],
   "source": [
    "# Aplicar función de scipy.optimize\n",
    "min_var = minimize(\n",
    "    fun=varianza,\n",
    "    x0=w_inicial,\n",
    "    bounds=bounds,\n",
    "    constraints={'fun': restr, 'type': 'eq'},\n",
    "    tol=tol\n",
    ")\n",
    "\n",
    "min_var"
   ]
  },
  {
   "cell_type": "code",
   "execution_count": 127,
   "id": "2abe18bd",
   "metadata": {},
   "outputs": [
    {
     "data": {
      "text/plain": [
       "array([0.34611816, 0.14323263, 0.51064921])"
      ]
     },
     "execution_count": 127,
     "metadata": {},
     "output_type": "execute_result"
    }
   ],
   "source": [
    "# Encontrar pesos eficientes \n",
    "w_minvar = min_var.x\n",
    "w_minvar"
   ]
  },
  {
   "cell_type": "markdown",
   "id": "8affdcca",
   "metadata": {},
   "source": [
    "¡Perfecto!, ahora obtengamos las métricas de rendimiento y riesgo de este portafolio de inversion"
   ]
  },
  {
   "cell_type": "code",
   "execution_count": 128,
   "id": "f29742f2",
   "metadata": {},
   "outputs": [
    {
     "data": {
      "text/plain": [
       "0.0007680307480015565"
      ]
     },
     "execution_count": 128,
     "metadata": {},
     "output_type": "execute_result"
    }
   ],
   "source": [
    "# Obtener rendimiento del portafolio\n",
    "red_minvar = sum(w_minvar * ret_mean)\n",
    "red_minvar\n"
   ]
  },
  {
   "cell_type": "code",
   "execution_count": 129,
   "id": "35fd1ed8",
   "metadata": {},
   "outputs": [
    {
     "data": {
      "text/plain": [
       "0.015677958586028537"
      ]
     },
     "execution_count": 129,
     "metadata": {},
     "output_type": "execute_result"
    }
   ],
   "source": [
    "# Obtener volatilidad del portafolio\n",
    "vol_minvar = np.sqrt(varianza(w_minvar))\n",
    "vol_minvar"
   ]
  },
  {
   "cell_type": "markdown",
   "id": "c0a7dde5",
   "metadata": {},
   "source": [
    "¿Parece sencillo, verdad? Aunque la implementación básica es bastante directa, imagina que quisieras optimizar múltiples portafolios. Para este tipo de escenarios, es más eficiente generar funciones de Python. Recordemos que la estructura básica para definir una función en Python es la siguiente:\n",
    "\n",
    "def nombre_de_función(parámetro_1, ..., parámetro_n):\n",
    "\n",
    "        ... code ...\n",
    "        ... code ...\n",
    "        \n",
    "        return result\n",
    "        \n",
    "**Ejercicio:** Con esta información, crea una función llamada `opt_min_var`que reciba los rendimientos de los activos y retorne los pesos eficientes en mínima varianza."
   ]
  },
  {
   "cell_type": "code",
   "execution_count": 130,
   "id": "695e8794",
   "metadata": {},
   "outputs": [],
   "source": [
    "# Programar funcion\n",
    "def opt_min_var(ret):\n",
    "    # Obtener rendimiento promedio\n",
    "    ret_mean = ret.mean()\n",
    "    # Obtener matriz de covariânza varianza\n",
    "    cov = ret.cov()\n",
    "    # Definir funcion objetivo\n",
    "    varianza = lambda w: w.T @ cov @ w\n",
    "    # Definir valores iniciales\n",
    "    n = len(ret.keys())\n",
    "    w_inicial = np.ones(n) / n\n",
    "    # Definir las cotas\n",
    "    bounds = [(0, 1)] * n\n",
    "    # Definir las restricciones\n",
    "    restr = lambda w: sum(w)-1\n",
    "    # Definir tolerancia\n",
    "    tol = 1e-100\n",
    "    # Aplicar función de scipy.optimize\n",
    "    min_var = minimize(\n",
    "        fun=varianza,\n",
    "        x0=w_inicial,\n",
    "        bounds=bounds,\n",
    "        constraints={'fun': restr, 'type': 'eq'},\n",
    "        tol=tol\n",
    "    )\n",
    "    # Encontrar pesos eficientes \n",
    "    w_minvar = min_var.x\n",
    "    \n",
    "    return w_minvar\n"
   ]
  },
  {
   "cell_type": "code",
   "execution_count": 131,
   "id": "48971747",
   "metadata": {},
   "outputs": [
    {
     "data": {
      "text/plain": [
       "array([0.34611816, 0.14323263, 0.51064921])"
      ]
     },
     "execution_count": 131,
     "metadata": {},
     "output_type": "execute_result"
    }
   ],
   "source": [
    "# Verificar resultados de la función\n",
    "w_minvar_func = opt_min_var(ret)\n",
    "\n",
    "w_minvar_func\n",
    "\n"
   ]
  },
  {
   "cell_type": "code",
   "execution_count": 132,
   "id": "36bc884d",
   "metadata": {},
   "outputs": [
    {
     "data": {
      "text/plain": [
       "0.0007680307480015565"
      ]
     },
     "execution_count": 132,
     "metadata": {},
     "output_type": "execute_result"
    }
   ],
   "source": [
    "red_minvar = sum(w_minvar_func * ret_mean)\n",
    "\n",
    "red_minvar"
   ]
  },
  {
   "cell_type": "code",
   "execution_count": 133,
   "id": "7a0cf1c3",
   "metadata": {},
   "outputs": [
    {
     "data": {
      "text/plain": [
       "0.015677958586028537"
      ]
     },
     "execution_count": 133,
     "metadata": {},
     "output_type": "execute_result"
    }
   ],
   "source": [
    "vol_minvar2 = np.sqrt(varianza(w_minvar_func))\n",
    "vol_minvar2"
   ]
  },
  {
   "cell_type": "code",
   "execution_count": 134,
   "id": "9b53a1f7",
   "metadata": {},
   "outputs": [
    {
     "data": {
      "text/plain": [
       "True"
      ]
     },
     "execution_count": 134,
     "metadata": {},
     "output_type": "execute_result"
    }
   ],
   "source": [
    "vol_minvar2 == vol_minvar"
   ]
  },
  {
   "cell_type": "markdown",
   "id": "247bf7cb",
   "metadata": {},
   "source": [
    "----"
   ]
  },
  {
   "cell_type": "markdown",
   "id": "63a1187d",
   "metadata": {},
   "source": [
    "### 3.- Portafolio Eficiente en Máximo de Sharpe\n",
    "    \n",
    "El portafolio eficiente en máximo Sharpe es aquel que maximiza la relación entre retorno y riesgo.\n",
    "\n",
    "Esta relación se mide a través del ratio de Sharpe, que es el ratio entre el retorno en exceso a la tasa\n",
    "libre de riesgo y el riesgo.\n",
    "\n",
    "$$\\max_w \\hspace{0.1 cm} RS = \\frac{\\mu - r_f}{\\sigma} = \\frac{w^T \\bar{r} - r_f}{\\sqrt{w^T \\Sigma w}}$$\n",
    "    \n",
    "$$s.a. \\hspace{0.5cm} \\sum_{i=1}^n w_i= 1$$\n",
    "$$ \\hspace{0.8cm} w > 0 $$\n",
    "    \n",
    "La tasa libre de riesgo es una referencia clave en el ámbito financiero y generalmente es conocida de antemano por el gestor de inversiones, ya que el banco central del país de referencia la publica regularmente.\n",
    "\n",
    "Por ejemplo, la tasa de Banxico la puedes encontrar en https://www.banxico.org.mx/, y la tasa del Banco Central Americano en https://www.federalreserve.gov/releases/h15/#:~:text=As%20of%20March%201,%202016,%20the%20daily%20effective%20federal%20funds.\n",
    "    \n",
    "Escribe ahora una función llamada `opt_max_sharpe` que obtenga los pesos eficientes en máximo de sharpe para tu portafolio, esta recibirá los rendimientos y la tasa libre de riesgo, deberá retornar los pesos."
   ]
  },
  {
   "cell_type": "code",
   "execution_count": 135,
   "id": "7c0b1cb4",
   "metadata": {},
   "outputs": [],
   "source": [
    "# Programar funcion\n"
   ]
  },
  {
   "cell_type": "code",
   "execution_count": 136,
   "id": "d2883cdd",
   "metadata": {},
   "outputs": [],
   "source": [
    "# Obtener los pesos\n"
   ]
  },
  {
   "cell_type": "markdown",
   "id": "e7fa8676",
   "metadata": {},
   "source": [
    "¡Bien hecho!, ahora encontremos las métricas de rendimiento y riesgo para el portafolio eficiente en máximo de Sharpe"
   ]
  },
  {
   "cell_type": "code",
   "execution_count": 137,
   "id": "f447a405",
   "metadata": {},
   "outputs": [],
   "source": [
    "# Obtener rendimiento del portafolio\n"
   ]
  },
  {
   "cell_type": "code",
   "execution_count": 138,
   "id": "c8c99813",
   "metadata": {},
   "outputs": [],
   "source": [
    "# Obtener volatilidad del portafolio\n"
   ]
  },
  {
   "cell_type": "markdown",
   "id": "239fcbf8",
   "metadata": {},
   "source": [
    "Ahora, comparemos la volatilidad del portafolio eficiente en máximo de sharpe con el de mínima varianza. ¿Que observas? ¿Qué pasa con el rendimiento?"
   ]
  },
  {
   "cell_type": "markdown",
   "id": "03eba57d",
   "metadata": {},
   "source": [
    "###  4.- Frontera Eficiente en Media Varianza\n",
    "    \n",
    "La frontera eficiente en media-varianza es la sección superior de la bala de Markowitz, donde se encuentran aquellos portafolios que, para un nivel de riesgo dado, ofrecen el mayor rendimiento posible.\n",
    "\n",
    "Estos portafolios son considerados “óptimos” porque no es posible encontrar otro portafolio con el mismo nivel de riesgo que ofrezca un rendimiento superior. Por lo tanto, los portafolios que se encuentran dentro de la frontera eficiente representan aquellas combinaciones de activos que un inversionista racional seleccionaría.\n",
    "\n",
    "    \n",
    "Para dibujar la frontera eficiente de portafolios, sigue estos pasos:\n",
    "\n",
    "**1.- Descarga de datos**: Para un conjunto de activos financieros, descarga los precios de cierre ajustado. A partir de estos precios, calcula los rendimientos diarios.\n",
    "    \n",
    "**2.- Generación de portafolios aleatorios**: Genera múltiples portafolios aleatorios para explorar todas las posibles combinaciones de pesos. Utiliza la función `np.random.dirichlet` para generar combinaciones de pesos que cumplan con las restricciones necesarias: Todos los pesos deben ser mayores o iguales a cero (portafolios long-only). Los pesos deben sumar 1 (esto asegura que estás asignando todo el capital disponible).\n",
    "\n",
    "    \n",
    " > *Distribución de Dirichlet*: Esta distribución es útil cuando se desea generar valores que sumen un total constante (en este caso, 1). Es una distribución continua multivariable que, a diferencia de otras, respeta la condición de no negatividad y normalización, lo que la hace ideal para representar pesos en portafolios. \n",
    "\n",
    "**3.-  Cálculo del rendimiento esperado y la volatilidad de portafolios aleatorios**: Para cada portafolio generado en el paso anterior, calcula su rendimiento esperado y su volatilidad.\n",
    "\n",
    "**4.- Portafolio de mínima varianza**: Encuentra el portafolio con la mínima varianza. \n",
    "    \n",
    "\n",
    "**5.- Portafolio de máximo Sharpe**: Encuentra el portafolio eficiente en máximo de Sharpe \n",
    "\n",
    "**6.- Gráfica de la frontera eficiente**: Grafica los portafolios aleatorios junto con los portafolios eficientes. Usa el eje x para la volatilidad (desviación estándar) y el eje y para el rendimiento. \n",
    "    \n",
    "*Plus:* Puedes incluir también los activos individuales dentro de la gráfica. Esto te permitirá comparar cada activo con los portafolios eficientes y ver cuál ofrece una mejor relación riesgo-rendimiento."
   ]
  },
  {
   "cell_type": "code",
   "execution_count": 139,
   "id": "355b9545",
   "metadata": {},
   "outputs": [],
   "source": [
    "# Generacion de portafolios aleatorios\n"
   ]
  },
  {
   "cell_type": "code",
   "execution_count": 140,
   "id": "a721cda1",
   "metadata": {},
   "outputs": [],
   "source": [
    "# Realizar grafica\n",
    "\n",
    "# Scatter plot de portafolios aleatorios\n",
    "\n",
    "\n",
    "# Scatter plot de Minima Varianza\n",
    "\n",
    "\n",
    "# Scatter plot de Maximo de Sharpe\n",
    "\n",
    "\n",
    "# Nombrar eje x, y, titulo\n",
    "\n",
    "\n",
    "\n",
    "# Graficar coordenadas de activos individuales\n"
   ]
  },
  {
   "cell_type": "markdown",
   "id": "1f283e24",
   "metadata": {},
   "source": [
    "###  Conclusiones"
   ]
  },
  {
   "cell_type": "markdown",
   "id": "81772e65",
   "metadata": {},
   "source": [
    "> Los portafolios óptimos representan el **\"mejor\" portafolio (combinación de activos / ponderaciones) para un conjunto de activos financieros según una métrica específica**. Estos portafolios ofrecen una visión clara sobre cómo asignar el capital de manera sistemática dado un objetivo concreto.\n",
    "\n",
    "> Aunque invertir en estos portafolios aumenta la probabilidad de obtener ganancias, es crucial tener en cuenta que estos cálculos están basados en datos históricos. La teoría de portafolios asume que las correlaciones, rendimientos y volatilidades del pasado se mantendrán constantes en el futuro, lo cual a veces no sucede: \"**rendimientos pasados no aseguran rendimientos futuros**\". Hay que considerar también que la inversión en portafolios, a diferencia del *trading*, es a largo plazo. \n",
    "\n",
    "> A pesar de esto, **el uso de metodologías cuantitativas ofrece una mejora sustancial sobre la asignación de activos basada en la intuición o el \"feeling\"**. La asignación *aleatoria de capital* sin un análisis cuantitativo adecuado tiende a ser ineficiente, y a menudo lleva a una sobreexposición a riesgos y sesgos cognitivos.\n",
    "\n",
    "> Al aplicar un enfoque estructurado y basado en datos para la selección de portafolios, los inversores pueden **tomar decisiones más informadas y sistemáticas**, lo que resulta en una gestión del riesgo más adecuada y una mayor probabilidad de alcanzar sus objetivos financieros a largo plazo.\n",
    "\n",
    "\n"
   ]
  },
  {
   "cell_type": "markdown",
   "id": "51beda51",
   "metadata": {},
   "source": [
    "## Tarea 4. \n",
    "\n",
    "Realiza un análisis para un portafolio compuesto por los siguientes activos: **LLY (Eli Lilly), NVDA (NVIDIA), MSFT (Microsoft) y KXI (iShares Global Consumer Staples ETF)**. Completa los siguientes puntos.\n",
    "\n",
    "---\n",
    "\n",
    "### 1. Investigación de los Activos\n",
    "\n",
    "Realiza un breve resumen de los activos, describiendo su giro de negocio, sector y productos o servicios.\n",
    "\n",
    "\n",
    "---\n",
    "\n",
    "### 2. Cálculo de Rendimientos y Volatilidad de Activos\n",
    "\n",
    "Descarga los **precios de cierre ajustado** para los activos desde el `2018-01-01` hasta el `2024-09-25`, calcula los **rendimientos diarios**, así como el **rendimiento promedio**, la **volatilidad** de cada activo y la **matriz de covarianza**.\n",
    "\n",
    "---\n",
    "\n",
    "### 3. Portafolio Eficiente en Mínima Varianza\n",
    "\n",
    "Utilizando la matriz de covarianza de los activos, optimiza los pesos para obtener el **portafolio de mínima varianza**. Calcula su rendimiento y volatilidad.\n",
    "\n",
    "---\n",
    "\n",
    "### 4. Portafolio Eficiente en Máximo Sharpe\n",
    "\n",
    "Obtén el portafolio que **maximiza el ratio de Sharpe**, calcula su rendimiento y volatilidad. Asume una tasa libre de riesgo del $3\\%$ anual.\n",
    "\n",
    "\n",
    "---\n",
    "\n",
    "### 5. Portafolio Equitativamente Ponderado\n",
    "\n",
    "\n",
    "Asume otro portafolio equitativamente ponderado (todos los activos con el mismo peso), y calcula su rendimiento promedio y su volatilidad.\n",
    "\n",
    "---\n",
    "\n",
    "### 6. Gráfica de la Frontera Eficiente\n",
    "\n",
    "    \n",
    "Grafica la **frontera eficiente** en términos de media-varianza, junto con los portafolios eficientes, el portafolio equitativamente ponderado y los activos individuales.\n",
    "\n",
    "---\n",
    "\n",
    "### 7. Conclusión\n",
    "\n",
    "    \n",
    "Compara las métricas de rendimiento y volatilidad de los tres portafolios: \n",
    "1. Portafolio de mínima varianza\n",
    "2. Portafolio de máximo Sharpe\n",
    "3. Portafolio equitativamente ponderado\n",
    "\n",
    "Responde:\n",
    "\n",
    "- ¿Cuál de estos portafolios es superior en términos de riesgo?    \n",
    "\n",
    "\n",
    "- ¿Cuál de estos portafolios es superior en términos de riesgo y retorno?   \n",
    "\n",
    "\n",
    "- Interpreta la frontera eficiente en base a la teoría vista en clase y responde: ¿Qué pasa con el portafolio *equally weighted*?¿Es óptimo?¿Por qué?  \n",
    "\n",
    "\n",
    "- ¿Por qué un portafolio podría ser mejor que otro? ¿De qué depende que sea \"mejor\"?    \n",
    "\n",
    "\n",
    "- Analiza las ponderaciones obtenidas por el método de mínima varianza y el de máximo de Sharpe para cada activo de manera individual, basándote en la descripción presentada en la primera sección de la tarea. ¿Qué factores explican que cada activo tenga una mayor o menor ponderación en uno de los métodos en comparación con el otro?\n",
    "\n",
    "\n",
    "- Concluye acerca de las ventajas y desventajas de una estrategia cuantitativa de asignación de activos frente a una basada en \"feeling\" o intuición.\n"
   ]
  },
  {
   "cell_type": "markdown",
   "id": "9a986792",
   "metadata": {},
   "source": []
  }
 ],
 "metadata": {
  "kernelspec": {
   "display_name": "Python 3",
   "language": "python",
   "name": "python3"
  },
  "language_info": {
   "codemirror_mode": {
    "name": "ipython",
    "version": 3
   },
   "file_extension": ".py",
   "mimetype": "text/x-python",
   "name": "python",
   "nbconvert_exporter": "python",
   "pygments_lexer": "ipython3",
   "version": "3.12.8"
  }
 },
 "nbformat": 4,
 "nbformat_minor": 5
}
