{
 "cells": [
  {
   "cell_type": "markdown",
   "id": "ec12aeeb",
   "metadata": {},
   "source": [
    "# Portafolios de Inversión\n",
    "## Repaso Práctico\n",
    "José Armando Melchor Soto\n",
    "\n",
    "---\n",
    "\n",
    "\n",
    "\n"
   ]
  },
  {
   "cell_type": "markdown",
   "id": "a2d0a120",
   "metadata": {},
   "source": [
    "### Librerías "
   ]
  },
  {
   "cell_type": "code",
   "execution_count": 1,
   "id": "ebec3eb3",
   "metadata": {},
   "outputs": [],
   "source": [
    "import pandas as pd \n",
    "import numpy as np\n",
    "import yfinance as yf\n",
    "import matplotlib.pyplot as plt\n",
    "from scipy.optimize import minimize "
   ]
  },
  {
   "cell_type": "markdown",
   "id": "dbb14422",
   "metadata": {},
   "source": [
    "---"
   ]
  },
  {
   "cell_type": "markdown",
   "id": "6ef25ec4",
   "metadata": {},
   "source": [
    "#### Funciones"
   ]
  },
  {
   "cell_type": "markdown",
   "id": "fc9667a0",
   "metadata": {},
   "source": [
    "##### Función Mínima Varianza "
   ]
  },
  {
   "cell_type": "code",
   "execution_count": 2,
   "id": "f9d82cf6",
   "metadata": {},
   "outputs": [],
   "source": [
    "def opt_min_var(rets):\n",
    "    \n",
    "    cov=rets.cov()\n",
    "    n_assets = len(rets.columns)\n",
    "    \n",
    "    var = lambda w: w.T @ cov @ w\n",
    "    \n",
    "    w0=np.ones(n_assets)/n_assets\n",
    "    \n",
    "    bounds=[(0, 1)]*n_assets\n",
    "    \n",
    "    constraint=lambda w: sum(w)-1\n",
    "    \n",
    "    result=minimize(fun=var, x0=w0, bounds=bounds, constraints={'fun': constraint, 'type': 'eq'}, tol=1e-16)\n",
    "    \n",
    "    return result.x"
   ]
  },
  {
   "cell_type": "markdown",
   "id": "cf14c704",
   "metadata": {},
   "source": [
    "##### Función Máximo de Sharpe"
   ]
  },
  {
   "cell_type": "code",
   "execution_count": 3,
   "id": "a7f94864",
   "metadata": {},
   "outputs": [],
   "source": [
    "def opt_max_sharpe(rets, rf):\n",
    "    \n",
    "    E=rets.mean()\n",
    "    cov=rets.cov()\n",
    "    n_assets = len(rets.columns)\n",
    "    \n",
    "    rs = lambda w: -((w.T @ E - rf/252) / np.sqrt(w.T @ cov @ w))\n",
    "    \n",
    "    w0=np.ones(n_assets)/n_assets\n",
    "    \n",
    "    bounds=[(0, 1)]*n_assets\n",
    "    \n",
    "    constraint=lambda w: sum(w)-1\n",
    "    \n",
    "    result=minimize(fun=rs, x0=w0, bounds=bounds, constraints={'fun': constraint, 'type': 'eq'}, tol=1e-16)\n",
    "    \n",
    "    return result.x"
   ]
  },
  {
   "cell_type": "markdown",
   "id": "e370fb25",
   "metadata": {},
   "source": [
    "##### Función Semi-Varianza Target"
   ]
  },
  {
   "cell_type": "code",
   "execution_count": 4,
   "id": "6524cc23",
   "metadata": {},
   "outputs": [],
   "source": [
    "def objetivo (rets:pd.DataFrame , rets_b : pd.DataFrame ,corr:pd.DataFrame):\n",
    "    \n",
    "    rets, rets_b = rets.align(rets_b, join='inner', axis=0)\n",
    "    diffs=rets - rets_b.values\n",
    "    rends_below_bench = diffs[diffs < 0].fillna(0)\n",
    "    target_downside_risk=np.array(rends_below_bench.std())\n",
    "    target_semivarmatrix= corr * (target_downside_risk.reshape(len(rets.columns), 1) @ target_downside_risk.reshape(1, len(rets.columns)))\n",
    "\n",
    "    objectivo = lambda w: (w.T @ target_semivarmatrix @ w)\n",
    "\n",
    "    n = len(rets.keys())\n",
    "    w_inicial = np.ones(n)/n\n",
    "    bounds = [(0,1)]*n\n",
    "    tol = 1e-9\n",
    "    rest = lambda w: np.sum(w) - 1\n",
    "    \n",
    "    obj = minimize(\n",
    "    fun=objectivo,\n",
    "    x0=w_inicial,\n",
    "    bounds=bounds,\n",
    "    constraints={'fun': rest, 'type': 'eq'},\n",
    "    tol=tol)\n",
    "\n",
    "    w_objetivo = obj.x\n",
    "\n",
    "    return dict(zip(rets.columns, w_objetivo))"
   ]
  },
  {
   "cell_type": "markdown",
   "id": "4b811e20",
   "metadata": {},
   "source": [
    "##### Función Backtesting "
   ]
  },
  {
   "cell_type": "code",
   "execution_count": 5,
   "id": "12547fe8",
   "metadata": {},
   "outputs": [],
   "source": [
    "def backtesting(prices: pd.DataFrame, benchmark: pd.DataFrame, weights: dict, capital: float):\n",
    "    \n",
    "    rets_assets = prices.pct_change().dropna()\n",
    "    rets_benchmark = benchmark.pct_change().dropna()\n",
    "    \n",
    "    \n",
    "    df = pd.DataFrame(index=rets_assets.index)\n",
    "    \n",
    "    \n",
    "    for strategy in weights.keys():\n",
    "        if strategy == 'Benchmark':\n",
    "            temp = rets_benchmark + 1\n",
    "            temp.iloc[0]=capital\n",
    "            temp = temp.cumprod()\n",
    "            df[strategy] = temp.values            \n",
    "    \n",
    "        else:\n",
    "            temp = (rets_assets * weights.get(strategy)).sum(axis=1)+1\n",
    "            temp.iloc[0]=capital\n",
    "            temp = temp.cumprod()\n",
    "            df[strategy] = temp.values    \n",
    "\n",
    "    plt.figure(figsize=(12,6))\n",
    "    plt.plot(df, label=df.keys())\n",
    "    plt.title('Backtesting of Strategies')\n",
    "    plt.xlabel('Date')\n",
    "    plt.ylabel('Portafolio Value')\n",
    "    plt.legend()\n",
    "    plt.show()\n",
    "\n",
    "\n",
    "    return df"
   ]
  },
  {
   "cell_type": "markdown",
   "id": "2fef79c9",
   "metadata": {},
   "source": [
    "##### Función Métricas de Desempeño "
   ]
  },
  {
   "cell_type": "code",
   "execution_count": 6,
   "id": "5290120e",
   "metadata": {},
   "outputs": [],
   "source": [
    "def metricas_anuales(history, rf):\n",
    "    # Returns\n",
    "    rets= history.pct_change().dropna()\n",
    "    \n",
    "    # Matriz de Cov\n",
    "    cov_hist = rets.cov()\n",
    "\n",
    "    # Dataframe\n",
    "    metricas = pd.DataFrame(index=rets.columns)\n",
    "\n",
    "    # Rendimiento \n",
    "    metricas['Rendimiento Promedio Anual'] = R_p = rets.mean()*252*100\n",
    "    \n",
    "    # Volatilidad \n",
    "    metricas['Volatilidad Anual'] = vol_anual = rets.std()*np.sqrt(252)*100\n",
    "    \n",
    "    # Ratio de Sharpe\n",
    "    metricas['Ratio de Sharpe'] = (R_p - rf) / vol_anual\n",
    "\n",
    "    # Downside Risk\n",
    "    metricas['Downside Risk'] = downside = rets[rets < 0].std() * np.sqrt(252) * 100\n",
    "\n",
    "    # Upside Risk\n",
    "    metricas['Upside Risk'] = upside = rets[rets > 0].std() * np.sqrt(252) * 100\n",
    "\n",
    "    # Omega\n",
    "    metricas['Omega'] =omega= upside / downside\n",
    "\n",
    "    # Beta\n",
    "\n",
    "    covs = cov_hist['Benchmark']\n",
    "    varianza_market = covs['Benchmark']\n",
    "    metricas['Beta'] = beta = covs / varianza_market\n",
    "\n",
    "    # Alfa de Jensen\n",
    "\n",
    "    R_m = rets['Benchmark']\n",
    "    alpha_Jensen = R_p - (rf + beta * (R_m - rf))\n",
    "\n",
    "    # Ratio de Treynor\n",
    "    metricas['Ratio de Treynor'] = (R_p - rf) / beta\n",
    "\n",
    "    # Ratio de Sortino\n",
    "    metricas['Ratio de Sortino'] = (R_p - rf) / downside\n",
    "\n",
    "    return metricas.T\n"
   ]
  },
  {
   "cell_type": "markdown",
   "id": "b9613a26",
   "metadata": {},
   "source": [
    "---"
   ]
  },
  {
   "cell_type": "markdown",
   "id": "b9c51aec",
   "metadata": {},
   "source": [
    "#### Importación de los datos "
   ]
  },
  {
   "cell_type": "code",
   "execution_count": 7,
   "id": "9a6e06c8",
   "metadata": {},
   "outputs": [],
   "source": [
    "tickers= ['GOOGL', 'AAPL', 'MSFT', 'META', 'LLY']"
   ]
  },
  {
   "cell_type": "code",
   "execution_count": null,
   "id": "309e1947",
   "metadata": {},
   "outputs": [
    {
     "name": "stdout",
     "output_type": "stream",
     "text": [
      "YF.download() has changed argument auto_adjust default to True\n"
     ]
    }
   ],
   "source": [
    "opt_prices = yf.download(tickers, start='2016-01-02', end='2020-03-27',progress= False)['Close']\n",
    "\n",
    "bt_prices = yf.download(tickers, start='2020-01-02', end='2024-03-27', progress= False)['Close']\n",
    "\n",
    "benchmark = yf.download(['^GSPC'], start='2020-01-02', end='2024-03-27', progress= False)['Close']\n"
   ]
  },
  {
   "cell_type": "markdown",
   "id": "ae20f89c",
   "metadata": {},
   "source": [
    "---"
   ]
  },
  {
   "cell_type": "markdown",
   "id": "a6b96655",
   "metadata": {},
   "source": [
    "#### Returns "
   ]
  },
  {
   "cell_type": "code",
   "execution_count": 9,
   "id": "974a4d9d",
   "metadata": {},
   "outputs": [],
   "source": [
    "### Returns \n",
    "opt_rets = opt_prices.pct_change().dropna()"
   ]
  },
  {
   "cell_type": "code",
   "execution_count": 10,
   "id": "e308ccc6",
   "metadata": {},
   "outputs": [],
   "source": [
    "### Returns Benchmark\n",
    "bt_rets = benchmark.pct_change().dropna()"
   ]
  },
  {
   "cell_type": "markdown",
   "id": "b8f7b2c5",
   "metadata": {},
   "source": [
    "#### Matriz de Corr\n"
   ]
  },
  {
   "cell_type": "code",
   "execution_count": 11,
   "id": "f4f90a3a",
   "metadata": {},
   "outputs": [
    {
     "data": {
      "text/html": [
       "<div>\n",
       "<style scoped>\n",
       "    .dataframe tbody tr th:only-of-type {\n",
       "        vertical-align: middle;\n",
       "    }\n",
       "\n",
       "    .dataframe tbody tr th {\n",
       "        vertical-align: top;\n",
       "    }\n",
       "\n",
       "    .dataframe thead th {\n",
       "        text-align: right;\n",
       "    }\n",
       "</style>\n",
       "<table border=\"1\" class=\"dataframe\">\n",
       "  <thead>\n",
       "    <tr style=\"text-align: right;\">\n",
       "      <th>Ticker</th>\n",
       "      <th>AAPL</th>\n",
       "      <th>GOOGL</th>\n",
       "      <th>LLY</th>\n",
       "      <th>META</th>\n",
       "      <th>MSFT</th>\n",
       "    </tr>\n",
       "    <tr>\n",
       "      <th>Ticker</th>\n",
       "      <th></th>\n",
       "      <th></th>\n",
       "      <th></th>\n",
       "      <th></th>\n",
       "      <th></th>\n",
       "    </tr>\n",
       "  </thead>\n",
       "  <tbody>\n",
       "    <tr>\n",
       "      <th>AAPL</th>\n",
       "      <td>1.000000</td>\n",
       "      <td>0.670259</td>\n",
       "      <td>0.415042</td>\n",
       "      <td>0.548601</td>\n",
       "      <td>0.708326</td>\n",
       "    </tr>\n",
       "    <tr>\n",
       "      <th>GOOGL</th>\n",
       "      <td>0.670259</td>\n",
       "      <td>1.000000</td>\n",
       "      <td>0.409210</td>\n",
       "      <td>0.685496</td>\n",
       "      <td>0.782666</td>\n",
       "    </tr>\n",
       "    <tr>\n",
       "      <th>LLY</th>\n",
       "      <td>0.415042</td>\n",
       "      <td>0.409210</td>\n",
       "      <td>1.000000</td>\n",
       "      <td>0.306682</td>\n",
       "      <td>0.477186</td>\n",
       "    </tr>\n",
       "    <tr>\n",
       "      <th>META</th>\n",
       "      <td>0.548601</td>\n",
       "      <td>0.685496</td>\n",
       "      <td>0.306682</td>\n",
       "      <td>1.000000</td>\n",
       "      <td>0.622400</td>\n",
       "    </tr>\n",
       "    <tr>\n",
       "      <th>MSFT</th>\n",
       "      <td>0.708326</td>\n",
       "      <td>0.782666</td>\n",
       "      <td>0.477186</td>\n",
       "      <td>0.622400</td>\n",
       "      <td>1.000000</td>\n",
       "    </tr>\n",
       "  </tbody>\n",
       "</table>\n",
       "</div>"
      ],
      "text/plain": [
       "Ticker      AAPL     GOOGL       LLY      META      MSFT\n",
       "Ticker                                                  \n",
       "AAPL    1.000000  0.670259  0.415042  0.548601  0.708326\n",
       "GOOGL   0.670259  1.000000  0.409210  0.685496  0.782666\n",
       "LLY     0.415042  0.409210  1.000000  0.306682  0.477186\n",
       "META    0.548601  0.685496  0.306682  1.000000  0.622400\n",
       "MSFT    0.708326  0.782666  0.477186  0.622400  1.000000"
      ]
     },
     "execution_count": 11,
     "metadata": {},
     "output_type": "execute_result"
    }
   ],
   "source": [
    "corr = opt_rets.corr()\n",
    "corr"
   ]
  },
  {
   "cell_type": "markdown",
   "id": "9ba1f50c",
   "metadata": {},
   "source": [
    "---"
   ]
  },
  {
   "cell_type": "markdown",
   "id": "4217ba9c",
   "metadata": {},
   "source": [
    "#### Mínima Varianza "
   ]
  },
  {
   "cell_type": "code",
   "execution_count": 13,
   "id": "a4d0b7a4",
   "metadata": {},
   "outputs": [
    {
     "data": {
      "text/plain": [
       "array([1.10464918e-01, 3.21082491e-01, 4.84182887e-01, 8.42697038e-02,\n",
       "       1.25360876e-19])"
      ]
     },
     "execution_count": 13,
     "metadata": {},
     "output_type": "execute_result"
    }
   ],
   "source": [
    "min_var = opt_min_var(opt_rets)\n",
    "min_var"
   ]
  },
  {
   "cell_type": "markdown",
   "id": "438246b1",
   "metadata": {},
   "source": [
    "#### Maximo Sharpe"
   ]
  },
  {
   "cell_type": "code",
   "execution_count": 15,
   "id": "dde2e38c",
   "metadata": {},
   "outputs": [
    {
     "data": {
      "text/plain": [
       "array([0.18788795, 0.        , 0.04024915, 0.        , 0.7718629 ])"
      ]
     },
     "execution_count": 15,
     "metadata": {},
     "output_type": "execute_result"
    }
   ],
   "source": [
    "max_sharpe = opt_max_sharpe(opt_rets, rf=0.045)\n",
    "max_sharpe"
   ]
  },
  {
   "cell_type": "markdown",
   "id": "326f59f7",
   "metadata": {},
   "source": [
    "#### Semivarianza target"
   ]
  },
  {
   "cell_type": "code",
   "execution_count": 16,
   "id": "a8996178",
   "metadata": {},
   "outputs": [
    {
     "data": {
      "text/plain": [
       "{'AAPL': 0.41333999161706125,\n",
       " 'GOOGL': 0.2526476249804109,\n",
       " 'LLY': 0.02360815099206437,\n",
       " 'META': 1.3877787807814457e-17,\n",
       " 'MSFT': 0.31040423241046355}"
      ]
     },
     "execution_count": 16,
     "metadata": {},
     "output_type": "execute_result"
    }
   ],
   "source": [
    "semivar_target = objetivo ( opt_rets, bt_rets, corr)\n",
    "semivar_target"
   ]
  },
  {
   "cell_type": "markdown",
   "id": "fa836dbb",
   "metadata": {},
   "source": [
    "#### Backtesting"
   ]
  },
  {
   "cell_type": "code",
   "execution_count": 17,
   "id": "32e49d7d",
   "metadata": {},
   "outputs": [
    {
     "data": {
      "image/png": "[encoded data removed]",
      "text/plain": [
       "<Figure size 1200x600 with 1 Axes>"
      ]
     },
     "metadata": {},
     "output_type": "display_data"
    }
   ],
   "source": [
    "history = backtesting (bt_prices , benchmark , semivar_target, 1000000)"
   ]
  },
  {
   "cell_type": "markdown",
   "id": "9749dbc5",
   "metadata": {},
   "source": [
    "#### Metricas de desempeño"
   ]
  },
  {
   "cell_type": "code",
   "execution_count": 18,
   "id": "3896fb0e",
   "metadata": {},
   "outputs": [
    {
     "ename": "KeyError",
     "evalue": "'Benchmark'",
     "output_type": "error",
     "traceback": [
      "\u001b[1;31m---------------------------------------------------------------------------\u001b[0m",
      "\u001b[1;31mKeyError\u001b[0m                                  Traceback (most recent call last)",
      "File \u001b[1;32mc:\\Users\\ppmel\\AppData\\Local\\Programs\\Python\\Python312\\Lib\\site-packages\\pandas\\core\\indexes\\base.py:3805\u001b[0m, in \u001b[0;36mIndex.get_loc\u001b[1;34m(self, key)\u001b[0m\n\u001b[0;32m   3804\u001b[0m \u001b[38;5;28;01mtry\u001b[39;00m:\n\u001b[1;32m-> 3805\u001b[0m     \u001b[38;5;28;01mreturn\u001b[39;00m \u001b[38;5;28;43mself\u001b[39;49m\u001b[38;5;241;43m.\u001b[39;49m\u001b[43m_engine\u001b[49m\u001b[38;5;241;43m.\u001b[39;49m\u001b[43mget_loc\u001b[49m\u001b[43m(\u001b[49m\u001b[43mcasted_key\u001b[49m\u001b[43m)\u001b[49m\n\u001b[0;32m   3806\u001b[0m \u001b[38;5;28;01mexcept\u001b[39;00m \u001b[38;5;167;01mKeyError\u001b[39;00m \u001b[38;5;28;01mas\u001b[39;00m err:\n",
      "File \u001b[1;32mindex.pyx:167\u001b[0m, in \u001b[0;36mpandas._libs.index.IndexEngine.get_loc\u001b[1;34m()\u001b[0m\n",
      "File \u001b[1;32mindex.pyx:196\u001b[0m, in \u001b[0;36mpandas._libs.index.IndexEngine.get_loc\u001b[1;34m()\u001b[0m\n",
      "File \u001b[1;32mpandas\\\\_libs\\\\hashtable_class_helper.pxi:7081\u001b[0m, in \u001b[0;36mpandas._libs.hashtable.PyObjectHashTable.get_item\u001b[1;34m()\u001b[0m\n",
      "File \u001b[1;32mpandas\\\\_libs\\\\hashtable_class_helper.pxi:7089\u001b[0m, in \u001b[0;36mpandas._libs.hashtable.PyObjectHashTable.get_item\u001b[1;34m()\u001b[0m\n",
      "\u001b[1;31mKeyError\u001b[0m: 'Benchmark'",
      "\nThe above exception was the direct cause of the following exception:\n",
      "\u001b[1;31mKeyError\u001b[0m                                  Traceback (most recent call last)",
      "Cell \u001b[1;32mIn[18], line 1\u001b[0m\n\u001b[1;32m----> 1\u001b[0m metricas_anuales \u001b[38;5;241m=\u001b[39m \u001b[43mmetricas_anuales\u001b[49m\u001b[43m(\u001b[49m\u001b[43mhistory\u001b[49m\u001b[43m,\u001b[49m\u001b[43m \u001b[49m\u001b[43mrf\u001b[49m\u001b[38;5;241;43m=\u001b[39;49m\u001b[38;5;241;43m0.045\u001b[39;49m\u001b[43m)\u001b[49m\n",
      "Cell \u001b[1;32mIn[6], line 31\u001b[0m, in \u001b[0;36mmetricas_anuales\u001b[1;34m(history, rf)\u001b[0m\n\u001b[0;32m     27\u001b[0m metricas[\u001b[38;5;124m'\u001b[39m\u001b[38;5;124mOmega\u001b[39m\u001b[38;5;124m'\u001b[39m] \u001b[38;5;241m=\u001b[39momega\u001b[38;5;241m=\u001b[39m upside \u001b[38;5;241m/\u001b[39m downside\n\u001b[0;32m     29\u001b[0m \u001b[38;5;66;03m# Beta\u001b[39;00m\n\u001b[1;32m---> 31\u001b[0m covs \u001b[38;5;241m=\u001b[39m \u001b[43mcov_hist\u001b[49m\u001b[43m[\u001b[49m\u001b[38;5;124;43m'\u001b[39;49m\u001b[38;5;124;43mBenchmark\u001b[39;49m\u001b[38;5;124;43m'\u001b[39;49m\u001b[43m]\u001b[49m\n\u001b[0;32m     32\u001b[0m varianza_market \u001b[38;5;241m=\u001b[39m covs[\u001b[38;5;124m'\u001b[39m\u001b[38;5;124mBenchmark\u001b[39m\u001b[38;5;124m'\u001b[39m]\n\u001b[0;32m     33\u001b[0m metricas[\u001b[38;5;124m'\u001b[39m\u001b[38;5;124mBeta\u001b[39m\u001b[38;5;124m'\u001b[39m] \u001b[38;5;241m=\u001b[39m beta \u001b[38;5;241m=\u001b[39m covs \u001b[38;5;241m/\u001b[39m varianza_market\n",
      "File \u001b[1;32mc:\\Users\\ppmel\\AppData\\Local\\Programs\\Python\\Python312\\Lib\\site-packages\\pandas\\core\\frame.py:4102\u001b[0m, in \u001b[0;36mDataFrame.__getitem__\u001b[1;34m(self, key)\u001b[0m\n\u001b[0;32m   4100\u001b[0m \u001b[38;5;28;01mif\u001b[39;00m \u001b[38;5;28mself\u001b[39m\u001b[38;5;241m.\u001b[39mcolumns\u001b[38;5;241m.\u001b[39mnlevels \u001b[38;5;241m>\u001b[39m \u001b[38;5;241m1\u001b[39m:\n\u001b[0;32m   4101\u001b[0m     \u001b[38;5;28;01mreturn\u001b[39;00m \u001b[38;5;28mself\u001b[39m\u001b[38;5;241m.\u001b[39m_getitem_multilevel(key)\n\u001b[1;32m-> 4102\u001b[0m indexer \u001b[38;5;241m=\u001b[39m \u001b[38;5;28;43mself\u001b[39;49m\u001b[38;5;241;43m.\u001b[39;49m\u001b[43mcolumns\u001b[49m\u001b[38;5;241;43m.\u001b[39;49m\u001b[43mget_loc\u001b[49m\u001b[43m(\u001b[49m\u001b[43mkey\u001b[49m\u001b[43m)\u001b[49m\n\u001b[0;32m   4103\u001b[0m \u001b[38;5;28;01mif\u001b[39;00m is_integer(indexer):\n\u001b[0;32m   4104\u001b[0m     indexer \u001b[38;5;241m=\u001b[39m [indexer]\n",
      "File \u001b[1;32mc:\\Users\\ppmel\\AppData\\Local\\Programs\\Python\\Python312\\Lib\\site-packages\\pandas\\core\\indexes\\base.py:3812\u001b[0m, in \u001b[0;36mIndex.get_loc\u001b[1;34m(self, key)\u001b[0m\n\u001b[0;32m   3807\u001b[0m     \u001b[38;5;28;01mif\u001b[39;00m \u001b[38;5;28misinstance\u001b[39m(casted_key, \u001b[38;5;28mslice\u001b[39m) \u001b[38;5;129;01mor\u001b[39;00m (\n\u001b[0;32m   3808\u001b[0m         \u001b[38;5;28misinstance\u001b[39m(casted_key, abc\u001b[38;5;241m.\u001b[39mIterable)\n\u001b[0;32m   3809\u001b[0m         \u001b[38;5;129;01mand\u001b[39;00m \u001b[38;5;28many\u001b[39m(\u001b[38;5;28misinstance\u001b[39m(x, \u001b[38;5;28mslice\u001b[39m) \u001b[38;5;28;01mfor\u001b[39;00m x \u001b[38;5;129;01min\u001b[39;00m casted_key)\n\u001b[0;32m   3810\u001b[0m     ):\n\u001b[0;32m   3811\u001b[0m         \u001b[38;5;28;01mraise\u001b[39;00m InvalidIndexError(key)\n\u001b[1;32m-> 3812\u001b[0m     \u001b[38;5;28;01mraise\u001b[39;00m \u001b[38;5;167;01mKeyError\u001b[39;00m(key) \u001b[38;5;28;01mfrom\u001b[39;00m\u001b[38;5;250m \u001b[39m\u001b[38;5;21;01merr\u001b[39;00m\n\u001b[0;32m   3813\u001b[0m \u001b[38;5;28;01mexcept\u001b[39;00m \u001b[38;5;167;01mTypeError\u001b[39;00m:\n\u001b[0;32m   3814\u001b[0m     \u001b[38;5;66;03m# If we have a listlike key, _check_indexing_error will raise\u001b[39;00m\n\u001b[0;32m   3815\u001b[0m     \u001b[38;5;66;03m#  InvalidIndexError. Otherwise we fall through and re-raise\u001b[39;00m\n\u001b[0;32m   3816\u001b[0m     \u001b[38;5;66;03m#  the TypeError.\u001b[39;00m\n\u001b[0;32m   3817\u001b[0m     \u001b[38;5;28mself\u001b[39m\u001b[38;5;241m.\u001b[39m_check_indexing_error(key)\n",
      "\u001b[1;31mKeyError\u001b[0m: 'Benchmark'"
     ]
    }
   ],
   "source": [
    "metricas_anuales = metricas_anuales(history, rf=0.045)"
   ]
  },
  {
   "cell_type": "markdown",
   "id": "cfc96ed8",
   "metadata": {},
   "source": []
  },
  {
   "cell_type": "markdown",
   "id": "56531012",
   "metadata": {},
   "source": []
  }
 ],
 "metadata": {
  "kernelspec": {
   "display_name": "Python 3",
   "language": "python",
   "name": "python3"
  },
  "language_info": {
   "codemirror_mode": {
    "name": "ipython",
    "version": 3
   },
   "file_extension": ".py",
   "mimetype": "text/x-python",
   "name": "python",
   "nbconvert_exporter": "python",
   "pygments_lexer": "ipython3",
   "version": "3.12.8"
  }
 },
 "nbformat": 4,
 "nbformat_minor": 5
}
