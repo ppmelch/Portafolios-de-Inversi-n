{
 "cells": [
  {
   "cell_type": "markdown",
   "id": "a1d6b178",
   "metadata": {},
   "source": [
    "# Portafolios de Inversión\n",
    "## Repaso Teórico\n",
    "José Armando Melchor Soto\n",
    "\n",
    "---\n",
    "\n",
    "\n",
    "\n"
   ]
  },
  {
   "cell_type": "markdown",
   "id": "cf739fd5",
   "metadata": {},
   "source": [
    "## Temario "
   ]
  },
  {
   "cell_type": "markdown",
   "id": "b046433f",
   "metadata": {},
   "source": [
    "- Capital Asset Pricing Model (Clase 8)\n",
    "\n",
    "- Teoría Moderna de Portafolios (Clase 9)\n",
    "\n",
    "- Optimización Analítica de Portafolios (Clase 10)\n",
    "\n",
    "- Optimización Montecarlo (Clase 10)\n",
    "\n",
    "- Teoría Pos-Moderna de Portafolios (Clase 12)\n",
    "\n",
    "- Backtesting (Clase 13)\n",
    "\n",
    "- Selección de Estrategias de Inversión (Clase 13)"
   ]
  },
  {
   "cell_type": "markdown",
   "id": "0dda908c",
   "metadata": {},
   "source": [
    "---"
   ]
  },
  {
   "cell_type": "markdown",
   "id": "0396ff16",
   "metadata": {},
   "source": []
  }
 ],
 "metadata": {
  "language_info": {
   "name": "python"
  }
 },
 "nbformat": 4,
 "nbformat_minor": 5
}
