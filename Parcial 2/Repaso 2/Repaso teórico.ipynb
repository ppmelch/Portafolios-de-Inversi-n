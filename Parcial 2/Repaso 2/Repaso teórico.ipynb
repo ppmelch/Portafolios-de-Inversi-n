{
 "cells": [
  {
   "cell_type": "markdown",
   "id": "a1d6b178",
   "metadata": {},
   "source": [
    "# Portafolios de Inversión\n",
    "## Repaso Teórico\n",
    "José Armando Melchor Soto\n",
    "\n",
    "---\n",
    "\n",
    "\n",
    "\n"
   ]
  },
  {
   "cell_type": "markdown",
   "id": "cf739fd5",
   "metadata": {},
   "source": [
    "## Temario "
   ]
  },
  {
   "cell_type": "markdown",
   "id": "b046433f",
   "metadata": {},
   "source": [
    "- Capital Asset Pricing Model (Clase 8)\n",
    "\n",
    "- Teoría Moderna de Portafolios (Clase 9)\n",
    "\n",
    "- Optimización Analítica de Portafolios (Clase 10)\n",
    "\n",
    "- Optimización Montecarlo (Clase 11)\n",
    "\n",
    "- Teoría Pos-Moderna de Portafolios (Clase 12)\n",
    "\n",
    "- Backtesting (Clase 13)\n",
    "\n",
    "- Selección de Estrategias de Inversión (Clase 14)"
   ]
  },
  {
   "cell_type": "markdown",
   "id": "0dda908c",
   "metadata": {},
   "source": [
    "---"
   ]
  },
  {
   "cell_type": "markdown",
   "id": "0396ff16",
   "metadata": {},
   "source": [
    "### **Capital Asset Pricing Model**"
   ]
  },
  {
   "cell_type": "markdown",
   "id": "6dd38833",
   "metadata": {},
   "source": [
    "- El Capital Asset Pricing Model es un modelo de valoración de activos que permite estimar la rentabilidad esperada de un activo financiero en un función del riesgo sistemático del mismo, donde la medida de riesgo sistématico es la Beta.\n",
    "\n",
    "$$E[P] = r_f + \\beta( r_m - r_f)$$\n",
    "\n",
    "- Donde: \n",
    "    - $r_f = $ tasa libre de riesgo.\n",
    "    - $r_m =$ tasa de mercado.\n",
    "\n",
    "- Este modelo asume que únicamente el riesgo sistemático debe ser compensado al invertir en un activo , ya que este tipo de riesgo no puede ser elimiado mediante la diversificación.\n",
    "\n"
   ]
  },
  {
   "cell_type": "markdown",
   "id": "76958a8d",
   "metadata": {},
   "source": [
    "#### Beta"
   ]
  },
  {
   "cell_type": "markdown",
   "id": "16703f6f",
   "metadata": {},
   "source": [
    "- La beta es una medida de sensibilidad de un activo (o portafolio) ante fluctuaciones de mercado.\n",
    "\n",
    "- La beta se calcula contra un benchmark , ejemplo , si estas calculando la beta para un activo mexicano utilizas como benchmark el IPC , si es un activo industrial que cotiza en USA utilizas el Dow Jones , si es un activo estadounidense con buena capitalización en el S&P 500.\n",
    "\n",
    "$$\\beta = \\frac{\\sigma_{x,m}}{\\sigma_{m}^2}$$\n"
   ]
  },
  {
   "cell_type": "markdown",
   "id": "12cdd2b7",
   "metadata": {},
   "source": [
    "\n",
    "| **$$\\beta$$** | Interpretación \n",
    "|-----------|-----------|\n",
    "| $$\\beta < 1$$   |Acción defensiva , la acción registra una menor variabilidad que su índice de referencia o posee para el mercado un menor riesgo|\n",
    "| $$\\beta = 1$$      |La acción se mueve en la misma proporción que el mercado |\n",
    "| $$\\beta > 1$$   |Acción agresiva, la acción registra una mayor variabilidad que el índice , lo que muestra que la acción tiene un mayor riesgo que el mercado |\n",
    "\n"
   ]
  },
  {
   "cell_type": "markdown",
   "id": "a267d607",
   "metadata": {},
   "source": [
    "#### Supuestos CAPM "
   ]
  },
  {
   "cell_type": "markdown",
   "id": "3cdc8ee3",
   "metadata": {},
   "source": [
    "- Los inversores no pueden afectar los precios con sus negociaciones particulares.\n",
    "- Todos los inversores tienen el mismo horizonte de inversión.\n",
    "- Lo sinversores forman sus carteras con activos públicos.\n",
    "- Tienen accesso a la misma información , por lo tanto arman sus carteras de una manera idéntica.\n",
    "- Al tener la misma información , tienen las mismas expectativas.\n",
    "- No impuestos. No comisiones."
   ]
  },
  {
   "cell_type": "markdown",
   "id": "43344387",
   "metadata": {},
   "source": [
    "#### Valoración con CAPM \n",
    "\n",
    "- Activo infravalorado:\n",
    "    - El rendimiento promedio del activo es mayor que el rendimiento esperado según el CAPM.\n",
    "    - El activo ofrece más retorno del que justifica su riesgo sistemático.\n",
    "    - Representa una oportunidad de inversión.\n",
    "\n",
    "- Activo correctamente valuado:\n",
    "    - El rendimiento promedio del activo es igual o muy similar al rendimiento esperado por el CAPM.\n",
    "    - El retorno es consistente con el riesgo sistemático asumido.\n",
    "    - El activo está en equilibrio según el mercado.\n",
    "\n",
    "- Activo sobrevalorado:\n",
    "    - El rendimiento promedio del activo es menor que el rendimiento estimado por el CAPM.\n",
    "    - El activo ofrece menos retorno del que debería dadas sus características del riesgo sistemático."
   ]
  },
  {
   "cell_type": "markdown",
   "id": "e29892d6",
   "metadata": {},
   "source": [
    "#### Asset Allocation\n"
   ]
  },
  {
   "cell_type": "markdown",
   "id": "5188992a",
   "metadata": {},
   "source": [
    "- Proceso de inversión en el cual se distribuye el capital total de una cartera en distintos activos, con el objetivo de equilibrar el riesgo y el rendimiento de la misma.\n",
    "    - ¿Qué queremos minimizar?\n",
    "    - ¿Qué queremos maximizar?\n",
    "\n",
    "- La asignación de activos se basa en aprovechar que los activo tienen correlaciones distintas.\n",
    "\n",
    "- Al asignar los activos en diferentes clases , se busca crear una cartera diversificada que pueda reducir el riesgo global y aumentar las posibilidades de obtener un rendimiento sólido a lo largo del tiempo.\n"
   ]
  },
  {
   "cell_type": "markdown",
   "id": "897775e6",
   "metadata": {},
   "source": [
    "#### Línea de Asignación del Capital (LAC)\n",
    "\n",
    "- Representación gráfica que muestra la relación entre el riesgo y el rendimiento esperado de uno o varios activos.\n",
    "\n",
    "- Es utilizada en el ámbito de la teoría moderna de portafolios y ayuda a los inversores a tomar decisiones sobre cómo asignar su capital entre activos de riesgo y activos libres de riesgo.\n",
    "\n",
    "- La LAC se construye trazando una linea recta que parte de una ponderación de 100% en el activo libre de riesgo hasta 100% en el activo(s) de renta variable.\n",
    "\n",
    "- Entre más crece la LAC, hay mayor rendimiento , pero también mayor riesgo, de aquí´se infirió este principio.\n",
    "\n",
    "\n"
   ]
  },
  {
   "cell_type": "markdown",
   "id": "a9829b95",
   "metadata": {},
   "source": [
    "#### Frontera Eficiente de Portafolios"
   ]
  },
  {
   "cell_type": "markdown",
   "id": "3812f258",
   "metadata": {},
   "source": [
    "- Combinación óptima de activos que ofrecen el mayor rendimiento esperado para un nivel determinado de riesgo.\n",
    "\n",
    "- Es esencia , la frontera eficiente representa todas las posibles carteras que maximizan el rendimiento esperado para un nivel de riesgo dado , o minimizan el riesgo para un nivel de rendimiento esperado dado.\n",
    "\n",
    "- Estas carteras se consideran eficientes porque no es posible construir una cartera para los activos dados que ofrezca un rendimiento más alto (o un riesgo más bajo).\n",
    "\n"
   ]
  },
  {
   "cell_type": "markdown",
   "id": "76c057d6",
   "metadata": {},
   "source": [
    "---"
   ]
  },
  {
   "cell_type": "markdown",
   "id": "5aa23fdd",
   "metadata": {},
   "source": [
    "### **Teoría Moderna de Portafolios**"
   ]
  },
  {
   "cell_type": "markdown",
   "id": "c40a67b5",
   "metadata": {},
   "source": [
    "#### Portafolio Selection \n",
    "\n",
    "- La idea central de Markowitz es que, al construir portafolios de\n",
    "inversión, es crucial considerar la relación entre el riesgo y el\n",
    "rendimiento de un conjunto de activos, en lugar de analizar cada\n",
    "activo de manera aislada.\n",
    "\n",
    "- La teoría moderna de portafolios de Markowitz demuestra que es\n",
    "posible construir una cartera donde, a medida que aumenta el\n",
    "riesgo, también lo haga el rendimiento esperado. Dado que los\n",
    "inversionistas, por naturaleza, tienden a buscar mayores\n",
    "ganancias a medida que asumen más riesgo, este enfoque se\n",
    "alinea con sus preferencias.\n",
    "- Las dos principales contribuciones de Harry Markowitz fueron la\n",
    "optimización de portafolios por mínima varianza y la frontera\n",
    "eficiente en media-varianza.\n"
   ]
  },
  {
   "cell_type": "markdown",
   "id": "5a6567cc",
   "metadata": {},
   "source": [
    "#### Markowitz Bullet \n",
    "\n",
    "- La bala de Markowitz es una hipérbola que ilustra\n",
    "gráficamente las métricas de rendimiento (eje Y) y riesgo\n",
    "(eje X) para todas las posibles combinaciones de un\n",
    "conjunto de activos dentro de un portafolio de inversión,\n",
    "según sus respectivos pesos.\n",
    "\n",
    "- Al visualizar esta bala, un gestor puede identificar y\n",
    "comparar diferentes portafolios que se componen de los\n",
    "mismos activos, lo que le permite evaluar el equilibrio\n",
    "entre rendimiento y riesgo para las distintas posibles\n",
    "combinatorias.\n"
   ]
  },
  {
   "cell_type": "markdown",
   "id": "63a0a5ee",
   "metadata": {},
   "source": [
    "#### Portafolio Theory and Capital Markets\n",
    "\n",
    "Años después, en 1966, William F. Sharpe amplió el trabajo de\n",
    "Markowitz al introducir la optimización de portafolios basada en la\n",
    "relación entre rendimiento y riesgo, lo que dio origen al concepto de\n",
    "portafolio eficiente en máximo Sharpe.\n",
    "La innovación de Sharpe no solo se centró en minimizar el riesgo, como\n",
    "había propuesto Markowitz, sino en maximizar la relación entre\n",
    "rendimiento y riesgo.\n",
    "Esto permitió identificar un portafolio óptimo que ofreciera el mejor\n",
    "equilibrio entre ambos factores, es decir, aquel portafolio que\n",
    "maximiza el rendimiento obtenido por unidad de riesgo asumido"
   ]
  },
  {
   "cell_type": "markdown",
   "id": "5d0affbe",
   "metadata": {},
   "source": [
    "#### Principios TMP"
   ]
  },
  {
   "cell_type": "markdown",
   "id": "be788562",
   "metadata": {},
   "source": [
    "- **Diversificación**:\n",
    "    - Se puede mitigar el impacto\n",
    "negativo de un activo en particular\n",
    "al tener otros activos que pueden\n",
    "comportarse de manera diferente.\n",
    "\n",
    "- **Aversión al Riesgo**:\n",
    "    - Se reconoce que los inversores son\n",
    "por naturaleza aversos al riesgo.\n",
    "\n",
    "\n",
    "- **Riesgo y Rend.**:\n",
    "    - Dada su aversión al riesgo, los\n",
    "inversionistas siempre preferirán\n",
    "portafolios con la mejor relación\n",
    "rendimiento y riesgo, es decir, a\n",
    "mayor riesgo asumido, esperan un\n",
    "mayor rendimiento.\n",
    "\n",
    "\n",
    "- **Markowitz Bullet**:\n",
    "    - Representación gráfica que\n",
    "muestra la relación entre\n",
    "rendimiento y riesgo para todas las\n",
    "posibles combinaciones de activos\n",
    "dentro de un portafolio de\n",
    "inversión"
   ]
  },
  {
   "cell_type": "markdown",
   "id": "72427e6e",
   "metadata": {},
   "source": [
    "#### Optimización"
   ]
  },
  {
   "cell_type": "markdown",
   "id": "b4e37c36",
   "metadata": {},
   "source": [
    "- La optimización es una técnica que busca identificar la\n",
    "mejor solución posible a un problema, maximizando o\n",
    "minimizando una función objetivo dentro de un conjunto de\n",
    "restricciones definidas.\n"
   ]
  },
  {
   "cell_type": "markdown",
   "id": "aaa2adf5",
   "metadata": {},
   "source": [
    "#### Región Factible\n",
    "- Conjunto de puntos que solucionan un problema de\n",
    "optimización, cumpliendo con todas las restricciones dadas.\n",
    "\n"
   ]
  },
  {
   "cell_type": "markdown",
   "id": "67fa9f39",
   "metadata": {},
   "source": [
    "#### Portafolio eficiente en mínima varianza "
   ]
  },
  {
   "cell_type": "markdown",
   "id": "8f8f7ccf",
   "metadata": {},
   "source": [
    "- El portafolio eficiente en mínima varianza es aquel que proporciona el menor riesgo posible, dado un conjunto de activos financieros.\n",
    "\n",
    "\n",
    "- La idea central de este método es que es posible reducir el riesgo de un portafolio aprovechando las propiedades estadísticas de los rendimientos de los activos, específicamente sus covarianzas y varianzas.\n",
    "\n",
    "- Markowitz demostró que , al considerar cómo los rendimientos de una colección de activos se mueven conjuntamente (es decir, su covarianza), los inversores pueden construir un portafolio que minimice el riesgo.\n",
    "\n"
   ]
  },
  {
   "cell_type": "markdown",
   "id": "80bc1e00",
   "metadata": {},
   "source": [
    "#### Portafolio eficiente en Máximo Sharpe  "
   ]
  },
  {
   "cell_type": "markdown",
   "id": "ccd72927",
   "metadata": {},
   "source": [
    "- El portafolio eficiente en máximo Sharpe es aquel que maximiza la relación entre retorno y riesgo.\n",
    "\n",
    "- Esta relación se mide a través del ratio Sharpe , que es el ratio entre el retorno en exceso a la tasa libre de riesgo y el riesgo.\n",
    "\n",
    "- La tasa libre de riesgo es una referencia clave en el ámbito financiero y generalmente es conocida de antemao por el gestor de inversiones , ya que el banco central del país de referencia la publica regularmente.\n"
   ]
  },
  {
   "cell_type": "markdown",
   "id": "afdda572",
   "metadata": {},
   "source": [
    "#### Frontera Eficiente en Media Varianza "
   ]
  },
  {
   "cell_type": "markdown",
   "id": "6a141150",
   "metadata": {},
   "source": [
    "- La frontera eficiente en media-varianza es la sección superior de la bala de Markowitz , donde se encuentran aquellos portafolios que, para un nivel de riesgo dado , ofrecen el mayor rendimiento posible.\n",
    "\n",
    "- Esto portafolio son considerados \"óptimos\" porque no es posible encontrar otro portafolio con el mismo nivel de riesgo que ofrezca un rendimiento superior. Por lo tanto , los portafolios que se encuentran dentro de la frontera eficiente representan aquellas combinaciones de activos que un inversionista racional seleccionaria.\n",
    "\n",
    "- Dentro de esta frontera se ubican tanto un portafolio eficiente en mínima varianza , como el portafolio eficiente en máximo Sharpe."
   ]
  },
  {
   "cell_type": "markdown",
   "id": "fea2d2f6",
   "metadata": {},
   "source": [
    "---"
   ]
  },
  {
   "cell_type": "markdown",
   "id": "21f637db",
   "metadata": {},
   "source": [
    "### **Optimización Analítica de Portafolios**"
   ]
  },
  {
   "cell_type": "markdown",
   "id": "ad7fb56c",
   "metadata": {},
   "source": [
    "#### Problema de Optimización "
   ]
  },
  {
   "cell_type": "markdown",
   "id": "642a0da1",
   "metadata": {},
   "source": [
    "Un problema optimización trivial se define de la siguiente manera:\n",
    "\n",
    "$$min_x f(x)$$\n",
    "\n",
    "$$\n",
    "sujeto :\\begin{cases}\n",
    "h(x) = 0 \\\\\n",
    "g(x) \\leq 0\n",
    "\\end{cases}\n",
    "$$"
   ]
  },
  {
   "cell_type": "markdown",
   "id": "d029b020",
   "metadata": {},
   "source": [
    "Donde:\n",
    "\n",
    "- $x$ representa las variables de decisión , es decir aquellas variables que se desean determinar y sobre las cuales se tiene control.\n",
    "- $f(x)$ representa la función objetivo o función a optimizar.\n",
    "- $h(x)$ representa las restricciones de igualdad , es decir, aquellas restricciones que se deben de cumplir de manera cerrada para que el problema tenga solución.\n",
    "- $g(x)$ representa las restricciones de desigualdad, es decir,\n",
    "aquellas restricciones que se deben de cumplir de manera\n",
    "activa o inactiva para que el problema tenga solución, pero\n",
    "acotan la región factible."
   ]
  },
  {
   "cell_type": "markdown",
   "id": "be9c092d",
   "metadata": {},
   "source": [
    "#### Optimización Lagrangiana"
   ]
  },
  {
   "cell_type": "markdown",
   "id": "7914f8a9",
   "metadata": {},
   "source": [
    "Para resolver un problema de optimización con restricciones de igualdad podemos utilizar el método de Lagrange. Dado un problema de optimización:\n",
    "\n",
    "$\n",
    "min_x f(x)\n",
    "$ \n",
    "\n",
    "$\n",
    "sujeto\n",
    "$ \n",
    "\n",
    "$\n",
    "h(x)=0\n",
    "$\n"
   ]
  },
  {
   "cell_type": "markdown",
   "id": "1ac575b5",
   "metadata": {},
   "source": [
    "Podemos obtener el Lagrangiano de la función :\n",
    "$$L =f(x) +\\lambda{(h(x)-0)}$$ "
   ]
  },
  {
   "cell_type": "markdown",
   "id": "ddd67fca",
   "metadata": {},
   "source": [
    "Para posteriormente encontrar el gradiente del Lagrangiano:\n",
    "$$\\nabla{L}= \n",
    "\\begin{bmatrix} \n",
    "\\frac{\\partial{L}}{\\partial{x}}\n",
    " \\\\\n",
    " \\frac{\\partial{L}}{\\partial{\\lambda}} \\end{bmatrix}$$\n"
   ]
  },
  {
   "cell_type": "markdown",
   "id": "b2173646",
   "metadata": {},
   "source": [
    "Nótese que se pueden tener múltiples variables de decisión o restricciones de desigualdad , por tanto, la forma del\n",
    "gradiente dependerá de la cantidad de estas.\n",
    "A posteriori de encontrar el gradiente, se despejan la(s) variable(s) de decisión de sus respectivas derivadas parciales.\n",
    "Una vez despejada la variable de decisión de esta(s) ecuación(es), se encuentra el valor de lo(s) lambda(s) utilizando las\n",
    "restricciones.\n"
   ]
  },
  {
   "cell_type": "markdown",
   "id": "00f857ef",
   "metadata": {},
   "source": [
    "---"
   ]
  },
  {
   "cell_type": "markdown",
   "id": "b5069aeb",
   "metadata": {},
   "source": [
    "### **Optimización Montecarlo**"
   ]
  },
  {
   "cell_type": "markdown",
   "id": "b25cb28b",
   "metadata": {},
   "source": [
    "#### Método Montecarlo \n",
    "\n",
    "El método de Montecarlo fue desarrollado durante la década de 1940 por los matemáticos **Stanislaw Ulam**, **John von Neumann**, y **Nicholas Metropolis**, quienes trabajaban en el proyecto Manhattan. Ulam, al intentar calcular la probabilidad de ganar en un solitario, concibió la idea de usar simulaciones aleatorias. Von Neumann y Metropolis ayudaron a formalizar el método utilizando computadoras. \n",
    "\n",
    "El nombre \"Montecarlo\" se debe al famoso casino de Montecarlo en Mónaco, un destino reconocido por su asociación con juegos de azar y apuestas. Esta relación simbólica con el azar fue la razón por la cual Stanislaw Ulam eligió este nombre para la técnica, ya que en su esencia, el método de Montecarlo se basa en la aleatoriedad y el uso de variables probabilísticas para resolver problemas complejos.\n",
    "\n",
    "La base matemática fundamental del método de Montecarlo radica en la **Ley de los Grandes Números**, un teorema clave en la teoría de probabilidad que establece que, al incrementar el número de muestras aleatorias de un proceso estocástico, el promedio de esos resultados converge al valor esperado del proceso. Esta ley fue formalizada por Jacob Bernoulli en el siglo XVII y es esencial para el enfoque probabilístico que subyace en Montecarlo.\n",
    "\n",
    "#### Aplicaciones en Finanzas:\n",
    "\n",
    "*Valoración de Opciones y Derivados:*\n",
    "   El método se emplea para valorar instrumentos derivados, modelando el precio futuro del activo subyacente y estimando su valor bajo diversas trayectorias de precios.\n",
    "\n",
    "*Gestión de Riesgos:*\n",
    "   Montecarlo permite simular la evolución de un portafolio bajo distintos escenarios, facilitando el cálculo de métricas de riesgo como el Valor en Riesgo (VaR) y la Pérdida Esperada (Expected Shortfall, ES).\n",
    "\n",
    "*Asset Allocation:*\n",
    "   Permite optimizar portafolios, buscando las ponderaciones eficientes por medio de la simulación de las múltiples combinaciones de los activos.\n",
    "\n",
    "#### Ventajas.\n",
    "\n",
    "- **Flexibilidad:** Montecarlo puede aplicarse a una amplia variedad de problemas financieros que involucren incertidumbre.\n",
    "- **Capacidad para manejar procesos complejos:** Permite la modelización de procesos estocásticos complejos.\n",
    "- **Simplicidad:** El método es sencillo en su ejecución y modelización.\n",
    "\n",
    "#### Desventajas.\n",
    "\n",
    "+ **Consumo de Recursos Computacionales:** El método de montecarlo implica un alto costo computacional, en específico de memoria RAM, debido a la cantidad de simulaciones que puede necesitar para converger,\n",
    "\n",
    "+ **Dependencia en la Calidad de las Suposiciones:** Garbage In Garbage Out.\n",
    "\n",
    "+ **Dificultad para Evaluar la Convergencia:** El número de simulaciones para que el problema converja es *relativo* al problema, además, puede ser que el método no converja a un mínimo global, si no a uno local."
   ]
  },
  {
   "cell_type": "markdown",
   "id": "92962c9e",
   "metadata": {},
   "source": [
    "La optimización de Montecarlo combina la simulación estocástica con teoría de optimización para identificar la mejor solución entre un conjunto de opciones. Este enfoque es particularmente útil en situaciones donde:\n",
    "\n",
    "+ Las funciones objetivo son no lineales, no convexas o difíciles de evaluar.\n",
    "+ Existen múltiples variables de decisión.\n",
    "+ Hay incertidumbre en los datos o en el comportamiento del sistema.\n",
    "\n",
    "El método de Montecarlo permite explorar el espacio de soluciones al generar múltiples escenarios posibles a través de simulaciones aleatorias, proporcionando así una base para evaluar y comparar diferentes opciones.\n",
    "\n",
    "**Pasos para Realizar una Optimización con Montecarlo**\n",
    "\n",
    "1.- **Definir el Problema:** Identificar claramente el objetivo de la optimización y las restricciones que se deben considerar. Esto incluye la función objetivo que se desea maximizar o minimizar.\n",
    "\n",
    "2.- **Definir las Variables:** Especificar las variables de decisión, su rango de valores y una función de distribución de probabilidad. Estas variables son las que se simularan aleatoriamente y se ajustarán para encontrar la mejor solución.\n",
    "\n",
    "3.- **Generar un número grande de escenarios aleatorios:** Generar muestras aleatorias para cada variable de decisión.\n",
    "\n",
    "\n",
    "4.- **Evaluar Resultados:** Para cada escenario (o variable) simulado, calcular el valor de la función objetivo y almacenar estos resultados. Esto puede incluir calcular métricas relevantes como el retorno esperado, el riesgo, etc.\n",
    "\n",
    "\n",
    "5.- **Realizar la Optimización:** Analizar los resultados obtenidos de las simulaciones. Identificar la mejor solución (solución óptima) tanto de la función objetivo, como de las variables de decisión.\n"
   ]
  },
  {
   "cell_type": "markdown",
   "id": "2ac0c91f",
   "metadata": {},
   "source": [
    "---"
   ]
  },
  {
   "cell_type": "markdown",
   "id": "c7ce7e59",
   "metadata": {},
   "source": [
    "### **Teoría Pos-Moderna de Portafolios**"
   ]
  },
  {
   "cell_type": "markdown",
   "id": "4a5ae31d",
   "metadata": {},
   "source": [
    "#### **Riesgo** \n",
    "- El riesgo es la probabilidad de que se produzca un resultado distinto al esperado.\n",
    "\n",
    "- En finanzas , el riesgo medido como la volatilidad no solamente considera los resultados negativos , si no también los positivos, debido a que la desviación estándar es la dispersión de los rendimientos con respecto a la media.\n",
    "\n",
    "\n",
    "#### **Downside y Upside Risk**\n",
    "\n",
    "- **Upside Risk**: Volatilidad de los rendimientos positivos , es decir , aquellos rendimientos que te producen ganancia.\n",
    "\n",
    "- **Downside Risk**: Volatilidad de los rendimientos negativos , es decir , aquellos rendimientos que te producen pérdida.\n",
    "\n",
    "El downside y upside risk de un activo para un activo financiero se calcula de la siguiente manera: \n",
    "\n",
    " $$\\sigma_{d} = \\sigma(min(r_i , 0 ))$$\n",
    "\n",
    " $$\\sigma_{u} = \\sigma(max(r_i , 0 ))$$\n",
    "\n",
    "#### **Mínima Semi-Varianza**\n",
    "\n",
    "- La mínima semivarianza es un método de optimización de portafolios que se enfoca en minimizar exclusivamente el riesgo a la baja(downside risk) de una cartera de inversión , en lugar de considerar el riesgo total. \n",
    "\n",
    "- El downside risk puede interpretarse como el riesgo de experimentar pérdidad , es decir , de experimentar rendimientos que caen por debajo de cero.\n",
    "\n",
    "- La semivarianza de un portafolio se calcula considerando únicamente el downside risk (desviaciones de los rends. por debajo de cero) y la matriz de correlación de los activos.\n",
    "\n",
    "\n",
    "#### **Matriz de Semi-Varianza**\n",
    "Se calcula como :\n",
    "\n",
    "$$ S_port = w^T S w $$\n",
    "\n",
    "\n",
    "#### **Omega** \n",
    "- El Ratio Omega mide la relación entre el upside risk (potencial ganancia) y el downside risk (potencial perdida) de un activo financiero.\n",
    "\n",
    "- Este ratio se interpreta como la cantidad de unidades de upside risk obtenidas por cada unidad de downside risk asumido.\n",
    "\n",
    "- En otras palabras , el omega refleja la oportunidad de ganancia en relación con los riesgos de pérdida que se tienen al invertir en un activo financiero.\n",
    "\n",
    "- Para calcular el ratio omega individual , se utiliza la siguiente fórmula:\n",
    "\n",
    "$$\\Omega = \\frac{\\sigma_u}{\\sigma_d}$$\n",
    "- Para calcular el ratio omega de un portafolio de inversión , se utiliza la suma ponderada de los omegas individuales:\n",
    "\n",
    "$$\\Omega_p = \\sum^{n}_{i=1} w_i \\Omega_i$$\n",
    "\n",
    "- El portafolio que maximimza el ratio omega , se denomina portafolio óptimo en máximo omega. \n",
    "\n",
    "#### **Conceptos TPMP**\n",
    "##### **Downside Risk**\n",
    "- Volatilidad de los rendimientos negativos , es decir , aquellos rendimientos que te producen pérdida. \n",
    "\n",
    "##### **Upside Risk**\n",
    "- Volatilidad de los rendimientos positivos , es decir , aquellos rendimientos que te producen ganancia.\n",
    "\n",
    "##### **Portafolio Mínima Semi-Varianza**\n",
    "- Portafolio que mínimiza la semivarianza, es decir, la varianza solamente considera los rendimientos negativos/pérdidas de los activos individuales.\n",
    "\n",
    "##### **Portafolio Max Omega**\n",
    "- Portafolio que maximiza el ratio entre el upside risk y downside risk del portafolio de inversión.\n",
    "\n",
    "#### **Apéndice: Alpha** \n",
    "\n",
    "- Generar alpha en un portafolio se refiere a obtener un\n",
    "rendimiento superior al esperado, es decir, superar el\n",
    "desempeño del mercado de referencia o benchmark.\n",
    "\n",
    "- En otras palabras, el alpha representa el exceso de\n",
    "rendimiento logrado por encima del retorno promedio del\n",
    "mercado, lo que lo convierte en una medida clave del valor\n",
    "añadido por el gestor de inversiones.\n",
    "\n",
    "- La habilidad de un gestor se mide, en gran parte, por su\n",
    "capacidad para generar alpha de manera consistente, lo\n",
    "que explica por qué muchos se centran en superar al\n",
    "mercado (beat the market!).\n",
    "\n",
    "\n",
    "\n",
    "#### **Apéndice : Target Downside**\n",
    "- El target downside representa el riesgo de que un portafolio de inversión no genere rendimientos por encima de un umbral específico , generalmente un benchmark de referencia.\n",
    "\n",
    "     Este riesgo se calcula de la siguiente manera:\n",
    "\n",
    "$$\\sigma_d = \\sigma{(min(r_i - r_b , 0))}$$\n",
    "\n",
    "#### **Apéndice : Target Semivariance** \n",
    "- Con este enfoque, un gestor de portafolios puede adaptar el\n",
    "método de la semivarianza para incluir el riesgo de no generar\n",
    "alpha, es decir, el riesgo de no superar al benchmark.\n",
    "\n",
    "- De esta manera, se toman en cuenta únicamente los\n",
    "rendimientos que, tras restar el rendimiento del benchmark,\n",
    "resultan negativos. Estos valores reflejan los periodos en los\n",
    "que el portafolio no logró generar alpha.\n",
    "\n",
    "- Al minimizar esta target semivariance, el portafolio resultante\n",
    "reducirá el riesgo de subrendimientos en relación al\n",
    "benchmark, optimizando la probabilidad de generar\n",
    "rendimientos consistentes por encima del mercado.\n",
    "\n",
    "\n",
    "\n",
    "$$\\sigma_d = \\sigma{(min(r_i - r_b , 0))}$$\n",
    "\n",
    "$$min {\\sigma_{d}^{2} = w^T Sw}$$\n",
    "\n",
    "$$\n",
    "s.a :\\begin{cases}\n",
    "w_1 +w_2 + \\dots +w_n = 1  \\\\\n",
    "w_i > 0\n",
    "\\end{cases}\n",
    "$$\n"
   ]
  },
  {
   "cell_type": "markdown",
   "id": "9c0f77b1",
   "metadata": {},
   "source": [
    "---"
   ]
  },
  {
   "cell_type": "markdown",
   "id": "a52e551d",
   "metadata": {},
   "source": [
    "### **Backtesting**"
   ]
  },
  {
   "cell_type": "markdown",
   "id": "ff4204cc",
   "metadata": {},
   "source": [
    "#### Introducción\n",
    "        \n",
    "+ El **backtesting** es el proceso de **simular una estrategia de inversión con el objetivo de evaluar su viabilidad al analizar su comportamiento histórico** utilizando datos pasados. Este método permite medir cómo se hubiera comportado un portafolio si se hubiera implementado en el pasado.\n",
    "\n",
    "\n",
    "+ El backtesting permite **evaluar el potencial de una estrategia** al analizar su capacidad para generar rendimientos consistentes y mantener **métricas de desempeño** robustas. Además, es una herramienta clave para **seleccionar estrategias de inversión** y detectar posibles debilidades antes de implementarlas en tiempo real.  \n",
    "\n",
    "\n",
    "+ **Hipótesis del mercado eficiente:** El backtesting asume que los precios reflejan toda la información disponible, pero también que es posible encontrar ineficiencias en los precios que puedan ser explotadas (es posible generar *Alpha*).\n",
    "\n",
    "\n",
    "+ **Overfitting:** Es el **riesgo de sobre-ajustar la estrategia demasiado bien a los datos históricos**, en portafolios, esta directamente relacionada con el **look-ahead bias**. El overfitting causa que los resultados sean muy buenos en backtesting, pero muy malos en la implementación real.\n",
    "\n",
    "\n",
    "#### Conceptos clave en un Backtesting\n",
    "\n",
    "\n",
    "**Horizonte de inversión:** El período sobre el cual se realiza el backtesting.  \n",
    "    \n",
    "    \n",
    "**Capital Inicial:** El monto asignado para iniciar la inversión.\n",
    "  \n",
    "  \n",
    "**Costos transaccionales:** Costo por la compra/venta de activos, comisión del broker, IVA, ISR, etc. Estos deben incluirse para hacer el backtesting más realista.  \n",
    "  \n",
    "\n",
    "\n",
    "**Benchmark:** Al realizar el backtesting para una estrategia de inversión, siempre es recomendable además de comparar contra otras estrategias, competir contra una estrategia de inversión pasiva, es decir, estar invertido en el *benchmark*.    \n",
    "  \n",
    "  \n",
    "\n",
    "**Métricas de Desempeño:** Para medir el desempeño de una estrategia en backtesting, es recomendable comparar utilizando métricas de desempeño como el rendimiento anual promedio, el rendimiento efectivo, la volatilidad, el upside y downside risk. Existen otras métricas *(que veremos la siguiente clase)* que nos pueden ayudar, como el Ratio de Sortino, la Beta, el Ratio de Treynor, el VaR, entre otras. \n",
    "\n",
    "\n",
    "\n",
    "#### Pasos para realizar un Backtesting \n",
    "    \n",
    "    \n",
    "**1.- Definir los Activos del Portafolio**\n",
    "\n",
    "- Especificar los activos que serán parte del portafolio.  \n",
    "    \n",
    "- Descargar los datos históricos (precios de cierre ajustado) de los activos.  \n",
    "    \n",
    "    \n",
    "    \n",
    "**2.- Selección de Estrategias y Optimización de Ponderaciones** \n",
    "    \n",
    "- Describir claramente la estrategia de inversión (Activa o Pasiva) y el algoritmo de Asset Allocation \n",
    "    que se utilizará.\n",
    "\n",
    "- Con los datos históricos obtenidos, calcular las ponderaciones eficientes para las estrategias que \n",
    "    se desean simular.\n",
    "    \n",
    "**3.- Simular el comportamiento del Portafolio**\n",
    "\n",
    "-    Implementar la estrategia definida en el paso anterior con los datos históricos.  \n",
    "    \n",
    "-    Realizar operaciones de compra y venta según las reglas predefinidas.  \n",
    "    \n",
    "-    Incorporar Costos Transaccionales.  \n",
    "    \n",
    "-    Incluir comisiones, impuestos, spreads de compra/venta, impacto del Tipo de Cambio para simular\n",
    "    con precisión el desempeño de la o las estrategias.\n",
    "\n",
    "**4.- Métricas de Desempeño**\n",
    "    \n",
    "-    Evaluar el desempeño del portafolio usando distintas métricas.\n",
    "\n",
    "**5.- Toma de Decisiones Financieras**\n",
    "\n",
    "-    Analizar los resultados del backtesting.   \n",
    "    \n",
    "-    Concluir acerca del desempeño de las estrategias, ¿En que aspectos destaca cada una de ellas? ¿Qué factores hay que considerar?\n",
    "    \n",
    "-    Seleccionar la estrategia de inversión que mejor se adecúe a nuestros objetivos y características.  \n",
    "    \n",
    "    \n",
    "**6.- Re-Optimización de Ponderaciones del Portafolios**\n",
    "\n",
    "-    Con la estrategia de Asset Allocation seleccionada, se re-optimizan los pesos para la implementación\n",
    "    del portafolio."
   ]
  },
  {
   "cell_type": "markdown",
   "id": "ca0ca9ae",
   "metadata": {},
   "source": [
    "---"
   ]
  },
  {
   "cell_type": "markdown",
   "id": "841d1e6e",
   "metadata": {},
   "source": [
    "### **Selección de Estrategias de Inversión**"
   ]
  },
  {
   "cell_type": "markdown",
   "id": "08b96a59",
   "metadata": {},
   "source": [
    "\n",
    "####  Introducción\n",
    "    \n",
    "\n",
    "En la clase pasada, aprendimos a realizar el **backtesting** de un portafolio de inversión. Como observamos, esta herramienta es fundamental tanto para evaluar como para seleccionar estrategias de inversión. Sin embargo, aún nos falta profundizar en las métricas de desempeño que complementan este análisis.\n",
    "\n",
    "En esta clase, nuestro objetivo será extender los conocimientos adquiridos, introduciendo varias métricas financieras clave. Comenzaremos con el concepto de **Beta**, un indicador esencial en la inversión bursátil.\n",
    "\n",
    "Además, exploraremos otras métricas de desempeño de portafolios que nos permitirán cuantificar tanto el riesgo como el rendimiento desde diferentes perspectivas. Estas métricas incluyen:\n",
    "\n",
    "\n",
    "+ **Alfa de Jensen**\n",
    "\n",
    "+ **Ratio de Treynor**\n",
    "\n",
    "+ **Ratio de Sortino**\n",
    "\n",
    "\n",
    "\n",
    "\n",
    "Durante esta clase, veremos tanto la teoría detrás de estas métricas como su aplicación práctica. Calcularemos, analizaremos e interpretaremos estos ratios para un conjunto de activos financieros, permitiéndonos tomar decisiones más informadas en la gestión de portafolios. La correcta utilización de estas herramientas mejorará nuestra capacidad de tomar decisiones financieras."
   ]
  },
  {
   "cell_type": "markdown",
   "id": "60fad791",
   "metadata": {},
   "source": [
    "\n",
    "####  **Alfa de Jensen**\n",
    "El Alfa de Jensen mide el **rendimiento de un portafolio en relación con su rendimiento esperado ajustado por riesgo sistématico**. Indica si el portafolio ha tenido un rendimiento superior o inferior al esperado.\n",
    "\n",
    "\n",
    "$$\\alpha_J = R_p - [ R_f + \\beta \\cdot (R_m - R_f)] $$\n",
    "\n",
    "Donde:\n",
    "- $R_p$: Rendimiento del portafolio\n",
    "- $R_f$: Tasa libre de riesgo\n",
    "- $\\beta$: Beta del portafolio en relación con el mercado\n",
    "- $R_m$: Rendimiento del mercado\n",
    "\n",
    "El Alfa de Jensen es una herramienta clave para evaluar el desempeño de un portafolio o gestor, mostrando si se están generando rendimientos por encima de lo que se esperaría de un gestor de portafolios en función del riesgo sistemático.\n",
    "\n",
    "\n",
    "En términos simples **indica que tan bueno es un gestor para generar rendimientos por encima a los esperados**. Se expresa en porcentaje."
   ]
  },
  {
   "cell_type": "markdown",
   "id": "dba82243",
   "metadata": {},
   "source": [
    "\n",
    "####  **Ratio de Treynor**\n",
    "    \n",
    "El Ratio de Treynor es una métrica que mide el **rendimiento ajustado por riesgo sistemático** (Beta) de un portafolio. A diferencia del ratio de Sharpe, que ajusta el rendimiento en función de la volatilidad total, el ratio de Treynor solo toma en cuenta el riesgo que proviene del mercado, es decir, el riesgo no diversificable. Mide las unidades de rendimiento generadas por unidad de riesgo sistemático asumido.\n",
    "\n",
    "\n",
    "$$T = \\frac{R_p - R_f}{\\beta}$$\n",
    "\n",
    "Donde:\n",
    "    \n",
    "- $R_p$: Rendimiento del portafolio\n",
    "- $R_f$: Tasa libre de riesgo\n",
    "- $\\beta$: Beta del portafolio\n",
    "\n",
    "\n",
    "\n",
    "El ratio de Treynor es útil para comparar portafolios con diferentes niveles de exposición al riesgo sistemático. Un ratio más alto indica un mejor desempeño ajustado por el riesgo de mercado."
   ]
  },
  {
   "cell_type": "markdown",
   "id": "8893169a",
   "metadata": {},
   "source": [
    "\n",
    "####  **Ratio de Sortino**\n",
    "    \n",
    "    \n",
    "El Ratio de Sortino es una variación del ratio de Sharpe que ajusta el **rendimiento de un portafolio en función de su riesgo a la baja** (downside risk), es decir, solo tiene en cuenta la volatilidad de los rendimientos que están por debajo de un cierto umbral o rendimiento objetivo. Mide las unidades de rendimiento generadas por unidad de downside risk asumida.\n",
    "\n",
    "$$S = \\frac{R_p - R_f}{\\sigma_d}$$\n",
    "\n",
    "Donde:\n",
    "- $R_p$:  Rendimiento del portafolio\n",
    "- $R_f$:  Tasa libre de riesgo\n",
    "- $\\sigma_d$:  Desviación estándar de los rendimientos por debajo de un rendimiento objetivo (volatilidad negativa)\n",
    "\n",
    "El ratio de Sortino solo penaliza el riesgo de caída del rendimiento, lo que lo hace más preciso cuando se evalúa el riesgo relacionado con las pérdidas en lugar de la volatilidad total."
   ]
  },
  {
   "cell_type": "markdown",
   "id": "02569a9b",
   "metadata": {},
   "source": [
    "---"
   ]
  },
  {
   "cell_type": "markdown",
   "id": "9f254d4e",
   "metadata": {},
   "source": [
    "### QUIZ"
   ]
  },
  {
   "cell_type": "markdown",
   "id": "6d72594a",
   "metadata": {},
   "source": [
    "---"
   ]
  },
  {
   "cell_type": "markdown",
   "id": "5c633d60",
   "metadata": {},
   "source": []
  }
 ],
 "metadata": {
  "kernelspec": {
   "display_name": "Python 3",
   "language": "python",
   "name": "python3"
  },
  "language_info": {
   "codemirror_mode": {
    "name": "ipython",
    "version": 3
   },
   "file_extension": ".py",
   "mimetype": "text/x-python",
   "name": "python",
   "nbconvert_exporter": "python",
   "pygments_lexer": "ipython3",
   "version": "3.12.8"
  }
 },
 "nbformat": 4,
 "nbformat_minor": 5
}
