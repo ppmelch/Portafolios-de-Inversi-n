{
 "cells": [
  {
   "cell_type": "markdown",
   "id": "08f90707",
   "metadata": {},
   "source": [
    "# Portafolios de Inversión\n",
    "## Last Repaso Práctico\n",
    "José Armando Melchor Soto\n",
    "\n",
    "---\n",
    "\n",
    "\n",
    "\n"
   ]
  },
  {
   "cell_type": "markdown",
   "id": "21ca5ef6",
   "metadata": {},
   "source": [
    "### Librerías "
   ]
  },
  {
   "cell_type": "code",
   "execution_count": 103,
   "id": "02dafe8d",
   "metadata": {},
   "outputs": [],
   "source": [
    "import pandas as pd \n",
    "import numpy as np\n",
    "import yfinance as yf\n",
    "import matplotlib.pyplot as plt\n",
    "from scipy.optimize import minimize "
   ]
  },
  {
   "cell_type": "markdown",
   "id": "05d5b032",
   "metadata": {},
   "source": [
    "---"
   ]
  },
  {
   "cell_type": "markdown",
   "id": "16344cab",
   "metadata": {},
   "source": [
    "#### Funciones"
   ]
  },
  {
   "cell_type": "markdown",
   "id": "099265b6",
   "metadata": {},
   "source": [
    "##### Función Mínima Varianza "
   ]
  },
  {
   "cell_type": "code",
   "execution_count": 104,
   "id": "dd37ee95",
   "metadata": {},
   "outputs": [],
   "source": [
    "def opt_min_var(rets):\n",
    "    \n",
    "    cov=rets.cov()\n",
    "    n_assets = len(rets.columns)\n",
    "    \n",
    "    var = lambda w: w.T @ cov @ w\n",
    "    \n",
    "    w0=np.ones(n_assets)/n_assets\n",
    "    \n",
    "    bounds=[(0, 1)]*n_assets\n",
    "    \n",
    "    constraint=lambda w: sum(w)-1\n",
    "    \n",
    "    result=minimize(fun=var, x0=w0, bounds=bounds, constraints={'fun': constraint, 'type': 'eq'}, tol=1e-16)\n",
    "    \n",
    "    return result.x"
   ]
  },
  {
   "cell_type": "markdown",
   "id": "673826ec",
   "metadata": {},
   "source": [
    "##### Función Máximo de Sharpe"
   ]
  },
  {
   "cell_type": "code",
   "execution_count": 105,
   "id": "87f6d072",
   "metadata": {},
   "outputs": [],
   "source": [
    "def opt_max_sharpe(rets, rf):\n",
    "    \n",
    "    E=rets.mean()\n",
    "    cov=rets.cov()\n",
    "    n_assets = len(rets.columns)\n",
    "    \n",
    "    rs = lambda w: -((w.T @ E - rf/252) / np.sqrt(w.T @ cov @ w))\n",
    "    \n",
    "    w0=np.ones(n_assets)/n_assets\n",
    "    \n",
    "    bounds=[(0, 1)]*n_assets\n",
    "    \n",
    "    constraint=lambda w: sum(w)-1\n",
    "    \n",
    "    result=minimize(fun=rs, x0=w0, bounds=bounds, constraints={'fun': constraint, 'type': 'eq'}, tol=1e-16)\n",
    "    \n",
    "    return result.x"
   ]
  },
  {
   "cell_type": "markdown",
   "id": "f08085eb",
   "metadata": {},
   "source": [
    "##### Función Semi-Varianza Target"
   ]
  },
  {
   "cell_type": "code",
   "execution_count": 106,
   "id": "af2de17b",
   "metadata": {},
   "outputs": [],
   "source": [
    "def objetivo (rets:pd.DataFrame , rets_b : pd.DataFrame ,corr:pd.DataFrame):\n",
    "    \n",
    "    rets, rets_b = rets.align(rets_b, join='inner', axis=0)\n",
    "    diffs=rets - rets_b.values\n",
    "    rends_below_bench = diffs[diffs < 0].fillna(0)\n",
    "    target_downside_risk=np.array(rends_below_bench.std())\n",
    "    target_semivarmatrix= corr * (target_downside_risk.reshape(len(rets.columns), 1) @ target_downside_risk.reshape(1, len(rets.columns)))\n",
    "\n",
    "    objectivo = lambda w: (w.T @ target_semivarmatrix @ w)\n",
    "\n",
    "    n = len(rets.keys())\n",
    "    w_inicial = np.ones(n)/n\n",
    "    bounds = [(0,1)]*n\n",
    "    tol = 1e-9\n",
    "    rest = lambda w: np.sum(w) - 1\n",
    "    \n",
    "    obj = minimize(\n",
    "    fun=objectivo,\n",
    "    x0=w_inicial,\n",
    "    bounds=bounds,\n",
    "    constraints={'fun': rest, 'type': 'eq'},\n",
    "    tol=tol)\n",
    "\n",
    "    w_objetivo = obj.x\n",
    "\n",
    "    return dict(zip(rets.columns, w_objetivo))"
   ]
  },
  {
   "cell_type": "markdown",
   "id": "e0f4dda7",
   "metadata": {},
   "source": [
    "#### Función de Backtesting"
   ]
  },
  {
   "cell_type": "code",
   "execution_count": 107,
   "id": "50e94dd4",
   "metadata": {},
   "outputs": [],
   "source": [
    "def backtesting(prices: pd.DataFrame, benchmark: pd.DataFrame, weights: dict, capital: float):\n",
    "    \n",
    "    # Obtener rendimientos de precios y benchmark\n",
    "    rets_assets = prices.pct_change().dropna()\n",
    "    rets_benchmark = benchmark.pct_change().dropna()\n",
    "    \n",
    "    # data frame vacio para llenar historia\n",
    "    \n",
    "    df = pd.DataFrame(index=rets_assets.index)\n",
    "    \n",
    "    # Obtener evolución para cada estrategia dada\n",
    "    for strategy in weights.keys():\n",
    "        # para benchmark\n",
    "        if strategy == 'benchmark':\n",
    "            temp = rets_benchmark + 1\n",
    "            temp.iloc[0]=capital\n",
    "            temp = temp.cumprod()\n",
    "            df[strategy] = temp.values            \n",
    "    \n",
    "        # para otras estrategias\n",
    "\n",
    "        else:\n",
    "            temp = (rets_assets * weights.get(strategy)).sum(axis=1)+1\n",
    "            temp.iloc[0]=capital\n",
    "            temp = temp.cumprod()\n",
    "            df[strategy] = temp.values    \n",
    "\n",
    "    # Graficar la evolucion para ambos portafolios\n",
    "    plt.figure(figsize=(12,6))\n",
    "    plt.plot(df, label=df.keys())\n",
    "    plt.title('Backtesting of Strategies')\n",
    "    plt.xlabel('Date')\n",
    "    plt.ylabel('Portafolio Value')\n",
    "    plt.legend()\n",
    "    plt.show()\n",
    "\n",
    "\n",
    "    return df"
   ]
  },
  {
   "cell_type": "markdown",
   "id": "bee61e9a",
   "metadata": {},
   "source": [
    "##### Función Desempeño "
   ]
  },
  {
   "cell_type": "code",
   "execution_count": 108,
   "id": "1887f55a",
   "metadata": {},
   "outputs": [],
   "source": [
    "def metrics(history , rf):\n",
    "    # Returns\n",
    "    rets = history.pct_change().dropna()\n",
    "    # Cov\n",
    "    cov = rets.cov()\n",
    "    # DataFrame\n",
    "    df = pd.DataFrame(index=rets.columns)\n",
    "    # Rendimientos\n",
    "    df['Rendimiento Anualizado'] =r_p=  rets.mean() * 252*100\n",
    "    # Volatilidad\n",
    "    df['Volatilidad Anualizada'] =vol=  rets.std() * np.sqrt(252)*100\n",
    "    # Sharpe\n",
    "    df['Sharpe'] = (r_p - rf/252)/vol\n",
    "\n",
    "    # Downside Risk\n",
    "    df['Downside Risk'] = Downside = rets[rets < 0].std()*np.sqrt(252)\n",
    "    \n",
    "    # Upside Risk\n",
    "    df['Upside Risk'] = upside = rets[rets > 0].std()*np.sqrt(252)\n",
    "    # Omega\n",
    "    df['Omega'] = omega = upside / Downside\n",
    "    # Beta\n",
    "    cov_b = cov['Benchmark']\n",
    "    var_b = cov_b['Benchmark']\n",
    "    df['Beta']=beta = cov_b / var_b\n",
    "    # Alpha\n",
    "    r_m = rets['Benchmark'].mean() * 252\n",
    "    df['Alpha'] = alpha = r_p - (rf/252 + beta * (r_m - rf/252))\n",
    "\n",
    "    # Sortino (downside)\n",
    "    df['Sortino'] = (r_p - rf/252)/Downside\n",
    "    # Taylor (beta)\n",
    "    df['Taylor'] = (r_p - rf/252) / beta\n",
    "\n",
    "    return df.T\n"
   ]
  },
  {
   "cell_type": "markdown",
   "id": "c02c1567",
   "metadata": {},
   "source": [
    "#### Importación de Datos"
   ]
  },
  {
   "cell_type": "code",
   "execution_count": 109,
   "id": "9db1c5e8",
   "metadata": {},
   "outputs": [],
   "source": [
    "tickers = ['AAPL', 'MSFT', 'GOOGL', 'AMZN', 'TSLA']"
   ]
  },
  {
   "cell_type": "code",
   "execution_count": 110,
   "id": "afecd061",
   "metadata": {},
   "outputs": [],
   "source": [
    "opt_prices = yf.download(tickers, start='2023-01-01', end='2024-01-01', progress=False)['Close']\n",
    "bt_prices = yf.download(tickers, start='2024-01-01', progress=False)['Close']\n",
    "benchmark = yf.download('^GSPC', start='2024-01-01', progress=False)['Close']\n"
   ]
  },
  {
   "cell_type": "code",
   "execution_count": 111,
   "id": "988e74c2",
   "metadata": {},
   "outputs": [],
   "source": [
    "rets= opt_prices.pct_change().dropna()\n",
    "rets_b = benchmark.pct_change().dropna()\n",
    "corr = rets.corr()\n",
    "rets_bt = bt_prices.pct_change().dropna()"
   ]
  },
  {
   "cell_type": "markdown",
   "id": "6717b0fa",
   "metadata": {},
   "source": [
    "##### Función Mínima Varianza "
   ]
  },
  {
   "cell_type": "code",
   "execution_count": 112,
   "id": "34bb3182",
   "metadata": {},
   "outputs": [
    {
     "data": {
      "text/plain": [
       "array([7.12389762e-01, 2.52033844e-02, 3.56305621e-02, 2.26776291e-01,\n",
       "       8.45815337e-18])"
      ]
     },
     "execution_count": 112,
     "metadata": {},
     "output_type": "execute_result"
    }
   ],
   "source": [
    "w_minvar = opt_min_var(rets)\n",
    "w_minvar"
   ]
  },
  {
   "cell_type": "markdown",
   "id": "043e674a",
   "metadata": {},
   "source": [
    "##### Función Máximo de Sharpe"
   ]
  },
  {
   "cell_type": "code",
   "execution_count": 113,
   "id": "80d43508",
   "metadata": {},
   "outputs": [
    {
     "data": {
      "text/plain": [
       "array([4.97086714e-01, 1.74160148e-01, 3.02198691e-18, 1.84644953e-01,\n",
       "       1.44108185e-01])"
      ]
     },
     "execution_count": 113,
     "metadata": {},
     "output_type": "execute_result"
    }
   ],
   "source": [
    "w_maxsharpe = opt_max_sharpe(rets, rf=0.045)\n",
    "w_maxsharpe"
   ]
  },
  {
   "cell_type": "markdown",
   "id": "16e6a5f5",
   "metadata": {},
   "source": [
    "##### Función Semi-Varianza Target"
   ]
  },
  {
   "cell_type": "code",
   "execution_count": 114,
   "id": "25cee42c",
   "metadata": {},
   "outputs": [
    {
     "data": {
      "text/plain": [
       "{'AAPL': 0.2, 'AMZN': 0.2, 'GOOGL': 0.2, 'MSFT': 0.2, 'TSLA': 0.2}"
      ]
     },
     "execution_count": 114,
     "metadata": {},
     "output_type": "execute_result"
    }
   ],
   "source": [
    "w_semivar = objetivo(rets, rets_b, corr)\n",
    "w_semivar"
   ]
  },
  {
   "cell_type": "markdown",
   "id": "018ed3cb",
   "metadata": {},
   "source": [
    "#### Función de Backtesting"
   ]
  },
  {
   "cell_type": "code",
   "execution_count": 115,
   "id": "a7e8904a",
   "metadata": {},
   "outputs": [],
   "source": [
    "capital = 1000000"
   ]
  },
  {
   "cell_type": "code",
   "execution_count": 116,
   "id": "68315029",
   "metadata": {},
   "outputs": [],
   "source": [
    "w_dict = {\n",
    "    'Min Var': w_minvar,\n",
    "    'Max Sharpe': w_maxsharpe,\n",
    "    'Semivariance': w_semivar,\n",
    "    'Benchmark': 1\n",
    "}"
   ]
  },
  {
   "cell_type": "code",
   "execution_count": 117,
   "id": "c6b5b215",
   "metadata": {},
   "outputs": [
    {
     "data": {
      "image/png": "[encoded data removed]",
      "text/plain": [
       "<Figure size 1200x600 with 1 Axes>"
      ]
     },
     "metadata": {},
     "output_type": "display_data"
    }
   ],
   "source": [
    "history = backtesting(bt_prices , benchmark, w_dict, capital)"
   ]
  },
  {
   "cell_type": "markdown",
   "id": "12df707c",
   "metadata": {},
   "source": [
    "##### Función Desempeño "
   ]
  },
  {
   "cell_type": "code",
   "execution_count": 118,
   "id": "5c8f81a8",
   "metadata": {},
   "outputs": [
    {
     "data": {
      "text/html": [
       "<div>\n",
       "<style scoped>\n",
       "    .dataframe tbody tr th:only-of-type {\n",
       "        vertical-align: middle;\n",
       "    }\n",
       "\n",
       "    .dataframe tbody tr th {\n",
       "        vertical-align: top;\n",
       "    }\n",
       "\n",
       "    .dataframe thead th {\n",
       "        text-align: right;\n",
       "    }\n",
       "</style>\n",
       "<table border=\"1\" class=\"dataframe\">\n",
       "  <thead>\n",
       "    <tr style=\"text-align: right;\">\n",
       "      <th></th>\n",
       "      <th>Min Var</th>\n",
       "      <th>Max Sharpe</th>\n",
       "      <th>Semivariance</th>\n",
       "      <th>Benchmark</th>\n",
       "    </tr>\n",
       "  </thead>\n",
       "  <tbody>\n",
       "    <tr>\n",
       "      <th>Rendimiento Anualizado</th>\n",
       "      <td>14.617577</td>\n",
       "      <td>21.689685</td>\n",
       "      <td>26.566215</td>\n",
       "      <td>132.831077</td>\n",
       "    </tr>\n",
       "    <tr>\n",
       "      <th>Volatilidad Anualizada</th>\n",
       "      <td>25.705870</td>\n",
       "      <td>27.990853</td>\n",
       "      <td>28.923699</td>\n",
       "      <td>144.618496</td>\n",
       "    </tr>\n",
       "    <tr>\n",
       "      <th>Sharpe</th>\n",
       "      <td>0.568640</td>\n",
       "      <td>0.774878</td>\n",
       "      <td>0.918487</td>\n",
       "      <td>0.918492</td>\n",
       "    </tr>\n",
       "    <tr>\n",
       "      <th>Downside Risk</th>\n",
       "      <td>0.185235</td>\n",
       "      <td>0.196038</td>\n",
       "      <td>0.193894</td>\n",
       "      <td>0.969471</td>\n",
       "    </tr>\n",
       "    <tr>\n",
       "      <th>Upside Risk</th>\n",
       "      <td>0.197805</td>\n",
       "      <td>0.209562</td>\n",
       "      <td>0.210357</td>\n",
       "      <td>1.051785</td>\n",
       "    </tr>\n",
       "    <tr>\n",
       "      <th>Omega</th>\n",
       "      <td>1.067858</td>\n",
       "      <td>1.068987</td>\n",
       "      <td>1.084906</td>\n",
       "      <td>1.084906</td>\n",
       "    </tr>\n",
       "    <tr>\n",
       "      <th>Beta</th>\n",
       "      <td>0.145723</td>\n",
       "      <td>0.185095</td>\n",
       "      <td>0.200000</td>\n",
       "      <td>1.000000</td>\n",
       "    </tr>\n",
       "    <tr>\n",
       "      <th>Alpha</th>\n",
       "      <td>14.423858</td>\n",
       "      <td>21.443676</td>\n",
       "      <td>26.300410</td>\n",
       "      <td>131.502767</td>\n",
       "    </tr>\n",
       "    <tr>\n",
       "      <th>Sortino</th>\n",
       "      <td>78.912676</td>\n",
       "      <td>110.639579</td>\n",
       "      <td>137.013069</td>\n",
       "      <td>137.013806</td>\n",
       "    </tr>\n",
       "    <tr>\n",
       "      <th>Taylor</th>\n",
       "      <td>100.309216</td>\n",
       "      <td>117.180218</td>\n",
       "      <td>132.830184</td>\n",
       "      <td>132.830899</td>\n",
       "    </tr>\n",
       "  </tbody>\n",
       "</table>\n",
       "</div>"
      ],
      "text/plain": [
       "                           Min Var  Max Sharpe  Semivariance   Benchmark\n",
       "Rendimiento Anualizado   14.617577   21.689685     26.566215  132.831077\n",
       "Volatilidad Anualizada   25.705870   27.990853     28.923699  144.618496\n",
       "Sharpe                    0.568640    0.774878      0.918487    0.918492\n",
       "Downside Risk             0.185235    0.196038      0.193894    0.969471\n",
       "Upside Risk               0.197805    0.209562      0.210357    1.051785\n",
       "Omega                     1.067858    1.068987      1.084906    1.084906\n",
       "Beta                      0.145723    0.185095      0.200000    1.000000\n",
       "Alpha                    14.423858   21.443676     26.300410  131.502767\n",
       "Sortino                  78.912676  110.639579    137.013069  137.013806\n",
       "Taylor                  100.309216  117.180218    132.830184  132.830899"
      ]
     },
     "execution_count": 118,
     "metadata": {},
     "output_type": "execute_result"
    }
   ],
   "source": [
    "metrics = metrics(history, rf=0.045)\n",
    "metrics"
   ]
  },
  {
   "cell_type": "markdown",
   "id": "37e6d019",
   "metadata": {},
   "source": [
    "### Portafolio Real"
   ]
  },
  {
   "cell_type": "code",
   "execution_count": 128,
   "id": "1ecaf125",
   "metadata": {},
   "outputs": [
    {
     "data": {
      "text/html": [
       "<div>\n",
       "<style scoped>\n",
       "    .dataframe tbody tr th:only-of-type {\n",
       "        vertical-align: middle;\n",
       "    }\n",
       "\n",
       "    .dataframe tbody tr th {\n",
       "        vertical-align: top;\n",
       "    }\n",
       "\n",
       "    .dataframe thead th {\n",
       "        text-align: right;\n",
       "    }\n",
       "</style>\n",
       "<table border=\"1\" class=\"dataframe\">\n",
       "  <thead>\n",
       "    <tr style=\"text-align: right;\">\n",
       "      <th></th>\n",
       "      <th>w</th>\n",
       "      <th>Cash</th>\n",
       "      <th>Acciones</th>\n",
       "    </tr>\n",
       "    <tr>\n",
       "      <th>Ticker</th>\n",
       "      <th></th>\n",
       "      <th></th>\n",
       "      <th></th>\n",
       "    </tr>\n",
       "  </thead>\n",
       "  <tbody>\n",
       "    <tr>\n",
       "      <th>AAPL</th>\n",
       "      <td>0.000000e+00</td>\n",
       "      <td>0.000000e+00</td>\n",
       "      <td>0.0</td>\n",
       "    </tr>\n",
       "    <tr>\n",
       "      <th>AMZN</th>\n",
       "      <td>5.271179e-01</td>\n",
       "      <td>5.271179e+05</td>\n",
       "      <td>2360.0</td>\n",
       "    </tr>\n",
       "    <tr>\n",
       "      <th>GOOGL</th>\n",
       "      <td>1.114447e-17</td>\n",
       "      <td>1.114447e-11</td>\n",
       "      <td>0.0</td>\n",
       "    </tr>\n",
       "    <tr>\n",
       "      <th>MSFT</th>\n",
       "      <td>4.206698e-01</td>\n",
       "      <td>4.206698e+05</td>\n",
       "      <td>848.0</td>\n",
       "    </tr>\n",
       "    <tr>\n",
       "      <th>TSLA</th>\n",
       "      <td>5.221230e-02</td>\n",
       "      <td>5.221230e+04</td>\n",
       "      <td>161.0</td>\n",
       "    </tr>\n",
       "  </tbody>\n",
       "</table>\n",
       "</div>"
      ],
      "text/plain": [
       "                   w          Cash  Acciones\n",
       "Ticker                                      \n",
       "AAPL    0.000000e+00  0.000000e+00       0.0\n",
       "AMZN    5.271179e-01  5.271179e+05    2360.0\n",
       "GOOGL   1.114447e-17  1.114447e-11       0.0\n",
       "MSFT    4.206698e-01  4.206698e+05     848.0\n",
       "TSLA    5.221230e-02  5.221230e+04     161.0"
      ]
     },
     "execution_count": 128,
     "metadata": {},
     "output_type": "execute_result"
    }
   ],
   "source": [
    "# Portafolio Real\n",
    "re_opt = pd.DataFrame(index= rets.keys())\n",
    "re_opt['w']= opt_max_sharpe(rets_bt, 0.045)\n",
    "re_opt['Cash'] = re_opt['w'] * capital\n",
    "re_opt['Acciones'] = np.floor(re_opt['Cash'] / bt_prices.iloc[-1])\n",
    "re_opt\n"
   ]
  }
 ],
 "metadata": {
  "kernelspec": {
   "display_name": "Python 3",
   "language": "python",
   "name": "python3"
  },
  "language_info": {
   "codemirror_mode": {
    "name": "ipython",
    "version": 3
   },
   "file_extension": ".py",
   "mimetype": "text/x-python",
   "name": "python",
   "nbconvert_exporter": "python",
   "pygments_lexer": "ipython3",
   "version": "3.12.8"
  }
 },
 "nbformat": 4,
 "nbformat_minor": 5
}
