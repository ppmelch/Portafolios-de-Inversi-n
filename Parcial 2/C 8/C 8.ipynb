{
 "cells": [
  {
   "cell_type": "markdown",
   "id": "d537341a",
   "metadata": {},
   "source": [
    "# Portafolios de Inversión\n",
    "## Capital Asset Pricing Model\n",
    "José Armando Melchor Soto"
   ]
  },
  {
   "cell_type": "markdown",
   "id": "e45e4104",
   "metadata": {},
   "source": [
    "---"
   ]
  },
  {
   "cell_type": "markdown",
   "id": "2f855538",
   "metadata": {},
   "source": [
    "#### Capital Asset Pricing Model"
   ]
  },
  {
   "cell_type": "markdown",
   "id": "6aa68e3d",
   "metadata": {},
   "source": [
    "- El Capital Asset Pricing Model es un modelo de valoración de activos que permite estimar la rentabilidad esperada de un activo financiero en un función del riesgo sistemático del mismo, donde la medida de riesgo sistématico es la Beta.\n",
    "\n",
    "$$E[P] = r_f + \\beta( r_m - r_f)$$\n",
    "\n",
    "- Donde: \n",
    "    - $r_f = $ tasa libre de riesgo.\n",
    "    - $r_m =$ tasa de mercado.\n",
    "\n",
    "- Este modelo asume que únicamente el riesgo sistemático debe ser compensado al invertir en un activo , ya que este tipo de riesgo no puede ser elimiado mediante la diversificación.\n",
    "\n"
   ]
  },
  {
   "cell_type": "markdown",
   "id": "98f01efe",
   "metadata": {},
   "source": [
    "---"
   ]
  },
  {
   "cell_type": "markdown",
   "id": "06790a3a",
   "metadata": {},
   "source": [
    "### Beta"
   ]
  },
  {
   "cell_type": "markdown",
   "id": "b5b60698",
   "metadata": {},
   "source": [
    "- La beta es una medida de sensibilidad de un activo (o portafolio) ante fluctuaciones de mercado.\n",
    "\n",
    "- La beta se calcula contra un benchmark , ejemplo , si estas calculando la beta para un activo mexicano utilizas como benchmark el IPC , si es un activo industrial que cotiza en USA utilizas el Dow Jones , si es un activo estadounidense con buena capitalización en el S&P 500.\n",
    "\n",
    "$$\\beta = \\frac{\\sigma_{x,m}}{\\sigma_{m}^2}$$\n"
   ]
  },
  {
   "cell_type": "markdown",
   "id": "18e1efda",
   "metadata": {},
   "source": [
    "\n",
    "| **$$\\beta$$** | Interpretación \n",
    "|-----------|-----------|\n",
    "| $$\\beta < 1$$   |Acción defensiva , la acción registra una menor.....|\n",
    "| $$\\beta = 1$$      | |\n",
    "| $$\\beta > 1$$   | |\n",
    "\n"
   ]
  },
  {
   "cell_type": "markdown",
   "id": "c4f54cfc",
   "metadata": {},
   "source": [
    "---"
   ]
  },
  {
   "cell_type": "markdown",
   "id": "89ba2e45",
   "metadata": {},
   "source": [
    "### Supuestos CAPM "
   ]
  },
  {
   "cell_type": "markdown",
   "id": "c093078f",
   "metadata": {},
   "source": [
    "- Los inversores no pueden afectar los precios con sus negociaciones particulares.\n",
    "- Todos los inversores tienen el mismo horizonte de inversión.\n",
    "- Lo sinversores forman sus carteras con activos públicos.\n",
    "- Tienen accesso a la misma información , por lo tanto arman sus carteras de una manera idéntica.\n",
    "- Al tener la misma información , tienen las mismas expectativas.\n",
    "- No impuestos. No comisiones."
   ]
  },
  {
   "cell_type": "markdown",
   "id": "cf45303c",
   "metadata": {},
   "source": [
    "---"
   ]
  },
  {
   "cell_type": "markdown",
   "id": "cca665ec",
   "metadata": {},
   "source": [
    "#### CAMP Graficamente "
   ]
  },
  {
   "cell_type": "markdown",
   "id": "278eebe9",
   "metadata": {},
   "source": [
    ".... FOTO EN CANVAS"
   ]
  },
  {
   "cell_type": "markdown",
   "id": "420e15b4",
   "metadata": {},
   "source": [
    "---"
   ]
  },
  {
   "cell_type": "markdown",
   "id": "2f83e63b",
   "metadata": {},
   "source": []
  }
 ],
 "metadata": {
  "language_info": {
   "name": "python"
  }
 },
 "nbformat": 4,
 "nbformat_minor": 5
}
