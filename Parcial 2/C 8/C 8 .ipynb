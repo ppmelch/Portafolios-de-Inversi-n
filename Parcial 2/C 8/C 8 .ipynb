{
 "cells": [
  {
   "cell_type": "markdown",
   "id": "2e72ec23",
   "metadata": {},
   "source": [
    "# Portafolios de Inversión\n",
    "## Capital Asset Pricing Model - Python\n",
    "José Armando Melchor Soto"
   ]
  },
  {
   "cell_type": "markdown",
   "id": "106f5730",
   "metadata": {},
   "source": [
    "---"
   ]
  },
  {
   "cell_type": "markdown",
   "id": "2c681b08",
   "metadata": {},
   "source": [
    "#### Librerías "
   ]
  },
  {
   "cell_type": "code",
   "execution_count": 47,
   "id": "de65e561",
   "metadata": {},
   "outputs": [],
   "source": [
    "import pandas as pd\n",
    "import numpy as np\n",
    "import yfinance as yf\n",
    "import matplotlib.pyplot as plt"
   ]
  },
  {
   "cell_type": "markdown",
   "id": "655e3558",
   "metadata": {},
   "source": [
    "#### Encontrar la valuación de TESLA"
   ]
  },
  {
   "cell_type": "markdown",
   "id": "31a557af",
   "metadata": {},
   "source": [
    "##### Tasa libre de Riesgo"
   ]
  },
  {
   "cell_type": "code",
   "execution_count": 10,
   "id": "e479e4bd",
   "metadata": {},
   "outputs": [],
   "source": [
    "# Tasa libre de Riesgo\n",
    "rf = 0.0402 # Está anualizada al 4.02%"
   ]
  },
  {
   "cell_type": "code",
   "execution_count": 7,
   "id": "44346b76",
   "metadata": {},
   "outputs": [
    {
     "name": "stderr",
     "output_type": "stream",
     "text": [
      "[*********************100%***********************]  2 of 2 completed\n"
     ]
    },
    {
     "data": {
      "text/html": [
       "<div>\n",
       "<style scoped>\n",
       "    .dataframe tbody tr th:only-of-type {\n",
       "        vertical-align: middle;\n",
       "    }\n",
       "\n",
       "    .dataframe tbody tr th {\n",
       "        vertical-align: top;\n",
       "    }\n",
       "\n",
       "    .dataframe thead th {\n",
       "        text-align: right;\n",
       "    }\n",
       "</style>\n",
       "<table border=\"1\" class=\"dataframe\">\n",
       "  <thead>\n",
       "    <tr style=\"text-align: right;\">\n",
       "      <th>Ticker</th>\n",
       "      <th>TSLA</th>\n",
       "      <th>^GSPC</th>\n",
       "    </tr>\n",
       "    <tr>\n",
       "      <th>Date</th>\n",
       "      <th></th>\n",
       "      <th></th>\n",
       "    </tr>\n",
       "  </thead>\n",
       "  <tbody>\n",
       "    <tr>\n",
       "      <th>2022-06-10</th>\n",
       "      <td>232.229996</td>\n",
       "      <td>3900.860107</td>\n",
       "    </tr>\n",
       "    <tr>\n",
       "      <th>2022-06-13</th>\n",
       "      <td>215.736664</td>\n",
       "      <td>3749.629883</td>\n",
       "    </tr>\n",
       "    <tr>\n",
       "      <th>2022-06-14</th>\n",
       "      <td>220.889999</td>\n",
       "      <td>3735.479980</td>\n",
       "    </tr>\n",
       "    <tr>\n",
       "      <th>2022-06-15</th>\n",
       "      <td>233.000000</td>\n",
       "      <td>3789.989990</td>\n",
       "    </tr>\n",
       "    <tr>\n",
       "      <th>2022-06-16</th>\n",
       "      <td>213.100006</td>\n",
       "      <td>3666.770020</td>\n",
       "    </tr>\n",
       "  </tbody>\n",
       "</table>\n",
       "</div>"
      ],
      "text/plain": [
       "Ticker            TSLA        ^GSPC\n",
       "Date                               \n",
       "2022-06-10  232.229996  3900.860107\n",
       "2022-06-13  215.736664  3749.629883\n",
       "2022-06-14  220.889999  3735.479980\n",
       "2022-06-15  233.000000  3789.989990\n",
       "2022-06-16  213.100006  3666.770020"
      ]
     },
     "execution_count": 7,
     "metadata": {},
     "output_type": "execute_result"
    }
   ],
   "source": [
    "prices = yf.download(['TSLA', '^GSPC'], start = '2022-06-10', end = '2025-06-09')['Close']\n",
    "prices.head()"
   ]
  },
  {
   "cell_type": "code",
   "execution_count": 8,
   "id": "a40f9ed8",
   "metadata": {},
   "outputs": [
    {
     "data": {
      "text/html": [
       "<div>\n",
       "<style scoped>\n",
       "    .dataframe tbody tr th:only-of-type {\n",
       "        vertical-align: middle;\n",
       "    }\n",
       "\n",
       "    .dataframe tbody tr th {\n",
       "        vertical-align: top;\n",
       "    }\n",
       "\n",
       "    .dataframe thead th {\n",
       "        text-align: right;\n",
       "    }\n",
       "</style>\n",
       "<table border=\"1\" class=\"dataframe\">\n",
       "  <thead>\n",
       "    <tr style=\"text-align: right;\">\n",
       "      <th>Ticker</th>\n",
       "      <th>TSLA</th>\n",
       "      <th>^GSPC</th>\n",
       "    </tr>\n",
       "    <tr>\n",
       "      <th>Date</th>\n",
       "      <th></th>\n",
       "      <th></th>\n",
       "    </tr>\n",
       "  </thead>\n",
       "  <tbody>\n",
       "    <tr>\n",
       "      <th>2022-06-13</th>\n",
       "      <td>-0.071022</td>\n",
       "      <td>-0.038768</td>\n",
       "    </tr>\n",
       "    <tr>\n",
       "      <th>2022-06-14</th>\n",
       "      <td>0.023887</td>\n",
       "      <td>-0.003774</td>\n",
       "    </tr>\n",
       "    <tr>\n",
       "      <th>2022-06-15</th>\n",
       "      <td>0.054824</td>\n",
       "      <td>0.014593</td>\n",
       "    </tr>\n",
       "    <tr>\n",
       "      <th>2022-06-16</th>\n",
       "      <td>-0.085408</td>\n",
       "      <td>-0.032512</td>\n",
       "    </tr>\n",
       "    <tr>\n",
       "      <th>2022-06-17</th>\n",
       "      <td>0.017175</td>\n",
       "      <td>0.002201</td>\n",
       "    </tr>\n",
       "  </tbody>\n",
       "</table>\n",
       "</div>"
      ],
      "text/plain": [
       "Ticker          TSLA     ^GSPC\n",
       "Date                          \n",
       "2022-06-13 -0.071022 -0.038768\n",
       "2022-06-14  0.023887 -0.003774\n",
       "2022-06-15  0.054824  0.014593\n",
       "2022-06-16 -0.085408 -0.032512\n",
       "2022-06-17  0.017175  0.002201"
      ]
     },
     "execution_count": 8,
     "metadata": {},
     "output_type": "execute_result"
    }
   ],
   "source": [
    "rets = prices.pct_change().dropna()\n",
    "rets.head()"
   ]
  },
  {
   "cell_type": "markdown",
   "id": "6a39d1a5",
   "metadata": {},
   "source": [
    "#####  Rendimiento del mercado"
   ]
  },
  {
   "cell_type": "code",
   "execution_count": 17,
   "id": "5a34cd51",
   "metadata": {},
   "outputs": [
    {
     "data": {
      "text/plain": [
       "Ticker\n",
       "^GSPC    0.160535\n",
       "dtype: float64"
      ]
     },
     "execution_count": 17,
     "metadata": {},
     "output_type": "execute_result"
    }
   ],
   "source": [
    "r_market = rets[['^GSPC']].mean()*252 # Está anualizada \n",
    "r_market"
   ]
  },
  {
   "cell_type": "markdown",
   "id": "3ad2372b",
   "metadata": {},
   "source": [
    "##### Rendimiento esperado CAM "
   ]
  },
  {
   "cell_type": "markdown",
   "id": "1bf5bbb5",
   "metadata": {},
   "source": [
    "$$E[R] = r_f + \\beta (r_m-r_f)$$"
   ]
  },
  {
   "cell_type": "markdown",
   "id": "c589d3bb",
   "metadata": {},
   "source": [
    "#### Beta"
   ]
  },
  {
   "cell_type": "markdown",
   "id": "4aca17df",
   "metadata": {},
   "source": [
    "$$\\beta = \\frac{cov(activo,mercado)}{var (mercado)}$$"
   ]
  },
  {
   "cell_type": "markdown",
   "id": "7b7d37e8",
   "metadata": {},
   "source": [
    "##### Covarianza "
   ]
  },
  {
   "cell_type": "code",
   "execution_count": 22,
   "id": "aa22f7c1",
   "metadata": {},
   "outputs": [
    {
     "data": {
      "text/plain": [
       "2.067005795968691"
      ]
     },
     "execution_count": 22,
     "metadata": {},
     "output_type": "execute_result"
    }
   ],
   "source": [
    "cov_matriz = rets.cov()\n",
    "beta = cov_matriz.iloc[0,1]/cov_matriz.iloc[1,1]\n",
    "beta"
   ]
  },
  {
   "cell_type": "markdown",
   "id": "84f20aa5",
   "metadata": {},
   "source": [
    "##### Rendimiento Esperado CAPM"
   ]
  },
  {
   "cell_type": "code",
   "execution_count": 24,
   "id": "53c15b35",
   "metadata": {},
   "outputs": [
    {
     "data": {
      "text/plain": [
       "Ticker\n",
       "^GSPC    28.893384\n",
       "dtype: float64"
      ]
     },
     "execution_count": 24,
     "metadata": {},
     "output_type": "execute_result"
    }
   ],
   "source": [
    "E_r_CAPM = rf + beta * (r_market - rf)\n",
    "E_r_CAPM*100"
   ]
  },
  {
   "cell_type": "markdown",
   "id": "6afb6ca2",
   "metadata": {},
   "source": [
    "##### Rendimiento Real del activo "
   ]
  },
  {
   "cell_type": "code",
   "execution_count": 25,
   "id": "b42f9340",
   "metadata": {},
   "outputs": [
    {
     "data": {
      "text/plain": [
       "27.71546355626188"
      ]
     },
     "execution_count": 25,
     "metadata": {},
     "output_type": "execute_result"
    }
   ],
   "source": [
    "real_ret = rets['TSLA'].mean() * 252\n",
    "real_ret * 100"
   ]
  },
  {
   "cell_type": "code",
   "execution_count": 30,
   "id": "ba74efc3",
   "metadata": {},
   "outputs": [
    {
     "data": {
      "text/plain": [
       "Ticker\n",
       "^GSPC    0.011779\n",
       "dtype: float64"
      ]
     },
     "execution_count": 30,
     "metadata": {},
     "output_type": "execute_result"
    }
   ],
   "source": [
    "E_r_CAPM-real_ret"
   ]
  },
  {
   "cell_type": "code",
   "execution_count": 59,
   "id": "c71e5c26",
   "metadata": {},
   "outputs": [
    {
     "ename": "ValueError",
     "evalue": "operands could not be broadcast together with shapes (20,) (18,) ",
     "output_type": "error",
     "traceback": [
      "\u001b[1;31m---------------------------------------------------------------------------\u001b[0m",
      "\u001b[1;31mValueError\u001b[0m                                Traceback (most recent call last)",
      "Cell \u001b[1;32mIn[59], line 4\u001b[0m\n\u001b[0;32m      1\u001b[0m x_temp \u001b[38;5;241m=\u001b[39m np\u001b[38;5;241m.\u001b[39marange(\u001b[38;5;241m0\u001b[39m,\u001b[38;5;241m2\u001b[39m,\u001b[38;5;241m0.1\u001b[39m)\n\u001b[0;32m      2\u001b[0m y_temp \u001b[38;5;241m=\u001b[39m np\u001b[38;5;241m.\u001b[39marange(rf,\u001b[38;5;241m0.4\u001b[39m,\u001b[38;5;241m0.02\u001b[39m)\n\u001b[1;32m----> 4\u001b[0m CAPM \u001b[38;5;241m=\u001b[39m rf\u001b[38;5;241m+\u001b[39m \u001b[43mx_temp\u001b[49m\u001b[43m \u001b[49m\u001b[38;5;241;43m*\u001b[39;49m\u001b[43m \u001b[49m\u001b[43m(\u001b[49m\u001b[43my_temp\u001b[49m\u001b[43m \u001b[49m\u001b[38;5;241;43m-\u001b[39;49m\u001b[43m \u001b[49m\u001b[43mrf\u001b[49m\u001b[43m)\u001b[49m\n\u001b[0;32m      5\u001b[0m CAPM\n",
      "\u001b[1;31mValueError\u001b[0m: operands could not be broadcast together with shapes (20,) (18,) "
     ]
    }
   ],
   "source": [
    "x_temp = np.arange(0,2,0.1)\n",
    "y_temp = np.arange(rf,0.4,0.02)\n",
    "\n",
    "CAPM = rf+ x_temp * (y_temp - rf)\n",
    "CAPM"
   ]
  },
  {
   "cell_type": "code",
   "execution_count": 57,
   "id": "b94b1a50",
   "metadata": {},
   "outputs": [
    {
     "data": {
      "text/plain": [
       "<matplotlib.collections.PathCollection at 0x19b60c9a240>"
      ]
     },
     "execution_count": 57,
     "metadata": {},
     "output_type": "execute_result"
    },
    {
     "data": {
      "image/png": "[encoded data removed]",
      "text/plain": [
       "<Figure size 1000x600 with 1 Axes>"
      ]
     },
     "metadata": {},
     "output_type": "display_data"
    }
   ],
   "source": [
    "plt.figure(figsize=(10, 6))\n",
    "plt.plot(x_temp, CAPM, label='CAPM', color='blue')\n",
    "plt.scatter(beta, real_ret, color='red', label='Retorno Real de TSLA')"
   ]
  },
  {
   "cell_type": "markdown",
   "id": "d9735ce0",
   "metadata": {},
   "source": [
    "El rendimiento esperado del CAPM está sobrevalorado , ya que el rendimiento esperado CAPM es mayor que el real del activo , ya que que está con un 1.17% más del activo real."
   ]
  },
  {
   "cell_type": "markdown",
   "id": "d7cdb35b",
   "metadata": {},
   "source": [
    "---"
   ]
  },
  {
   "cell_type": "markdown",
   "id": "4ec0f827",
   "metadata": {},
   "source": [
    "### Televisa "
   ]
  },
  {
   "cell_type": "code",
   "execution_count": 32,
   "id": "4c805bbc",
   "metadata": {},
   "outputs": [
    {
     "name": "stderr",
     "output_type": "stream",
     "text": [
      "[*********************100%***********************]  2 of 2 completed\n"
     ]
    },
    {
     "data": {
      "text/html": [
       "<div>\n",
       "<style scoped>\n",
       "    .dataframe tbody tr th:only-of-type {\n",
       "        vertical-align: middle;\n",
       "    }\n",
       "\n",
       "    .dataframe tbody tr th {\n",
       "        vertical-align: top;\n",
       "    }\n",
       "\n",
       "    .dataframe thead th {\n",
       "        text-align: right;\n",
       "    }\n",
       "</style>\n",
       "<table border=\"1\" class=\"dataframe\">\n",
       "  <thead>\n",
       "    <tr style=\"text-align: right;\">\n",
       "      <th>Ticker</th>\n",
       "      <th>TLEVISACPO.MX</th>\n",
       "      <th>^MXX</th>\n",
       "    </tr>\n",
       "    <tr>\n",
       "      <th>Date</th>\n",
       "      <th></th>\n",
       "      <th></th>\n",
       "    </tr>\n",
       "  </thead>\n",
       "  <tbody>\n",
       "    <tr>\n",
       "      <th>2022-06-10</th>\n",
       "      <td>31.731487</td>\n",
       "      <td>48471.519531</td>\n",
       "    </tr>\n",
       "    <tr>\n",
       "      <th>2022-06-13</th>\n",
       "      <td>31.043444</td>\n",
       "      <td>48445.300781</td>\n",
       "    </tr>\n",
       "    <tr>\n",
       "      <th>2022-06-14</th>\n",
       "      <td>30.011379</td>\n",
       "      <td>48164.468750</td>\n",
       "    </tr>\n",
       "    <tr>\n",
       "      <th>2022-06-15</th>\n",
       "      <td>30.282974</td>\n",
       "      <td>48344.968750</td>\n",
       "    </tr>\n",
       "    <tr>\n",
       "      <th>2022-06-16</th>\n",
       "      <td>29.866531</td>\n",
       "      <td>47558.511719</td>\n",
       "    </tr>\n",
       "  </tbody>\n",
       "</table>\n",
       "</div>"
      ],
      "text/plain": [
       "Ticker      TLEVISACPO.MX          ^MXX\n",
       "Date                                   \n",
       "2022-06-10      31.731487  48471.519531\n",
       "2022-06-13      31.043444  48445.300781\n",
       "2022-06-14      30.011379  48164.468750\n",
       "2022-06-15      30.282974  48344.968750\n",
       "2022-06-16      29.866531  47558.511719"
      ]
     },
     "execution_count": 32,
     "metadata": {},
     "output_type": "execute_result"
    }
   ],
   "source": [
    "prices = yf.download(['TLEVISACPO.MX', '^MXX'], start = '2022-06-10', end = '2025-06-09')['Close']\n",
    "prices.head()"
   ]
  },
  {
   "cell_type": "markdown",
   "id": "abea6aa8",
   "metadata": {},
   "source": [
    "##### Tasa libre de Riesgo"
   ]
  },
  {
   "cell_type": "code",
   "execution_count": null,
   "id": "aae60dac",
   "metadata": {},
   "outputs": [],
   "source": [
    "# Tasa libre de Riesgo\n",
    "rf = 0.0402 # Está anualizada al 4.02%"
   ]
  },
  {
   "cell_type": "code",
   "execution_count": 35,
   "id": "93173685",
   "metadata": {},
   "outputs": [
    {
     "data": {
      "text/html": [
       "<div>\n",
       "<style scoped>\n",
       "    .dataframe tbody tr th:only-of-type {\n",
       "        vertical-align: middle;\n",
       "    }\n",
       "\n",
       "    .dataframe tbody tr th {\n",
       "        vertical-align: top;\n",
       "    }\n",
       "\n",
       "    .dataframe thead th {\n",
       "        text-align: right;\n",
       "    }\n",
       "</style>\n",
       "<table border=\"1\" class=\"dataframe\">\n",
       "  <thead>\n",
       "    <tr style=\"text-align: right;\">\n",
       "      <th>Ticker</th>\n",
       "      <th>TLEVISACPO.MX</th>\n",
       "      <th>^MXX</th>\n",
       "    </tr>\n",
       "    <tr>\n",
       "      <th>Date</th>\n",
       "      <th></th>\n",
       "      <th></th>\n",
       "    </tr>\n",
       "  </thead>\n",
       "  <tbody>\n",
       "    <tr>\n",
       "      <th>2022-06-13</th>\n",
       "      <td>-0.021683</td>\n",
       "      <td>-0.000541</td>\n",
       "    </tr>\n",
       "    <tr>\n",
       "      <th>2022-06-14</th>\n",
       "      <td>-0.033246</td>\n",
       "      <td>-0.005797</td>\n",
       "    </tr>\n",
       "    <tr>\n",
       "      <th>2022-06-15</th>\n",
       "      <td>0.009050</td>\n",
       "      <td>0.003748</td>\n",
       "    </tr>\n",
       "    <tr>\n",
       "      <th>2022-06-16</th>\n",
       "      <td>-0.013752</td>\n",
       "      <td>-0.016268</td>\n",
       "    </tr>\n",
       "    <tr>\n",
       "      <th>2022-06-17</th>\n",
       "      <td>0.045771</td>\n",
       "      <td>0.009624</td>\n",
       "    </tr>\n",
       "  </tbody>\n",
       "</table>\n",
       "</div>"
      ],
      "text/plain": [
       "Ticker      TLEVISACPO.MX      ^MXX\n",
       "Date                               \n",
       "2022-06-13      -0.021683 -0.000541\n",
       "2022-06-14      -0.033246 -0.005797\n",
       "2022-06-15       0.009050  0.003748\n",
       "2022-06-16      -0.013752 -0.016268\n",
       "2022-06-17       0.045771  0.009624"
      ]
     },
     "execution_count": 35,
     "metadata": {},
     "output_type": "execute_result"
    }
   ],
   "source": [
    "rets = prices.pct_change().dropna()\n",
    "rets.head()"
   ]
  },
  {
   "cell_type": "markdown",
   "id": "5891a924",
   "metadata": {},
   "source": [
    "#### Rendimiento del Mercado "
   ]
  },
  {
   "cell_type": "code",
   "execution_count": 38,
   "id": "5fe7f3c6",
   "metadata": {},
   "outputs": [
    {
     "data": {
      "text/plain": [
       "Ticker\n",
       "^MXX    7.281287\n",
       "dtype: float64"
      ]
     },
     "execution_count": 38,
     "metadata": {},
     "output_type": "execute_result"
    }
   ],
   "source": [
    "r_market = rets[['^MXX']].mean()*252 # Está anualizada\n",
    "r_market*100"
   ]
  },
  {
   "cell_type": "markdown",
   "id": "3e4a64d1",
   "metadata": {},
   "source": [
    "#### Covarianza "
   ]
  },
  {
   "cell_type": "code",
   "execution_count": 45,
   "id": "7bbe87d2",
   "metadata": {},
   "outputs": [
    {
     "data": {
      "text/html": [
       "<div>\n",
       "<style scoped>\n",
       "    .dataframe tbody tr th:only-of-type {\n",
       "        vertical-align: middle;\n",
       "    }\n",
       "\n",
       "    .dataframe tbody tr th {\n",
       "        vertical-align: top;\n",
       "    }\n",
       "\n",
       "    .dataframe thead th {\n",
       "        text-align: right;\n",
       "    }\n",
       "</style>\n",
       "<table border=\"1\" class=\"dataframe\">\n",
       "  <thead>\n",
       "    <tr style=\"text-align: right;\">\n",
       "      <th>Ticker</th>\n",
       "      <th>TLEVISACPO.MX</th>\n",
       "      <th>^MXX</th>\n",
       "    </tr>\n",
       "    <tr>\n",
       "      <th>Ticker</th>\n",
       "      <th></th>\n",
       "      <th></th>\n",
       "    </tr>\n",
       "  </thead>\n",
       "  <tbody>\n",
       "    <tr>\n",
       "      <th>TLEVISACPO.MX</th>\n",
       "      <td>0.000805</td>\n",
       "      <td>0.000122</td>\n",
       "    </tr>\n",
       "    <tr>\n",
       "      <th>^MXX</th>\n",
       "      <td>0.000122</td>\n",
       "      <td>0.000096</td>\n",
       "    </tr>\n",
       "  </tbody>\n",
       "</table>\n",
       "</div>"
      ],
      "text/plain": [
       "Ticker         TLEVISACPO.MX      ^MXX\n",
       "Ticker                                \n",
       "TLEVISACPO.MX       0.000805  0.000122\n",
       "^MXX                0.000122  0.000096"
      ]
     },
     "execution_count": 45,
     "metadata": {},
     "output_type": "execute_result"
    }
   ],
   "source": [
    "cov = rets.cov()\n",
    "cov"
   ]
  },
  {
   "cell_type": "markdown",
   "id": "1fc230ea",
   "metadata": {},
   "source": [
    "#### beta"
   ]
  },
  {
   "cell_type": "code",
   "execution_count": 46,
   "id": "167dc00e",
   "metadata": {},
   "outputs": [
    {
     "data": {
      "text/plain": [
       "1.269368056655102"
      ]
     },
     "execution_count": 46,
     "metadata": {},
     "output_type": "execute_result"
    }
   ],
   "source": [
    "beta = cov.iloc[0,1]/cov.iloc[1,1]\n",
    "beta"
   ]
  },
  {
   "cell_type": "markdown",
   "id": "61f596a1",
   "metadata": {},
   "source": [
    "##### Rendimiento Esperado CAPM"
   ]
  },
  {
   "cell_type": "code",
   "execution_count": 41,
   "id": "8a18636b",
   "metadata": {},
   "outputs": [
    {
     "data": {
      "text/plain": [
       "Ticker\n",
       "^MXX    8.159774\n",
       "dtype: float64"
      ]
     },
     "execution_count": 41,
     "metadata": {},
     "output_type": "execute_result"
    }
   ],
   "source": [
    "E_CAPM = rf +beta * (r_market - rf)\n",
    "E_CAPM*100"
   ]
  },
  {
   "cell_type": "markdown",
   "id": "e1dab2f5",
   "metadata": {},
   "source": [
    "##### Rendimiento Real del activo "
   ]
  },
  {
   "cell_type": "code",
   "execution_count": 42,
   "id": "b4324470",
   "metadata": {},
   "outputs": [
    {
     "data": {
      "text/plain": [
       "-37.37302091298013"
      ]
     },
     "execution_count": 42,
     "metadata": {},
     "output_type": "execute_result"
    }
   ],
   "source": [
    "real_ret = rets['TLEVISACPO.MX'].mean() * 252\n",
    "real_ret * 100"
   ]
  },
  {
   "cell_type": "code",
   "execution_count": 43,
   "id": "21eac4cb",
   "metadata": {},
   "outputs": [
    {
     "data": {
      "text/plain": [
       "Ticker\n",
       "^GSPC    0.662664\n",
       "dtype: float64"
      ]
     },
     "execution_count": 43,
     "metadata": {},
     "output_type": "execute_result"
    }
   ],
   "source": [
    "E_r_CAPM-real_ret"
   ]
  },
  {
   "cell_type": "code",
   "execution_count": null,
   "id": "9dee41fd",
   "metadata": {},
   "outputs": [],
   "source": []
  }
 ],
 "metadata": {
  "kernelspec": {
   "display_name": "Python 3",
   "language": "python",
   "name": "python3"
  },
  "language_info": {
   "codemirror_mode": {
    "name": "ipython",
    "version": 3
   },
   "file_extension": ".py",
   "mimetype": "text/x-python",
   "name": "python",
   "nbconvert_exporter": "python",
   "pygments_lexer": "ipython3",
   "version": "3.12.8"
  }
 },
 "nbformat": 4,
 "nbformat_minor": 5
}
