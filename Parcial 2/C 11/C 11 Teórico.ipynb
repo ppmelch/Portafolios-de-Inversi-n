{
 "cells": [
  {
   "cell_type": "markdown",
   "id": "5a2879f7",
   "metadata": {},
   "source": [
    "# Portafolios de Inversión\n",
    "## Teoría Pos-Moderna de Portafolios\n",
    "José Armando Melchor Soto"
   ]
  },
  {
   "cell_type": "markdown",
   "id": "4a6c779e",
   "metadata": {},
   "source": [
    "---"
   ]
  },
  {
   "cell_type": "markdown",
   "id": "00a1e66b",
   "metadata": {},
   "source": [
    "#### Riesgo "
   ]
  },
  {
   "cell_type": "markdown",
   "id": "5a2e6c0a",
   "metadata": {},
   "source": []
  },
  {
   "cell_type": "markdown",
   "id": "9869779b",
   "metadata": {},
   "source": [
    "---"
   ]
  },
  {
   "cell_type": "markdown",
   "id": "f3a2a4d0",
   "metadata": {},
   "source": [
    "###"
   ]
  }
 ],
 "metadata": {
  "language_info": {
   "name": "python"
  }
 },
 "nbformat": 4,
 "nbformat_minor": 5
}
