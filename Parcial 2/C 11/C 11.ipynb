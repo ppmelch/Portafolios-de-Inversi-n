{
 "cells": [
  {
   "cell_type": "markdown",
   "id": "10df4248",
   "metadata": {},
   "source": [
    "<img style=\"float: left; margin: 30px 15px 15px 15px;\" src=\"https://oci02.img.iteso.mx/Identidades-De-Instancia/ITESO/Logos%20ITESO/Logo-ITESO-Principal.jpg\" width=\"400\" height=\"600\" /> \n",
    "    \n",
    "    \n",
    "##  Teoría Pos-Moderna de Portafolios: Práctica\n",
    "    \n",
    "### Portafolios de Inversión\n",
    "\n",
    "    Mtro. Sean Nicolás González Vázquez"
   ]
  },
  {
   "cell_type": "markdown",
   "id": "cc87fbd4",
   "metadata": {},
   "source": [
    "---\n",
    "\n",
    "###  0.- Introducción\n",
    "    \n",
    "En la sesión anterior, exploramos varios métodos de la **Teoría Posmoderna de Portafolios (TPMP)**, que se enfoca en la optimización de portafolios separando claramente el riesgo en dos componentes: el downside y el upside risk. \n",
    "    \n",
    "A grandes rasgos, esta teoría amplía la clásica Teoría Moderna de Portafolios, al poner énfasis en los riesgos que afectan negativamente las inversiones, y aquellos que representan oportunidades de ganancia.\n",
    "\n",
    "La principal contribución de este enfoque radica en su capacidad para descomponer el riesgo en dos categorías clave:\n",
    "\n",
    "+ **Downside risk**: Riesgo de incurrir en pérdidas, es decir, cuando los rendimientos caen por debajo de un umbral establecido, como podría ser un benchmark o simplemente rendimientos negativos.   \n",
    "    \n",
    "    \n",
    "+ **Upside risk**: Riesgo (potencial) de obtener ganancias.   \n",
    "    \n",
    "    \n",
    "+ Mientras que el downside implica posibles pérdidas para el portafolio, el upside representa las oportunidades de obtener rendimientos positivos.\n",
    "\n",
    "Dentro de esta estructura, profundizamos en **dos métodos de Asset Allocation** basados en esta separación de riesgos: el método de la **Mínima Semivarianza** y el método de **Máximo Omega**. \n",
    "    \n",
    "Ambos enfoques proporcionan alternativas interesantes a los modelos tradicionales propuestos por Markowitz y Sharpe.   \n",
    "    \n",
    "El primero, la Mínima Semivarianza, es una extensión del clásico método de Mínima Varianza, ya que se centra exclusivamente en minimizar el riesgo a la baja (downside risk), ignorando las fluctuaciones al alza. El segundo, el Máximo Omega, es una alternativa al Ratio de Sharpe, con la diferencia clave de que se enfoca en maximizar la relación entre las ganancias potenciales (upside) y las pérdidas posibles (downside), proporcionando una evaluación más matizada del rendimiento ajustado al riesgo.  "
   ]
  },
  {
   "cell_type": "markdown",
   "id": "25f7a356",
   "metadata": {},
   "source": [
    "> Con este contexto, implementaremos ambos métodos, utilizando optimización montecarlo."
   ]
  },
  {
   "cell_type": "markdown",
   "id": "4c2e36c1",
   "metadata": {},
   "source": [
    "---\n",
    "\n",
    "### 1.- Descarga de Datos y Obtención de Métricas"
   ]
  },
  {
   "cell_type": "markdown",
   "id": "1ab73647",
   "metadata": {},
   "source": [
    "En este ejercicio, vamos a construir un portafolio compuesto por siete activos financieros previamente seleccionados:\n",
    "\n",
    "+ PG: Procter & Gamble\n",
    "+ COST: Costco Wholesale\n",
    "+ KO: Coca-Cola\n",
    "+ WMT: Walmart\n",
    "+ CLX: Clorox\n",
    "+ K: Kellogg's\n",
    "+ KHC: Kraft Heinz\n",
    "\n",
    "Como puedes observar, todos estos activos pertenecen a compañías que producen bienes de consumo básico, tales como productos de limpieza, alimentos y bebidas, entre otros. \n",
    "\n",
    "\n",
    "Estos activos forman parte de un sector específico conocido como Consumer Staples. Este sector es considerado anticíclico por naturaleza. Por ello, se le clasifica como un sector defensivo, ideal para inversiónistas que buscan estabilidad y son aversos al riesgo.\n",
    "\n",
    "> **Consumer Staples:** Hace referencia a bienes de consumo necesarios para la vida diaria, como alimentos, bebidas, productos de higiene personal y del hogar. Estos productos suelen ser demandados de forma constante, independientemente del ciclo económico.  \n",
    "\n",
    "> **Sector Defensivo:** Se refiere a aquellos sectores de la economía cuyos activos tienden a ser menos volátiles y más resilientes en tiempos de crisis o desaceleraciones económicas. Las empresas en estos sectores producen bienes y servicios esenciales, lo que les permite mantener una demanda relativamente estable incluso en condiciones adversas del mercado.\n",
    "\n",
    "\n",
    "Como gestor del portafolio (portfolio manager), tu objetivo es encontrar las ponderaciones óptimas que minimicen la semivarianza del portafolio y maximicen el ratio de Omega."
   ]
  },
  {
   "cell_type": "code",
   "execution_count": 27,
   "id": "1ebc2d08",
   "metadata": {},
   "outputs": [],
   "source": [
    "# Importación de Librerías\n",
    "import numpy as np\n",
    "import pandas as pd\n",
    "import yfinance as yf"
   ]
  },
  {
   "cell_type": "code",
   "execution_count": 28,
   "id": "78ccda6d",
   "metadata": {},
   "outputs": [
    {
     "name": "stderr",
     "output_type": "stream",
     "text": [
      "[*********************100%***********************]  7 of 7 completed\n"
     ]
    }
   ],
   "source": [
    "# Descarga de Datos\n",
    "prices=yf.download(['PG', 'COST', 'KO', 'WMT', 'CLX', 'K', 'KHC'], \n",
    "                    start='2020-01-01', end='2025-06-17')['Close']"
   ]
  },
  {
   "cell_type": "code",
   "execution_count": 29,
   "id": "9d3bf38a",
   "metadata": {},
   "outputs": [],
   "source": [
    "# Calculo de rendimientos\n",
    "rets = prices.pct_change().dropna()"
   ]
  },
  {
   "cell_type": "code",
   "execution_count": 30,
   "id": "25ee16ba",
   "metadata": {},
   "outputs": [
    {
     "data": {
      "text/plain": [
       "Ticker\n",
       "CLX     0.000109\n",
       "COST    0.001070\n",
       "K       0.000412\n",
       "KHC     0.000182\n",
       "KO      0.000391\n",
       "PG      0.000380\n",
       "WMT     0.000798\n",
       "dtype: float64"
      ]
     },
     "execution_count": 30,
     "metadata": {},
     "output_type": "execute_result"
    }
   ],
   "source": [
    "# Calcular rendimiento promedio\n",
    "ret_mean = rets.mean()\n",
    "ret_mean"
   ]
  },
  {
   "cell_type": "code",
   "execution_count": 31,
   "id": "16ea3746",
   "metadata": {},
   "outputs": [
    {
     "data": {
      "text/html": [
       "<div>\n",
       "<style scoped>\n",
       "    .dataframe tbody tr th:only-of-type {\n",
       "        vertical-align: middle;\n",
       "    }\n",
       "\n",
       "    .dataframe tbody tr th {\n",
       "        vertical-align: top;\n",
       "    }\n",
       "\n",
       "    .dataframe thead th {\n",
       "        text-align: right;\n",
       "    }\n",
       "</style>\n",
       "<table border=\"1\" class=\"dataframe\">\n",
       "  <thead>\n",
       "    <tr style=\"text-align: right;\">\n",
       "      <th>Ticker</th>\n",
       "      <th>CLX</th>\n",
       "      <th>COST</th>\n",
       "      <th>K</th>\n",
       "      <th>KHC</th>\n",
       "      <th>KO</th>\n",
       "      <th>PG</th>\n",
       "      <th>WMT</th>\n",
       "    </tr>\n",
       "    <tr>\n",
       "      <th>Ticker</th>\n",
       "      <th></th>\n",
       "      <th></th>\n",
       "      <th></th>\n",
       "      <th></th>\n",
       "      <th></th>\n",
       "      <th></th>\n",
       "      <th></th>\n",
       "    </tr>\n",
       "  </thead>\n",
       "  <tbody>\n",
       "    <tr>\n",
       "      <th>CLX</th>\n",
       "      <td>1.000000</td>\n",
       "      <td>0.336275</td>\n",
       "      <td>0.411293</td>\n",
       "      <td>0.368383</td>\n",
       "      <td>0.326680</td>\n",
       "      <td>0.504207</td>\n",
       "      <td>0.324792</td>\n",
       "    </tr>\n",
       "    <tr>\n",
       "      <th>COST</th>\n",
       "      <td>0.336275</td>\n",
       "      <td>1.000000</td>\n",
       "      <td>0.248196</td>\n",
       "      <td>0.338685</td>\n",
       "      <td>0.439561</td>\n",
       "      <td>0.502138</td>\n",
       "      <td>0.620015</td>\n",
       "    </tr>\n",
       "    <tr>\n",
       "      <th>K</th>\n",
       "      <td>0.411293</td>\n",
       "      <td>0.248196</td>\n",
       "      <td>1.000000</td>\n",
       "      <td>0.533076</td>\n",
       "      <td>0.450513</td>\n",
       "      <td>0.520562</td>\n",
       "      <td>0.317309</td>\n",
       "    </tr>\n",
       "    <tr>\n",
       "      <th>KHC</th>\n",
       "      <td>0.368383</td>\n",
       "      <td>0.338685</td>\n",
       "      <td>0.533076</td>\n",
       "      <td>1.000000</td>\n",
       "      <td>0.575052</td>\n",
       "      <td>0.557508</td>\n",
       "      <td>0.359823</td>\n",
       "    </tr>\n",
       "    <tr>\n",
       "      <th>KO</th>\n",
       "      <td>0.326680</td>\n",
       "      <td>0.439561</td>\n",
       "      <td>0.450513</td>\n",
       "      <td>0.575052</td>\n",
       "      <td>1.000000</td>\n",
       "      <td>0.655225</td>\n",
       "      <td>0.389985</td>\n",
       "    </tr>\n",
       "    <tr>\n",
       "      <th>PG</th>\n",
       "      <td>0.504207</td>\n",
       "      <td>0.502138</td>\n",
       "      <td>0.520562</td>\n",
       "      <td>0.557508</td>\n",
       "      <td>0.655225</td>\n",
       "      <td>1.000000</td>\n",
       "      <td>0.495011</td>\n",
       "    </tr>\n",
       "    <tr>\n",
       "      <th>WMT</th>\n",
       "      <td>0.324792</td>\n",
       "      <td>0.620015</td>\n",
       "      <td>0.317309</td>\n",
       "      <td>0.359823</td>\n",
       "      <td>0.389985</td>\n",
       "      <td>0.495011</td>\n",
       "      <td>1.000000</td>\n",
       "    </tr>\n",
       "  </tbody>\n",
       "</table>\n",
       "</div>"
      ],
      "text/plain": [
       "Ticker       CLX      COST         K       KHC        KO        PG       WMT\n",
       "Ticker                                                                      \n",
       "CLX     1.000000  0.336275  0.411293  0.368383  0.326680  0.504207  0.324792\n",
       "COST    0.336275  1.000000  0.248196  0.338685  0.439561  0.502138  0.620015\n",
       "K       0.411293  0.248196  1.000000  0.533076  0.450513  0.520562  0.317309\n",
       "KHC     0.368383  0.338685  0.533076  1.000000  0.575052  0.557508  0.359823\n",
       "KO      0.326680  0.439561  0.450513  0.575052  1.000000  0.655225  0.389985\n",
       "PG      0.504207  0.502138  0.520562  0.557508  0.655225  1.000000  0.495011\n",
       "WMT     0.324792  0.620015  0.317309  0.359823  0.389985  0.495011  1.000000"
      ]
     },
     "execution_count": 31,
     "metadata": {},
     "output_type": "execute_result"
    }
   ],
   "source": [
    "# Calcular matriz de correlación\n",
    "corr = rets.corr()\n",
    "corr"
   ]
  },
  {
   "cell_type": "markdown",
   "id": "566dcd3b",
   "metadata": {},
   "source": [
    "---\n",
    "\n",
    "### 2.- Portafolio Eficiente en Mínima Semivarianza  \n",
    "    \n",
    "  \n",
    "###   **Mínima Semivarianza**\n",
    "\n",
    "Método de la optimización de portafolios que busca minimizar el potencial riesgo de pérdida (*downside risk*) de un portafolio de inversión. ´"
   ]
  },
  {
   "cell_type": "markdown",
   "id": "304405ad",
   "metadata": {},
   "source": [
    "\n",
    "**Separar los rendimientos por debajo de 0 (pérdidas), las ganancias convertirlas en cero.**\n",
    "\n",
    "$$R_{below, i} = min(r_i, 0)$$\n"
   ]
  },
  {
   "cell_type": "code",
   "execution_count": 32,
   "id": "0be31e66",
   "metadata": {},
   "outputs": [
    {
     "data": {
      "text/html": [
       "<div>\n",
       "<style scoped>\n",
       "    .dataframe tbody tr th:only-of-type {\n",
       "        vertical-align: middle;\n",
       "    }\n",
       "\n",
       "    .dataframe tbody tr th {\n",
       "        vertical-align: top;\n",
       "    }\n",
       "\n",
       "    .dataframe thead th {\n",
       "        text-align: right;\n",
       "    }\n",
       "</style>\n",
       "<table border=\"1\" class=\"dataframe\">\n",
       "  <thead>\n",
       "    <tr style=\"text-align: right;\">\n",
       "      <th>Ticker</th>\n",
       "      <th>CLX</th>\n",
       "      <th>COST</th>\n",
       "      <th>K</th>\n",
       "      <th>KHC</th>\n",
       "      <th>KO</th>\n",
       "      <th>PG</th>\n",
       "      <th>WMT</th>\n",
       "    </tr>\n",
       "    <tr>\n",
       "      <th>Date</th>\n",
       "      <th></th>\n",
       "      <th></th>\n",
       "      <th></th>\n",
       "      <th></th>\n",
       "      <th></th>\n",
       "      <th></th>\n",
       "      <th></th>\n",
       "    </tr>\n",
       "  </thead>\n",
       "  <tbody>\n",
       "    <tr>\n",
       "      <th>2020-01-03</th>\n",
       "      <td>0.000000</td>\n",
       "      <td>0.000000</td>\n",
       "      <td>0.000000</td>\n",
       "      <td>-0.011705</td>\n",
       "      <td>-0.005456</td>\n",
       "      <td>-0.006726</td>\n",
       "      <td>-0.008828</td>\n",
       "    </tr>\n",
       "    <tr>\n",
       "      <th>2020-01-06</th>\n",
       "      <td>0.000000</td>\n",
       "      <td>0.000000</td>\n",
       "      <td>-0.000882</td>\n",
       "      <td>0.000000</td>\n",
       "      <td>-0.000366</td>\n",
       "      <td>0.000000</td>\n",
       "      <td>-0.002036</td>\n",
       "    </tr>\n",
       "    <tr>\n",
       "      <th>2020-01-07</th>\n",
       "      <td>-0.012062</td>\n",
       "      <td>-0.001576</td>\n",
       "      <td>0.000000</td>\n",
       "      <td>-0.017566</td>\n",
       "      <td>-0.007683</td>\n",
       "      <td>-0.006192</td>\n",
       "      <td>-0.009264</td>\n",
       "    </tr>\n",
       "    <tr>\n",
       "      <th>2020-01-08</th>\n",
       "      <td>0.000000</td>\n",
       "      <td>0.000000</td>\n",
       "      <td>0.000000</td>\n",
       "      <td>-0.005527</td>\n",
       "      <td>0.000000</td>\n",
       "      <td>0.000000</td>\n",
       "      <td>-0.003432</td>\n",
       "    </tr>\n",
       "    <tr>\n",
       "      <th>2020-01-09</th>\n",
       "      <td>0.000000</td>\n",
       "      <td>0.000000</td>\n",
       "      <td>0.000000</td>\n",
       "      <td>-0.000327</td>\n",
       "      <td>0.000000</td>\n",
       "      <td>0.000000</td>\n",
       "      <td>0.000000</td>\n",
       "    </tr>\n",
       "    <tr>\n",
       "      <th>...</th>\n",
       "      <td>...</td>\n",
       "      <td>...</td>\n",
       "      <td>...</td>\n",
       "      <td>...</td>\n",
       "      <td>...</td>\n",
       "      <td>...</td>\n",
       "      <td>...</td>\n",
       "    </tr>\n",
       "    <tr>\n",
       "      <th>2025-06-10</th>\n",
       "      <td>-0.004784</td>\n",
       "      <td>0.000000</td>\n",
       "      <td>-0.006830</td>\n",
       "      <td>0.000000</td>\n",
       "      <td>0.000000</td>\n",
       "      <td>0.000000</td>\n",
       "      <td>-0.001334</td>\n",
       "    </tr>\n",
       "    <tr>\n",
       "      <th>2025-06-11</th>\n",
       "      <td>-0.004965</td>\n",
       "      <td>-0.010414</td>\n",
       "      <td>0.000000</td>\n",
       "      <td>-0.006393</td>\n",
       "      <td>-0.003870</td>\n",
       "      <td>-0.004483</td>\n",
       "      <td>-0.015619</td>\n",
       "    </tr>\n",
       "    <tr>\n",
       "      <th>2025-06-12</th>\n",
       "      <td>0.000000</td>\n",
       "      <td>0.000000</td>\n",
       "      <td>-0.017032</td>\n",
       "      <td>0.000000</td>\n",
       "      <td>0.000000</td>\n",
       "      <td>0.000000</td>\n",
       "      <td>-0.010125</td>\n",
       "    </tr>\n",
       "    <tr>\n",
       "      <th>2025-06-13</th>\n",
       "      <td>-0.033077</td>\n",
       "      <td>-0.012466</td>\n",
       "      <td>-0.004238</td>\n",
       "      <td>-0.014361</td>\n",
       "      <td>-0.009898</td>\n",
       "      <td>-0.017772</td>\n",
       "      <td>-0.004113</td>\n",
       "    </tr>\n",
       "    <tr>\n",
       "      <th>2025-06-16</th>\n",
       "      <td>0.000000</td>\n",
       "      <td>-0.005908</td>\n",
       "      <td>0.000000</td>\n",
       "      <td>-0.011120</td>\n",
       "      <td>-0.007040</td>\n",
       "      <td>0.000000</td>\n",
       "      <td>-0.001588</td>\n",
       "    </tr>\n",
       "  </tbody>\n",
       "</table>\n",
       "<p>1370 rows × 7 columns</p>\n",
       "</div>"
      ],
      "text/plain": [
       "Ticker           CLX      COST         K       KHC        KO        PG  \\\n",
       "Date                                                                     \n",
       "2020-01-03  0.000000  0.000000  0.000000 -0.011705 -0.005456 -0.006726   \n",
       "2020-01-06  0.000000  0.000000 -0.000882  0.000000 -0.000366  0.000000   \n",
       "2020-01-07 -0.012062 -0.001576  0.000000 -0.017566 -0.007683 -0.006192   \n",
       "2020-01-08  0.000000  0.000000  0.000000 -0.005527  0.000000  0.000000   \n",
       "2020-01-09  0.000000  0.000000  0.000000 -0.000327  0.000000  0.000000   \n",
       "...              ...       ...       ...       ...       ...       ...   \n",
       "2025-06-10 -0.004784  0.000000 -0.006830  0.000000  0.000000  0.000000   \n",
       "2025-06-11 -0.004965 -0.010414  0.000000 -0.006393 -0.003870 -0.004483   \n",
       "2025-06-12  0.000000  0.000000 -0.017032  0.000000  0.000000  0.000000   \n",
       "2025-06-13 -0.033077 -0.012466 -0.004238 -0.014361 -0.009898 -0.017772   \n",
       "2025-06-16  0.000000 -0.005908  0.000000 -0.011120 -0.007040  0.000000   \n",
       "\n",
       "Ticker           WMT  \n",
       "Date                  \n",
       "2020-01-03 -0.008828  \n",
       "2020-01-06 -0.002036  \n",
       "2020-01-07 -0.009264  \n",
       "2020-01-08 -0.003432  \n",
       "2020-01-09  0.000000  \n",
       "...              ...  \n",
       "2025-06-10 -0.001334  \n",
       "2025-06-11 -0.015619  \n",
       "2025-06-12 -0.010125  \n",
       "2025-06-13 -0.004113  \n",
       "2025-06-16 -0.001588  \n",
       "\n",
       "[1370 rows x 7 columns]"
      ]
     },
     "execution_count": 32,
     "metadata": {},
     "output_type": "execute_result"
    }
   ],
   "source": [
    "R_below_zero = rets[rets < 0].fillna(0)\n",
    "R_below_zero"
   ]
  },
  {
   "cell_type": "markdown",
   "id": "640d6368",
   "metadata": {},
   "source": [
    "**Calcular downside risk para cada activo.**\n",
    "\n",
    "$$\\sigma_{d, i} = \\sigma(R_{below, i})$$"
   ]
  },
  {
   "cell_type": "code",
   "execution_count": 33,
   "id": "4e455155",
   "metadata": {},
   "outputs": [
    {
     "data": {
      "text/plain": [
       "Ticker\n",
       "CLX     0.010789\n",
       "COST    0.009327\n",
       "K       0.008579\n",
       "KHC     0.010611\n",
       "KO      0.008446\n",
       "PG      0.008361\n",
       "WMT     0.008898\n",
       "dtype: float64"
      ]
     },
     "execution_count": 33,
     "metadata": {},
     "output_type": "execute_result"
    }
   ],
   "source": [
    "downside_risk = R_below_zero.std()\n",
    "downside_risk"
   ]
  },
  {
   "cell_type": "markdown",
   "id": "f439974d",
   "metadata": {},
   "source": [
    "**Calcular matriz de Semivarianza.**\n",
    "\n",
    "Antes de encontrar la matriz de semivarianza, simplifiquemos el cálculo......\n",
    "\n",
    "Recordando, la varianza de dos activos financieros si tenemos la correlación entre ambos y sus desviaciones estandár individuales esta dada por $\\sigma^2_{i, j} = \\rho_{i, j} \\sigma_i \\sigma_j$. Para calcular la semi-varianza entre dos activos financieros utilizamos la misma fórmula, simplemente cambiando la desviación estandár por la semi-desviación (el *downside risk*), es decir, la semivarianza para dos activos financieros esta dada por $\\sigma^2_{d(i, j)} = \\rho_{i, j} \\sigma_{(d, i)} \\sigma_{(d, j)}$.\n",
    "\n",
    "Esto debe hacerse iterativamente hasta construir la matriz de semivarianza, como vimos en la clase pasada. \n",
    "\n",
    "Para simplificar el ejercicio, podemos tomar el vector de $nx1$ de los downside risk individuales:\n",
    "\n",
    "$$\\sigma_d = \\begin{bmatrix}\n",
    "\\sigma_{d, 1} \\\\\n",
    "\\sigma_{d, 2} \\\\\n",
    "\\vdots \\\\\n",
    "\\sigma_{d, n}\n",
    "\\end{bmatrix}$$\n",
    "\n",
    "Y multiplicarla matricialmente por su transpuesta:\n",
    "\n",
    "$$\\sigma_d \\sigma_d^T = \n",
    "\\begin{bmatrix}\n",
    "\\sigma_{d, 1} \\\\\n",
    "\\sigma_{d, 2} \\\\\n",
    "\\vdots \\\\\n",
    "\\sigma_{d, n}\n",
    "\\end{bmatrix}\n",
    "\\begin{bmatrix}\n",
    "\\sigma_{d, 1} & \\sigma_{d, 2} & \\cdots & \\sigma_{d, n}\n",
    "\\end{bmatrix}\n",
    "=\n",
    "\\begin{bmatrix}\n",
    "\\sigma_{d, 1}^2 & \\sigma_{d, 1} \\sigma_{d, 2} & \\cdots & \\sigma_{d, 1} \\sigma_{d, n} \\\\\n",
    "\\sigma_{d, 2} \\sigma_{d, 1} & \\sigma_{d, 2}^2 & \\cdots & \\sigma_{d, 2} \\sigma_{d, n} \\\\\n",
    "\\vdots & \\vdots & \\ddots & \\vdots \\\\\n",
    "\\sigma_{d, n} \\sigma_{d, 1} & \\sigma_{d, n} \\sigma_{d, 2} & \\cdots & \\sigma_{d, n}^2\n",
    "\\end{bmatrix}$$\n",
    "\n",
    "Notesé que esto equivale a multiplicar el elemento $i$ con el $j$ de la matriz de semivarianza, donde la diagonal son los downside al cuadrado (puedes utilizar la función de `np.multiply`). Finalmente realizamos el producto Hadamard de esta matriz con la matriz de correlación y con esto obtenemos la matriz de semivarianza.\n",
    "\n",
    "$$S = \\begin{bmatrix}\n",
    "1 & \\rho_{12} & \\cdots & \\rho_{1n} \\\\\n",
    "\\rho_{21} & 1 & \\cdots & \\rho_{2n} \\\\\n",
    "\\vdots & \\vdots & \\ddots & \\vdots \\\\\n",
    "\\rho_{n1} & \\rho_{n2} & \\cdots & 1\n",
    "\\end{bmatrix} \\circ \\begin{bmatrix}\n",
    "\\sigma_{d, 1}^2 & \\sigma_{d, 1} \\sigma_{d, 2} & \\cdots & \\sigma_{d, 1} \\sigma_{d, n} \\\\\n",
    "\\sigma_{d, 2} \\sigma_{d, 1} & \\sigma_{d, 2}^2 & \\cdots & \\sigma_{d, 2} \\sigma_{d, n} \\\\\n",
    "\\vdots & \\vdots & \\ddots & \\vdots \\\\\n",
    "\\sigma_{d, n} \\sigma_{d, 1} & \\sigma_{d, n} \\sigma_{d, 2} & \\cdots & \\sigma_{d, n}^2\n",
    "\\end{bmatrix}$$\n",
    "\n",
    "El producto [Hadamard](https://en.wikipedia.org/wiki/Hadamard_product_(matrices)#:~:text=In%20mathematics,%20the%20Hadamard%20product%20also%20known%20as%20the) es una multiplicación elemento a elemento de cada matriz según su posición específica (para realizarla en python, puedes utilizar simplimente `*`). Al realizar esta operación obtenemos la matriz de semivarianza para el portafolio:\n",
    "\n",
    "$$S=\n",
    "\\begin{bmatrix}\n",
    "\\sigma_{d, 1}^2 & \\rho_{12} \\sigma_{d, 1} \\sigma_{d, 2} & \\cdots & \\rho_{1n} \\sigma_{d, 1} \\sigma_{d, n} \\\\\n",
    "\\rho_{21} \\sigma_{d, 2} \\sigma_{d, 1} & \\sigma_{d, 2}^2 & \\cdots & \\rho_{2n} \\sigma_{d, 2} \\sigma_{d, n} \\\\\n",
    "\\vdots & \\vdots & \\ddots & \\vdots \\\\\n",
    "\\rho_{n1} \\sigma_{d, n} \\sigma_{d, 1} & \\rho_{n2} \\sigma_{d, n} \\sigma_{d, 2} & \\cdots & \\sigma_{d, n}^2\n",
    "\\end{bmatrix}$$\n"
   ]
  },
  {
   "cell_type": "markdown",
   "id": "7c5667da",
   "metadata": {},
   "source": [
    "**Calcular semivarianza del portafolio.**\n",
    "\n",
    "Con la matriz de semivarianza, podemos obtener la semivarianza de un portafolio de inversión con la fórmula:\n",
    "\n",
    "$$s = w^T S w$$"
   ]
  },
  {
   "cell_type": "markdown",
   "id": "d23d5c36",
   "metadata": {},
   "source": [
    "##### Convertir a Vector "
   ]
  },
  {
   "cell_type": "code",
   "execution_count": 34,
   "id": "e7f36db7",
   "metadata": {},
   "outputs": [
    {
     "data": {
      "text/plain": [
       "array([0.01078914, 0.00932664, 0.00857894, 0.01061099, 0.00844643,\n",
       "       0.00836121, 0.00889807])"
      ]
     },
     "execution_count": 34,
     "metadata": {},
     "output_type": "execute_result"
    }
   ],
   "source": [
    "downside_risk = np.array(downside_risk)\n",
    "downside_risk"
   ]
  },
  {
   "cell_type": "code",
   "execution_count": 35,
   "id": "c687e43b",
   "metadata": {},
   "outputs": [
    {
     "data": {
      "text/html": [
       "<div>\n",
       "<style scoped>\n",
       "    .dataframe tbody tr th:only-of-type {\n",
       "        vertical-align: middle;\n",
       "    }\n",
       "\n",
       "    .dataframe tbody tr th {\n",
       "        vertical-align: top;\n",
       "    }\n",
       "\n",
       "    .dataframe thead th {\n",
       "        text-align: right;\n",
       "    }\n",
       "</style>\n",
       "<table border=\"1\" class=\"dataframe\">\n",
       "  <thead>\n",
       "    <tr style=\"text-align: right;\">\n",
       "      <th>Ticker</th>\n",
       "      <th>CLX</th>\n",
       "      <th>COST</th>\n",
       "      <th>K</th>\n",
       "      <th>KHC</th>\n",
       "      <th>KO</th>\n",
       "      <th>PG</th>\n",
       "      <th>WMT</th>\n",
       "    </tr>\n",
       "    <tr>\n",
       "      <th>Ticker</th>\n",
       "      <th></th>\n",
       "      <th></th>\n",
       "      <th></th>\n",
       "      <th></th>\n",
       "      <th></th>\n",
       "      <th></th>\n",
       "      <th></th>\n",
       "    </tr>\n",
       "  </thead>\n",
       "  <tbody>\n",
       "    <tr>\n",
       "      <th>CLX</th>\n",
       "      <td>0.000116</td>\n",
       "      <td>0.000034</td>\n",
       "      <td>0.000038</td>\n",
       "      <td>0.000042</td>\n",
       "      <td>0.000030</td>\n",
       "      <td>0.000045</td>\n",
       "      <td>0.000031</td>\n",
       "    </tr>\n",
       "    <tr>\n",
       "      <th>COST</th>\n",
       "      <td>0.000034</td>\n",
       "      <td>0.000087</td>\n",
       "      <td>0.000020</td>\n",
       "      <td>0.000034</td>\n",
       "      <td>0.000035</td>\n",
       "      <td>0.000039</td>\n",
       "      <td>0.000051</td>\n",
       "    </tr>\n",
       "    <tr>\n",
       "      <th>K</th>\n",
       "      <td>0.000038</td>\n",
       "      <td>0.000020</td>\n",
       "      <td>0.000074</td>\n",
       "      <td>0.000049</td>\n",
       "      <td>0.000033</td>\n",
       "      <td>0.000037</td>\n",
       "      <td>0.000024</td>\n",
       "    </tr>\n",
       "    <tr>\n",
       "      <th>KHC</th>\n",
       "      <td>0.000042</td>\n",
       "      <td>0.000034</td>\n",
       "      <td>0.000049</td>\n",
       "      <td>0.000113</td>\n",
       "      <td>0.000052</td>\n",
       "      <td>0.000049</td>\n",
       "      <td>0.000034</td>\n",
       "    </tr>\n",
       "    <tr>\n",
       "      <th>KO</th>\n",
       "      <td>0.000030</td>\n",
       "      <td>0.000035</td>\n",
       "      <td>0.000033</td>\n",
       "      <td>0.000052</td>\n",
       "      <td>0.000071</td>\n",
       "      <td>0.000046</td>\n",
       "      <td>0.000029</td>\n",
       "    </tr>\n",
       "    <tr>\n",
       "      <th>PG</th>\n",
       "      <td>0.000045</td>\n",
       "      <td>0.000039</td>\n",
       "      <td>0.000037</td>\n",
       "      <td>0.000049</td>\n",
       "      <td>0.000046</td>\n",
       "      <td>0.000070</td>\n",
       "      <td>0.000037</td>\n",
       "    </tr>\n",
       "    <tr>\n",
       "      <th>WMT</th>\n",
       "      <td>0.000031</td>\n",
       "      <td>0.000051</td>\n",
       "      <td>0.000024</td>\n",
       "      <td>0.000034</td>\n",
       "      <td>0.000029</td>\n",
       "      <td>0.000037</td>\n",
       "      <td>0.000079</td>\n",
       "    </tr>\n",
       "  </tbody>\n",
       "</table>\n",
       "</div>"
      ],
      "text/plain": [
       "Ticker       CLX      COST         K       KHC        KO        PG       WMT\n",
       "Ticker                                                                      \n",
       "CLX     0.000116  0.000034  0.000038  0.000042  0.000030  0.000045  0.000031\n",
       "COST    0.000034  0.000087  0.000020  0.000034  0.000035  0.000039  0.000051\n",
       "K       0.000038  0.000020  0.000074  0.000049  0.000033  0.000037  0.000024\n",
       "KHC     0.000042  0.000034  0.000049  0.000113  0.000052  0.000049  0.000034\n",
       "KO      0.000030  0.000035  0.000033  0.000052  0.000071  0.000046  0.000029\n",
       "PG      0.000045  0.000039  0.000037  0.000049  0.000046  0.000070  0.000037\n",
       "WMT     0.000031  0.000051  0.000024  0.000034  0.000029  0.000037  0.000079"
      ]
     },
     "execution_count": 35,
     "metadata": {},
     "output_type": "execute_result"
    }
   ],
   "source": [
    "semivar_matrix = downside_risk.reshape(len(rets.keys()),1) @ downside_risk.reshape(1,len(rets.keys())) * corr\n",
    "semivar_matrix"
   ]
  },
  {
   "cell_type": "markdown",
   "id": "ca42d4be",
   "metadata": {},
   "source": [
    "**Minimizar semivarianza cambiando ponderaciones.**\n",
    "\n",
    "$$min_w \\hspace{0.5cm} \\sigma_d^2 = w^T S w$$\n",
    "    \n",
    "$$s.a. \\hspace{0.5cm} \\sum_{i=1}^n w_i = 1$$\n",
    " \n",
    "$$\\hspace{0.8cm} w_i > 0 $$\n",
    "\n"
   ]
  },
  {
   "cell_type": "code",
   "execution_count": 36,
   "id": "86c0a330",
   "metadata": {},
   "outputs": [],
   "source": [
    "# Simular portafolios con montecarlo\n",
    "n_assets = len(rets.keys())\n",
    "n_assets\n",
    "# Numero de simulaciones\n",
    "n_simulacions = 10000\n",
    "# Generar pesos \n",
    "w = np.random.dirichlet(np.ones(n_assets), n_simulacions)\n"
   ]
  },
  {
   "cell_type": "code",
   "execution_count": null,
   "id": "dd36f965",
   "metadata": {},
   "outputs": [],
   "source": [
    "# Obtener la mínima semivarianza\n",
    "semivar_list=[w.T @ semivar_matrix @ w for w in w ]\n",
    "semivar_list "
   ]
  },
  {
   "cell_type": "code",
   "execution_count": null,
   "id": "60bbab74",
   "metadata": {},
   "outputs": [
    {
     "data": {
      "text/plain": [
       "{'CLX': 0.08804569142452462,\n",
       " 'COST': 0.09686847973733798,\n",
       " 'K': 0.24778069384928658,\n",
       " 'KHC': 0.04488373011068758,\n",
       " 'KO': 0.24481320440089505,\n",
       " 'PG': 0.07796089665071898,\n",
       " 'WMT': 0.19964730382654927}"
      ]
     },
     "execution_count": 25,
     "metadata": {},
     "output_type": "execute_result"
    }
   ],
   "source": [
    "dict(zip(rets.keys(), w[np.argmin(semivar_list)]))"
   ]
  },
  {
   "cell_type": "markdown",
   "id": "c37554eb",
   "metadata": {},
   "source": [
    "---\n",
    "\n",
    "###  3.- Portafolio Eficiente en Máximo Omega\n",
    "    \n",
    "    \n",
    "Portafolio que maximiza el ratio omega de un portafolio de inversión, el ratio Omega mide la relación entre el upside risk (potencial de ganancias) y el downside risk (potencial de pérdidas) de un activo financiero."
   ]
  },
  {
   "cell_type": "markdown",
   "id": "26cf4f93",
   "metadata": {},
   "source": [
    "**Separar los rendimientos en dos, aquellos por debajo de cero y los que están por encima de cero.**\n",
    "\n",
    "$$R_{below, i} = min(r_i, 0)$$\n",
    "\n",
    "$$R_{beneath, i} = max(r_i, 0)$$"
   ]
  },
  {
   "cell_type": "code",
   "execution_count": null,
   "id": "b46609d9",
   "metadata": {},
   "outputs": [],
   "source": [
    "\n"
   ]
  },
  {
   "cell_type": "markdown",
   "id": "2e13b2b7",
   "metadata": {},
   "source": [
    "**Calcular downside y upside risk para cada activo.**\n",
    "\n",
    "$$\\sigma_{d, i} = \\sigma(R_{below, i})$$\n",
    "\n",
    "$$\\sigma_{u, i} = \\sigma(R_{beneath, i})$$"
   ]
  },
  {
   "cell_type": "code",
   "execution_count": null,
   "id": "e3e337d1",
   "metadata": {},
   "outputs": [],
   "source": [
    "\n"
   ]
  },
  {
   "cell_type": "markdown",
   "id": "89f50610",
   "metadata": {},
   "source": [
    "**Calcular Omega individual para cada activo.**\n",
    "\n",
    "$$\\Omega_i = \\frac{\\sigma_{u, i}}{\\sigma_{d, i}}$$\n"
   ]
  },
  {
   "cell_type": "code",
   "execution_count": null,
   "id": "ab0a5ddf",
   "metadata": {},
   "outputs": [],
   "source": [
    "\n",
    "\n"
   ]
  },
  {
   "cell_type": "markdown",
   "id": "746f934a",
   "metadata": {},
   "source": [
    "**Calcular Omega del portafolio y maximizarla cambiando ponderaciones.**\n",
    "\n",
    "$$max_w \\hspace{0.5cm} \\Omega_p = \\sum_{i=1}^{n} \\Omega_i * w_i$$\n",
    "    \n",
    "$$s.a. \\hspace{0.5cm} \\sum_{i=1}^n w_i = 1$$\n",
    " \n",
    "$$\\hspace{0.8cm} w_i > 0 $$"
   ]
  },
  {
   "cell_type": "code",
   "execution_count": null,
   "id": "32e9421d",
   "metadata": {},
   "outputs": [],
   "source": [
    "# Simular portafolios con montecarlo\n",
    "\n",
    "\n",
    "\n"
   ]
  },
  {
   "cell_type": "code",
   "execution_count": null,
   "id": "35406591",
   "metadata": {},
   "outputs": [],
   "source": [
    "# Obtener el maximo omega\n"
   ]
  },
  {
   "cell_type": "code",
   "execution_count": null,
   "id": "78d8bb4e",
   "metadata": {},
   "outputs": [],
   "source": [
    "# Obtener los pesos del portafolio con maximo omega\n",
    "\n",
    "\n"
   ]
  },
  {
   "cell_type": "markdown",
   "id": "15c64be2",
   "metadata": {},
   "source": [
    "---\n",
    "\n",
    "### 4.- Target Minimum Semivariance Portfolio\n",
    "    \n",
    "\n",
    "Ahora, supón que deseas optimizar las ponderaciones del portafolio considerando aquellos activos que tienen mayor probabilidad de superar a tu *benchmark*. Para ello, emplearás una estrategia basada en la *target semivariance*.\n",
    "\n",
    "En este caso, asume que tu *benchmark* es el ETF `KXI`, que sigue el sector de bienes de consumo global. \n",
    "    \n",
    "El objetivo es encontrar las ponderaciones óptimas que minimicen el riesgo de no superar el rendimiento de `KXI`. \n",
    "    \n",
    "    \n",
    "Recuerda que este enfoque ajustado al *benchmark* permite identificar aquellos activos que tienen un mejor desempeño relativo y, por lo tanto, una mayor probabilidad de generar *alpha*. Al minimizar la semivarianza relativa al *benchmark*, estarás optimizando el portafolio para que minimice el riesgo de rendimientos inferiores al de `KXI`.\n",
    "\n",
    "Recuerda que los pasos son reiterativos y siguen la misma estructura que el método de mínima semivarianza, solo que ahora restarás los rendimientos al rendimiento del *benchmark* a los de tus activos."
   ]
  },
  {
   "cell_type": "code",
   "execution_count": null,
   "id": "99f455a9",
   "metadata": {},
   "outputs": [],
   "source": [
    "# Descarga de Precios del Benchmark\n"
   ]
  },
  {
   "cell_type": "code",
   "execution_count": null,
   "id": "16e6fec5",
   "metadata": {},
   "outputs": [],
   "source": [
    "# Obtener rendimientos del benchmark\n",
    "\n",
    "\n"
   ]
  },
  {
   "cell_type": "code",
   "execution_count": null,
   "id": "722bafa8",
   "metadata": {},
   "outputs": [],
   "source": [
    "# Sustraer rendimiento del benchmark de rendimientos individuales\n",
    "\n",
    "\n"
   ]
  },
  {
   "cell_type": "code",
   "execution_count": null,
   "id": "415b806f",
   "metadata": {},
   "outputs": [],
   "source": [
    "# Separar los rendimientos por debajo de cero\n",
    "\n",
    "\n"
   ]
  },
  {
   "cell_type": "code",
   "execution_count": null,
   "id": "8999bc68",
   "metadata": {},
   "outputs": [],
   "source": [
    "# Calcular target downside risk\n",
    "\n",
    "\n"
   ]
  },
  {
   "cell_type": "code",
   "execution_count": null,
   "id": "9be71c73",
   "metadata": {},
   "outputs": [],
   "source": [
    "# Calcular la matriz de target semivariance\n",
    "\n",
    "\n"
   ]
  },
  {
   "cell_type": "code",
   "execution_count": null,
   "id": "34be77d6",
   "metadata": {},
   "outputs": [],
   "source": [
    "# Simular portafolios con montecarlo\n",
    "\n",
    "\n"
   ]
  },
  {
   "cell_type": "code",
   "execution_count": null,
   "id": "0abe5bb0",
   "metadata": {},
   "outputs": [],
   "source": [
    "# Obtener la mínima target semivariance\n"
   ]
  },
  {
   "cell_type": "code",
   "execution_count": null,
   "id": "a9da62fd",
   "metadata": {},
   "outputs": [],
   "source": [
    "# Obtener los pesos del portafolio con mínima semivarianza target\n",
    "\n",
    "\n"
   ]
  },
  {
   "cell_type": "markdown",
   "id": "9d3e71fc",
   "metadata": {},
   "source": [
    "    ¡Excelente! Ahora comparemos las ponderaciones obtenidas en el método de semivarianza normal con target semivariance, responde: ¿Hay diferencias? ¿Como las interpretas?"
   ]
  },
  {
   "cell_type": "markdown",
   "id": "dadbd059",
   "metadata": {},
   "source": [
    "---\n",
    "\n",
    "### 5.- Reflexión"
   ]
  },
  {
   "cell_type": "markdown",
   "id": "8d79c405",
   "metadata": {},
   "source": [
    "> **El método de la semivarianza y el ratio omega** son dos alternativas interesantes para la optimización de portafolios de inversión, ya que **replantean el concepto tradicional del riesgo financiero**.\n",
    "\n",
    "> **¿Cuál es mejor?** No hay una respuesta definitiva; **la elección** del método \"adecuado\" **depende de varios factores**, como el perfil del inversionista, el comportamiento histórico de los activos seleccionados (que puede hacer que un método funcione mejor que otro) y las restricciones u objetivos específicos del gestor.\n",
    "\n",
    "> Es importante resaltar nuevamente que estos **métodos solo son tan efectivos como lo sean los activos incluidos en el portafolio**.\n",
    "\n",
    "> Hasta ahora, no hemos comparado las distintas estrategias de asignación de activos, sino que hemos enfocado en cómo determinar los pesos óptimos. **En las próximas sesiones, nos centraremos en la comparación y selección de estrategias de inversión**. Esto te permitirá, con un conjunto de activos que conforman un portafolio, evaluar sus características y elegir la mejor estrategia basándote en las métricas de los múltiples portafolios óptimos."
   ]
  },
  {
   "cell_type": "markdown",
   "id": "192867cd",
   "metadata": {},
   "source": [
    "---\n",
    "\n",
    "###  Tarea 5"
   ]
  },
  {
   "cell_type": "markdown",
   "id": "46c9c1f4",
   "metadata": {},
   "source": [
    "En equipos de dos integrantes, respondan los siguientes puntos y entreguen un archivo `html` con sus resultados. No olviden incluir los nombres de los integrantes en el archivo:\n",
    "\n",
    "**Punto a)** Implementen tres funciones que optimicen portafolios utilizando: mínima semivarianza, ratio omega y semivarianza objetivo, empleando la función `scipy.optimize.minimize`.\n",
    "\n",
    "**Punto b)** Construyan un portafolio compuesto por 5 activos financieros y optimícenlo con los tres métodos. Utilicen las funciones desarrolladas en el punto a) para realizar la optimización. Recuerden que, para el portafolio con semivarianza objetivo, deberán seleccionar un benchmark adecuado y consistente con los activos elegidos. Como respuesta a este punto, se esperan las ponderaciones eficientes y el valor óptimo de la función objetivo para cada método de Asset Allocation.\n",
    "\n",
    "**Punto c)** Escriban una breve conclusión sobre las ventajas y desventajas que observan entre los métodos TMP y TPMP.\n",
    "\n",
    "**Extra:** El equipo que logre la menor semivarianza global en su portafolio optimizado por mínima semivarianza recibirá 10 puntos extra para el segundo examen parcial. La selección de activos con una buena relación entre upside y downside será clave para obtener estos puntos.\n",
    "\n"
   ]
  }
 ],
 "metadata": {
  "kernelspec": {
   "display_name": "Python 3",
   "language": "python",
   "name": "python3"
  },
  "language_info": {
   "codemirror_mode": {
    "name": "ipython",
    "version": 3
   },
   "file_extension": ".py",
   "mimetype": "text/x-python",
   "name": "python",
   "nbconvert_exporter": "python",
   "pygments_lexer": "ipython3",
   "version": "3.12.8"
  }
 },
 "nbformat": 4,
 "nbformat_minor": 5
}
