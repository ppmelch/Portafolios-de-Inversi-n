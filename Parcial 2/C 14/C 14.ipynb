{
 "cells": [
  {
   "cell_type": "markdown",
   "id": "3ff20627",
   "metadata": {},
   "source": [
    "<img style=\"float: left; margin: 30px 15px 15px 15px;\" src=\"https://oci02.img.iteso.mx/Identidades-De-Instancia/ITESO/Logos%20ITESO/Logo-ITESO-Principal.jpg\" width=\"400\" height=\"600\" /> \n",
    "    \n",
    "    \n",
    "    \n",
    "###  Sesión de Aprendizaje: Análisis Fundamental\n",
    "\n",
    "Profesor: Sean Nicolás González Vázquez."
   ]
  },
  {
   "cell_type": "markdown",
   "id": "542a417e",
   "metadata": {},
   "source": [
    "---"
   ]
  },
  {
   "cell_type": "markdown",
   "id": "9dd793ec",
   "metadata": {},
   "source": [
    "#  Análisis Fundamental  \n",
    "    \n",
    "<h3><center>\"You have to understand accounting. It´s the language of business and it´s an imperfect one, but unless you are willing to put in the effort to learn how to read and interpret financial statements, you really shouldn´t sellect stocks yourself.\" -Warren Buffet</center></h3>\n",
    "   \n",
    "> **Definición** \n",
    "    \n",
    "Tipo de análisis financiero que, como su nombre menciona, se basa en los *fundamentales* de una empresa, es decir, en la información presentada en los tres principales estados financieros (Estado de Resultados, Flujo de Efectivo y Balance General).  \n",
    "    \n",
    "El **Value Investing**, es una fílosofia de inversión, basada en el análisis fundamental y busca invertir en negocios con una \"*ventaja competitiva durable*\" que tengan un valor de mercado menor a su valor intrínseco con la expectativa de que el mercado las revalúe correctamente. En término simples, esto significa comprar barato y vender caro. \n",
    "    \n",
    "La parte de \"*ventaja competitiva durable*\" fue introducida por Warren Buffet y significa no solo comprar negocios subvaluados, si no también que tengan un negocio tipo monopolio o un producto único y además tengan consistencia (3-10 años) en sus fundamentales.\n",
    "    \n",
    "    \n",
    "> **Objetivo**\n",
    "    \n",
    "Encontrar el **valor intrínseco de una emisora**, es decir, el valor real dado la información financiera disponible de la misma, para posteriormente comparar este valor con el **valor extrínseco dado a la emisora**, para buscar posibles **inflavaloraciones** o **sobrevaloraciones** de mercado.\n",
    "    \n",
    "    \n",
    "> **Un poco de contexto** \n",
    "    \n",
    "Fue **introducido en 1934** por *Benjamin Graham* y *David Dodd* **en el libro Security Analysis**, este libro marco un antes y un después en el mundo financiero, al introducir conceptos muy importantes que hasta el día de hoy siguen siendo usados de manera práctica por inversionistas de todo el mundo, introduciendo el término **value investing**.\n",
    "    \n",
    "**Benjamin Graham** buscaba comprar acciones sobrevendidas con valor de mercado menor al intrínseco, con el objetivo de que el mercado ree-valúe posteriormente estas acciones correctamente. El hacía *trades* con acciones que valían el 50% de su book value (\"*Buyin a dollar for fifty cents*\"). Su criterio para vender era:\n",
    "   \n",
    "+ Vender si las acciones subían 50% o máximo a los dos años de su compra.   \n",
    "    \n",
    "    \n",
    "+ Problema: Algunas acciones quebraban o simplemente no se revaluaban. \n",
    "    \n",
    "Unos años después, su pupilo **Warren Buffet** mejoró el concepto introduciendo **long term value investing**, donde buscaba acciones que cotizaran a descuento, o que estuvieran cerca al *fair price* (Book Value = Market Value y además, que tuvieran lo que el llamaba \"*ventaja competitiva con durabilidad*\", esta ventaja competitiva significa que sucediera una o más de las siguientes tres condiciones:\n",
    "    \n",
    "+ Negocio tipo monopolio.  \n",
    " \n",
    "+ Vender un producto único.   \n",
    "   \n",
    "+ Que fueran comprador y vendedor de bajo costo (ganar por volumen). \n",
    "    \n",
    "La durabilidad se refiere a la consistencia en la evolución año con año de los fundamentales. \n",
    " \n",
    "> **¿Qué haremos en esta clase?** \n",
    "    \n",
    "En esta clase, veremos como descargar los fundamentales de una API, con el objetivo de optimizar el tiempo de análisis de una emisora, utilizando y comentando algunos consejos dados tanto por Graham como Buffet para la interpretación de los mismos. Con el objetivo de que los apliquen en su proyecto y en su vida profesional. \n",
    "  "
   ]
  },
  {
   "cell_type": "markdown",
   "id": "10aae97d",
   "metadata": {},
   "source": [
    "---"
   ]
  },
  {
   "cell_type": "markdown",
   "id": "1f7f7e1e",
   "metadata": {},
   "source": [
    "##  **Calculando fundamentales e interpretandolos**  \n",
    "      \n",
    "    \n",
    "\n",
    "**Existen un sin fin de Fundamentales, en este clase veremos algunos y les tocará investigar otros, en la práctica uno realmente escoge sus *preferidos* (qué es lo que prácticamente harán en este proyecto) y los combinan para obtener *insights* de la *salud* de una empresa.**\n",
    "        \n"
   ]
  },
  {
   "cell_type": "code",
   "execution_count": 3,
   "id": "e0dde69e",
   "metadata": {},
   "outputs": [],
   "source": [
    "# Importar librerías\n",
    "import numpy as np\n",
    "import pandas as pd\n",
    "import yfinance as yf\n",
    "import datetime\n",
    "\n",
    "import matplotlib.pyplot as plt"
   ]
  },
  {
   "cell_type": "code",
   "execution_count": 4,
   "id": "a7f93c58",
   "metadata": {},
   "outputs": [],
   "source": [
    "# Bajar un precio en una fecha dada\n",
    "def get_historical_price(ticker: str, start: str):\n",
    "    end = start+datetime.timedelta(days=4)\n",
    "    price=pd.DataFrame(yf.Ticker(ticker).history(start=start, end=end)[\"Close\"])\n",
    "    return price.iloc[0, 0]"
   ]
  },
  {
   "cell_type": "code",
   "execution_count": 7,
   "id": "e81fc268",
   "metadata": {},
   "outputs": [
    {
     "data": {
      "text/html": [
       "<div>\n",
       "<style scoped>\n",
       "    .dataframe tbody tr th:only-of-type {\n",
       "        vertical-align: middle;\n",
       "    }\n",
       "\n",
       "    .dataframe tbody tr th {\n",
       "        vertical-align: top;\n",
       "    }\n",
       "\n",
       "    .dataframe thead th {\n",
       "        text-align: right;\n",
       "    }\n",
       "</style>\n",
       "<table border=\"1\" class=\"dataframe\">\n",
       "  <thead>\n",
       "    <tr style=\"text-align: right;\">\n",
       "      <th></th>\n",
       "      <th>2024-09-30</th>\n",
       "      <th>2023-09-30</th>\n",
       "      <th>2022-09-30</th>\n",
       "      <th>2021-09-30</th>\n",
       "      <th>2020-09-30</th>\n",
       "    </tr>\n",
       "  </thead>\n",
       "  <tbody>\n",
       "    <tr>\n",
       "      <th>Treasury Shares Number</th>\n",
       "      <td>NaN</td>\n",
       "      <td>0.0</td>\n",
       "      <td>NaN</td>\n",
       "      <td>NaN</td>\n",
       "      <td>NaN</td>\n",
       "    </tr>\n",
       "    <tr>\n",
       "      <th>Ordinary Shares Number</th>\n",
       "      <td>15116786000.0</td>\n",
       "      <td>15550061000.0</td>\n",
       "      <td>15943425000.0</td>\n",
       "      <td>16426786000.0</td>\n",
       "      <td>NaN</td>\n",
       "    </tr>\n",
       "    <tr>\n",
       "      <th>Share Issued</th>\n",
       "      <td>15116786000.0</td>\n",
       "      <td>15550061000.0</td>\n",
       "      <td>15943425000.0</td>\n",
       "      <td>16426786000.0</td>\n",
       "      <td>NaN</td>\n",
       "    </tr>\n",
       "    <tr>\n",
       "      <th>Net Debt</th>\n",
       "      <td>76686000000.0</td>\n",
       "      <td>81123000000.0</td>\n",
       "      <td>96423000000.0</td>\n",
       "      <td>89779000000.0</td>\n",
       "      <td>NaN</td>\n",
       "    </tr>\n",
       "    <tr>\n",
       "      <th>Total Debt</th>\n",
       "      <td>106629000000.0</td>\n",
       "      <td>111088000000.0</td>\n",
       "      <td>132480000000.0</td>\n",
       "      <td>136522000000.0</td>\n",
       "      <td>NaN</td>\n",
       "    </tr>\n",
       "    <tr>\n",
       "      <th>...</th>\n",
       "      <td>...</td>\n",
       "      <td>...</td>\n",
       "      <td>...</td>\n",
       "      <td>...</td>\n",
       "      <td>...</td>\n",
       "    </tr>\n",
       "    <tr>\n",
       "      <th>Cash Cash Equivalents And Short Term Investments</th>\n",
       "      <td>65171000000.0</td>\n",
       "      <td>61555000000.0</td>\n",
       "      <td>48304000000.0</td>\n",
       "      <td>62639000000.0</td>\n",
       "      <td>NaN</td>\n",
       "    </tr>\n",
       "    <tr>\n",
       "      <th>Other Short Term Investments</th>\n",
       "      <td>35228000000.0</td>\n",
       "      <td>31590000000.0</td>\n",
       "      <td>24658000000.0</td>\n",
       "      <td>27699000000.0</td>\n",
       "      <td>NaN</td>\n",
       "    </tr>\n",
       "    <tr>\n",
       "      <th>Cash And Cash Equivalents</th>\n",
       "      <td>29943000000.0</td>\n",
       "      <td>29965000000.0</td>\n",
       "      <td>23646000000.0</td>\n",
       "      <td>34940000000.0</td>\n",
       "      <td>NaN</td>\n",
       "    </tr>\n",
       "    <tr>\n",
       "      <th>Cash Equivalents</th>\n",
       "      <td>2744000000.0</td>\n",
       "      <td>1606000000.0</td>\n",
       "      <td>5100000000.0</td>\n",
       "      <td>17635000000.0</td>\n",
       "      <td>NaN</td>\n",
       "    </tr>\n",
       "    <tr>\n",
       "      <th>Cash Financial</th>\n",
       "      <td>27199000000.0</td>\n",
       "      <td>28359000000.0</td>\n",
       "      <td>18546000000.0</td>\n",
       "      <td>17305000000.0</td>\n",
       "      <td>NaN</td>\n",
       "    </tr>\n",
       "  </tbody>\n",
       "</table>\n",
       "<p>68 rows × 5 columns</p>\n",
       "</div>"
      ],
      "text/plain": [
       "                                                      2024-09-30  \\\n",
       "Treasury Shares Number                                       NaN   \n",
       "Ordinary Shares Number                             15116786000.0   \n",
       "Share Issued                                       15116786000.0   \n",
       "Net Debt                                           76686000000.0   \n",
       "Total Debt                                        106629000000.0   \n",
       "...                                                          ...   \n",
       "Cash Cash Equivalents And Short Term Investments   65171000000.0   \n",
       "Other Short Term Investments                       35228000000.0   \n",
       "Cash And Cash Equivalents                          29943000000.0   \n",
       "Cash Equivalents                                    2744000000.0   \n",
       "Cash Financial                                     27199000000.0   \n",
       "\n",
       "                                                      2023-09-30  \\\n",
       "Treasury Shares Number                                       0.0   \n",
       "Ordinary Shares Number                             15550061000.0   \n",
       "Share Issued                                       15550061000.0   \n",
       "Net Debt                                           81123000000.0   \n",
       "Total Debt                                        111088000000.0   \n",
       "...                                                          ...   \n",
       "Cash Cash Equivalents And Short Term Investments   61555000000.0   \n",
       "Other Short Term Investments                       31590000000.0   \n",
       "Cash And Cash Equivalents                          29965000000.0   \n",
       "Cash Equivalents                                    1606000000.0   \n",
       "Cash Financial                                     28359000000.0   \n",
       "\n",
       "                                                      2022-09-30  \\\n",
       "Treasury Shares Number                                       NaN   \n",
       "Ordinary Shares Number                             15943425000.0   \n",
       "Share Issued                                       15943425000.0   \n",
       "Net Debt                                           96423000000.0   \n",
       "Total Debt                                        132480000000.0   \n",
       "...                                                          ...   \n",
       "Cash Cash Equivalents And Short Term Investments   48304000000.0   \n",
       "Other Short Term Investments                       24658000000.0   \n",
       "Cash And Cash Equivalents                          23646000000.0   \n",
       "Cash Equivalents                                    5100000000.0   \n",
       "Cash Financial                                     18546000000.0   \n",
       "\n",
       "                                                      2021-09-30 2020-09-30  \n",
       "Treasury Shares Number                                       NaN        NaN  \n",
       "Ordinary Shares Number                             16426786000.0        NaN  \n",
       "Share Issued                                       16426786000.0        NaN  \n",
       "Net Debt                                           89779000000.0        NaN  \n",
       "Total Debt                                        136522000000.0        NaN  \n",
       "...                                                          ...        ...  \n",
       "Cash Cash Equivalents And Short Term Investments   62639000000.0        NaN  \n",
       "Other Short Term Investments                       27699000000.0        NaN  \n",
       "Cash And Cash Equivalents                          34940000000.0        NaN  \n",
       "Cash Equivalents                                   17635000000.0        NaN  \n",
       "Cash Financial                                     17305000000.0        NaN  \n",
       "\n",
       "[68 rows x 5 columns]"
      ]
     },
     "execution_count": 7,
     "metadata": {},
     "output_type": "execute_result"
    }
   ],
   "source": [
    "info = yf.Ticker(\"AAPL\")\n",
    "info.balance_sheet"
   ]
  },
  {
   "cell_type": "code",
   "execution_count": null,
   "id": "20a12cb7",
   "metadata": {},
   "outputs": [],
   "source": []
  },
  {
   "cell_type": "code",
   "execution_count": 3,
   "id": "c600820c",
   "metadata": {},
   "outputs": [],
   "source": [
    "# Funcion para obtener estados financieros\n"
   ]
  },
  {
   "cell_type": "code",
   "execution_count": 4,
   "id": "3bb028c3",
   "metadata": {},
   "outputs": [],
   "source": [
    "# Utilizar función para estados financieros dado un ticker\n",
    "\n"
   ]
  },
  {
   "cell_type": "markdown",
   "id": "35a8e667",
   "metadata": {},
   "source": [
    "###  **Earnings Per Share (EPS)**  \n",
    "    \n",
    "Múltiplio financiero que nos indica el beneficio por acción que tiene una compañía, en teoría, indica la cantidad de ingresos que le corresponde a cada inversionista dado su número de acciones, las empresas con una ventaja competitiva a largo plazo siempre muestran EPS estables y positivos a lo largo de 3-10 años y en constante crecimiento.\n",
    "    \n",
    "    \n",
    "$$EPS = \\frac{Income}{Shares}$$"
   ]
  },
  {
   "cell_type": "code",
   "execution_count": null,
   "id": "638effd1",
   "metadata": {},
   "outputs": [],
   "source": []
  },
  {
   "cell_type": "code",
   "execution_count": null,
   "id": "dbdd4797",
   "metadata": {},
   "outputs": [],
   "source": []
  },
  {
   "cell_type": "code",
   "execution_count": null,
   "id": "d21f94e4",
   "metadata": {},
   "outputs": [],
   "source": []
  },
  {
   "cell_type": "code",
   "execution_count": null,
   "id": "a63d0202",
   "metadata": {},
   "outputs": [],
   "source": []
  },
  {
   "cell_type": "code",
   "execution_count": null,
   "id": "c83b796f",
   "metadata": {},
   "outputs": [],
   "source": []
  },
  {
   "cell_type": "markdown",
   "id": "d77d9208",
   "metadata": {},
   "source": [
    "###  **Price Earnings Ratio (PER)**  \n",
    "    \n",
    "El fundamental más importante para Graham y Buffet, indica cuántas veces se está pagando el beneficio neto anual de una empresa determinada al comprar una acción de esta, es decir, que tan cara o barata esta una acción, en función de su utilidad real y cuánto cuesta comprar una parte de la empresa.\n",
    "También indica el número de veces que el beneficio neto está contenida en el precio de la acción.\n",
    "\n",
    "\n",
    "Graham recomienda nunca comprar una acción cara o sobrevaluada, por lo que, sin importar si la empresa es muy buena, nunca se recomienda comprar cuando su PER es mayor a 25, cabe destacar, que el PER fluctúa junto con el mercado por eso en mercados bajistas, siempre se encuentra un mayor número de empresas a buen precio y en mercados alcistas es más difícil encontrarlas, pero siempre hay.\n",
    "\n",
    "\n",
    "\n",
    "$$PER = \\frac{Price}{Income/Shares} = \\frac{Price}{Earnings Per Share}$$\n",
    "    "
   ]
  },
  {
   "cell_type": "code",
   "execution_count": null,
   "id": "a56df0f3",
   "metadata": {},
   "outputs": [],
   "source": []
  },
  {
   "cell_type": "code",
   "execution_count": null,
   "id": "6dab5a24",
   "metadata": {},
   "outputs": [],
   "source": []
  },
  {
   "cell_type": "code",
   "execution_count": null,
   "id": "d3cd8bc7",
   "metadata": {},
   "outputs": [],
   "source": []
  },
  {
   "cell_type": "code",
   "execution_count": null,
   "id": "54c71c07",
   "metadata": {},
   "outputs": [],
   "source": []
  },
  {
   "cell_type": "markdown",
   "id": "7438d95e",
   "metadata": {},
   "source": [
    "**El PER indica dado su valor:**\n",
    "\n",
    "+ 0 a 10: Acción infravalorada\n",
    "+ 10 a 17: Rango normal\n",
    "+ 17 a 25: Acción probablemente sobrevalorada\n",
    "+ Más de 25: Posible Burbuja\n",
    "\n",
    "\n",
    "Un **PER alto** muestra la acción esta sobrevalorada.\n",
    "\n",
    "Un **PER bajo** indica infravaloración."
   ]
  },
  {
   "cell_type": "markdown",
   "id": "5bd397c1",
   "metadata": {},
   "source": [
    "###  **EBITDA**  \n",
    "\n",
    "Beneficio \"*real*\" de la empresa antes de amortizaciones, depreciaciones e impuestos. \n",
    "\n",
    "Es importante que este sea positivo y se compare contra el *benchmark* de mercado u otras empresas del mismo giro. Se utiliza debido a que, en teoría, las amortizaciones y depreciaciones no son un \"egreso real\", debido a que no sale dinero del bolsillo de una empresa, y por eso hay que tenerlas en cuenta para ver las utilidades de una empresa\n",
    "    \n",
    "    \n",
    "+ *Disclaimer:* Cabe destacar, que, aunque mucha gente toma el EBITDA como una métrica importante para el análisis fundamental, tanto Graham como Buffet recomiendan no usarla, ya que, si bien es correcto que en el momento no es un egreso real, la maquinaria, planta y equipo de una empresa esta acabando su vida útil, y cuando esta llegue a su fin, la empresa tendrá que desembolsar una gran cantidad de dinero para seguir operando."
   ]
  },
  {
   "cell_type": "code",
   "execution_count": null,
   "id": "1f557933",
   "metadata": {},
   "outputs": [],
   "source": []
  },
  {
   "cell_type": "code",
   "execution_count": null,
   "id": "778b9e52",
   "metadata": {},
   "outputs": [],
   "source": []
  },
  {
   "cell_type": "markdown",
   "id": "bfaf3af4",
   "metadata": {},
   "source": [
    "###  **Price Book Value (PBV)**  \n",
    "\n",
    "Múltiplo financiero que relaciona el Market Cap y el valor en libros. Se obtiene dividiendo el Market Cap entre el valor en libros de la empresa. \n",
    " \n",
    "El valor contable, es el valor neto que presenta su contabilidad, esto es, el valor de sus recursos propios, o lo que es lo mismo el pasivo total menos el pasivo exigible. \n",
    "    \n",
    "El precio valor libro se usa para medir si una acción se valora correctamente:\n",
    "    \n",
    "+ Una relación precio valor contable de uno significa que el precio de las acciones se cotiza en línea con el valor en libros de la empresa. En otras palabras, el precio de las acciones se consideraría razonablemente valorado, estrictamente desde el punto de vista de la relación precio valor en libros. \n",
    "    \n",
    "+ Una empresa con una relación precio valor en libros alta podría significar que el precio de las acciones está sobrevalorado\n",
    "    \n",
    "+ Una empresa con una relación precio valor contable más baja podría estar infravalorada.\n",
    "\n",
    "Sin embargo, la relación precio valor contable debe compararse con empresas del mismo sector. La proporción es más alta para algunas industrias que para otras. Por lo tanto, es importante compararlo con empresas con una composición similar de activos y pasivos.\n",
    "    \n",
    "También podría considerarse como un múltiplo que nos indica cuantas veces el mercado sobre-valora o infra-valora una empresa en función de sus expectativas y lo que realmente vale."
   ]
  },
  {
   "cell_type": "code",
   "execution_count": null,
   "id": "56df24ec",
   "metadata": {},
   "outputs": [],
   "source": []
  },
  {
   "cell_type": "code",
   "execution_count": null,
   "id": "b4bda5e4",
   "metadata": {},
   "outputs": [],
   "source": []
  },
  {
   "cell_type": "code",
   "execution_count": null,
   "id": "fe6e1d84",
   "metadata": {},
   "outputs": [],
   "source": []
  },
  {
   "cell_type": "markdown",
   "id": "cb40deb4",
   "metadata": {},
   "source": [
    "###  **Solvency**  \n",
    "    \n",
    "Múltiplo financiero que nos indica que tan solvente es una empresa para hacer frente a sus obligaciones, es decir, que tantos activos tiene contra los pasivos, esta se obtiene de la siguiente forma:\n",
    "    \n",
    "$$Solvency = \\frac{Assets}{Liabilities}$$"
   ]
  },
  {
   "cell_type": "code",
   "execution_count": null,
   "id": "24f5b0cc",
   "metadata": {},
   "outputs": [],
   "source": []
  },
  {
   "cell_type": "code",
   "execution_count": null,
   "id": "c9623806",
   "metadata": {},
   "outputs": [],
   "source": []
  },
  {
   "cell_type": "code",
   "execution_count": null,
   "id": "fa5ecc6c",
   "metadata": {},
   "outputs": [],
   "source": []
  },
  {
   "cell_type": "markdown",
   "id": "6a076a0f",
   "metadata": {},
   "source": [
    "Si el resultado es inferior a 1.4, la situación es mala.  \n",
    "\n",
    "Si está entre 1.4 y 1.5, es normal.  \n",
    "\n",
    "Si es superior a 1.5, es buena.\n",
    "\n",
    "+ En el caso de empresas muy grandes, estas son tan solventes que no necesitan tener muchos activos para cubrir sus obligaciones, y a veces ni siquiera deuda, muchas veces con la utilidad de operación generada en un período es suficiente para cubrir sus deudas y hasta les sobra. "
   ]
  },
  {
   "cell_type": "markdown",
   "id": "0e8cfd0b",
   "metadata": {},
   "source": [
    "###  **Return On Shareholder Equity (ROE)**\n",
    "\n",
    "Mide el porcentaje de rentabilidad que se puede ofrecer dado el Equity dado, es decir, que tanto provecho se le esta sacando al Capital que se tiene. Básicamente, expone las ganancias que los accionistas están obteniendo.\n",
    "    \n",
    "$$ROE = \\frac{Income}{Equity} * 100$$\n",
    "    \n",
    "El resultado esta expresado en %."
   ]
  },
  {
   "cell_type": "code",
   "execution_count": null,
   "id": "f397047f",
   "metadata": {},
   "outputs": [],
   "source": []
  },
  {
   "cell_type": "code",
   "execution_count": null,
   "id": "757c73ef",
   "metadata": {},
   "outputs": [],
   "source": []
  },
  {
   "cell_type": "code",
   "execution_count": null,
   "id": "80fd23f0",
   "metadata": {},
   "outputs": [],
   "source": []
  },
  {
   "cell_type": "markdown",
   "id": "7ea8423c",
   "metadata": {},
   "source": [
    "+ Si el resultado es inferior a 3, la situación es mala; si está entre 3 y 8, es normal; si es superior a 8, es buena. Se espera un resultado consistente y en crecimiento.\n",
    "\n",
    "Este ratio, **habla de que tan buena es la administación de una empresa para poner a trabajar el dinero de sus inversionistas**, medido a través de los ingresos de operación de la misma, se recomienda que las empresas en las que inviertas tengan un return on shareholder´s equity mayor al promedio del sector en el cual participan. \n",
    "\n",
    "Si sucede esto, significa que una empresa esta haciendo un buen uso de las ganacias generadas por la operación de la misma, lo cual aumentará paulatinamento el valor intrínseco de la empresa, aumentando el precio de su acción.\n"
   ]
  }
 ],
 "metadata": {
  "kernelspec": {
   "display_name": "Python 3",
   "language": "python",
   "name": "python3"
  },
  "language_info": {
   "codemirror_mode": {
    "name": "ipython",
    "version": 3
   },
   "file_extension": ".py",
   "mimetype": "text/x-python",
   "name": "python",
   "nbconvert_exporter": "python",
   "pygments_lexer": "ipython3",
   "version": "3.12.8"
  }
 },
 "nbformat": 4,
 "nbformat_minor": 5
}
