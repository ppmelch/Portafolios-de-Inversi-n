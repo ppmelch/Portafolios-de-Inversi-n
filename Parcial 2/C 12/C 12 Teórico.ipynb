{
 "cells": [
  {
   "cell_type": "markdown",
   "id": "5a2879f7",
   "metadata": {},
   "source": [
    "# Portafolios de Inversión\n",
    "## Teoría Pos-Moderna de Portafolios\n",
    "José Armando Melchor Soto"
   ]
  },
  {
   "cell_type": "markdown",
   "id": "4a6c779e",
   "metadata": {},
   "source": [
    "---"
   ]
  },
  {
   "cell_type": "markdown",
   "id": "00a1e66b",
   "metadata": {},
   "source": [
    "#### **Riesgo** "
   ]
  },
  {
   "cell_type": "markdown",
   "id": "5a2e6c0a",
   "metadata": {},
   "source": [
    "- El riesgo es la probabilidad de que se produzca un resultado distinto al esperado.\n",
    "\n",
    "- En finanzas , el riesgo medido como la volatilidad no solamente considera los resultados negativos , si no también los positivos, debido a que la desviación estándar es la dispersión de los rendimientos con respecto a la media.\n"
   ]
  },
  {
   "cell_type": "markdown",
   "id": "9869779b",
   "metadata": {},
   "source": [
    "---"
   ]
  },
  {
   "cell_type": "markdown",
   "id": "e6073877",
   "metadata": {},
   "source": [
    "#### **Downside y Upside Risk**\n",
    "\n",
    "- **Upside Risk**: Volatilidad de los rendimientos positivos , es decir , aquellos rendimientos que te producen ganancia.\n",
    "\n",
    "- **Downside Risk**: Volatilidad de los rendimientos negativos , es decir , aquellos rendimientos que te producen pérdida."
   ]
  },
  {
   "cell_type": "markdown",
   "id": "70d444ea",
   "metadata": {},
   "source": [
    "El downside y upside risk de un activo para un activo financiero se calcula de la siguiente manera: \n",
    "\n",
    " $$\\sigma_{d} = \\sigma(min(r_i , 0 ))$$\n",
    "\n",
    " $$\\sigma_{u} = \\sigma(max(r_i , 0 ))$$"
   ]
  },
  {
   "cell_type": "markdown",
   "id": "1f4ff57e",
   "metadata": {},
   "source": [
    "---"
   ]
  },
  {
   "cell_type": "markdown",
   "id": "0576d36d",
   "metadata": {},
   "source": [
    "#### **Mínima Semi-Varianza**\n",
    "\n",
    "- La mínima semivarianza es un método de optimización de portafolios que se enfoca en minimizar exclusivamente el riesgo a la baja(downside risk) de una cartera de inversión , en lugar de considerar el riesgo total. \n",
    "\n",
    "- El downside risk puede interpretarse como el riesgo de experimentar pérdidad , es decir , de experimentar rendimientos que caen por debajo de cero.\n",
    "\n",
    "- La semivarianza de un portafolio se calcula considerando únicamente el downside risk (desviaciones de los rends. por debajo de cero) y la matriz de correlación de los activos.\n",
    "\n"
   ]
  },
  {
   "cell_type": "markdown",
   "id": "cbee1078",
   "metadata": {},
   "source": [
    "#### Matriz de Semi-Varianza"
   ]
  },
  {
   "cell_type": "markdown",
   "id": "e478cfbf",
   "metadata": {},
   "source": [
    "Se calcula como :\n",
    "\n",
    "$$ S_port = w^T S w $$"
   ]
  },
  {
   "cell_type": "markdown",
   "id": "f3a2a4d0",
   "metadata": {},
   "source": [
    "###"
   ]
  },
  {
   "cell_type": "markdown",
   "id": "358eee9e",
   "metadata": {},
   "source": [
    "---"
   ]
  },
  {
   "cell_type": "markdown",
   "id": "ccb8437f",
   "metadata": {},
   "source": [
    "#### Omega "
   ]
  },
  {
   "cell_type": "markdown",
   "id": "05f36e49",
   "metadata": {},
   "source": [
    "- El Ratio Omega mide la relación entre el upside risk (potencial ganancia) y el downside risk (potencial perdida) de un activo financiero.\n",
    "\n",
    "- Este ratio se interpreta como la cantidad de unidades de upside risk obtenidas por cada unidad de downside risk asumido.\n",
    "\n",
    "- En otras palabras , el omega refleja la oportunidad de ganancia en relación con los riesgos de pérdida que se tienen al invertir en un activo financiero.\n",
    "\n",
    "- Para calcular el ratio omega individual , se utiliza la siguiente fórmula:\n",
    "\n",
    "$$\\Omega = \\frac{\\sigma_u}{\\sigma_d}$$"
   ]
  },
  {
   "cell_type": "markdown",
   "id": "37fce648",
   "metadata": {},
   "source": [
    "- Para calcular el ratio omega de un portafolio de inversión , se utiliza la suma ponderada de los omegas individuales:\n",
    "\n",
    "$$\\Omega_p = \\sum^{n}_{i=1} w_i \\Omega_i$$\n",
    "\n",
    "- El portafolio que maximimza el ratio omega , se denomina portafolio óptimo en máximo omega. "
   ]
  },
  {
   "cell_type": "markdown",
   "id": "312699c3",
   "metadata": {},
   "source": [
    "---"
   ]
  },
  {
   "cell_type": "markdown",
   "id": "b6757a80",
   "metadata": {},
   "source": [
    "#### Conceptos TPMP "
   ]
  },
  {
   "cell_type": "markdown",
   "id": "f53cb00c",
   "metadata": {},
   "source": [
    "#### Downside Risk\n",
    "- Volatilidad de los rendimientos negativos , es decir , aquellos rendimientos que te producen pérdida. \n",
    "\n",
    "#### Upside Risk\n",
    "- Volatilidad de los rendimientos positivos , es decir , aquellos rendimientos que te producen ganancia.\n",
    "\n",
    "#### Portafolio Mínima Semi-Varianza\n",
    "- Portafolio que mínimiza la semivarianza, es decir, la varianza solamente considera los rendimientos negativos/pérdidas de los activos individuales.\n",
    "\n",
    "#### Portafolio Max Omega\n",
    "- Portafolio que maximiza el ratio entre el upside risk y downside risk del portafolio de inversión."
   ]
  },
  {
   "cell_type": "markdown",
   "id": "b72f929d",
   "metadata": {},
   "source": [
    "---"
   ]
  },
  {
   "cell_type": "markdown",
   "id": "1a8b17de",
   "metadata": {},
   "source": [
    "#### Apéndice: Alpha \n",
    "\n",
    "- Generar alpha en un portafolio se refiere a obtener un\n",
    "rendimiento superior al esperado, es decir, superar el\n",
    "desempeño del mercado de referencia o benchmark.\n",
    "\n",
    "- En otras palabras, el alpha representa el exceso de\n",
    "rendimiento logrado por encima del retorno promedio del\n",
    "mercado, lo que lo convierte en una medida clave del valor\n",
    "añadido por el gestor de inversiones.\n",
    "\n",
    "- La habilidad de un gestor se mide, en gran parte, por su\n",
    "capacidad para generar alpha de manera consistente, lo\n",
    "que explica por qué muchos se centran en superar al\n",
    "mercado (beat the market!).\n",
    "\n"
   ]
  },
  {
   "cell_type": "markdown",
   "id": "26915f36",
   "metadata": {},
   "source": [
    "---"
   ]
  },
  {
   "cell_type": "markdown",
   "id": "c045b844",
   "metadata": {},
   "source": [
    "#### Apéndice : Target Downside"
   ]
  },
  {
   "cell_type": "markdown",
   "id": "b8937b3e",
   "metadata": {},
   "source": [
    "- El target downside representa el riesgo de que un portafolio de inversión no genere rendimientos por encima de un umbral específico , generalmente un benchmark de referencia.\n",
    "\n",
    "     Este riesgo se calcula de la siguiente manera:\n",
    "\n",
    "$$\\sigma_d = \\sigma{(min(r_i - r_b , 0))}$$"
   ]
  },
  {
   "cell_type": "markdown",
   "id": "00958f76",
   "metadata": {},
   "source": [
    "---"
   ]
  },
  {
   "cell_type": "markdown",
   "id": "e39fd1c2",
   "metadata": {},
   "source": [
    "#### Apéndice : Target Semivariance "
   ]
  },
  {
   "cell_type": "markdown",
   "id": "2623778f",
   "metadata": {},
   "source": [
    "- Con este enfoque, un gestor de portafolios puede adaptar el\n",
    "método de la semivarianza para incluir el riesgo de no generar\n",
    "alpha, es decir, el riesgo de no superar al benchmark.\n",
    "\n",
    "- De esta manera, se toman en cuenta únicamente los\n",
    "rendimientos que, tras restar el rendimiento del benchmark,\n",
    "resultan negativos. Estos valores reflejan los periodos en los\n",
    "que el portafolio no logró generar alpha.\n",
    "\n",
    "- Al minimizar esta target semivariance, el portafolio resultante\n",
    "reducirá el riesgo de subrendimientos en relación al\n",
    "benchmark, optimizando la probabilidad de generar\n",
    "rendimientos consistentes por encima del mercado.\n",
    "\n",
    "\n",
    "\n",
    "$$\\sigma_d = \\sigma{(min(r_i - r_b , 0))}$$\n",
    "\n",
    "$$min {\\sigma_{d}^{2} = w^T Sw}$$\n",
    "\n",
    "$$\n",
    "s.a :\\begin{cases}\n",
    "w_1 +w_2 + \\dots +w_n = 1  \\\\\n",
    "w_i > 0\n",
    "\\end{cases}\n",
    "$$\n"
   ]
  },
  {
   "cell_type": "markdown",
   "id": "8c067171",
   "metadata": {},
   "source": [
    "---"
   ]
  }
 ],
 "metadata": {
  "language_info": {
   "name": "python"
  }
 },
 "nbformat": 4,
 "nbformat_minor": 5
}
