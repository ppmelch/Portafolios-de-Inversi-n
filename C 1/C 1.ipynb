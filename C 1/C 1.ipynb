{
 "cells": [
  {
   "cell_type": "markdown",
   "id": "bce285f1",
   "metadata": {},
   "source": [
    "# Portafolios de Inversión\n",
    "## Tipos de Activos\n",
    "José Armando Melchor Soto"
   ]
  },
  {
   "cell_type": "markdown",
   "id": "8fa35270",
   "metadata": {},
   "source": [
    "---"
   ]
  },
  {
   "cell_type": "markdown",
   "id": "2da6cc8e",
   "metadata": {},
   "source": [
    "### Mercado de Valores"
   ]
  },
  {
   "cell_type": "markdown",
   "id": "4d1aca95",
   "metadata": {},
   "source": [
    "Mecanismo en el cual participan distintas entidades con el objetivo de captar recursos u obtener rendimientos futuros.\n",
    "\n",
    "- Una inversión es la destinación de una cantidad de dinero en algún tipo de activo para conseguir un beneficio futuro.\n",
    "\n",
    "Existe dos categorías , el mercado primario y el secundario"
   ]
  },
  {
   "cell_type": "markdown",
   "id": "3969ed9f",
   "metadata": {},
   "source": [
    "---"
   ]
  },
  {
   "cell_type": "markdown",
   "id": "4affc48b",
   "metadata": {},
   "source": [
    "### Participantes del Mercado"
   ]
  },
  {
   "cell_type": "markdown",
   "id": "341e06a1",
   "metadata": {},
   "source": [
    "**Inversionistas** :\n",
    "\n",
    "- Personas físicas o institucionales que buscan proveer dinero a las empresas con el objetivo de \"ponerlo a trabajar\"\n",
    "\n",
    "**Emisoras**: \n",
    "\n",
    "- Entidades que buscan financiarse por medio de la colocación de instrumentos financieros en el mercado.\n",
    "\n",
    "**Intermediarios**:\n",
    "\n",
    "- Casas de bolsa o bancos , los cuales ayudan a conectar a los inversionistas y emisores. Ganan por medio de comisiones\n",
    "\n",
    "\n",
    "**Autoridades Financieras**: \n",
    "\n",
    "- Reguladoras\n",
    "\n",
    "**Organismos de Apoyo**: \n",
    "\n",
    "- Buscan ayuda al mejor funcionamiento del mercado en su conjunto , facilitar la operación y dar confianza al inversionista."
   ]
  },
  {
   "cell_type": "markdown",
   "id": "1096dbb8",
   "metadata": {},
   "source": [
    "---"
   ]
  },
  {
   "cell_type": "markdown",
   "id": "b85ee455",
   "metadata": {},
   "source": [
    "# Activos Financieros"
   ]
  },
  {
   "cell_type": "markdown",
   "id": "c9cc5f4d",
   "metadata": {},
   "source": [
    "En el mercado de valores , existen distintos activos financieros , que se puedan comprar o vender en las subcategorías del mercado , las cuales son:\n",
    "\n",
    "- Mercado de Renta Variable\n",
    "- Mercado de Deuda\n",
    "- Mercado de FOREX\n",
    "- Mercado de Derivados"
   ]
  },
  {
   "cell_type": "markdown",
   "id": "f0c253cc",
   "metadata": {},
   "source": [
    "---\n",
    "\n",
    "\n",
    "### Mercado de Renta Variable\n",
    "\n",
    "Mercado donde la recuperación del capital invertido no esta garantizado bajo ninguna circustancia y el rendimiento no se conoce de antemano.\n",
    "\n",
    "El inversionista que compra actiivos de renta variable , se convierte en dueño de una parte de la(s) empresas emisora(s).\n",
    "\n",
    "Aquí existen distintos activos:\n",
    "- **Acciones**\n",
    "    - Tipo de inversión donde una emisora ofrece una participación en su empresa, es decir , vende una parte de la misma.\n",
    "    \n",
    "    - La emisora no esta obligada a pagar nada, si no que \"traspasa\" la ganancia o pérdida de la misma inversionista.\n",
    "\n",
    "    - Esto permite a la emisora financiarse o captar recursos a través de la venta del capital social y a los inversionistas participar en los rendimientos de la empresa.\n",
    "\n",
    "\n",
    "\n",
    "\n",
    "- **Fondos de Inversión**\n",
    "    - Tipo de inversión que permite comprar un conglomerado de activos en conjunto con otros inversionistas , son mecanismos de inversión colectiva en el cual una persona compra de un administrador de fondos el derecho de participar en los rendimientos generados por los activos del mismo fondo.\n",
    "\n",
    "    - El fondo de inversión puede incluir una combinación de distintos tipos de activos.\n",
    "    \n",
    "    - Los fondos actualizan su precio de manera diaria al cierre de mercado, se compran directamente con el administrador.\n",
    "\n",
    "- **ETF's**\n",
    "    - Conocidos también como \"Fondos cotizados\", son fondos de inversión que cotiza en bolsa como si fueran una acción , es decir, siguen la misma lógica de un fondo de inversión al ser un conglomerado de múltiples acciones , con la diferencia de que segundo actualizan su precio cotizado.\n",
    "    \n",
    "    - Tienen ciertas ventajas contra los fondos de inversión como menores comisiones y mayor transparencia en la composición del fondo.\n",
    "\n",
    "- **UCIT's**\n",
    "    - Los \"Undertakings for Collective Investments for Collective Investments in Transferable Securities\", son instrumentos de inversión similares a los ETF's con la diferencia de que son fondos regulados por la ley europea.\n",
    "    \n",
    "    - Esto trae una serie de ventajas , principalmente físcales para el pequeño inversionista.\n"
   ]
  },
  {
   "cell_type": "markdown",
   "id": "6204c873",
   "metadata": {},
   "source": [
    "---"
   ]
  },
  {
   "cell_type": "markdown",
   "id": "14a97de2",
   "metadata": {},
   "source": [
    "### Mercado de Deuda"
   ]
  },
  {
   "cell_type": "markdown",
   "id": "e8a93031",
   "metadata": {},
   "source": [
    "Mercado donde se negocian títulos de deuda , los cuales funcionan como préstamo , es decir , el inversionista da una suma de dinero a cambio de un título en el cual el emisor se comprende a regresar el capital más interes en un periodo de tiempo dado.\n",
    "\n",
    "Anteriormente se conocía como \"Mercado de renta fija\", más este término se cambió ya que hace alusión a que siempre se paga , lo cual , no sucede cuando los emisores se declarán en impago.\n",
    "\n",
    "Los distintos tipos de deuda son:\n",
    "\n",
    "- Deuda Gubernamental :\n",
    "\n",
    "    - Deuda que permite a un país financiarse y manejar la política monetaria , por medio de un organismo autónomo denominado Banco Central.\n",
    "\n",
    "    - Son conocidos como los instrumentos \"más seguros\" de un país , debido a la probabilidad de impago de un gobierno es menor que la de la emisora (en la mayoría de casos).\n",
    "\n",
    "    - En México hay distintos bonos gubernamentales coo los son los CETES , BONOS M, etc.\n",
    "\n",
    "- Deuda Corporativa :\n",
    "\n",
    "    - Deuda emitida por empresas a través de una casa de bolsa. \n",
    "\n",
    "    - Son una opción de financiación para las empresas , a diferencia de las acciones , permine financiarse sin tener que dar una parte del capital social al inversita.\n",
    "\n",
    "\n",
    "---"
   ]
  },
  {
   "cell_type": "markdown",
   "id": "2da3ffbc",
   "metadata": {},
   "source": [
    "### FOREX\n"
   ]
  },
  {
   "cell_type": "markdown",
   "id": "2ed38c8f",
   "metadata": {},
   "source": [
    "Como su nombre lo menciona el mercado de FOREX (Foreign Currencies Exchange) o mercado de divisisas, es donde se negocian los tipos de cambio entre las distintas divisas del mundo.\n",
    "\n",
    "Sus características son las siguientes:\n",
    "\n",
    "- Es el mercado más grande del mundo.\n",
    "- Es de los volátiles , libres y no regulados.\n",
    "- Sus participantes tienen poca posibilidad de manipulación de mercado.\n",
    "- Esta en la actividad las 24 hrs del día , los cinco días de la semana laboral.\n"
   ]
  },
  {
   "cell_type": "markdown",
   "id": "379cd4f0",
   "metadata": {},
   "source": [
    "---"
   ]
  },
  {
   "cell_type": "markdown",
   "id": "a72f4bfa",
   "metadata": {},
   "source": [
    "### Mercado de Derivados"
   ]
  },
  {
   "cell_type": "markdown",
   "id": "2bf6706a",
   "metadata": {},
   "source": [
    "Mercado donde se negocian derivados , es decir, productos financieros cuyo valor depende de un activo de referencia conocido como subyacente.\n",
    "\n",
    "Los principales derivados son:\n",
    "- Futuros y Fowards\n",
    "- Opciones y Warrants\n",
    "- Swaps\n",
    "\n",
    "Son utilizados con el objetivo de especular , realizar una cobertura o apalancarse.\n",
    "\n",
    "**FUTUROS/FOWARDS**:\n",
    "\n",
    "- Convenio que te obliga a comprar (Long) o a vender (Short) un activo en cierto momento del futuro , a un precio determinado.\n",
    "\n",
    "- Los futuros y fowards son conceptualmente lo mismo , con la diferencia que el futuro se negocia en mercados estandarizados primarios , mientras los fowards se hacen \"a la medida\" en mercado secundario.\n",
    "\n",
    "**OPCIONES/WARRANTS**:\n",
    "\n",
    "- Convenio que brinda al tenedor el derecho (mas no la obligación), de compra o vender un activo en un determinado momento del futuro a un precio específico a cambio de una prima.\n",
    "\n",
    "**SWAPS**:\n",
    "\n",
    "- Los swaps o permutas financieras son convenios donde las dos partes intercambian un activo que generalmente es fijo contra otra asset que es variable , sin embargo , realmente se puede intercambiar cualquier cosa.\n",
    "\n",
    "- Existen diferentes tipos de Swaps , como por ejemplo :\n",
    "\n",
    "    - Interest Rate Swaps (IRS)\n",
    "    - Total Return Swaps (TRS)\n",
    "    - Credit Default Swaps (CDS)\n",
    "\n",
    "\n"
   ]
  },
  {
   "cell_type": "markdown",
   "id": "b286a371",
   "metadata": {},
   "source": [
    "---"
   ]
  }
 ],
 "metadata": {
  "language_info": {
   "name": "python"
  }
 },
 "nbformat": 4,
 "nbformat_minor": 5
}
