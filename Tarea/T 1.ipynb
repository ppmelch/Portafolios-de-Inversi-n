{
 "cells": [
  {
   "cell_type": "markdown",
   "id": "1538ace2",
   "metadata": {},
   "source": [
    "# Portafolios de Inversión\n",
    "## Tarea 1\n",
    "José Armando Melchor Soto\n",
    "\n",
    "---"
   ]
  },
  {
   "cell_type": "markdown",
   "id": "e4b5edcb",
   "metadata": {},
   "source": [
    "### Librerías "
   ]
  },
  {
   "cell_type": "code",
   "execution_count": 3,
   "id": "52218b93",
   "metadata": {},
   "outputs": [],
   "source": [
    "import pandas as pd \n",
    "import numpy as np\n",
    "import yfinance as yf\n",
    "import matplotlib.pyplot as plt"
   ]
  },
  {
   "cell_type": "markdown",
   "id": "7b314556",
   "metadata": {},
   "source": [
    "---"
   ]
  },
  {
   "cell_type": "markdown",
   "id": "a7c28629",
   "metadata": {},
   "source": [
    "### Investigación de las Emisoras"
   ]
  },
  {
   "cell_type": "markdown",
   "id": "8545375c",
   "metadata": {},
   "source": [
    "#### - ¿A qué se dedican?\n",
    "\n",
    "- **PRGO (Perrigo Company PLC):** Es una empresa con sede en Irlanda, dedicada a la industria de productos farmacéuticos de venta libre de marca privada. Aunque tiene su base en Irlanda, la mayor parte de sus productos se comercializan en Estados Unidos, que representa aproximadamente el 70% de sus ventas netas. \n",
    "\n",
    "- **ORCL (Oracle Corp):** Es una empresa con sede en Estados Unidos, cuya sede central está en Austin. Se dedica al desarrollo de soluciones tanto en la nube como locales. Oracle ocupa el primer lugar en la categoría de bases de datos y el séptimo lugar a nivel mundial entre las compañías de tecnologías de la información.\n",
    "\n",
    "- **GOOG (Alphabet Inc (Google)):** Es una empresa con sede en Estados Unidos, dedicada a la industria tecnológica. Su actividad principal consiste en el desarrollo de productos y servicios relacionados con internet, software y tecnología en general. Entre sus servicios más conocidos se encuentran Google Search, Google Maps, Gmail y otros. Además, Alphabet Inc. abarca diversos sectores como la biotecnología, salud, telecomunicaciones y domótica, a través de sus distintas subsidiarias e iniciativas.\n",
    "\n",
    "\n",
    "#### - Sector económico\n",
    "\n",
    "- **PRGO (Perrigo Company PLC ):** Su principal sector económico es el sector salud, con un enfoque en la industria farmacéutica, especialmente en la fabricación de productos de venta libre. Se enfoca más en los productos farmacéuticos y buscando el bienestar general.\n",
    "\n",
    "- **ORCL (Oracle Corp):** Al igual que Alphabet Inc., pertenece al sector de la tecnología, el cual impacta diversas industrias como finanzas, salud, manufactura y tecnología. Oracle se enfoca principalmente en la gestión de datos, análisis y en mejorar la eficiencia operativa de las empresas en estos sectores. Además, tiene un gran impacto en México, ya que cuenta con un centro de desarrollo en Guadalajara, donde innova y genera mucho empleo.\n",
    "\n",
    "- **GOOG (Alphabet Inc (Google)):** Su principal sector económico es el sector de la tecnología, que incluye servicios en línea, computación en la nube, entre otros. Su objetivo principal es operar dentro de este sector, gestionando una variedad de servicios e innovaciones, y es considerada una de las empresas líderes en la industria tecnológica."
   ]
  },
  {
   "cell_type": "markdown",
   "id": "ea9ca470",
   "metadata": {},
   "source": [
    "---"
   ]
  },
  {
   "cell_type": "markdown",
   "id": "36906795",
   "metadata": {},
   "source": [
    "### Importación de los datos"
   ]
  },
  {
   "cell_type": "code",
   "execution_count": 4,
   "id": "9d35b554",
   "metadata": {},
   "outputs": [
    {
     "name": "stdout",
     "output_type": "stream",
     "text": [
      "YF.download() has changed argument auto_adjust default to True\n"
     ]
    },
    {
     "name": "stderr",
     "output_type": "stream",
     "text": [
      "[*********************100%***********************]  3 of 3 completed\n"
     ]
    }
   ],
   "source": [
    "tickers = ['PRGO', 'ORCL' , 'GOOG']\n",
    "\n",
    "prices = yf.download(tickers=tickers, start='2018-01-01', end='2025-05-27')['Close']"
   ]
  },
  {
   "cell_type": "markdown",
   "id": "9600fa55",
   "metadata": {},
   "source": [
    "---"
   ]
  },
  {
   "cell_type": "markdown",
   "id": "b4a5e8da",
   "metadata": {},
   "source": [
    "### Visualización de datos"
   ]
  },
  {
   "cell_type": "code",
   "execution_count": 5,
   "id": "b0687688",
   "metadata": {},
   "outputs": [
    {
     "data": {
      "text/html": [
       "<div>\n",
       "<style scoped>\n",
       "    .dataframe tbody tr th:only-of-type {\n",
       "        vertical-align: middle;\n",
       "    }\n",
       "\n",
       "    .dataframe tbody tr th {\n",
       "        vertical-align: top;\n",
       "    }\n",
       "\n",
       "    .dataframe thead th {\n",
       "        text-align: right;\n",
       "    }\n",
       "</style>\n",
       "<table border=\"1\" class=\"dataframe\">\n",
       "  <thead>\n",
       "    <tr style=\"text-align: right;\">\n",
       "      <th>Ticker</th>\n",
       "      <th>GOOG</th>\n",
       "      <th>ORCL</th>\n",
       "      <th>PRGO</th>\n",
       "    </tr>\n",
       "    <tr>\n",
       "      <th>Date</th>\n",
       "      <th></th>\n",
       "      <th></th>\n",
       "      <th></th>\n",
       "    </tr>\n",
       "  </thead>\n",
       "  <tbody>\n",
       "    <tr>\n",
       "      <th>2018-01-02</th>\n",
       "      <td>52.998970</td>\n",
       "      <td>41.520050</td>\n",
       "      <td>74.994514</td>\n",
       "    </tr>\n",
       "    <tr>\n",
       "      <th>2018-01-03</th>\n",
       "      <td>53.868855</td>\n",
       "      <td>42.481701</td>\n",
       "      <td>74.785446</td>\n",
       "    </tr>\n",
       "    <tr>\n",
       "      <th>2018-01-04</th>\n",
       "      <td>54.063931</td>\n",
       "      <td>42.900204</td>\n",
       "      <td>76.156754</td>\n",
       "    </tr>\n",
       "    <tr>\n",
       "      <th>2018-01-05</th>\n",
       "      <td>54.851692</td>\n",
       "      <td>43.158413</td>\n",
       "      <td>76.240364</td>\n",
       "    </tr>\n",
       "    <tr>\n",
       "      <th>2018-01-08</th>\n",
       "      <td>55.086082</td>\n",
       "      <td>43.612534</td>\n",
       "      <td>75.362427</td>\n",
       "    </tr>\n",
       "    <tr>\n",
       "      <th>...</th>\n",
       "      <td>...</td>\n",
       "      <td>...</td>\n",
       "      <td>...</td>\n",
       "    </tr>\n",
       "    <tr>\n",
       "      <th>2025-05-19</th>\n",
       "      <td>167.869995</td>\n",
       "      <td>159.639999</td>\n",
       "      <td>27.200001</td>\n",
       "    </tr>\n",
       "    <tr>\n",
       "      <th>2025-05-20</th>\n",
       "      <td>165.320007</td>\n",
       "      <td>160.309998</td>\n",
       "      <td>27.420000</td>\n",
       "    </tr>\n",
       "    <tr>\n",
       "      <th>2025-05-21</th>\n",
       "      <td>170.059998</td>\n",
       "      <td>157.179993</td>\n",
       "      <td>26.910000</td>\n",
       "    </tr>\n",
       "    <tr>\n",
       "      <th>2025-05-22</th>\n",
       "      <td>171.979996</td>\n",
       "      <td>157.309998</td>\n",
       "      <td>26.400000</td>\n",
       "    </tr>\n",
       "    <tr>\n",
       "      <th>2025-05-23</th>\n",
       "      <td>169.589996</td>\n",
       "      <td>155.970001</td>\n",
       "      <td>26.559999</td>\n",
       "    </tr>\n",
       "  </tbody>\n",
       "</table>\n",
       "<p>1859 rows × 3 columns</p>\n",
       "</div>"
      ],
      "text/plain": [
       "Ticker            GOOG        ORCL       PRGO\n",
       "Date                                         \n",
       "2018-01-02   52.998970   41.520050  74.994514\n",
       "2018-01-03   53.868855   42.481701  74.785446\n",
       "2018-01-04   54.063931   42.900204  76.156754\n",
       "2018-01-05   54.851692   43.158413  76.240364\n",
       "2018-01-08   55.086082   43.612534  75.362427\n",
       "...                ...         ...        ...\n",
       "2025-05-19  167.869995  159.639999  27.200001\n",
       "2025-05-20  165.320007  160.309998  27.420000\n",
       "2025-05-21  170.059998  157.179993  26.910000\n",
       "2025-05-22  171.979996  157.309998  26.400000\n",
       "2025-05-23  169.589996  155.970001  26.559999\n",
       "\n",
       "[1859 rows x 3 columns]"
      ]
     },
     "execution_count": 5,
     "metadata": {},
     "output_type": "execute_result"
    }
   ],
   "source": [
    "prices"
   ]
  },
  {
   "cell_type": "code",
   "execution_count": 6,
   "id": "fb6affac",
   "metadata": {},
   "outputs": [
    {
     "data": {
      "image/png": "[encoded data removed]",
      "text/plain": [
       "<Figure size 1400x700 with 1 Axes>"
      ]
     },
     "metadata": {},
     "output_type": "display_data"
    }
   ],
   "source": [
    "plt.figure(figsize=(14, 7))\n",
    "plt.hist(prices, label=prices.keys(), density=True, bins=50)\n",
    "plt.xlabel('Price')\n",
    "plt.ylabel('Probability')\n",
    "plt.legend()\n",
    "plt.show()\n"
   ]
  },
  {
   "cell_type": "markdown",
   "id": "1add90f6",
   "metadata": {},
   "source": [
    "---"
   ]
  },
  {
   "cell_type": "markdown",
   "id": "3985bc83",
   "metadata": {},
   "source": [
    "### Rendimientos Diarios"
   ]
  },
  {
   "cell_type": "code",
   "execution_count": 7,
   "id": "3f349e58",
   "metadata": {},
   "outputs": [
    {
     "data": {
      "text/html": [
       "<div>\n",
       "<style scoped>\n",
       "    .dataframe tbody tr th:only-of-type {\n",
       "        vertical-align: middle;\n",
       "    }\n",
       "\n",
       "    .dataframe tbody tr th {\n",
       "        vertical-align: top;\n",
       "    }\n",
       "\n",
       "    .dataframe thead th {\n",
       "        text-align: right;\n",
       "    }\n",
       "</style>\n",
       "<table border=\"1\" class=\"dataframe\">\n",
       "  <thead>\n",
       "    <tr style=\"text-align: right;\">\n",
       "      <th>Ticker</th>\n",
       "      <th>GOOG</th>\n",
       "      <th>ORCL</th>\n",
       "      <th>PRGO</th>\n",
       "    </tr>\n",
       "    <tr>\n",
       "      <th>Date</th>\n",
       "      <th></th>\n",
       "      <th></th>\n",
       "      <th></th>\n",
       "    </tr>\n",
       "  </thead>\n",
       "  <tbody>\n",
       "    <tr>\n",
       "      <th>2018-01-03</th>\n",
       "      <td>0.016413</td>\n",
       "      <td>0.023161</td>\n",
       "      <td>-0.002788</td>\n",
       "    </tr>\n",
       "    <tr>\n",
       "      <th>2018-01-04</th>\n",
       "      <td>0.003621</td>\n",
       "      <td>0.009851</td>\n",
       "      <td>0.018337</td>\n",
       "    </tr>\n",
       "    <tr>\n",
       "      <th>2018-01-05</th>\n",
       "      <td>0.014571</td>\n",
       "      <td>0.006019</td>\n",
       "      <td>0.001098</td>\n",
       "    </tr>\n",
       "    <tr>\n",
       "      <th>2018-01-08</th>\n",
       "      <td>0.004273</td>\n",
       "      <td>0.010522</td>\n",
       "      <td>-0.011515</td>\n",
       "    </tr>\n",
       "    <tr>\n",
       "      <th>2018-01-09</th>\n",
       "      <td>-0.000614</td>\n",
       "      <td>0.005534</td>\n",
       "      <td>0.007877</td>\n",
       "    </tr>\n",
       "    <tr>\n",
       "      <th>...</th>\n",
       "      <td>...</td>\n",
       "      <td>...</td>\n",
       "      <td>...</td>\n",
       "    </tr>\n",
       "    <tr>\n",
       "      <th>2025-05-19</th>\n",
       "      <td>0.002628</td>\n",
       "      <td>-0.005296</td>\n",
       "      <td>0.005545</td>\n",
       "    </tr>\n",
       "    <tr>\n",
       "      <th>2025-05-20</th>\n",
       "      <td>-0.015190</td>\n",
       "      <td>0.004197</td>\n",
       "      <td>0.008088</td>\n",
       "    </tr>\n",
       "    <tr>\n",
       "      <th>2025-05-21</th>\n",
       "      <td>0.028672</td>\n",
       "      <td>-0.019525</td>\n",
       "      <td>-0.018600</td>\n",
       "    </tr>\n",
       "    <tr>\n",
       "      <th>2025-05-22</th>\n",
       "      <td>0.011290</td>\n",
       "      <td>0.000827</td>\n",
       "      <td>-0.018952</td>\n",
       "    </tr>\n",
       "    <tr>\n",
       "      <th>2025-05-23</th>\n",
       "      <td>-0.013897</td>\n",
       "      <td>-0.008518</td>\n",
       "      <td>0.006061</td>\n",
       "    </tr>\n",
       "  </tbody>\n",
       "</table>\n",
       "<p>1858 rows × 3 columns</p>\n",
       "</div>"
      ],
      "text/plain": [
       "Ticker          GOOG      ORCL      PRGO\n",
       "Date                                    \n",
       "2018-01-03  0.016413  0.023161 -0.002788\n",
       "2018-01-04  0.003621  0.009851  0.018337\n",
       "2018-01-05  0.014571  0.006019  0.001098\n",
       "2018-01-08  0.004273  0.010522 -0.011515\n",
       "2018-01-09 -0.000614  0.005534  0.007877\n",
       "...              ...       ...       ...\n",
       "2025-05-19  0.002628 -0.005296  0.005545\n",
       "2025-05-20 -0.015190  0.004197  0.008088\n",
       "2025-05-21  0.028672 -0.019525 -0.018600\n",
       "2025-05-22  0.011290  0.000827 -0.018952\n",
       "2025-05-23 -0.013897 -0.008518  0.006061\n",
       "\n",
       "[1858 rows x 3 columns]"
      ]
     },
     "execution_count": 7,
     "metadata": {},
     "output_type": "execute_result"
    }
   ],
   "source": [
    "daily_returns = prices.pct_change().dropna()\n",
    "daily_returns"
   ]
  },
  {
   "cell_type": "code",
   "execution_count": 8,
   "id": "7b17d5b2",
   "metadata": {},
   "outputs": [
    {
     "data": {
      "image/png": "[encoded data removed]",
      "text/plain": [
       "<Figure size 1400x700 with 1 Axes>"
      ]
     },
     "metadata": {},
     "output_type": "display_data"
    },
    {
     "data": {
      "image/png": "[encoded data removed]",
      "text/plain": [
       "<Figure size 1400x700 with 1 Axes>"
      ]
     },
     "metadata": {},
     "output_type": "display_data"
    },
    {
     "data": {
      "image/png": "[encoded data removed]",
      "text/plain": [
       "<Figure size 1400x700 with 1 Axes>"
      ]
     },
     "metadata": {},
     "output_type": "display_data"
    }
   ],
   "source": [
    "for stock in daily_returns.keys():\n",
    "    plt.figure(figsize=(14, 7))\n",
    "    plt.hist(daily_returns[stock],label=stock, density=True, bins=50)\n",
    "    plt.title(f'Distribución de Daily Returns de {stock}')\n",
    "    plt.xlabel('Daily Returns')\n",
    "    plt.ylabel('Probability')\n",
    "    plt.legend()\n",
    "    plt.show()"
   ]
  },
  {
   "cell_type": "code",
   "execution_count": 9,
   "id": "a54c2a13",
   "metadata": {},
   "outputs": [
    {
     "data": {
      "image/png": "[encoded data removed]",
      "text/plain": [
       "<Figure size 1400x700 with 1 Axes>"
      ]
     },
     "metadata": {},
     "output_type": "display_data"
    }
   ],
   "source": [
    "plt.figure(figsize=(14, 7))\n",
    "plt.hist(daily_returns, label=daily_returns.keys(), density=True, bins=50)\n",
    "plt.xlabel('Price')\n",
    "plt.ylabel('Probability')\n",
    "plt.legend()\n",
    "plt.show()"
   ]
  },
  {
   "cell_type": "code",
   "execution_count": 10,
   "id": "47644175",
   "metadata": {},
   "outputs": [
    {
     "data": {
      "text/html": [
       "<div>\n",
       "<style scoped>\n",
       "    .dataframe tbody tr th:only-of-type {\n",
       "        vertical-align: middle;\n",
       "    }\n",
       "\n",
       "    .dataframe tbody tr th {\n",
       "        vertical-align: top;\n",
       "    }\n",
       "\n",
       "    .dataframe thead th {\n",
       "        text-align: right;\n",
       "    }\n",
       "</style>\n",
       "<table border=\"1\" class=\"dataframe\">\n",
       "  <thead>\n",
       "    <tr style=\"text-align: right;\">\n",
       "      <th></th>\n",
       "      <th>Daily_rate</th>\n",
       "    </tr>\n",
       "    <tr>\n",
       "      <th>Ticker</th>\n",
       "      <th></th>\n",
       "    </tr>\n",
       "  </thead>\n",
       "  <tbody>\n",
       "    <tr>\n",
       "      <th>GOOG</th>\n",
       "      <td>0.000819</td>\n",
       "    </tr>\n",
       "    <tr>\n",
       "      <th>ORCL</th>\n",
       "      <td>0.000912</td>\n",
       "    </tr>\n",
       "    <tr>\n",
       "      <th>PRGO</th>\n",
       "      <td>-0.000287</td>\n",
       "    </tr>\n",
       "  </tbody>\n",
       "</table>\n",
       "</div>"
      ],
      "text/plain": [
       "        Daily_rate\n",
       "Ticker            \n",
       "GOOG      0.000819\n",
       "ORCL      0.000912\n",
       "PRGO     -0.000287"
      ]
     },
     "execution_count": 10,
     "metadata": {},
     "output_type": "execute_result"
    }
   ],
   "source": [
    "df= pd.DataFrame(columns=daily_returns.keys()).T\n",
    "df['Daily_rate']= daily_returns.mean()\n",
    "df[['Daily_rate']]"
   ]
  },
  {
   "cell_type": "markdown",
   "id": "0ff2c2ea",
   "metadata": {},
   "source": [
    "---"
   ]
  },
  {
   "cell_type": "markdown",
   "id": "0430e347",
   "metadata": {},
   "source": [
    "### Rendimiento promedio Anual"
   ]
  },
  {
   "cell_type": "code",
   "execution_count": 11,
   "id": "aec9431c",
   "metadata": {},
   "outputs": [
    {
     "data": {
      "text/html": [
       "<div>\n",
       "<style scoped>\n",
       "    .dataframe tbody tr th:only-of-type {\n",
       "        vertical-align: middle;\n",
       "    }\n",
       "\n",
       "    .dataframe tbody tr th {\n",
       "        vertical-align: top;\n",
       "    }\n",
       "\n",
       "    .dataframe thead th {\n",
       "        text-align: right;\n",
       "    }\n",
       "</style>\n",
       "<table border=\"1\" class=\"dataframe\">\n",
       "  <thead>\n",
       "    <tr style=\"text-align: right;\">\n",
       "      <th></th>\n",
       "      <th>Anual_rate</th>\n",
       "    </tr>\n",
       "    <tr>\n",
       "      <th>Ticker</th>\n",
       "      <th></th>\n",
       "    </tr>\n",
       "  </thead>\n",
       "  <tbody>\n",
       "    <tr>\n",
       "      <th>GOOG</th>\n",
       "      <td>0.206322</td>\n",
       "    </tr>\n",
       "    <tr>\n",
       "      <th>ORCL</th>\n",
       "      <td>0.229883</td>\n",
       "    </tr>\n",
       "    <tr>\n",
       "      <th>PRGO</th>\n",
       "      <td>-0.072242</td>\n",
       "    </tr>\n",
       "  </tbody>\n",
       "</table>\n",
       "</div>"
      ],
      "text/plain": [
       "        Anual_rate\n",
       "Ticker            \n",
       "GOOG      0.206322\n",
       "ORCL      0.229883\n",
       "PRGO     -0.072242"
      ]
     },
     "execution_count": 11,
     "metadata": {},
     "output_type": "execute_result"
    }
   ],
   "source": [
    "df['Anual_rate']= daily_returns.mean()*252\n",
    "df[['Anual_rate']]"
   ]
  },
  {
   "cell_type": "markdown",
   "id": "cdcaf69e",
   "metadata": {},
   "source": [
    "---"
   ]
  },
  {
   "cell_type": "markdown",
   "id": "d332ccbb",
   "metadata": {},
   "source": [
    "### Riesgo anual "
   ]
  },
  {
   "cell_type": "markdown",
   "id": "8a4c3398",
   "metadata": {},
   "source": [
    "#### Varianza"
   ]
  },
  {
   "cell_type": "code",
   "execution_count": 12,
   "id": "9b04c53b",
   "metadata": {},
   "outputs": [
    {
     "data": {
      "text/html": [
       "<div>\n",
       "<style scoped>\n",
       "    .dataframe tbody tr th:only-of-type {\n",
       "        vertical-align: middle;\n",
       "    }\n",
       "\n",
       "    .dataframe tbody tr th {\n",
       "        vertical-align: top;\n",
       "    }\n",
       "\n",
       "    .dataframe thead th {\n",
       "        text-align: right;\n",
       "    }\n",
       "</style>\n",
       "<table border=\"1\" class=\"dataframe\">\n",
       "  <thead>\n",
       "    <tr style=\"text-align: right;\">\n",
       "      <th></th>\n",
       "      <th>Anual_var</th>\n",
       "    </tr>\n",
       "    <tr>\n",
       "      <th>Ticker</th>\n",
       "      <th></th>\n",
       "    </tr>\n",
       "  </thead>\n",
       "  <tbody>\n",
       "    <tr>\n",
       "      <th>GOOG</th>\n",
       "      <td>0.006110</td>\n",
       "    </tr>\n",
       "    <tr>\n",
       "      <th>ORCL</th>\n",
       "      <td>0.006380</td>\n",
       "    </tr>\n",
       "    <tr>\n",
       "      <th>PRGO</th>\n",
       "      <td>0.008398</td>\n",
       "    </tr>\n",
       "  </tbody>\n",
       "</table>\n",
       "</div>"
      ],
      "text/plain": [
       "        Anual_var\n",
       "Ticker           \n",
       "GOOG     0.006110\n",
       "ORCL     0.006380\n",
       "PRGO     0.008398"
      ]
     },
     "execution_count": 12,
     "metadata": {},
     "output_type": "execute_result"
    }
   ],
   "source": [
    "df['Anual_var']=daily_returns.var()*np.sqrt(252)\n",
    "df[['Anual_var']]"
   ]
  },
  {
   "cell_type": "markdown",
   "id": "b4ed245a",
   "metadata": {},
   "source": [
    "#### Desviación Estándar / Volatilidad"
   ]
  },
  {
   "cell_type": "code",
   "execution_count": 13,
   "id": "e28ba420",
   "metadata": {},
   "outputs": [
    {
     "data": {
      "text/html": [
       "<div>\n",
       "<style scoped>\n",
       "    .dataframe tbody tr th:only-of-type {\n",
       "        vertical-align: middle;\n",
       "    }\n",
       "\n",
       "    .dataframe tbody tr th {\n",
       "        vertical-align: top;\n",
       "    }\n",
       "\n",
       "    .dataframe thead th {\n",
       "        text-align: right;\n",
       "    }\n",
       "</style>\n",
       "<table border=\"1\" class=\"dataframe\">\n",
       "  <thead>\n",
       "    <tr style=\"text-align: right;\">\n",
       "      <th></th>\n",
       "      <th>Anual_Vol</th>\n",
       "    </tr>\n",
       "    <tr>\n",
       "      <th>Ticker</th>\n",
       "      <th></th>\n",
       "    </tr>\n",
       "  </thead>\n",
       "  <tbody>\n",
       "    <tr>\n",
       "      <th>GOOG</th>\n",
       "      <td>0.311437</td>\n",
       "    </tr>\n",
       "    <tr>\n",
       "      <th>ORCL</th>\n",
       "      <td>0.318236</td>\n",
       "    </tr>\n",
       "    <tr>\n",
       "      <th>PRGO</th>\n",
       "      <td>0.365124</td>\n",
       "    </tr>\n",
       "  </tbody>\n",
       "</table>\n",
       "</div>"
      ],
      "text/plain": [
       "        Anual_Vol\n",
       "Ticker           \n",
       "GOOG     0.311437\n",
       "ORCL     0.318236\n",
       "PRGO     0.365124"
      ]
     },
     "execution_count": 13,
     "metadata": {},
     "output_type": "execute_result"
    }
   ],
   "source": [
    "df['Anual_Vol']= daily_returns.std()*np.sqrt(252)\n",
    "df[['Anual_Vol']]"
   ]
  },
  {
   "cell_type": "markdown",
   "id": "ea3d6050",
   "metadata": {},
   "source": [
    "---"
   ]
  },
  {
   "cell_type": "markdown",
   "id": "8e1074a8",
   "metadata": {},
   "source": [
    "### Coeficiente de Variación"
   ]
  },
  {
   "cell_type": "code",
   "execution_count": 14,
   "id": "877a96e4",
   "metadata": {},
   "outputs": [
    {
     "data": {
      "text/plain": [
       "Ticker\n",
       "GOOG    1.509472\n",
       "ORCL    1.384338\n",
       "PRGO   -5.054204\n",
       "Name: CV, dtype: float64"
      ]
     },
     "execution_count": 14,
     "metadata": {},
     "output_type": "execute_result"
    }
   ],
   "source": [
    "df['CV'] = df['Anual_Vol'] / df['Anual_rate']\n",
    "df['CV']"
   ]
  },
  {
   "cell_type": "markdown",
   "id": "85dd9346",
   "metadata": {},
   "source": [
    "---"
   ]
  },
  {
   "cell_type": "markdown",
   "id": "1e6873c1",
   "metadata": {},
   "source": [
    "### Asimetría"
   ]
  },
  {
   "cell_type": "code",
   "execution_count": 15,
   "id": "8ba61f2a",
   "metadata": {},
   "outputs": [
    {
     "data": {
      "text/html": [
       "<div>\n",
       "<style scoped>\n",
       "    .dataframe tbody tr th:only-of-type {\n",
       "        vertical-align: middle;\n",
       "    }\n",
       "\n",
       "    .dataframe tbody tr th {\n",
       "        vertical-align: top;\n",
       "    }\n",
       "\n",
       "    .dataframe thead th {\n",
       "        text-align: right;\n",
       "    }\n",
       "</style>\n",
       "<table border=\"1\" class=\"dataframe\">\n",
       "  <thead>\n",
       "    <tr style=\"text-align: right;\">\n",
       "      <th></th>\n",
       "      <th>Skewness</th>\n",
       "    </tr>\n",
       "    <tr>\n",
       "      <th>Ticker</th>\n",
       "      <th></th>\n",
       "    </tr>\n",
       "  </thead>\n",
       "  <tbody>\n",
       "    <tr>\n",
       "      <th>GOOG</th>\n",
       "      <td>-0.046298</td>\n",
       "    </tr>\n",
       "    <tr>\n",
       "      <th>ORCL</th>\n",
       "      <td>0.629871</td>\n",
       "    </tr>\n",
       "    <tr>\n",
       "      <th>PRGO</th>\n",
       "      <td>-1.287364</td>\n",
       "    </tr>\n",
       "  </tbody>\n",
       "</table>\n",
       "</div>"
      ],
      "text/plain": [
       "        Skewness\n",
       "Ticker          \n",
       "GOOG   -0.046298\n",
       "ORCL    0.629871\n",
       "PRGO   -1.287364"
      ]
     },
     "execution_count": 15,
     "metadata": {},
     "output_type": "execute_result"
    }
   ],
   "source": [
    "df['Skewness']= daily_returns.skew()\n",
    "df[['Skewness']]"
   ]
  },
  {
   "cell_type": "markdown",
   "id": "514dcf19",
   "metadata": {},
   "source": [
    "---"
   ]
  },
  {
   "cell_type": "code",
   "execution_count": 16,
   "id": "b61a3678",
   "metadata": {},
   "outputs": [
    {
     "data": {
      "text/plain": [
       "array([0.33333333, 0.33333333, 0.33333333])"
      ]
     },
     "execution_count": 16,
     "metadata": {},
     "output_type": "execute_result"
    }
   ],
   "source": [
    "w= np.ones(3)/3\n",
    "w"
   ]
  },
  {
   "cell_type": "code",
   "execution_count": 17,
   "id": "a1eb1343",
   "metadata": {},
   "outputs": [
    {
     "data": {
      "text/plain": [
       "12.132113050346858"
      ]
     },
     "execution_count": 17,
     "metadata": {},
     "output_type": "execute_result"
    }
   ],
   "source": [
    "Rend_port = sum(df['Anual_rate'] * w)\n",
    "Rend_port*100"
   ]
  },
  {
   "cell_type": "code",
   "execution_count": 18,
   "id": "62fee4d5",
   "metadata": {},
   "outputs": [
    {
     "data": {
      "text/html": [
       "<div>\n",
       "<style scoped>\n",
       "    .dataframe tbody tr th:only-of-type {\n",
       "        vertical-align: middle;\n",
       "    }\n",
       "\n",
       "    .dataframe tbody tr th {\n",
       "        vertical-align: top;\n",
       "    }\n",
       "\n",
       "    .dataframe thead th {\n",
       "        text-align: right;\n",
       "    }\n",
       "</style>\n",
       "<table border=\"1\" class=\"dataframe\">\n",
       "  <thead>\n",
       "    <tr style=\"text-align: right;\">\n",
       "      <th>Ticker</th>\n",
       "      <th>GOOG</th>\n",
       "      <th>ORCL</th>\n",
       "      <th>PRGO</th>\n",
       "    </tr>\n",
       "    <tr>\n",
       "      <th>Ticker</th>\n",
       "      <th></th>\n",
       "      <th></th>\n",
       "      <th></th>\n",
       "    </tr>\n",
       "  </thead>\n",
       "  <tbody>\n",
       "    <tr>\n",
       "      <th>GOOG</th>\n",
       "      <td>0.000385</td>\n",
       "      <td>0.000181</td>\n",
       "      <td>0.000119</td>\n",
       "    </tr>\n",
       "    <tr>\n",
       "      <th>ORCL</th>\n",
       "      <td>0.000181</td>\n",
       "      <td>0.000402</td>\n",
       "      <td>0.000119</td>\n",
       "    </tr>\n",
       "    <tr>\n",
       "      <th>PRGO</th>\n",
       "      <td>0.000119</td>\n",
       "      <td>0.000119</td>\n",
       "      <td>0.000529</td>\n",
       "    </tr>\n",
       "  </tbody>\n",
       "</table>\n",
       "</div>"
      ],
      "text/plain": [
       "Ticker      GOOG      ORCL      PRGO\n",
       "Ticker                              \n",
       "GOOG    0.000385  0.000181  0.000119\n",
       "ORCL    0.000181  0.000402  0.000119\n",
       "PRGO    0.000119  0.000119  0.000529"
      ]
     },
     "execution_count": 18,
     "metadata": {},
     "output_type": "execute_result"
    }
   ],
   "source": [
    "COV = daily_returns.cov()\n",
    "COV"
   ]
  },
  {
   "cell_type": "code",
   "execution_count": 19,
   "id": "9d0a6755",
   "metadata": {},
   "outputs": [
    {
     "data": {
      "text/plain": [
       "(6.032316080770612, 24.560773767881606)"
      ]
     },
     "execution_count": 19,
     "metadata": {},
     "output_type": "execute_result"
    }
   ],
   "source": [
    "Var_port = (w.T @ COV @ w) * 252\n",
    "Volat_port = np.sqrt(Var_port)\n",
    "Var_port*100, Volat_port*100"
   ]
  },
  {
   "cell_type": "markdown",
   "id": "f0aa9152",
   "metadata": {},
   "source": [
    "### Todos"
   ]
  },
  {
   "cell_type": "code",
   "execution_count": 20,
   "id": "a7acda4c",
   "metadata": {},
   "outputs": [
    {
     "data": {
      "text/html": [
       "<div>\n",
       "<style scoped>\n",
       "    .dataframe tbody tr th:only-of-type {\n",
       "        vertical-align: middle;\n",
       "    }\n",
       "\n",
       "    .dataframe tbody tr th {\n",
       "        vertical-align: top;\n",
       "    }\n",
       "\n",
       "    .dataframe thead th {\n",
       "        text-align: right;\n",
       "    }\n",
       "</style>\n",
       "<table border=\"1\" class=\"dataframe\">\n",
       "  <thead>\n",
       "    <tr style=\"text-align: right;\">\n",
       "      <th></th>\n",
       "      <th>Daily_rate</th>\n",
       "      <th>Anual_rate</th>\n",
       "      <th>Anual_var</th>\n",
       "      <th>Anual_Vol</th>\n",
       "      <th>CV</th>\n",
       "      <th>Skewness</th>\n",
       "    </tr>\n",
       "    <tr>\n",
       "      <th>Ticker</th>\n",
       "      <th></th>\n",
       "      <th></th>\n",
       "      <th></th>\n",
       "      <th></th>\n",
       "      <th></th>\n",
       "      <th></th>\n",
       "    </tr>\n",
       "  </thead>\n",
       "  <tbody>\n",
       "    <tr>\n",
       "      <th>GOOG</th>\n",
       "      <td>0.081874</td>\n",
       "      <td>20.632155</td>\n",
       "      <td>0.610997</td>\n",
       "      <td>31.143660</td>\n",
       "      <td>150.947200</td>\n",
       "      <td>-4.629822</td>\n",
       "    </tr>\n",
       "    <tr>\n",
       "      <th>ORCL</th>\n",
       "      <td>0.091224</td>\n",
       "      <td>22.988340</td>\n",
       "      <td>0.637968</td>\n",
       "      <td>31.823629</td>\n",
       "      <td>138.433779</td>\n",
       "      <td>62.987098</td>\n",
       "    </tr>\n",
       "    <tr>\n",
       "      <th>PRGO</th>\n",
       "      <td>-0.028667</td>\n",
       "      <td>-7.224156</td>\n",
       "      <td>0.839807</td>\n",
       "      <td>36.512358</td>\n",
       "      <td>-505.420400</td>\n",
       "      <td>-128.736418</td>\n",
       "    </tr>\n",
       "  </tbody>\n",
       "</table>\n",
       "</div>"
      ],
      "text/plain": [
       "        Daily_rate  Anual_rate  Anual_var  Anual_Vol          CV    Skewness\n",
       "Ticker                                                                      \n",
       "GOOG      0.081874   20.632155   0.610997  31.143660  150.947200   -4.629822\n",
       "ORCL      0.091224   22.988340   0.637968  31.823629  138.433779   62.987098\n",
       "PRGO     -0.028667   -7.224156   0.839807  36.512358 -505.420400 -128.736418"
      ]
     },
     "execution_count": 20,
     "metadata": {},
     "output_type": "execute_result"
    }
   ],
   "source": [
    "df*100"
   ]
  },
  {
   "cell_type": "markdown",
   "id": "09ff5d2d",
   "metadata": {},
   "source": [
    "---"
   ]
  },
  {
   "cell_type": "markdown",
   "id": "ca15bd66",
   "metadata": {},
   "source": [
    "### Conclusión"
   ]
  },
  {
   "cell_type": "markdown",
   "id": "9814600e",
   "metadata": {},
   "source": [
    "Esto nos indica que el mejor activo, el cual tiene mejor rendimiento diario y anual, es el de `ORCL`, pero con un riesgo bastante elevado, por lo que no sería lo más recomendable si lo que se busca es seguridad al invertir nuestro dinero. Aun así, muestra un buen equilibrio entre el riesgo y el retorno.\n",
    "\n",
    "También se puede decir que `PRGO` es un activo que no tiene un buen rendimiento, pero podría parecer más seguro al momento de invertir, ya que da la impresión de no tener un riesgo tan alto. Sin embargo, tiende a generar más pérdidas que ganancias, lo cual lo vuelve poco atractivo.\n",
    "\n",
    "Por su parte, `GOOG` es un activo que presenta un mayor equilibrio en comparación con los otros dos, ya que tiene buenos rendimientos anuales de 20.63% y una relación aceptable entre riesgo y retorno. En cuanto a su asimetría, podría indicar una ligera inclinación hacia las pérdidas, pero no tan marcada.\n",
    "\n",
    "\n",
    "En conclusión, `ORCL` y `GOOG` pueden considerarse los dos activos más atractivos, dependiendo de lo que se esté buscando. Ambas son buenas opciones, ya que muestran un equilibrio entre el riesgo y el retorno. Sin embargo, podría decirse que invertir en `ORCL` es la mejor opción frente a las otras dos, ya que presenta un mejor rendimiento diario y anual, aunque su riesgo sea ligeramente mayor que el de `GOOG`.\n",
    "\n",
    "\n"
   ]
  }
 ],
 "metadata": {
  "kernelspec": {
   "display_name": "Python 3",
   "language": "python",
   "name": "python3"
  },
  "language_info": {
   "codemirror_mode": {
    "name": "ipython",
    "version": 3
   },
   "file_extension": ".py",
   "mimetype": "text/x-python",
   "name": "python",
   "nbconvert_exporter": "python",
   "pygments_lexer": "ipython3",
   "version": "3.12.8"
  }
 },
 "nbformat": 4,
 "nbformat_minor": 5
}
