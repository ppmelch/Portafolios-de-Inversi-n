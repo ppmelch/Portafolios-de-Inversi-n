{
 "cells": [
  {
   "cell_type": "markdown",
   "id": "cbac7a77",
   "metadata": {},
   "source": [
    "# Portafolios de Inversión\n",
    "## Tarea 6\n",
    "\n",
    "Presenta : \n",
    "\n",
    "- José Armando Melchor Soto\n",
    "\n",
    "- Paula Ines Pelayo Morales "
   ]
  },
  {
   "cell_type": "markdown",
   "id": "240758dd",
   "metadata": {},
   "source": [
    "---\n",
    "### Librerías \n",
    "\n"
   ]
  },
  {
   "cell_type": "code",
   "execution_count": 1,
   "id": "dd545771",
   "metadata": {},
   "outputs": [],
   "source": [
    "import pandas as pd \n",
    "import numpy as np\n",
    "import yfinance as yf\n",
    "import matplotlib.pyplot as plt\n",
    "from scipy.optimize import minimize "
   ]
  },
  {
   "cell_type": "markdown",
   "id": "8b061993",
   "metadata": {},
   "source": [
    "---"
   ]
  },
  {
   "cell_type": "markdown",
   "id": "c6876dc0",
   "metadata": {},
   "source": [
    "#### Indicaciones "
   ]
  },
  {
   "cell_type": "markdown",
   "id": "9e924287",
   "metadata": {},
   "source": [
    "- Punto a) Implementen tres funciones que optimicen portafolios utilizando: mínima semivarianza, ratio omega y semivarianza objetivo, empleando la función `scipy.optimize.minimize`. (40%)\n",
    " \n",
    "\n",
    "- Punto b) Construyan un portafolio compuesto por 5 activos financieros y optimícenlo con los tres métodos. Utilicen las funciones desarrolladas en el punto a) para realizar la optimización. Recuerden que, para el portafolio con semivarianza objetivo, deberán seleccionar un benchmark adecuado y consistente con los activos elegidos. Como respuesta a este punto, se esperan las ponderaciones eficientes y el valor óptimo de la función objetivo para cada método de Asset Allocation. (40%)\n",
    " \n",
    "\n",
    "- Punto c) Escriban una breve conclusión sobre las ventajas y desventajas que observan entre los métodos TMP y TPMP. (20%)"
   ]
  },
  {
   "cell_type": "markdown",
   "id": "80c0ad9c",
   "metadata": {},
   "source": [
    "---"
   ]
  },
  {
   "cell_type": "markdown",
   "id": "2c145694",
   "metadata": {},
   "source": [
    "#### Funciones "
   ]
  },
  {
   "cell_type": "markdown",
   "id": "4ea98e7e",
   "metadata": {},
   "source": [
    "#### Minimizar Semi-Varianza"
   ]
  },
  {
   "cell_type": "markdown",
   "id": "1204cb8e",
   "metadata": {},
   "source": [
    "**Minimizar semivarianza**\n",
    "\n",
    "$$min_w \\hspace{0.5cm} \\sigma_d^2 = w^T S w$$\n",
    "    \n",
    "$$s.a. \\hspace{0.5cm} \\sum_{i=1}^n w_i = 1$$\n",
    " \n",
    "$$\\hspace{0.8cm} w_i > 0 $$\n",
    "\n"
   ]
  },
  {
   "cell_type": "markdown",
   "id": "f4598895",
   "metadata": {},
   "source": [
    "##### Mínima Semi-Varianza  (Montecarlo)"
   ]
  },
  {
   "cell_type": "code",
   "execution_count": 2,
   "id": "8d305937",
   "metadata": {},
   "outputs": [],
   "source": [
    "def semi_var (rets:pd.DataFrame, corr:pd.DataFrame, n_simulaciones:int):\n",
    "    \n",
    "    rets_below_zero=rets[rets < 0].fillna(0)\n",
    "    \n",
    "    downside_risk=rets_below_zero.std()\n",
    "\n",
    "    downside_risk=np.array(downside_risk)\n",
    "    \n",
    "    semivar_matrix = downside_risk.reshape(len(rets.columns), 1) @ downside_risk.reshape(1, len(rets.columns)) * corr\n",
    "    \n",
    "    n_assets = len(rets.keys())\n",
    "    \n",
    "    w = np.random.dirichlet(np.ones(n_assets), n_simulaciones)\n",
    "\n",
    "    semivar_list=[w.T @ semivar_matrix @ w for w in w ]\n",
    "    \n",
    "    w_semivariance=w[np.argmin(semivar_list)]\n",
    "\n",
    "    return dict(zip(rets.columns, w_semivariance))    "
   ]
  },
  {
   "cell_type": "markdown",
   "id": "61b69572",
   "metadata": {},
   "source": [
    "##### Mínima Semi-Varianza  (Scipy Library)"
   ]
  },
  {
   "cell_type": "code",
   "execution_count": 3,
   "id": "aba866ce",
   "metadata": {},
   "outputs": [],
   "source": [
    "def scipy_semivar(rets: pd.DataFrame, corr: pd.DataFrame):\n",
    "\n",
    "    rets_below_zero=rets[rets < 0].fillna(0)\n",
    "    \n",
    "    downside_risk=rets_below_zero.std()\n",
    "\n",
    "    downside_risk=np.array(downside_risk)\n",
    "    \n",
    "    semivar_matrix = downside_risk.reshape(len(rets.columns), 1) @ downside_risk.reshape(1, len(rets.columns)) * corr\n",
    "\n",
    "    n = len(rets.columns)\n",
    "    w_inicial = np.ones(n) / n\n",
    "    bounds = [(0, 1)] * n\n",
    "    tol = 1e-9\n",
    "\n",
    "    semivar = lambda w: (w.T @ semivar_matrix @ w)\n",
    "\n",
    "    constraints = {'fun': lambda w: np.sum(w) - 1, 'type': 'eq'}\n",
    "\n",
    "    minima_semi_var = minimize(\n",
    "        fun=semivar,\n",
    "        x0=w_inicial,\n",
    "        bounds=bounds,\n",
    "        constraints=constraints,\n",
    "        tol=tol)\n",
    "\n",
    "    w_semi_var = minima_semi_var.x\n",
    "    return dict(zip(rets.columns, w_semi_var))\n"
   ]
  },
  {
   "cell_type": "markdown",
   "id": "8f5a2f4c",
   "metadata": {},
   "source": [
    "---"
   ]
  },
  {
   "cell_type": "markdown",
   "id": "91f42576",
   "metadata": {},
   "source": [
    "#### Ratio Omega "
   ]
  },
  {
   "cell_type": "markdown",
   "id": "4e9d5485",
   "metadata": {},
   "source": [
    "**Calcular Omega del portafolio y maximizarla cambiando ponderaciones.**\n",
    "\n",
    "$$max_w \\hspace{0.5cm} \\Omega_p = \\sum_{i=1}^{n} \\Omega_i * w_i$$\n",
    "    \n",
    "$$s.a. \\hspace{0.5cm} \\sum_{i=1}^n w_i = 1$$\n",
    " \n",
    "$$\\hspace{0.8cm} w_i > 0 $$"
   ]
  },
  {
   "cell_type": "markdown",
   "id": "05e7d1a6",
   "metadata": {},
   "source": [
    "##### Ratio Omega (Montecarlo)"
   ]
  },
  {
   "cell_type": "code",
   "execution_count": 4,
   "id": "2b3aabb8",
   "metadata": {},
   "outputs": [],
   "source": [
    "def Omega (rets:pd.DataFrame ,n_simulaciones:int):\n",
    "\n",
    "    rets_below_zero=rets[rets < 0].fillna(0)\n",
    "    rets_above_zero=rets[rets > 0].fillna(0)\n",
    "    upside_risk=rets_above_zero.std()\n",
    "    upside_risk=np.array(upside_risk)\n",
    "    downside_risk=rets_below_zero.std()\n",
    "    downside_risk=np.array(downside_risk)\n",
    "    \n",
    "    random_weights = np.random.dirichlet(np.ones(len(rets.columns)), n_simulaciones)\n",
    "    \n",
    "    omega = lambda w: [sum(w * upside_risk/downside_risk) for w in random_weights]\n",
    "\n",
    "    w_omega=random_weights[np.argmax(omega)]\n",
    "\n",
    "    return dict(zip(rets.columns, w_omega))"
   ]
  },
  {
   "cell_type": "markdown",
   "id": "3af37c67",
   "metadata": {},
   "source": [
    "##### Ratio Omega (Scipy Library)"
   ]
  },
  {
   "cell_type": "code",
   "execution_count": 5,
   "id": "a5b86104",
   "metadata": {},
   "outputs": [],
   "source": [
    "def scipy_omega(rets: pd.DataFrame):\n",
    "    n = len(rets.columns)\n",
    "    w_inicial = np.ones(n) / n\n",
    "    bounds = [(0, 1)] * n\n",
    "    tol = 1e-9\n",
    "\n",
    "    rets_below_zero = rets[rets < 0].fillna(0)\n",
    "    rets_above_zero = rets[rets > 0].fillna(0)\n",
    "    upside_risk=rets_above_zero.std()\n",
    "    downside_risk = rets_below_zero.std()\n",
    "\n",
    "    omega_ind = upside_risk / downside_risk\n",
    "\n",
    "    Omega_neg = lambda w: -np.sum(w * omega_ind)\n",
    "\n",
    "    constraints = {'fun': lambda w: np.sum(w) - 1, 'type': 'eq'}\n",
    "\n",
    "    result = minimize(\n",
    "        fun=Omega_neg,\n",
    "        x0=w_inicial,\n",
    "        bounds=bounds,\n",
    "        constraints=constraints,\n",
    "        tol=tol\n",
    "    )\n",
    "\n",
    "    w_omega = result.x\n",
    "    return dict(zip(rets.columns, w_omega))\n"
   ]
  },
  {
   "cell_type": "markdown",
   "id": "eb719456",
   "metadata": {},
   "source": [
    "---"
   ]
  },
  {
   "cell_type": "markdown",
   "id": "25452323",
   "metadata": {},
   "source": [
    "#### Semi-Varianza Objetivo"
   ]
  },
  {
   "cell_type": "markdown",
   "id": "3e37bd03",
   "metadata": {},
   "source": [
    "##### Semi-Varianza Objetivo (Montecarlo)"
   ]
  },
  {
   "cell_type": "code",
   "execution_count": 6,
   "id": "291beae8",
   "metadata": {},
   "outputs": [],
   "source": [
    "def monte_objetivo (rets:pd.DataFrame,rets_b:pd.DataFrame,  corr:pd.DataFrame, n_simulaciones:int):\n",
    "    diffs=rets - rets_b.values\n",
    "    rends_below_bench = diffs[diffs < 0].fillna(0)\n",
    "    target_downside_risk=np.array(rends_below_bench.std())\n",
    "    target_semivarmatrix=corr * (target_downside_risk.reshape(len(rets.columns), 1) @ target_downside_risk.reshape(1, len(rets.columns)))\n",
    "    random_weights=np.random.dirichlet(np.ones(len(rets.columns)), n_simulaciones)\n",
    "    \n",
    "    objectivo = lambda w: (w.T @ target_semivarmatrix @ w for w in random_weights)\n",
    "    \n",
    "    w_target_semivariance=random_weights[np.argmin(objectivo)]\n",
    "\n",
    "    return dict(zip(rets.columns, w_target_semivariance*100))\n"
   ]
  },
  {
   "cell_type": "markdown",
   "id": "6e0bc01d",
   "metadata": {},
   "source": [
    "##### Semi-Varianza Objetivo (Scipy)"
   ]
  },
  {
   "cell_type": "code",
   "execution_count": 7,
   "id": "2c4b20df",
   "metadata": {},
   "outputs": [],
   "source": [
    "def objetivo (rets:pd.DataFrame , rets_b : pd.DataFrame ,corr:pd.DataFrame):\n",
    "\n",
    "    n = len(rets.keys())\n",
    "    w_inicial = np.ones(n)/n\n",
    "    bounds = [(0,1)]*n\n",
    "    tol = 1e-9\n",
    "    rest = lambda w: np.sum(w) - 1\n",
    "    \n",
    "    diffs=rets - rets_b.values\n",
    "    rends_below_bench = diffs[diffs < 0].fillna(0)\n",
    "    target_downside_risk=np.array(rends_below_bench.std())\n",
    "    target_semivarmatrix= corr * (target_downside_risk.reshape(len(rets.columns), 1) @ target_downside_risk.reshape(1, len(rets.columns)))\n",
    "\n",
    "    objectivo = lambda w: (w.T @ target_semivarmatrix @ w)\n",
    "\n",
    "\n",
    "    obj = minimize(\n",
    "    fun=objectivo,\n",
    "    x0=w_inicial,\n",
    "    bounds=bounds,\n",
    "    constraints={'fun': rest, 'type': 'eq'},\n",
    "    tol=tol)\n",
    "\n",
    "    w_objetivo = obj.x\n",
    "\n",
    "    return dict(zip(rets.columns, w_objetivo))"
   ]
  },
  {
   "cell_type": "markdown",
   "id": "18b25744",
   "metadata": {},
   "source": [
    "---"
   ]
  },
  {
   "cell_type": "markdown",
   "id": "45caeb0b",
   "metadata": {},
   "source": [
    "#### Construcción del Portafolio "
   ]
  },
  {
   "cell_type": "markdown",
   "id": "929cfbd3",
   "metadata": {},
   "source": [
    "##### Activos "
   ]
  },
  {
   "cell_type": "markdown",
   "id": "a5b03582",
   "metadata": {},
   "source": [
    "- \n",
    "\n",
    "-\n",
    "\n",
    "-\n",
    "\n",
    "-\n",
    "\n",
    "-\n"
   ]
  },
  {
   "cell_type": "markdown",
   "id": "c16bb097",
   "metadata": {},
   "source": [
    "##### Benchmark"
   ]
  },
  {
   "cell_type": "markdown",
   "id": "1a4e8cd0",
   "metadata": {},
   "source": [
    "- "
   ]
  },
  {
   "cell_type": "markdown",
   "id": "04465ecf",
   "metadata": {},
   "source": [
    "---"
   ]
  },
  {
   "cell_type": "markdown",
   "id": "6c255a99",
   "metadata": {},
   "source": [
    "#### Importación de los datos"
   ]
  },
  {
   "cell_type": "markdown",
   "id": "7dd36a57",
   "metadata": {},
   "source": [
    "##### Activos "
   ]
  },
  {
   "cell_type": "code",
   "execution_count": 8,
   "id": "524c0c7c",
   "metadata": {},
   "outputs": [
    {
     "name": "stdout",
     "output_type": "stream",
     "text": [
      "YF.download() has changed argument auto_adjust default to True\n"
     ]
    },
    {
     "name": "stderr",
     "output_type": "stream",
     "text": [
      "[*********************100%***********************]  4 of 4 completed\n"
     ]
    },
    {
     "data": {
      "text/html": [
       "<div>\n",
       "<style scoped>\n",
       "    .dataframe tbody tr th:only-of-type {\n",
       "        vertical-align: middle;\n",
       "    }\n",
       "\n",
       "    .dataframe tbody tr th {\n",
       "        vertical-align: top;\n",
       "    }\n",
       "\n",
       "    .dataframe thead th {\n",
       "        text-align: right;\n",
       "    }\n",
       "</style>\n",
       "<table border=\"1\" class=\"dataframe\">\n",
       "  <thead>\n",
       "    <tr style=\"text-align: right;\">\n",
       "      <th>Ticker</th>\n",
       "      <th>FNV.TO</th>\n",
       "      <th>NWG.L</th>\n",
       "      <th>SAP.DE</th>\n",
       "      <th>TSM</th>\n",
       "    </tr>\n",
       "    <tr>\n",
       "      <th>Date</th>\n",
       "      <th></th>\n",
       "      <th></th>\n",
       "      <th></th>\n",
       "      <th></th>\n",
       "    </tr>\n",
       "  </thead>\n",
       "  <tbody>\n",
       "    <tr>\n",
       "      <th>2020-01-02</th>\n",
       "      <td>127.809723</td>\n",
       "      <td>262.509766</td>\n",
       "      <td>114.211533</td>\n",
       "      <td>54.292786</td>\n",
       "    </tr>\n",
       "    <tr>\n",
       "      <th>2020-01-03</th>\n",
       "      <td>127.524475</td>\n",
       "      <td>256.062469</td>\n",
       "      <td>112.769844</td>\n",
       "      <td>52.502319</td>\n",
       "    </tr>\n",
       "    <tr>\n",
       "      <th>2020-01-06</th>\n",
       "      <td>128.075989</td>\n",
       "      <td>257.889252</td>\n",
       "      <td>111.927307</td>\n",
       "      <td>51.896446</td>\n",
       "    </tr>\n",
       "    <tr>\n",
       "      <th>2020-01-07</th>\n",
       "      <td>128.722519</td>\n",
       "      <td>258.533936</td>\n",
       "      <td>112.432831</td>\n",
       "      <td>52.737431</td>\n",
       "    </tr>\n",
       "    <tr>\n",
       "      <th>2020-01-08</th>\n",
       "      <td>124.938217</td>\n",
       "      <td>258.211609</td>\n",
       "      <td>113.106865</td>\n",
       "      <td>53.126274</td>\n",
       "    </tr>\n",
       "  </tbody>\n",
       "</table>\n",
       "</div>"
      ],
      "text/plain": [
       "Ticker          FNV.TO       NWG.L      SAP.DE        TSM\n",
       "Date                                                     \n",
       "2020-01-02  127.809723  262.509766  114.211533  54.292786\n",
       "2020-01-03  127.524475  256.062469  112.769844  52.502319\n",
       "2020-01-06  128.075989  257.889252  111.927307  51.896446\n",
       "2020-01-07  128.722519  258.533936  112.432831  52.737431\n",
       "2020-01-08  124.938217  258.211609  113.106865  53.126274"
      ]
     },
     "execution_count": 8,
     "metadata": {},
     "output_type": "execute_result"
    }
   ],
   "source": [
    "prices = yf.download(['FNV.TO', 'NWG.L' ,'TSM' , 'SAP.DE'], start='2020-01-01', end='2025-06-19')['Close']\n",
    "prices.head()"
   ]
  },
  {
   "cell_type": "markdown",
   "id": "712088c0",
   "metadata": {},
   "source": [
    "##### Benchmarck "
   ]
  },
  {
   "cell_type": "code",
   "execution_count": 9,
   "id": "31ff2d84",
   "metadata": {},
   "outputs": [
    {
     "name": "stderr",
     "output_type": "stream",
     "text": [
      "[*********************100%***********************]  1 of 1 completed\n"
     ]
    },
    {
     "data": {
      "text/html": [
       "<div>\n",
       "<style scoped>\n",
       "    .dataframe tbody tr th:only-of-type {\n",
       "        vertical-align: middle;\n",
       "    }\n",
       "\n",
       "    .dataframe tbody tr th {\n",
       "        vertical-align: top;\n",
       "    }\n",
       "\n",
       "    .dataframe thead th {\n",
       "        text-align: right;\n",
       "    }\n",
       "</style>\n",
       "<table border=\"1\" class=\"dataframe\">\n",
       "  <thead>\n",
       "    <tr style=\"text-align: right;\">\n",
       "      <th>Ticker</th>\n",
       "      <th>MGIAX</th>\n",
       "    </tr>\n",
       "    <tr>\n",
       "      <th>Date</th>\n",
       "      <th></th>\n",
       "    </tr>\n",
       "  </thead>\n",
       "  <tbody>\n",
       "    <tr>\n",
       "      <th>2020-01-02</th>\n",
       "      <td>27.914818</td>\n",
       "    </tr>\n",
       "    <tr>\n",
       "      <th>2020-01-03</th>\n",
       "      <td>27.755903</td>\n",
       "    </tr>\n",
       "    <tr>\n",
       "      <th>2020-01-06</th>\n",
       "      <td>27.749790</td>\n",
       "    </tr>\n",
       "    <tr>\n",
       "      <th>2020-01-07</th>\n",
       "      <td>27.737564</td>\n",
       "    </tr>\n",
       "    <tr>\n",
       "      <th>2020-01-08</th>\n",
       "      <td>27.694782</td>\n",
       "    </tr>\n",
       "  </tbody>\n",
       "</table>\n",
       "</div>"
      ],
      "text/plain": [
       "Ticker          MGIAX\n",
       "Date                 \n",
       "2020-01-02  27.914818\n",
       "2020-01-03  27.755903\n",
       "2020-01-06  27.749790\n",
       "2020-01-07  27.737564\n",
       "2020-01-08  27.694782"
      ]
     },
     "execution_count": 9,
     "metadata": {},
     "output_type": "execute_result"
    }
   ],
   "source": [
    "benchmark = yf.download('MGIAX', start='2020-01-01', end='2025-06-19')['Close']\n",
    "benchmark.head()"
   ]
  },
  {
   "cell_type": "markdown",
   "id": "b2a91eb4",
   "metadata": {},
   "source": [
    "---"
   ]
  },
  {
   "cell_type": "markdown",
   "id": "0c48ec64",
   "metadata": {},
   "source": [
    "#### Construcción del Portafolio "
   ]
  },
  {
   "cell_type": "markdown",
   "id": "80d4b7df",
   "metadata": {},
   "source": [
    "##### Rendimientos Diarios"
   ]
  },
  {
   "cell_type": "code",
   "execution_count": 10,
   "id": "5bc36ffa",
   "metadata": {},
   "outputs": [
    {
     "name": "stderr",
     "output_type": "stream",
     "text": [
      "C:\\Users\\ppmel\\AppData\\Local\\Temp\\ipykernel_1540\\420489823.py:1: FutureWarning: The default fill_method='pad' in DataFrame.pct_change is deprecated and will be removed in a future version. Either fill in any non-leading NA values prior to calling pct_change or specify 'fill_method=None' to not fill NA values.\n",
      "  rets = prices.pct_change().dropna()\n"
     ]
    },
    {
     "data": {
      "text/html": [
       "<div>\n",
       "<style scoped>\n",
       "    .dataframe tbody tr th:only-of-type {\n",
       "        vertical-align: middle;\n",
       "    }\n",
       "\n",
       "    .dataframe tbody tr th {\n",
       "        vertical-align: top;\n",
       "    }\n",
       "\n",
       "    .dataframe thead th {\n",
       "        text-align: right;\n",
       "    }\n",
       "</style>\n",
       "<table border=\"1\" class=\"dataframe\">\n",
       "  <thead>\n",
       "    <tr style=\"text-align: right;\">\n",
       "      <th>Ticker</th>\n",
       "      <th>FNV.TO</th>\n",
       "      <th>NWG.L</th>\n",
       "      <th>SAP.DE</th>\n",
       "      <th>TSM</th>\n",
       "    </tr>\n",
       "    <tr>\n",
       "      <th>Date</th>\n",
       "      <th></th>\n",
       "      <th></th>\n",
       "      <th></th>\n",
       "      <th></th>\n",
       "    </tr>\n",
       "  </thead>\n",
       "  <tbody>\n",
       "    <tr>\n",
       "      <th>2020-01-03</th>\n",
       "      <td>-0.002232</td>\n",
       "      <td>-0.024560</td>\n",
       "      <td>-0.012623</td>\n",
       "      <td>-0.032978</td>\n",
       "    </tr>\n",
       "    <tr>\n",
       "      <th>2020-01-06</th>\n",
       "      <td>0.004325</td>\n",
       "      <td>0.007134</td>\n",
       "      <td>-0.007471</td>\n",
       "      <td>-0.011540</td>\n",
       "    </tr>\n",
       "    <tr>\n",
       "      <th>2020-01-07</th>\n",
       "      <td>0.005048</td>\n",
       "      <td>0.002500</td>\n",
       "      <td>0.004517</td>\n",
       "      <td>0.016205</td>\n",
       "    </tr>\n",
       "    <tr>\n",
       "      <th>2020-01-08</th>\n",
       "      <td>-0.029399</td>\n",
       "      <td>-0.001247</td>\n",
       "      <td>0.005995</td>\n",
       "      <td>0.007373</td>\n",
       "    </tr>\n",
       "    <tr>\n",
       "      <th>2020-01-09</th>\n",
       "      <td>0.002207</td>\n",
       "      <td>-0.006658</td>\n",
       "      <td>0.019368</td>\n",
       "      <td>0.008170</td>\n",
       "    </tr>\n",
       "  </tbody>\n",
       "</table>\n",
       "</div>"
      ],
      "text/plain": [
       "Ticker        FNV.TO     NWG.L    SAP.DE       TSM\n",
       "Date                                              \n",
       "2020-01-03 -0.002232 -0.024560 -0.012623 -0.032978\n",
       "2020-01-06  0.004325  0.007134 -0.007471 -0.011540\n",
       "2020-01-07  0.005048  0.002500  0.004517  0.016205\n",
       "2020-01-08 -0.029399 -0.001247  0.005995  0.007373\n",
       "2020-01-09  0.002207 -0.006658  0.019368  0.008170"
      ]
     },
     "execution_count": 10,
     "metadata": {},
     "output_type": "execute_result"
    }
   ],
   "source": [
    "rets = prices.pct_change().dropna()\n",
    "rets.head()"
   ]
  },
  {
   "cell_type": "markdown",
   "id": "013d6839",
   "metadata": {},
   "source": [
    "##### Rendimiento promedio "
   ]
  },
  {
   "cell_type": "code",
   "execution_count": 11,
   "id": "f2a87071",
   "metadata": {},
   "outputs": [],
   "source": [
    "rets_mean = rets.mean()"
   ]
  },
  {
   "cell_type": "markdown",
   "id": "7dcf658c",
   "metadata": {},
   "source": [
    "##### Matriz de Correlación"
   ]
  },
  {
   "cell_type": "code",
   "execution_count": 12,
   "id": "3303f7b8",
   "metadata": {},
   "outputs": [],
   "source": [
    "corr = rets.corr()"
   ]
  },
  {
   "cell_type": "markdown",
   "id": "5c425979",
   "metadata": {},
   "source": [
    "#### Construcción de BenchMark"
   ]
  },
  {
   "cell_type": "markdown",
   "id": "0e71e9b8",
   "metadata": {},
   "source": [
    "##### Rendimientos Diarios"
   ]
  },
  {
   "cell_type": "code",
   "execution_count": 13,
   "id": "c5d383d3",
   "metadata": {},
   "outputs": [],
   "source": [
    "rets_b = benchmark.pct_change().dropna()"
   ]
  },
  {
   "cell_type": "markdown",
   "id": "35ccea9c",
   "metadata": {},
   "source": [
    "##### Rendimiento Promedio "
   ]
  },
  {
   "cell_type": "code",
   "execution_count": 14,
   "id": "1682f6f6",
   "metadata": {},
   "outputs": [],
   "source": [
    "rets_b_mean = rets_b.mean()"
   ]
  },
  {
   "cell_type": "markdown",
   "id": "b8775490",
   "metadata": {},
   "source": [
    "---"
   ]
  },
  {
   "cell_type": "markdown",
   "id": "5ae9b365",
   "metadata": {},
   "source": [
    "#### Mínima Semi-Varianza "
   ]
  },
  {
   "cell_type": "markdown",
   "id": "c6ad202b",
   "metadata": {},
   "source": [
    "##### Montecarlo "
   ]
  },
  {
   "cell_type": "code",
   "execution_count": 15,
   "id": "2225c03d",
   "metadata": {},
   "outputs": [
    {
     "data": {
      "text/plain": [
       "{'FNV.TO': 0.3906026041152184,\n",
       " 'NWG.L': 0.1624149970385182,\n",
       " 'SAP.DE': 0.30348915546864746,\n",
       " 'TSM': 0.14349324337761585}"
      ]
     },
     "execution_count": 15,
     "metadata": {},
     "output_type": "execute_result"
    }
   ],
   "source": [
    "minima_semi_var = semi_var(rets,corr,10000)\n",
    "minima_semi_var"
   ]
  },
  {
   "cell_type": "code",
   "execution_count": 16,
   "id": "2863eb59",
   "metadata": {},
   "outputs": [
    {
     "data": {
      "text/plain": [
       "1.0"
      ]
     },
     "execution_count": 16,
     "metadata": {},
     "output_type": "execute_result"
    }
   ],
   "source": [
    "sum(minima_semi_var.values()).round(4)"
   ]
  },
  {
   "cell_type": "markdown",
   "id": "a178b8b5",
   "metadata": {},
   "source": [
    "##### Scipy Library"
   ]
  },
  {
   "cell_type": "code",
   "execution_count": 17,
   "id": "7b1d6cd2",
   "metadata": {},
   "outputs": [
    {
     "data": {
      "text/plain": [
       "{'FNV.TO': 0.3974150106379554,\n",
       " 'NWG.L': 0.17740005973637193,\n",
       " 'SAP.DE': 0.2739871909072246,\n",
       " 'TSM': 0.15119773871844802}"
      ]
     },
     "execution_count": 17,
     "metadata": {},
     "output_type": "execute_result"
    }
   ],
   "source": [
    "scipy_semi_var = scipy_semivar(rets, corr)\n",
    "scipy_semi_var"
   ]
  },
  {
   "cell_type": "code",
   "execution_count": 18,
   "id": "474b28dd",
   "metadata": {},
   "outputs": [
    {
     "data": {
      "text/plain": [
       "1.0"
      ]
     },
     "execution_count": 18,
     "metadata": {},
     "output_type": "execute_result"
    }
   ],
   "source": [
    "sum(scipy_semi_var.values())"
   ]
  },
  {
   "cell_type": "markdown",
   "id": "e9343106",
   "metadata": {},
   "source": [
    "---"
   ]
  },
  {
   "cell_type": "markdown",
   "id": "32c00b0d",
   "metadata": {},
   "source": [
    "#### Ratio Omega "
   ]
  },
  {
   "cell_type": "markdown",
   "id": "3a53a5aa",
   "metadata": {},
   "source": [
    "##### Montecarlo "
   ]
  },
  {
   "cell_type": "code",
   "execution_count": 19,
   "id": "d7e76e5f",
   "metadata": {},
   "outputs": [
    {
     "data": {
      "text/plain": [
       "{'FNV.TO': 0.2169308190147642,\n",
       " 'NWG.L': 0.03193938197049711,\n",
       " 'SAP.DE': 0.6819498092908628,\n",
       " 'TSM': 0.06917998972387596}"
      ]
     },
     "execution_count": 19,
     "metadata": {},
     "output_type": "execute_result"
    }
   ],
   "source": [
    "Om = Omega(rets,  10000)\n",
    "Om"
   ]
  },
  {
   "cell_type": "code",
   "execution_count": 20,
   "id": "03f64641",
   "metadata": {},
   "outputs": [
    {
     "data": {
      "text/plain": [
       "1.0"
      ]
     },
     "execution_count": 20,
     "metadata": {},
     "output_type": "execute_result"
    }
   ],
   "source": [
    "sum(Om.values())"
   ]
  },
  {
   "cell_type": "markdown",
   "id": "7e9b7215",
   "metadata": {},
   "source": [
    "##### Scipy Library"
   ]
  },
  {
   "cell_type": "code",
   "execution_count": 21,
   "id": "a2c7bde4",
   "metadata": {},
   "outputs": [
    {
     "data": {
      "text/plain": [
       "{'FNV.TO': 0.0,\n",
       " 'NWG.L': 5.377642775528102e-17,\n",
       " 'SAP.DE': 4.5102810375396984e-17,\n",
       " 'TSM': 1.0}"
      ]
     },
     "execution_count": 21,
     "metadata": {},
     "output_type": "execute_result"
    }
   ],
   "source": [
    "scipy_omega = scipy_omega(rets)\n",
    "scipy_omega"
   ]
  },
  {
   "cell_type": "code",
   "execution_count": 22,
   "id": "d360805e",
   "metadata": {},
   "outputs": [
    {
     "data": {
      "text/plain": [
       "1.0"
      ]
     },
     "execution_count": 22,
     "metadata": {},
     "output_type": "execute_result"
    }
   ],
   "source": [
    "sum(scipy_omega.values())"
   ]
  },
  {
   "cell_type": "markdown",
   "id": "223a9731",
   "metadata": {},
   "source": [
    "---"
   ]
  },
  {
   "cell_type": "markdown",
   "id": "35f49bb5",
   "metadata": {},
   "source": [
    "#### Semi-Varianza Objetivo "
   ]
  },
  {
   "cell_type": "code",
   "execution_count": 23,
   "id": "f361c950",
   "metadata": {},
   "outputs": [
    {
     "ename": "ValueError",
     "evalue": "Unable to coerce to DataFrame, shape must be (1411, 4): given (1372, 1)",
     "output_type": "error",
     "traceback": [
      "\u001b[1;31m---------------------------------------------------------------------------\u001b[0m",
      "\u001b[1;31mValueError\u001b[0m                                Traceback (most recent call last)",
      "\u001b[1;32m~\\AppData\\Local\\Temp\\ipykernel_1540\\3268536362.py\u001b[0m in \u001b[0;36m?\u001b[1;34m()\u001b[0m\n\u001b[1;32m----> 1\u001b[1;33m \u001b[0mobjetivo_weights\u001b[0m \u001b[1;33m=\u001b[0m \u001b[0mobjetivo\u001b[0m\u001b[1;33m(\u001b[0m\u001b[0mrets\u001b[0m\u001b[1;33m,\u001b[0m \u001b[0mrets_b\u001b[0m\u001b[1;33m,\u001b[0m \u001b[0mcorr\u001b[0m\u001b[1;33m)\u001b[0m\u001b[1;33m\u001b[0m\u001b[1;33m\u001b[0m\u001b[0m\n\u001b[0m\u001b[0;32m      2\u001b[0m \u001b[0mobjetivo_weights\u001b[0m\u001b[1;33m\u001b[0m\u001b[1;33m\u001b[0m\u001b[0m\n",
      "\u001b[1;32m~\\AppData\\Local\\Temp\\ipykernel_1540\\2170092506.py\u001b[0m in \u001b[0;36m?\u001b[1;34m(rets, rets_b, corr)\u001b[0m\n\u001b[0;32m      5\u001b[0m     \u001b[0mbounds\u001b[0m \u001b[1;33m=\u001b[0m \u001b[1;33m[\u001b[0m\u001b[1;33m(\u001b[0m\u001b[1;36m0\u001b[0m\u001b[1;33m,\u001b[0m\u001b[1;36m1\u001b[0m\u001b[1;33m)\u001b[0m\u001b[1;33m]\u001b[0m\u001b[1;33m*\u001b[0m\u001b[0mn\u001b[0m\u001b[1;33m\u001b[0m\u001b[1;33m\u001b[0m\u001b[0m\n\u001b[0;32m      6\u001b[0m     \u001b[0mtol\u001b[0m \u001b[1;33m=\u001b[0m \u001b[1;36m1e-9\u001b[0m\u001b[1;33m\u001b[0m\u001b[1;33m\u001b[0m\u001b[0m\n\u001b[0;32m      7\u001b[0m     \u001b[0mrest\u001b[0m \u001b[1;33m=\u001b[0m \u001b[1;32mlambda\u001b[0m \u001b[0mw\u001b[0m\u001b[1;33m:\u001b[0m \u001b[0mnp\u001b[0m\u001b[1;33m.\u001b[0m\u001b[0msum\u001b[0m\u001b[1;33m(\u001b[0m\u001b[0mw\u001b[0m\u001b[1;33m)\u001b[0m \u001b[1;33m-\u001b[0m \u001b[1;36m1\u001b[0m\u001b[1;33m\u001b[0m\u001b[1;33m\u001b[0m\u001b[0m\n\u001b[0;32m      8\u001b[0m \u001b[1;33m\u001b[0m\u001b[0m\n\u001b[1;32m----> 9\u001b[1;33m     \u001b[0mdiffs\u001b[0m\u001b[1;33m=\u001b[0m\u001b[0mrets\u001b[0m \u001b[1;33m-\u001b[0m \u001b[0mrets_b\u001b[0m\u001b[1;33m.\u001b[0m\u001b[0mvalues\u001b[0m\u001b[1;33m\u001b[0m\u001b[1;33m\u001b[0m\u001b[0m\n\u001b[0m\u001b[0;32m     10\u001b[0m     \u001b[0mrends_below_bench\u001b[0m \u001b[1;33m=\u001b[0m \u001b[0mdiffs\u001b[0m\u001b[1;33m[\u001b[0m\u001b[0mdiffs\u001b[0m \u001b[1;33m<\u001b[0m \u001b[1;36m0\u001b[0m\u001b[1;33m]\u001b[0m\u001b[1;33m.\u001b[0m\u001b[0mfillna\u001b[0m\u001b[1;33m(\u001b[0m\u001b[1;36m0\u001b[0m\u001b[1;33m)\u001b[0m\u001b[1;33m\u001b[0m\u001b[1;33m\u001b[0m\u001b[0m\n\u001b[0;32m     11\u001b[0m     \u001b[0mtarget_downside_risk\u001b[0m\u001b[1;33m=\u001b[0m\u001b[0mnp\u001b[0m\u001b[1;33m.\u001b[0m\u001b[0marray\u001b[0m\u001b[1;33m(\u001b[0m\u001b[0mrends_below_bench\u001b[0m\u001b[1;33m.\u001b[0m\u001b[0mstd\u001b[0m\u001b[1;33m(\u001b[0m\u001b[1;33m)\u001b[0m\u001b[1;33m)\u001b[0m\u001b[1;33m\u001b[0m\u001b[1;33m\u001b[0m\u001b[0m\n\u001b[0;32m     12\u001b[0m     \u001b[0mtarget_semivarmatrix\u001b[0m\u001b[1;33m=\u001b[0m \u001b[0mcorr\u001b[0m \u001b[1;33m*\u001b[0m \u001b[1;33m(\u001b[0m\u001b[0mtarget_downside_risk\u001b[0m\u001b[1;33m.\u001b[0m\u001b[0mreshape\u001b[0m\u001b[1;33m(\u001b[0m\u001b[0mlen\u001b[0m\u001b[1;33m(\u001b[0m\u001b[0mrets\u001b[0m\u001b[1;33m.\u001b[0m\u001b[0mcolumns\u001b[0m\u001b[1;33m)\u001b[0m\u001b[1;33m,\u001b[0m \u001b[1;36m1\u001b[0m\u001b[1;33m)\u001b[0m \u001b[1;33m@\u001b[0m \u001b[0mtarget_downside_risk\u001b[0m\u001b[1;33m.\u001b[0m\u001b[0mreshape\u001b[0m\u001b[1;33m(\u001b[0m\u001b[1;36m1\u001b[0m\u001b[1;33m,\u001b[0m \u001b[0mlen\u001b[0m\u001b[1;33m(\u001b[0m\u001b[0mrets\u001b[0m\u001b[1;33m.\u001b[0m\u001b[0mcolumns\u001b[0m\u001b[1;33m)\u001b[0m\u001b[1;33m)\u001b[0m\u001b[1;33m)\u001b[0m\u001b[1;33m\u001b[0m\u001b[1;33m\u001b[0m\u001b[0m\n",
      "\u001b[1;32mc:\\Users\\ppmel\\AppData\\Local\\Programs\\Python\\Python312\\Lib\\site-packages\\pandas\\core\\ops\\common.py\u001b[0m in \u001b[0;36m?\u001b[1;34m(self, other)\u001b[0m\n\u001b[0;32m     72\u001b[0m                     \u001b[1;32mreturn\u001b[0m \u001b[0mNotImplemented\u001b[0m\u001b[1;33m\u001b[0m\u001b[1;33m\u001b[0m\u001b[0m\n\u001b[0;32m     73\u001b[0m \u001b[1;33m\u001b[0m\u001b[0m\n\u001b[0;32m     74\u001b[0m         \u001b[0mother\u001b[0m \u001b[1;33m=\u001b[0m \u001b[0mitem_from_zerodim\u001b[0m\u001b[1;33m(\u001b[0m\u001b[0mother\u001b[0m\u001b[1;33m)\u001b[0m\u001b[1;33m\u001b[0m\u001b[1;33m\u001b[0m\u001b[0m\n\u001b[0;32m     75\u001b[0m \u001b[1;33m\u001b[0m\u001b[0m\n\u001b[1;32m---> 76\u001b[1;33m         \u001b[1;32mreturn\u001b[0m \u001b[0mmethod\u001b[0m\u001b[1;33m(\u001b[0m\u001b[0mself\u001b[0m\u001b[1;33m,\u001b[0m \u001b[0mother\u001b[0m\u001b[1;33m)\u001b[0m\u001b[1;33m\u001b[0m\u001b[1;33m\u001b[0m\u001b[0m\n\u001b[0m",
      "\u001b[1;32mc:\\Users\\ppmel\\AppData\\Local\\Programs\\Python\\Python312\\Lib\\site-packages\\pandas\\core\\arraylike.py\u001b[0m in \u001b[0;36m?\u001b[1;34m(self, other)\u001b[0m\n\u001b[0;32m    192\u001b[0m     \u001b[1;33m@\u001b[0m\u001b[0munpack_zerodim_and_defer\u001b[0m\u001b[1;33m(\u001b[0m\u001b[1;34m\"__sub__\"\u001b[0m\u001b[1;33m)\u001b[0m\u001b[1;33m\u001b[0m\u001b[1;33m\u001b[0m\u001b[0m\n\u001b[0;32m    193\u001b[0m     \u001b[1;32mdef\u001b[0m \u001b[0m__sub__\u001b[0m\u001b[1;33m(\u001b[0m\u001b[0mself\u001b[0m\u001b[1;33m,\u001b[0m \u001b[0mother\u001b[0m\u001b[1;33m)\u001b[0m\u001b[1;33m:\u001b[0m\u001b[1;33m\u001b[0m\u001b[1;33m\u001b[0m\u001b[0m\n\u001b[1;32m--> 194\u001b[1;33m         \u001b[1;32mreturn\u001b[0m \u001b[0mself\u001b[0m\u001b[1;33m.\u001b[0m\u001b[0m_arith_method\u001b[0m\u001b[1;33m(\u001b[0m\u001b[0mother\u001b[0m\u001b[1;33m,\u001b[0m \u001b[0moperator\u001b[0m\u001b[1;33m.\u001b[0m\u001b[0msub\u001b[0m\u001b[1;33m)\u001b[0m\u001b[1;33m\u001b[0m\u001b[1;33m\u001b[0m\u001b[0m\n\u001b[0m",
      "\u001b[1;32mc:\\Users\\ppmel\\AppData\\Local\\Programs\\Python\\Python312\\Lib\\site-packages\\pandas\\core\\frame.py\u001b[0m in \u001b[0;36m?\u001b[1;34m(self, other, op)\u001b[0m\n\u001b[0;32m   7906\u001b[0m \u001b[1;33m\u001b[0m\u001b[0m\n\u001b[0;32m   7907\u001b[0m         \u001b[0maxis\u001b[0m\u001b[1;33m:\u001b[0m \u001b[0mLiteral\u001b[0m\u001b[1;33m[\u001b[0m\u001b[1;36m1\u001b[0m\u001b[1;33m]\u001b[0m \u001b[1;33m=\u001b[0m \u001b[1;36m1\u001b[0m  \u001b[1;31m# only relevant for Series other case\u001b[0m\u001b[1;33m\u001b[0m\u001b[1;33m\u001b[0m\u001b[0m\n\u001b[0;32m   7908\u001b[0m         \u001b[0mother\u001b[0m \u001b[1;33m=\u001b[0m \u001b[0mops\u001b[0m\u001b[1;33m.\u001b[0m\u001b[0mmaybe_prepare_scalar_for_op\u001b[0m\u001b[1;33m(\u001b[0m\u001b[0mother\u001b[0m\u001b[1;33m,\u001b[0m \u001b[1;33m(\u001b[0m\u001b[0mself\u001b[0m\u001b[1;33m.\u001b[0m\u001b[0mshape\u001b[0m\u001b[1;33m[\u001b[0m\u001b[0maxis\u001b[0m\u001b[1;33m]\u001b[0m\u001b[1;33m,\u001b[0m\u001b[1;33m)\u001b[0m\u001b[1;33m)\u001b[0m\u001b[1;33m\u001b[0m\u001b[1;33m\u001b[0m\u001b[0m\n\u001b[0;32m   7909\u001b[0m \u001b[1;33m\u001b[0m\u001b[0m\n\u001b[1;32m-> 7910\u001b[1;33m         \u001b[0mself\u001b[0m\u001b[1;33m,\u001b[0m \u001b[0mother\u001b[0m \u001b[1;33m=\u001b[0m \u001b[0mself\u001b[0m\u001b[1;33m.\u001b[0m\u001b[0m_align_for_op\u001b[0m\u001b[1;33m(\u001b[0m\u001b[0mother\u001b[0m\u001b[1;33m,\u001b[0m \u001b[0maxis\u001b[0m\u001b[1;33m,\u001b[0m \u001b[0mflex\u001b[0m\u001b[1;33m=\u001b[0m\u001b[1;32mTrue\u001b[0m\u001b[1;33m,\u001b[0m \u001b[0mlevel\u001b[0m\u001b[1;33m=\u001b[0m\u001b[1;32mNone\u001b[0m\u001b[1;33m)\u001b[0m\u001b[1;33m\u001b[0m\u001b[1;33m\u001b[0m\u001b[0m\n\u001b[0m\u001b[0;32m   7911\u001b[0m \u001b[1;33m\u001b[0m\u001b[0m\n\u001b[0;32m   7912\u001b[0m         \u001b[1;32mwith\u001b[0m \u001b[0mnp\u001b[0m\u001b[1;33m.\u001b[0m\u001b[0merrstate\u001b[0m\u001b[1;33m(\u001b[0m\u001b[0mall\u001b[0m\u001b[1;33m=\u001b[0m\u001b[1;34m\"ignore\"\u001b[0m\u001b[1;33m)\u001b[0m\u001b[1;33m:\u001b[0m\u001b[1;33m\u001b[0m\u001b[1;33m\u001b[0m\u001b[0m\n\u001b[0;32m   7913\u001b[0m             \u001b[0mnew_data\u001b[0m \u001b[1;33m=\u001b[0m \u001b[0mself\u001b[0m\u001b[1;33m.\u001b[0m\u001b[0m_dispatch_frame_op\u001b[0m\u001b[1;33m(\u001b[0m\u001b[0mother\u001b[0m\u001b[1;33m,\u001b[0m \u001b[0mop\u001b[0m\u001b[1;33m,\u001b[0m \u001b[0maxis\u001b[0m\u001b[1;33m=\u001b[0m\u001b[0maxis\u001b[0m\u001b[1;33m)\u001b[0m\u001b[1;33m\u001b[0m\u001b[1;33m\u001b[0m\u001b[0m\n",
      "\u001b[1;32mc:\\Users\\ppmel\\AppData\\Local\\Programs\\Python\\Python312\\Lib\\site-packages\\pandas\\core\\frame.py\u001b[0m in \u001b[0;36m?\u001b[1;34m(self, other, axis, flex, level)\u001b[0m\n\u001b[0;32m   8165\u001b[0m                     \u001b[1;31m# Broadcast along rows\u001b[0m\u001b[1;33m\u001b[0m\u001b[1;33m\u001b[0m\u001b[0m\n\u001b[0;32m   8166\u001b[0m                     \u001b[0mright\u001b[0m \u001b[1;33m=\u001b[0m \u001b[0mto_series\u001b[0m\u001b[1;33m(\u001b[0m\u001b[0mright\u001b[0m\u001b[1;33m[\u001b[0m\u001b[1;36m0\u001b[0m\u001b[1;33m,\u001b[0m \u001b[1;33m:\u001b[0m\u001b[1;33m]\u001b[0m\u001b[1;33m)\u001b[0m\u001b[1;33m\u001b[0m\u001b[1;33m\u001b[0m\u001b[0m\n\u001b[0;32m   8167\u001b[0m \u001b[1;33m\u001b[0m\u001b[0m\n\u001b[0;32m   8168\u001b[0m                 \u001b[1;32melse\u001b[0m\u001b[1;33m:\u001b[0m\u001b[1;33m\u001b[0m\u001b[1;33m\u001b[0m\u001b[0m\n\u001b[1;32m-> 8169\u001b[1;33m                     raise ValueError(\n\u001b[0m\u001b[0;32m   8170\u001b[0m                         \u001b[1;34m\"Unable to coerce to DataFrame, shape \"\u001b[0m\u001b[1;33m\u001b[0m\u001b[1;33m\u001b[0m\u001b[0m\n\u001b[0;32m   8171\u001b[0m                         \u001b[1;33mf\"\u001b[0m\u001b[1;33mmust be \u001b[0m\u001b[1;33m{\u001b[0m\u001b[0mleft\u001b[0m\u001b[1;33m.\u001b[0m\u001b[0mshape\u001b[0m\u001b[1;33m}\u001b[0m\u001b[1;33m: given \u001b[0m\u001b[1;33m{\u001b[0m\u001b[0mright\u001b[0m\u001b[1;33m.\u001b[0m\u001b[0mshape\u001b[0m\u001b[1;33m}\u001b[0m\u001b[1;33m\"\u001b[0m\u001b[1;33m\u001b[0m\u001b[1;33m\u001b[0m\u001b[0m\n\u001b[0;32m   8172\u001b[0m                     \u001b[1;33m)\u001b[0m\u001b[1;33m\u001b[0m\u001b[1;33m\u001b[0m\u001b[0m\n",
      "\u001b[1;31mValueError\u001b[0m: Unable to coerce to DataFrame, shape must be (1411, 4): given (1372, 1)"
     ]
    }
   ],
   "source": [
    "objetivo_weights = objetivo(rets, rets_b, corr)\n",
    "objetivo_weights"
   ]
  },
  {
   "cell_type": "code",
   "execution_count": null,
   "id": "50f1c189",
   "metadata": {},
   "outputs": [],
   "source": [
    "sum(objetivo_weights.values())"
   ]
  }
 ],
 "metadata": {
  "kernelspec": {
   "display_name": "Python 3",
   "language": "python",
   "name": "python3"
  },
  "language_info": {
   "codemirror_mode": {
    "name": "ipython",
    "version": 3
   },
   "file_extension": ".py",
   "mimetype": "text/x-python",
   "name": "python",
   "nbconvert_exporter": "python",
   "pygments_lexer": "ipython3",
   "version": "3.12.8"
  }
 },
 "nbformat": 4,
 "nbformat_minor": 5
}
