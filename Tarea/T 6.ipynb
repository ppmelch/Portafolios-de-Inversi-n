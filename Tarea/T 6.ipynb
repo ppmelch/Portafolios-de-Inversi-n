{
 "cells": [
  {
   "cell_type": "markdown",
   "id": "cbac7a77",
   "metadata": {},
   "source": [
    "# Portafolios de Inversión\n",
    "## Tarea 6\n",
    "\n",
    "Presenta : \n",
    "\n",
    "- José Armando Melchor Soto\n",
    "\n",
    "- Paula Ines Pelayo Morales "
   ]
  },
  {
   "cell_type": "markdown",
   "id": "240758dd",
   "metadata": {},
   "source": [
    "---\n",
    "### Librerías \n",
    "\n"
   ]
  },
  {
   "cell_type": "code",
   "execution_count": 271,
   "id": "dd545771",
   "metadata": {},
   "outputs": [],
   "source": [
    "import pandas as pd \n",
    "import numpy as np\n",
    "import yfinance as yf\n",
    "import matplotlib.pyplot as plt\n",
    "from scipy.optimize import minimize "
   ]
  },
  {
   "cell_type": "markdown",
   "id": "8b061993",
   "metadata": {},
   "source": [
    "---"
   ]
  },
  {
   "cell_type": "markdown",
   "id": "c6876dc0",
   "metadata": {},
   "source": [
    "#### Indicaciones "
   ]
  },
  {
   "cell_type": "markdown",
   "id": "9e924287",
   "metadata": {},
   "source": [
    "- Punto a) Implementen tres funciones que optimicen portafolios utilizando: mínima semivarianza, ratio omega y semivarianza objetivo, empleando la función `scipy.optimize.minimize`. (40%)\n",
    " \n",
    "\n",
    "- Punto b) Construyan un portafolio compuesto por 5 activos financieros y optimícenlo con los tres métodos. Utilicen las funciones desarrolladas en el punto a) para realizar la optimización. Recuerden que, para el portafolio con semivarianza objetivo, deberán seleccionar un benchmark adecuado y consistente con los activos elegidos. Como respuesta a este punto, se esperan las ponderaciones eficientes y el valor óptimo de la función objetivo para cada método de Asset Allocation. (40%)\n",
    " \n",
    "\n",
    "- Punto c) Escriban una breve conclusión sobre las ventajas y desventajas que observan entre los métodos TMP y TPMP. (20%)"
   ]
  },
  {
   "cell_type": "markdown",
   "id": "80c0ad9c",
   "metadata": {},
   "source": [
    "---"
   ]
  },
  {
   "cell_type": "markdown",
   "id": "2c145694",
   "metadata": {},
   "source": [
    "#### Funciones "
   ]
  },
  {
   "cell_type": "markdown",
   "id": "4ea98e7e",
   "metadata": {},
   "source": [
    "#### Minimizar Semi-Varianza"
   ]
  },
  {
   "cell_type": "markdown",
   "id": "1204cb8e",
   "metadata": {},
   "source": [
    "**Minimizar semivarianza**\n",
    "\n",
    "$$min_w \\hspace{0.5cm} \\sigma_d^2 = w^T S w$$\n",
    "    \n",
    "$$s.a. \\hspace{0.5cm} \\sum_{i=1}^n w_i = 1$$\n",
    " \n",
    "$$\\hspace{0.8cm} w_i > 0 $$\n",
    "\n"
   ]
  },
  {
   "cell_type": "markdown",
   "id": "61b69572",
   "metadata": {},
   "source": [
    "##### Mínima Semi-Varianza  (Scipy Library)"
   ]
  },
  {
   "cell_type": "code",
   "execution_count": 272,
   "id": "aba866ce",
   "metadata": {},
   "outputs": [],
   "source": [
    "def scipy_semivar(rets: pd.DataFrame, corr: pd.DataFrame):\n",
    "\n",
    "    rets_below_zero=rets[rets < 0].fillna(0)\n",
    "    \n",
    "    downside_risk=rets_below_zero.std()\n",
    "\n",
    "    downside_risk=np.array(downside_risk)\n",
    "    \n",
    "    semivar_matrix = downside_risk.reshape(len(rets.columns), 1) @ downside_risk.reshape(1, len(rets.columns)) * corr\n",
    "\n",
    "    n = len(rets.columns)\n",
    "    w_inicial = np.ones(n) / n\n",
    "    bounds = [(0, 1)] * n\n",
    "    tol = 1e-9\n",
    "\n",
    "    semivar = lambda w: (w.T @ semivar_matrix @ w)\n",
    "\n",
    "    constraints = {'fun': lambda w: np.sum(w) - 1, 'type': 'eq'}\n",
    "\n",
    "    minima_semi_var = minimize(\n",
    "        fun=semivar,\n",
    "        x0=w_inicial,\n",
    "        bounds=bounds,\n",
    "        constraints=constraints,\n",
    "        tol=tol)\n",
    "\n",
    "    w_semi_var = minima_semi_var.x\n",
    "    return dict(zip(rets.columns, w_semi_var))\n",
    "\n",
    "\n",
    "\n"
   ]
  },
  {
   "cell_type": "markdown",
   "id": "8f5a2f4c",
   "metadata": {},
   "source": [
    "---"
   ]
  },
  {
   "cell_type": "markdown",
   "id": "91f42576",
   "metadata": {},
   "source": [
    "#### Ratio Omega "
   ]
  },
  {
   "cell_type": "markdown",
   "id": "4e9d5485",
   "metadata": {},
   "source": [
    "**Calcular Omega del portafolio y maximizarla cambiando ponderaciones.**\n",
    "\n",
    "$$max_w \\hspace{0.5cm} \\Omega_p = \\sum_{i=1}^{n} \\Omega_i * w_i$$\n",
    "    \n",
    "$$s.a. \\hspace{0.5cm} \\sum_{i=1}^n w_i = 1$$\n",
    " \n",
    "$$\\hspace{0.8cm} w_i > 0 $$"
   ]
  },
  {
   "cell_type": "markdown",
   "id": "3af37c67",
   "metadata": {},
   "source": [
    "##### Ratio Omega (Scipy Library)"
   ]
  },
  {
   "cell_type": "code",
   "execution_count": 273,
   "id": "a5b86104",
   "metadata": {},
   "outputs": [],
   "source": [
    "def scipy_omega(rets: pd.DataFrame):\n",
    "    n = len(rets.columns)\n",
    "    w_inicial = np.ones(n) / n\n",
    "    bounds = [(0, 3)] * n\n",
    "    tol = 1e-9\n",
    "\n",
    "    rets_below_zero = rets[rets < 0].fillna(0)\n",
    "    rets_above_zero = rets[rets > 0].fillna(0)\n",
    "    upside_risk=rets_above_zero.std()\n",
    "    downside_risk = rets_below_zero.std()\n",
    "\n",
    "    omega_ind = upside_risk / downside_risk\n",
    "\n",
    "    Omega_neg = lambda w: -np.sum(w * omega_ind)\n",
    "\n",
    "    constraints = {'fun': lambda w: np.sum(w) - 1, 'type': 'eq'}\n",
    "\n",
    "    result = minimize(\n",
    "        fun=Omega_neg,\n",
    "        x0=w_inicial,\n",
    "        bounds=bounds,\n",
    "        constraints=constraints,\n",
    "        tol=tol\n",
    "    )\n",
    "\n",
    "    w_omega = result.x\n",
    "    return dict(zip(rets.columns, w_omega))\n"
   ]
  },
  {
   "cell_type": "markdown",
   "id": "eb719456",
   "metadata": {},
   "source": [
    "---"
   ]
  },
  {
   "cell_type": "markdown",
   "id": "25452323",
   "metadata": {},
   "source": [
    "#### Semi-Varianza Objetivo"
   ]
  },
  {
   "cell_type": "markdown",
   "id": "6e0bc01d",
   "metadata": {},
   "source": [
    "##### Semi-Varianza Objetivo (Scipy)"
   ]
  },
  {
   "cell_type": "code",
   "execution_count": 274,
   "id": "2c4b20df",
   "metadata": {},
   "outputs": [],
   "source": [
    "def objetivo (rets:pd.DataFrame , rets_b : pd.DataFrame ,corr:pd.DataFrame):\n",
    "\n",
    "    diffs=rets - rets_b.values\n",
    "    rends_below_bench = diffs[diffs < 0].fillna(0)\n",
    "    target_downside_risk=np.array(rends_below_bench.std())\n",
    "    target_semivarmatrix= corr * (target_downside_risk.reshape(len(rets.columns), 1) @ target_downside_risk.reshape(1, len(rets.columns)))\n",
    "\n",
    "    objectivo = lambda w: (w.T @ target_semivarmatrix @ w)\n",
    "\n",
    "    n = len(rets.keys())\n",
    "    w_inicial = np.ones(n)/n\n",
    "    bounds = [(0,1)]*n\n",
    "    tol = 1e-9\n",
    "    rest = lambda w: np.sum(w) - 1\n",
    "    \n",
    "    obj = minimize(\n",
    "    fun=objectivo,\n",
    "    x0=w_inicial,\n",
    "    bounds=bounds,\n",
    "    constraints={'fun': rest, 'type': 'eq'},\n",
    "    tol=tol)\n",
    "\n",
    "    w_objetivo = obj.x\n",
    "\n",
    "    return dict(zip(rets.columns, w_objetivo))"
   ]
  },
  {
   "cell_type": "markdown",
   "id": "18b25744",
   "metadata": {},
   "source": [
    "---"
   ]
  },
  {
   "cell_type": "markdown",
   "id": "45caeb0b",
   "metadata": {},
   "source": [
    "#### Construcción del Portafolio "
   ]
  },
  {
   "cell_type": "markdown",
   "id": "929cfbd3",
   "metadata": {},
   "source": [
    "##### Activos "
   ]
  },
  {
   "cell_type": "markdown",
   "id": "6e1a9501",
   "metadata": {},
   "source": [
    "##### Sector económico : Salud "
   ]
  },
  {
   "cell_type": "markdown",
   "id": "a5b03582",
   "metadata": {},
   "source": [
    "- Eli Lilly and Company (LLY)\n",
    "\n",
    "- Intuitive Surgical, Inc. (ISRG)\n",
    "\n",
    "- AbbVie Inc. (ABBV)\n",
    "\n",
    "- Johnson & Johnson (JNJ)\n",
    "\n",
    "- Merck & Co., Inc. (MRK)\n"
   ]
  },
  {
   "cell_type": "markdown",
   "id": "c16bb097",
   "metadata": {},
   "source": [
    "##### Benchmark"
   ]
  },
  {
   "cell_type": "markdown",
   "id": "ffda756f",
   "metadata": {},
   "source": [
    "##### Sector económico : Consumo básico "
   ]
  },
  {
   "cell_type": "markdown",
   "id": "1a4e8cd0",
   "metadata": {},
   "source": [
    "- Vanguard Consumer Staples Index Fund ETF Shares (VDC)"
   ]
  },
  {
   "cell_type": "markdown",
   "id": "04465ecf",
   "metadata": {},
   "source": [
    "---"
   ]
  },
  {
   "cell_type": "markdown",
   "id": "6c255a99",
   "metadata": {},
   "source": [
    "#### Importación de los datos"
   ]
  },
  {
   "cell_type": "markdown",
   "id": "7dd36a57",
   "metadata": {},
   "source": [
    "##### Activos "
   ]
  },
  {
   "cell_type": "code",
   "execution_count": 275,
   "id": "524c0c7c",
   "metadata": {},
   "outputs": [
    {
     "name": "stderr",
     "output_type": "stream",
     "text": [
      "[*********************100%***********************]  5 of 5 completed\n"
     ]
    },
    {
     "data": {
      "text/html": [
       "<div>\n",
       "<style scoped>\n",
       "    .dataframe tbody tr th:only-of-type {\n",
       "        vertical-align: middle;\n",
       "    }\n",
       "\n",
       "    .dataframe tbody tr th {\n",
       "        vertical-align: top;\n",
       "    }\n",
       "\n",
       "    .dataframe thead th {\n",
       "        text-align: right;\n",
       "    }\n",
       "</style>\n",
       "<table border=\"1\" class=\"dataframe\">\n",
       "  <thead>\n",
       "    <tr style=\"text-align: right;\">\n",
       "      <th>Ticker</th>\n",
       "      <th>ABBV</th>\n",
       "      <th>ISRG</th>\n",
       "      <th>JNJ</th>\n",
       "      <th>LLY</th>\n",
       "      <th>MRK</th>\n",
       "    </tr>\n",
       "    <tr>\n",
       "      <th>Date</th>\n",
       "      <th></th>\n",
       "      <th></th>\n",
       "      <th></th>\n",
       "      <th></th>\n",
       "      <th></th>\n",
       "    </tr>\n",
       "  </thead>\n",
       "  <tbody>\n",
       "    <tr>\n",
       "      <th>2020-01-02</th>\n",
       "      <td>70.934235</td>\n",
       "      <td>199.086670</td>\n",
       "      <td>124.983665</td>\n",
       "      <td>123.449234</td>\n",
       "      <td>73.971642</td>\n",
       "    </tr>\n",
       "    <tr>\n",
       "      <th>2020-01-03</th>\n",
       "      <td>70.260933</td>\n",
       "      <td>197.779999</td>\n",
       "      <td>123.536652</td>\n",
       "      <td>123.038414</td>\n",
       "      <td>73.336731</td>\n",
       "    </tr>\n",
       "    <tr>\n",
       "      <th>2020-01-06</th>\n",
       "      <td>70.815422</td>\n",
       "      <td>198.586670</td>\n",
       "      <td>123.382530</td>\n",
       "      <td>123.495941</td>\n",
       "      <td>73.650177</td>\n",
       "    </tr>\n",
       "    <tr>\n",
       "      <th>2020-01-07</th>\n",
       "      <td>70.411438</td>\n",
       "      <td>194.266663</td>\n",
       "      <td>124.135994</td>\n",
       "      <td>123.729378</td>\n",
       "      <td>71.689171</td>\n",
       "    </tr>\n",
       "    <tr>\n",
       "      <th>2020-01-08</th>\n",
       "      <td>70.910477</td>\n",
       "      <td>193.926666</td>\n",
       "      <td>124.118896</td>\n",
       "      <td>124.849876</td>\n",
       "      <td>71.206947</td>\n",
       "    </tr>\n",
       "  </tbody>\n",
       "</table>\n",
       "</div>"
      ],
      "text/plain": [
       "Ticker           ABBV        ISRG         JNJ         LLY        MRK\n",
       "Date                                                                \n",
       "2020-01-02  70.934235  199.086670  124.983665  123.449234  73.971642\n",
       "2020-01-03  70.260933  197.779999  123.536652  123.038414  73.336731\n",
       "2020-01-06  70.815422  198.586670  123.382530  123.495941  73.650177\n",
       "2020-01-07  70.411438  194.266663  124.135994  123.729378  71.689171\n",
       "2020-01-08  70.910477  193.926666  124.118896  124.849876  71.206947"
      ]
     },
     "execution_count": 275,
     "metadata": {},
     "output_type": "execute_result"
    }
   ],
   "source": [
    "prices = yf.download(['LLY', 'ISRG', 'ABBV', 'JNJ', 'MRK'], start='2020-01-01', end='2025-06-19')['Close']\n",
    "prices.head()"
   ]
  },
  {
   "cell_type": "markdown",
   "id": "712088c0",
   "metadata": {},
   "source": [
    "##### Benchmarck "
   ]
  },
  {
   "cell_type": "code",
   "execution_count": 276,
   "id": "31ff2d84",
   "metadata": {},
   "outputs": [
    {
     "name": "stderr",
     "output_type": "stream",
     "text": [
      "[*********************100%***********************]  1 of 1 completed\n"
     ]
    },
    {
     "data": {
      "text/html": [
       "<div>\n",
       "<style scoped>\n",
       "    .dataframe tbody tr th:only-of-type {\n",
       "        vertical-align: middle;\n",
       "    }\n",
       "\n",
       "    .dataframe tbody tr th {\n",
       "        vertical-align: top;\n",
       "    }\n",
       "\n",
       "    .dataframe thead th {\n",
       "        text-align: right;\n",
       "    }\n",
       "</style>\n",
       "<table border=\"1\" class=\"dataframe\">\n",
       "  <thead>\n",
       "    <tr style=\"text-align: right;\">\n",
       "      <th>Ticker</th>\n",
       "      <th>VDC</th>\n",
       "    </tr>\n",
       "    <tr>\n",
       "      <th>Date</th>\n",
       "      <th></th>\n",
       "    </tr>\n",
       "  </thead>\n",
       "  <tbody>\n",
       "    <tr>\n",
       "      <th>2020-01-02</th>\n",
       "      <td>140.328201</td>\n",
       "    </tr>\n",
       "    <tr>\n",
       "      <th>2020-01-03</th>\n",
       "      <td>140.082382</td>\n",
       "    </tr>\n",
       "    <tr>\n",
       "      <th>2020-01-06</th>\n",
       "      <td>140.293060</td>\n",
       "    </tr>\n",
       "    <tr>\n",
       "      <th>2020-01-07</th>\n",
       "      <td>139.222198</td>\n",
       "    </tr>\n",
       "    <tr>\n",
       "      <th>2020-01-08</th>\n",
       "      <td>139.775177</td>\n",
       "    </tr>\n",
       "  </tbody>\n",
       "</table>\n",
       "</div>"
      ],
      "text/plain": [
       "Ticker             VDC\n",
       "Date                  \n",
       "2020-01-02  140.328201\n",
       "2020-01-03  140.082382\n",
       "2020-01-06  140.293060\n",
       "2020-01-07  139.222198\n",
       "2020-01-08  139.775177"
      ]
     },
     "execution_count": 276,
     "metadata": {},
     "output_type": "execute_result"
    }
   ],
   "source": [
    "benchmark = yf.download('VDC', start='2020-01-01', end='2025-06-19')['Close']\n",
    "benchmark.head()"
   ]
  },
  {
   "cell_type": "markdown",
   "id": "b2a91eb4",
   "metadata": {},
   "source": [
    "---"
   ]
  },
  {
   "cell_type": "markdown",
   "id": "0c48ec64",
   "metadata": {},
   "source": [
    "#### Construcción del Portafolio "
   ]
  },
  {
   "cell_type": "markdown",
   "id": "80d4b7df",
   "metadata": {},
   "source": [
    "##### Rendimientos Diarios"
   ]
  },
  {
   "cell_type": "code",
   "execution_count": 277,
   "id": "5bc36ffa",
   "metadata": {},
   "outputs": [
    {
     "data": {
      "text/html": [
       "<div>\n",
       "<style scoped>\n",
       "    .dataframe tbody tr th:only-of-type {\n",
       "        vertical-align: middle;\n",
       "    }\n",
       "\n",
       "    .dataframe tbody tr th {\n",
       "        vertical-align: top;\n",
       "    }\n",
       "\n",
       "    .dataframe thead th {\n",
       "        text-align: right;\n",
       "    }\n",
       "</style>\n",
       "<table border=\"1\" class=\"dataframe\">\n",
       "  <thead>\n",
       "    <tr style=\"text-align: right;\">\n",
       "      <th>Ticker</th>\n",
       "      <th>ABBV</th>\n",
       "      <th>ISRG</th>\n",
       "      <th>JNJ</th>\n",
       "      <th>LLY</th>\n",
       "      <th>MRK</th>\n",
       "    </tr>\n",
       "    <tr>\n",
       "      <th>Date</th>\n",
       "      <th></th>\n",
       "      <th></th>\n",
       "      <th></th>\n",
       "      <th></th>\n",
       "      <th></th>\n",
       "    </tr>\n",
       "  </thead>\n",
       "  <tbody>\n",
       "    <tr>\n",
       "      <th>2020-01-03</th>\n",
       "      <td>-0.009492</td>\n",
       "      <td>-0.006563</td>\n",
       "      <td>-0.011578</td>\n",
       "      <td>-0.003328</td>\n",
       "      <td>-0.008583</td>\n",
       "    </tr>\n",
       "    <tr>\n",
       "      <th>2020-01-06</th>\n",
       "      <td>0.007892</td>\n",
       "      <td>0.004079</td>\n",
       "      <td>-0.001248</td>\n",
       "      <td>0.003719</td>\n",
       "      <td>0.004274</td>\n",
       "    </tr>\n",
       "    <tr>\n",
       "      <th>2020-01-07</th>\n",
       "      <td>-0.005705</td>\n",
       "      <td>-0.021754</td>\n",
       "      <td>0.006107</td>\n",
       "      <td>0.001890</td>\n",
       "      <td>-0.026626</td>\n",
       "    </tr>\n",
       "    <tr>\n",
       "      <th>2020-01-08</th>\n",
       "      <td>0.007087</td>\n",
       "      <td>-0.001750</td>\n",
       "      <td>-0.000138</td>\n",
       "      <td>0.009056</td>\n",
       "      <td>-0.006727</td>\n",
       "    </tr>\n",
       "    <tr>\n",
       "      <th>2020-01-09</th>\n",
       "      <td>0.007708</td>\n",
       "      <td>0.006893</td>\n",
       "      <td>0.002966</td>\n",
       "      <td>0.016528</td>\n",
       "      <td>0.008804</td>\n",
       "    </tr>\n",
       "  </tbody>\n",
       "</table>\n",
       "</div>"
      ],
      "text/plain": [
       "Ticker          ABBV      ISRG       JNJ       LLY       MRK\n",
       "Date                                                        \n",
       "2020-01-03 -0.009492 -0.006563 -0.011578 -0.003328 -0.008583\n",
       "2020-01-06  0.007892  0.004079 -0.001248  0.003719  0.004274\n",
       "2020-01-07 -0.005705 -0.021754  0.006107  0.001890 -0.026626\n",
       "2020-01-08  0.007087 -0.001750 -0.000138  0.009056 -0.006727\n",
       "2020-01-09  0.007708  0.006893  0.002966  0.016528  0.008804"
      ]
     },
     "execution_count": 277,
     "metadata": {},
     "output_type": "execute_result"
    }
   ],
   "source": [
    "rets = prices.pct_change().dropna()\n",
    "rets.head()"
   ]
  },
  {
   "cell_type": "markdown",
   "id": "013d6839",
   "metadata": {},
   "source": [
    "##### Rendimiento promedio "
   ]
  },
  {
   "cell_type": "code",
   "execution_count": 278,
   "id": "f2a87071",
   "metadata": {},
   "outputs": [],
   "source": [
    "rets_mean = rets.mean()"
   ]
  },
  {
   "cell_type": "markdown",
   "id": "7dcf658c",
   "metadata": {},
   "source": [
    "##### Matriz de Correlación"
   ]
  },
  {
   "cell_type": "code",
   "execution_count": 279,
   "id": "3303f7b8",
   "metadata": {},
   "outputs": [],
   "source": [
    "corr = rets.corr()"
   ]
  },
  {
   "cell_type": "markdown",
   "id": "5c425979",
   "metadata": {},
   "source": [
    "#### Construcción de BenchMark"
   ]
  },
  {
   "cell_type": "markdown",
   "id": "0e71e9b8",
   "metadata": {},
   "source": [
    "##### Rendimientos Diarios"
   ]
  },
  {
   "cell_type": "code",
   "execution_count": 280,
   "id": "c5d383d3",
   "metadata": {},
   "outputs": [],
   "source": [
    "rets_b = benchmark.pct_change().dropna()"
   ]
  },
  {
   "cell_type": "markdown",
   "id": "35ccea9c",
   "metadata": {},
   "source": [
    "##### Rendimiento Promedio "
   ]
  },
  {
   "cell_type": "code",
   "execution_count": 281,
   "id": "1682f6f6",
   "metadata": {},
   "outputs": [],
   "source": [
    "rets_b_mean = rets_b.mean()"
   ]
  },
  {
   "cell_type": "markdown",
   "id": "b8775490",
   "metadata": {},
   "source": [
    "---"
   ]
  },
  {
   "cell_type": "markdown",
   "id": "5ae9b365",
   "metadata": {},
   "source": [
    "#### Mínima Semi-Varianza "
   ]
  },
  {
   "cell_type": "markdown",
   "id": "a178b8b5",
   "metadata": {},
   "source": [
    "##### Scipy Library"
   ]
  },
  {
   "cell_type": "code",
   "execution_count": 282,
   "id": "7b1d6cd2",
   "metadata": {},
   "outputs": [
    {
     "data": {
      "text/plain": [
       "{'ABBV': 0.20027065338187994,\n",
       " 'ISRG': 0.025472854448396448,\n",
       " 'JNJ': 0.3955905769463641,\n",
       " 'LLY': 0.1415935359861667,\n",
       " 'MRK': 0.23707237923719288}"
      ]
     },
     "execution_count": 282,
     "metadata": {},
     "output_type": "execute_result"
    }
   ],
   "source": [
    "scipy_semi_var = scipy_semivar(rets, corr)\n",
    "scipy_semi_var"
   ]
  },
  {
   "cell_type": "code",
   "execution_count": 283,
   "id": "474b28dd",
   "metadata": {},
   "outputs": [
    {
     "data": {
      "text/plain": [
       "1.0000000000000002"
      ]
     },
     "execution_count": 283,
     "metadata": {},
     "output_type": "execute_result"
    }
   ],
   "source": [
    "sum(scipy_semi_var.values())"
   ]
  },
  {
   "cell_type": "markdown",
   "id": "e9343106",
   "metadata": {},
   "source": [
    "---"
   ]
  },
  {
   "cell_type": "markdown",
   "id": "32c00b0d",
   "metadata": {},
   "source": [
    "#### Ratio Omega "
   ]
  },
  {
   "cell_type": "markdown",
   "id": "bb9f0d71",
   "metadata": {},
   "source": [
    "##### Ratio Omega individual "
   ]
  },
  {
   "cell_type": "code",
   "execution_count": 284,
   "id": "c75c08f8",
   "metadata": {},
   "outputs": [
    {
     "data": {
      "text/plain": [
       "Ticker\n",
       "ABBV    0.900431\n",
       "ISRG    1.053483\n",
       "JNJ     1.044467\n",
       "LLY     1.296354\n",
       "MRK     0.942896\n",
       "dtype: float64"
      ]
     },
     "execution_count": 284,
     "metadata": {},
     "output_type": "execute_result"
    }
   ],
   "source": [
    "rets_below_zero = rets[rets < 0].fillna(0)\n",
    "rets_above_zero=rets[rets > 0].fillna(0)\n",
    "downside_risk=rets_below_zero.std()\n",
    "upside_risk=rets_above_zero.std()\n",
    "downside_risk = np.array(downside_risk)\n",
    "upside_risk/downside_risk"
   ]
  },
  {
   "cell_type": "markdown",
   "id": "7e9b7215",
   "metadata": {},
   "source": [
    "##### Scipy Library"
   ]
  },
  {
   "cell_type": "code",
   "execution_count": 285,
   "id": "a2c7bde4",
   "metadata": {},
   "outputs": [
    {
     "data": {
      "text/plain": [
       "{'ABBV': 5.608659069449639e-16,\n",
       " 'ISRG': 3.191891195797325e-16,\n",
       " 'JNJ': 1.5265566588595902e-16,\n",
       " 'LLY': 0.9999999999999987,\n",
       " 'MRK': 2.2097540209045966e-16}"
      ]
     },
     "execution_count": 285,
     "metadata": {},
     "output_type": "execute_result"
    }
   ],
   "source": [
    "scipy_omega = scipy_omega(rets)\n",
    "scipy_omega"
   ]
  },
  {
   "cell_type": "code",
   "execution_count": 286,
   "id": "d360805e",
   "metadata": {},
   "outputs": [
    {
     "data": {
      "text/plain": [
       "1.0"
      ]
     },
     "execution_count": 286,
     "metadata": {},
     "output_type": "execute_result"
    }
   ],
   "source": [
    "sum(scipy_omega.values()).round(4)"
   ]
  },
  {
   "cell_type": "markdown",
   "id": "223a9731",
   "metadata": {},
   "source": [
    "---"
   ]
  },
  {
   "cell_type": "markdown",
   "id": "35f49bb5",
   "metadata": {},
   "source": [
    "#### Semi-Varianza Objetivo "
   ]
  },
  {
   "cell_type": "code",
   "execution_count": 287,
   "id": "f361c950",
   "metadata": {},
   "outputs": [
    {
     "data": {
      "text/plain": [
       "{'ABBV': 0.147970019416079,\n",
       " 'ISRG': 0.014375450465476364,\n",
       " 'JNJ': 0.5734245173548107,\n",
       " 'LLY': 0.04182210358814581,\n",
       " 'MRK': 0.22240790917548806}"
      ]
     },
     "execution_count": 287,
     "metadata": {},
     "output_type": "execute_result"
    }
   ],
   "source": [
    "objetivo_weights = objetivo(rets, rets_b, corr)\n",
    "objetivo_weights"
   ]
  },
  {
   "cell_type": "code",
   "execution_count": 288,
   "id": "50f1c189",
   "metadata": {},
   "outputs": [
    {
     "data": {
      "text/plain": [
       "1.0"
      ]
     },
     "execution_count": 288,
     "metadata": {},
     "output_type": "execute_result"
    }
   ],
   "source": [
    "sum(objetivo_weights.values())"
   ]
  },
  {
   "cell_type": "markdown",
   "id": "7418cde7",
   "metadata": {},
   "source": [
    "En esta función se puede observar que el activo con mayor peso en la minimización de la Semi-Varianza respecto al benchmark `VDC` es `ISRG`, lo que indica que este activo contribuye menos a las pérdidas grandes en comparación con otros, por lo que es una buena elección si buscamos un portafolio adverso al riesgo.\n",
    "\n",
    "Por otro lado, el activo con menor peso en la minimización de la Semi-Varianza respecto al benchmark `VDC` es `JNJ`, lo que sugiere que este activo tiene mayor probabilidad de generar pérdidas frecuentes, y por eso recibe un peso menor en un portafolio que busca controlar el riesgo.\n",
    "\n"
   ]
  },
  {
   "cell_type": "markdown",
   "id": "3fc1ffa4",
   "metadata": {},
   "source": [
    "---"
   ]
  },
  {
   "cell_type": "markdown",
   "id": "4ea42dca",
   "metadata": {},
   "source": [
    "#### Conclusión "
   ]
  },
  {
   "cell_type": "markdown",
   "id": "b6429393",
   "metadata": {},
   "source": [
    "Se puede concluir que la diferencia entre las teorías TMP (Teoría Moderna de Portafolio) y TPMP (Teoría Pos-Moderna de Portafolio) está en la forma en que se realizan los cálculos y en cómo se interpreta el riesgo. La TMP se basa únicamente en la varianza, sin distinguir si la volatilidad es positiva o negativa. Su ventaja es que es más sencilla de aplicar e interpretar, ya que con un solo cálculo se puede analizar el riesgo. Sin embargo, su principal desventaja es que trata por igual las ganancias y las pérdidas, lo cual no es ideal si se busca una inversión más segura o conservadora.\n",
    "\n",
    "En cambio, la TPMP utiliza más métricas que permiten evaluar mejor el comportamiento de los activos, enfocándose especialmente en la volatilidad negativa . Esto hace que sus resultados sean más realistas y útiles para inversionistas que buscan proteger su capital. No obstante, su aplicación es más compleja tanto matemática como computacionalmente, lo cual representa su mayor desventaja.\n",
    "\n",
    "Al elegir entre estas teorías es muy importante conocerr  y tener en claro qué tipo de riesgo estamos dispuestos a asumir en nuestra inversión, ya que cada enfoque responde a necesidades diferentes.\n",
    "\n",
    "En nuestro caso, la Teoría Posmoderna de Portafolio fue considerablemente más difícil de aplicar, ya que resultó muy demandante a nivel computacional. Hubo momentos en los que Jupyter Notebook se llegaba a trabar debido al alto consumo de recursos, lo que dificultó el trabajo. Sin embargo, a pesar de estas complicaciones técnicas, logramos obtener ponderaciones adecuadas en cada una de las funciones implementadas, lo que permitió alcanzar resultados coherentes con los objetivos del modelo.\n"
   ]
  }
 ],
 "metadata": {
  "kernelspec": {
   "display_name": "Python 3",
   "language": "python",
   "name": "python3"
  },
  "language_info": {
   "codemirror_mode": {
    "name": "ipython",
    "version": 3
   },
   "file_extension": ".py",
   "mimetype": "text/x-python",
   "name": "python",
   "nbconvert_exporter": "python",
   "pygments_lexer": "ipython3",
   "version": "3.12.8"
  }
 },
 "nbformat": 4,
 "nbformat_minor": 5
}
