{
 "cells": [
  {
   "cell_type": "markdown",
   "id": "213b6e04",
   "metadata": {},
   "source": [
    "# Portafolios de Inversión\n",
    "## Tarea 7\n",
    "\n",
    "Presenta : \n",
    "\n",
    "- José Armando Melchor Soto\n"
   ]
  },
  {
   "cell_type": "markdown",
   "id": "42d9fe1e",
   "metadata": {},
   "source": [
    "---\n",
    "### Librerías \n",
    "\n"
   ]
  },
  {
   "cell_type": "code",
   "execution_count": 2,
   "id": "e1c37e8b",
   "metadata": {},
   "outputs": [],
   "source": [
    "import pandas as pd \n",
    "import numpy as np\n",
    "import yfinance as yf\n",
    "import matplotlib.pyplot as plt\n",
    "from scipy.optimize import minimize "
   ]
  },
  {
   "cell_type": "markdown",
   "id": "be50403e",
   "metadata": {},
   "source": [
    "---"
   ]
  },
  {
   "cell_type": "markdown",
   "id": "2691612c",
   "metadata": {},
   "source": [
    "#### Indicaciones "
   ]
  },
  {
   "cell_type": "markdown",
   "id": "1bdd1631",
   "metadata": {},
   "source": [
    "1.- Función de Métricas de Desempeño. (20%)\n",
    "\n",
    "Genera una función en python que reciba un data frame con la evolución histórica de n cantidad de estrategías de inversión y calcule todas las métricas de desempeño vistas en las dos clases anteriores (Rendimiento, Volatilidad, Ratio de Sharpe, Downside, Upside, Omega, Beta, Alfa de Jensen, Ratio de Treynor, Ratio de Sortino).\n",
    " \n",
    "\n",
    "2.- Backtesting de Portafolio. (50%)\n",
    "\n",
    "Asume que quieres invertir en un portafolio compuesto por las siguientes acciones mexicanas: LIVEPOLC1.MX, KOFUBL.MX, CEMEXCPO.MX, CHDRAUIB.MX, CUERVO.MX, LABB.MX, RA.MX.\n",
    "Debido a que no sabes como ponderarlos, decides realizar el backtesting para el portafolio para cuatro estrategias de Asset Allocation: Mínima Varianza, Máximo de Sharpe, Semivarianza Target y Omega.\n",
    "Realiza el backtesting utilizando datos para simulación del 23-06-2024 hasta el 23-06-2025, toma un período anterior con el mismo horizonte temporal para optimizar las ponderaciones.\n",
    "Recuerda siempre comparar con una estrategia de inversión pasiva, en este caso la opción lógica es el IPC México.\n",
    "Gráfica la evolución histórica de las cinco alternativas de inversión.\n",
    "Con los resultados del backtesting histórico calcula e interpreta las métricas de desempeño para las cinco alternativas de estrategias de inversión simuladas.\n",
    " \n",
    "\n",
    "3.- Selección de Estrategia de Inversión. (20%)\n",
    "\n",
    "Utilizando los resultados de tu backtesting y las métricas de desempeño, selecciona una estrategia de inversión. Realiza una conclusión clara, breve y robusta de porque es la mejor estrategia PARA TI, apoyate en las métricas obtenidas y en tu perfil de aversión al riesgo.\n",
    " \n",
    "\n",
    "4.- Calculo de Pesos para Portafolio Real. (10%)\n",
    "\n",
    "En base a la estrategia de Asset Allocation seleccionada en el punto anterior, calcula los pesos eficientes y la cantidad de acciones que utilizarías para invertir en la realidad en tu portafolio. Recuerda tomar la ventana de datos más reciente, en función del horizonte temporal tomado. "
   ]
  },
  {
   "cell_type": "markdown",
   "id": "04483a60",
   "metadata": {},
   "source": [
    "---"
   ]
  },
  {
   "cell_type": "markdown",
   "id": "e22a5507",
   "metadata": {},
   "source": [
    "#### Funciones "
   ]
  },
  {
   "cell_type": "markdown",
   "id": "6b2e6908",
   "metadata": {},
   "source": [
    "##### Función Mínima Varianza "
   ]
  },
  {
   "cell_type": "code",
   "execution_count": 3,
   "id": "f9368f50",
   "metadata": {},
   "outputs": [],
   "source": [
    "def opt_min_var(rets):\n",
    "    \n",
    "    cov=rets.cov()\n",
    "    n_assets = len(rets.columns)\n",
    "    \n",
    "    var = lambda w: w.T @ cov @ w\n",
    "    \n",
    "    w0=np.ones(n_assets)/n_assets\n",
    "    \n",
    "    bounds=[(0, 1)]*n_assets\n",
    "    \n",
    "    constraint=lambda w: sum(w)-1\n",
    "    \n",
    "    result=minimize(fun=var, x0=w0, bounds=bounds, constraints={'fun': constraint, 'type': 'eq'}, tol=1e-16)\n",
    "    \n",
    "    return result.x"
   ]
  },
  {
   "cell_type": "markdown",
   "id": "93480f65",
   "metadata": {},
   "source": [
    "##### Función Máximo de Sharpe"
   ]
  },
  {
   "cell_type": "code",
   "execution_count": 4,
   "id": "f6455c98",
   "metadata": {},
   "outputs": [],
   "source": [
    "def opt_max_sharpe(rets, rf):\n",
    "    \n",
    "    E=rets.mean()\n",
    "    cov=rets.cov()\n",
    "    n_assets = len(rets.columns)\n",
    "    \n",
    "    rs = lambda w: -((w.T @ E - rf/252) / np.sqrt(w.T @ cov @ w))\n",
    "    \n",
    "    w0=np.ones(n_assets)/n_assets\n",
    "    \n",
    "    bounds=[(0, 1)]*n_assets\n",
    "    \n",
    "    constraint=lambda w: sum(w)-1\n",
    "    \n",
    "    result=minimize(fun=rs, x0=w0, bounds=bounds, constraints={'fun': constraint, 'type': 'eq'}, tol=1e-16)\n",
    "    \n",
    "    return result.x"
   ]
  },
  {
   "cell_type": "markdown",
   "id": "7cf0a0fd",
   "metadata": {},
   "source": [
    "##### Función Semi-Varianza Target"
   ]
  },
  {
   "cell_type": "code",
   "execution_count": 5,
   "id": "536d79af",
   "metadata": {},
   "outputs": [],
   "source": [
    "def objetivo (rets:pd.DataFrame , rets_b : pd.DataFrame ,corr:pd.DataFrame):\n",
    "    \n",
    "    rets, rets_b = rets.align(rets_b, join='inner', axis=0)\n",
    "    diffs=rets - rets_b.values\n",
    "    rends_below_bench = diffs[diffs < 0].fillna(0)\n",
    "    target_downside_risk=np.array(rends_below_bench.std())\n",
    "    target_semivarmatrix= corr * (target_downside_risk.reshape(len(rets.columns), 1) @ target_downside_risk.reshape(1, len(rets.columns)))\n",
    "\n",
    "    objectivo = lambda w: (w.T @ target_semivarmatrix @ w)\n",
    "\n",
    "    n = len(rets.keys())\n",
    "    w_inicial = np.ones(n)/n\n",
    "    bounds = [(0,1)]*n\n",
    "    tol = 1e-9\n",
    "    rest = lambda w: np.sum(w) - 1\n",
    "    \n",
    "    obj = minimize(\n",
    "    fun=objectivo,\n",
    "    x0=w_inicial,\n",
    "    bounds=bounds,\n",
    "    constraints={'fun': rest, 'type': 'eq'},\n",
    "    tol=tol)\n",
    "\n",
    "    w_objetivo = obj.x\n",
    "\n",
    "    return dict(zip(rets.columns, w_objetivo))"
   ]
  },
  {
   "cell_type": "markdown",
   "id": "808bbefa",
   "metadata": {},
   "source": [
    "##### Función Omega\n"
   ]
  },
  {
   "cell_type": "code",
   "execution_count": 6,
   "id": "3aa4e6b5",
   "metadata": {},
   "outputs": [],
   "source": [
    "def scipy_omega(rets: pd.DataFrame):\n",
    "    n = len(rets.columns)\n",
    "    w_inicial = np.ones(n) / n\n",
    "    bounds = [(0, 1)] * n\n",
    "    tol = 1e-16\n",
    "\n",
    "    rets_below_zero = rets[rets < 0].fillna(0)\n",
    "    rets_above_zero = rets[rets > 0].fillna(0)\n",
    "    upside_risk=rets_above_zero.std()\n",
    "    downside_risk = rets_below_zero.std()\n",
    "\n",
    "    omega_ind = upside_risk / downside_risk\n",
    "\n",
    "    Omega_neg = lambda w: -np.sum(w * omega_ind)\n",
    "\n",
    "    constraints = {'fun': lambda w: np.sum(w) - 1, 'type': 'eq'}\n",
    "\n",
    "    result = minimize(\n",
    "        fun=Omega_neg,\n",
    "        x0=w_inicial,\n",
    "        bounds=bounds,\n",
    "        constraints=constraints,\n",
    "        tol=tol\n",
    "    )\n",
    "\n",
    "    w_omega = result.x\n",
    "    return dict(zip(rets.columns, w_omega))\n"
   ]
  },
  {
   "cell_type": "markdown",
   "id": "7e8c05e9",
   "metadata": {},
   "source": [
    "##### Función Backtesting "
   ]
  },
  {
   "cell_type": "code",
   "execution_count": 7,
   "id": "c4a9e5a4",
   "metadata": {},
   "outputs": [],
   "source": [
    "def backtesting(prices: pd.DataFrame, benchmark: pd.DataFrame, weights: dict, capital: float):\n",
    "    \n",
    "    # Obtener rendimientos de precios y benchmark\n",
    "    rets_assets = prices.pct_change().dropna()\n",
    "    rets_benchmark = benchmark.pct_change().dropna()\n",
    "    \n",
    "    # data frame vacio para llenar historia\n",
    "    \n",
    "    df = pd.DataFrame(index=rets_assets.index)\n",
    "    \n",
    "    # Obtener evolución para cada estrategia dada\n",
    "    for strategy in weights.keys():\n",
    "        # para benchmark\n",
    "        if strategy == 'benchmark':\n",
    "            temp = rets_benchmark + 1\n",
    "            temp.iloc[0]=capital\n",
    "            temp = temp.cumprod()\n",
    "            df[strategy] = temp.values            \n",
    "    \n",
    "        # para otras estrategias\n",
    "\n",
    "        else:\n",
    "            temp = (rets_assets * weights.get(strategy)).sum(axis=1)+1\n",
    "            temp.iloc[0]=capital\n",
    "            temp = temp.cumprod()\n",
    "            df[strategy] = temp.values    \n",
    "\n",
    "    # Graficar la evolucion para ambos portafolios\n",
    "    plt.figure(figsize=(12,6))\n",
    "    plt.plot(df, label=df.keys())\n",
    "    plt.title('Backtesting of Strategies')\n",
    "    plt.xlabel('Date')\n",
    "    plt.ylabel('Portafolio Value')\n",
    "    plt.legend()\n",
    "    plt.show()\n",
    "\n",
    "\n",
    "    return df"
   ]
  },
  {
   "cell_type": "markdown",
   "id": "de825136",
   "metadata": {},
   "source": [
    "##### Función Métricas de Desempeño"
   ]
  },
  {
   "cell_type": "code",
   "execution_count": 8,
   "id": "a6bf2751",
   "metadata": {},
   "outputs": [],
   "source": [
    "def metricas_anuales(history, rf):\n",
    "    # Returns\n",
    "    rets= history.pct_change().dropna()\n",
    "    \n",
    "    # Matriz de Cov\n",
    "    cov_hist = rets.cov()\n",
    "\n",
    "    # Dataframe\n",
    "    metricas = pd.DataFrame(index=rets.columns)\n",
    "\n",
    "    # Rendimiento \n",
    "    metricas['Rendimiento Promedio Anual'] = R_p = rets.mean()*252*100\n",
    "    \n",
    "    # Volatilidad \n",
    "    metricas['Volatilidad Anual'] = vol_anual = rets.std()*np.sqrt(252)*100\n",
    "    \n",
    "    # Ratio de Sharpe\n",
    "    metricas['Ratio de Sharpe'] = (R_p - rf) / vol_anual\n",
    "\n",
    "    # Downside Risk\n",
    "    metricas['Downside Risk'] = downside = rets[rets < 0].std() * np.sqrt(252) * 100\n",
    "\n",
    "    # Upside Risk\n",
    "    metricas['Upside Risk'] = upside = rets[rets > 0].std() * np.sqrt(252) * 100\n",
    "\n",
    "    # Omega\n",
    "    metricas['Omega'] =omega= upside / downside\n",
    "\n",
    "    # Beta\n",
    "\n",
    "    covs = cov_hist['Benchmark']\n",
    "    varianza_market = covs['Benchmark']\n",
    "    metricas['Beta'] = beta = covs / varianza_market\n",
    "\n",
    "    # Alfa de Jensen\n",
    "\n",
    "    R_m = rets['Benchmark']\n",
    "    alpha_Jensen = R_p - (rf + beta * (R_m - rf))\n",
    "\n",
    "    # Ratio de Treynor\n",
    "    metricas['Ratio de Treynor'] = (R_p - rf) / beta\n",
    "\n",
    "    # Ratio de Sortino\n",
    "    metricas['Ratio de Sortino'] = (R_p - rf) / downside\n",
    "\n",
    "    return metricas.T\n"
   ]
  },
  {
   "cell_type": "markdown",
   "id": "b2a63a72",
   "metadata": {},
   "source": [
    "---"
   ]
  },
  {
   "cell_type": "markdown",
   "id": "45bc5115",
   "metadata": {},
   "source": [
    "#### Construcción del Portafolio "
   ]
  },
  {
   "cell_type": "markdown",
   "id": "837a7ec9",
   "metadata": {},
   "source": [
    "##### Activos "
   ]
  },
  {
   "cell_type": "markdown",
   "id": "a6247046",
   "metadata": {},
   "source": [
    "| **Empresa**                             | **Ticker**        | **Sector Económico**                          |\n",
    "|----------------------------------------|-------------------|-----------------------------------------------|\n",
    "| El Puerto de Liverpool, S.A.B. de C.V. | LIVEPOLC-1.MX     | Consumo                 |\n",
    "| Coca-Cola FEMSA, S.A.B. de C.V.        | KOFUBL.MX         | Consumo Básico             |\n",
    "| Cemex, S.A.B. de C.V.                  | CEMEXCPO.MX       | Materiales           |\n",
    "| Grupo Comercial Chedraui               | CHDRAUIB.MX       | Consumo Básico          |\n",
    "| Becle, S.A.B. de C.V. (José Cuervo)    | CUERVO.MX         | Consumo Básico       |\n",
    "| Genomma Lab Internacional, S.A.B. de C.V. | LABB.MX         | Salud  |\n",
    "| Rassini, S.A.B. de C.V.                | RA.MX             | Industriales                   |\n",
    "\n"
   ]
  },
  {
   "cell_type": "markdown",
   "id": "18905cb5",
   "metadata": {},
   "source": [
    "##### Benchmark"
   ]
  },
  {
   "cell_type": "markdown",
   "id": "2dad3ea8",
   "metadata": {},
   "source": [
    "- (IPC) Índice de Precios y Cotizaciones de la Bolsa Mexicana de Valores (^MXX)."
   ]
  },
  {
   "cell_type": "markdown",
   "id": "b0fba4f3",
   "metadata": {},
   "source": [
    "---"
   ]
  },
  {
   "cell_type": "markdown",
   "id": "807b0c9f",
   "metadata": {},
   "source": [
    "#### Importación de los datos"
   ]
  },
  {
   "cell_type": "code",
   "execution_count": 9,
   "id": "14e510f4",
   "metadata": {},
   "outputs": [
    {
     "name": "stdout",
     "output_type": "stream",
     "text": [
      "YF.download() has changed argument auto_adjust default to True\n"
     ]
    }
   ],
   "source": [
    "tickers = ['LIVEPOLC-1.MX', 'KOFUBL.MX', 'CEMEXCPO.MX', 'CHDRAUIB.MX', 'CUERVO.MX', 'LABB.MX', 'RA.MX']\n",
    "\n",
    "opt_prices = yf.download(tickers, start='2023-06-23', end='2024-06-23', progress=False)['Close']\n",
    "\n",
    "bt_prices = yf.download(tickers,  start='2024-06-23', end='2025-06-23', progress=False)['Close']\n",
    "\n",
    "benchmark = yf.download(['^MXX'], start='2024-06-23', end='2025-06-23', progress=False)['Close']"
   ]
  },
  {
   "cell_type": "markdown",
   "id": "6808e623",
   "metadata": {},
   "source": [
    "##### Rendimientos activos"
   ]
  },
  {
   "cell_type": "code",
   "execution_count": 10,
   "id": "c0230d92",
   "metadata": {},
   "outputs": [],
   "source": [
    "opt_rets = opt_prices.pct_change().dropna()\n",
    "corr = opt_rets.corr()"
   ]
  },
  {
   "cell_type": "markdown",
   "id": "6f5070a3",
   "metadata": {},
   "source": [
    "##### Rendimientos benchmark"
   ]
  },
  {
   "cell_type": "code",
   "execution_count": null,
   "id": "0ba4d75c",
   "metadata": {},
   "outputs": [],
   "source": [
    "rets_b = benchmark.pct_change().dropna()+1"
   ]
  },
  {
   "cell_type": "markdown",
   "id": "c7e54b5e",
   "metadata": {},
   "source": [
    "---"
   ]
  },
  {
   "cell_type": "markdown",
   "id": "d945fbbf",
   "metadata": {},
   "source": [
    "#### Asset Allocation "
   ]
  },
  {
   "cell_type": "markdown",
   "id": "f7182cfa",
   "metadata": {},
   "source": [
    "##### Mínima Varianza"
   ]
  },
  {
   "cell_type": "code",
   "execution_count": 12,
   "id": "ee4405f3",
   "metadata": {},
   "outputs": [
    {
     "data": {
      "text/plain": [
       "{'CEMEXCPO.MX': 0.04611909247813237,\n",
       " 'CHDRAUIB.MX': 0.30905624737915166,\n",
       " 'CUERVO.MX': 0.11713471695671539,\n",
       " 'KOFUBL.MX': 0.21646746457064273,\n",
       " 'LABB.MX': 0.0014374896719789433,\n",
       " 'LIVEPOLC-1.MX': 0.2471786744184068,\n",
       " 'RA.MX': 0.06260631452497217}"
      ]
     },
     "execution_count": 12,
     "metadata": {},
     "output_type": "execute_result"
    }
   ],
   "source": [
    "w_minvar = opt_min_var(opt_rets)\n",
    "dict(zip(opt_rets.columns, w_minvar))"
   ]
  },
  {
   "cell_type": "markdown",
   "id": "e52322c2",
   "metadata": {},
   "source": [
    "##### Máximo de Sharpe "
   ]
  },
  {
   "cell_type": "code",
   "execution_count": 13,
   "id": "9b3a28d7",
   "metadata": {},
   "outputs": [
    {
     "data": {
      "text/plain": [
       "{'CEMEXCPO.MX': 1.5723497334440072e-17,\n",
       " 'CHDRAUIB.MX': 0.5377960551043257,\n",
       " 'CUERVO.MX': 8.374336929910183e-17,\n",
       " 'KOFUBL.MX': 8.17363828825133e-18,\n",
       " 'LABB.MX': 0.09006444151799088,\n",
       " 'LIVEPOLC-1.MX': 0.37213950337768337,\n",
       " 'RA.MX': 0.0}"
      ]
     },
     "execution_count": 13,
     "metadata": {},
     "output_type": "execute_result"
    }
   ],
   "source": [
    "w_maxsharpe = opt_max_sharpe(opt_rets, rf=0.045)\n",
    "dict(zip(opt_rets.columns, w_maxsharpe))"
   ]
  },
  {
   "cell_type": "markdown",
   "id": "91d99379",
   "metadata": {},
   "source": [
    "##### Semi-Varianza target"
   ]
  },
  {
   "cell_type": "code",
   "execution_count": 14,
   "id": "41e0e457",
   "metadata": {},
   "outputs": [
    {
     "data": {
      "text/plain": [
       "{'CEMEXCPO.MX': 0.14285714285714285,\n",
       " 'CHDRAUIB.MX': 0.14285714285714285,\n",
       " 'CUERVO.MX': 0.14285714285714285,\n",
       " 'KOFUBL.MX': 0.14285714285714285,\n",
       " 'LABB.MX': 0.14285714285714285,\n",
       " 'LIVEPOLC-1.MX': 0.14285714285714285,\n",
       " 'RA.MX': 0.14285714285714285}"
      ]
     },
     "execution_count": 14,
     "metadata": {},
     "output_type": "execute_result"
    }
   ],
   "source": [
    "w_semivar= objetivo(opt_rets, rets_b, corr)\n",
    "w_semivar"
   ]
  },
  {
   "cell_type": "markdown",
   "id": "b0b5a7c4",
   "metadata": {},
   "source": [
    "##### Ratio Omega"
   ]
  },
  {
   "cell_type": "code",
   "execution_count": 15,
   "id": "d4d0ce8e",
   "metadata": {},
   "outputs": [
    {
     "data": {
      "text/plain": [
       "{'CEMEXCPO.MX': 6.967806737070939e-21,\n",
       " 'CHDRAUIB.MX': 1.0,\n",
       " 'CUERVO.MX': 9.030260362230184e-18,\n",
       " 'KOFUBL.MX': 0.0,\n",
       " 'LABB.MX': 0.0,\n",
       " 'LIVEPOLC-1.MX': 1.5368326060975425e-16,\n",
       " 'RA.MX': 1.4014017671459198e-17}"
      ]
     },
     "execution_count": 15,
     "metadata": {},
     "output_type": "execute_result"
    }
   ],
   "source": [
    "omega = scipy_omega(opt_rets)\n",
    "omega"
   ]
  },
  {
   "cell_type": "markdown",
   "id": "34da8588",
   "metadata": {},
   "source": [
    "---"
   ]
  },
  {
   "cell_type": "markdown",
   "id": "6a0e0457",
   "metadata": {},
   "source": [
    "### Backtesting de Portafolio"
   ]
  },
  {
   "cell_type": "markdown",
   "id": "ac3ee833",
   "metadata": {},
   "source": [
    "##### Capital "
   ]
  },
  {
   "cell_type": "code",
   "execution_count": 16,
   "id": "c701fda5",
   "metadata": {},
   "outputs": [],
   "source": [
    "capital = 1000000"
   ]
  },
  {
   "cell_type": "markdown",
   "id": "5d7c38c3",
   "metadata": {},
   "source": [
    "##### Estrategias a usar"
   ]
  },
  {
   "cell_type": "code",
   "execution_count": 17,
   "id": "a2a1833f",
   "metadata": {},
   "outputs": [],
   "source": [
    "w_dict = {\n",
    "    'Min Varianza': w_minvar,\n",
    "    'Max Sharpe': w_maxsharpe,\n",
    "    'Semi-Varianza target': w_semivar,\n",
    "    'Ratio Omega': omega,\n",
    "    'Benchmark': 1\n",
    "}"
   ]
  },
  {
   "cell_type": "markdown",
   "id": "8fcb9170",
   "metadata": {},
   "source": [
    "##### Función Aplicada "
   ]
  },
  {
   "cell_type": "code",
   "execution_count": 18,
   "id": "fb33c32c",
   "metadata": {},
   "outputs": [
    {
     "data": {
      "image/png": "[encoded data removed]",
      "text/plain": [
       "<Figure size 1200x600 with 1 Axes>"
      ]
     },
     "metadata": {},
     "output_type": "display_data"
    }
   ],
   "source": [
    "history = backtesting(bt_prices, benchmark, w_dict, capital)"
   ]
  },
  {
   "cell_type": "markdown",
   "id": "fd3c68b0",
   "metadata": {},
   "source": [
    "#### Métricas de Desempeño"
   ]
  },
  {
   "cell_type": "code",
   "execution_count": 19,
   "id": "79648566",
   "metadata": {},
   "outputs": [
    {
     "data": {
      "text/html": [
       "<div>\n",
       "<style scoped>\n",
       "    .dataframe tbody tr th:only-of-type {\n",
       "        vertical-align: middle;\n",
       "    }\n",
       "\n",
       "    .dataframe tbody tr th {\n",
       "        vertical-align: top;\n",
       "    }\n",
       "\n",
       "    .dataframe thead th {\n",
       "        text-align: right;\n",
       "    }\n",
       "</style>\n",
       "<table border=\"1\" class=\"dataframe\">\n",
       "  <thead>\n",
       "    <tr style=\"text-align: right;\">\n",
       "      <th></th>\n",
       "      <th>Min Varianza</th>\n",
       "      <th>Max Sharpe</th>\n",
       "      <th>Semi-Varianza target</th>\n",
       "      <th>Ratio Omega</th>\n",
       "      <th>Benchmark</th>\n",
       "    </tr>\n",
       "  </thead>\n",
       "  <tbody>\n",
       "    <tr>\n",
       "      <th>Rendimiento Promedio Anual</th>\n",
       "      <td>3.050151</td>\n",
       "      <td>2.787506</td>\n",
       "      <td>8.628321</td>\n",
       "      <td>18.722520</td>\n",
       "      <td>60.398246</td>\n",
       "    </tr>\n",
       "    <tr>\n",
       "      <th>Volatilidad Anual</th>\n",
       "      <td>16.299091</td>\n",
       "      <td>18.447180</td>\n",
       "      <td>16.368645</td>\n",
       "      <td>26.702499</td>\n",
       "      <td>114.580518</td>\n",
       "    </tr>\n",
       "    <tr>\n",
       "      <th>Ratio de Sharpe</th>\n",
       "      <td>0.184375</td>\n",
       "      <td>0.148668</td>\n",
       "      <td>0.524376</td>\n",
       "      <td>0.699467</td>\n",
       "      <td>0.526732</td>\n",
       "    </tr>\n",
       "    <tr>\n",
       "      <th>Downside Risk</th>\n",
       "      <td>10.253995</td>\n",
       "      <td>11.738907</td>\n",
       "      <td>11.459895</td>\n",
       "      <td>16.355630</td>\n",
       "      <td>80.219266</td>\n",
       "    </tr>\n",
       "    <tr>\n",
       "      <th>Upside Risk</th>\n",
       "      <td>10.305358</td>\n",
       "      <td>11.869967</td>\n",
       "      <td>9.840446</td>\n",
       "      <td>18.943980</td>\n",
       "      <td>68.883120</td>\n",
       "    </tr>\n",
       "    <tr>\n",
       "      <th>Omega</th>\n",
       "      <td>1.005009</td>\n",
       "      <td>1.011165</td>\n",
       "      <td>0.858685</td>\n",
       "      <td>1.158254</td>\n",
       "      <td>0.858685</td>\n",
       "    </tr>\n",
       "    <tr>\n",
       "      <th>Beta</th>\n",
       "      <td>0.126188</td>\n",
       "      <td>0.116060</td>\n",
       "      <td>0.142857</td>\n",
       "      <td>0.131461</td>\n",
       "      <td>1.000000</td>\n",
       "    </tr>\n",
       "    <tr>\n",
       "      <th>Ratio de Treynor</th>\n",
       "      <td>23.814913</td>\n",
       "      <td>23.630142</td>\n",
       "      <td>60.083246</td>\n",
       "      <td>142.076969</td>\n",
       "      <td>60.353246</td>\n",
       "    </tr>\n",
       "    <tr>\n",
       "      <th>Ratio de Sortino</th>\n",
       "      <td>0.293071</td>\n",
       "      <td>0.233625</td>\n",
       "      <td>0.748988</td>\n",
       "      <td>1.141963</td>\n",
       "      <td>0.752354</td>\n",
       "    </tr>\n",
       "  </tbody>\n",
       "</table>\n",
       "</div>"
      ],
      "text/plain": [
       "                            Min Varianza  Max Sharpe  Semi-Varianza target  \\\n",
       "Rendimiento Promedio Anual      3.050151    2.787506              8.628321   \n",
       "Volatilidad Anual              16.299091   18.447180             16.368645   \n",
       "Ratio de Sharpe                 0.184375    0.148668              0.524376   \n",
       "Downside Risk                  10.253995   11.738907             11.459895   \n",
       "Upside Risk                    10.305358   11.869967              9.840446   \n",
       "Omega                           1.005009    1.011165              0.858685   \n",
       "Beta                            0.126188    0.116060              0.142857   \n",
       "Ratio de Treynor               23.814913   23.630142             60.083246   \n",
       "Ratio de Sortino                0.293071    0.233625              0.748988   \n",
       "\n",
       "                            Ratio Omega   Benchmark  \n",
       "Rendimiento Promedio Anual    18.722520   60.398246  \n",
       "Volatilidad Anual             26.702499  114.580518  \n",
       "Ratio de Sharpe                0.699467    0.526732  \n",
       "Downside Risk                 16.355630   80.219266  \n",
       "Upside Risk                   18.943980   68.883120  \n",
       "Omega                          1.158254    0.858685  \n",
       "Beta                           0.131461    1.000000  \n",
       "Ratio de Treynor             142.076969   60.353246  \n",
       "Ratio de Sortino               1.141963    0.752354  "
      ]
     },
     "execution_count": 19,
     "metadata": {},
     "output_type": "execute_result"
    }
   ],
   "source": [
    "Desempeño = metricas_anuales(history, 0.045)\n",
    "Desempeño"
   ]
  },
  {
   "cell_type": "markdown",
   "id": "08c1f6d2",
   "metadata": {},
   "source": [
    "#### Interpretación"
   ]
  },
  {
   "cell_type": "markdown",
   "id": "6047c7cc",
   "metadata": {},
   "source": []
  },
  {
   "cell_type": "markdown",
   "id": "f62af219",
   "metadata": {},
   "source": [
    "---"
   ]
  },
  {
   "cell_type": "markdown",
   "id": "20ec8bcc",
   "metadata": {},
   "source": [
    "### Selección de Estrategias de Inversión "
   ]
  },
  {
   "cell_type": "markdown",
   "id": "51bb6a21",
   "metadata": {},
   "source": [
    "##### Perfil de aversión al Riesgo  : Adverso al riesgo"
   ]
  },
  {
   "cell_type": "markdown",
   "id": "edefb087",
   "metadata": {},
   "source": []
  },
  {
   "cell_type": "markdown",
   "id": "dbd73152",
   "metadata": {},
   "source": [
    "---"
   ]
  },
  {
   "cell_type": "markdown",
   "id": "59ae99c7",
   "metadata": {},
   "source": [
    "### Calculo de Pesos para Portafolio Real"
   ]
  },
  {
   "cell_type": "code",
   "execution_count": null,
   "id": "b1c8b705",
   "metadata": {},
   "outputs": [
    {
     "data": {
      "text/html": [
       "<div>\n",
       "<style scoped>\n",
       "    .dataframe tbody tr th:only-of-type {\n",
       "        vertical-align: middle;\n",
       "    }\n",
       "\n",
       "    .dataframe tbody tr th {\n",
       "        vertical-align: top;\n",
       "    }\n",
       "\n",
       "    .dataframe thead th {\n",
       "        text-align: right;\n",
       "    }\n",
       "</style>\n",
       "<table border=\"1\" class=\"dataframe\">\n",
       "  <thead>\n",
       "    <tr style=\"text-align: right;\">\n",
       "      <th></th>\n",
       "      <th>w</th>\n",
       "      <th>Cash</th>\n",
       "      <th>No. Acciones</th>\n",
       "    </tr>\n",
       "    <tr>\n",
       "      <th>Ticker</th>\n",
       "      <th></th>\n",
       "      <th></th>\n",
       "      <th></th>\n",
       "    </tr>\n",
       "  </thead>\n",
       "  <tbody>\n",
       "    <tr>\n",
       "      <th>CEMEXCPO.MX</th>\n",
       "      <td>0.698731</td>\n",
       "      <td>698730.565081</td>\n",
       "      <td>53997.0</td>\n",
       "    </tr>\n",
       "    <tr>\n",
       "      <th>CHDRAUIB.MX</th>\n",
       "      <td>0.000000</td>\n",
       "      <td>0.000000</td>\n",
       "      <td>0.0</td>\n",
       "    </tr>\n",
       "    <tr>\n",
       "      <th>CUERVO.MX</th>\n",
       "      <td>0.120592</td>\n",
       "      <td>120591.724200</td>\n",
       "      <td>5231.0</td>\n",
       "    </tr>\n",
       "    <tr>\n",
       "      <th>KOFUBL.MX</th>\n",
       "      <td>0.005437</td>\n",
       "      <td>5436.694937</td>\n",
       "      <td>30.0</td>\n",
       "    </tr>\n",
       "    <tr>\n",
       "      <th>LABB.MX</th>\n",
       "      <td>0.169428</td>\n",
       "      <td>169428.437420</td>\n",
       "      <td>8184.0</td>\n",
       "    </tr>\n",
       "    <tr>\n",
       "      <th>LIVEPOLC-1.MX</th>\n",
       "      <td>0.005813</td>\n",
       "      <td>5812.578362</td>\n",
       "      <td>61.0</td>\n",
       "    </tr>\n",
       "    <tr>\n",
       "      <th>RA.MX</th>\n",
       "      <td>0.000000</td>\n",
       "      <td>0.000000</td>\n",
       "      <td>0.0</td>\n",
       "    </tr>\n",
       "  </tbody>\n",
       "</table>\n",
       "</div>"
      ],
      "text/plain": [
       "                      w           Cash  No. Acciones\n",
       "Ticker                                              \n",
       "CEMEXCPO.MX    0.698731  698730.565081       53997.0\n",
       "CHDRAUIB.MX    0.000000       0.000000           0.0\n",
       "CUERVO.MX      0.120592  120591.724200        5231.0\n",
       "KOFUBL.MX      0.005437    5436.694937          30.0\n",
       "LABB.MX        0.169428  169428.437420        8184.0\n",
       "LIVEPOLC-1.MX  0.005813    5812.578362          61.0\n",
       "RA.MX          0.000000       0.000000           0.0"
      ]
     },
     "execution_count": 28,
     "metadata": {},
     "output_type": "execute_result"
    }
   ],
   "source": [
    "re_opt = pd.DataFrame(index=  opt_rets.columns)\n",
    "re_opt['w'] = opt_min_var(bt_prices)\n",
    "re_opt['Cash'] = re_opt['w'] * capital\n",
    "re_opt['No. Acciones'] = np.floor(re_opt['Cash'] / bt_prices.iloc[-1])\n",
    "re_opt\n",
    "\n"
   ]
  },
  {
   "cell_type": "code",
   "execution_count": 29,
   "id": "61185172",
   "metadata": {},
   "outputs": [
    {
     "data": {
      "text/plain": [
       "1.000000000000006"
      ]
     },
     "execution_count": 29,
     "metadata": {},
     "output_type": "execute_result"
    }
   ],
   "source": [
    "re_opt['w'].sum()"
   ]
  }
 ],
 "metadata": {
  "kernelspec": {
   "display_name": "Python 3",
   "language": "python",
   "name": "python3"
  },
  "language_info": {
   "codemirror_mode": {
    "name": "ipython",
    "version": 3
   },
   "file_extension": ".py",
   "mimetype": "text/x-python",
   "name": "python",
   "nbconvert_exporter": "python",
   "pygments_lexer": "ipython3",
   "version": "3.12.8"
  }
 },
 "nbformat": 4,
 "nbformat_minor": 5
}
