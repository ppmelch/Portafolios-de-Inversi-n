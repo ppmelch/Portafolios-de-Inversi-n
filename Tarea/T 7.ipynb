{
 "cells": [
  {
   "cell_type": "markdown",
   "id": "213b6e04",
   "metadata": {},
   "source": [
    "# Portafolios de Inversión\n",
    "## Tarea 7\n",
    "\n",
    "Presenta : \n",
    "\n",
    "- José Armando Melchor Soto\n"
   ]
  },
  {
   "cell_type": "markdown",
   "id": "42d9fe1e",
   "metadata": {},
   "source": [
    "---\n",
    "### Librerías \n",
    "\n"
   ]
  },
  {
   "cell_type": "code",
   "execution_count": 1,
   "id": "e1c37e8b",
   "metadata": {},
   "outputs": [],
   "source": [
    "import pandas as pd \n",
    "import numpy as np\n",
    "import yfinance as yf\n",
    "import matplotlib.pyplot as plt\n",
    "from scipy.optimize import minimize "
   ]
  },
  {
   "cell_type": "markdown",
   "id": "be50403e",
   "metadata": {},
   "source": [
    "---"
   ]
  },
  {
   "cell_type": "markdown",
   "id": "2691612c",
   "metadata": {},
   "source": [
    "#### Indicaciones "
   ]
  },
  {
   "cell_type": "markdown",
   "id": "1bdd1631",
   "metadata": {},
   "source": [
    "1.- Función de Métricas de Desempeño. (20%)\n",
    "\n",
    "Genera una función en python que reciba un data frame con la evolución histórica de n cantidad de estrategías de inversión y calcule todas las métricas de desempeño vistas en las dos clases anteriores (Rendimiento, Volatilidad, Ratio de Sharpe, Downside, Upside, Omega, Beta, Alfa de Jensen, Ratio de Treynor, Ratio de Sortino).\n",
    " \n",
    "\n",
    "2.- Backtesting de Portafolio. (50%)\n",
    "\n",
    "Asume que quieres invertir en un portafolio compuesto por las siguientes acciones mexicanas: LIVEPOLC1.MX, KOFUBL.MX, CEMEXCPO.MX, CHDRAUIB.MX, CUERVO.MX, LABB.MX, RA.MX.\n",
    "Debido a que no sabes como ponderarlos, decides realizar el backtesting para el portafolio para cuatro estrategias de Asset Allocation: Mínima Varianza, Máximo de Sharpe, Semivarianza Target y Omega.\n",
    "Realiza el backtesting utilizando datos para simulación del 23-06-2024 hasta el 23-06-2025, toma un período anterior con el mismo horizonte temporal para optimizar las ponderaciones.\n",
    "Recuerda siempre comparar con una estrategia de inversión pasiva, en este caso la opción lógica es el IPC México.\n",
    "Gráfica la evolución histórica de las cinco alternativas de inversión.\n",
    "Con los resultados del backtesting histórico calcula e interpreta las métricas de desempeño para las cinco alternativas de estrategias de inversión simuladas.\n",
    " \n",
    "\n",
    "3.- Selección de Estrategia de Inversión. (20%)\n",
    "\n",
    "Utilizando los resultados de tu backtesting y las métricas de desempeño, selecciona una estrategia de inversión. Realiza una conclusión clara, breve y robusta de porque es la mejor estrategia PARA TI, apoyate en las métricas obtenidas y en tu perfil de aversión al riesgo.\n",
    " \n",
    "\n",
    "4.- Calculo de Pesos para Portafolio Real. (10%)\n",
    "\n",
    "En base a la estrategia de Asset Allocation seleccionada en el punto anterior, calcula los pesos eficientes y la cantidad de acciones que utilizarías para invertir en la realidad en tu portafolio. Recuerda tomar la ventana de datos más reciente, en función del horizonte temporal tomado. "
   ]
  },
  {
   "cell_type": "markdown",
   "id": "04483a60",
   "metadata": {},
   "source": [
    "---"
   ]
  },
  {
   "cell_type": "markdown",
   "id": "e22a5507",
   "metadata": {},
   "source": [
    "#### Funciones "
   ]
  },
  {
   "cell_type": "markdown",
   "id": "6b2e6908",
   "metadata": {},
   "source": [
    "##### Función Mínima Varianza "
   ]
  },
  {
   "cell_type": "code",
   "execution_count": 6,
   "id": "f9368f50",
   "metadata": {},
   "outputs": [],
   "source": [
    "def opt_min_var(rets):\n",
    "    \n",
    "    cov=rets.cov()\n",
    "    n_assets = len(rets.columns)\n",
    "    \n",
    "    var = lambda w: w.T @ cov @ w\n",
    "    \n",
    "    w0=np.ones(n_assets)/n_assets\n",
    "    \n",
    "    bounds=[(0, 1)]*n_assets\n",
    "    \n",
    "    constraint=lambda w: sum(w)-1\n",
    "    \n",
    "    result=minimize(fun=var, x0=w0, bounds=bounds, constraints={'fun': constraint, 'type': 'eq'}, tol=1e-16)\n",
    "    \n",
    "    return result.x"
   ]
  },
  {
   "cell_type": "markdown",
   "id": "93480f65",
   "metadata": {},
   "source": [
    "##### Función Máximo de Sharpe"
   ]
  },
  {
   "cell_type": "code",
   "execution_count": 7,
   "id": "f6455c98",
   "metadata": {},
   "outputs": [],
   "source": [
    "def opt_max_sharpe(rets, rf):\n",
    "    \n",
    "    E=rets.mean()\n",
    "    cov=rets.cov()\n",
    "    n_assets = len(rets.columns)\n",
    "    \n",
    "    rs = lambda w: -((w.T @ E - rf/252) / np.sqrt(w.T @ cov @ w))\n",
    "    \n",
    "    w0=np.ones(n_assets)/n_assets\n",
    "    \n",
    "    bounds=[(0, 1)]*n_assets\n",
    "    \n",
    "    constraint=lambda w: sum(w)-1\n",
    "    \n",
    "    result=minimize(fun=rs, x0=w0, bounds=bounds, constraints={'fun': constraint, 'type': 'eq'}, tol=1e-16)\n",
    "    \n",
    "    return result.x"
   ]
  },
  {
   "cell_type": "markdown",
   "id": "7e8c05e9",
   "metadata": {},
   "source": [
    "##### Función Backtesting "
   ]
  },
  {
   "cell_type": "code",
   "execution_count": 8,
   "id": "c4a9e5a4",
   "metadata": {},
   "outputs": [],
   "source": [
    "def static_backtesting(prices: pd.DataFrame, benchmark: pd.DataFrame, weights: dict, capital: float):\n",
    "    \n",
    "    # Obtener rendimientos de precios y benchmark\n",
    "    rets_assets = prices.pct_change().dropna()\n",
    "    rets_benchmark = benchmark.pct_change().dropna()\n",
    "    \n",
    "    # data frame vacio para llenar historia\n",
    "    \n",
    "    df = pd.DataFrame(index=rets_assets.index)\n",
    "    \n",
    "    # Obtener evolución para cada estrategia dada\n",
    "    for strategy in weights.keys():\n",
    "        # para benchmark\n",
    "        if strategy == 'benchmark':\n",
    "            temp = rets_benchmark + 1\n",
    "            temp.iloc[0]=capital\n",
    "            temp = temp.cumprod()\n",
    "            df[strategy] = temp.values            \n",
    "    \n",
    "        # para otras estrategias\n",
    "    \n",
    "        else:\n",
    "            temp = (rets_assets * weights.get(strategy)).sum(axis=1)+1\n",
    "            temp.iloc[0]=capital\n",
    "            temp = temp.cumprod()\n",
    "            df[strategy] = temp.values    \n",
    "\n",
    "    # Graficar la evolucion para ambos portafolios\n",
    "    plt.figure(figsize=(12,6))\n",
    "    plt.plot(df, label=df.keys())\n",
    "    plt.title('Backtesting of Strategies')\n",
    "    plt.xlabel('Date')\n",
    "    plt.ylabel('Portafolio Value')\n",
    "    plt.legend()\n",
    "    plt.show()\n",
    "\n",
    "\n",
    "    return df"
   ]
  },
  {
   "cell_type": "markdown",
   "id": "de825136",
   "metadata": {},
   "source": [
    "##### Función Metricas de Desempeño"
   ]
  },
  {
   "cell_type": "code",
   "execution_count": null,
   "id": "a6bf2751",
   "metadata": {},
   "outputs": [],
   "source": [
    "def metricas_anuales(history, rf):\n",
    "    # Returns\n",
    "    rets= history.pct_change().dropna()\n",
    "    \n",
    "    # Matriz de Cov\n",
    "    cov_hist = rets.cov()\n",
    "\n",
    "    # Dataframe\n",
    "    metricas = pd.DataFrame(index=rets.columns)\n",
    "\n",
    "    # Rendimiento \n",
    "    metricas['Rendimiento Promedio Anual'] = R_p = rets.mean()*252*100\n",
    "    \n",
    "    # Volatilidad \n",
    "    metricas['Volatilidad Anual'] = vol_anual = rets.std()*np.sqrt(252)*100\n",
    "    \n",
    "    # Ratio de Sharpe\n",
    "    metricas['Ratio de Sharpe'] = (R_p - rf) / vol_anual\n",
    "\n",
    "    # Downside Risk\n",
    "    metricas['Downside Risk'] = downside = rets[rets < 0].std() * np.sqrt(252) * 100\n",
    "\n",
    "    # Upside Risk\n",
    "    metricas['Upside Risk'] = upside = rets[rets > 0].std() * np.sqrt(252) * 100\n",
    "\n",
    "    # Omega\n",
    "    metricas['Omega'] =omega= upside / downside\n",
    "\n",
    "    # Beta\n",
    "\n",
    "    covs = cov_hist['Benchmark']\n",
    "    varianza_market = covs['Benchmark']\n",
    "    metricas['Beta'] = beta = covs / varianza_market\n",
    "\n",
    "    # Alfa de Jensen\n",
    "\n",
    "    R_m = rets['Benchmark']\n",
    "    alpha_Jensen = R_p - (rf + beta * (R_m - rf))\n",
    "\n",
    "    # Ratio de Treynor\n",
    "    metricas['Ratio de Treynor'] = (R_p - rf) / beta\n",
    "\n",
    "    # Ratio de Sortino\n",
    "    metricas['Ratio de Sortino'] = (R_p - rf) / downside\n"
   ]
  },
  {
   "cell_type": "markdown",
   "id": "b2a63a72",
   "metadata": {},
   "source": [
    "---"
   ]
  },
  {
   "cell_type": "markdown",
   "id": "45bc5115",
   "metadata": {},
   "source": [
    "#### Construcción del Portafolio "
   ]
  },
  {
   "cell_type": "markdown",
   "id": "837a7ec9",
   "metadata": {},
   "source": [
    "##### Activos "
   ]
  },
  {
   "cell_type": "markdown",
   "id": "a6247046",
   "metadata": {},
   "source": [
    "| **Empresa**                             | **Ticker**        | **Sector Económico**                          |\n",
    "|----------------------------------------|-------------------|-----------------------------------------------|\n",
    "| El Puerto de Liverpool, S.A.B. de C.V. | LIVEPOLC-1.MX     | Consumo                 |\n",
    "| Coca-Cola FEMSA, S.A.B. de C.V.        | KOFUBL.MX         | Consumo Básico             |\n",
    "| Cemex, S.A.B. de C.V.                  | CEMEXCPO.MX       | Materiales           |\n",
    "| Grupo Comercial Chedraui               | CHDRAUIB.MX       | Consumo Básico          |\n",
    "| Becle, S.A.B. de C.V. (José Cuervo)    | CUERVO.MX         | Consumo Básico       |\n",
    "| Genomma Lab Internacional, S.A.B. de C.V. | LABB.MX         | Salud  |\n",
    "| Rassini, S.A.B. de C.V.                | RA.MX             | Industriales                   |\n",
    "\n"
   ]
  },
  {
   "cell_type": "markdown",
   "id": "18905cb5",
   "metadata": {},
   "source": [
    "##### Benchmark"
   ]
  },
  {
   "cell_type": "markdown",
   "id": "90973f0f",
   "metadata": {},
   "source": [
    "##### Sector económico :   "
   ]
  },
  {
   "cell_type": "markdown",
   "id": "2dad3ea8",
   "metadata": {},
   "source": [
    "- Vanguard Consumer Staples Index Fund ETF Shares (VDC)"
   ]
  },
  {
   "cell_type": "markdown",
   "id": "b0fba4f3",
   "metadata": {},
   "source": [
    "---"
   ]
  },
  {
   "cell_type": "markdown",
   "id": "807b0c9f",
   "metadata": {},
   "source": [
    "#### Importación de los datos"
   ]
  },
  {
   "cell_type": "markdown",
   "id": "0f86ac99",
   "metadata": {},
   "source": [
    "##### Activos "
   ]
  },
  {
   "cell_type": "code",
   "execution_count": null,
   "id": "14e510f4",
   "metadata": {},
   "outputs": [
    {
     "name": "stderr",
     "output_type": "stream",
     "text": [
      "[*********************100%***********************]  7 of 7 completed\n"
     ]
    },
    {
     "data": {
      "text/html": [
       "<div>\n",
       "<style scoped>\n",
       "    .dataframe tbody tr th:only-of-type {\n",
       "        vertical-align: middle;\n",
       "    }\n",
       "\n",
       "    .dataframe tbody tr th {\n",
       "        vertical-align: top;\n",
       "    }\n",
       "\n",
       "    .dataframe thead th {\n",
       "        text-align: right;\n",
       "    }\n",
       "</style>\n",
       "<table border=\"1\" class=\"dataframe\">\n",
       "  <thead>\n",
       "    <tr style=\"text-align: right;\">\n",
       "      <th>Ticker</th>\n",
       "      <th>CEMEXCPO.MX</th>\n",
       "      <th>CHDRAUIB.MX</th>\n",
       "      <th>CUERVO.MX</th>\n",
       "      <th>KOFUBL.MX</th>\n",
       "      <th>LABB.MX</th>\n",
       "      <th>LIVEPOLC-1.MX</th>\n",
       "      <th>RA.MX</th>\n",
       "    </tr>\n",
       "    <tr>\n",
       "      <th>Date</th>\n",
       "      <th></th>\n",
       "      <th></th>\n",
       "      <th></th>\n",
       "      <th></th>\n",
       "      <th></th>\n",
       "      <th></th>\n",
       "      <th></th>\n",
       "    </tr>\n",
       "  </thead>\n",
       "  <tbody>\n",
       "    <tr>\n",
       "      <th>2024-06-24</th>\n",
       "      <td>11.448030</td>\n",
       "      <td>126.384598</td>\n",
       "      <td>33.042759</td>\n",
       "      <td>150.527802</td>\n",
       "      <td>16.683031</td>\n",
       "      <td>124.302391</td>\n",
       "      <td>123.745781</td>\n",
       "    </tr>\n",
       "    <tr>\n",
       "      <th>2024-06-25</th>\n",
       "      <td>11.548014</td>\n",
       "      <td>125.912430</td>\n",
       "      <td>32.741837</td>\n",
       "      <td>153.082977</td>\n",
       "      <td>16.692781</td>\n",
       "      <td>124.655746</td>\n",
       "      <td>124.317032</td>\n",
       "    </tr>\n",
       "    <tr>\n",
       "      <th>2024-06-26</th>\n",
       "      <td>11.598005</td>\n",
       "      <td>124.151619</td>\n",
       "      <td>32.256485</td>\n",
       "      <td>152.003448</td>\n",
       "      <td>16.332016</td>\n",
       "      <td>128.159866</td>\n",
       "      <td>128.606079</td>\n",
       "    </tr>\n",
       "    <tr>\n",
       "      <th>2024-06-27</th>\n",
       "      <td>11.717984</td>\n",
       "      <td>124.515594</td>\n",
       "      <td>32.372967</td>\n",
       "      <td>154.984497</td>\n",
       "      <td>16.517273</td>\n",
       "      <td>129.396591</td>\n",
       "      <td>126.236794</td>\n",
       "    </tr>\n",
       "    <tr>\n",
       "      <th>2024-06-28</th>\n",
       "      <td>11.697988</td>\n",
       "      <td>124.722160</td>\n",
       "      <td>32.033222</td>\n",
       "      <td>155.846130</td>\n",
       "      <td>16.751284</td>\n",
       "      <td>129.053055</td>\n",
       "      <td>128.259598</td>\n",
       "    </tr>\n",
       "  </tbody>\n",
       "</table>\n",
       "</div>"
      ],
      "text/plain": [
       "Ticker      CEMEXCPO.MX  CHDRAUIB.MX  CUERVO.MX   KOFUBL.MX    LABB.MX  \\\n",
       "Date                                                                     \n",
       "2024-06-24    11.448030   126.384598  33.042759  150.527802  16.683031   \n",
       "2024-06-25    11.548014   125.912430  32.741837  153.082977  16.692781   \n",
       "2024-06-26    11.598005   124.151619  32.256485  152.003448  16.332016   \n",
       "2024-06-27    11.717984   124.515594  32.372967  154.984497  16.517273   \n",
       "2024-06-28    11.697988   124.722160  32.033222  155.846130  16.751284   \n",
       "\n",
       "Ticker      LIVEPOLC-1.MX       RA.MX  \n",
       "Date                                   \n",
       "2024-06-24     124.302391  123.745781  \n",
       "2024-06-25     124.655746  124.317032  \n",
       "2024-06-26     128.159866  128.606079  \n",
       "2024-06-27     129.396591  126.236794  \n",
       "2024-06-28     129.053055  128.259598  "
      ]
     },
     "execution_count": 4,
     "metadata": {},
     "output_type": "execute_result"
    }
   ],
   "source": [
    "prices = yf.download(['LIVEPOLC-1.MX', 'KOFUBL.MX', 'CEMEXCPO.MX', 'CHDRAUIB.MX', 'CUERVO.MX', 'LABB.MX', 'RA.MX'], start='2024-06-23', end='2025-06-23')['Close']\n",
    "prices.head()"
   ]
  },
  {
   "cell_type": "markdown",
   "id": "ee9c2bbe",
   "metadata": {},
   "source": [
    "##### Benchmarck "
   ]
  },
  {
   "cell_type": "code",
   "execution_count": null,
   "id": "eb46316c",
   "metadata": {},
   "outputs": [
    {
     "name": "stderr",
     "output_type": "stream",
     "text": [
      "[*********************100%***********************]  1 of 1 completed\n"
     ]
    },
    {
     "data": {
      "text/html": [
       "<div>\n",
       "<style scoped>\n",
       "    .dataframe tbody tr th:only-of-type {\n",
       "        vertical-align: middle;\n",
       "    }\n",
       "\n",
       "    .dataframe tbody tr th {\n",
       "        vertical-align: top;\n",
       "    }\n",
       "\n",
       "    .dataframe thead th {\n",
       "        text-align: right;\n",
       "    }\n",
       "</style>\n",
       "<table border=\"1\" class=\"dataframe\">\n",
       "  <thead>\n",
       "    <tr style=\"text-align: right;\">\n",
       "      <th>Ticker</th>\n",
       "      <th>VDC</th>\n",
       "    </tr>\n",
       "    <tr>\n",
       "      <th>Date</th>\n",
       "      <th></th>\n",
       "    </tr>\n",
       "  </thead>\n",
       "  <tbody>\n",
       "    <tr>\n",
       "      <th>2020-01-02</th>\n",
       "      <td>140.328171</td>\n",
       "    </tr>\n",
       "    <tr>\n",
       "      <th>2020-01-03</th>\n",
       "      <td>140.082397</td>\n",
       "    </tr>\n",
       "    <tr>\n",
       "      <th>2020-01-06</th>\n",
       "      <td>140.293060</td>\n",
       "    </tr>\n",
       "    <tr>\n",
       "      <th>2020-01-07</th>\n",
       "      <td>139.222183</td>\n",
       "    </tr>\n",
       "    <tr>\n",
       "      <th>2020-01-08</th>\n",
       "      <td>139.775192</td>\n",
       "    </tr>\n",
       "  </tbody>\n",
       "</table>\n",
       "</div>"
      ],
      "text/plain": [
       "Ticker             VDC\n",
       "Date                  \n",
       "2020-01-02  140.328171\n",
       "2020-01-03  140.082397\n",
       "2020-01-06  140.293060\n",
       "2020-01-07  139.222183\n",
       "2020-01-08  139.775192"
      ]
     },
     "execution_count": 5,
     "metadata": {},
     "output_type": "execute_result"
    }
   ],
   "source": [
    "benchmark = yf.download('VDC', start='2024-06-23', end='2025-06-23')['Close']\n",
    "benchmark.head()"
   ]
  },
  {
   "cell_type": "markdown",
   "id": "c7e54b5e",
   "metadata": {},
   "source": [
    "---"
   ]
  },
  {
   "cell_type": "markdown",
   "id": "59ae99c7",
   "metadata": {},
   "source": []
  }
 ],
 "metadata": {
  "kernelspec": {
   "display_name": "Python 3",
   "language": "python",
   "name": "python3"
  },
  "language_info": {
   "codemirror_mode": {
    "name": "ipython",
    "version": 3
   },
   "file_extension": ".py",
   "mimetype": "text/x-python",
   "name": "python",
   "nbconvert_exporter": "python",
   "pygments_lexer": "ipython3",
   "version": "3.12.8"
  }
 },
 "nbformat": 4,
 "nbformat_minor": 5
}
