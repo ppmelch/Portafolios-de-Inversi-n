{
 "cells": [
  {
   "cell_type": "markdown",
   "id": "213b6e04",
   "metadata": {},
   "source": [
    "# Portafolios de Inversión\n",
    "## Tarea 7\n",
    "\n",
    "Presenta : \n",
    "\n",
    "- José Armando Melchor Soto\n"
   ]
  },
  {
   "cell_type": "markdown",
   "id": "42d9fe1e",
   "metadata": {},
   "source": [
    "---\n",
    "### Librerías \n",
    "\n"
   ]
  },
  {
   "cell_type": "code",
   "execution_count": 28,
   "id": "e1c37e8b",
   "metadata": {},
   "outputs": [],
   "source": [
    "import pandas as pd \n",
    "import numpy as np\n",
    "import yfinance as yf\n",
    "import matplotlib.pyplot as plt\n",
    "from scipy.optimize import minimize "
   ]
  },
  {
   "cell_type": "markdown",
   "id": "be50403e",
   "metadata": {},
   "source": [
    "---"
   ]
  },
  {
   "cell_type": "markdown",
   "id": "2691612c",
   "metadata": {},
   "source": [
    "#### Indicaciones "
   ]
  },
  {
   "cell_type": "markdown",
   "id": "1bdd1631",
   "metadata": {},
   "source": [
    "1.- Función de Métricas de Desempeño. (20%)\n",
    "\n",
    "Genera una función en python que reciba un data frame con la evolución histórica de n cantidad de estrategías de inversión y calcule todas las métricas de desempeño vistas en las dos clases anteriores (Rendimiento, Volatilidad, Ratio de Sharpe, Downside, Upside, Omega, Beta, Alfa de Jensen, Ratio de Treynor, Ratio de Sortino).\n",
    " \n",
    "\n",
    "2.- Backtesting de Portafolio. (50%)\n",
    "\n",
    "Asume que quieres invertir en un portafolio compuesto por las siguientes acciones mexicanas: LIVEPOLC1.MX, KOFUBL.MX, CEMEXCPO.MX, CHDRAUIB.MX, CUERVO.MX, LABB.MX, RA.MX.\n",
    "Debido a que no sabes como ponderarlos, decides realizar el backtesting para el portafolio para cuatro estrategias de Asset Allocation: Mínima Varianza, Máximo de Sharpe, Semivarianza Target y Omega.\n",
    "Realiza el backtesting utilizando datos para simulación del 23-06-2024 hasta el 23-06-2025, toma un período anterior con el mismo horizonte temporal para optimizar las ponderaciones.\n",
    "Recuerda siempre comparar con una estrategia de inversión pasiva, en este caso la opción lógica es el IPC México.\n",
    "Gráfica la evolución histórica de las cinco alternativas de inversión.\n",
    "Con los resultados del backtesting histórico calcula e interpreta las métricas de desempeño para las cinco alternativas de estrategias de inversión simuladas.\n",
    " \n",
    "\n",
    "3.- Selección de Estrategia de Inversión. (20%)\n",
    "\n",
    "Utilizando los resultados de tu backtesting y las métricas de desempeño, selecciona una estrategia de inversión. Realiza una conclusión clara, breve y robusta de porque es la mejor estrategia PARA TI, apoyate en las métricas obtenidas y en tu perfil de aversión al riesgo.\n",
    " \n",
    "\n",
    "4.- Calculo de Pesos para Portafolio Real. (10%)\n",
    "\n",
    "En base a la estrategia de Asset Allocation seleccionada en el punto anterior, calcula los pesos eficientes y la cantidad de acciones que utilizarías para invertir en la realidad en tu portafolio. Recuerda tomar la ventana de datos más reciente, en función del horizonte temporal tomado. "
   ]
  },
  {
   "cell_type": "markdown",
   "id": "04483a60",
   "metadata": {},
   "source": [
    "---"
   ]
  },
  {
   "cell_type": "markdown",
   "id": "e22a5507",
   "metadata": {},
   "source": [
    "#### Funciones "
   ]
  },
  {
   "cell_type": "markdown",
   "id": "6b2e6908",
   "metadata": {},
   "source": [
    "##### Función Mínima Varianza "
   ]
  },
  {
   "cell_type": "code",
   "execution_count": 29,
   "id": "f9368f50",
   "metadata": {},
   "outputs": [],
   "source": [
    "def opt_min_var(rets):\n",
    "    \n",
    "    cov=rets.cov()\n",
    "    n_assets = len(rets.columns)\n",
    "    \n",
    "    var = lambda w: w.T @ cov @ w\n",
    "    \n",
    "    w0=np.ones(n_assets)/n_assets\n",
    "    \n",
    "    bounds=[(0, 1)]*n_assets\n",
    "    \n",
    "    constraint=lambda w: sum(w)-1\n",
    "    \n",
    "    result=minimize(fun=var, x0=w0, bounds=bounds, constraints={'fun': constraint, 'type': 'eq'}, tol=1e-16)\n",
    "    \n",
    "    return result.x"
   ]
  },
  {
   "cell_type": "markdown",
   "id": "93480f65",
   "metadata": {},
   "source": [
    "##### Función Máximo de Sharpe"
   ]
  },
  {
   "cell_type": "code",
   "execution_count": 30,
   "id": "f6455c98",
   "metadata": {},
   "outputs": [],
   "source": [
    "def opt_max_sharpe(rets, rf):\n",
    "    \n",
    "    E=rets.mean()\n",
    "    cov=rets.cov()\n",
    "    n_assets = len(rets.columns)\n",
    "    \n",
    "    rs = lambda w: -((w.T @ E - rf/252) / np.sqrt(w.T @ cov @ w))\n",
    "    \n",
    "    w0=np.ones(n_assets)/n_assets\n",
    "    \n",
    "    bounds=[(0, 1)]*n_assets\n",
    "    \n",
    "    constraint=lambda w: sum(w)-1\n",
    "    \n",
    "    result=minimize(fun=rs, x0=w0, bounds=bounds, constraints={'fun': constraint, 'type': 'eq'}, tol=1e-16)\n",
    "    \n",
    "    return result.x"
   ]
  },
  {
   "cell_type": "markdown",
   "id": "7cf0a0fd",
   "metadata": {},
   "source": [
    "##### Función Semi-Varianza Target"
   ]
  },
  {
   "cell_type": "code",
   "execution_count": 31,
   "id": "536d79af",
   "metadata": {},
   "outputs": [],
   "source": [
    "def objetivo (rets:pd.DataFrame , rets_b : pd.DataFrame ,corr:pd.DataFrame):\n",
    "\n",
    "    diffs=rets - rets_b.values\n",
    "    rends_below_bench = diffs[diffs < 0].fillna(0)\n",
    "    target_downside_risk=np.array(rends_below_bench.std())\n",
    "    target_semivarmatrix= corr * (target_downside_risk.reshape(len(rets.columns), 1) @ target_downside_risk.reshape(1, len(rets.columns)))\n",
    "\n",
    "    objectivo = lambda w: (w.T @ target_semivarmatrix @ w)\n",
    "\n",
    "    n = len(rets.keys())\n",
    "    w_inicial = np.ones(n)/n\n",
    "    bounds = [(0,1)]*n\n",
    "    tol = 1e-9\n",
    "    rest = lambda w: np.sum(w) - 1\n",
    "    \n",
    "    obj = minimize(\n",
    "    fun=objectivo,\n",
    "    x0=w_inicial,\n",
    "    bounds=bounds,\n",
    "    constraints={'fun': rest, 'type': 'eq'},\n",
    "    tol=tol)\n",
    "\n",
    "    w_objetivo = obj.x\n",
    "\n",
    "    return dict(zip(rets.columns, w_objetivo))"
   ]
  },
  {
   "cell_type": "markdown",
   "id": "808bbefa",
   "metadata": {},
   "source": [
    "##### Función Omega\n"
   ]
  },
  {
   "cell_type": "code",
   "execution_count": 32,
   "id": "3aa4e6b5",
   "metadata": {},
   "outputs": [],
   "source": [
    "def scipy_omega(rets: pd.DataFrame):\n",
    "    n = len(rets.columns)\n",
    "    w_inicial = np.ones(n) / n\n",
    "    bounds = [(0, 1)] * n\n",
    "    tol = 1e-16\n",
    "\n",
    "    rets_below_zero = rets[rets < 0].fillna(0)\n",
    "    rets_above_zero = rets[rets > 0].fillna(0)\n",
    "    upside_risk=rets_above_zero.std()\n",
    "    downside_risk = rets_below_zero.std()\n",
    "\n",
    "    omega_ind = upside_risk / downside_risk\n",
    "\n",
    "    Omega_neg = lambda w: -np.sum(w * omega_ind)\n",
    "\n",
    "    constraints = {'fun': lambda w: np.sum(w) - 1, 'type': 'eq'}\n",
    "\n",
    "    result = minimize(\n",
    "        fun=Omega_neg,\n",
    "        x0=w_inicial,\n",
    "        bounds=bounds,\n",
    "        constraints=constraints,\n",
    "        tol=tol\n",
    "    )\n",
    "\n",
    "    w_omega = result.x\n",
    "    return dict(zip(rets.columns, w_omega))\n"
   ]
  },
  {
   "cell_type": "markdown",
   "id": "7e8c05e9",
   "metadata": {},
   "source": [
    "##### Función Backtesting "
   ]
  },
  {
   "cell_type": "code",
   "execution_count": 33,
   "id": "c4a9e5a4",
   "metadata": {},
   "outputs": [],
   "source": [
    "def backtesting(prices: pd.DataFrame, benchmark: pd.DataFrame, weights: dict, capital: float):\n",
    "    \n",
    "    # Obtener rendimientos de precios y benchmark\n",
    "    rets_assets = prices.pct_change().dropna()\n",
    "    rets_benchmark = benchmark.pct_change().dropna()\n",
    "    \n",
    "    # data frame vacio para llenar historia\n",
    "    \n",
    "    df = pd.DataFrame(index=rets_assets.index)\n",
    "    \n",
    "    # Obtener evolución para cada estrategia dada\n",
    "    for strategy in weights.keys():\n",
    "        # para benchmark\n",
    "        if strategy == 'benchmark':\n",
    "            temp = rets_benchmark + 1\n",
    "            temp.iloc[0]=capital\n",
    "            temp = temp.cumprod()\n",
    "            df[strategy] = temp.values            \n",
    "    \n",
    "        # para otras estrategias\n",
    "\n",
    "        else:\n",
    "            temp = (rets_assets * weights.get(strategy)).sum(axis=1)+1\n",
    "            temp.iloc[0]=capital\n",
    "            temp = temp.cumprod()\n",
    "            df[strategy] = temp.values    \n",
    "\n",
    "    # Graficar la evolucion para ambos portafolios\n",
    "    plt.figure(figsize=(12,6))\n",
    "    plt.plot(df, label=df.keys())\n",
    "    plt.title('Backtesting of Strategies')\n",
    "    plt.xlabel('Date')\n",
    "    plt.ylabel('Portafolio Value')\n",
    "    plt.legend()\n",
    "    plt.show()\n",
    "\n",
    "\n",
    "    return df"
   ]
  },
  {
   "cell_type": "markdown",
   "id": "de825136",
   "metadata": {},
   "source": [
    "##### Función Métricas de Desempeño"
   ]
  },
  {
   "cell_type": "code",
   "execution_count": 34,
   "id": "a6bf2751",
   "metadata": {},
   "outputs": [],
   "source": [
    "def metricas_anuales(history, rf):\n",
    "    # Returns\n",
    "    rets= history.pct_change().dropna()\n",
    "    \n",
    "    # Matriz de Cov\n",
    "    cov_hist = rets.cov()\n",
    "\n",
    "    # Dataframe\n",
    "    metricas = pd.DataFrame(index=rets.columns)\n",
    "\n",
    "    # Rendimiento \n",
    "    metricas['Rendimiento Promedio Anual'] = R_p = rets.mean()*252*100\n",
    "    \n",
    "    # Volatilidad \n",
    "    metricas['Volatilidad Anual'] = vol_anual = rets.std()*np.sqrt(252)*100\n",
    "    \n",
    "    # Ratio de Sharpe\n",
    "    metricas['Ratio de Sharpe'] = (R_p - rf) / vol_anual\n",
    "\n",
    "    # Downside Risk\n",
    "    metricas['Downside Risk'] = downside = rets[rets < 0].std() * np.sqrt(252) * 100\n",
    "\n",
    "    # Upside Risk\n",
    "    metricas['Upside Risk'] = upside = rets[rets > 0].std() * np.sqrt(252) * 100\n",
    "\n",
    "    # Omega\n",
    "    metricas['Omega'] =omega= upside / downside\n",
    "\n",
    "    # Beta\n",
    "\n",
    "    covs = cov_hist['Benchmark']\n",
    "    varianza_market = covs['Benchmark']\n",
    "    metricas['Beta'] = beta = covs / varianza_market\n",
    "\n",
    "    # Alfa de Jensen\n",
    "\n",
    "    R_m = rets['Benchmark']\n",
    "    alpha_Jensen = R_p - (rf + beta * (R_m - rf))\n",
    "\n",
    "    # Ratio de Treynor\n",
    "    metricas['Ratio de Treynor'] = (R_p - rf) / beta\n",
    "\n",
    "    # Ratio de Sortino\n",
    "    metricas['Ratio de Sortino'] = (R_p - rf) / downside\n",
    "\n",
    "    return metricas.T\n"
   ]
  },
  {
   "cell_type": "markdown",
   "id": "b2a63a72",
   "metadata": {},
   "source": [
    "---"
   ]
  },
  {
   "cell_type": "markdown",
   "id": "45bc5115",
   "metadata": {},
   "source": [
    "#### Construcción del Portafolio "
   ]
  },
  {
   "cell_type": "markdown",
   "id": "837a7ec9",
   "metadata": {},
   "source": [
    "##### Activos "
   ]
  },
  {
   "cell_type": "markdown",
   "id": "a6247046",
   "metadata": {},
   "source": [
    "| **Empresa**                             | **Ticker**        | **Sector Económico**                          |\n",
    "|----------------------------------------|-------------------|-----------------------------------------------|\n",
    "| El Puerto de Liverpool, S.A.B. de C.V. | LIVEPOLC-1.MX     | Consumo                 |\n",
    "| Coca-Cola FEMSA, S.A.B. de C.V.        | KOFUBL.MX         | Consumo Básico             |\n",
    "| Cemex, S.A.B. de C.V.                  | CEMEXCPO.MX       | Materiales           |\n",
    "| Grupo Comercial Chedraui               | CHDRAUIB.MX       | Consumo Básico          |\n",
    "| Becle, S.A.B. de C.V. (José Cuervo)    | CUERVO.MX         | Consumo Básico       |\n",
    "| Genomma Lab Internacional, S.A.B. de C.V. | LABB.MX         | Salud  |\n",
    "| Rassini, S.A.B. de C.V.                | RA.MX             | Industriales                   |\n",
    "\n"
   ]
  },
  {
   "cell_type": "markdown",
   "id": "18905cb5",
   "metadata": {},
   "source": [
    "##### Benchmark"
   ]
  },
  {
   "cell_type": "markdown",
   "id": "90973f0f",
   "metadata": {},
   "source": [
    "##### Sector económico :   "
   ]
  },
  {
   "cell_type": "markdown",
   "id": "2dad3ea8",
   "metadata": {},
   "source": [
    "- Vanguard Consumer Staples Index Fund ETF Shares (VDC)"
   ]
  },
  {
   "cell_type": "markdown",
   "id": "b0fba4f3",
   "metadata": {},
   "source": [
    "---"
   ]
  },
  {
   "cell_type": "markdown",
   "id": "807b0c9f",
   "metadata": {},
   "source": [
    "#### Importación de los datos"
   ]
  },
  {
   "cell_type": "code",
   "execution_count": 42,
   "id": "14e510f4",
   "metadata": {},
   "outputs": [],
   "source": [
    "tickers = ['LIVEPOLC-1.MX', 'KOFUBL.MX', 'CEMEXCPO.MX', 'CHDRAUIB.MX', 'CUERVO.MX', 'LABB.MX', 'RA.MX']\n",
    "\n",
    "opt_prices = yf.download(tickers, start='2023-06-23', end='2024-06-23', progress=False)['Close']\n",
    "\n",
    "bt_prices = yf.download(tickers,  start='2024-06-23', end='2025-06-23', progress=False)['Close']\n",
    "\n",
    "benchmark = yf.download(['^MXX'], start='2024-06-23', end='2025-06-23', progress=False)['Close']"
   ]
  },
  {
   "cell_type": "markdown",
   "id": "6808e623",
   "metadata": {},
   "source": [
    "##### Rendimientos activos"
   ]
  },
  {
   "cell_type": "code",
   "execution_count": 36,
   "id": "c0230d92",
   "metadata": {},
   "outputs": [],
   "source": [
    "opt_rets = opt_prices.pct_change().dropna()\n",
    "corr = opt_rets.corr()"
   ]
  },
  {
   "cell_type": "markdown",
   "id": "6f5070a3",
   "metadata": {},
   "source": [
    "##### Rendimientos benchmark"
   ]
  },
  {
   "cell_type": "code",
   "execution_count": 37,
   "id": "0ba4d75c",
   "metadata": {},
   "outputs": [],
   "source": [
    "rets_b = benchmark.pct_change().dropna()"
   ]
  },
  {
   "cell_type": "markdown",
   "id": "c7e54b5e",
   "metadata": {},
   "source": [
    "---"
   ]
  },
  {
   "cell_type": "markdown",
   "id": "d945fbbf",
   "metadata": {},
   "source": [
    "#### Asset Allocation "
   ]
  },
  {
   "cell_type": "markdown",
   "id": "f7182cfa",
   "metadata": {},
   "source": [
    "##### Mínima Varianza"
   ]
  },
  {
   "cell_type": "code",
   "execution_count": 38,
   "id": "ee4405f3",
   "metadata": {},
   "outputs": [
    {
     "data": {
      "text/plain": [
       "{'CEMEXCPO.MX': 0.04613336876607416,\n",
       " 'CHDRAUIB.MX': 0.3090967487438671,\n",
       " 'CUERVO.MX': 0.11710914153510485,\n",
       " 'KOFUBL.MX': 0.21646735427948188,\n",
       " 'LABB.MX': 0.0014446312560316725,\n",
       " 'LIVEPOLC-1.MX': 0.24720911928329867,\n",
       " 'RA.MX': 0.06253963613614165}"
      ]
     },
     "execution_count": 38,
     "metadata": {},
     "output_type": "execute_result"
    }
   ],
   "source": [
    "w_minvar = opt_min_var(opt_rets)\n",
    "dict(zip(opt_rets.columns, w_minvar))"
   ]
  },
  {
   "cell_type": "markdown",
   "id": "e52322c2",
   "metadata": {},
   "source": [
    "##### Máximo de Sharpe "
   ]
  },
  {
   "cell_type": "code",
   "execution_count": 39,
   "id": "9b3a28d7",
   "metadata": {},
   "outputs": [
    {
     "data": {
      "text/plain": [
       "{'CEMEXCPO.MX': 4.0688215526534285e-17,\n",
       " 'CHDRAUIB.MX': 0.5377961699611565,\n",
       " 'CUERVO.MX': 0.0,\n",
       " 'KOFUBL.MX': 1.165519126717675e-17,\n",
       " 'LABB.MX': 0.09006455075356022,\n",
       " 'LIVEPOLC-1.MX': 0.37213927928528334,\n",
       " 'RA.MX': 1.920061272496967e-17}"
      ]
     },
     "execution_count": 39,
     "metadata": {},
     "output_type": "execute_result"
    }
   ],
   "source": [
    "w_maxsharpe = opt_max_sharpe(opt_rets, rf=0.045)\n",
    "dict(zip(opt_rets.columns, w_maxsharpe))"
   ]
  },
  {
   "cell_type": "markdown",
   "id": "91d99379",
   "metadata": {},
   "source": [
    "##### Semi-Varianza target"
   ]
  },
  {
   "cell_type": "code",
   "execution_count": 40,
   "id": "41e0e457",
   "metadata": {},
   "outputs": [
    {
     "ename": "ValueError",
     "evalue": "Unable to coerce to DataFrame, shape must be (250, 7): given (248, 1)",
     "output_type": "error",
     "traceback": [
      "\u001b[1;31m---------------------------------------------------------------------------\u001b[0m",
      "\u001b[1;31mValueError\u001b[0m                                Traceback (most recent call last)",
      "\u001b[1;32m~\\AppData\\Local\\Temp\\ipykernel_2852\\1327842232.py\u001b[0m in \u001b[0;36m?\u001b[1;34m()\u001b[0m\n\u001b[1;32m----> 1\u001b[1;33m \u001b[0mw_semivar\u001b[0m\u001b[1;33m=\u001b[0m \u001b[0mobjetivo\u001b[0m\u001b[1;33m(\u001b[0m\u001b[0mopt_rets\u001b[0m\u001b[1;33m,\u001b[0m \u001b[0mrets_b\u001b[0m\u001b[1;33m,\u001b[0m \u001b[0mcorr\u001b[0m\u001b[1;33m)\u001b[0m\u001b[1;33m\u001b[0m\u001b[1;33m\u001b[0m\u001b[0m\n\u001b[0m\u001b[0;32m      2\u001b[0m \u001b[0mw_semivar\u001b[0m\u001b[1;33m\u001b[0m\u001b[1;33m\u001b[0m\u001b[0m\n",
      "\u001b[1;32m~\\AppData\\Local\\Temp\\ipykernel_2852\\725065296.py\u001b[0m in \u001b[0;36m?\u001b[1;34m(rets, rets_b, corr)\u001b[0m\n\u001b[0;32m      1\u001b[0m \u001b[1;32mdef\u001b[0m \u001b[0mobjetivo\u001b[0m \u001b[1;33m(\u001b[0m\u001b[0mrets\u001b[0m\u001b[1;33m:\u001b[0m\u001b[0mpd\u001b[0m\u001b[1;33m.\u001b[0m\u001b[0mDataFrame\u001b[0m \u001b[1;33m,\u001b[0m \u001b[0mrets_b\u001b[0m \u001b[1;33m:\u001b[0m \u001b[0mpd\u001b[0m\u001b[1;33m.\u001b[0m\u001b[0mDataFrame\u001b[0m \u001b[1;33m,\u001b[0m\u001b[0mcorr\u001b[0m\u001b[1;33m:\u001b[0m\u001b[0mpd\u001b[0m\u001b[1;33m.\u001b[0m\u001b[0mDataFrame\u001b[0m\u001b[1;33m)\u001b[0m\u001b[1;33m:\u001b[0m\u001b[1;33m\u001b[0m\u001b[1;33m\u001b[0m\u001b[0m\n\u001b[0;32m      2\u001b[0m \u001b[1;33m\u001b[0m\u001b[0m\n\u001b[1;32m----> 3\u001b[1;33m     \u001b[0mdiffs\u001b[0m\u001b[1;33m=\u001b[0m\u001b[0mrets\u001b[0m \u001b[1;33m-\u001b[0m \u001b[0mrets_b\u001b[0m\u001b[1;33m.\u001b[0m\u001b[0mvalues\u001b[0m\u001b[1;33m\u001b[0m\u001b[1;33m\u001b[0m\u001b[0m\n\u001b[0m\u001b[0;32m      4\u001b[0m     \u001b[0mrends_below_bench\u001b[0m \u001b[1;33m=\u001b[0m \u001b[0mdiffs\u001b[0m\u001b[1;33m[\u001b[0m\u001b[0mdiffs\u001b[0m \u001b[1;33m<\u001b[0m \u001b[1;36m0\u001b[0m\u001b[1;33m]\u001b[0m\u001b[1;33m.\u001b[0m\u001b[0mfillna\u001b[0m\u001b[1;33m(\u001b[0m\u001b[1;36m0\u001b[0m\u001b[1;33m)\u001b[0m\u001b[1;33m\u001b[0m\u001b[1;33m\u001b[0m\u001b[0m\n\u001b[0;32m      5\u001b[0m     \u001b[0mtarget_downside_risk\u001b[0m\u001b[1;33m=\u001b[0m\u001b[0mnp\u001b[0m\u001b[1;33m.\u001b[0m\u001b[0marray\u001b[0m\u001b[1;33m(\u001b[0m\u001b[0mrends_below_bench\u001b[0m\u001b[1;33m.\u001b[0m\u001b[0mstd\u001b[0m\u001b[1;33m(\u001b[0m\u001b[1;33m)\u001b[0m\u001b[1;33m)\u001b[0m\u001b[1;33m\u001b[0m\u001b[1;33m\u001b[0m\u001b[0m\n\u001b[0;32m      6\u001b[0m     \u001b[0mtarget_semivarmatrix\u001b[0m\u001b[1;33m=\u001b[0m \u001b[0mcorr\u001b[0m \u001b[1;33m*\u001b[0m \u001b[1;33m(\u001b[0m\u001b[0mtarget_downside_risk\u001b[0m\u001b[1;33m.\u001b[0m\u001b[0mreshape\u001b[0m\u001b[1;33m(\u001b[0m\u001b[0mlen\u001b[0m\u001b[1;33m(\u001b[0m\u001b[0mrets\u001b[0m\u001b[1;33m.\u001b[0m\u001b[0mcolumns\u001b[0m\u001b[1;33m)\u001b[0m\u001b[1;33m,\u001b[0m \u001b[1;36m1\u001b[0m\u001b[1;33m)\u001b[0m \u001b[1;33m@\u001b[0m \u001b[0mtarget_downside_risk\u001b[0m\u001b[1;33m.\u001b[0m\u001b[0mreshape\u001b[0m\u001b[1;33m(\u001b[0m\u001b[1;36m1\u001b[0m\u001b[1;33m,\u001b[0m \u001b[0mlen\u001b[0m\u001b[1;33m(\u001b[0m\u001b[0mrets\u001b[0m\u001b[1;33m.\u001b[0m\u001b[0mcolumns\u001b[0m\u001b[1;33m)\u001b[0m\u001b[1;33m)\u001b[0m\u001b[1;33m)\u001b[0m\u001b[1;33m\u001b[0m\u001b[1;33m\u001b[0m\u001b[0m\n",
      "\u001b[1;32mc:\\Users\\ppmel\\AppData\\Local\\Programs\\Python\\Python312\\Lib\\site-packages\\pandas\\core\\ops\\common.py\u001b[0m in \u001b[0;36m?\u001b[1;34m(self, other)\u001b[0m\n\u001b[0;32m     72\u001b[0m                     \u001b[1;32mreturn\u001b[0m \u001b[0mNotImplemented\u001b[0m\u001b[1;33m\u001b[0m\u001b[1;33m\u001b[0m\u001b[0m\n\u001b[0;32m     73\u001b[0m \u001b[1;33m\u001b[0m\u001b[0m\n\u001b[0;32m     74\u001b[0m         \u001b[0mother\u001b[0m \u001b[1;33m=\u001b[0m \u001b[0mitem_from_zerodim\u001b[0m\u001b[1;33m(\u001b[0m\u001b[0mother\u001b[0m\u001b[1;33m)\u001b[0m\u001b[1;33m\u001b[0m\u001b[1;33m\u001b[0m\u001b[0m\n\u001b[0;32m     75\u001b[0m \u001b[1;33m\u001b[0m\u001b[0m\n\u001b[1;32m---> 76\u001b[1;33m         \u001b[1;32mreturn\u001b[0m \u001b[0mmethod\u001b[0m\u001b[1;33m(\u001b[0m\u001b[0mself\u001b[0m\u001b[1;33m,\u001b[0m \u001b[0mother\u001b[0m\u001b[1;33m)\u001b[0m\u001b[1;33m\u001b[0m\u001b[1;33m\u001b[0m\u001b[0m\n\u001b[0m",
      "\u001b[1;32mc:\\Users\\ppmel\\AppData\\Local\\Programs\\Python\\Python312\\Lib\\site-packages\\pandas\\core\\arraylike.py\u001b[0m in \u001b[0;36m?\u001b[1;34m(self, other)\u001b[0m\n\u001b[0;32m    192\u001b[0m     \u001b[1;33m@\u001b[0m\u001b[0munpack_zerodim_and_defer\u001b[0m\u001b[1;33m(\u001b[0m\u001b[1;34m\"__sub__\"\u001b[0m\u001b[1;33m)\u001b[0m\u001b[1;33m\u001b[0m\u001b[1;33m\u001b[0m\u001b[0m\n\u001b[0;32m    193\u001b[0m     \u001b[1;32mdef\u001b[0m \u001b[0m__sub__\u001b[0m\u001b[1;33m(\u001b[0m\u001b[0mself\u001b[0m\u001b[1;33m,\u001b[0m \u001b[0mother\u001b[0m\u001b[1;33m)\u001b[0m\u001b[1;33m:\u001b[0m\u001b[1;33m\u001b[0m\u001b[1;33m\u001b[0m\u001b[0m\n\u001b[1;32m--> 194\u001b[1;33m         \u001b[1;32mreturn\u001b[0m \u001b[0mself\u001b[0m\u001b[1;33m.\u001b[0m\u001b[0m_arith_method\u001b[0m\u001b[1;33m(\u001b[0m\u001b[0mother\u001b[0m\u001b[1;33m,\u001b[0m \u001b[0moperator\u001b[0m\u001b[1;33m.\u001b[0m\u001b[0msub\u001b[0m\u001b[1;33m)\u001b[0m\u001b[1;33m\u001b[0m\u001b[1;33m\u001b[0m\u001b[0m\n\u001b[0m",
      "\u001b[1;32mc:\\Users\\ppmel\\AppData\\Local\\Programs\\Python\\Python312\\Lib\\site-packages\\pandas\\core\\frame.py\u001b[0m in \u001b[0;36m?\u001b[1;34m(self, other, op)\u001b[0m\n\u001b[0;32m   7906\u001b[0m \u001b[1;33m\u001b[0m\u001b[0m\n\u001b[0;32m   7907\u001b[0m         \u001b[0maxis\u001b[0m\u001b[1;33m:\u001b[0m \u001b[0mLiteral\u001b[0m\u001b[1;33m[\u001b[0m\u001b[1;36m1\u001b[0m\u001b[1;33m]\u001b[0m \u001b[1;33m=\u001b[0m \u001b[1;36m1\u001b[0m  \u001b[1;31m# only relevant for Series other case\u001b[0m\u001b[1;33m\u001b[0m\u001b[1;33m\u001b[0m\u001b[0m\n\u001b[0;32m   7908\u001b[0m         \u001b[0mother\u001b[0m \u001b[1;33m=\u001b[0m \u001b[0mops\u001b[0m\u001b[1;33m.\u001b[0m\u001b[0mmaybe_prepare_scalar_for_op\u001b[0m\u001b[1;33m(\u001b[0m\u001b[0mother\u001b[0m\u001b[1;33m,\u001b[0m \u001b[1;33m(\u001b[0m\u001b[0mself\u001b[0m\u001b[1;33m.\u001b[0m\u001b[0mshape\u001b[0m\u001b[1;33m[\u001b[0m\u001b[0maxis\u001b[0m\u001b[1;33m]\u001b[0m\u001b[1;33m,\u001b[0m\u001b[1;33m)\u001b[0m\u001b[1;33m)\u001b[0m\u001b[1;33m\u001b[0m\u001b[1;33m\u001b[0m\u001b[0m\n\u001b[0;32m   7909\u001b[0m \u001b[1;33m\u001b[0m\u001b[0m\n\u001b[1;32m-> 7910\u001b[1;33m         \u001b[0mself\u001b[0m\u001b[1;33m,\u001b[0m \u001b[0mother\u001b[0m \u001b[1;33m=\u001b[0m \u001b[0mself\u001b[0m\u001b[1;33m.\u001b[0m\u001b[0m_align_for_op\u001b[0m\u001b[1;33m(\u001b[0m\u001b[0mother\u001b[0m\u001b[1;33m,\u001b[0m \u001b[0maxis\u001b[0m\u001b[1;33m,\u001b[0m \u001b[0mflex\u001b[0m\u001b[1;33m=\u001b[0m\u001b[1;32mTrue\u001b[0m\u001b[1;33m,\u001b[0m \u001b[0mlevel\u001b[0m\u001b[1;33m=\u001b[0m\u001b[1;32mNone\u001b[0m\u001b[1;33m)\u001b[0m\u001b[1;33m\u001b[0m\u001b[1;33m\u001b[0m\u001b[0m\n\u001b[0m\u001b[0;32m   7911\u001b[0m \u001b[1;33m\u001b[0m\u001b[0m\n\u001b[0;32m   7912\u001b[0m         \u001b[1;32mwith\u001b[0m \u001b[0mnp\u001b[0m\u001b[1;33m.\u001b[0m\u001b[0merrstate\u001b[0m\u001b[1;33m(\u001b[0m\u001b[0mall\u001b[0m\u001b[1;33m=\u001b[0m\u001b[1;34m\"ignore\"\u001b[0m\u001b[1;33m)\u001b[0m\u001b[1;33m:\u001b[0m\u001b[1;33m\u001b[0m\u001b[1;33m\u001b[0m\u001b[0m\n\u001b[0;32m   7913\u001b[0m             \u001b[0mnew_data\u001b[0m \u001b[1;33m=\u001b[0m \u001b[0mself\u001b[0m\u001b[1;33m.\u001b[0m\u001b[0m_dispatch_frame_op\u001b[0m\u001b[1;33m(\u001b[0m\u001b[0mother\u001b[0m\u001b[1;33m,\u001b[0m \u001b[0mop\u001b[0m\u001b[1;33m,\u001b[0m \u001b[0maxis\u001b[0m\u001b[1;33m=\u001b[0m\u001b[0maxis\u001b[0m\u001b[1;33m)\u001b[0m\u001b[1;33m\u001b[0m\u001b[1;33m\u001b[0m\u001b[0m\n",
      "\u001b[1;32mc:\\Users\\ppmel\\AppData\\Local\\Programs\\Python\\Python312\\Lib\\site-packages\\pandas\\core\\frame.py\u001b[0m in \u001b[0;36m?\u001b[1;34m(self, other, axis, flex, level)\u001b[0m\n\u001b[0;32m   8165\u001b[0m                     \u001b[1;31m# Broadcast along rows\u001b[0m\u001b[1;33m\u001b[0m\u001b[1;33m\u001b[0m\u001b[0m\n\u001b[0;32m   8166\u001b[0m                     \u001b[0mright\u001b[0m \u001b[1;33m=\u001b[0m \u001b[0mto_series\u001b[0m\u001b[1;33m(\u001b[0m\u001b[0mright\u001b[0m\u001b[1;33m[\u001b[0m\u001b[1;36m0\u001b[0m\u001b[1;33m,\u001b[0m \u001b[1;33m:\u001b[0m\u001b[1;33m]\u001b[0m\u001b[1;33m)\u001b[0m\u001b[1;33m\u001b[0m\u001b[1;33m\u001b[0m\u001b[0m\n\u001b[0;32m   8167\u001b[0m \u001b[1;33m\u001b[0m\u001b[0m\n\u001b[0;32m   8168\u001b[0m                 \u001b[1;32melse\u001b[0m\u001b[1;33m:\u001b[0m\u001b[1;33m\u001b[0m\u001b[1;33m\u001b[0m\u001b[0m\n\u001b[1;32m-> 8169\u001b[1;33m                     raise ValueError(\n\u001b[0m\u001b[0;32m   8170\u001b[0m                         \u001b[1;34m\"Unable to coerce to DataFrame, shape \"\u001b[0m\u001b[1;33m\u001b[0m\u001b[1;33m\u001b[0m\u001b[0m\n\u001b[0;32m   8171\u001b[0m                         \u001b[1;33mf\"\u001b[0m\u001b[1;33mmust be \u001b[0m\u001b[1;33m{\u001b[0m\u001b[0mleft\u001b[0m\u001b[1;33m.\u001b[0m\u001b[0mshape\u001b[0m\u001b[1;33m}\u001b[0m\u001b[1;33m: given \u001b[0m\u001b[1;33m{\u001b[0m\u001b[0mright\u001b[0m\u001b[1;33m.\u001b[0m\u001b[0mshape\u001b[0m\u001b[1;33m}\u001b[0m\u001b[1;33m\"\u001b[0m\u001b[1;33m\u001b[0m\u001b[1;33m\u001b[0m\u001b[0m\n\u001b[0;32m   8172\u001b[0m                     \u001b[1;33m)\u001b[0m\u001b[1;33m\u001b[0m\u001b[1;33m\u001b[0m\u001b[0m\n",
      "\u001b[1;31mValueError\u001b[0m: Unable to coerce to DataFrame, shape must be (250, 7): given (248, 1)"
     ]
    }
   ],
   "source": [
    "w_semivar= objetivo(opt_rets, rets_b, corr)\n",
    "w_semivar"
   ]
  },
  {
   "cell_type": "markdown",
   "id": "b0b5a7c4",
   "metadata": {},
   "source": [
    "##### Ratio Omega"
   ]
  },
  {
   "cell_type": "code",
   "execution_count": null,
   "id": "d4d0ce8e",
   "metadata": {},
   "outputs": [
    {
     "data": {
      "text/plain": [
       "{'CEMEXCPO.MX': 1.2484423966668938e-16,\n",
       " 'CHDRAUIB.MX': 0.9999999999999998,\n",
       " 'CUERVO.MX': 2.52395548196098e-17,\n",
       " 'KOFUBL.MX': 2.051302103659791e-16,\n",
       " 'LABB.MX': 1.0272992762106022e-16,\n",
       " 'LIVEPOLC-1.MX': 0.0,\n",
       " 'RA.MX': 5.943376018590351e-18}"
      ]
     },
     "execution_count": 166,
     "metadata": {},
     "output_type": "execute_result"
    }
   ],
   "source": [
    "omega = scipy_omega(opt_rets)\n",
    "omega"
   ]
  },
  {
   "cell_type": "markdown",
   "id": "34da8588",
   "metadata": {},
   "source": [
    "---"
   ]
  },
  {
   "cell_type": "markdown",
   "id": "6a0e0457",
   "metadata": {},
   "source": [
    "### Backtesting de Portafolio"
   ]
  },
  {
   "cell_type": "markdown",
   "id": "ac3ee833",
   "metadata": {},
   "source": [
    "##### Capital "
   ]
  },
  {
   "cell_type": "code",
   "execution_count": null,
   "id": "c701fda5",
   "metadata": {},
   "outputs": [],
   "source": [
    "capital = 1000000"
   ]
  },
  {
   "cell_type": "markdown",
   "id": "5d7c38c3",
   "metadata": {},
   "source": [
    "##### Estrategias a usar"
   ]
  },
  {
   "cell_type": "code",
   "execution_count": null,
   "id": "a2a1833f",
   "metadata": {},
   "outputs": [],
   "source": [
    "w_dict = {\n",
    "    'Min Varianza': w_minvar,\n",
    "    'Max Sharpe': w_maxsharpe,\n",
    "    'Semi-Varianza target': w_semivar,\n",
    "    'Ratio Omega': omega,\n",
    "    'Benchmark': 1\n",
    "}"
   ]
  },
  {
   "cell_type": "markdown",
   "id": "8fcb9170",
   "metadata": {},
   "source": [
    "##### Función Aplicada "
   ]
  },
  {
   "cell_type": "code",
   "execution_count": null,
   "id": "fb33c32c",
   "metadata": {},
   "outputs": [
    {
     "data": {
      "image/png": "[encoded data removed]",
      "text/plain": [
       "<Figure size 1200x600 with 1 Axes>"
      ]
     },
     "metadata": {},
     "output_type": "display_data"
    }
   ],
   "source": [
    "history = backtesting(bt_prices, benchmark, w_dict, capital)"
   ]
  },
  {
   "cell_type": "markdown",
   "id": "fd3c68b0",
   "metadata": {},
   "source": [
    "#### Métricas de Desempeño"
   ]
  },
  {
   "cell_type": "code",
   "execution_count": null,
   "id": "79648566",
   "metadata": {},
   "outputs": [
    {
     "data": {
      "text/html": [
       "<div>\n",
       "<style scoped>\n",
       "    .dataframe tbody tr th:only-of-type {\n",
       "        vertical-align: middle;\n",
       "    }\n",
       "\n",
       "    .dataframe tbody tr th {\n",
       "        vertical-align: top;\n",
       "    }\n",
       "\n",
       "    .dataframe thead th {\n",
       "        text-align: right;\n",
       "    }\n",
       "</style>\n",
       "<table border=\"1\" class=\"dataframe\">\n",
       "  <thead>\n",
       "    <tr style=\"text-align: right;\">\n",
       "      <th></th>\n",
       "      <th>Min Varianza</th>\n",
       "      <th>Max Sharpe</th>\n",
       "      <th>Semi-Varianza target</th>\n",
       "      <th>Ratio Omega</th>\n",
       "      <th>Benchmark</th>\n",
       "    </tr>\n",
       "  </thead>\n",
       "  <tbody>\n",
       "    <tr>\n",
       "      <th>Rendimiento Promedio Anual</th>\n",
       "      <td>17.471849</td>\n",
       "      <td>28.469595</td>\n",
       "      <td>18.502594</td>\n",
       "      <td>29.858394</td>\n",
       "      <td>101.122441</td>\n",
       "    </tr>\n",
       "    <tr>\n",
       "      <th>Volatilidad Anual</th>\n",
       "      <td>13.776640</td>\n",
       "      <td>16.282287</td>\n",
       "      <td>15.207160</td>\n",
       "      <td>22.030388</td>\n",
       "      <td>109.648133</td>\n",
       "    </tr>\n",
       "    <tr>\n",
       "      <th>Ratio de Sharpe</th>\n",
       "      <td>1.264956</td>\n",
       "      <td>1.745737</td>\n",
       "      <td>1.213744</td>\n",
       "      <td>1.353285</td>\n",
       "      <td>0.921835</td>\n",
       "    </tr>\n",
       "    <tr>\n",
       "      <th>Downside Risk</th>\n",
       "      <td>9.280290</td>\n",
       "      <td>11.824493</td>\n",
       "      <td>11.209981</td>\n",
       "      <td>13.064751</td>\n",
       "      <td>78.272992</td>\n",
       "    </tr>\n",
       "    <tr>\n",
       "      <th>Upside Risk</th>\n",
       "      <td>8.783316</td>\n",
       "      <td>10.316784</td>\n",
       "      <td>9.363459</td>\n",
       "      <td>17.073442</td>\n",
       "      <td>71.458568</td>\n",
       "    </tr>\n",
       "    <tr>\n",
       "      <th>Omega</th>\n",
       "      <td>0.946449</td>\n",
       "      <td>0.872493</td>\n",
       "      <td>0.835279</td>\n",
       "      <td>1.306833</td>\n",
       "      <td>0.912940</td>\n",
       "    </tr>\n",
       "    <tr>\n",
       "      <th>Beta</th>\n",
       "      <td>0.110716</td>\n",
       "      <td>0.105265</td>\n",
       "      <td>0.132787</td>\n",
       "      <td>0.083767</td>\n",
       "      <td>1.000000</td>\n",
       "    </tr>\n",
       "    <tr>\n",
       "      <th>Ratio de Treynor</th>\n",
       "      <td>157.400847</td>\n",
       "      <td>270.029946</td>\n",
       "      <td>139.001898</td>\n",
       "      <td>355.909711</td>\n",
       "      <td>101.077441</td>\n",
       "    </tr>\n",
       "    <tr>\n",
       "      <th>Ratio de Sortino</th>\n",
       "      <td>1.877835</td>\n",
       "      <td>2.403874</td>\n",
       "      <td>1.646532</td>\n",
       "      <td>2.281972</td>\n",
       "      <td>1.291345</td>\n",
       "    </tr>\n",
       "  </tbody>\n",
       "</table>\n",
       "</div>"
      ],
      "text/plain": [
       "                            Min Varianza  Max Sharpe  Semi-Varianza target  \\\n",
       "Rendimiento Promedio Anual     17.471849   28.469595             18.502594   \n",
       "Volatilidad Anual              13.776640   16.282287             15.207160   \n",
       "Ratio de Sharpe                 1.264956    1.745737              1.213744   \n",
       "Downside Risk                   9.280290   11.824493             11.209981   \n",
       "Upside Risk                     8.783316   10.316784              9.363459   \n",
       "Omega                           0.946449    0.872493              0.835279   \n",
       "Beta                            0.110716    0.105265              0.132787   \n",
       "Ratio de Treynor              157.400847  270.029946            139.001898   \n",
       "Ratio de Sortino                1.877835    2.403874              1.646532   \n",
       "\n",
       "                            Ratio Omega   Benchmark  \n",
       "Rendimiento Promedio Anual    29.858394  101.122441  \n",
       "Volatilidad Anual             22.030388  109.648133  \n",
       "Ratio de Sharpe                1.353285    0.921835  \n",
       "Downside Risk                 13.064751   78.272992  \n",
       "Upside Risk                   17.073442   71.458568  \n",
       "Omega                          1.306833    0.912940  \n",
       "Beta                           0.083767    1.000000  \n",
       "Ratio de Treynor             355.909711  101.077441  \n",
       "Ratio de Sortino               2.281972    1.291345  "
      ]
     },
     "execution_count": 170,
     "metadata": {},
     "output_type": "execute_result"
    }
   ],
   "source": [
    "Desempeño = metricas_anuales(history, 0.045)\n",
    "Desempeño"
   ]
  },
  {
   "cell_type": "markdown",
   "id": "08c1f6d2",
   "metadata": {},
   "source": [
    "#### Interpretación"
   ]
  },
  {
   "cell_type": "markdown",
   "id": "6047c7cc",
   "metadata": {},
   "source": []
  },
  {
   "cell_type": "markdown",
   "id": "f62af219",
   "metadata": {},
   "source": [
    "---"
   ]
  },
  {
   "cell_type": "markdown",
   "id": "20ec8bcc",
   "metadata": {},
   "source": [
    "### Selección de Estrategias de Inversión "
   ]
  },
  {
   "cell_type": "markdown",
   "id": "51bb6a21",
   "metadata": {},
   "source": [
    "##### Perfil de aversión al Riesgo  : Amante al riesgo"
   ]
  },
  {
   "cell_type": "markdown",
   "id": "edefb087",
   "metadata": {},
   "source": []
  },
  {
   "cell_type": "markdown",
   "id": "dbd73152",
   "metadata": {},
   "source": [
    "---"
   ]
  },
  {
   "cell_type": "markdown",
   "id": "59ae99c7",
   "metadata": {},
   "source": [
    "### Calculo de Pesos para Portafolio Real"
   ]
  },
  {
   "cell_type": "markdown",
   "id": "b1c8b705",
   "metadata": {},
   "source": []
  }
 ],
 "metadata": {
  "kernelspec": {
   "display_name": "Python 3",
   "language": "python",
   "name": "python3"
  },
  "language_info": {
   "codemirror_mode": {
    "name": "ipython",
    "version": 3
   },
   "file_extension": ".py",
   "mimetype": "text/x-python",
   "name": "python",
   "nbconvert_exporter": "python",
   "pygments_lexer": "ipython3",
   "version": "3.12.8"
  }
 },
 "nbformat": 4,
 "nbformat_minor": 5
}
