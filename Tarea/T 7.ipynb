{
 "cells": [
  {
   "cell_type": "markdown",
   "id": "213b6e04",
   "metadata": {},
   "source": [
    "# Portafolios de Inversión\n",
    "## Tarea 7\n",
    "\n",
    "Presenta : \n",
    "\n",
    "- José Armando Melchor Soto\n"
   ]
  },
  {
   "cell_type": "markdown",
   "id": "42d9fe1e",
   "metadata": {},
   "source": [
    "---\n",
    "### Librerías \n",
    "\n"
   ]
  },
  {
   "cell_type": "code",
   "execution_count": 53,
   "id": "e1c37e8b",
   "metadata": {},
   "outputs": [],
   "source": [
    "import pandas as pd \n",
    "import numpy as np\n",
    "import yfinance as yf\n",
    "import matplotlib.pyplot as plt\n",
    "from scipy.optimize import minimize "
   ]
  },
  {
   "cell_type": "markdown",
   "id": "be50403e",
   "metadata": {},
   "source": [
    "---"
   ]
  },
  {
   "cell_type": "markdown",
   "id": "2691612c",
   "metadata": {},
   "source": [
    "#### Indicaciones "
   ]
  },
  {
   "cell_type": "markdown",
   "id": "1bdd1631",
   "metadata": {},
   "source": [
    "1.- Función de Métricas de Desempeño. 20%\n",
    "\n",
    "Genera una función en python que reciba un data frame con la evolución histórica de n cantidad de estrategías de inversión y calcule todas las métricas de desempeño vistas en las dos clases anteriores Rendimiento, Volatilidad, Ratio de Sharpe, Downside, Upside, Omega, Beta, Alfa de Jensen, Ratio de Treynor, Ratio de Sortino.\n",
    " \n",
    "\n",
    "2.- Backtesting de Portafolio. 50%\n",
    "\n",
    "Asume que quieres invertir en un portafolio compuesto por las siguientes acciones mexicanas: LIVEPOLC1.MX, KOFUBL.MX, CEMEXCPO.MX, CHDRAUIB.MX, CUERVO.MX, LABB.MX, RA.MX.\n",
    "Debido a que no sabes como ponderarlos, decides realizar el backtesting para el portafolio para cuatro estrategias de Asset Allocation: Mínima Varianza, Máximo de Sharpe, Semivarianza Target y Omega.\n",
    "Realiza el backtesting utilizando datos para simulación del 23-06-2024 hasta el 23-06-2025, toma un período anterior con el mismo horizonte temporal para optimizar las ponderaciones.\n",
    "Recuerda siempre comparar con una estrategia de inversión pasiva, en este caso la opción lógica es el IPC México.\n",
    "Gráfica la evolución histórica de las cinco alternativas de inversión.\n",
    "Con los resultados del backtesting histórico calcula e interpreta las métricas de desempeño para las cinco alternativas de estrategias de inversión simuladas.\n",
    " \n",
    "\n",
    "3.- Selección de Estrategia de Inversión. 20%\n",
    "\n",
    "Utilizando los resultados de tu backtesting y las métricas de desempeño, selecciona una estrategia de inversión. Realiza una conclusión clara, breve y robusta de porque es la mejor estrategia PARA TI, apoyate en las métricas obtenidas y en tu perfil de aversión al riesgo.\n",
    " \n",
    "\n",
    "4.- Calculo de Pesos para Portafolio Real. 10%\n",
    "\n",
    "En base a la estrategia de Asset Allocation seleccionada en el punto anterior, calcula los pesos eficientes y la cantidad de acciones que utilizarías para invertir en la realidad en tu portafolio. Recuerda tomar la ventana de datos más reciente, en función del horizonte temporal tomado. "
   ]
  },
  {
   "cell_type": "markdown",
   "id": "04483a60",
   "metadata": {},
   "source": [
    "---"
   ]
  },
  {
   "cell_type": "markdown",
   "id": "e22a5507",
   "metadata": {},
   "source": [
    "#### Funciones "
   ]
  },
  {
   "cell_type": "markdown",
   "id": "a0e0b277",
   "metadata": {},
   "source": [
    "##### Función Mínima Varianza "
   ]
  },
  {
   "cell_type": "code",
   "execution_count": 54,
   "id": "64ba74f4",
   "metadata": {},
   "outputs": [],
   "source": [
    "def opt_min_var(rets):\n",
    "    \n",
    "    cov=rets.cov()\n",
    "    n_assets = len(rets.columns)\n",
    "    \n",
    "    var = lambda w: w.T @ cov @ w\n",
    "    \n",
    "    w0=np.ones(n_assets)/n_assets\n",
    "    \n",
    "    bounds=[(0, 1)]*n_assets\n",
    "    \n",
    "    constraint=lambda w: sum(w)-1\n",
    "    \n",
    "    result=minimize(fun=var, x0=w0, bounds=bounds, constraints={'fun': constraint, 'type': 'eq'}, tol=1e-16)\n",
    "    \n",
    "    return result.x"
   ]
  },
  {
   "cell_type": "markdown",
   "id": "681c1dd3",
   "metadata": {},
   "source": [
    "##### Función Máximo de Sharpe"
   ]
  },
  {
   "cell_type": "code",
   "execution_count": 55,
   "id": "6ef43cdb",
   "metadata": {},
   "outputs": [],
   "source": [
    "def opt_max_sharpe(rets, rf):\n",
    "    \n",
    "    E=rets.mean()\n",
    "    cov=rets.cov()\n",
    "    n_assets = len(rets.columns)\n",
    "    \n",
    "    rs = lambda w: -((w.T @ E - rf/252) / np.sqrt(w.T @ cov @ w))\n",
    "    \n",
    "    w0=np.ones(n_assets)/n_assets\n",
    "    \n",
    "    bounds=[(0, 1)]*n_assets\n",
    "    \n",
    "    constraint=lambda w: sum(w)-1\n",
    "    \n",
    "    result=minimize(fun=rs, x0=w0, bounds=bounds, constraints={'fun': constraint, 'type': 'eq'}, tol=1e-16)\n",
    "    \n",
    "    return result.x"
   ]
  },
  {
   "cell_type": "markdown",
   "id": "4f9ec540",
   "metadata": {},
   "source": [
    "##### Función Semi-Varianza Target"
   ]
  },
  {
   "cell_type": "code",
   "execution_count": 56,
   "id": "7df32711",
   "metadata": {},
   "outputs": [],
   "source": [
    "def objetivo (rets:pd.DataFrame , rets_b : pd.DataFrame ,corr:pd.DataFrame):\n",
    "    \n",
    "    rets, rets_b = rets.align(rets_b, join='inner', axis=0)\n",
    "    diffs=rets - rets_b.values\n",
    "    rends_below_bench = diffs[diffs < 0].fillna(0)\n",
    "    target_downside_risk=np.array(rends_below_bench.std())\n",
    "    target_semivarmatrix= corr * (target_downside_risk.reshape(len(rets.columns), 1) @ target_downside_risk.reshape(1, len(rets.columns)))\n",
    "\n",
    "    objectivo = lambda w: (w.T @ target_semivarmatrix @ w)\n",
    "\n",
    "    n = len(rets.keys())\n",
    "    w_inicial = np.ones(n)/n\n",
    "    bounds = [(0,1)]*n\n",
    "    tol = 1e-9\n",
    "    rest = lambda w: np.sum(w) - 1\n",
    "    \n",
    "    obj = minimize(\n",
    "    fun=objectivo,\n",
    "    x0=w_inicial,\n",
    "    bounds=bounds,\n",
    "    constraints={'fun': rest, 'type': 'eq'},\n",
    "    tol=tol)\n",
    "\n",
    "    w_objetivo = obj.x\n",
    "\n",
    "    return dict(zip(rets.columns, w_objetivo))"
   ]
  },
  {
   "cell_type": "markdown",
   "id": "808bbefa",
   "metadata": {},
   "source": [
    "##### Función Omega\n"
   ]
  },
  {
   "cell_type": "code",
   "execution_count": 57,
   "id": "10118130",
   "metadata": {},
   "outputs": [],
   "source": [
    "def scipy_omega(rets: pd.DataFrame):\n",
    "    n = len(rets.columns)\n",
    "    w_inicial = np.ones(n) / n\n",
    "    bounds = [(0, 1)] * n\n",
    "    tol = 1e-16\n",
    "\n",
    "    rets_below_zero = rets[rets < 0].fillna(0)\n",
    "    rets_above_zero = rets[rets > 0].fillna(0)\n",
    "    upside_risk=rets_above_zero.std()\n",
    "    downside_risk = rets_below_zero.std()\n",
    "\n",
    "    omega_ind = upside_risk / downside_risk\n",
    "\n",
    "    Omega_neg = lambda w: -np.sum(w * omega_ind)\n",
    "\n",
    "    constraints = {'fun': lambda w: np.sum(w) - 1, 'type': 'eq'}\n",
    "\n",
    "    result = minimize(\n",
    "        fun=Omega_neg,\n",
    "        x0=w_inicial,\n",
    "        bounds=bounds,\n",
    "        constraints=constraints,\n",
    "        tol=tol\n",
    "    )\n",
    "\n",
    "    w_omega = result.x\n",
    "    return dict(zip(rets.columns, w_omega))"
   ]
  },
  {
   "cell_type": "markdown",
   "id": "7e8c05e9",
   "metadata": {},
   "source": [
    "##### Función Backtesting "
   ]
  },
  {
   "cell_type": "code",
   "execution_count": 58,
   "id": "990e76ed",
   "metadata": {},
   "outputs": [],
   "source": [
    "def backtesting(prices: pd.DataFrame, benchmark: pd.DataFrame, weights: dict, capital: float):\n",
    "    \n",
    "    # Obtener rendimientos de precios y benchmark\n",
    "    rets_assets = prices.pct_change().dropna()\n",
    "    rets_benchmark = benchmark.pct_change().dropna()\n",
    "    \n",
    "    # data frame vacio para llenar historia\n",
    "    \n",
    "    df = pd.DataFrame(index=rets_assets.index)\n",
    "    \n",
    "    # Obtener evolución para cada estrategia dada\n",
    "    for strategy in weights.keys():\n",
    "        # para benchmark\n",
    "        if strategy == 'benchmark':\n",
    "            temp = rets_benchmark + 1\n",
    "            temp.iloc[0]=capital\n",
    "            temp = temp.cumprod()\n",
    "            df[strategy] = temp.values            \n",
    "    \n",
    "        # para otras estrategias\n",
    "\n",
    "        else:\n",
    "            temp = (rets_assets * weights.get(strategy)).sum(axis=1)+1\n",
    "            temp.iloc[0]=capital\n",
    "            temp = temp.cumprod()\n",
    "            df[strategy] = temp.values    \n",
    "\n",
    "    # Graficar la evolucion para ambos portafolios\n",
    "    plt.figure(figsize=(12,6))\n",
    "    plt.plot(df, label=df.keys())\n",
    "    plt.title('Backtesting of Strategies')\n",
    "    plt.xlabel('Date')\n",
    "    plt.ylabel('Portafolio Value')\n",
    "    plt.legend()\n",
    "    plt.show()\n",
    "\n",
    "\n",
    "    return df"
   ]
  },
  {
   "cell_type": "markdown",
   "id": "de825136",
   "metadata": {},
   "source": [
    "##### Función Métricas de Desempeño"
   ]
  },
  {
   "cell_type": "code",
   "execution_count": 59,
   "id": "7ced27b2",
   "metadata": {},
   "outputs": [],
   "source": [
    "def metricas_anuales(history, rf):\n",
    "    # Returns\n",
    "    rets= history.pct_change().dropna()\n",
    "    \n",
    "    # Matriz de Cov\n",
    "    cov_hist = rets.cov()\n",
    "\n",
    "    # Dataframe\n",
    "    metricas = pd.DataFrame(index=rets.columns)\n",
    "\n",
    "    # Rendimiento \n",
    "    metricas['Rendimiento Promedio Anual'] = R_p = rets.mean()*252*100\n",
    "    \n",
    "    # Volatilidad \n",
    "    metricas['Volatilidad Anual'] = vol_anual = rets.std()*np.sqrt(252)*100\n",
    "    \n",
    "    # Ratio de Sharpe\n",
    "    metricas['Ratio de Sharpe'] = (R_p - rf) / vol_anual\n",
    "\n",
    "    # Downside Risk\n",
    "    metricas['Downside Risk'] = downside = rets[rets < 0].std() * np.sqrt(252) * 100\n",
    "\n",
    "    # Upside Risk\n",
    "    metricas['Upside Risk'] = upside = rets[rets > 0].std() * np.sqrt(252) * 100\n",
    "\n",
    "    # Omega\n",
    "    metricas['Omega'] =omega= upside / downside\n",
    "\n",
    "    # Beta\n",
    "\n",
    "    covs = cov_hist['Benchmark']\n",
    "    varianza_market = covs['Benchmark']\n",
    "    metricas['Beta'] = beta = covs / varianza_market\n",
    "\n",
    "    # Alfa de Jensen\n",
    "\n",
    "    R_m = rets['Benchmark']\n",
    "    alpha_Jensen = R_p - (rf + beta * (R_m - rf))\n",
    "\n",
    "    # Ratio de Treynor\n",
    "    metricas['Ratio de Treynor'] = (R_p - rf) / beta\n",
    "\n",
    "    # Ratio de Sortino\n",
    "    metricas['Ratio de Sortino'] = (R_p - rf) / downside\n",
    "\n",
    "    return metricas.T"
   ]
  },
  {
   "cell_type": "markdown",
   "id": "b2a63a72",
   "metadata": {},
   "source": [
    "---"
   ]
  },
  {
   "cell_type": "markdown",
   "id": "45bc5115",
   "metadata": {},
   "source": [
    "#### Construcción del Portafolio "
   ]
  },
  {
   "cell_type": "markdown",
   "id": "837a7ec9",
   "metadata": {},
   "source": [
    "##### Activos "
   ]
  },
  {
   "cell_type": "markdown",
   "id": "a6247046",
   "metadata": {},
   "source": [
    "| **Empresa**                             | **Ticker**        | **Sector Económico**                          |\n",
    "|----------------------------------------|-------------------|-----------------------------------------------|\n",
    "| El Puerto de Liverpool, S.A.B. de C.V. | LIVEPOLC-1.MX     | Consumo                 |\n",
    "| Coca-Cola FEMSA, S.A.B. de C.V.        | KOFUBL.MX         | Consumo Básico             |\n",
    "| Cemex, S.A.B. de C.V.                  | CEMEXCPO.MX       | Materiales           |\n",
    "| Grupo Comercial Chedraui               | CHDRAUIB.MX       | Consumo Básico          |\n",
    "| Becle, S.A.B. de C.V. José Cuervo    | CUERVO.MX         | Consumo Básico       |\n",
    "| Genomma Lab Internacional, S.A.B. de C.V. | LABB.MX         | Salud  |\n",
    "| Rassini, S.A.B. de C.V.                | RA.MX             | Industriales                   |\n",
    "\n"
   ]
  },
  {
   "cell_type": "markdown",
   "id": "18905cb5",
   "metadata": {},
   "source": [
    "##### Benchmark"
   ]
  },
  {
   "cell_type": "markdown",
   "id": "2dad3ea8",
   "metadata": {},
   "source": [
    "- IPC Índice de Precios y Cotizaciones de la Bolsa Mexicana de Valores (^MXX)."
   ]
  },
  {
   "cell_type": "markdown",
   "id": "b0fba4f3",
   "metadata": {},
   "source": [
    "---"
   ]
  },
  {
   "cell_type": "markdown",
   "id": "807b0c9f",
   "metadata": {},
   "source": [
    "#### Importación de los datos"
   ]
  },
  {
   "cell_type": "code",
   "execution_count": 60,
   "id": "14e510f4",
   "metadata": {},
   "outputs": [],
   "source": [
    "tickers = ['LIVEPOLC-1.MX', 'KOFUBL.MX', 'CEMEXCPO.MX', 'CHDRAUIB.MX', 'CUERVO.MX', 'LABB.MX', 'RA.MX']\n",
    "\n",
    "opt_prices = yf.download(tickers, start='2023-06-23', end='2024-06-23', progress=False)['Close']\n",
    "\n",
    "bt_prices = yf.download(tickers,  start='2024-06-23', end='2025-06-23', progress=False)['Close']\n",
    "\n",
    "benchmark = yf.download(['^MXX'], start='2024-06-23', end='2025-06-23', progress=False)['Close']"
   ]
  },
  {
   "cell_type": "markdown",
   "id": "6808e623",
   "metadata": {},
   "source": [
    "##### Rendimientos activos"
   ]
  },
  {
   "cell_type": "code",
   "execution_count": 61,
   "id": "c0230d92",
   "metadata": {},
   "outputs": [],
   "source": [
    "opt_rets = opt_prices.pct_change().dropna()\n",
    "corr = opt_rets.corr()"
   ]
  },
  {
   "cell_type": "markdown",
   "id": "6f5070a3",
   "metadata": {},
   "source": [
    "##### Rendimientos benchmark"
   ]
  },
  {
   "cell_type": "code",
   "execution_count": 62,
   "id": "0ba4d75c",
   "metadata": {},
   "outputs": [],
   "source": [
    "rets_b = benchmark.pct_change().dropna()"
   ]
  },
  {
   "cell_type": "markdown",
   "id": "71c31c9c",
   "metadata": {},
   "source": [
    "#### Rendimientos Backtesting"
   ]
  },
  {
   "cell_type": "code",
   "execution_count": 63,
   "id": "587ed908",
   "metadata": {},
   "outputs": [],
   "source": [
    "rets_bt = bt_prices.pct_change().dropna()"
   ]
  },
  {
   "cell_type": "markdown",
   "id": "c7e54b5e",
   "metadata": {},
   "source": [
    "---"
   ]
  },
  {
   "cell_type": "markdown",
   "id": "d945fbbf",
   "metadata": {},
   "source": [
    "#### Asset Allocation "
   ]
  },
  {
   "cell_type": "markdown",
   "id": "f7182cfa",
   "metadata": {},
   "source": [
    "##### Mínima Varianza"
   ]
  },
  {
   "cell_type": "code",
   "execution_count": 64,
   "id": "ee4405f3",
   "metadata": {},
   "outputs": [
    {
     "data": {
      "text/plain": [
       "{'CEMEXCPO.MX': 0.046118979256300714,\n",
       " 'CHDRAUIB.MX': 0.30905603153151856,\n",
       " 'CUERVO.MX': 0.11713467671805179,\n",
       " 'KOFUBL.MX': 0.2164678582874239,\n",
       " 'LABB.MX': 0.0014375843650323915,\n",
       " 'LIVEPOLC-1.MX': 0.2471785882235787,\n",
       " 'RA.MX': 0.06260628161809388}"
      ]
     },
     "execution_count": 64,
     "metadata": {},
     "output_type": "execute_result"
    }
   ],
   "source": [
    "w_minvar = opt_min_var(opt_rets)\n",
    "dict(zip(opt_rets.columns, w_minvar))"
   ]
  },
  {
   "cell_type": "markdown",
   "id": "e52322c2",
   "metadata": {},
   "source": [
    "##### Máximo de Sharpe "
   ]
  },
  {
   "cell_type": "code",
   "execution_count": 65,
   "id": "9b3a28d7",
   "metadata": {},
   "outputs": [
    {
     "data": {
      "text/plain": [
       "{'CEMEXCPO.MX': 3.508238531009532e-17,\n",
       " 'CHDRAUIB.MX': 0.537796178613297,\n",
       " 'CUERVO.MX': 0.0,\n",
       " 'KOFUBL.MX': 0.0,\n",
       " 'LABB.MX': 0.09006472130461333,\n",
       " 'LIVEPOLC-1.MX': 0.37213910008208984,\n",
       " 'RA.MX': 0.0}"
      ]
     },
     "execution_count": 65,
     "metadata": {},
     "output_type": "execute_result"
    }
   ],
   "source": [
    "w_maxsharpe = opt_max_sharpe(opt_rets, rf=0.045)\n",
    "dict(zip(opt_rets.columns, w_maxsharpe))"
   ]
  },
  {
   "cell_type": "markdown",
   "id": "91d99379",
   "metadata": {},
   "source": [
    "##### Semi-Varianza target"
   ]
  },
  {
   "cell_type": "code",
   "execution_count": 66,
   "id": "41e0e457",
   "metadata": {},
   "outputs": [
    {
     "data": {
      "text/plain": [
       "{'CEMEXCPO.MX': 0.14285714285714285,\n",
       " 'CHDRAUIB.MX': 0.14285714285714285,\n",
       " 'CUERVO.MX': 0.14285714285714285,\n",
       " 'KOFUBL.MX': 0.14285714285714285,\n",
       " 'LABB.MX': 0.14285714285714285,\n",
       " 'LIVEPOLC-1.MX': 0.14285714285714285,\n",
       " 'RA.MX': 0.14285714285714285}"
      ]
     },
     "execution_count": 66,
     "metadata": {},
     "output_type": "execute_result"
    }
   ],
   "source": [
    "w_semivar= objetivo(opt_rets, rets_b, corr)\n",
    "w_semivar"
   ]
  },
  {
   "cell_type": "markdown",
   "id": "b0b5a7c4",
   "metadata": {},
   "source": [
    "##### Ratio Omega"
   ]
  },
  {
   "cell_type": "code",
   "execution_count": 67,
   "id": "d4d0ce8e",
   "metadata": {},
   "outputs": [
    {
     "data": {
      "text/plain": [
       "{'CEMEXCPO.MX': 1.7632125819594537e-19,\n",
       " 'CHDRAUIB.MX': 1.0,\n",
       " 'CUERVO.MX': 0.0,\n",
       " 'KOFUBL.MX': 6.4571063532475e-17,\n",
       " 'LABB.MX': 0.0,\n",
       " 'LIVEPOLC-1.MX': 1.4787513179875976e-19,\n",
       " 'RA.MX': 4.8363490344779524e-20}"
      ]
     },
     "execution_count": 67,
     "metadata": {},
     "output_type": "execute_result"
    }
   ],
   "source": [
    "omega = scipy_omega(opt_rets)\n",
    "omega"
   ]
  },
  {
   "cell_type": "markdown",
   "id": "34da8588",
   "metadata": {},
   "source": [
    "---"
   ]
  },
  {
   "cell_type": "markdown",
   "id": "6a0e0457",
   "metadata": {},
   "source": [
    "### Backtesting de Portafolio"
   ]
  },
  {
   "cell_type": "markdown",
   "id": "ac3ee833",
   "metadata": {},
   "source": [
    "##### Capital "
   ]
  },
  {
   "cell_type": "code",
   "execution_count": 68,
   "id": "c701fda5",
   "metadata": {},
   "outputs": [],
   "source": [
    "capital = 1000000"
   ]
  },
  {
   "cell_type": "markdown",
   "id": "5d7c38c3",
   "metadata": {},
   "source": [
    "##### Estrategias a usar"
   ]
  },
  {
   "cell_type": "code",
   "execution_count": 69,
   "id": "a2a1833f",
   "metadata": {},
   "outputs": [],
   "source": [
    "w_dict = {\n",
    "    'Min Varianza': w_minvar,\n",
    "    'Max Sharpe': w_maxsharpe,\n",
    "    'Semi-Varianza target': w_semivar,\n",
    "    'Ratio Omega': omega,\n",
    "    'Benchmark': 1\n",
    "}"
   ]
  },
  {
   "cell_type": "markdown",
   "id": "8fcb9170",
   "metadata": {},
   "source": [
    "##### Función Aplicada "
   ]
  },
  {
   "cell_type": "code",
   "execution_count": 70,
   "id": "fb33c32c",
   "metadata": {},
   "outputs": [
    {
     "data": {
      "image/png": "[encoded data removed]",
      "text/plain": [
       "<Figure size 1200x600 with 1 Axes>"
      ]
     },
     "metadata": {},
     "output_type": "display_data"
    }
   ],
   "source": [
    "history = backtesting(bt_prices, benchmark, w_dict, capital)"
   ]
  },
  {
   "cell_type": "markdown",
   "id": "fd3c68b0",
   "metadata": {},
   "source": [
    "#### Métricas de Desempeño"
   ]
  },
  {
   "cell_type": "code",
   "execution_count": 71,
   "id": "79648566",
   "metadata": {},
   "outputs": [
    {
     "data": {
      "text/html": [
       "<div>\n",
       "<style scoped>\n",
       "    .dataframe tbody tr th:only-of-type {\n",
       "        vertical-align: middle;\n",
       "    }\n",
       "\n",
       "    .dataframe tbody tr th {\n",
       "        vertical-align: top;\n",
       "    }\n",
       "\n",
       "    .dataframe thead th {\n",
       "        text-align: right;\n",
       "    }\n",
       "</style>\n",
       "<table border=\"1\" class=\"dataframe\">\n",
       "  <thead>\n",
       "    <tr style=\"text-align: right;\">\n",
       "      <th></th>\n",
       "      <th>Min Varianza</th>\n",
       "      <th>Max Sharpe</th>\n",
       "      <th>Semi-Varianza target</th>\n",
       "      <th>Ratio Omega</th>\n",
       "      <th>Benchmark</th>\n",
       "    </tr>\n",
       "  </thead>\n",
       "  <tbody>\n",
       "    <tr>\n",
       "      <th>Rendimiento Promedio Anual</th>\n",
       "      <td>3.064646</td>\n",
       "      <td>2.787527</td>\n",
       "      <td>8.673199</td>\n",
       "      <td>18.722520</td>\n",
       "      <td>60.712391</td>\n",
       "    </tr>\n",
       "    <tr>\n",
       "      <th>Volatilidad Anual</th>\n",
       "      <td>16.298337</td>\n",
       "      <td>18.447179</td>\n",
       "      <td>16.368068</td>\n",
       "      <td>26.702499</td>\n",
       "      <td>114.576474</td>\n",
       "    </tr>\n",
       "    <tr>\n",
       "      <th>Ratio de Sharpe</th>\n",
       "      <td>0.185273</td>\n",
       "      <td>0.148669</td>\n",
       "      <td>0.527136</td>\n",
       "      <td>0.699467</td>\n",
       "      <td>0.529493</td>\n",
       "    </tr>\n",
       "    <tr>\n",
       "      <th>Downside Risk</th>\n",
       "      <td>10.253929</td>\n",
       "      <td>11.738906</td>\n",
       "      <td>11.465138</td>\n",
       "      <td>16.355630</td>\n",
       "      <td>80.255965</td>\n",
       "    </tr>\n",
       "    <tr>\n",
       "      <th>Upside Risk</th>\n",
       "      <td>10.305355</td>\n",
       "      <td>11.869968</td>\n",
       "      <td>9.840446</td>\n",
       "      <td>18.943980</td>\n",
       "      <td>68.883120</td>\n",
       "    </tr>\n",
       "    <tr>\n",
       "      <th>Omega</th>\n",
       "      <td>1.005015</td>\n",
       "      <td>1.011165</td>\n",
       "      <td>0.858293</td>\n",
       "      <td>1.158254</td>\n",
       "      <td>0.858293</td>\n",
       "    </tr>\n",
       "    <tr>\n",
       "      <th>Beta</th>\n",
       "      <td>0.126175</td>\n",
       "      <td>0.116057</td>\n",
       "      <td>0.142857</td>\n",
       "      <td>0.131430</td>\n",
       "      <td>1.000000</td>\n",
       "    </tr>\n",
       "    <tr>\n",
       "      <th>Ratio de Treynor</th>\n",
       "      <td>23.932236</td>\n",
       "      <td>23.630945</td>\n",
       "      <td>60.397391</td>\n",
       "      <td>142.109884</td>\n",
       "      <td>60.667391</td>\n",
       "    </tr>\n",
       "    <tr>\n",
       "      <th>Ratio de Sortino</th>\n",
       "      <td>0.294487</td>\n",
       "      <td>0.233627</td>\n",
       "      <td>0.752560</td>\n",
       "      <td>1.141963</td>\n",
       "      <td>0.755924</td>\n",
       "    </tr>\n",
       "  </tbody>\n",
       "</table>\n",
       "</div>"
      ],
      "text/plain": [
       "                            Min Varianza  Max Sharpe  Semi-Varianza target  \\\n",
       "Rendimiento Promedio Anual      3.064646    2.787527              8.673199   \n",
       "Volatilidad Anual              16.298337   18.447179             16.368068   \n",
       "Ratio de Sharpe                 0.185273    0.148669              0.527136   \n",
       "Downside Risk                  10.253929   11.738906             11.465138   \n",
       "Upside Risk                    10.305355   11.869968              9.840446   \n",
       "Omega                           1.005015    1.011165              0.858293   \n",
       "Beta                            0.126175    0.116057              0.142857   \n",
       "Ratio de Treynor               23.932236   23.630945             60.397391   \n",
       "Ratio de Sortino                0.294487    0.233627              0.752560   \n",
       "\n",
       "                            Ratio Omega   Benchmark  \n",
       "Rendimiento Promedio Anual    18.722520   60.712391  \n",
       "Volatilidad Anual             26.702499  114.576474  \n",
       "Ratio de Sharpe                0.699467    0.529493  \n",
       "Downside Risk                 16.355630   80.255965  \n",
       "Upside Risk                   18.943980   68.883120  \n",
       "Omega                          1.158254    0.858293  \n",
       "Beta                           0.131430    1.000000  \n",
       "Ratio de Treynor             142.109884   60.667391  \n",
       "Ratio de Sortino               1.141963    0.755924  "
      ]
     },
     "execution_count": 71,
     "metadata": {},
     "output_type": "execute_result"
    }
   ],
   "source": [
    "Desempeño = metricas_anuales(history, 0.045)\n",
    "Desempeño"
   ]
  },
  {
   "cell_type": "markdown",
   "id": "08c1f6d2",
   "metadata": {},
   "source": [
    "#### Interpretación"
   ]
  },
  {
   "cell_type": "markdown",
   "id": "6047c7cc",
   "metadata": {},
   "source": [
    "Con base en las métricas presentadas, se puede interpretar que los activos seleccionados no son muy adecuados para invertir en este momento, ya que muestran resultados bastante deficientes. En general, ninguna de las estrategias resulta especialmente atractiva, principalmente porque la relación entre rendimiento y volatilidad es baja para todas. Aun así, si tuviera que elegir una, la estrategia basada en el Ratio Omega sería la opción más razonable.\n",
    "\n",
    "Esta estrategia destaca principalmente porque, aunque tiene una volatilidad anual bastante alta 26.70%, también ofrece el mayor rendimiento promedio anual 18.72% entre todas. Además, presenta el mejor Ratio de Sharpe 0.699, lo que significa que se obtienen 0.699 unidades de rendimiento por cada unidad de riesgo asumida, una cifra que, aunque no excelente, sí es superior a las otras estrategias.\n",
    "\n",
    "En cuanto al riesgo, esta estrategia tiene un Downside Risk de 16.35%, lo que indica que existe la posibilidad de experimentar rendimientos negativos. Sin embargo, s Upside Risk es de 18.94%, lo que sugiere un mayor potencial de ganancias. Esto se refleja también en su Ratio Omega de 1.15, lo que significa que hay más rendimientos positivos que negativos, una señal favorable.\n",
    "\n",
    "También resalta su Beta de 0.13, lo cual indica que es una estrategia bastante defensiva con respecto al mercado, siendo la segunda más baja entre las opciones. Además, tiene el mejor Ratio de Treynor 142.07, lo que muestra que es la estrategia con mejor desempeño en relación con el riesgo de mercado. En el Ratio de Sortino 1.14 también se posiciona como la mejor, lo que indica una buena relación entre rendimiento y riesgo negativo.\n",
    "\n",
    "En conclusión la estrategia de Ratio Omega es la que presenta las mejores métricas de desempeño, no parece ser una opción especialmente buena para invertir el capital, ya que los activos seleccionados para este portafolio, incluyendo el benchmark, no son los más sólidos. Por lo tanto, sería recomendable nbuscar la selección de activos y buscar mejores opciones.\n"
   ]
  },
  {
   "cell_type": "markdown",
   "id": "f62af219",
   "metadata": {},
   "source": [
    "---"
   ]
  },
  {
   "cell_type": "markdown",
   "id": "20ec8bcc",
   "metadata": {},
   "source": [
    "### Selección de Estrategias de Inversión "
   ]
  },
  {
   "cell_type": "markdown",
   "id": "51bb6a21",
   "metadata": {},
   "source": [
    "##### Perfil de aversión al Riesgo  : Averso al riesgo"
   ]
  },
  {
   "cell_type": "markdown",
   "id": "edefb087",
   "metadata": {},
   "source": [
    "Basándome en los resultados del backtesting y las métricas de desempeño, la estrategia que mejor se ajusta a mi perfil de aversión al riesgo es la basada en el Ratio Omega. Aunque ninguna de las estrategias es ideal, esta es la que presenta las métricas más sólidas en comparación con las demás.\n",
    "\n",
    "Su Ratio de Sharpe , Ratio de Sortino y Ratio de Treynor son los más altos, lo que indica un mejor desempeño ajustado al riesgo, especialmente al riesgo negativo. Además, su Beta refleja que es una estrategia defensiva frente al mercado, lo cual es lo mejor para un perfil averso al riesgo ,como  lo es el mío.\n",
    "\n",
    "Aunque su relación rendimiento/volatilidad no es la mejor, sí ofrece el mayor rendimiento anual rendimiento , lo que la convierte en la opción más robusta dentro de este conjunto limitado de alternativas. Por todo esto, si tuviera que elegir una, sin duda me quedo con la estrategia del Ratio Omega."
   ]
  },
  {
   "cell_type": "markdown",
   "id": "dbd73152",
   "metadata": {},
   "source": [
    "---"
   ]
  },
  {
   "cell_type": "markdown",
   "id": "59ae99c7",
   "metadata": {},
   "source": [
    "### Calculo de Pesos para Portafolio Real"
   ]
  },
  {
   "cell_type": "code",
   "execution_count": 75,
   "id": "b1c8b705",
   "metadata": {},
   "outputs": [
    {
     "data": {
      "text/html": [
       "<div>\n",
       "<style scoped>\n",
       "    .dataframe tbody tr th:only-of-type {\n",
       "        vertical-align: middle;\n",
       "    }\n",
       "\n",
       "    .dataframe tbody tr th {\n",
       "        vertical-align: top;\n",
       "    }\n",
       "\n",
       "    .dataframe thead th {\n",
       "        text-align: right;\n",
       "    }\n",
       "</style>\n",
       "<table border=\"1\" class=\"dataframe\">\n",
       "  <thead>\n",
       "    <tr style=\"text-align: right;\">\n",
       "      <th></th>\n",
       "      <th>w</th>\n",
       "      <th>Cash</th>\n",
       "      <th>No. Acciones</th>\n",
       "    </tr>\n",
       "    <tr>\n",
       "      <th>Ticker</th>\n",
       "      <th></th>\n",
       "      <th></th>\n",
       "      <th></th>\n",
       "    </tr>\n",
       "  </thead>\n",
       "  <tbody>\n",
       "    <tr>\n",
       "      <th>CEMEXCPO.MX</th>\n",
       "      <td>6.538223e-17</td>\n",
       "      <td>6.538223e-11</td>\n",
       "      <td>0.0</td>\n",
       "    </tr>\n",
       "    <tr>\n",
       "      <th>CHDRAUIB.MX</th>\n",
       "      <td>7.213032e-16</td>\n",
       "      <td>7.213032e-10</td>\n",
       "      <td>0.0</td>\n",
       "    </tr>\n",
       "    <tr>\n",
       "      <th>CUERVO.MX</th>\n",
       "      <td>3.201819e-16</td>\n",
       "      <td>3.201819e-10</td>\n",
       "      <td>0.0</td>\n",
       "    </tr>\n",
       "    <tr>\n",
       "      <th>KOFUBL.MX</th>\n",
       "      <td>1.000000e+00</td>\n",
       "      <td>1.000000e+06</td>\n",
       "      <td>5523.0</td>\n",
       "    </tr>\n",
       "    <tr>\n",
       "      <th>LABB.MX</th>\n",
       "      <td>2.930324e-16</td>\n",
       "      <td>2.930324e-10</td>\n",
       "      <td>0.0</td>\n",
       "    </tr>\n",
       "    <tr>\n",
       "      <th>LIVEPOLC-1.MX</th>\n",
       "      <td>2.766493e-16</td>\n",
       "      <td>2.766493e-10</td>\n",
       "      <td>0.0</td>\n",
       "    </tr>\n",
       "    <tr>\n",
       "      <th>RA.MX</th>\n",
       "      <td>2.766211e-15</td>\n",
       "      <td>2.766211e-09</td>\n",
       "      <td>0.0</td>\n",
       "    </tr>\n",
       "  </tbody>\n",
       "</table>\n",
       "</div>"
      ],
      "text/plain": [
       "                          w          Cash  No. Acciones\n",
       "Ticker                                                 \n",
       "CEMEXCPO.MX    6.538223e-17  6.538223e-11           0.0\n",
       "CHDRAUIB.MX    7.213032e-16  7.213032e-10           0.0\n",
       "CUERVO.MX      3.201819e-16  3.201819e-10           0.0\n",
       "KOFUBL.MX      1.000000e+00  1.000000e+06        5523.0\n",
       "LABB.MX        2.930324e-16  2.930324e-10           0.0\n",
       "LIVEPOLC-1.MX  2.766493e-16  2.766493e-10           0.0\n",
       "RA.MX          2.766211e-15  2.766211e-09           0.0"
      ]
     },
     "execution_count": 75,
     "metadata": {},
     "output_type": "execute_result"
    }
   ],
   "source": [
    "re_opt = pd.DataFrame(index=  opt_rets.columns)\n",
    "re_opt['w'] = scipy_omega(rets_bt)\n",
    "re_opt['Cash'] = re_opt['w'] * capital\n",
    "re_opt['No. Acciones'] = np.floor(re_opt['Cash'] / bt_prices.iloc[-1])\n",
    "re_opt\n",
    "\n"
   ]
  },
  {
   "cell_type": "code",
   "execution_count": 76,
   "id": "61185172",
   "metadata": {},
   "outputs": [
    {
     "data": {
      "text/plain": [
       "1.000000000000004"
      ]
     },
     "execution_count": 76,
     "metadata": {},
     "output_type": "execute_result"
    }
   ],
   "source": [
    "re_opt['w'].sum()"
   ]
  }
 ],
 "metadata": {
  "kernelspec": {
   "display_name": "Python 3",
   "language": "python",
   "name": "python3"
  },
  "language_info": {
   "codemirror_mode": {
    "name": "ipython",
    "version": 3
   },
   "file_extension": ".py",
   "mimetype": "text/x-python",
   "name": "python",
   "nbconvert_exporter": "python",
   "pygments_lexer": "ipython3",
   "version": "3.12.8"
  }
 },
 "nbformat": 4,
 "nbformat_minor": 5
}
