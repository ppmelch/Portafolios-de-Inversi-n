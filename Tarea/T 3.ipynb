{
 "cells": [
  {
   "cell_type": "markdown",
   "id": "2ffcc400",
   "metadata": {},
   "source": [
    "# Portafolios de Inversión\n",
    "## Tarea 3\n",
    "\n",
    "- José Armando Melchor Soto\n",
    "---"
   ]
  },
  {
   "cell_type": "markdown",
   "id": "40ccec0f",
   "metadata": {},
   "source": [
    "### Indicaciones "
   ]
  },
  {
   "cell_type": "markdown",
   "id": "93d70855",
   "metadata": {},
   "source": [
    "Asume que eres el Portfolio Manager de Banamex y deseas comparar el desempeño de una estrategia de inversión activa con una pasiva (Benchmark), realizando un análisis básico del riesgo y rendimiento de ambas estrategias. Sigue los pasos para evaluarlas:\n",
    "\n",
    "1.- Tu estrategia de inversión activa contiene las sigtes. acciones con ponderaciones equitativas Berkshire Hathaway B, Visa, Goldman Sachs Group Inc, Progressive Corp, para tu portafolio:\n",
    "\n",
    "Investiga los tickers de cada acción, su sector y modelo de negocio, dando un resumen ejecutivo de estas. (10%)\n",
    "Descarga los precios de cierre ajustado desde el 2018-01-01 hasta 2025-06-03.\n",
    "Calcula las métricas de riesgo y rendimiento anuales, coeficiente de variación, ratio de Sharpe y la matriz de correlación. (20%)\n",
    "Interpreta la matriz de correlación. (10%)\n",
    " \n",
    "\n",
    "2.- Ahora, compara tu estrategia de inversión activa contra una pasiva:\n",
    "\n",
    "En base a tu investigación pre-eliminar busca un índice que represente el sector de tus activos, comenta el nombre, ticker y los constituyentes de este. Descarga los precios del índice Yahoo Finance. (10%)\n",
    "Para el índice, calcula las métricas de riesgo y rendimiento anuales, además del ratio de Sharpe. (20%)\n",
    " \n",
    "\n",
    "3. -A manera de conclusión, en función de las métricas calculadas y en base a los dos Radios de Sharpe calculados para cada estrategia, responde:\n",
    "\n",
    "¿En que estrategia invertirías y por qué?, ¿Habría una forma de mejorar la estrategia activa? es decir, ¿Qué podrías cambiar en tu portafolio para obtener mejores resultados? (30%)\n",
    "Nota: Asume una tasa libre de riesgo del 3% anual.\n",
    "Entrega tu tarea en un html descargado de Jupyter Notebook."
   ]
  },
  {
   "cell_type": "markdown",
   "id": "6d2e983e",
   "metadata": {},
   "source": [
    "---"
   ]
  },
  {
   "cell_type": "markdown",
   "id": "548563a4",
   "metadata": {},
   "source": [
    "# 1. Estrategia de Inversión Activa"
   ]
  },
  {
   "cell_type": "markdown",
   "id": "fc0d1cca",
   "metadata": {},
   "source": [
    "---"
   ]
  },
  {
   "cell_type": "markdown",
   "id": "3ac7a8d5",
   "metadata": {},
   "source": [
    "### Investigación sobre los Activos"
   ]
  },
  {
   "cell_type": "markdown",
   "id": "cc611dc5",
   "metadata": {},
   "source": [
    "- Berkshire Hathaway B (**BRK-B**):\n",
    "    Es un holding estadounidense dueño total o parcial de las acciones de varios grupos empresariales. Tiene sus raíces en la fábrica textil establecida en 1839 por Oliver Chace conocida como Valley Falls Company, en Valley Falls, Rhode Island\n",
    "    - Sector económico: Financiero\n",
    "\n",
    "- Visa (**V**):\n",
    "    - Es una multinacional de servicios financieros cuya sede hasta 2019 fue en Foster City, California, Estados Unidos, y actualmente en el edificio One Market Plaza de San Francisco. Facilita las transferencias electrónicas de fondos en todo el mundo, más comúnmente a través de tarjetas de crédito, débito, prepago, regalo y monedero con la marca Visa.\n",
    "    - Sector económico: Financiero\n",
    "\n",
    "\n",
    "- Goldman Sachs Group Inc (**GS**):\n",
    "    - Esta compañía da servicios a otras compañías , instituciones financieras , gobierno , y una gran parte de individuos. Con esto se puede decir que es es uno de los grupos de banca de inversión y de valores más grande del mundo.\n",
    "    - Sector económico: Financiero \n",
    "\n",
    "- Progressive Corp (**PGR**): \n",
    "    - Esta es una compañía de seguros estadounidense, donde es la compañía número dos de todo Estados Unidos, esta proporciona seguros personales y comerciales de automóviles y propiedades, otros seguros especiales de propiedad y accidentes y servicios relacionados.\n",
    "    - Sector económico: Finaciero / seguros\n"
   ]
  },
  {
   "cell_type": "markdown",
   "id": "2aee4aa6",
   "metadata": {},
   "source": [
    "---"
   ]
  },
  {
   "cell_type": "markdown",
   "id": "d2949e4e",
   "metadata": {},
   "source": [
    "### Librerías"
   ]
  },
  {
   "cell_type": "code",
   "execution_count": 639,
   "id": "b69b9e5c",
   "metadata": {},
   "outputs": [],
   "source": [
    "import pandas as pd \n",
    "import numpy as np\n",
    "import yfinance as yf\n",
    "import matplotlib.pyplot as plt"
   ]
  },
  {
   "cell_type": "markdown",
   "id": "7c322027",
   "metadata": {},
   "source": [
    "---"
   ]
  },
  {
   "cell_type": "markdown",
   "id": "d5e8789f",
   "metadata": {},
   "source": [
    "### Importación de datos\n"
   ]
  },
  {
   "cell_type": "code",
   "execution_count": 640,
   "id": "281ae54b",
   "metadata": {},
   "outputs": [
    {
     "name": "stderr",
     "output_type": "stream",
     "text": [
      "[*********************100%***********************]  4 of 4 completed\n"
     ]
    },
    {
     "data": {
      "text/html": [
       "<div>\n",
       "<style scoped>\n",
       "    .dataframe tbody tr th:only-of-type {\n",
       "        vertical-align: middle;\n",
       "    }\n",
       "\n",
       "    .dataframe tbody tr th {\n",
       "        vertical-align: top;\n",
       "    }\n",
       "\n",
       "    .dataframe thead th {\n",
       "        text-align: right;\n",
       "    }\n",
       "</style>\n",
       "<table border=\"1\" class=\"dataframe\">\n",
       "  <thead>\n",
       "    <tr style=\"text-align: right;\">\n",
       "      <th>Ticker</th>\n",
       "      <th>BRK-B</th>\n",
       "      <th>GS</th>\n",
       "      <th>PGR</th>\n",
       "      <th>V</th>\n",
       "    </tr>\n",
       "    <tr>\n",
       "      <th>Date</th>\n",
       "      <th></th>\n",
       "      <th></th>\n",
       "      <th></th>\n",
       "      <th></th>\n",
       "    </tr>\n",
       "  </thead>\n",
       "  <tbody>\n",
       "    <tr>\n",
       "      <th>2018-01-02</th>\n",
       "      <td>197.220001</td>\n",
       "      <td>216.480896</td>\n",
       "      <td>45.511356</td>\n",
       "      <td>108.740440</td>\n",
       "    </tr>\n",
       "    <tr>\n",
       "      <th>2018-01-03</th>\n",
       "      <td>199.789993</td>\n",
       "      <td>214.465668</td>\n",
       "      <td>45.486694</td>\n",
       "      <td>109.823006</td>\n",
       "    </tr>\n",
       "    <tr>\n",
       "      <th>2018-01-04</th>\n",
       "      <td>200.690002</td>\n",
       "      <td>217.463058</td>\n",
       "      <td>45.478477</td>\n",
       "      <td>110.231331</td>\n",
       "    </tr>\n",
       "    <tr>\n",
       "      <th>2018-01-05</th>\n",
       "      <td>201.419998</td>\n",
       "      <td>216.353867</td>\n",
       "      <td>45.651115</td>\n",
       "      <td>112.871269</td>\n",
       "    </tr>\n",
       "    <tr>\n",
       "      <th>2018-01-08</th>\n",
       "      <td>202.740005</td>\n",
       "      <td>213.212540</td>\n",
       "      <td>45.790871</td>\n",
       "      <td>113.327057</td>\n",
       "    </tr>\n",
       "    <tr>\n",
       "      <th>...</th>\n",
       "      <td>...</td>\n",
       "      <td>...</td>\n",
       "      <td>...</td>\n",
       "      <td>...</td>\n",
       "    </tr>\n",
       "    <tr>\n",
       "      <th>2025-05-27</th>\n",
       "      <td>509.160004</td>\n",
       "      <td>612.676086</td>\n",
       "      <td>278.750000</td>\n",
       "      <td>359.299988</td>\n",
       "    </tr>\n",
       "    <tr>\n",
       "      <th>2025-05-28</th>\n",
       "      <td>503.109985</td>\n",
       "      <td>605.422241</td>\n",
       "      <td>277.029999</td>\n",
       "      <td>359.730011</td>\n",
       "    </tr>\n",
       "    <tr>\n",
       "      <th>2025-05-29</th>\n",
       "      <td>506.179993</td>\n",
       "      <td>601.859985</td>\n",
       "      <td>277.299988</td>\n",
       "      <td>362.399994</td>\n",
       "    </tr>\n",
       "    <tr>\n",
       "      <th>2025-05-30</th>\n",
       "      <td>503.959991</td>\n",
       "      <td>600.450012</td>\n",
       "      <td>284.929993</td>\n",
       "      <td>365.190002</td>\n",
       "    </tr>\n",
       "    <tr>\n",
       "      <th>2025-06-02</th>\n",
       "      <td>502.809998</td>\n",
       "      <td>598.719971</td>\n",
       "      <td>288.739990</td>\n",
       "      <td>365.320007</td>\n",
       "    </tr>\n",
       "  </tbody>\n",
       "</table>\n",
       "<p>1864 rows × 4 columns</p>\n",
       "</div>"
      ],
      "text/plain": [
       "Ticker           BRK-B          GS         PGR           V\n",
       "Date                                                      \n",
       "2018-01-02  197.220001  216.480896   45.511356  108.740440\n",
       "2018-01-03  199.789993  214.465668   45.486694  109.823006\n",
       "2018-01-04  200.690002  217.463058   45.478477  110.231331\n",
       "2018-01-05  201.419998  216.353867   45.651115  112.871269\n",
       "2018-01-08  202.740005  213.212540   45.790871  113.327057\n",
       "...                ...         ...         ...         ...\n",
       "2025-05-27  509.160004  612.676086  278.750000  359.299988\n",
       "2025-05-28  503.109985  605.422241  277.029999  359.730011\n",
       "2025-05-29  506.179993  601.859985  277.299988  362.399994\n",
       "2025-05-30  503.959991  600.450012  284.929993  365.190002\n",
       "2025-06-02  502.809998  598.719971  288.739990  365.320007\n",
       "\n",
       "[1864 rows x 4 columns]"
      ]
     },
     "execution_count": 640,
     "metadata": {},
     "output_type": "execute_result"
    }
   ],
   "source": [
    "prices = yf.download(['BRK-B','V' ,'GS','PGR'],start='2018-01-01', end= '2025-06-03')['Close']\n",
    "prices"
   ]
  },
  {
   "cell_type": "markdown",
   "id": "5db7c01e",
   "metadata": {},
   "source": [
    "---"
   ]
  },
  {
   "cell_type": "markdown",
   "id": "3ed48c82",
   "metadata": {},
   "source": [
    "### Retorno y pesos"
   ]
  },
  {
   "cell_type": "code",
   "execution_count": 641,
   "id": "b504444a",
   "metadata": {},
   "outputs": [
    {
     "data": {
      "text/plain": [
       "1.0"
      ]
     },
     "execution_count": 641,
     "metadata": {},
     "output_type": "execute_result"
    }
   ],
   "source": [
    "w= np.array([0.25, 0.25, 0.25, 0.25])\n",
    "np.sum(w)"
   ]
  },
  {
   "cell_type": "code",
   "execution_count": 642,
   "id": "956c6284",
   "metadata": {},
   "outputs": [
    {
     "data": {
      "text/html": [
       "<div>\n",
       "<style scoped>\n",
       "    .dataframe tbody tr th:only-of-type {\n",
       "        vertical-align: middle;\n",
       "    }\n",
       "\n",
       "    .dataframe tbody tr th {\n",
       "        vertical-align: top;\n",
       "    }\n",
       "\n",
       "    .dataframe thead th {\n",
       "        text-align: right;\n",
       "    }\n",
       "</style>\n",
       "<table border=\"1\" class=\"dataframe\">\n",
       "  <thead>\n",
       "    <tr style=\"text-align: right;\">\n",
       "      <th>Ticker</th>\n",
       "      <th>BRK-B</th>\n",
       "      <th>GS</th>\n",
       "      <th>PGR</th>\n",
       "      <th>V</th>\n",
       "    </tr>\n",
       "    <tr>\n",
       "      <th>Date</th>\n",
       "      <th></th>\n",
       "      <th></th>\n",
       "      <th></th>\n",
       "      <th></th>\n",
       "    </tr>\n",
       "  </thead>\n",
       "  <tbody>\n",
       "    <tr>\n",
       "      <th>2018-01-03</th>\n",
       "      <td>0.013031</td>\n",
       "      <td>-0.009309</td>\n",
       "      <td>-0.000542</td>\n",
       "      <td>0.009955</td>\n",
       "    </tr>\n",
       "    <tr>\n",
       "      <th>2018-01-04</th>\n",
       "      <td>0.004505</td>\n",
       "      <td>0.013976</td>\n",
       "      <td>-0.000181</td>\n",
       "      <td>0.003718</td>\n",
       "    </tr>\n",
       "    <tr>\n",
       "      <th>2018-01-05</th>\n",
       "      <td>0.003637</td>\n",
       "      <td>-0.005101</td>\n",
       "      <td>0.003796</td>\n",
       "      <td>0.023949</td>\n",
       "    </tr>\n",
       "    <tr>\n",
       "      <th>2018-01-08</th>\n",
       "      <td>0.006554</td>\n",
       "      <td>-0.014519</td>\n",
       "      <td>0.003061</td>\n",
       "      <td>0.004038</td>\n",
       "    </tr>\n",
       "    <tr>\n",
       "      <th>2018-01-09</th>\n",
       "      <td>0.001381</td>\n",
       "      <td>0.008459</td>\n",
       "      <td>0.008438</td>\n",
       "      <td>-0.001927</td>\n",
       "    </tr>\n",
       "    <tr>\n",
       "      <th>...</th>\n",
       "      <td>...</td>\n",
       "      <td>...</td>\n",
       "      <td>...</td>\n",
       "      <td>...</td>\n",
       "    </tr>\n",
       "    <tr>\n",
       "      <th>2025-05-27</th>\n",
       "      <td>0.011322</td>\n",
       "      <td>0.028720</td>\n",
       "      <td>0.005229</td>\n",
       "      <td>0.016292</td>\n",
       "    </tr>\n",
       "    <tr>\n",
       "      <th>2025-05-28</th>\n",
       "      <td>-0.011882</td>\n",
       "      <td>-0.011840</td>\n",
       "      <td>-0.006170</td>\n",
       "      <td>0.001197</td>\n",
       "    </tr>\n",
       "    <tr>\n",
       "      <th>2025-05-29</th>\n",
       "      <td>0.006102</td>\n",
       "      <td>-0.005884</td>\n",
       "      <td>0.000975</td>\n",
       "      <td>0.007422</td>\n",
       "    </tr>\n",
       "    <tr>\n",
       "      <th>2025-05-30</th>\n",
       "      <td>-0.004386</td>\n",
       "      <td>-0.002343</td>\n",
       "      <td>0.027515</td>\n",
       "      <td>0.007699</td>\n",
       "    </tr>\n",
       "    <tr>\n",
       "      <th>2025-06-02</th>\n",
       "      <td>-0.002282</td>\n",
       "      <td>-0.002881</td>\n",
       "      <td>0.013372</td>\n",
       "      <td>0.000356</td>\n",
       "    </tr>\n",
       "  </tbody>\n",
       "</table>\n",
       "<p>1863 rows × 4 columns</p>\n",
       "</div>"
      ],
      "text/plain": [
       "Ticker         BRK-B        GS       PGR         V\n",
       "Date                                              \n",
       "2018-01-03  0.013031 -0.009309 -0.000542  0.009955\n",
       "2018-01-04  0.004505  0.013976 -0.000181  0.003718\n",
       "2018-01-05  0.003637 -0.005101  0.003796  0.023949\n",
       "2018-01-08  0.006554 -0.014519  0.003061  0.004038\n",
       "2018-01-09  0.001381  0.008459  0.008438 -0.001927\n",
       "...              ...       ...       ...       ...\n",
       "2025-05-27  0.011322  0.028720  0.005229  0.016292\n",
       "2025-05-28 -0.011882 -0.011840 -0.006170  0.001197\n",
       "2025-05-29  0.006102 -0.005884  0.000975  0.007422\n",
       "2025-05-30 -0.004386 -0.002343  0.027515  0.007699\n",
       "2025-06-02 -0.002282 -0.002881  0.013372  0.000356\n",
       "\n",
       "[1863 rows x 4 columns]"
      ]
     },
     "execution_count": 642,
     "metadata": {},
     "output_type": "execute_result"
    }
   ],
   "source": [
    "ret = prices.pct_change().dropna()\n",
    "ret"
   ]
  },
  {
   "cell_type": "code",
   "execution_count": 643,
   "id": "e2705bf0",
   "metadata": {},
   "outputs": [
    {
     "data": {
      "image/png": "[encoded data removed]",
      "text/plain": [
       "<Figure size 1000x600 with 1 Axes>"
      ]
     },
     "metadata": {},
     "output_type": "display_data"
    },
    {
     "data": {
      "image/png": "[encoded data removed]",
      "text/plain": [
       "<Figure size 1000x600 with 1 Axes>"
      ]
     },
     "metadata": {},
     "output_type": "display_data"
    },
    {
     "data": {
      "image/png": "[encoded data removed]",
      "text/plain": [
       "<Figure size 1000x600 with 1 Axes>"
      ]
     },
     "metadata": {},
     "output_type": "display_data"
    },
    {
     "data": {
      "image/png": "[encoded data removed]",
      "text/plain": [
       "<Figure size 1000x600 with 1 Axes>"
      ]
     },
     "metadata": {},
     "output_type": "display_data"
    }
   ],
   "source": [
    "for stock in ret.keys():\n",
    "    plt.figure(figsize=(10, 6))\n",
    "    plt.hist(ret[stock], bins=50, alpha=0.7, label=stock)\n",
    "    plt.title(f'Return Distribution for {stock}')\n",
    "    plt.xlabel('Returns')   \n",
    "    plt.ylabel('Probabilidad')\n",
    "    plt.legend()\n",
    "    plt.show()"
   ]
  },
  {
   "cell_type": "code",
   "execution_count": 644,
   "id": "0476a61c",
   "metadata": {},
   "outputs": [],
   "source": [
    "df= pd.DataFrame(columns=ret.keys()).T"
   ]
  },
  {
   "cell_type": "markdown",
   "id": "7447b52e",
   "metadata": {},
   "source": [
    "### Rendimientos anuales"
   ]
  },
  {
   "cell_type": "code",
   "execution_count": 645,
   "id": "016bd29b",
   "metadata": {},
   "outputs": [
    {
     "name": "stdout",
     "output_type": "stream",
     "text": [
      "rendimiento anual 0.08131743107079041 %\n"
     ]
    }
   ],
   "source": [
    "mean= ret.mean()\n",
    "ret_diario= (mean* w).sum()\n",
    "print('rendimiento anual', ret_diario*100,'%')"
   ]
  },
  {
   "cell_type": "code",
   "execution_count": 646,
   "id": "f4c81918",
   "metadata": {},
   "outputs": [],
   "source": [
    "cov = ret.cov()"
   ]
  },
  {
   "cell_type": "markdown",
   "id": "b9c367e4",
   "metadata": {},
   "source": [
    "### Varianza"
   ]
  },
  {
   "cell_type": "code",
   "execution_count": 647,
   "id": "dfae8606",
   "metadata": {},
   "outputs": [
    {
     "name": "stdout",
     "output_type": "stream",
     "text": [
      "Varianza diaria del portafolio 0.018169055485588306 %\n"
     ]
    }
   ],
   "source": [
    "var_port_diario=w.T @ cov @ w\n",
    "print('Varianza diaria del portafolio', var_port_diario*100, '%')"
   ]
  },
  {
   "cell_type": "code",
   "execution_count": 648,
   "id": "f28508c1",
   "metadata": {},
   "outputs": [
    {
     "name": "stdout",
     "output_type": "stream",
     "text": [
      "Varianza anual del portafolio  4.578601982368253 %\n"
     ]
    }
   ],
   "source": [
    "var_port_anual= var_port_diario*252*100\n",
    "print('Varianza anual del portafolio ', var_port_anual, '%')"
   ]
  },
  {
   "cell_type": "markdown",
   "id": "448ee165",
   "metadata": {},
   "source": [
    "### Riesgo / Volatilidad "
   ]
  },
  {
   "cell_type": "code",
   "execution_count": 649,
   "id": "f3fae588",
   "metadata": {},
   "outputs": [
    {
     "name": "stdout",
     "output_type": "stream",
     "text": [
      "Volatilidad del portafolio diaria es de: 1.3479263884051054 %\n"
     ]
    }
   ],
   "source": [
    "vol_port_diario = np.sqrt(var_port_diario)\n",
    "print('Volatilidad del portafolio diaria es de:', vol_port_diario*100, '%')"
   ]
  },
  {
   "cell_type": "code",
   "execution_count": 650,
   "id": "cf124f55",
   "metadata": {},
   "outputs": [
    {
     "name": "stdout",
     "output_type": "stream",
     "text": [
      "Volatilidad del portafolio anual es de: 21.397668056048197 %\n"
     ]
    }
   ],
   "source": [
    "vol_port_anual= vol_port_diario * np.sqrt(252)\n",
    "print('Volatilidad del portafolio anual es de:', vol_port_anual*100, '%')"
   ]
  },
  {
   "cell_type": "markdown",
   "id": "a13e00a2",
   "metadata": {},
   "source": [
    "### Coeficiente de Variación"
   ]
  },
  {
   "cell_type": "code",
   "execution_count": 651,
   "id": "eeeca838",
   "metadata": {},
   "outputs": [
    {
     "data": {
      "text/plain": [
       "263.1375312068157"
      ]
     },
     "execution_count": 651,
     "metadata": {},
     "output_type": "execute_result"
    }
   ],
   "source": [
    "CV = vol_port_anual / ret_diario\n",
    "CV"
   ]
  },
  {
   "cell_type": "markdown",
   "id": "92e0b8cc",
   "metadata": {},
   "source": [
    "### Ratio Sharpe"
   ]
  },
  {
   "cell_type": "code",
   "execution_count": 652,
   "id": "f22974e2",
   "metadata": {},
   "outputs": [],
   "source": [
    "rf = 0.03"
   ]
  },
  {
   "cell_type": "code",
   "execution_count": 653,
   "id": "8f0a33dc",
   "metadata": {},
   "outputs": [
    {
     "name": "stdout",
     "output_type": "stream",
     "text": [
      "Sharpe Ratio de :  0.8174719125477299\n"
     ]
    }
   ],
   "source": [
    "Sharpe_ratio = (ret_diario*252 - rf) / vol_port_anual\n",
    "\n",
    "print ('Sharpe Ratio de : ',Sharpe_ratio )"
   ]
  },
  {
   "cell_type": "markdown",
   "id": "2dc344fe",
   "metadata": {},
   "source": [
    " Se tiene un buen rendimiento anual de los activos , pero cabe mencionar que hay un gran riesgo en este portafolio , por lo que no pudiera ser tan atractivo para nosotros como empresa (Banamex), también se tiene un coeficiente de variación muy alto. El Ratio Sharpe de 0.8174, por lo que puede estar mucho más alto qu el del índice , por lo que es una unidad de rendimiento por una de riesgo , por lo que es algo alto y bueno.\n"
   ]
  },
  {
   "cell_type": "markdown",
   "id": "59efd26b",
   "metadata": {},
   "source": [
    "### Matriz de Correlación"
   ]
  },
  {
   "cell_type": "code",
   "execution_count": 654,
   "id": "74f0eeb9",
   "metadata": {},
   "outputs": [
    {
     "data": {
      "text/html": [
       "<div>\n",
       "<style scoped>\n",
       "    .dataframe tbody tr th:only-of-type {\n",
       "        vertical-align: middle;\n",
       "    }\n",
       "\n",
       "    .dataframe tbody tr th {\n",
       "        vertical-align: top;\n",
       "    }\n",
       "\n",
       "    .dataframe thead th {\n",
       "        text-align: right;\n",
       "    }\n",
       "</style>\n",
       "<table border=\"1\" class=\"dataframe\">\n",
       "  <thead>\n",
       "    <tr style=\"text-align: right;\">\n",
       "      <th>Ticker</th>\n",
       "      <th>BRK-B</th>\n",
       "      <th>GS</th>\n",
       "      <th>PGR</th>\n",
       "      <th>V</th>\n",
       "    </tr>\n",
       "    <tr>\n",
       "      <th>Ticker</th>\n",
       "      <th></th>\n",
       "      <th></th>\n",
       "      <th></th>\n",
       "      <th></th>\n",
       "    </tr>\n",
       "  </thead>\n",
       "  <tbody>\n",
       "    <tr>\n",
       "      <th>BRK-B</th>\n",
       "      <td>1.000000</td>\n",
       "      <td>0.713607</td>\n",
       "      <td>0.534054</td>\n",
       "      <td>0.664746</td>\n",
       "    </tr>\n",
       "    <tr>\n",
       "      <th>GS</th>\n",
       "      <td>0.713607</td>\n",
       "      <td>1.000000</td>\n",
       "      <td>0.381716</td>\n",
       "      <td>0.590600</td>\n",
       "    </tr>\n",
       "    <tr>\n",
       "      <th>PGR</th>\n",
       "      <td>0.534054</td>\n",
       "      <td>0.381716</td>\n",
       "      <td>1.000000</td>\n",
       "      <td>0.424647</td>\n",
       "    </tr>\n",
       "    <tr>\n",
       "      <th>V</th>\n",
       "      <td>0.664746</td>\n",
       "      <td>0.590600</td>\n",
       "      <td>0.424647</td>\n",
       "      <td>1.000000</td>\n",
       "    </tr>\n",
       "  </tbody>\n",
       "</table>\n",
       "</div>"
      ],
      "text/plain": [
       "Ticker     BRK-B        GS       PGR         V\n",
       "Ticker                                        \n",
       "BRK-B   1.000000  0.713607  0.534054  0.664746\n",
       "GS      0.713607  1.000000  0.381716  0.590600\n",
       "PGR     0.534054  0.381716  1.000000  0.424647\n",
       "V       0.664746  0.590600  0.424647  1.000000"
      ]
     },
     "execution_count": 654,
     "metadata": {},
     "output_type": "execute_result"
    }
   ],
   "source": [
    "ret.corr()"
   ]
  },
  {
   "cell_type": "code",
   "execution_count": 655,
   "id": "9a3b6626",
   "metadata": {},
   "outputs": [
    {
     "data": {
      "text/plain": [
       "3.3093700000000004"
      ]
     },
     "execution_count": 655,
     "metadata": {},
     "output_type": "execute_result"
    }
   ],
   "source": [
    "corr = 0.713607+0.534054+0.664746+0.381716+0.590600+0.424647\n",
    "corr"
   ]
  },
  {
   "cell_type": "markdown",
   "id": "5263cb31",
   "metadata": {},
   "source": [
    "No se puede concluir que es un portafolio con una gran diversificación , ya que se necesitan tener muchos más activos que los que se tienen en este momento. Lo que si tiene es una correlación muy grande, ya que todos pertenecen al mismo sector economico , como lo es el sector financiero, por lo que van a estar muy correlacionadas y a su vez muy alejadas del 0."
   ]
  },
  {
   "cell_type": "markdown",
   "id": "448d13e5",
   "metadata": {},
   "source": [
    "---"
   ]
  },
  {
   "cell_type": "markdown",
   "id": "1db577e6",
   "metadata": {},
   "source": [
    "## 2. Comparación de una estrategia de Inversión activa contra una pasiva"
   ]
  },
  {
   "cell_type": "markdown",
   "id": "8a80dc3f",
   "metadata": {},
   "source": [
    "### Investigación sobre el Indice del sector económico financiero"
   ]
  },
  {
   "cell_type": "markdown",
   "id": "6f05a3cf",
   "metadata": {},
   "source": [
    "- Este ess un subíndice del S&P 500 que agrupa a las empresas clasificadas dentro del sector financiero según el sistema GICS (Global Industry Classification Standard). Este índice incluye compañías que operan en áreas como banca, seguros, gestión de activos, servicios financieros diversificados y bienes raíces financieros. Este pertenece al sector economico financiero, las cuales , los 4 activos que escogimos en el punto uno , pertenecen al mismo sector que este . En este problema se asume que tiene una tasa libre de riesgo de 3% anual, por lo que se harán todos los caluclos con eso."
   ]
  },
  {
   "cell_type": "markdown",
   "id": "3d4f0675",
   "metadata": {},
   "source": [
    "---"
   ]
  },
  {
   "cell_type": "markdown",
   "id": "978e4028",
   "metadata": {},
   "source": [
    "### Tasa libre de Riesgo"
   ]
  },
  {
   "cell_type": "code",
   "execution_count": 656,
   "id": "62dda469",
   "metadata": {},
   "outputs": [],
   "source": [
    "rf= 0.03"
   ]
  },
  {
   "cell_type": "markdown",
   "id": "915bfb9c",
   "metadata": {},
   "source": [
    "### Importación de los datos"
   ]
  },
  {
   "cell_type": "code",
   "execution_count": 657,
   "id": "2ee8bda0",
   "metadata": {},
   "outputs": [
    {
     "name": "stderr",
     "output_type": "stream",
     "text": [
      "[*********************100%***********************]  1 of 1 completed\n"
     ]
    },
    {
     "data": {
      "text/html": [
       "<div>\n",
       "<style scoped>\n",
       "    .dataframe tbody tr th:only-of-type {\n",
       "        vertical-align: middle;\n",
       "    }\n",
       "\n",
       "    .dataframe tbody tr th {\n",
       "        vertical-align: top;\n",
       "    }\n",
       "\n",
       "    .dataframe thead th {\n",
       "        text-align: right;\n",
       "    }\n",
       "</style>\n",
       "<table border=\"1\" class=\"dataframe\">\n",
       "  <thead>\n",
       "    <tr style=\"text-align: right;\">\n",
       "      <th>Ticker</th>\n",
       "      <th>^SP500-40</th>\n",
       "    </tr>\n",
       "    <tr>\n",
       "      <th>Date</th>\n",
       "      <th></th>\n",
       "    </tr>\n",
       "  </thead>\n",
       "  <tbody>\n",
       "    <tr>\n",
       "      <th>2018-01-02</th>\n",
       "      <td>463.660004</td>\n",
       "    </tr>\n",
       "    <tr>\n",
       "      <th>2018-01-03</th>\n",
       "      <td>466.140015</td>\n",
       "    </tr>\n",
       "    <tr>\n",
       "      <th>2018-01-04</th>\n",
       "      <td>470.510010</td>\n",
       "    </tr>\n",
       "    <tr>\n",
       "      <th>2018-01-05</th>\n",
       "      <td>471.920013</td>\n",
       "    </tr>\n",
       "    <tr>\n",
       "      <th>2018-01-08</th>\n",
       "      <td>471.329987</td>\n",
       "    </tr>\n",
       "  </tbody>\n",
       "</table>\n",
       "</div>"
      ],
      "text/plain": [
       "Ticker       ^SP500-40\n",
       "Date                  \n",
       "2018-01-02  463.660004\n",
       "2018-01-03  466.140015\n",
       "2018-01-04  470.510010\n",
       "2018-01-05  471.920013\n",
       "2018-01-08  471.329987"
      ]
     },
     "execution_count": 657,
     "metadata": {},
     "output_type": "execute_result"
    }
   ],
   "source": [
    "prices2 = yf.download('^SP500-40',start='2018-01-01', end= '2025-06-03')['Close'] \n",
    "prices2.head(5)"
   ]
  },
  {
   "cell_type": "markdown",
   "id": "e8dea682",
   "metadata": {},
   "source": [
    "---"
   ]
  },
  {
   "cell_type": "markdown",
   "id": "b33b4dda",
   "metadata": {},
   "source": [
    "### Ret"
   ]
  },
  {
   "cell_type": "code",
   "execution_count": 658,
   "id": "e2fdefc9",
   "metadata": {},
   "outputs": [
    {
     "data": {
      "text/html": [
       "<div>\n",
       "<style scoped>\n",
       "    .dataframe tbody tr th:only-of-type {\n",
       "        vertical-align: middle;\n",
       "    }\n",
       "\n",
       "    .dataframe tbody tr th {\n",
       "        vertical-align: top;\n",
       "    }\n",
       "\n",
       "    .dataframe thead th {\n",
       "        text-align: right;\n",
       "    }\n",
       "</style>\n",
       "<table border=\"1\" class=\"dataframe\">\n",
       "  <thead>\n",
       "    <tr style=\"text-align: right;\">\n",
       "      <th>Ticker</th>\n",
       "      <th>^SP500-40</th>\n",
       "    </tr>\n",
       "    <tr>\n",
       "      <th>Date</th>\n",
       "      <th></th>\n",
       "    </tr>\n",
       "  </thead>\n",
       "  <tbody>\n",
       "    <tr>\n",
       "      <th>2018-01-03</th>\n",
       "      <td>0.005349</td>\n",
       "    </tr>\n",
       "    <tr>\n",
       "      <th>2018-01-04</th>\n",
       "      <td>0.009375</td>\n",
       "    </tr>\n",
       "    <tr>\n",
       "      <th>2018-01-05</th>\n",
       "      <td>0.002997</td>\n",
       "    </tr>\n",
       "    <tr>\n",
       "      <th>2018-01-08</th>\n",
       "      <td>-0.001250</td>\n",
       "    </tr>\n",
       "    <tr>\n",
       "      <th>2018-01-09</th>\n",
       "      <td>0.007129</td>\n",
       "    </tr>\n",
       "  </tbody>\n",
       "</table>\n",
       "</div>"
      ],
      "text/plain": [
       "Ticker      ^SP500-40\n",
       "Date                 \n",
       "2018-01-03   0.005349\n",
       "2018-01-04   0.009375\n",
       "2018-01-05   0.002997\n",
       "2018-01-08  -0.001250\n",
       "2018-01-09   0.007129"
      ]
     },
     "execution_count": 658,
     "metadata": {},
     "output_type": "execute_result"
    }
   ],
   "source": [
    "ret2 = prices2.pct_change().dropna()\n",
    "ret2.head(5)"
   ]
  },
  {
   "cell_type": "markdown",
   "id": "aeecbbb0",
   "metadata": {},
   "source": [
    "### Rendimiento Anuales"
   ]
  },
  {
   "cell_type": "code",
   "execution_count": 659,
   "id": "ea48d7d9",
   "metadata": {},
   "outputs": [],
   "source": [
    "w = 1"
   ]
  },
  {
   "cell_type": "code",
   "execution_count": 660,
   "id": "1e77ca1b",
   "metadata": {},
   "outputs": [
    {
     "name": "stdout",
     "output_type": "stream",
     "text": [
      "rendimiento anual 11.153920209000256 %\n"
     ]
    }
   ],
   "source": [
    "mean= ret2.mean()\n",
    "ret_diario= (mean* w).sum()\n",
    "print('rendimiento anual', ret_diario*252*100,'%')"
   ]
  },
  {
   "cell_type": "markdown",
   "id": "81072f2d",
   "metadata": {},
   "source": [
    "### Varianza"
   ]
  },
  {
   "cell_type": "code",
   "execution_count": 661,
   "id": "17bb1853",
   "metadata": {},
   "outputs": [
    {
     "name": "stdout",
     "output_type": "stream",
     "text": [
      "varianza diaria del portafolio Ticker\n",
      "^SP500-40    0.023697\n",
      "dtype: float64 %\n"
     ]
    }
   ],
   "source": [
    "var_port_diario = ret2.var()\n",
    "print('varianza diaria del portafolio', var_port_diario*100, '%')"
   ]
  },
  {
   "cell_type": "code",
   "execution_count": 662,
   "id": "0d2c6f5a",
   "metadata": {},
   "outputs": [
    {
     "name": "stdout",
     "output_type": "stream",
     "text": [
      "varianza anual del portafolio  Ticker\n",
      "^SP500-40    5.971644\n",
      "dtype: float64 %\n"
     ]
    }
   ],
   "source": [
    "var_port_anual= var_port_diario*252*100\n",
    "print('varianza anual del portafolio ', var_port_anual, '%')"
   ]
  },
  {
   "cell_type": "markdown",
   "id": "85793f91",
   "metadata": {},
   "source": [
    "### Riesgo / Volatilidad "
   ]
  },
  {
   "cell_type": "code",
   "execution_count": 663,
   "id": "9a8f963a",
   "metadata": {},
   "outputs": [
    {
     "name": "stdout",
     "output_type": "stream",
     "text": [
      "Volatilidad del portafolio diaria es de: Ticker\n",
      "^SP500-40    1.539383\n",
      "dtype: float64 %\n"
     ]
    }
   ],
   "source": [
    "vol_port_diario = np.sqrt(var_port_diario)\n",
    "print('Volatilidad del portafolio diaria es de:', vol_port_diario*100, '%')"
   ]
  },
  {
   "cell_type": "code",
   "execution_count": 664,
   "id": "01e97389",
   "metadata": {},
   "outputs": [
    {
     "name": "stdout",
     "output_type": "stream",
     "text": [
      "Volatilidad del portafolio anual es de: Ticker\n",
      "^SP500-40    24.436948\n",
      "dtype: float64 %\n"
     ]
    }
   ],
   "source": [
    "vol_port_anual= vol_port_diario * np.sqrt(252)\n",
    "print('Volatilidad del portafolio anual es de:', vol_port_anual*100, '%')"
   ]
  },
  {
   "cell_type": "markdown",
   "id": "022a4565",
   "metadata": {},
   "source": [
    "### Coeficiente de Variación"
   ]
  },
  {
   "cell_type": "code",
   "execution_count": 665,
   "id": "67202d63",
   "metadata": {},
   "outputs": [
    {
     "data": {
      "text/plain": [
       "Ticker\n",
       "^SP500-40    552.102828\n",
       "dtype: float64"
      ]
     },
     "execution_count": 665,
     "metadata": {},
     "output_type": "execute_result"
    }
   ],
   "source": [
    "CV = vol_port_anual / ret_diario\n",
    "CV"
   ]
  },
  {
   "cell_type": "markdown",
   "id": "e6ee416a",
   "metadata": {},
   "source": [
    "### Ratio Sharpe"
   ]
  },
  {
   "cell_type": "code",
   "execution_count": 666,
   "id": "74052d89",
   "metadata": {},
   "outputs": [
    {
     "name": "stdout",
     "output_type": "stream",
     "text": [
      "Sharpe Ratio de :  Ticker\n",
      "^SP500-40    0.333672\n",
      "dtype: float64\n"
     ]
    }
   ],
   "source": [
    "Sharpe_ratio = (ret_diario*252 - rf) / vol_port_anual\n",
    "\n",
    "print ('Sharpe Ratio de : ',Sharpe_ratio )\n"
   ]
  },
  {
   "cell_type": "markdown",
   "id": "519a3473",
   "metadata": {},
   "source": [
    "### Conclusión "
   ]
  },
  {
   "cell_type": "markdown",
   "id": "d1c087be",
   "metadata": {},
   "source": [
    "En conclusión ,en esta estrategia se tiene que la primera estrategia tiene mayor rendimiento y a su vez mejor sharp que en el segundo portafolio. Po rlo que el primero es mejor si lo que queremos es tener mejores rendimientos, los dos tienen un riesgo bastante alto , por lo que quiero pensar que el primero es mejor porque ofrece mejor rendimiento , además de que tiene un ecoeficiente de variación mucho más bajo que el segundo portafolio. yo invirtiría en la primera estrategia , porque me gusta un poco más el riesgo y a su vez ."
   ]
  },
  {
   "cell_type": "markdown",
   "id": "b6a12a2e",
   "metadata": {},
   "source": []
  }
 ],
 "metadata": {
  "kernelspec": {
   "display_name": "Python 3",
   "language": "python",
   "name": "python3"
  },
  "language_info": {
   "codemirror_mode": {
    "name": "ipython",
    "version": 3
   },
   "file_extension": ".py",
   "mimetype": "text/x-python",
   "name": "python",
   "nbconvert_exporter": "python",
   "pygments_lexer": "ipython3",
   "version": "3.12.8"
  }
 },
 "nbformat": 4,
 "nbformat_minor": 5
}
