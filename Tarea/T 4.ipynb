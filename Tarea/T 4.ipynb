{
 "cells": [
  {
   "cell_type": "markdown",
   "id": "b43c023c",
   "metadata": {},
   "source": [
    "# Portafolios de Inversión\n",
    "## Tarea 4\n",
    "José Armando Melchor Soto"
   ]
  },
  {
   "cell_type": "markdown",
   "id": "8d2cd29c",
   "metadata": {},
   "source": [
    "---\n",
    "### Librerías \n",
    "\n"
   ]
  },
  {
   "cell_type": "code",
   "execution_count": 130,
   "id": "ba268f3e",
   "metadata": {},
   "outputs": [],
   "source": [
    "import pandas as pd \n",
    "import numpy as np\n",
    "import yfinance as yf\n",
    "import matplotlib.pyplot as plt\n",
    "from scipy.optimize import minimize "
   ]
  },
  {
   "cell_type": "markdown",
   "id": "9ff042be",
   "metadata": {},
   "source": [
    "---"
   ]
  },
  {
   "cell_type": "markdown",
   "id": "98ffcc3a",
   "metadata": {},
   "source": [
    "### Activos\n",
    "\n",
    "- **LLY (Eli Lilly)**\n",
    "- **NVDA (NVIDIA)**\n",
    "- **MSFT (Microsoft)** \n",
    "- **KXI (iShares Global Consumer Staples ETF)**\n"
   ]
  },
  {
   "cell_type": "markdown",
   "id": "29b20f4f",
   "metadata": {},
   "source": [
    "---"
   ]
  },
  {
   "cell_type": "markdown",
   "id": "a48bf28a",
   "metadata": {},
   "source": [
    "### Investigación de las Emisoras"
   ]
  },
  {
   "cell_type": "markdown",
   "id": "bf6ab0d1",
   "metadata": {},
   "source": [
    "Realiza un breve resumen de los activos, describiendo su giro de negocio, sector y productos o servicios.\n"
   ]
  },
  {
   "cell_type": "markdown",
   "id": "0becbc51",
   "metadata": {},
   "source": [
    "- **LLY (Eli Lilly)**:\n",
    "    - Esta es una empresa con sede en Indianapolis, la cual fabrica, desarrolla y comercializa medicamentos para tratar enfermedades como lo pudieran ser la diabetes o el cancer. Esta ofrece productos como lo son Mounjaro, Trulicity y Zyprexa. El sector económico a la cual se decia esta empresa es a la salud y su giro es la farmaceútica.\n",
    "- **NVDA (NVIDIA)**:\n",
    "    - Esta es una empresa  con sede en Santa Clara (California),la cual fabrica unidades de procesamiento gráfico (GPU) , principalmente para videojuesgos , AI , automatización , etc. Esta es la que ofrece productos como lo son las tarjetas gráficas de GeForce, RTX y NVIDIA. El sector económico a la cual se dedica esta empresa es a la de la tecnología de la información y su giro es la tecnología y semiconductores.\n",
    "- **MSFT (Microsoft)**: \n",
    "    - Esta es una empresa con sede en Redmond (Washington), la cual desarrolla sistemas operativos como Windows , las aplicaciones como Word de Microsoft 365 , etc. Una de sus innovaciones más recientes , es la de la AI con Copilot y su inversión en OpenAI . El sector económico a la cual se dedica esta empresa es a la de la tecnología de la información y su giro es el software y servicios tecnologícos. \n",
    "- **KXI (iShares Global Consumer Staples ETF)**:\n",
    "    - Esta es una empresa  la cual invierte en otras compañías que producen productos escenciales como alimento s, bebidas , productos de limpieza y aseo personal. Esta incluye empresas como Nestlé , Coca-Cola y PepsiCo. El sector económico a la cual se dedica esta empresa es a la de bienes de consumo básico y su giro es un ETF , que lo que hace es agrupar a la empresas del sector de bienes de consumo básico.\n"
   ]
  },
  {
   "cell_type": "markdown",
   "id": "ca80fe62",
   "metadata": {},
   "source": [
    "#### Bibliografía\n",
    "\n",
    "- **LLY (Eli Lilly)**:\n",
    "    - Eli Lilly and Company (LLY) Company Profile & Facts - Yahoo Finance. (n.d.). Yahoo Finance. https://finance.yahoo.com/quote/LLY/profile/\n",
    "- **NVDA (NVIDIA)**:\n",
    "    - NVIDIA Corporation (NVDA) company Profile & Facts - Yahoo Finance. (n.d.). Yahoo Finance. https://finance.yahoo.com/quote/NVDA/profile/\n",
    "- **MSFT (Microsoft)**: \n",
    "    - Microsoft Corporation (MSFT) Company Profile & Facts - Yahoo Finance. (n.d.). Yahoo Finance. https://finance.yahoo.com/quote/MSFT/profile/\n",
    "- **KXI (iShares Global Consumer Staples ETF)**:\n",
    "    - KXI | iShares Global Consumer Staples ETF | ETF Channel. (n.d.). https://www.etfchannel.com/symbol/kxi/\n",
    "    - IShares Global Consumer Staples ETF (KXI) Company Profile & Facts - Yahoo Finance. (n.d.). Yahoo Finance. https://finance.yahoo.com/quote/KXI/profile/"
   ]
  },
  {
   "cell_type": "markdown",
   "id": "3c7a778d",
   "metadata": {},
   "source": [
    "---"
   ]
  },
  {
   "cell_type": "markdown",
   "id": "148813c3",
   "metadata": {},
   "source": [
    "### Importación de Datos"
   ]
  },
  {
   "cell_type": "code",
   "execution_count": 131,
   "id": "f9fcc1ec",
   "metadata": {},
   "outputs": [
    {
     "name": "stderr",
     "output_type": "stream",
     "text": [
      "[*********************100%***********************]  4 of 4 completed\n"
     ]
    },
    {
     "data": {
      "text/html": [
       "<div>\n",
       "<style scoped>\n",
       "    .dataframe tbody tr th:only-of-type {\n",
       "        vertical-align: middle;\n",
       "    }\n",
       "\n",
       "    .dataframe tbody tr th {\n",
       "        vertical-align: top;\n",
       "    }\n",
       "\n",
       "    .dataframe thead th {\n",
       "        text-align: right;\n",
       "    }\n",
       "</style>\n",
       "<table border=\"1\" class=\"dataframe\">\n",
       "  <thead>\n",
       "    <tr style=\"text-align: right;\">\n",
       "      <th>Ticker</th>\n",
       "      <th>KXI</th>\n",
       "      <th>LLY</th>\n",
       "      <th>MSFT</th>\n",
       "      <th>NVDA</th>\n",
       "    </tr>\n",
       "    <tr>\n",
       "      <th>Date</th>\n",
       "      <th></th>\n",
       "      <th></th>\n",
       "      <th></th>\n",
       "      <th></th>\n",
       "    </tr>\n",
       "  </thead>\n",
       "  <tbody>\n",
       "    <tr>\n",
       "      <th>2018-01-02</th>\n",
       "      <td>44.372314</td>\n",
       "      <td>75.427597</td>\n",
       "      <td>79.328529</td>\n",
       "      <td>4.929085</td>\n",
       "    </tr>\n",
       "    <tr>\n",
       "      <th>2018-01-03</th>\n",
       "      <td>44.376518</td>\n",
       "      <td>75.837357</td>\n",
       "      <td>79.697701</td>\n",
       "      <td>5.253488</td>\n",
       "    </tr>\n",
       "    <tr>\n",
       "      <th>2018-01-04</th>\n",
       "      <td>44.473259</td>\n",
       "      <td>76.175835</td>\n",
       "      <td>80.399170</td>\n",
       "      <td>5.281181</td>\n",
       "    </tr>\n",
       "    <tr>\n",
       "      <th>2018-01-05</th>\n",
       "      <td>44.759254</td>\n",
       "      <td>77.111099</td>\n",
       "      <td>81.395958</td>\n",
       "      <td>5.325935</td>\n",
       "    </tr>\n",
       "    <tr>\n",
       "      <th>2018-01-08</th>\n",
       "      <td>44.742428</td>\n",
       "      <td>76.719193</td>\n",
       "      <td>81.479019</td>\n",
       "      <td>5.489125</td>\n",
       "    </tr>\n",
       "  </tbody>\n",
       "</table>\n",
       "</div>"
      ],
      "text/plain": [
       "Ticker            KXI        LLY       MSFT      NVDA\n",
       "Date                                                 \n",
       "2018-01-02  44.372314  75.427597  79.328529  4.929085\n",
       "2018-01-03  44.376518  75.837357  79.697701  5.253488\n",
       "2018-01-04  44.473259  76.175835  80.399170  5.281181\n",
       "2018-01-05  44.759254  77.111099  81.395958  5.325935\n",
       "2018-01-08  44.742428  76.719193  81.479019  5.489125"
      ]
     },
     "execution_count": 131,
     "metadata": {},
     "output_type": "execute_result"
    }
   ],
   "source": [
    "prices = yf.download(['LLY','NVDA','MSFT','KXI'],start= '2018-01-01' , end = '2024-09-25')['Close']\n",
    "prices.head()"
   ]
  },
  {
   "cell_type": "code",
   "execution_count": 132,
   "id": "1686357a",
   "metadata": {},
   "outputs": [
    {
     "data": {
      "text/plain": [
       "<matplotlib.legend.Legend at 0x1ba5c289d00>"
      ]
     },
     "execution_count": 132,
     "metadata": {},
     "output_type": "execute_result"
    },
    {
     "data": {
      "image/png": "[encoded data removed]",
      "text/plain": [
       "<Figure size 1200x600 with 1 Axes>"
      ]
     },
     "metadata": {},
     "output_type": "display_data"
    }
   ],
   "source": [
    "plt.figure(figsize=(12, 6))\n",
    "plt.hist(prices, label=prices.keys(),density=True, bins=50)\n",
    "plt.title('Stock Prices of LLY, NVDA, MSFT, and KXI')\n",
    "plt.xlabel('Price')\n",
    "plt.ylabel('Density')\n",
    "plt.legend()"
   ]
  },
  {
   "cell_type": "markdown",
   "id": "21897352",
   "metadata": {},
   "source": [
    "---"
   ]
  },
  {
   "cell_type": "markdown",
   "id": "1a1a4388",
   "metadata": {},
   "source": [
    "### Rendimientos Diarios"
   ]
  },
  {
   "cell_type": "code",
   "execution_count": 133,
   "id": "560730a3",
   "metadata": {},
   "outputs": [
    {
     "data": {
      "text/html": [
       "<div>\n",
       "<style scoped>\n",
       "    .dataframe tbody tr th:only-of-type {\n",
       "        vertical-align: middle;\n",
       "    }\n",
       "\n",
       "    .dataframe tbody tr th {\n",
       "        vertical-align: top;\n",
       "    }\n",
       "\n",
       "    .dataframe thead th {\n",
       "        text-align: right;\n",
       "    }\n",
       "</style>\n",
       "<table border=\"1\" class=\"dataframe\">\n",
       "  <thead>\n",
       "    <tr style=\"text-align: right;\">\n",
       "      <th>Ticker</th>\n",
       "      <th>KXI</th>\n",
       "      <th>LLY</th>\n",
       "      <th>MSFT</th>\n",
       "      <th>NVDA</th>\n",
       "    </tr>\n",
       "    <tr>\n",
       "      <th>Date</th>\n",
       "      <th></th>\n",
       "      <th></th>\n",
       "      <th></th>\n",
       "      <th></th>\n",
       "    </tr>\n",
       "  </thead>\n",
       "  <tbody>\n",
       "    <tr>\n",
       "      <th>2018-01-03</th>\n",
       "      <td>0.000095</td>\n",
       "      <td>0.005432</td>\n",
       "      <td>0.004654</td>\n",
       "      <td>0.065814</td>\n",
       "    </tr>\n",
       "    <tr>\n",
       "      <th>2018-01-04</th>\n",
       "      <td>0.002180</td>\n",
       "      <td>0.004463</td>\n",
       "      <td>0.008802</td>\n",
       "      <td>0.005271</td>\n",
       "    </tr>\n",
       "    <tr>\n",
       "      <th>2018-01-05</th>\n",
       "      <td>0.006431</td>\n",
       "      <td>0.012278</td>\n",
       "      <td>0.012398</td>\n",
       "      <td>0.008474</td>\n",
       "    </tr>\n",
       "    <tr>\n",
       "      <th>2018-01-08</th>\n",
       "      <td>-0.000376</td>\n",
       "      <td>-0.005082</td>\n",
       "      <td>0.001020</td>\n",
       "      <td>0.030641</td>\n",
       "    </tr>\n",
       "    <tr>\n",
       "      <th>2018-01-09</th>\n",
       "      <td>-0.002068</td>\n",
       "      <td>-0.000813</td>\n",
       "      <td>-0.000680</td>\n",
       "      <td>-0.000270</td>\n",
       "    </tr>\n",
       "  </tbody>\n",
       "</table>\n",
       "</div>"
      ],
      "text/plain": [
       "Ticker           KXI       LLY      MSFT      NVDA\n",
       "Date                                              \n",
       "2018-01-03  0.000095  0.005432  0.004654  0.065814\n",
       "2018-01-04  0.002180  0.004463  0.008802  0.005271\n",
       "2018-01-05  0.006431  0.012278  0.012398  0.008474\n",
       "2018-01-08 -0.000376 -0.005082  0.001020  0.030641\n",
       "2018-01-09 -0.002068 -0.000813 -0.000680 -0.000270"
      ]
     },
     "execution_count": 133,
     "metadata": {},
     "output_type": "execute_result"
    }
   ],
   "source": [
    "ret = prices.pct_change().dropna()\n",
    "ret.head()"
   ]
  },
  {
   "cell_type": "markdown",
   "id": "b7fbf404",
   "metadata": {},
   "source": [
    "### Rendimiento Promedio "
   ]
  },
  {
   "cell_type": "code",
   "execution_count": 134,
   "id": "13ba0da9",
   "metadata": {},
   "outputs": [
    {
     "data": {
      "text/plain": [
       "Ticker\n",
       "KXI     0.026537\n",
       "LLY     0.165253\n",
       "MSFT    0.116359\n",
       "NVDA    0.242879\n",
       "dtype: float64"
      ]
     },
     "execution_count": 134,
     "metadata": {},
     "output_type": "execute_result"
    }
   ],
   "source": [
    "ret_mean = ret.mean()\n",
    "ret_mean*100"
   ]
  },
  {
   "cell_type": "markdown",
   "id": "ceba3c85",
   "metadata": {},
   "source": [
    "### Volatilidad "
   ]
  },
  {
   "cell_type": "code",
   "execution_count": 135,
   "id": "fef4e501",
   "metadata": {},
   "outputs": [
    {
     "data": {
      "text/plain": [
       "Ticker\n",
       "KXI     0.936493\n",
       "LLY     1.877982\n",
       "MSFT    1.837325\n",
       "NVDA    3.279348\n",
       "dtype: float64"
      ]
     },
     "execution_count": 135,
     "metadata": {},
     "output_type": "execute_result"
    }
   ],
   "source": [
    "vol = ret.std()\n",
    "vol*100"
   ]
  },
  {
   "cell_type": "markdown",
   "id": "35085929",
   "metadata": {},
   "source": [
    "### Matriz de Covarianza "
   ]
  },
  {
   "cell_type": "code",
   "execution_count": 136,
   "id": "587fb78e",
   "metadata": {},
   "outputs": [
    {
     "data": {
      "text/html": [
       "<div>\n",
       "<style scoped>\n",
       "    .dataframe tbody tr th:only-of-type {\n",
       "        vertical-align: middle;\n",
       "    }\n",
       "\n",
       "    .dataframe tbody tr th {\n",
       "        vertical-align: top;\n",
       "    }\n",
       "\n",
       "    .dataframe thead th {\n",
       "        text-align: right;\n",
       "    }\n",
       "</style>\n",
       "<table border=\"1\" class=\"dataframe\">\n",
       "  <thead>\n",
       "    <tr style=\"text-align: right;\">\n",
       "      <th>Ticker</th>\n",
       "      <th>KXI</th>\n",
       "      <th>LLY</th>\n",
       "      <th>MSFT</th>\n",
       "      <th>NVDA</th>\n",
       "    </tr>\n",
       "    <tr>\n",
       "      <th>Ticker</th>\n",
       "      <th></th>\n",
       "      <th></th>\n",
       "      <th></th>\n",
       "      <th></th>\n",
       "    </tr>\n",
       "  </thead>\n",
       "  <tbody>\n",
       "    <tr>\n",
       "      <th>KXI</th>\n",
       "      <td>0.000088</td>\n",
       "      <td>0.000074</td>\n",
       "      <td>0.000104</td>\n",
       "      <td>0.000123</td>\n",
       "    </tr>\n",
       "    <tr>\n",
       "      <th>LLY</th>\n",
       "      <td>0.000074</td>\n",
       "      <td>0.000353</td>\n",
       "      <td>0.000130</td>\n",
       "      <td>0.000158</td>\n",
       "    </tr>\n",
       "    <tr>\n",
       "      <th>MSFT</th>\n",
       "      <td>0.000104</td>\n",
       "      <td>0.000130</td>\n",
       "      <td>0.000338</td>\n",
       "      <td>0.000403</td>\n",
       "    </tr>\n",
       "    <tr>\n",
       "      <th>NVDA</th>\n",
       "      <td>0.000123</td>\n",
       "      <td>0.000158</td>\n",
       "      <td>0.000403</td>\n",
       "      <td>0.001075</td>\n",
       "    </tr>\n",
       "  </tbody>\n",
       "</table>\n",
       "</div>"
      ],
      "text/plain": [
       "Ticker       KXI       LLY      MSFT      NVDA\n",
       "Ticker                                        \n",
       "KXI     0.000088  0.000074  0.000104  0.000123\n",
       "LLY     0.000074  0.000353  0.000130  0.000158\n",
       "MSFT    0.000104  0.000130  0.000338  0.000403\n",
       "NVDA    0.000123  0.000158  0.000403  0.001075"
      ]
     },
     "execution_count": 136,
     "metadata": {},
     "output_type": "execute_result"
    }
   ],
   "source": [
    "cov = ret.cov()\n",
    "cov"
   ]
  },
  {
   "cell_type": "markdown",
   "id": "25a457ed",
   "metadata": {},
   "source": [
    "---"
   ]
  },
  {
   "cell_type": "markdown",
   "id": "9867748c",
   "metadata": {},
   "source": [
    "### Portafolio de Mínima Varianza "
   ]
  },
  {
   "cell_type": "code",
   "execution_count": 137,
   "id": "161e7b88",
   "metadata": {},
   "outputs": [],
   "source": [
    "def opt_min_var(ret: pd.DataFrame) -> np.ndarray:\n",
    "    # Obtener matriz de covariânza varianza\n",
    "    cov = ret.cov()\n",
    "    # Definir funcion objetivo\n",
    "    varianza = lambda w: w.T @ cov @ w\n",
    "    # Definir valores iniciales\n",
    "    n = len(ret.keys())\n",
    "    w_inicial = np.ones(n) / n\n",
    "    # Definir las cotas\n",
    "    bounds = [(0, 1)] * n\n",
    "    # Definir las restricciones\n",
    "    restr = lambda w: sum(w)-1\n",
    "    # Definir tolerancia\n",
    "    tol = 1e-100\n",
    "    # Aplicar función de scipy.optimize\n",
    "    min_var = minimize(\n",
    "        fun=varianza,\n",
    "        x0=w_inicial,\n",
    "        bounds=bounds,\n",
    "        constraints={'fun': restr, 'type': 'eq'},\n",
    "        tol=tol\n",
    "    )\n",
    "    # Encontrar pesos eficientes \n",
    "    w_minvar = min_var.x\n",
    "    \n",
    "    return w_minvar"
   ]
  },
  {
   "cell_type": "code",
   "execution_count": 138,
   "id": "bc02c211",
   "metadata": {},
   "outputs": [
    {
     "data": {
      "text/plain": [
       "array([0.9536, 0.0464, 0.    , 0.    ])"
      ]
     },
     "execution_count": 138,
     "metadata": {},
     "output_type": "execute_result"
    }
   ],
   "source": [
    "w_minvar_func = opt_min_var(ret)\n",
    "\n",
    "w_minvar_func.round(4)"
   ]
  },
  {
   "cell_type": "markdown",
   "id": "e674d201",
   "metadata": {},
   "source": [
    "#### Rendimiento Portafolio de Mínima Varianza "
   ]
  },
  {
   "cell_type": "code",
   "execution_count": 139,
   "id": "9e37720c",
   "metadata": {},
   "outputs": [
    {
     "data": {
      "text/plain": [
       "0.032978259979033454"
      ]
     },
     "execution_count": 139,
     "metadata": {},
     "output_type": "execute_result"
    }
   ],
   "source": [
    "red_minvar = sum(w_minvar_func * ret_mean)\n",
    "red_minvar*100"
   ]
  },
  {
   "cell_type": "markdown",
   "id": "0926dc9f",
   "metadata": {},
   "source": [
    "#### Volatilidad Portafolio de Mínima Varianza"
   ]
  },
  {
   "cell_type": "code",
   "execution_count": 140,
   "id": "d02a7cb7",
   "metadata": {},
   "outputs": [
    {
     "data": {
      "text/plain": [
       "0.9331239916578575"
      ]
     },
     "execution_count": 140,
     "metadata": {},
     "output_type": "execute_result"
    }
   ],
   "source": [
    "vol_minvar = np.sqrt(w_minvar_func.T @ cov @ w_minvar_func)\n",
    "vol_minvar*100"
   ]
  },
  {
   "cell_type": "markdown",
   "id": "951239c7",
   "metadata": {},
   "source": [
    "---"
   ]
  },
  {
   "cell_type": "markdown",
   "id": "bcc15dd8",
   "metadata": {},
   "source": [
    "### Portafolio de Máximo Sharpe"
   ]
  },
  {
   "cell_type": "markdown",
   "id": "89ac94fa",
   "metadata": {},
   "source": [
    "#### tasa libre de riesgo"
   ]
  },
  {
   "cell_type": "code",
   "execution_count": 141,
   "id": "49dd3e8f",
   "metadata": {},
   "outputs": [],
   "source": [
    "rf = 0.03"
   ]
  },
  {
   "cell_type": "markdown",
   "id": "321e3e1d",
   "metadata": {},
   "source": [
    "#### Optimización Máximo Sharpe"
   ]
  },
  {
   "cell_type": "code",
   "execution_count": 142,
   "id": "3f7daf25",
   "metadata": {},
   "outputs": [],
   "source": [
    "def max__sharpe(ret:pd.DataFrame,rf:float)-> np.array:\n",
    "\n",
    "    # Input \n",
    "    E= ret.mean()\n",
    "    cov = ret.cov()\n",
    "    rf = rf/252\n",
    "\n",
    "    # Función objetivo para maximizar la ratio de Sharpe\n",
    "    sharpe = lambda w: -((w.T @ (E - rf)) / np.sqrt(w.T @ cov @ w))\n",
    "    \n",
    "    # Valores iniciales\n",
    "    n = len(ret.keys())\n",
    "    w_inicial = np.ones(n)/n\n",
    "    # Cotas\n",
    "    bounds = [(0,1)]*n\n",
    "    # Restricciones\n",
    "    rest = lambda w: sum(w)-1\n",
    "    # Tolerancia\n",
    "    tol = 1e-100\n",
    "\n",
    "    # Optimización\n",
    "    max_sharpe = minimize(\n",
    "        fun=sharpe,\n",
    "        x0=w_inicial,\n",
    "        bounds=bounds,\n",
    "        constraints={'fun': rest, 'type': 'eq'},\n",
    "        tol=tol)\n",
    "    \n",
    "    w_max = max_sharpe.x\n",
    "\n",
    "    return w_max"
   ]
  },
  {
   "cell_type": "code",
   "execution_count": 143,
   "id": "5bde2ea9",
   "metadata": {},
   "outputs": [
    {
     "data": {
      "text/plain": [
       "array([0.    , 0.6917, 0.    , 0.3083])"
      ]
     },
     "execution_count": 143,
     "metadata": {},
     "output_type": "execute_result"
    }
   ],
   "source": [
    "# Obtener los pesos\n",
    "w_max_= max__sharpe(ret,rf).round(4)\n",
    "w_max_"
   ]
  },
  {
   "cell_type": "markdown",
   "id": "34e22552",
   "metadata": {},
   "source": [
    "#### Rendimiento Portafolio de Máximo Sharpe "
   ]
  },
  {
   "cell_type": "code",
   "execution_count": 144,
   "id": "4e80b618",
   "metadata": {},
   "outputs": [
    {
     "data": {
      "text/plain": [
       "0.1891854717791764"
      ]
     },
     "execution_count": 144,
     "metadata": {},
     "output_type": "execute_result"
    }
   ],
   "source": [
    "rend_max_sharpe = w_max_.T @ (ret.mean())\n",
    "rend_max_sharpe*100"
   ]
  },
  {
   "cell_type": "markdown",
   "id": "4fa3aac1",
   "metadata": {},
   "source": [
    "#### Volatilidad Portafolio de Máximo Sharpe"
   ]
  },
  {
   "cell_type": "code",
   "execution_count": 145,
   "id": "af4f3009",
   "metadata": {},
   "outputs": [
    {
     "data": {
      "text/plain": [
       "1.839262291379158"
      ]
     },
     "execution_count": 145,
     "metadata": {},
     "output_type": "execute_result"
    }
   ],
   "source": [
    "vol = np.sqrt (w_max_.T @ ret.cov() @ w_max_)\n",
    "vol*100"
   ]
  },
  {
   "cell_type": "markdown",
   "id": "65e40a7d",
   "metadata": {},
   "source": [
    "---"
   ]
  },
  {
   "cell_type": "markdown",
   "id": "047853df",
   "metadata": {},
   "source": [
    "### Portafolio equitativamente ponderado"
   ]
  },
  {
   "cell_type": "markdown",
   "id": "10c5cec7",
   "metadata": {},
   "source": [
    "#### Ponderación"
   ]
  },
  {
   "cell_type": "code",
   "execution_count": 146,
   "id": "ac065a2d",
   "metadata": {},
   "outputs": [],
   "source": [
    "w= np.array([0.25, 0.25, 0.25, 0.25])"
   ]
  },
  {
   "cell_type": "markdown",
   "id": "a5bed737",
   "metadata": {},
   "source": [
    "#### Rendimiento Promedio Portafolio equitativamente ponderado"
   ]
  },
  {
   "cell_type": "code",
   "execution_count": 147,
   "id": "2b844a64",
   "metadata": {},
   "outputs": [
    {
     "data": {
      "text/plain": [
       "0.1377572913506275"
      ]
     },
     "execution_count": 147,
     "metadata": {},
     "output_type": "execute_result"
    }
   ],
   "source": [
    "rend_port = w.T @ ret.mean()\n",
    "rend_port*100"
   ]
  },
  {
   "cell_type": "markdown",
   "id": "36a0ba2e",
   "metadata": {},
   "source": [
    "#### Volatilidad Portafolio equitativamente ponderado"
   ]
  },
  {
   "cell_type": "code",
   "execution_count": 148,
   "id": "67419739",
   "metadata": {},
   "outputs": [
    {
     "data": {
      "text/plain": [
       "1.5485194444463146"
      ]
     },
     "execution_count": 148,
     "metadata": {},
     "output_type": "execute_result"
    }
   ],
   "source": [
    "vol_port = np.sqrt(w.T @ cov @ w)\n",
    "vol_port*100"
   ]
  },
  {
   "cell_type": "markdown",
   "id": "299c6f89",
   "metadata": {},
   "source": [
    "---"
   ]
  },
  {
   "cell_type": "markdown",
   "id": "a1b82a3e",
   "metadata": {},
   "source": [
    "### Gráfica Frontera Eficiente "
   ]
  },
  {
   "cell_type": "code",
   "execution_count": 149,
   "id": "1a9cbc3e",
   "metadata": {},
   "outputs": [],
   "source": [
    "# Generacion de portafolios aleatorios\n",
    "n = len(ret.keys())\n",
    "np_port = 100000\n",
    "random_w = np.random.dirichlet(np.ones(n), np_port)\n",
    "# Calcular rendimientos y volatilidades\n",
    "rend_aleatorios = [ret_mean.T @ random_w[w] for w in range(np_port)]\n",
    "vol_aleatorios = [np.sqrt(random_w[w].T @ cov @ random_w[w]) for w in range(np_port)]"
   ]
  },
  {
   "cell_type": "code",
   "execution_count": 152,
   "id": "f0a0a127",
   "metadata": {},
   "outputs": [
    {
     "name": "stdout",
     "output_type": "stream",
     "text": [
      "Rendimientos: Ticker\n",
      "KXI     0.026537\n",
      "LLY     0.165253\n",
      "MSFT    0.116359\n",
      "NVDA    0.242879\n",
      "dtype: float64\n",
      "Volatilidad: Ticker\n",
      "KXI     14.866358\n",
      "LLY     29.812043\n",
      "MSFT    29.166632\n",
      "NVDA    52.058043\n",
      "dtype: float64\n"
     ]
    },
    {
     "name": "stderr",
     "output_type": "stream",
     "text": [
      "C:\\Users\\ppmel\\AppData\\Local\\Temp\\ipykernel_22888\\4219539989.py:31: FutureWarning: Series.__getitem__ treating keys as positions is deprecated. In a future version, integer keys will always be treated as labels (consistent with DataFrame behavior). To access a value by position, use `ser.iloc[pos]`\n",
      "  plt.scatter(ind_vol[i], ind_rend[i], marker='o', color='black', s=100)\n",
      "C:\\Users\\ppmel\\AppData\\Local\\Temp\\ipykernel_22888\\4219539989.py:32: FutureWarning: Series.__getitem__ treating keys as positions is deprecated. In a future version, integer keys will always be treated as labels (consistent with DataFrame behavior). To access a value by position, use `ser.iloc[pos]`\n",
      "  plt.text(ind_vol[i], ind_rend[i], prices.columns[i], fontsize=12, color='black')\n"
     ]
    },
    {
     "data": {
      "image/png": "[encoded data removed]",
      "text/plain": [
       "<Figure size 1000x600 with 1 Axes>"
      ]
     },
     "metadata": {},
     "output_type": "display_data"
    }
   ],
   "source": [
    "# Realizar grafica\n",
    "plt.figure(figsize=(10,6))\n",
    "# Scatter plot de portafolios aleatorios\n",
    "plt.scatter(vol_aleatorios, rend_aleatorios,c= rend_aleatorios,cmap= 'Blues')\n",
    "\n",
    "# Scatter plot de Minima Varianza\n",
    "plt.scatter(vol_minvar, red_minvar, marker='*', color='red', s=200, label='Min Var')\n",
    "\n",
    "plt.text(vol_minvar, red_minvar, 'Min Var', fontsize=10, color = 'red')\n",
    "\n",
    "# Scatter plot de Maximo de Sharpe\n",
    "plt.scatter(vol, rend_max_sharpe, marker='x', color='green', s=200, label='Max Sharpe')\n",
    "plt.text(vol, rend_max_sharpe, 'Max Sharpe', fontsize=10, color = 'green')\n",
    "\n",
    "# Scatter plot de portafolio igual ponderado\n",
    "plt.scatter(vol_port, rend_port, marker='o', color='orange', s=200, label='Ponderado')\n",
    "plt.text(vol_port, rend_port, 'Ponderado', fontsize=10, color='orange')\n",
    "\n",
    "# Nombrar eje x, y, titulo\n",
    "plt.xlabel('Volatilidad')\n",
    "plt.ylabel('Rendimiento')\n",
    "plt.title('Bala de Markowitz y Frontera Eficiente en Media Varianza') \n",
    "\n",
    "# Graficar coordenadas de activos individuales\n",
    "ind_rend = ret.mean()\n",
    "ind_vol = ret.std()\n",
    "print('Rendimientos:', ind_rend*100)\n",
    "print('Volatilidad:', ind_vol*np.sqrt(252)*100)\n",
    "\n",
    "for i in range(n):\n",
    "    plt.scatter(ind_vol[i], ind_rend[i], marker='o', color='black', s=100)\n",
    "    plt.text(ind_vol[i], ind_rend[i], prices.columns[i], fontsize=12, color='black')\n",
    "    plt.legend()\n",
    "    plt.grid()\n",
    "\n",
    "plt.show()"
   ]
  },
  {
   "cell_type": "markdown",
   "id": "00ae5d2a",
   "metadata": {},
   "source": [
    "---"
   ]
  },
  {
   "cell_type": "markdown",
   "id": "24df8d3f",
   "metadata": {},
   "source": [
    "### Conclusiones "
   ]
  },
  {
   "cell_type": "markdown",
   "id": "b1f2f3d1",
   "metadata": {},
   "source": [
    "En cuanto al riesgo por activo, el que tuvo menos volatilidad fue `KXI`, pero también hay que decir que es el que menos rendimiento ofrece comparado con los demás, así que aunque tiene bajo riesgo, no necesariamente es el mejor. Si comparamos los tres portafolios, el que menos riesgo tiene es el de mínima varianza, ya que justo ese método busca minimizar la volatilidad, y lo logró bastante bien, teniendo una volatilidad parecida a la de `KXI`.\n",
    "\n",
    "Si hablamos del rendimiento, el activo que más sobresale es `NVDA`, ya que tiene un rendimiento bastante bueno, aunque también viene con mucha volatilidad, o sea, mucho riesgo. En cambio, si vemos los portafolios, el que tuvo un mejor equilibrio entre riesgo y rendimiento fue el de máximo Sharpe, porque consigue que haya una buena relación entre el retorno y el riesgo, lo cual hace que este portafolio se considere como óptimo. El que peor salió fue el portafolio ponderado, ya que tiene mucha volatilidad pero no compensa con buen rendimiento, por lo que no es eficiente.\n",
    "\n",
    "Esto se puede ver claramente en la frontera eficiente, ya que este portafolio ponderado no está en una zona buena, y por eso no tiene una buena relación rendimiento/riesgo. Entonces, no vale la pena invertir en un portafolio así, porque no te está dando un buen retorno por el riesgo que estás asumiendo.\n",
    "\n",
    "Un portafolio puede ser mejor que otro si cumple con el objetivo de tener una buena relación rendimiento/riesgo. No se trata nada más de que tenga buen rendimiento o que tenga poco riesgo, sino que el equilibrio entre ambos sea el mejor posible, además de que cumpla con las restricciones que se dieron en el problema.\n",
    "\n",
    "Algo interesante es que cuando vemos las ponderaciones que se obtienen con cada método, notamos que en mínima varianza hay dos activos que no reciben nada de peso, que son `MSFT` y `NVDA`, lo que nos dice que no ayudan a reducir la volatilidad, entonces es mejor no incluirlos, además que son dos activos que tienen el mismo sector economico , por lo que podría influir en los resultados dados. Y en el caso del portafolio de máximo Sharpe, los activos que se quedan con 0% de peso son `KXI` y también `MSFT`. Aquí lo que llama la atención es que `MSFT` aparece en los dos como un activo que no sirve o es un activo 'basura' para el objetivo, por lo que no tiene sentido mantenerlo en el portafolio solo por “feeling”. \n",
    "\n",
    "Esto nos lleva a ver las ventajas y desventajas ya que no se debe elegir activos por intuición, ya que eso puede hacer que metas cosas que no aportan nada al portafolio, y terminas aumentando el riesgo de forma innecesaria. En cambio, cuando usas una estrategia cuantitativa, estás eligiendo con base en datos, fórmulas, resultados, y no por emoción o favoritismo. Puede haber una ventaja si a veces el feeling puede ayudarte si estás apostando a una empresa que es muy estable o sólida, pero eso no garantiza que el portafolio sea eficiente. Lo mejor es hacer el analisis correspondiente para la elección de etsos activos.\n"
   ]
  },
  {
   "cell_type": "markdown",
   "id": "41f4b30b",
   "metadata": {},
   "source": [
    "---"
   ]
  }
 ],
 "metadata": {
  "kernelspec": {
   "display_name": "Python 3",
   "language": "python",
   "name": "python3"
  },
  "language_info": {
   "codemirror_mode": {
    "name": "ipython",
    "version": 3
   },
   "file_extension": ".py",
   "mimetype": "text/x-python",
   "name": "python",
   "nbconvert_exporter": "python",
   "pygments_lexer": "ipython3",
   "version": "3.12.8"
  }
 },
 "nbformat": 4,
 "nbformat_minor": 5
}
