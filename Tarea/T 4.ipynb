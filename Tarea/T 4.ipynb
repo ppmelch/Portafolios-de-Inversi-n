{
 "cells": [
  {
   "cell_type": "markdown",
   "id": "b43c023c",
   "metadata": {},
   "source": [
    "# Portafolios de Inversión\n",
    "## Tarea 4\n",
    "José Armando Melchor Soto"
   ]
  },
  {
   "cell_type": "markdown",
   "id": "8d2cd29c",
   "metadata": {},
   "source": [
    "---\n",
    "### Librerías \n",
    "\n"
   ]
  },
  {
   "cell_type": "code",
   "execution_count": 87,
   "id": "ba268f3e",
   "metadata": {},
   "outputs": [],
   "source": [
    "import pandas as pd \n",
    "import numpy as np\n",
    "import yfinance as yf\n",
    "import matplotlib.pyplot as plt\n",
    "from scipy.optimize import minimize "
   ]
  },
  {
   "cell_type": "markdown",
   "id": "9ff042be",
   "metadata": {},
   "source": [
    "---"
   ]
  },
  {
   "cell_type": "markdown",
   "id": "98ffcc3a",
   "metadata": {},
   "source": [
    "### Activos\n",
    "\n",
    "- **LLY (Eli Lilly)**\n",
    "- **NVDA (NVIDIA)**\n",
    "- **MSFT (Microsoft)** \n",
    "- **KXI (iShares Global Consumer Staples ETF)**\n"
   ]
  },
  {
   "cell_type": "markdown",
   "id": "29b20f4f",
   "metadata": {},
   "source": [
    "---"
   ]
  },
  {
   "cell_type": "markdown",
   "id": "a48bf28a",
   "metadata": {},
   "source": [
    "### Investigación de las Emisoras"
   ]
  },
  {
   "cell_type": "markdown",
   "id": "bf6ab0d1",
   "metadata": {},
   "source": [
    "Realiza un breve resumen de los activos, describiendo su giro de negocio, sector y productos o servicios.\n"
   ]
  },
  {
   "cell_type": "markdown",
   "id": "0becbc51",
   "metadata": {},
   "source": [
    "- **LLY (Eli Lilly)**:\n",
    "    - a\n",
    "- **NVDA (NVIDIA)**:\n",
    "    - a\n",
    "- **MSFT (Microsoft)**: \n",
    "    - a\n",
    "- **KXI (iShares Global Consumer Staples ETF)**:\n",
    "    - a\n"
   ]
  },
  {
   "cell_type": "markdown",
   "id": "3c7a778d",
   "metadata": {},
   "source": [
    "---"
   ]
  },
  {
   "cell_type": "markdown",
   "id": "148813c3",
   "metadata": {},
   "source": [
    "### Importación de Datos"
   ]
  },
  {
   "cell_type": "code",
   "execution_count": 88,
   "id": "f9fcc1ec",
   "metadata": {},
   "outputs": [
    {
     "name": "stderr",
     "output_type": "stream",
     "text": [
      "[*********************100%***********************]  4 of 4 completed\n"
     ]
    },
    {
     "data": {
      "text/html": [
       "<div>\n",
       "<style scoped>\n",
       "    .dataframe tbody tr th:only-of-type {\n",
       "        vertical-align: middle;\n",
       "    }\n",
       "\n",
       "    .dataframe tbody tr th {\n",
       "        vertical-align: top;\n",
       "    }\n",
       "\n",
       "    .dataframe thead th {\n",
       "        text-align: right;\n",
       "    }\n",
       "</style>\n",
       "<table border=\"1\" class=\"dataframe\">\n",
       "  <thead>\n",
       "    <tr style=\"text-align: right;\">\n",
       "      <th>Ticker</th>\n",
       "      <th>KXI</th>\n",
       "      <th>LLY</th>\n",
       "      <th>MSFT</th>\n",
       "      <th>NVDA</th>\n",
       "    </tr>\n",
       "    <tr>\n",
       "      <th>Date</th>\n",
       "      <th></th>\n",
       "      <th></th>\n",
       "      <th></th>\n",
       "      <th></th>\n",
       "    </tr>\n",
       "  </thead>\n",
       "  <tbody>\n",
       "    <tr>\n",
       "      <th>2018-01-02</th>\n",
       "      <td>44.372314</td>\n",
       "      <td>75.427597</td>\n",
       "      <td>79.328529</td>\n",
       "      <td>4.929085</td>\n",
       "    </tr>\n",
       "    <tr>\n",
       "      <th>2018-01-03</th>\n",
       "      <td>44.376518</td>\n",
       "      <td>75.837357</td>\n",
       "      <td>79.697701</td>\n",
       "      <td>5.253488</td>\n",
       "    </tr>\n",
       "    <tr>\n",
       "      <th>2018-01-04</th>\n",
       "      <td>44.473259</td>\n",
       "      <td>76.175835</td>\n",
       "      <td>80.399170</td>\n",
       "      <td>5.281181</td>\n",
       "    </tr>\n",
       "    <tr>\n",
       "      <th>2018-01-05</th>\n",
       "      <td>44.759254</td>\n",
       "      <td>77.111099</td>\n",
       "      <td>81.395958</td>\n",
       "      <td>5.325935</td>\n",
       "    </tr>\n",
       "    <tr>\n",
       "      <th>2018-01-08</th>\n",
       "      <td>44.742428</td>\n",
       "      <td>76.719193</td>\n",
       "      <td>81.479019</td>\n",
       "      <td>5.489125</td>\n",
       "    </tr>\n",
       "  </tbody>\n",
       "</table>\n",
       "</div>"
      ],
      "text/plain": [
       "Ticker            KXI        LLY       MSFT      NVDA\n",
       "Date                                                 \n",
       "2018-01-02  44.372314  75.427597  79.328529  4.929085\n",
       "2018-01-03  44.376518  75.837357  79.697701  5.253488\n",
       "2018-01-04  44.473259  76.175835  80.399170  5.281181\n",
       "2018-01-05  44.759254  77.111099  81.395958  5.325935\n",
       "2018-01-08  44.742428  76.719193  81.479019  5.489125"
      ]
     },
     "execution_count": 88,
     "metadata": {},
     "output_type": "execute_result"
    }
   ],
   "source": [
    "prices = yf.download(['LLY','NVDA','MSFT','KXI'],start= '2018-01-01' , end = '2024-09-25')['Close']\n",
    "prices.head()"
   ]
  },
  {
   "cell_type": "code",
   "execution_count": 89,
   "id": "1686357a",
   "metadata": {},
   "outputs": [
    {
     "data": {
      "text/plain": [
       "<matplotlib.legend.Legend at 0x1ba580a6fc0>"
      ]
     },
     "execution_count": 89,
     "metadata": {},
     "output_type": "execute_result"
    },
    {
     "data": {
      "image/png": "[encoded data removed]",
      "text/plain": [
       "<Figure size 1200x600 with 1 Axes>"
      ]
     },
     "metadata": {},
     "output_type": "display_data"
    }
   ],
   "source": [
    "plt.figure(figsize=(12, 6))\n",
    "plt.hist(prices, label=prices.keys(),density=True, bins=50)\n",
    "plt.title('Stock Prices of LLY, NVDA, MSFT, and KXI')\n",
    "plt.xlabel('Price')\n",
    "plt.ylabel('Density')\n",
    "plt.legend()"
   ]
  },
  {
   "cell_type": "markdown",
   "id": "21897352",
   "metadata": {},
   "source": [
    "---"
   ]
  },
  {
   "cell_type": "markdown",
   "id": "1a1a4388",
   "metadata": {},
   "source": [
    "### Rendimientos Diarios"
   ]
  },
  {
   "cell_type": "code",
   "execution_count": 90,
   "id": "560730a3",
   "metadata": {},
   "outputs": [
    {
     "data": {
      "text/html": [
       "<div>\n",
       "<style scoped>\n",
       "    .dataframe tbody tr th:only-of-type {\n",
       "        vertical-align: middle;\n",
       "    }\n",
       "\n",
       "    .dataframe tbody tr th {\n",
       "        vertical-align: top;\n",
       "    }\n",
       "\n",
       "    .dataframe thead th {\n",
       "        text-align: right;\n",
       "    }\n",
       "</style>\n",
       "<table border=\"1\" class=\"dataframe\">\n",
       "  <thead>\n",
       "    <tr style=\"text-align: right;\">\n",
       "      <th>Ticker</th>\n",
       "      <th>KXI</th>\n",
       "      <th>LLY</th>\n",
       "      <th>MSFT</th>\n",
       "      <th>NVDA</th>\n",
       "    </tr>\n",
       "    <tr>\n",
       "      <th>Date</th>\n",
       "      <th></th>\n",
       "      <th></th>\n",
       "      <th></th>\n",
       "      <th></th>\n",
       "    </tr>\n",
       "  </thead>\n",
       "  <tbody>\n",
       "    <tr>\n",
       "      <th>2018-01-03</th>\n",
       "      <td>0.000095</td>\n",
       "      <td>0.005432</td>\n",
       "      <td>0.004654</td>\n",
       "      <td>0.065814</td>\n",
       "    </tr>\n",
       "    <tr>\n",
       "      <th>2018-01-04</th>\n",
       "      <td>0.002180</td>\n",
       "      <td>0.004463</td>\n",
       "      <td>0.008802</td>\n",
       "      <td>0.005271</td>\n",
       "    </tr>\n",
       "    <tr>\n",
       "      <th>2018-01-05</th>\n",
       "      <td>0.006431</td>\n",
       "      <td>0.012278</td>\n",
       "      <td>0.012398</td>\n",
       "      <td>0.008474</td>\n",
       "    </tr>\n",
       "    <tr>\n",
       "      <th>2018-01-08</th>\n",
       "      <td>-0.000376</td>\n",
       "      <td>-0.005082</td>\n",
       "      <td>0.001020</td>\n",
       "      <td>0.030641</td>\n",
       "    </tr>\n",
       "    <tr>\n",
       "      <th>2018-01-09</th>\n",
       "      <td>-0.002068</td>\n",
       "      <td>-0.000813</td>\n",
       "      <td>-0.000680</td>\n",
       "      <td>-0.000270</td>\n",
       "    </tr>\n",
       "  </tbody>\n",
       "</table>\n",
       "</div>"
      ],
      "text/plain": [
       "Ticker           KXI       LLY      MSFT      NVDA\n",
       "Date                                              \n",
       "2018-01-03  0.000095  0.005432  0.004654  0.065814\n",
       "2018-01-04  0.002180  0.004463  0.008802  0.005271\n",
       "2018-01-05  0.006431  0.012278  0.012398  0.008474\n",
       "2018-01-08 -0.000376 -0.005082  0.001020  0.030641\n",
       "2018-01-09 -0.002068 -0.000813 -0.000680 -0.000270"
      ]
     },
     "execution_count": 90,
     "metadata": {},
     "output_type": "execute_result"
    }
   ],
   "source": [
    "ret = prices.pct_change().dropna()\n",
    "ret.head()"
   ]
  },
  {
   "cell_type": "markdown",
   "id": "b7fbf404",
   "metadata": {},
   "source": [
    "### Rendimiento Promedio "
   ]
  },
  {
   "cell_type": "code",
   "execution_count": 91,
   "id": "13ba0da9",
   "metadata": {},
   "outputs": [
    {
     "data": {
      "text/plain": [
       "Ticker\n",
       "KXI     0.000265\n",
       "LLY     0.001653\n",
       "MSFT    0.001164\n",
       "NVDA    0.002429\n",
       "dtype: float64"
      ]
     },
     "execution_count": 91,
     "metadata": {},
     "output_type": "execute_result"
    }
   ],
   "source": [
    "ret_mean = ret.mean()\n",
    "ret_mean"
   ]
  },
  {
   "cell_type": "markdown",
   "id": "ceba3c85",
   "metadata": {},
   "source": [
    "### Volatilidad "
   ]
  },
  {
   "cell_type": "code",
   "execution_count": 92,
   "id": "fef4e501",
   "metadata": {},
   "outputs": [
    {
     "data": {
      "text/plain": [
       "Ticker\n",
       "KXI     0.009365\n",
       "LLY     0.018780\n",
       "MSFT    0.018373\n",
       "NVDA    0.032793\n",
       "dtype: float64"
      ]
     },
     "execution_count": 92,
     "metadata": {},
     "output_type": "execute_result"
    }
   ],
   "source": [
    "vol = ret.std()\n",
    "vol"
   ]
  },
  {
   "cell_type": "markdown",
   "id": "35085929",
   "metadata": {},
   "source": [
    "### Matriz de Covarianza "
   ]
  },
  {
   "cell_type": "code",
   "execution_count": 93,
   "id": "587fb78e",
   "metadata": {},
   "outputs": [
    {
     "data": {
      "text/html": [
       "<div>\n",
       "<style scoped>\n",
       "    .dataframe tbody tr th:only-of-type {\n",
       "        vertical-align: middle;\n",
       "    }\n",
       "\n",
       "    .dataframe tbody tr th {\n",
       "        vertical-align: top;\n",
       "    }\n",
       "\n",
       "    .dataframe thead th {\n",
       "        text-align: right;\n",
       "    }\n",
       "</style>\n",
       "<table border=\"1\" class=\"dataframe\">\n",
       "  <thead>\n",
       "    <tr style=\"text-align: right;\">\n",
       "      <th>Ticker</th>\n",
       "      <th>KXI</th>\n",
       "      <th>LLY</th>\n",
       "      <th>MSFT</th>\n",
       "      <th>NVDA</th>\n",
       "    </tr>\n",
       "    <tr>\n",
       "      <th>Ticker</th>\n",
       "      <th></th>\n",
       "      <th></th>\n",
       "      <th></th>\n",
       "      <th></th>\n",
       "    </tr>\n",
       "  </thead>\n",
       "  <tbody>\n",
       "    <tr>\n",
       "      <th>KXI</th>\n",
       "      <td>0.000088</td>\n",
       "      <td>0.000074</td>\n",
       "      <td>0.000104</td>\n",
       "      <td>0.000123</td>\n",
       "    </tr>\n",
       "    <tr>\n",
       "      <th>LLY</th>\n",
       "      <td>0.000074</td>\n",
       "      <td>0.000353</td>\n",
       "      <td>0.000130</td>\n",
       "      <td>0.000158</td>\n",
       "    </tr>\n",
       "    <tr>\n",
       "      <th>MSFT</th>\n",
       "      <td>0.000104</td>\n",
       "      <td>0.000130</td>\n",
       "      <td>0.000338</td>\n",
       "      <td>0.000403</td>\n",
       "    </tr>\n",
       "    <tr>\n",
       "      <th>NVDA</th>\n",
       "      <td>0.000123</td>\n",
       "      <td>0.000158</td>\n",
       "      <td>0.000403</td>\n",
       "      <td>0.001075</td>\n",
       "    </tr>\n",
       "  </tbody>\n",
       "</table>\n",
       "</div>"
      ],
      "text/plain": [
       "Ticker       KXI       LLY      MSFT      NVDA\n",
       "Ticker                                        \n",
       "KXI     0.000088  0.000074  0.000104  0.000123\n",
       "LLY     0.000074  0.000353  0.000130  0.000158\n",
       "MSFT    0.000104  0.000130  0.000338  0.000403\n",
       "NVDA    0.000123  0.000158  0.000403  0.001075"
      ]
     },
     "execution_count": 93,
     "metadata": {},
     "output_type": "execute_result"
    }
   ],
   "source": [
    "cov = ret.cov()\n",
    "cov"
   ]
  },
  {
   "cell_type": "markdown",
   "id": "25a457ed",
   "metadata": {},
   "source": [
    "---"
   ]
  },
  {
   "cell_type": "markdown",
   "id": "9867748c",
   "metadata": {},
   "source": [
    "### Portafolio de Mínima Varianza "
   ]
  },
  {
   "cell_type": "code",
   "execution_count": 94,
   "id": "161e7b88",
   "metadata": {},
   "outputs": [],
   "source": [
    "def opt_min_var(ret: pd.DataFrame) -> np.ndarray:\n",
    "    # Obtener matriz de covariânza varianza\n",
    "    cov = ret.cov()\n",
    "    # Definir funcion objetivo\n",
    "    varianza = lambda w: w.T @ cov @ w\n",
    "    # Definir valores iniciales\n",
    "    n = len(ret.keys())\n",
    "    w_inicial = np.ones(n) / n\n",
    "    # Definir las cotas\n",
    "    bounds = [(0, 1)] * n\n",
    "    # Definir las restricciones\n",
    "    restr = lambda w: sum(w)-1\n",
    "    # Definir tolerancia\n",
    "    tol = 1e-100\n",
    "    # Aplicar función de scipy.optimize\n",
    "    min_var = minimize(\n",
    "        fun=varianza,\n",
    "        x0=w_inicial,\n",
    "        bounds=bounds,\n",
    "        constraints={'fun': restr, 'type': 'eq'},\n",
    "        tol=tol\n",
    "    )\n",
    "    # Encontrar pesos eficientes \n",
    "    w_minvar = min_var.x\n",
    "    \n",
    "    return w_minvar"
   ]
  },
  {
   "cell_type": "code",
   "execution_count": 95,
   "id": "bc02c211",
   "metadata": {},
   "outputs": [
    {
     "data": {
      "text/plain": [
       "array([0.9536, 0.0464, 0.    , 0.    ])"
      ]
     },
     "execution_count": 95,
     "metadata": {},
     "output_type": "execute_result"
    }
   ],
   "source": [
    "w_minvar_func = opt_min_var(ret)\n",
    "\n",
    "w_minvar_func.round(4)"
   ]
  },
  {
   "cell_type": "markdown",
   "id": "e674d201",
   "metadata": {},
   "source": [
    "#### Rendimiento Portafolio de Mínima Varianza "
   ]
  },
  {
   "cell_type": "code",
   "execution_count": 96,
   "id": "9e37720c",
   "metadata": {},
   "outputs": [
    {
     "data": {
      "text/plain": [
       "0.032978259979033454"
      ]
     },
     "execution_count": 96,
     "metadata": {},
     "output_type": "execute_result"
    }
   ],
   "source": [
    "red_minvar = sum(w_minvar_func * ret_mean)\n",
    "red_minvar*100"
   ]
  },
  {
   "cell_type": "markdown",
   "id": "0926dc9f",
   "metadata": {},
   "source": [
    "#### Volatilidad Portafolio de Mínima Varianza"
   ]
  },
  {
   "cell_type": "code",
   "execution_count": 97,
   "id": "d02a7cb7",
   "metadata": {},
   "outputs": [
    {
     "data": {
      "text/plain": [
       "0.9331239916578575"
      ]
     },
     "execution_count": 97,
     "metadata": {},
     "output_type": "execute_result"
    }
   ],
   "source": [
    "vol_minvar = np.sqrt(w_minvar_func.T @ cov @ w_minvar_func)\n",
    "vol_minvar*100"
   ]
  },
  {
   "cell_type": "markdown",
   "id": "951239c7",
   "metadata": {},
   "source": [
    "---"
   ]
  },
  {
   "cell_type": "markdown",
   "id": "bcc15dd8",
   "metadata": {},
   "source": [
    "### Portafolio de Máximo Sharpe"
   ]
  },
  {
   "cell_type": "markdown",
   "id": "89ac94fa",
   "metadata": {},
   "source": [
    "#### tasa libre de riesgo"
   ]
  },
  {
   "cell_type": "code",
   "execution_count": 98,
   "id": "49dd3e8f",
   "metadata": {},
   "outputs": [],
   "source": [
    "rf = 0.03"
   ]
  },
  {
   "cell_type": "markdown",
   "id": "321e3e1d",
   "metadata": {},
   "source": [
    "#### Optimización Máximo Sharpe"
   ]
  },
  {
   "cell_type": "code",
   "execution_count": 99,
   "id": "3f7daf25",
   "metadata": {},
   "outputs": [],
   "source": [
    "def max__sharpe(ret:pd.DataFrame,rf:float)-> np.array:\n",
    "\n",
    "    # Input \n",
    "    E= ret.mean()\n",
    "    cov = ret.cov()\n",
    "    rf = rf/252\n",
    "\n",
    "    # Función objetivo para maximizar la ratio de Sharpe\n",
    "    sharpe = lambda w: -((w.T @ (E - rf)) / np.sqrt(w.T @ cov @ w))\n",
    "    \n",
    "    # Valores iniciales\n",
    "    n = len(ret.keys())\n",
    "    w_inicial = np.ones(n)/n\n",
    "    # Cotas\n",
    "    bounds = [(0,1)]*n\n",
    "    # Restricciones\n",
    "    rest = lambda w: sum(w)-1\n",
    "    # Tolerancia\n",
    "    tol = 1e-100\n",
    "\n",
    "    # Optimización\n",
    "    max_sharpe = minimize(\n",
    "        fun=sharpe,\n",
    "        x0=w_inicial,\n",
    "        bounds=bounds,\n",
    "        constraints={'fun': rest, 'type': 'eq'},\n",
    "        tol=tol)\n",
    "    \n",
    "    w_max = max_sharpe.x\n",
    "\n",
    "    return w_max"
   ]
  },
  {
   "cell_type": "code",
   "execution_count": 100,
   "id": "5bde2ea9",
   "metadata": {},
   "outputs": [
    {
     "data": {
      "text/plain": [
       "array([0.    , 0.6917, 0.    , 0.3083])"
      ]
     },
     "execution_count": 100,
     "metadata": {},
     "output_type": "execute_result"
    }
   ],
   "source": [
    "# Obtener los pesos\n",
    "w_max_= max__sharpe(ret,rf).round(4)\n",
    "w_max_"
   ]
  },
  {
   "cell_type": "markdown",
   "id": "34e22552",
   "metadata": {},
   "source": [
    "#### Rendimiento Portafolio de Máximo Sharpe "
   ]
  },
  {
   "cell_type": "code",
   "execution_count": 101,
   "id": "4e80b618",
   "metadata": {},
   "outputs": [
    {
     "data": {
      "text/plain": [
       "0.1891854717791764"
      ]
     },
     "execution_count": 101,
     "metadata": {},
     "output_type": "execute_result"
    }
   ],
   "source": [
    "rend_max_sharpe = w_max_.T @ (ret.mean())\n",
    "rend_max_sharpe*100"
   ]
  },
  {
   "cell_type": "markdown",
   "id": "4fa3aac1",
   "metadata": {},
   "source": [
    "#### Volatilidad Portafolio de Máximo Sharpe"
   ]
  },
  {
   "cell_type": "code",
   "execution_count": 102,
   "id": "af4f3009",
   "metadata": {},
   "outputs": [
    {
     "data": {
      "text/plain": [
       "1.839262291379158"
      ]
     },
     "execution_count": 102,
     "metadata": {},
     "output_type": "execute_result"
    }
   ],
   "source": [
    "vol = np.sqrt (w_max_.T @ ret.cov() @ w_max_)\n",
    "vol*100"
   ]
  },
  {
   "cell_type": "markdown",
   "id": "65e40a7d",
   "metadata": {},
   "source": [
    "---"
   ]
  },
  {
   "cell_type": "markdown",
   "id": "047853df",
   "metadata": {},
   "source": [
    "### Portafolio equitativamente ponderado"
   ]
  },
  {
   "cell_type": "markdown",
   "id": "10c5cec7",
   "metadata": {},
   "source": [
    "#### Ponderación"
   ]
  },
  {
   "cell_type": "code",
   "execution_count": 108,
   "id": "ac065a2d",
   "metadata": {},
   "outputs": [],
   "source": [
    "w= np.array([0.25, 0.25, 0.25, 0.25])"
   ]
  },
  {
   "cell_type": "markdown",
   "id": "a5bed737",
   "metadata": {},
   "source": [
    "#### Rendimiento Promedio Portafolio equitativamente ponderado"
   ]
  },
  {
   "cell_type": "code",
   "execution_count": 109,
   "id": "2b844a64",
   "metadata": {},
   "outputs": [
    {
     "data": {
      "text/plain": [
       "0.1377572913506275"
      ]
     },
     "execution_count": 109,
     "metadata": {},
     "output_type": "execute_result"
    }
   ],
   "source": [
    "rend_port = w.T @ ret.mean()\n",
    "rend_port*100"
   ]
  },
  {
   "cell_type": "markdown",
   "id": "36a0ba2e",
   "metadata": {},
   "source": [
    "#### Volatilidad Portafolio equitativamente ponderado"
   ]
  },
  {
   "cell_type": "code",
   "execution_count": 110,
   "id": "67419739",
   "metadata": {},
   "outputs": [
    {
     "data": {
      "text/plain": [
       "1.5485194444463146"
      ]
     },
     "execution_count": 110,
     "metadata": {},
     "output_type": "execute_result"
    }
   ],
   "source": [
    "vol_port = np.sqrt(w.T @ cov @ w)\n",
    "vol_port*100"
   ]
  },
  {
   "cell_type": "markdown",
   "id": "299c6f89",
   "metadata": {},
   "source": [
    "---"
   ]
  },
  {
   "cell_type": "markdown",
   "id": "a1b82a3e",
   "metadata": {},
   "source": [
    "### Gráfica Frontera Eficiente "
   ]
  },
  {
   "cell_type": "code",
   "execution_count": 114,
   "id": "1a9cbc3e",
   "metadata": {},
   "outputs": [],
   "source": [
    "# Generacion de portafolios aleatorios\n",
    "n = len(ret.keys())\n",
    "np_port = 100000\n",
    "random_w = np.random.dirichlet(np.ones(n), np_port)\n",
    "# Calcular rendimientos y volatilidades\n",
    "rend_aleatorios = [ret_mean.T @ random_w[w] for w in range(np_port)]\n",
    "vol_aleatorios = [np.sqrt(random_w[w].T @ cov @ random_w[w]) for w in range(np_port)]"
   ]
  },
  {
   "cell_type": "code",
   "execution_count": null,
   "id": "f0a0a127",
   "metadata": {},
   "outputs": [
    {
     "name": "stdout",
     "output_type": "stream",
     "text": [
      "Rendimientos: Ticker\n",
      "KXI     0.000265\n",
      "LLY     0.001653\n",
      "MSFT    0.001164\n",
      "NVDA    0.002429\n",
      "dtype: float64\n",
      "Volatilidad: Ticker\n",
      "KXI     0.009365\n",
      "LLY     0.018780\n",
      "MSFT    0.018373\n",
      "NVDA    0.032793\n",
      "dtype: float64\n"
     ]
    },
    {
     "name": "stderr",
     "output_type": "stream",
     "text": [
      "C:\\Users\\ppmel\\AppData\\Local\\Temp\\ipykernel_22888\\1686954901.py:36: FutureWarning: Series.__getitem__ treating keys as positions is deprecated. In a future version, integer keys will always be treated as labels (consistent with DataFrame behavior). To access a value by position, use `ser.iloc[pos]`\n",
      "  plt.scatter(ind_vol[i], ind_rend[i], marker='o', color='black', s=100)\n",
      "C:\\Users\\ppmel\\AppData\\Local\\Temp\\ipykernel_22888\\1686954901.py:37: FutureWarning: Series.__getitem__ treating keys as positions is deprecated. In a future version, integer keys will always be treated as labels (consistent with DataFrame behavior). To access a value by position, use `ser.iloc[pos]`\n",
      "  plt.text(ind_vol[i], ind_rend[i], prices.columns[i], fontsize=12, color='black')\n"
     ]
    },
    {
     "data": {
      "image/png": "[encoded data removed]",
      "text/plain": [
       "<Figure size 1000x600 with 1 Axes>"
      ]
     },
     "metadata": {},
     "output_type": "display_data"
    }
   ],
   "source": [
    "# Realizar grafica\n",
    "plt.figure(figsize=(10,6))\n",
    "# Scatter plot de portafolios aleatorios\n",
    "plt.scatter(vol_aleatorios, rend_aleatorios,c= rend_aleatorios,cmap= 'Blues')\n",
    "\n",
    "# Scatter plot de Minima Varianza\n",
    "plt.scatter(vol_minvar, red_minvar, marker='*', color='red', s=200, label='Min Var')\n",
    "\n",
    "plt.text(vol_minvar, red_minvar, 'Min Var', fontsize=10, color = 'red')\n",
    "\n",
    "# Scatter plot de Maximo de Sharpe\n",
    "plt.scatter(vol, rend_max_sharpe, marker='x', color='green', s=200, label='Max Sharpe')\n",
    "plt.text(vol, rend_max_sharpe, 'Max Sharpe', fontsize=10, color = 'green')\n",
    "\n",
    "# Scatter plot de portafolio igual ponderado\n",
    "plt.scatter(vol_port, rend_port, marker='o', color='orange', s=200, label='Ponderado')\n",
    "plt.text(vol_port, rend_port, 'Ponderado', fontsize=10, color='orange')\n",
    "\n",
    "# Nombrar eje x, y, titulo\n",
    "plt.xlabel('Volatilidad')\n",
    "plt.ylabel('Rendimiento')\n",
    "plt.title('Bala de Markowitz y Frontera Eficiente en Media Varianza') \n",
    "\n",
    "# Graficar coordenadas de activos individuales\n",
    "ind_rend = ret.mean()\n",
    "ind_vol = ret.std()\n",
    "print('Rendimientos:', ind_rend)\n",
    "print('Volatilidad:', ind_vol)\n",
    "\n",
    "for i in range(n):\n",
    "    plt.scatter(ind_vol[i], ind_rend[i], marker='o', color='black', s=100)\n",
    "    plt.text(ind_vol[i], ind_rend[i], prices.columns[i], fontsize=12, color='black')\n",
    "    plt.legend()\n",
    "    plt.grid()\n",
    "\n",
    "plt.show()"
   ]
  },
  {
   "cell_type": "markdown",
   "id": "00ae5d2a",
   "metadata": {},
   "source": [
    "---"
   ]
  },
  {
   "cell_type": "markdown",
   "id": "24df8d3f",
   "metadata": {},
   "source": [
    "### Conclusiones "
   ]
  },
  {
   "cell_type": "markdown",
   "id": "c049ba13",
   "metadata": {},
   "source": [
    "### 7. Conclusión\n",
    "\n",
    "    \n",
    "Compara las métricas de rendimiento y volatilidad de los tres portafolios: \n",
    "1. Portafolio de mínima varianza\n",
    "2. Portafolio de máximo Sharpe\n",
    "3. Portafolio equitativamente ponderado\n",
    "\n",
    "Responde:\n",
    "\n",
    "- ¿Cuál de estos portafolios es superior en términos de riesgo?    \n",
    "\n",
    "\n",
    "- ¿Cuál de estos portafolios es superior en términos de riesgo y retorno?   \n",
    "\n",
    "\n",
    "- Interpreta la frontera eficiente en base a la teoría vista en clase y responde: ¿Qué pasa con el portafolio *equally weighted*?¿Es óptimo?¿Por qué?  \n",
    "\n",
    "\n",
    "- ¿Por qué un portafolio podría ser mejor que otro? ¿De qué depende que sea \"mejor\"?    \n",
    "\n",
    "\n",
    "- Analiza las ponderaciones obtenidas por el método de mínima varianza y el de máximo de Sharpe para cada activo de manera individual, basándote en la descripción presentada en la primera sección de la tarea. ¿Qué factores explican que cada activo tenga una mayor o menor ponderación en uno de los métodos en comparación con el otro?\n",
    "\n",
    "\n",
    "- Concluye acerca de las ventajas y desventajas de una estrategia cuantitativa de asignación de activos frente a una basada en \"feeling\" o intuición."
   ]
  }
 ],
 "metadata": {
  "kernelspec": {
   "display_name": "Python 3",
   "language": "python",
   "name": "python3"
  },
  "language_info": {
   "codemirror_mode": {
    "name": "ipython",
    "version": 3
   },
   "file_extension": ".py",
   "mimetype": "text/x-python",
   "name": "python",
   "nbconvert_exporter": "python",
   "pygments_lexer": "ipython3",
   "version": "3.12.8"
  }
 },
 "nbformat": 4,
 "nbformat_minor": 5
}
