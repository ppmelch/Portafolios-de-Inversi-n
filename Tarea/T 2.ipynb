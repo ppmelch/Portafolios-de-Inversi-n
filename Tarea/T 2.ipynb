{
 "cells": [
  {
   "cell_type": "markdown",
   "id": "5f875208",
   "metadata": {},
   "source": [
    "# Portafolios de Inversión\n",
    "## Tarea 2 \n",
    "\n",
    "### Equipo\n",
    "- José Armando Melchor Soto\n",
    "- José Rodrigo Santillan \n",
    "---"
   ]
  },
  {
   "cell_type": "markdown",
   "id": "1b317f64",
   "metadata": {},
   "source": [
    "### Investigación sobre los activos"
   ]
  },
  {
   "cell_type": "markdown",
   "id": "f57ab53b",
   "metadata": {},
   "source": [
    "### Activos\n",
    "\n",
    "- **GLD**: \n",
    "    - El fondo GLD es un ETF que busca reflejar lo más fielmente posible el precio del oro físico. A diferencia de otros instrumentos relacionados con este metal, no apuesta por acciones de empresas mineras ni por derivados financieros, en vez de eso cada acción del fondo representa una pequeña parte de oro real, almacenado de forma segura en bóvedas. La principal ventaja de GLD es que permite invertir en oro sin tener que comprar lingotes ni preocuparse por dónde guardarlos, lo que es una manera accesible y práctica de aprovechar los cambios de precio.\n",
    "\n",
    "    - Este fondo se considera parte del grupo de materias primas, y específicamente está centrado en el oro, por esa razón, muchos inversionistas lo usan como una forma de resguardar su dinero en tiempos de incertidumbre económica o cuando hay temor a la inflación, ya que el oro tiende a conservar su valor cuando otros activos pierden estabilidad.\n",
    "\n",
    "- **AGEN**:\n",
    "    - Esta es una compañía biotecnológica enfocada en el desarrollo de inmunoterapias para el tratamiento del cáncer. Su portafolio incluye vacunas terapéuticas, anticuerpos monoclonales y plataformas destinadas a modular la respuesta inmune contra tumores. Pertenece al sector económico de Healthcare, específicamente dentro de la industria de Biotecnología Oncológica.\n",
    "\n",
    "- **MAA**: \n",
    "    - Este fideicomiso de inversión en bienes raíces (REIT), con sede en Germantown, Tennessee, se dedica a operar, adquirir y desarrollar comunidades de apartamentos. Divide sus propiedades en dos grupos:\n",
    "\n",
    "        - Comunidades de Mismas Tiendas: son las que tiene desde hace más de un año y están estables.\n",
    "\n",
    "        - Comunidades No Mismas Tiendas: son las quee incluyen las propiedades nuevas o en desarrollo.\n",
    "\n",
    "- **TLT**:\n",
    "    -   El fondo TLT es un ETF que invierte en bonos del Tesoro de Estados Unidos con vencimientos a largo plazo, es decir, mayores a 20 años. Básicamente, al comprar este fondo se está accediendo a una colección de bonos considerados de bajo riesgo, ya que están respaldados por el gobierno de EUA. \n",
    "\n",
    "    - El propósito de TLT es ofrecer a los inversionistas una forma sencilla de obtener rendimientos ligados a la renta fija, sin necesidad de comprar los bonos directamente. \n",
    "    - Su comportamiento suele estar muy relacionado con las tasas de interés: cuando las tasas bajan, el valor de estos bonos tiende a subir, y viceversa. Al ser un fondo de renta fija, se le considera una opción defensiva dentro de un portafolio y muchos lo utilizan como una forma de protegerse cuando los mercados de acciones se vuelven volátiles o cuando se anticipa una recesión, ya que en esos escenarios los bonos de largo plazo suelen ganar valor.\n"
   ]
  },
  {
   "cell_type": "markdown",
   "id": "4e89376e",
   "metadata": {},
   "source": [
    "#### Bibliografía\n",
    "\n",
    "- **GLD**\n",
    "    - What is the GLD? - Bullion vs ETFs | BullionByPost. (n.d.). https://www.bullionbypost.eu/index/gold/what-is-the-gld-bullion-vs-etfs/\n",
    "    - GLD. (n.d.). https://www.thinkmarkets.com/latam/gld/\n",
    "\n",
    "- **AGEN**\n",
    "    - Agenus Inc. (AGEN) stock price, news, quote & history - Yahoo Finance. (n.d.). Yahoo Finance. https://finance.yahoo.com/quote/AGEN/\n",
    "    - Agenus Inc - company profile and news. (n.d.). Bloomberg.com. https://www.bloomberg.com/profile/company/AGEN:US\n",
    "\n",
    "- **MAA**\n",
    "    - Today’s top news - FactSet. (n.d.). https://my.apps.factset.com/workstation/flagship-streetaccount/Today'sTopNews/reits\n",
    "\n",
    "- **TLT**\n",
    "    - https://www.blackrock.com/cl/literature/fact-sheet/tlt-ishares-20-year-treasury-bond-etf-fund-fact-sheet-es-lm.pdf"
   ]
  },
  {
   "cell_type": "markdown",
   "id": "a69b7e9c",
   "metadata": {},
   "source": [
    "---"
   ]
  },
  {
   "cell_type": "markdown",
   "id": "10e018f0",
   "metadata": {},
   "source": [
    "### Librerías "
   ]
  },
  {
   "cell_type": "code",
   "execution_count": 84,
   "id": "7851e339",
   "metadata": {},
   "outputs": [],
   "source": [
    "import pandas as pd \n",
    "import numpy as np\n",
    "import yfinance as yf\n",
    "import matplotlib.pyplot as plt"
   ]
  },
  {
   "cell_type": "markdown",
   "id": "9351856f",
   "metadata": {},
   "source": [
    "---"
   ]
  },
  {
   "cell_type": "markdown",
   "id": "7f6267f8",
   "metadata": {},
   "source": [
    "### Importación de los datos"
   ]
  },
  {
   "cell_type": "code",
   "execution_count": 85,
   "id": "52654b83",
   "metadata": {},
   "outputs": [
    {
     "name": "stderr",
     "output_type": "stream",
     "text": [
      "[*********************100%***********************]  4 of 4 completed\n"
     ]
    },
    {
     "data": {
      "text/html": [
       "<div>\n",
       "<style scoped>\n",
       "    .dataframe tbody tr th:only-of-type {\n",
       "        vertical-align: middle;\n",
       "    }\n",
       "\n",
       "    .dataframe tbody tr th {\n",
       "        vertical-align: top;\n",
       "    }\n",
       "\n",
       "    .dataframe thead th {\n",
       "        text-align: right;\n",
       "    }\n",
       "</style>\n",
       "<table border=\"1\" class=\"dataframe\">\n",
       "  <thead>\n",
       "    <tr style=\"text-align: right;\">\n",
       "      <th>Ticker</th>\n",
       "      <th>AGEN</th>\n",
       "      <th>GLD</th>\n",
       "      <th>SLG</th>\n",
       "      <th>TLT</th>\n",
       "    </tr>\n",
       "    <tr>\n",
       "      <th>Date</th>\n",
       "      <th></th>\n",
       "      <th></th>\n",
       "      <th></th>\n",
       "      <th></th>\n",
       "    </tr>\n",
       "  </thead>\n",
       "  <tbody>\n",
       "    <tr>\n",
       "      <th>2020-01-02</th>\n",
       "      <td>79.293427</td>\n",
       "      <td>143.949997</td>\n",
       "      <td>61.819767</td>\n",
       "      <td>118.468452</td>\n",
       "    </tr>\n",
       "    <tr>\n",
       "      <th>2020-01-03</th>\n",
       "      <td>75.760551</td>\n",
       "      <td>145.860001</td>\n",
       "      <td>62.063160</td>\n",
       "      <td>120.292900</td>\n",
       "    </tr>\n",
       "    <tr>\n",
       "      <th>2020-01-06</th>\n",
       "      <td>74.190384</td>\n",
       "      <td>147.389999</td>\n",
       "      <td>63.022678</td>\n",
       "      <td>119.609810</td>\n",
       "    </tr>\n",
       "    <tr>\n",
       "      <th>2020-01-07</th>\n",
       "      <td>72.816490</td>\n",
       "      <td>147.970001</td>\n",
       "      <td>62.257843</td>\n",
       "      <td>119.021812</td>\n",
       "    </tr>\n",
       "    <tr>\n",
       "      <th>2020-01-08</th>\n",
       "      <td>71.638863</td>\n",
       "      <td>146.860001</td>\n",
       "      <td>62.542912</td>\n",
       "      <td>118.234970</td>\n",
       "    </tr>\n",
       "    <tr>\n",
       "      <th>...</th>\n",
       "      <td>...</td>\n",
       "      <td>...</td>\n",
       "      <td>...</td>\n",
       "      <td>...</td>\n",
       "    </tr>\n",
       "    <tr>\n",
       "      <th>2025-05-28</th>\n",
       "      <td>3.020000</td>\n",
       "      <td>303.809998</td>\n",
       "      <td>57.204887</td>\n",
       "      <td>85.043411</td>\n",
       "    </tr>\n",
       "    <tr>\n",
       "      <th>2025-05-29</th>\n",
       "      <td>3.200000</td>\n",
       "      <td>305.609985</td>\n",
       "      <td>57.852001</td>\n",
       "      <td>85.830482</td>\n",
       "    </tr>\n",
       "    <tr>\n",
       "      <th>2025-05-30</th>\n",
       "      <td>3.430000</td>\n",
       "      <td>303.600006</td>\n",
       "      <td>56.770000</td>\n",
       "      <td>85.959999</td>\n",
       "    </tr>\n",
       "    <tr>\n",
       "      <th>2025-06-02</th>\n",
       "      <td>4.130000</td>\n",
       "      <td>311.670013</td>\n",
       "      <td>57.380001</td>\n",
       "      <td>85.160004</td>\n",
       "    </tr>\n",
       "    <tr>\n",
       "      <th>2025-06-03</th>\n",
       "      <td>5.000000</td>\n",
       "      <td>308.910004</td>\n",
       "      <td>60.000000</td>\n",
       "      <td>85.010002</td>\n",
       "    </tr>\n",
       "  </tbody>\n",
       "</table>\n",
       "<p>1362 rows × 4 columns</p>\n",
       "</div>"
      ],
      "text/plain": [
       "Ticker           AGEN         GLD        SLG         TLT\n",
       "Date                                                    \n",
       "2020-01-02  79.293427  143.949997  61.819767  118.468452\n",
       "2020-01-03  75.760551  145.860001  62.063160  120.292900\n",
       "2020-01-06  74.190384  147.389999  63.022678  119.609810\n",
       "2020-01-07  72.816490  147.970001  62.257843  119.021812\n",
       "2020-01-08  71.638863  146.860001  62.542912  118.234970\n",
       "...               ...         ...        ...         ...\n",
       "2025-05-28   3.020000  303.809998  57.204887   85.043411\n",
       "2025-05-29   3.200000  305.609985  57.852001   85.830482\n",
       "2025-05-30   3.430000  303.600006  56.770000   85.959999\n",
       "2025-06-02   4.130000  311.670013  57.380001   85.160004\n",
       "2025-06-03   5.000000  308.910004  60.000000   85.010002\n",
       "\n",
       "[1362 rows x 4 columns]"
      ]
     },
     "execution_count": 85,
     "metadata": {},
     "output_type": "execute_result"
    }
   ],
   "source": [
    "prices = yf.download(['GLD','AGEN','SLG','TLT'] ,start='2020-01-01')['Close']\n",
    "prices"
   ]
  },
  {
   "cell_type": "code",
   "execution_count": 99,
   "id": "455560d1",
   "metadata": {},
   "outputs": [
    {
     "data": {
      "image/png": "[encoded data removed]",
      "text/plain": [
       "<Figure size 1400x700 with 1 Axes>"
      ]
     },
     "metadata": {},
     "output_type": "display_data"
    }
   ],
   "source": [
    "plt.figure(figsize=(14, 7))\n",
    "plt.hist(prices, label=prices.keys(), density=True, bins=50)\n",
    "plt.xlabel('Price')\n",
    "plt.ylabel('Probability')\n",
    "plt.legend()\n",
    "plt.show()\n"
   ]
  },
  {
   "cell_type": "markdown",
   "id": "c3fcc5c3",
   "metadata": {},
   "source": [
    "---"
   ]
  },
  {
   "cell_type": "markdown",
   "id": "229dcbe4",
   "metadata": {},
   "source": [
    "### Rendimientos"
   ]
  },
  {
   "cell_type": "code",
   "execution_count": 86,
   "id": "792e48df",
   "metadata": {},
   "outputs": [
    {
     "data": {
      "text/plain": [
       "1.0"
      ]
     },
     "execution_count": 86,
     "metadata": {},
     "output_type": "execute_result"
    }
   ],
   "source": [
    "w = np.array([0.20, 0.40, 0.10, 0.30])\n",
    "\n",
    "np.sum(w)"
   ]
  },
  {
   "cell_type": "code",
   "execution_count": 87,
   "id": "add18be9",
   "metadata": {},
   "outputs": [
    {
     "data": {
      "text/html": [
       "<div>\n",
       "<style scoped>\n",
       "    .dataframe tbody tr th:only-of-type {\n",
       "        vertical-align: middle;\n",
       "    }\n",
       "\n",
       "    .dataframe tbody tr th {\n",
       "        vertical-align: top;\n",
       "    }\n",
       "\n",
       "    .dataframe thead th {\n",
       "        text-align: right;\n",
       "    }\n",
       "</style>\n",
       "<table border=\"1\" class=\"dataframe\">\n",
       "  <thead>\n",
       "    <tr style=\"text-align: right;\">\n",
       "      <th>Ticker</th>\n",
       "      <th>AGEN</th>\n",
       "      <th>GLD</th>\n",
       "      <th>SLG</th>\n",
       "      <th>TLT</th>\n",
       "    </tr>\n",
       "    <tr>\n",
       "      <th>Date</th>\n",
       "      <th></th>\n",
       "      <th></th>\n",
       "      <th></th>\n",
       "      <th></th>\n",
       "    </tr>\n",
       "  </thead>\n",
       "  <tbody>\n",
       "    <tr>\n",
       "      <th>2020-01-03</th>\n",
       "      <td>-0.044554</td>\n",
       "      <td>0.013269</td>\n",
       "      <td>0.003937</td>\n",
       "      <td>0.015400</td>\n",
       "    </tr>\n",
       "    <tr>\n",
       "      <th>2020-01-06</th>\n",
       "      <td>-0.020725</td>\n",
       "      <td>0.010490</td>\n",
       "      <td>0.015460</td>\n",
       "      <td>-0.005679</td>\n",
       "    </tr>\n",
       "    <tr>\n",
       "      <th>2020-01-07</th>\n",
       "      <td>-0.018518</td>\n",
       "      <td>0.003935</td>\n",
       "      <td>-0.012136</td>\n",
       "      <td>-0.004916</td>\n",
       "    </tr>\n",
       "    <tr>\n",
       "      <th>2020-01-08</th>\n",
       "      <td>-0.016173</td>\n",
       "      <td>-0.007502</td>\n",
       "      <td>0.004579</td>\n",
       "      <td>-0.006611</td>\n",
       "    </tr>\n",
       "    <tr>\n",
       "      <th>2020-01-09</th>\n",
       "      <td>0.008219</td>\n",
       "      <td>-0.005652</td>\n",
       "      <td>0.004336</td>\n",
       "      <td>0.003510</td>\n",
       "    </tr>\n",
       "  </tbody>\n",
       "</table>\n",
       "</div>"
      ],
      "text/plain": [
       "Ticker          AGEN       GLD       SLG       TLT\n",
       "Date                                              \n",
       "2020-01-03 -0.044554  0.013269  0.003937  0.015400\n",
       "2020-01-06 -0.020725  0.010490  0.015460 -0.005679\n",
       "2020-01-07 -0.018518  0.003935 -0.012136 -0.004916\n",
       "2020-01-08 -0.016173 -0.007502  0.004579 -0.006611\n",
       "2020-01-09  0.008219 -0.005652  0.004336  0.003510"
      ]
     },
     "execution_count": 87,
     "metadata": {},
     "output_type": "execute_result"
    }
   ],
   "source": [
    "returns= prices.pct_change().dropna()\n",
    "returns.head()"
   ]
  },
  {
   "cell_type": "code",
   "execution_count": 88,
   "id": "c3906de9",
   "metadata": {},
   "outputs": [
    {
     "data": {
      "image/png": "[encoded data removed]",
      "text/plain": [
       "<Figure size 1400x700 with 1 Axes>"
      ]
     },
     "metadata": {},
     "output_type": "display_data"
    },
    {
     "data": {
      "image/png": "[encoded data removed]",
      "text/plain": [
       "<Figure size 1400x700 with 1 Axes>"
      ]
     },
     "metadata": {},
     "output_type": "display_data"
    },
    {
     "data": {
      "image/png": "[encoded data removed]",
      "text/plain": [
       "<Figure size 1400x700 with 1 Axes>"
      ]
     },
     "metadata": {},
     "output_type": "display_data"
    },
    {
     "data": {
      "image/png": "[encoded data removed]",
      "text/plain": [
       "<Figure size 1400x700 with 1 Axes>"
      ]
     },
     "metadata": {},
     "output_type": "display_data"
    }
   ],
   "source": [
    "for stock in returns.keys():\n",
    "    plt.figure(figsize=(14, 7))\n",
    "    plt.hist(returns[stock],label=stock, density=True, bins=50)\n",
    "    plt.title(f'Distribución de Returns de {stock}')\n",
    "    plt.xlabel('Returns')\n",
    "    plt.ylabel('Probability')\n",
    "    plt.legend()\n",
    "    plt.show()"
   ]
  },
  {
   "cell_type": "code",
   "execution_count": 100,
   "id": "b3308194",
   "metadata": {},
   "outputs": [
    {
     "data": {
      "image/png": "[encoded data removed]",
      "text/plain": [
       "<Figure size 1400x700 with 1 Axes>"
      ]
     },
     "metadata": {},
     "output_type": "display_data"
    }
   ],
   "source": [
    "plt.figure(figsize=(14, 7))\n",
    "plt.hist(returns, label=returns.keys(), density=True, bins=50)\n",
    "plt.xlabel('Price')\n",
    "plt.ylabel('Probability')\n",
    "plt.legend()\n",
    "plt.show()"
   ]
  },
  {
   "cell_type": "markdown",
   "id": "e065248b",
   "metadata": {},
   "source": [
    "---"
   ]
  },
  {
   "cell_type": "markdown",
   "id": "88a4890a",
   "metadata": {},
   "source": [
    "### Rendimiento Diario"
   ]
  },
  {
   "cell_type": "code",
   "execution_count": 89,
   "id": "2482f634",
   "metadata": {},
   "outputs": [
    {
     "name": "stdout",
     "output_type": "stream",
     "text": [
      "0.019098162873109264 %\n"
     ]
    }
   ],
   "source": [
    "mean= returns.mean()\n",
    "ret_diario= (mean* w).sum()\n",
    "print(ret_diario*100,'%')"
   ]
  },
  {
   "cell_type": "markdown",
   "id": "1bc3419e",
   "metadata": {},
   "source": [
    "### Rendimiento Anual"
   ]
  },
  {
   "cell_type": "code",
   "execution_count": 90,
   "id": "72b56495",
   "metadata": {},
   "outputs": [
    {
     "name": "stdout",
     "output_type": "stream",
     "text": [
      "4.812737044023534 %\n"
     ]
    }
   ],
   "source": [
    "print(ret_diario*252*100,'%')"
   ]
  },
  {
   "cell_type": "markdown",
   "id": "9f41e74c",
   "metadata": {},
   "source": [
    "En este portafolio no se percibe un retorno muy alto, con un rendimiento anual de apenas **4.8127%**, por lo que podría no resultar muy atractivo para el cliente. Sin embargo, es importante analizar otras métricas para evaluar si existe un equilibrio adecuado entre el riesgo y el rendimiento, por lo que se continuará con ese análisis."
   ]
  },
  {
   "cell_type": "markdown",
   "id": "ae937f02",
   "metadata": {},
   "source": [
    "---"
   ]
  },
  {
   "cell_type": "markdown",
   "id": "4bc41c89",
   "metadata": {},
   "source": [
    "### Covarianza"
   ]
  },
  {
   "cell_type": "code",
   "execution_count": 91,
   "id": "493e70bc",
   "metadata": {},
   "outputs": [
    {
     "data": {
      "text/html": [
       "<div>\n",
       "<style scoped>\n",
       "    .dataframe tbody tr th:only-of-type {\n",
       "        vertical-align: middle;\n",
       "    }\n",
       "\n",
       "    .dataframe tbody tr th {\n",
       "        vertical-align: top;\n",
       "    }\n",
       "\n",
       "    .dataframe thead th {\n",
       "        text-align: right;\n",
       "    }\n",
       "</style>\n",
       "<table border=\"1\" class=\"dataframe\">\n",
       "  <thead>\n",
       "    <tr style=\"text-align: right;\">\n",
       "      <th>Ticker</th>\n",
       "      <th>AGEN</th>\n",
       "      <th>GLD</th>\n",
       "      <th>SLG</th>\n",
       "      <th>TLT</th>\n",
       "    </tr>\n",
       "    <tr>\n",
       "      <th>Ticker</th>\n",
       "      <th></th>\n",
       "      <th></th>\n",
       "      <th></th>\n",
       "      <th></th>\n",
       "    </tr>\n",
       "  </thead>\n",
       "  <tbody>\n",
       "    <tr>\n",
       "      <th>AGEN</th>\n",
       "      <td>0.003437</td>\n",
       "      <td>0.000025</td>\n",
       "      <td>0.000357</td>\n",
       "      <td>-0.000010</td>\n",
       "    </tr>\n",
       "    <tr>\n",
       "      <th>GLD</th>\n",
       "      <td>0.000025</td>\n",
       "      <td>0.000102</td>\n",
       "      <td>0.000019</td>\n",
       "      <td>0.000027</td>\n",
       "    </tr>\n",
       "    <tr>\n",
       "      <th>SLG</th>\n",
       "      <td>0.000357</td>\n",
       "      <td>0.000019</td>\n",
       "      <td>0.001109</td>\n",
       "      <td>-0.000018</td>\n",
       "    </tr>\n",
       "    <tr>\n",
       "      <th>TLT</th>\n",
       "      <td>-0.000010</td>\n",
       "      <td>0.000027</td>\n",
       "      <td>-0.000018</td>\n",
       "      <td>0.000124</td>\n",
       "    </tr>\n",
       "  </tbody>\n",
       "</table>\n",
       "</div>"
      ],
      "text/plain": [
       "Ticker      AGEN       GLD       SLG       TLT\n",
       "Ticker                                        \n",
       "AGEN    0.003437  0.000025  0.000357 -0.000010\n",
       "GLD     0.000025  0.000102  0.000019  0.000027\n",
       "SLG     0.000357  0.000019  0.001109 -0.000018\n",
       "TLT    -0.000010  0.000027 -0.000018  0.000124"
      ]
     },
     "execution_count": 91,
     "metadata": {},
     "output_type": "execute_result"
    }
   ],
   "source": [
    "cov = returns.cov()\n",
    "cov"
   ]
  },
  {
   "cell_type": "markdown",
   "id": "503e9cf7",
   "metadata": {},
   "source": [
    "### Varianza Diaria"
   ]
  },
  {
   "cell_type": "code",
   "execution_count": 92,
   "id": "a228afb3",
   "metadata": {},
   "outputs": [
    {
     "name": "stdout",
     "output_type": "stream",
     "text": [
      "Varianza del portafolio diaria es de: 0.0001999045872853875 %\n"
     ]
    }
   ],
   "source": [
    "var_port_diario=w.T @ cov @ w\n",
    "print('Varianza del portafolio diaria es de:',var_port_diario,'%')"
   ]
  },
  {
   "cell_type": "markdown",
   "id": "44c4a08f",
   "metadata": {},
   "source": [
    "### Varianza Anual"
   ]
  },
  {
   "cell_type": "code",
   "execution_count": 93,
   "id": "a7b990d8",
   "metadata": {},
   "outputs": [
    {
     "name": "stdout",
     "output_type": "stream",
     "text": [
      "Varianza del portafolio anual es de: 5.037595599591764 %\n"
     ]
    }
   ],
   "source": [
    "print('Varianza del portafolio anual es de:', var_port_diario*252*100, '%')"
   ]
  },
  {
   "cell_type": "markdown",
   "id": "bfde6243",
   "metadata": {},
   "source": [
    "Con esta varianza anual del **5.0375%**, podemos darnos una idea de cómo será la volatilidad del portafolio. Esto indica que tiene una volatilidad alta, pero queda ver si lo suficiente para estar desiquilibrada con el retorno."
   ]
  },
  {
   "cell_type": "markdown",
   "id": "a3b8b38a",
   "metadata": {},
   "source": [
    "---"
   ]
  },
  {
   "cell_type": "markdown",
   "id": "83668022",
   "metadata": {},
   "source": [
    "### Volatilidad diaria"
   ]
  },
  {
   "cell_type": "code",
   "execution_count": 94,
   "id": "c8c3d999",
   "metadata": {},
   "outputs": [
    {
     "name": "stdout",
     "output_type": "stream",
     "text": [
      "Volatilidad del portafolio diaria es de: 1.4138761872433792 %\n"
     ]
    }
   ],
   "source": [
    "vol_port_diario = np.sqrt(var_port_diario)\n",
    "print('Volatilidad del portafolio diaria es de:', vol_port_diario*100, '%')"
   ]
  },
  {
   "cell_type": "markdown",
   "id": "63bb247d",
   "metadata": {},
   "source": [
    "### Volatilidad Anual"
   ]
  },
  {
   "cell_type": "code",
   "execution_count": 95,
   "id": "895412b3",
   "metadata": {},
   "outputs": [
    {
     "name": "stdout",
     "output_type": "stream",
     "text": [
      "Volatilidad del portafolio anual es de: 22.44458865649305 %\n"
     ]
    }
   ],
   "source": [
    "vol_port_anual= vol_port_diario * np.sqrt(252)\n",
    "print('Volatilidad del portafolio anual es de:', vol_port_anual*100, '%')"
   ]
  },
  {
   "cell_type": "code",
   "execution_count": 96,
   "id": "98977de3",
   "metadata": {},
   "outputs": [
    {
     "name": "stdout",
     "output_type": "stream",
     "text": [
      "Volatilidad ponderada: 46.99005109290874 %\n"
     ]
    }
   ],
   "source": [
    "print('Volatilidad ponderada:',np.sqrt((returns.var()*w).sum()*252)*100, '%')"
   ]
  },
  {
   "cell_type": "markdown",
   "id": "66147691",
   "metadata": {},
   "source": [
    "Con lo dicho anteriormente, se puede observar que el riesgo es alto, con una volatilidad de alrededor del 22.4445% anual. Por eso, podríamos ver si conviene implementar una estrategia para reducir el riesgo, especialmente si el cliente es averso a él. En este caso, creo que se puede aceptar este nivel de riesgo, ya que el portafolio está suficientemente diversificado, lo que ayuda a mitigar un poco las fluctuaciones y a mantener un balance entre riesgo y retorno."
   ]
  },
  {
   "cell_type": "markdown",
   "id": "27d0b0b1",
   "metadata": {},
   "source": [
    "---"
   ]
  },
  {
   "cell_type": "markdown",
   "id": "897e15b2",
   "metadata": {},
   "source": [
    "### Matriz de Correlación"
   ]
  },
  {
   "cell_type": "code",
   "execution_count": 97,
   "id": "bee8c092",
   "metadata": {},
   "outputs": [
    {
     "data": {
      "text/html": [
       "<div>\n",
       "<style scoped>\n",
       "    .dataframe tbody tr th:only-of-type {\n",
       "        vertical-align: middle;\n",
       "    }\n",
       "\n",
       "    .dataframe tbody tr th {\n",
       "        vertical-align: top;\n",
       "    }\n",
       "\n",
       "    .dataframe thead th {\n",
       "        text-align: right;\n",
       "    }\n",
       "</style>\n",
       "<table border=\"1\" class=\"dataframe\">\n",
       "  <thead>\n",
       "    <tr style=\"text-align: right;\">\n",
       "      <th>Ticker</th>\n",
       "      <th>AGEN</th>\n",
       "      <th>GLD</th>\n",
       "      <th>SLG</th>\n",
       "      <th>TLT</th>\n",
       "    </tr>\n",
       "    <tr>\n",
       "      <th>Ticker</th>\n",
       "      <th></th>\n",
       "      <th></th>\n",
       "      <th></th>\n",
       "      <th></th>\n",
       "    </tr>\n",
       "  </thead>\n",
       "  <tbody>\n",
       "    <tr>\n",
       "      <th>AGEN</th>\n",
       "      <td>1.000000</td>\n",
       "      <td>0.041920</td>\n",
       "      <td>0.182631</td>\n",
       "      <td>-0.015569</td>\n",
       "    </tr>\n",
       "    <tr>\n",
       "      <th>GLD</th>\n",
       "      <td>0.041920</td>\n",
       "      <td>1.000000</td>\n",
       "      <td>0.057358</td>\n",
       "      <td>0.239632</td>\n",
       "    </tr>\n",
       "    <tr>\n",
       "      <th>SLG</th>\n",
       "      <td>0.182631</td>\n",
       "      <td>0.057358</td>\n",
       "      <td>1.000000</td>\n",
       "      <td>-0.049771</td>\n",
       "    </tr>\n",
       "    <tr>\n",
       "      <th>TLT</th>\n",
       "      <td>-0.015569</td>\n",
       "      <td>0.239632</td>\n",
       "      <td>-0.049771</td>\n",
       "      <td>1.000000</td>\n",
       "    </tr>\n",
       "  </tbody>\n",
       "</table>\n",
       "</div>"
      ],
      "text/plain": [
       "Ticker      AGEN       GLD       SLG       TLT\n",
       "Ticker                                        \n",
       "AGEN    1.000000  0.041920  0.182631 -0.015569\n",
       "GLD     0.041920  1.000000  0.057358  0.239632\n",
       "SLG     0.182631  0.057358  1.000000 -0.049771\n",
       "TLT    -0.015569  0.239632 -0.049771  1.000000"
      ]
     },
     "execution_count": 97,
     "metadata": {},
     "output_type": "execute_result"
    }
   ],
   "source": [
    "returns.corr()"
   ]
  },
  {
   "cell_type": "code",
   "execution_count": 98,
   "id": "1bfb93fb",
   "metadata": {},
   "outputs": [
    {
     "data": {
      "text/plain": [
       "0.45619800000000005"
      ]
     },
     "execution_count": 98,
     "metadata": {},
     "output_type": "execute_result"
    }
   ],
   "source": [
    "sum_corr= 0.041920+0.182631-0.015570+0.239632+0.057358-0.049773\t\t\n",
    "sum_corr"
   ]
  },
  {
   "cell_type": "markdown",
   "id": "5b795088",
   "metadata": {},
   "source": [
    "La matriz muestra que este portafolio está bien diversificado en cuanto a la correlación ya que tiene un 0.4561 de correlación y esto se debe a que loss activos tienen baja correlación entre sí. Esto ayuda a que la volatilidad y el riesgo total del portafolio sean menores, sin dejar de lado la posibilidad de obtener un buen rendimiento."
   ]
  },
  {
   "cell_type": "markdown",
   "id": "3fa60d40",
   "metadata": {},
   "source": [
    "---"
   ]
  },
  {
   "cell_type": "markdown",
   "id": "c6691104",
   "metadata": {},
   "source": [
    "### Conclusión"
   ]
  },
  {
   "cell_type": "markdown",
   "id": "f7c2e951",
   "metadata": {},
   "source": [
    "En conclusión, este portafolio puede resultar muy riesgoso y poco atractivo para alguien con aversión al riesgo. Sin embargo, al analizar la matriz de correlación, se observa que los cuatro activos están bien diversificados, ya que presentan baja correlación entre sí. Esto ayuda a reducir la volatilidad y el riesgo total del portafolio, lo que favorece un buen rendimiento.\n",
    "\n",
    "Para otros clientes, este equilibrio entre riesgo y rendimiento puede resultar atractivo, gracias a la diversificación lograda. Además, debido a los pesos asignados a cada activo, el portafolio podría mejorar aún más, manteniéndose como una opción equilibrada.\n",
    "\n",
    "Sumando todo lo anterior, podemos afirmar que el portafolio logró un rendimiento muy bueno y, gracias a la diversificación reflejada en la matriz, existe la posibilidad de reducir aún más el riesgo si se aplican otras estrategias."
   ]
  }
 ],
 "metadata": {
  "kernelspec": {
   "display_name": "Python 3",
   "language": "python",
   "name": "python3"
  },
  "language_info": {
   "codemirror_mode": {
    "name": "ipython",
    "version": 3
   },
   "file_extension": ".py",
   "mimetype": "text/x-python",
   "name": "python",
   "nbconvert_exporter": "python",
   "pygments_lexer": "ipython3",
   "version": "3.12.8"
  }
 },
 "nbformat": 4,
 "nbformat_minor": 5
}
