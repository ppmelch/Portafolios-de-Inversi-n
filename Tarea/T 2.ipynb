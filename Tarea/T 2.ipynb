{
 "cells": [
  {
   "cell_type": "markdown",
   "id": "5f875208",
   "metadata": {},
   "source": [
    "# Portafolios de Inversión\n",
    "## Tarea 2 \n",
    "\n",
    "### Equipo\n",
    "- José Armando Melchor Soto\n",
    "- José Rodrigo Santillan \n",
    "---"
   ]
  },
  {
   "cell_type": "markdown",
   "id": "7747b66c",
   "metadata": {},
   "source": [
    "### Librerías "
   ]
  },
  {
   "cell_type": "code",
   "execution_count": 3,
   "id": "7851e339",
   "metadata": {},
   "outputs": [],
   "source": [
    "import pandas as pd \n",
    "import numpy as np\n",
    "import yfinance as yf\n",
    "import matplotlib.pyplot as plt"
   ]
  },
  {
   "cell_type": "markdown",
   "id": "7efae0a8",
   "metadata": {},
   "source": [
    "---"
   ]
  },
  {
   "cell_type": "markdown",
   "id": "f57ab53b",
   "metadata": {},
   "source": [
    "### Activos\n",
    "- \n",
    "-\n",
    "-\n"
   ]
  },
  {
   "cell_type": "markdown",
   "id": "a69b7e9c",
   "metadata": {},
   "source": [
    "---"
   ]
  },
  {
   "cell_type": "markdown",
   "id": "7f6267f8",
   "metadata": {},
   "source": [
    "### Importación de los datos"
   ]
  },
  {
   "cell_type": "code",
   "execution_count": 10,
   "id": "52654b83",
   "metadata": {},
   "outputs": [
    {
     "name": "stderr",
     "output_type": "stream",
     "text": [
      "[*********************100%***********************]  3 of 3 completed\n"
     ]
    },
    {
     "data": {
      "text/html": [
       "<div>\n",
       "<style scoped>\n",
       "    .dataframe tbody tr th:only-of-type {\n",
       "        vertical-align: middle;\n",
       "    }\n",
       "\n",
       "    .dataframe tbody tr th {\n",
       "        vertical-align: top;\n",
       "    }\n",
       "\n",
       "    .dataframe thead th {\n",
       "        text-align: right;\n",
       "    }\n",
       "</style>\n",
       "<table border=\"1\" class=\"dataframe\">\n",
       "  <thead>\n",
       "    <tr style=\"text-align: right;\">\n",
       "      <th>Ticker</th>\n",
       "      <th>IGF</th>\n",
       "      <th>PSP</th>\n",
       "      <th>VT</th>\n",
       "    </tr>\n",
       "    <tr>\n",
       "      <th>Date</th>\n",
       "      <th></th>\n",
       "      <th></th>\n",
       "      <th></th>\n",
       "    </tr>\n",
       "  </thead>\n",
       "  <tbody>\n",
       "    <tr>\n",
       "      <th>2020-01-02</th>\n",
       "      <td>41.558788</td>\n",
       "      <td>47.370411</td>\n",
       "      <td>73.599518</td>\n",
       "    </tr>\n",
       "    <tr>\n",
       "      <th>2020-01-03</th>\n",
       "      <td>41.298077</td>\n",
       "      <td>47.112160</td>\n",
       "      <td>72.933800</td>\n",
       "    </tr>\n",
       "    <tr>\n",
       "      <th>2020-01-06</th>\n",
       "      <td>41.437126</td>\n",
       "      <td>47.038383</td>\n",
       "      <td>73.203674</td>\n",
       "    </tr>\n",
       "    <tr>\n",
       "      <th>2020-01-07</th>\n",
       "      <td>41.332836</td>\n",
       "      <td>46.964603</td>\n",
       "      <td>72.978783</td>\n",
       "    </tr>\n",
       "    <tr>\n",
       "      <th>2020-01-08</th>\n",
       "      <td>41.524033</td>\n",
       "      <td>47.038383</td>\n",
       "      <td>73.275650</td>\n",
       "    </tr>\n",
       "    <tr>\n",
       "      <th>...</th>\n",
       "      <td>...</td>\n",
       "      <td>...</td>\n",
       "      <td>...</td>\n",
       "    </tr>\n",
       "    <tr>\n",
       "      <th>2025-05-28</th>\n",
       "      <td>58.389999</td>\n",
       "      <td>66.489998</td>\n",
       "      <td>123.040001</td>\n",
       "    </tr>\n",
       "    <tr>\n",
       "      <th>2025-05-29</th>\n",
       "      <td>58.709999</td>\n",
       "      <td>66.739998</td>\n",
       "      <td>123.540001</td>\n",
       "    </tr>\n",
       "    <tr>\n",
       "      <th>2025-05-30</th>\n",
       "      <td>59.000000</td>\n",
       "      <td>66.470001</td>\n",
       "      <td>123.370003</td>\n",
       "    </tr>\n",
       "    <tr>\n",
       "      <th>2025-06-02</th>\n",
       "      <td>59.639999</td>\n",
       "      <td>66.459999</td>\n",
       "      <td>124.190002</td>\n",
       "    </tr>\n",
       "    <tr>\n",
       "      <th>2025-06-03</th>\n",
       "      <td>59.419998</td>\n",
       "      <td>66.439598</td>\n",
       "      <td>124.510002</td>\n",
       "    </tr>\n",
       "  </tbody>\n",
       "</table>\n",
       "<p>1362 rows × 3 columns</p>\n",
       "</div>"
      ],
      "text/plain": [
       "Ticker            IGF        PSP          VT\n",
       "Date                                        \n",
       "2020-01-02  41.558788  47.370411   73.599518\n",
       "2020-01-03  41.298077  47.112160   72.933800\n",
       "2020-01-06  41.437126  47.038383   73.203674\n",
       "2020-01-07  41.332836  46.964603   72.978783\n",
       "2020-01-08  41.524033  47.038383   73.275650\n",
       "...               ...        ...         ...\n",
       "2025-05-28  58.389999  66.489998  123.040001\n",
       "2025-05-29  58.709999  66.739998  123.540001\n",
       "2025-05-30  59.000000  66.470001  123.370003\n",
       "2025-06-02  59.639999  66.459999  124.190002\n",
       "2025-06-03  59.419998  66.439598  124.510002\n",
       "\n",
       "[1362 rows x 3 columns]"
      ]
     },
     "execution_count": 10,
     "metadata": {},
     "output_type": "execute_result"
    }
   ],
   "source": [
    "prices = yf.download(['VT','IGF','PSP'] ,start='2020-01-01')['Close']\n",
    "prices"
   ]
  },
  {
   "cell_type": "markdown",
   "id": "c3fcc5c3",
   "metadata": {},
   "source": [
    "---"
   ]
  },
  {
   "cell_type": "markdown",
   "id": "229dcbe4",
   "metadata": {},
   "source": [
    "### Rendimientos"
   ]
  },
  {
   "cell_type": "code",
   "execution_count": 15,
   "id": "792e48df",
   "metadata": {},
   "outputs": [],
   "source": [
    "w= np.array([0.25, 0.35, 0.4])  "
   ]
  },
  {
   "cell_type": "code",
   "execution_count": 6,
   "id": "add18be9",
   "metadata": {},
   "outputs": [
    {
     "data": {
      "text/html": [
       "<div>\n",
       "<style scoped>\n",
       "    .dataframe tbody tr th:only-of-type {\n",
       "        vertical-align: middle;\n",
       "    }\n",
       "\n",
       "    .dataframe tbody tr th {\n",
       "        vertical-align: top;\n",
       "    }\n",
       "\n",
       "    .dataframe thead th {\n",
       "        text-align: right;\n",
       "    }\n",
       "</style>\n",
       "<table border=\"1\" class=\"dataframe\">\n",
       "  <thead>\n",
       "    <tr style=\"text-align: right;\">\n",
       "      <th>Ticker</th>\n",
       "      <th>IGF</th>\n",
       "      <th>PSP</th>\n",
       "      <th>VT</th>\n",
       "    </tr>\n",
       "    <tr>\n",
       "      <th>Date</th>\n",
       "      <th></th>\n",
       "      <th></th>\n",
       "      <th></th>\n",
       "    </tr>\n",
       "  </thead>\n",
       "  <tbody>\n",
       "    <tr>\n",
       "      <th>2020-01-03</th>\n",
       "      <td>-0.006273</td>\n",
       "      <td>-0.005452</td>\n",
       "      <td>-0.009046</td>\n",
       "    </tr>\n",
       "    <tr>\n",
       "      <th>2020-01-06</th>\n",
       "      <td>0.003367</td>\n",
       "      <td>-0.001566</td>\n",
       "      <td>0.003701</td>\n",
       "    </tr>\n",
       "    <tr>\n",
       "      <th>2020-01-07</th>\n",
       "      <td>-0.002517</td>\n",
       "      <td>-0.001569</td>\n",
       "      <td>-0.003072</td>\n",
       "    </tr>\n",
       "    <tr>\n",
       "      <th>2020-01-08</th>\n",
       "      <td>0.004626</td>\n",
       "      <td>0.001571</td>\n",
       "      <td>0.004068</td>\n",
       "    </tr>\n",
       "    <tr>\n",
       "      <th>2020-01-09</th>\n",
       "      <td>0.001674</td>\n",
       "      <td>0.004706</td>\n",
       "      <td>0.004911</td>\n",
       "    </tr>\n",
       "  </tbody>\n",
       "</table>\n",
       "</div>"
      ],
      "text/plain": [
       "Ticker           IGF       PSP        VT\n",
       "Date                                    \n",
       "2020-01-03 -0.006273 -0.005452 -0.009046\n",
       "2020-01-06  0.003367 -0.001566  0.003701\n",
       "2020-01-07 -0.002517 -0.001569 -0.003072\n",
       "2020-01-08  0.004626  0.001571  0.004068\n",
       "2020-01-09  0.001674  0.004706  0.004911"
      ]
     },
     "execution_count": 6,
     "metadata": {},
     "output_type": "execute_result"
    }
   ],
   "source": [
    "returns= prices.pct_change().dropna()\n",
    "returns.head()"
   ]
  },
  {
   "cell_type": "markdown",
   "id": "e065248b",
   "metadata": {},
   "source": [
    "---"
   ]
  },
  {
   "cell_type": "markdown",
   "id": "88a4890a",
   "metadata": {},
   "source": [
    "### Rendimiento Diario"
   ]
  },
  {
   "cell_type": "code",
   "execution_count": null,
   "id": "2482f634",
   "metadata": {},
   "outputs": [
    {
     "name": "stdout",
     "output_type": "stream",
     "text": [
      "0.041393030093169275 %\n"
     ]
    }
   ],
   "source": [
    "mean= returns.mean()\n",
    "ret_diario= (mean* w).sum()\n",
    "print(ret_diario*100,'%')"
   ]
  },
  {
   "cell_type": "markdown",
   "id": "1bc3419e",
   "metadata": {},
   "source": [
    "### Rendimiento Anual"
   ]
  },
  {
   "cell_type": "code",
   "execution_count": 21,
   "id": "72b56495",
   "metadata": {},
   "outputs": [
    {
     "name": "stdout",
     "output_type": "stream",
     "text": [
      "10.431043583478656 %\n"
     ]
    }
   ],
   "source": [
    "print(ret_diario*252*100,'%')"
   ]
  },
  {
   "cell_type": "markdown",
   "id": "ae937f02",
   "metadata": {},
   "source": [
    "---"
   ]
  },
  {
   "cell_type": "markdown",
   "id": "4bc41c89",
   "metadata": {},
   "source": [
    "### Covarianza"
   ]
  },
  {
   "cell_type": "code",
   "execution_count": 23,
   "id": "493e70bc",
   "metadata": {},
   "outputs": [
    {
     "data": {
      "text/html": [
       "<div>\n",
       "<style scoped>\n",
       "    .dataframe tbody tr th:only-of-type {\n",
       "        vertical-align: middle;\n",
       "    }\n",
       "\n",
       "    .dataframe tbody tr th {\n",
       "        vertical-align: top;\n",
       "    }\n",
       "\n",
       "    .dataframe thead th {\n",
       "        text-align: right;\n",
       "    }\n",
       "</style>\n",
       "<table border=\"1\" class=\"dataframe\">\n",
       "  <thead>\n",
       "    <tr style=\"text-align: right;\">\n",
       "      <th>Ticker</th>\n",
       "      <th>IGF</th>\n",
       "      <th>PSP</th>\n",
       "      <th>VT</th>\n",
       "    </tr>\n",
       "    <tr>\n",
       "      <th>Ticker</th>\n",
       "      <th></th>\n",
       "      <th></th>\n",
       "      <th></th>\n",
       "    </tr>\n",
       "  </thead>\n",
       "  <tbody>\n",
       "    <tr>\n",
       "      <th>IGF</th>\n",
       "      <td>0.000169</td>\n",
       "      <td>0.000171</td>\n",
       "      <td>0.000143</td>\n",
       "    </tr>\n",
       "    <tr>\n",
       "      <th>PSP</th>\n",
       "      <td>0.000171</td>\n",
       "      <td>0.000294</td>\n",
       "      <td>0.000197</td>\n",
       "    </tr>\n",
       "    <tr>\n",
       "      <th>VT</th>\n",
       "      <td>0.000143</td>\n",
       "      <td>0.000197</td>\n",
       "      <td>0.000167</td>\n",
       "    </tr>\n",
       "  </tbody>\n",
       "</table>\n",
       "</div>"
      ],
      "text/plain": [
       "Ticker       IGF       PSP        VT\n",
       "Ticker                              \n",
       "IGF     0.000169  0.000171  0.000143\n",
       "PSP     0.000171  0.000294  0.000197\n",
       "VT      0.000143  0.000197  0.000167"
      ]
     },
     "execution_count": 23,
     "metadata": {},
     "output_type": "execute_result"
    }
   ],
   "source": [
    "cov = returns.cov()\n",
    "cov"
   ]
  },
  {
   "cell_type": "markdown",
   "id": "0b3e4e6f",
   "metadata": {},
   "source": [
    "---"
   ]
  },
  {
   "cell_type": "markdown",
   "id": "503e9cf7",
   "metadata": {},
   "source": [
    "### Varianza Diaria"
   ]
  },
  {
   "cell_type": "code",
   "execution_count": 25,
   "id": "a228afb3",
   "metadata": {},
   "outputs": [
    {
     "name": "stdout",
     "output_type": "stream",
     "text": [
      "Varianza del portafolio diaria es de: 0.00018679561223672645 %\n"
     ]
    }
   ],
   "source": [
    "var_port_diario=w.T @ cov @ w\n",
    "print('Varianza del portafolio diaria es de:',var_port_diario,'%')"
   ]
  },
  {
   "cell_type": "markdown",
   "id": "44c4a08f",
   "metadata": {},
   "source": [
    "### Varianza Anual"
   ]
  },
  {
   "cell_type": "code",
   "execution_count": 26,
   "id": "a7b990d8",
   "metadata": {},
   "outputs": [
    {
     "name": "stdout",
     "output_type": "stream",
     "text": [
      "Varianza del portafolio anual es de: 4.707249428365507 %\n"
     ]
    }
   ],
   "source": [
    "print('Varianza del portafolio anual es de:', var_port_diario*252*100, '%')"
   ]
  },
  {
   "cell_type": "markdown",
   "id": "a3b8b38a",
   "metadata": {},
   "source": [
    "---"
   ]
  },
  {
   "cell_type": "markdown",
   "id": "83668022",
   "metadata": {},
   "source": [
    "### Volatilidad diaria"
   ]
  },
  {
   "cell_type": "code",
   "execution_count": 27,
   "id": "c8c3d999",
   "metadata": {},
   "outputs": [
    {
     "name": "stdout",
     "output_type": "stream",
     "text": [
      "Volatilidad del portafolio diaria es de: 1.3667319131297346 %\n"
     ]
    }
   ],
   "source": [
    "vol_port_diario = np.sqrt(var_port_diario)\n",
    "print('Volatilidad del portafolio diaria es de:', vol_port_diario*100, '%')"
   ]
  },
  {
   "cell_type": "markdown",
   "id": "63bb247d",
   "metadata": {},
   "source": [
    "### Volatilidad Anual"
   ]
  },
  {
   "cell_type": "code",
   "execution_count": 28,
   "id": "895412b3",
   "metadata": {},
   "outputs": [
    {
     "name": "stdout",
     "output_type": "stream",
     "text": [
      "Volatilidad del portafolio anual es de: 21.696196506220872 %\n"
     ]
    }
   ],
   "source": [
    "vol_port_anual= vol_port_diario * np.sqrt(252)\n",
    "print('Volatilidad del portafolio anual es de:', vol_port_anual*100, '%')"
   ]
  },
  {
   "cell_type": "code",
   "execution_count": 31,
   "id": "98977de3",
   "metadata": {},
   "outputs": [
    {
     "name": "stdout",
     "output_type": "stream",
     "text": [
      "Volatilidad ponderada 23.101801066031765 %\n"
     ]
    }
   ],
   "source": [
    "print('Volatilidad ponderada',np.sqrt((returns.var()*w).sum()*252)*100, '%')"
   ]
  },
  {
   "cell_type": "markdown",
   "id": "27d0b0b1",
   "metadata": {},
   "source": [
    "---"
   ]
  },
  {
   "cell_type": "markdown",
   "id": "897e15b2",
   "metadata": {},
   "source": [
    "### Matriz de Correlación"
   ]
  },
  {
   "cell_type": "code",
   "execution_count": 32,
   "id": "bee8c092",
   "metadata": {},
   "outputs": [
    {
     "data": {
      "text/html": [
       "<div>\n",
       "<style scoped>\n",
       "    .dataframe tbody tr th:only-of-type {\n",
       "        vertical-align: middle;\n",
       "    }\n",
       "\n",
       "    .dataframe tbody tr th {\n",
       "        vertical-align: top;\n",
       "    }\n",
       "\n",
       "    .dataframe thead th {\n",
       "        text-align: right;\n",
       "    }\n",
       "</style>\n",
       "<table border=\"1\" class=\"dataframe\">\n",
       "  <thead>\n",
       "    <tr style=\"text-align: right;\">\n",
       "      <th>Ticker</th>\n",
       "      <th>IGF</th>\n",
       "      <th>PSP</th>\n",
       "      <th>VT</th>\n",
       "    </tr>\n",
       "    <tr>\n",
       "      <th>Ticker</th>\n",
       "      <th></th>\n",
       "      <th></th>\n",
       "      <th></th>\n",
       "    </tr>\n",
       "  </thead>\n",
       "  <tbody>\n",
       "    <tr>\n",
       "      <th>IGF</th>\n",
       "      <td>1.000000</td>\n",
       "      <td>0.765711</td>\n",
       "      <td>0.852470</td>\n",
       "    </tr>\n",
       "    <tr>\n",
       "      <th>PSP</th>\n",
       "      <td>0.765711</td>\n",
       "      <td>1.000000</td>\n",
       "      <td>0.888533</td>\n",
       "    </tr>\n",
       "    <tr>\n",
       "      <th>VT</th>\n",
       "      <td>0.852470</td>\n",
       "      <td>0.888533</td>\n",
       "      <td>1.000000</td>\n",
       "    </tr>\n",
       "  </tbody>\n",
       "</table>\n",
       "</div>"
      ],
      "text/plain": [
       "Ticker       IGF       PSP        VT\n",
       "Ticker                              \n",
       "IGF     1.000000  0.765711  0.852470\n",
       "PSP     0.765711  1.000000  0.888533\n",
       "VT      0.852470  0.888533  1.000000"
      ]
     },
     "execution_count": 32,
     "metadata": {},
     "output_type": "execute_result"
    }
   ],
   "source": [
    "returns.corr()"
   ]
  },
  {
   "cell_type": "markdown",
   "id": "960ae092",
   "metadata": {},
   "source": [
    "###"
   ]
  }
 ],
 "metadata": {
  "kernelspec": {
   "display_name": "Python 3",
   "language": "python",
   "name": "python3"
  },
  "language_info": {
   "codemirror_mode": {
    "name": "ipython",
    "version": 3
   },
   "file_extension": ".py",
   "mimetype": "text/x-python",
   "name": "python",
   "nbconvert_exporter": "python",
   "pygments_lexer": "ipython3",
   "version": "3.12.8"
  }
 },
 "nbformat": 4,
 "nbformat_minor": 5
}
