{
 "cells": [
  {
   "cell_type": "markdown",
   "id": "5f875208",
   "metadata": {},
   "source": [
    "# Portafolios de Inversión\n",
    "## Tarea 2 \n",
    "\n",
    "### Equipo\n",
    "- José Armando Melchor Soto\n",
    "- José Rodrigo Santillan \n",
    "---"
   ]
  },
  {
   "cell_type": "markdown",
   "id": "1b317f64",
   "metadata": {},
   "source": [
    "### Investigación sobre los activos"
   ]
  },
  {
   "cell_type": "markdown",
   "id": "f57ab53b",
   "metadata": {},
   "source": [
    "### Activos\n",
    "\n",
    "- **GLD**: \n",
    "    - El fondo GLD es un ETF que busca reflejar lo más fielmente posible el precio del oro físico. A diferencia de otros instrumentos relacionados con este metal, no apuesta por acciones de empresas mineras ni por derivados financieros, en vez de eso cada acción del fondo representa una pequeña parte de oro real, almacenado de forma segura en bóvedas. La principal ventaja de GLD es que permite invertir en oro sin tener que comprar lingotes ni preocuparse por dónde guardarlos, lo que es una manera accesible y práctica de aprovechar los cambios de precio.\n",
    "\n",
    "    - Este fondo se considera parte del grupo de materias primas, y específicamente está centrado en el oro, por esa razón, muchos inversionistas lo usan como una forma de resguardar su dinero en tiempos de incertidumbre económica o cuando hay temor a la inflación, ya que el oro tiende a conservar su valor cuando otros activos pierden estabilidad.\n",
    "\n",
    "- **AGEN**:\n",
    "    - Esta es una compañía biotecnológica enfocada en el desarrollo de inmunoterapias para el tratamiento del cáncer. Su portafolio incluye vacunas terapéuticas, anticuerpos monoclonales y plataformas destinadas a modular la respuesta inmune contra tumores. Pertenece al sector económico de Healthcare, específicamente dentro de la industria de Biotecnología Oncológica.\n",
    "\n",
    "- **SOC**: \n",
    "    - Este es un fideicomiso de inversión inmobiliaria (REIT) que posee, administra y opera hoteles de servicio completo en diversas regiones de Estados Unidos. Su actividad se concentra en el sector económico de Real Estate, dentro de la industria específica de Hotel & Resort REITs, la cual está estrechamente ligada al desempeño del sector turístico y del consumo.\n",
    "\n",
    "- **TLT**:\n",
    "    -   El fondo TLT es un ETF que invierte en bonos del Tesoro de Estados Unidos con vencimientos a largo plazo, es decir, mayores a 20 años. Básicamente, al comprar este fondo se está accediendo a una colección de bonos considerados de bajo riesgo, ya que están respaldados por el gobierno de EUA. \n",
    "\n",
    "    - El propósito de TLT es ofrecer a los inversionistas una forma sencilla de obtener rendimientos ligados a la renta fija, sin necesidad de comprar los bonos directamente. \n",
    "    - Su comportamiento suele estar muy relacionado con las tasas de interés: cuando las tasas bajan, el valor de estos bonos tiende a subir, y viceversa. Al ser un fondo de renta fija, se le considera una opción defensiva dentro de un portafolio y muchos lo utilizan como una forma de protegerse cuando los mercados de acciones se vuelven volátiles o cuando se anticipa una recesión, ya que en esos escenarios los bonos de largo plazo suelen ganar valor.\n"
   ]
  },
  {
   "cell_type": "markdown",
   "id": "4e89376e",
   "metadata": {},
   "source": [
    "#### Bibliografía\n",
    "\n",
    "- **GLD**\n",
    "    - What is the GLD? - Bullion vs ETFs | BullionByPost. (n.d.). https://www.bullionbypost.eu/index/gold/what-is-the-gld-bullion-vs-etfs/\n",
    "    - GLD. (n.d.). https://www.thinkmarkets.com/latam/gld/\n",
    "\n",
    "- **AGEN**\n",
    "    - Agenus Inc. (AGEN) stock price, news, quote & history - Yahoo Finance. (n.d.). Yahoo Finance. https://finance.yahoo.com/quote/AGEN/\n",
    "    - Agenus Inc - company profile and news. (n.d.). Bloomberg.com. https://www.bloomberg.com/profile/company/AGEN:US\n",
    "\n",
    "- **SOC**\n",
    "    - Sotherly Hotels Inc. (SOHO) Company Profile & Facts - Yahoo Finance. (n.d.). Yahoo Finance. https://finance.yahoo.com/quote/SOHO/profile/\n",
    "\n",
    "- **TLT**\n",
    "    - https://www.blackrock.com/cl/literature/fact-sheet/tlt-ishares-20-year-treasury-bond-etf-fund-fact-sheet-es-lm.pdf"
   ]
  },
  {
   "cell_type": "markdown",
   "id": "a69b7e9c",
   "metadata": {},
   "source": [
    "---"
   ]
  },
  {
   "cell_type": "markdown",
   "id": "10e018f0",
   "metadata": {},
   "source": [
    "### Librerías "
   ]
  },
  {
   "cell_type": "code",
   "execution_count": 373,
   "id": "7851e339",
   "metadata": {},
   "outputs": [],
   "source": [
    "import pandas as pd \n",
    "import numpy as np\n",
    "import yfinance as yf\n",
    "import matplotlib.pyplot as plt"
   ]
  },
  {
   "cell_type": "markdown",
   "id": "9351856f",
   "metadata": {},
   "source": [
    "---"
   ]
  },
  {
   "cell_type": "markdown",
   "id": "7f6267f8",
   "metadata": {},
   "source": [
    "### Importación de los datos"
   ]
  },
  {
   "cell_type": "code",
   "execution_count": 374,
   "id": "52654b83",
   "metadata": {},
   "outputs": [
    {
     "name": "stderr",
     "output_type": "stream",
     "text": [
      "[*********************100%***********************]  4 of 4 completed\n"
     ]
    },
    {
     "data": {
      "text/html": [
       "<div>\n",
       "<style scoped>\n",
       "    .dataframe tbody tr th:only-of-type {\n",
       "        vertical-align: middle;\n",
       "    }\n",
       "\n",
       "    .dataframe tbody tr th {\n",
       "        vertical-align: top;\n",
       "    }\n",
       "\n",
       "    .dataframe thead th {\n",
       "        text-align: right;\n",
       "    }\n",
       "</style>\n",
       "<table border=\"1\" class=\"dataframe\">\n",
       "  <thead>\n",
       "    <tr style=\"text-align: right;\">\n",
       "      <th>Ticker</th>\n",
       "      <th>AGEN</th>\n",
       "      <th>GLD</th>\n",
       "      <th>SOC</th>\n",
       "      <th>TLT</th>\n",
       "    </tr>\n",
       "    <tr>\n",
       "      <th>Date</th>\n",
       "      <th></th>\n",
       "      <th></th>\n",
       "      <th></th>\n",
       "      <th></th>\n",
       "    </tr>\n",
       "  </thead>\n",
       "  <tbody>\n",
       "    <tr>\n",
       "      <th>2023-01-03</th>\n",
       "      <td>47.105003</td>\n",
       "      <td>171.059998</td>\n",
       "      <td>10.080000</td>\n",
       "      <td>92.533752</td>\n",
       "    </tr>\n",
       "    <tr>\n",
       "      <th>2023-01-04</th>\n",
       "      <td>49.460255</td>\n",
       "      <td>172.669998</td>\n",
       "      <td>10.050000</td>\n",
       "      <td>93.801468</td>\n",
       "    </tr>\n",
       "    <tr>\n",
       "      <th>2023-01-05</th>\n",
       "      <td>48.086357</td>\n",
       "      <td>170.520004</td>\n",
       "      <td>10.055000</td>\n",
       "      <td>94.193657</td>\n",
       "    </tr>\n",
       "    <tr>\n",
       "      <th>2023-01-06</th>\n",
       "      <td>47.105003</td>\n",
       "      <td>173.710007</td>\n",
       "      <td>10.055000</td>\n",
       "      <td>95.926498</td>\n",
       "    </tr>\n",
       "    <tr>\n",
       "      <th>2023-01-09</th>\n",
       "      <td>46.516193</td>\n",
       "      <td>174.100006</td>\n",
       "      <td>10.050000</td>\n",
       "      <td>96.437218</td>\n",
       "    </tr>\n",
       "    <tr>\n",
       "      <th>...</th>\n",
       "      <td>...</td>\n",
       "      <td>...</td>\n",
       "      <td>...</td>\n",
       "      <td>...</td>\n",
       "    </tr>\n",
       "    <tr>\n",
       "      <th>2025-05-28</th>\n",
       "      <td>3.020000</td>\n",
       "      <td>303.809998</td>\n",
       "      <td>27.889999</td>\n",
       "      <td>85.043411</td>\n",
       "    </tr>\n",
       "    <tr>\n",
       "      <th>2025-05-29</th>\n",
       "      <td>3.200000</td>\n",
       "      <td>305.609985</td>\n",
       "      <td>27.510000</td>\n",
       "      <td>85.830482</td>\n",
       "    </tr>\n",
       "    <tr>\n",
       "      <th>2025-05-30</th>\n",
       "      <td>3.430000</td>\n",
       "      <td>303.600006</td>\n",
       "      <td>28.780001</td>\n",
       "      <td>85.959999</td>\n",
       "    </tr>\n",
       "    <tr>\n",
       "      <th>2025-06-02</th>\n",
       "      <td>4.130000</td>\n",
       "      <td>311.670013</td>\n",
       "      <td>29.180000</td>\n",
       "      <td>85.160004</td>\n",
       "    </tr>\n",
       "    <tr>\n",
       "      <th>2025-06-03</th>\n",
       "      <td>5.000000</td>\n",
       "      <td>308.910004</td>\n",
       "      <td>24.040001</td>\n",
       "      <td>85.010002</td>\n",
       "    </tr>\n",
       "  </tbody>\n",
       "</table>\n",
       "<p>606 rows × 4 columns</p>\n",
       "</div>"
      ],
      "text/plain": [
       "Ticker           AGEN         GLD        SOC        TLT\n",
       "Date                                                   \n",
       "2023-01-03  47.105003  171.059998  10.080000  92.533752\n",
       "2023-01-04  49.460255  172.669998  10.050000  93.801468\n",
       "2023-01-05  48.086357  170.520004  10.055000  94.193657\n",
       "2023-01-06  47.105003  173.710007  10.055000  95.926498\n",
       "2023-01-09  46.516193  174.100006  10.050000  96.437218\n",
       "...               ...         ...        ...        ...\n",
       "2025-05-28   3.020000  303.809998  27.889999  85.043411\n",
       "2025-05-29   3.200000  305.609985  27.510000  85.830482\n",
       "2025-05-30   3.430000  303.600006  28.780001  85.959999\n",
       "2025-06-02   4.130000  311.670013  29.180000  85.160004\n",
       "2025-06-03   5.000000  308.910004  24.040001  85.010002\n",
       "\n",
       "[606 rows x 4 columns]"
      ]
     },
     "execution_count": 374,
     "metadata": {},
     "output_type": "execute_result"
    }
   ],
   "source": [
    "prices = yf.download(['GLD','AGEN','SOC','TLT'] ,start='2023-01-01')['Close']\n",
    "prices"
   ]
  },
  {
   "cell_type": "markdown",
   "id": "c3fcc5c3",
   "metadata": {},
   "source": [
    "---"
   ]
  },
  {
   "cell_type": "markdown",
   "id": "229dcbe4",
   "metadata": {},
   "source": [
    "### Rendimientos"
   ]
  },
  {
   "cell_type": "code",
   "execution_count": 375,
   "id": "792e48df",
   "metadata": {},
   "outputs": [
    {
     "data": {
      "text/plain": [
       "1.0"
      ]
     },
     "execution_count": 375,
     "metadata": {},
     "output_type": "execute_result"
    }
   ],
   "source": [
    "w = np.array([0.25, 0.25, 0.25, 0.25])\n",
    "\n",
    "np.sum(w)"
   ]
  },
  {
   "cell_type": "code",
   "execution_count": 376,
   "id": "add18be9",
   "metadata": {},
   "outputs": [
    {
     "data": {
      "text/html": [
       "<div>\n",
       "<style scoped>\n",
       "    .dataframe tbody tr th:only-of-type {\n",
       "        vertical-align: middle;\n",
       "    }\n",
       "\n",
       "    .dataframe tbody tr th {\n",
       "        vertical-align: top;\n",
       "    }\n",
       "\n",
       "    .dataframe thead th {\n",
       "        text-align: right;\n",
       "    }\n",
       "</style>\n",
       "<table border=\"1\" class=\"dataframe\">\n",
       "  <thead>\n",
       "    <tr style=\"text-align: right;\">\n",
       "      <th>Ticker</th>\n",
       "      <th>AGEN</th>\n",
       "      <th>GLD</th>\n",
       "      <th>SOC</th>\n",
       "      <th>TLT</th>\n",
       "    </tr>\n",
       "    <tr>\n",
       "      <th>Date</th>\n",
       "      <th></th>\n",
       "      <th></th>\n",
       "      <th></th>\n",
       "      <th></th>\n",
       "    </tr>\n",
       "  </thead>\n",
       "  <tbody>\n",
       "    <tr>\n",
       "      <th>2023-01-04</th>\n",
       "      <td>0.050000</td>\n",
       "      <td>0.009412</td>\n",
       "      <td>-0.002976</td>\n",
       "      <td>0.013700</td>\n",
       "    </tr>\n",
       "    <tr>\n",
       "      <th>2023-01-05</th>\n",
       "      <td>-0.027778</td>\n",
       "      <td>-0.012451</td>\n",
       "      <td>0.000498</td>\n",
       "      <td>0.004181</td>\n",
       "    </tr>\n",
       "    <tr>\n",
       "      <th>2023-01-06</th>\n",
       "      <td>-0.020408</td>\n",
       "      <td>0.018707</td>\n",
       "      <td>0.000000</td>\n",
       "      <td>0.018397</td>\n",
       "    </tr>\n",
       "    <tr>\n",
       "      <th>2023-01-09</th>\n",
       "      <td>-0.012500</td>\n",
       "      <td>0.002245</td>\n",
       "      <td>-0.000497</td>\n",
       "      <td>0.005324</td>\n",
       "    </tr>\n",
       "    <tr>\n",
       "      <th>2023-01-10</th>\n",
       "      <td>0.113924</td>\n",
       "      <td>0.003676</td>\n",
       "      <td>0.001990</td>\n",
       "      <td>-0.016550</td>\n",
       "    </tr>\n",
       "  </tbody>\n",
       "</table>\n",
       "</div>"
      ],
      "text/plain": [
       "Ticker          AGEN       GLD       SOC       TLT\n",
       "Date                                              \n",
       "2023-01-04  0.050000  0.009412 -0.002976  0.013700\n",
       "2023-01-05 -0.027778 -0.012451  0.000498  0.004181\n",
       "2023-01-06 -0.020408  0.018707  0.000000  0.018397\n",
       "2023-01-09 -0.012500  0.002245 -0.000497  0.005324\n",
       "2023-01-10  0.113924  0.003676  0.001990 -0.016550"
      ]
     },
     "execution_count": 376,
     "metadata": {},
     "output_type": "execute_result"
    }
   ],
   "source": [
    "returns= prices.pct_change().dropna()\n",
    "returns.head()"
   ]
  },
  {
   "cell_type": "code",
   "execution_count": 377,
   "id": "c3906de9",
   "metadata": {},
   "outputs": [
    {
     "data": {
      "image/png": "[encoded data removed]",
      "text/plain": [
       "<Figure size 1400x700 with 1 Axes>"
      ]
     },
     "metadata": {},
     "output_type": "display_data"
    },
    {
     "data": {
      "image/png": "[encoded data removed]",
      "text/plain": [
       "<Figure size 1400x700 with 1 Axes>"
      ]
     },
     "metadata": {},
     "output_type": "display_data"
    },
    {
     "data": {
      "image/png": "[encoded data removed]",
      "text/plain": [
       "<Figure size 1400x700 with 1 Axes>"
      ]
     },
     "metadata": {},
     "output_type": "display_data"
    },
    {
     "data": {
      "image/png": "[encoded data removed]",
      "text/plain": [
       "<Figure size 1400x700 with 1 Axes>"
      ]
     },
     "metadata": {},
     "output_type": "display_data"
    }
   ],
   "source": [
    "for stock in returns.keys():\n",
    "    plt.figure(figsize=(14, 7))\n",
    "    plt.hist(returns[stock],label=stock, density=True, bins=50)\n",
    "    plt.title(f'Distribución de Returns de {stock}')\n",
    "    plt.xlabel('Returns')\n",
    "    plt.ylabel('Probability')\n",
    "    plt.legend()\n",
    "    plt.show()"
   ]
  },
  {
   "cell_type": "markdown",
   "id": "e065248b",
   "metadata": {},
   "source": [
    "---"
   ]
  },
  {
   "cell_type": "markdown",
   "id": "88a4890a",
   "metadata": {},
   "source": [
    "### Rendimiento Diario"
   ]
  },
  {
   "cell_type": "code",
   "execution_count": 378,
   "id": "2482f634",
   "metadata": {},
   "outputs": [
    {
     "name": "stdout",
     "output_type": "stream",
     "text": [
      "0.04677952216637945 %\n"
     ]
    }
   ],
   "source": [
    "mean= returns.mean()\n",
    "ret_diario= (mean* w).sum()\n",
    "print(ret_diario*100,'%')"
   ]
  },
  {
   "cell_type": "markdown",
   "id": "1bc3419e",
   "metadata": {},
   "source": [
    "### Rendimiento Anual"
   ]
  },
  {
   "cell_type": "code",
   "execution_count": 379,
   "id": "72b56495",
   "metadata": {},
   "outputs": [
    {
     "name": "stdout",
     "output_type": "stream",
     "text": [
      "11.788439585927621 %\n"
     ]
    }
   ],
   "source": [
    "print(ret_diario*252*100,'%')"
   ]
  },
  {
   "cell_type": "markdown",
   "id": "9f41e74c",
   "metadata": {},
   "source": [
    "Con estos activos, lo que se busca también es lograr un buen rendimiento y, al mismo tiempo, diversificar el portafolio. Sabemos que con este tipo de empresas puede haber un mayor retorno, pero también un riesgo más alto. Por eso, queda analizar si estos activos realmente presentan tanto riesgo y si el portafolio, en conjunto, resulta conveniente como opción para ofrecer a un cliente.\n",
    "\n",
    "Se estima que este portafolio podría alcanzar un rendimiento aproximado del 12% anual, lo cual entra dentro de lo que se considera un rendimiento bastante bueno. Además, es importante mencionar que estos rendimientos se calculan a partir de una asignación equilibrada de los pesos, con un 25% invertido en cada activo, lo que contribuye a diversificar el riesgo y mantener un perfil más balanceado."
   ]
  },
  {
   "cell_type": "markdown",
   "id": "ae937f02",
   "metadata": {},
   "source": [
    "---"
   ]
  },
  {
   "cell_type": "markdown",
   "id": "4bc41c89",
   "metadata": {},
   "source": [
    "### Covarianza"
   ]
  },
  {
   "cell_type": "code",
   "execution_count": 380,
   "id": "493e70bc",
   "metadata": {},
   "outputs": [
    {
     "data": {
      "text/html": [
       "<div>\n",
       "<style scoped>\n",
       "    .dataframe tbody tr th:only-of-type {\n",
       "        vertical-align: middle;\n",
       "    }\n",
       "\n",
       "    .dataframe tbody tr th {\n",
       "        vertical-align: top;\n",
       "    }\n",
       "\n",
       "    .dataframe thead th {\n",
       "        text-align: right;\n",
       "    }\n",
       "</style>\n",
       "<table border=\"1\" class=\"dataframe\">\n",
       "  <thead>\n",
       "    <tr style=\"text-align: right;\">\n",
       "      <th>Ticker</th>\n",
       "      <th>AGEN</th>\n",
       "      <th>GLD</th>\n",
       "      <th>SOC</th>\n",
       "      <th>TLT</th>\n",
       "    </tr>\n",
       "    <tr>\n",
       "      <th>Ticker</th>\n",
       "      <th></th>\n",
       "      <th></th>\n",
       "      <th></th>\n",
       "      <th></th>\n",
       "    </tr>\n",
       "  </thead>\n",
       "  <tbody>\n",
       "    <tr>\n",
       "      <th>AGEN</th>\n",
       "      <td>0.004637</td>\n",
       "      <td>0.000021</td>\n",
       "      <td>0.000165</td>\n",
       "      <td>0.000015</td>\n",
       "    </tr>\n",
       "    <tr>\n",
       "      <th>GLD</th>\n",
       "      <td>0.000021</td>\n",
       "      <td>0.000096</td>\n",
       "      <td>0.000025</td>\n",
       "      <td>0.000023</td>\n",
       "    </tr>\n",
       "    <tr>\n",
       "      <th>SOC</th>\n",
       "      <td>0.000165</td>\n",
       "      <td>0.000025</td>\n",
       "      <td>0.001489</td>\n",
       "      <td>0.000017</td>\n",
       "    </tr>\n",
       "    <tr>\n",
       "      <th>TLT</th>\n",
       "      <td>0.000015</td>\n",
       "      <td>0.000023</td>\n",
       "      <td>0.000017</td>\n",
       "      <td>0.000102</td>\n",
       "    </tr>\n",
       "  </tbody>\n",
       "</table>\n",
       "</div>"
      ],
      "text/plain": [
       "Ticker      AGEN       GLD       SOC       TLT\n",
       "Ticker                                        \n",
       "AGEN    0.004637  0.000021  0.000165  0.000015\n",
       "GLD     0.000021  0.000096  0.000025  0.000023\n",
       "SOC     0.000165  0.000025  0.001489  0.000017\n",
       "TLT     0.000015  0.000023  0.000017  0.000102"
      ]
     },
     "execution_count": 380,
     "metadata": {},
     "output_type": "execute_result"
    }
   ],
   "source": [
    "cov = returns.cov()\n",
    "cov"
   ]
  },
  {
   "cell_type": "markdown",
   "id": "503e9cf7",
   "metadata": {},
   "source": [
    "### Varianza Diaria"
   ]
  },
  {
   "cell_type": "code",
   "execution_count": 381,
   "id": "a228afb3",
   "metadata": {},
   "outputs": [
    {
     "name": "stdout",
     "output_type": "stream",
     "text": [
      "Varianza del portafolio diaria es de: 0.00042858522030102253 %\n"
     ]
    }
   ],
   "source": [
    "var_port_diario=w.T @ cov @ w\n",
    "print('Varianza del portafolio diaria es de:',var_port_diario,'%')"
   ]
  },
  {
   "cell_type": "markdown",
   "id": "44c4a08f",
   "metadata": {},
   "source": [
    "### Varianza Anual"
   ]
  },
  {
   "cell_type": "code",
   "execution_count": 382,
   "id": "a7b990d8",
   "metadata": {},
   "outputs": [
    {
     "name": "stdout",
     "output_type": "stream",
     "text": [
      "Varianza del portafolio anual es de: 10.800347551585768 %\n"
     ]
    }
   ],
   "source": [
    "print('Varianza del portafolio anual es de:', var_port_diario*252*100, '%')"
   ]
  },
  {
   "cell_type": "markdown",
   "id": "bfde6243",
   "metadata": {},
   "source": [
    "Con esta varianza anual del **10.8003%**, podemos darnos una idea de cómo será la volatilidad del portafolio. Esto indica que tiene una volatilidad bastante alta, lo cual confirma lo que dijimos al principio: estas empresas pueden hacer que el portafolio tenga más retorno, pero también conllevan un mayor riesgo. "
   ]
  },
  {
   "cell_type": "markdown",
   "id": "a3b8b38a",
   "metadata": {},
   "source": [
    "---"
   ]
  },
  {
   "cell_type": "markdown",
   "id": "83668022",
   "metadata": {},
   "source": [
    "### Volatilidad diaria"
   ]
  },
  {
   "cell_type": "code",
   "execution_count": 383,
   "id": "c8c3d999",
   "metadata": {},
   "outputs": [
    {
     "name": "stdout",
     "output_type": "stream",
     "text": [
      "Volatilidad del portafolio diaria es de: 2.0702299879506687 %\n"
     ]
    }
   ],
   "source": [
    "vol_port_diario = np.sqrt(var_port_diario)\n",
    "print('Volatilidad del portafolio diaria es de:', vol_port_diario*100, '%')"
   ]
  },
  {
   "cell_type": "markdown",
   "id": "63bb247d",
   "metadata": {},
   "source": [
    "### Volatilidad Anual"
   ]
  },
  {
   "cell_type": "code",
   "execution_count": 384,
   "id": "895412b3",
   "metadata": {},
   "outputs": [
    {
     "name": "stdout",
     "output_type": "stream",
     "text": [
      "Volatilidad del portafolio anual es de: 32.86388222895428 %\n"
     ]
    }
   ],
   "source": [
    "vol_port_anual= vol_port_diario * np.sqrt(252)\n",
    "print('Volatilidad del portafolio anual es de:', vol_port_anual*100, '%')"
   ]
  },
  {
   "cell_type": "code",
   "execution_count": 385,
   "id": "98977de3",
   "metadata": {},
   "outputs": [
    {
     "name": "stdout",
     "output_type": "stream",
     "text": [
      "Volatilidad ponderada: 63.119806356285814 %\n"
     ]
    }
   ],
   "source": [
    "print('Volatilidad ponderada:',np.sqrt((returns.var()*w).sum()*252)*100, '%')"
   ]
  },
  {
   "cell_type": "markdown",
   "id": "66147691",
   "metadata": {},
   "source": [
    "Con lo dicho anteriormente, se puede observar que el riesgo es alto, con una volatilidad de alrededor del 32.86% anual. Por eso, podríamos ver si conviene implementar una estrategia para reducir el riesgo, especialmente si el cliente es averso a él. En este caso, creo que se puede aceptar este nivel de riesgo, ya que el portafolio está suficientemente diversificado, lo que ayuda a mitigar un poco las fluctuaciones y a mantener un balance entre riesgo y retorno."
   ]
  },
  {
   "cell_type": "markdown",
   "id": "27d0b0b1",
   "metadata": {},
   "source": [
    "---"
   ]
  },
  {
   "cell_type": "markdown",
   "id": "897e15b2",
   "metadata": {},
   "source": [
    "### Matriz de Correlación"
   ]
  },
  {
   "cell_type": "code",
   "execution_count": 386,
   "id": "bee8c092",
   "metadata": {},
   "outputs": [
    {
     "data": {
      "text/html": [
       "<div>\n",
       "<style scoped>\n",
       "    .dataframe tbody tr th:only-of-type {\n",
       "        vertical-align: middle;\n",
       "    }\n",
       "\n",
       "    .dataframe tbody tr th {\n",
       "        vertical-align: top;\n",
       "    }\n",
       "\n",
       "    .dataframe thead th {\n",
       "        text-align: right;\n",
       "    }\n",
       "</style>\n",
       "<table border=\"1\" class=\"dataframe\">\n",
       "  <thead>\n",
       "    <tr style=\"text-align: right;\">\n",
       "      <th>Ticker</th>\n",
       "      <th>AGEN</th>\n",
       "      <th>GLD</th>\n",
       "      <th>SOC</th>\n",
       "      <th>TLT</th>\n",
       "    </tr>\n",
       "    <tr>\n",
       "      <th>Ticker</th>\n",
       "      <th></th>\n",
       "      <th></th>\n",
       "      <th></th>\n",
       "      <th></th>\n",
       "    </tr>\n",
       "  </thead>\n",
       "  <tbody>\n",
       "    <tr>\n",
       "      <th>AGEN</th>\n",
       "      <td>1.000000</td>\n",
       "      <td>0.032105</td>\n",
       "      <td>0.062971</td>\n",
       "      <td>0.021178</td>\n",
       "    </tr>\n",
       "    <tr>\n",
       "      <th>GLD</th>\n",
       "      <td>0.032105</td>\n",
       "      <td>1.000000</td>\n",
       "      <td>0.065528</td>\n",
       "      <td>0.232980</td>\n",
       "    </tr>\n",
       "    <tr>\n",
       "      <th>SOC</th>\n",
       "      <td>0.062971</td>\n",
       "      <td>0.065528</td>\n",
       "      <td>1.000000</td>\n",
       "      <td>0.044657</td>\n",
       "    </tr>\n",
       "    <tr>\n",
       "      <th>TLT</th>\n",
       "      <td>0.021178</td>\n",
       "      <td>0.232980</td>\n",
       "      <td>0.044657</td>\n",
       "      <td>1.000000</td>\n",
       "    </tr>\n",
       "  </tbody>\n",
       "</table>\n",
       "</div>"
      ],
      "text/plain": [
       "Ticker      AGEN       GLD       SOC       TLT\n",
       "Ticker                                        \n",
       "AGEN    1.000000  0.032105  0.062971  0.021178\n",
       "GLD     0.032105  1.000000  0.065528  0.232980\n",
       "SOC     0.062971  0.065528  1.000000  0.044657\n",
       "TLT     0.021178  0.232980  0.044657  1.000000"
      ]
     },
     "execution_count": 386,
     "metadata": {},
     "output_type": "execute_result"
    }
   ],
   "source": [
    "returns.corr()"
   ]
  },
  {
   "cell_type": "code",
   "execution_count": 388,
   "id": "1bfb93fb",
   "metadata": {},
   "outputs": [
    {
     "data": {
      "text/plain": [
       "0.45941899999999997"
      ]
     },
     "execution_count": 388,
     "metadata": {},
     "output_type": "execute_result"
    }
   ],
   "source": [
    "sum_corr= 0.032105+0.062971+0.021178+0.065528+0.232980+0.044657\n",
    "sum_corr"
   ]
  },
  {
   "cell_type": "markdown",
   "id": "5b795088",
   "metadata": {},
   "source": [
    "La matriz muestra que este portafolio está bien diversificado en cuanto a la correlación ya que tiene un 0.4594 de correlación y esto se debe a que loss activos tienen baja correlación entre sí. Esto ayuda a que la volatilidad y el riesgo total del portafolio sean menores, sin dejar de lado la posibilidad de obtener un buen rendimiento."
   ]
  },
  {
   "cell_type": "markdown",
   "id": "3fa60d40",
   "metadata": {},
   "source": [
    "---"
   ]
  },
  {
   "cell_type": "markdown",
   "id": "c6691104",
   "metadata": {},
   "source": [
    "### Conclusión"
   ]
  },
  {
   "cell_type": "markdown",
   "id": "f7c2e951",
   "metadata": {},
   "source": [
    "En conclusión, este portafolio puede ser muy riesgoso y poco atractivo para alguien con aversión al riesgo. Sin embargo, al analizar la matriz de correlación, se observa que los cuatro activos están bien diversificados, ya que presentan baja correlación entre sí. Esto contribuye a reducir la volatilidad y el riesgo total del portafolio, lo que a su vez favorece un buen rendimiento.\n",
    "\n",
    "Sumando esto a lo demás, podemos afirmar que el portafolio logró un rendimiento muy bueno y, gracias a la diversificación mostrada en la matriz, existe la posibilidad de reducir aún más el riesgo si se implementan otras estrategias."
   ]
  }
 ],
 "metadata": {
  "kernelspec": {
   "display_name": "Python 3",
   "language": "python",
   "name": "python3"
  },
  "language_info": {
   "codemirror_mode": {
    "name": "ipython",
    "version": 3
   },
   "file_extension": ".py",
   "mimetype": "text/x-python",
   "name": "python",
   "nbconvert_exporter": "python",
   "pygments_lexer": "ipython3",
   "version": "3.12.8"
  }
 },
 "nbformat": 4,
 "nbformat_minor": 5
}
