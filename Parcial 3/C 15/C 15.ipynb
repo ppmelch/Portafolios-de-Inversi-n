{
 "cells": [
  {
   "cell_type": "markdown",
   "id": "948cd3f0",
   "metadata": {},
   "source": [
    "<img style=\"float: left; margin: 30px 15px 15px 15px;\" src=\"https://oci02.img.iteso.mx/Identidades-De-Instancia/ITESO/Logos%20ITESO/Logo-ITESO-Principal.jpg\" width=\"400\" height=\"600\" /> \n",
    "    \n",
    "    \n",
    "##  Portafolios de Inversión\n",
    "    \n",
    "###   Growth Investing\n",
    "\n",
    "Profesor: Sean Nicolás González Vázquez"
   ]
  },
  {
   "cell_type": "markdown",
   "id": "a08754e1",
   "metadata": {},
   "source": [
    "###  Análisis Fundamental  \n",
    "    \n",
    "Tipo de análisis financiero que, como su nombre indica, se basa en los *fundamentales* de una empresa, es decir, en la información presentada en los tres principales estados financieros (Estado de Resultados, Flujo de Efectivo y Balance General) y en ratios calculados sobre la información presentada en estos tres estados financieros.  \n",
    "    \n",
    "El objetivo principal del análisis fundamental es determinar la salud financiera de una empresa, con el objetivo de ver si es conveniente invertir o no en esta, lo cual se decide en función de la metodología de inversión del gestor de inversiones.\n",
    "    \n",
    "El análisis fundamental es una herramienta que se utiliza para fundamentar la selección de un activo. La selección de activos es el primer paso del proceso de inversión en un portafolio."
   ]
  },
  {
   "cell_type": "markdown",
   "id": "29dde2f7",
   "metadata": {},
   "source": [
    "###  Value Investing   \n",
    "    \n",
    "\n",
    "El **Value Investing**, es una fílosofia de inversión que busca invertir en negocios que tengan un valor de mercado menor a su valor intrínseco con la expectativa de que el mercado las revalúe correctamente. En término simples, esto significa comprar barato y vender caro. \n",
    "    \n",
    "\n",
    "El Value Investing busca que el **valor extrínseco de una emisora** sea menor al **valor intrínseco dado a la emisora**, para buscar posibles **inflavaloraciones** o **sobrevaloraciones** de mercado:\n",
    "    \n",
    "+ *Acciones infravaloradas*: compañías que cotizan por debajo de su valor intrínseco, es decir, están baratas y sería conveniente comprar.  \n",
    "    \n",
    "\n",
    "+ *Acciones sobrevaloradas*: compañías que cotizan por encima de su valor intrínseco. Están caras y no sería buena opción de compra.\n",
    "    \n",
    "    \n",
    "El concepto se mejoró posteriormente introduciendo el **long term value investing**, donde se buscan acciones que coticen a descuento, o cerca al *fair price* (Book Value = Market Value) y además, tengan una \"*ventaja competitiva con durabilidad*\".\n",
    "    \n",
    " \n",
    "###  Growth Investing   \n",
    "    \n",
    "    \n",
    "El método inversión en *crecimiento* es una **estrategia que se centra en comprar acciones de empresas en fase de expansión cuyo valor se espera que crezca a tasas superiores al promedio del mercado**. En otras palabras, se buscan empresas con un potencial significativo de expansión en ingresos y ganancias en el futuro, además de una ventaja competitiva. Esta estrategia se basa en la creencia de que el crecimiento sostenido de una empresa impulsará el aumento del precio de sus acciones a largo plazo.\n",
    "\n",
    "Algunas características clave del Growth Investing:\n",
    "\n",
    "+ **Enfocado en el Crecimiento Empresarial**: Los inversores buscan empresas con sólidos fundamentos y un historial de crecimiento en ventas, beneficios y market share. \n",
    "    \n",
    "    \n",
    "+ **Poca Importancia a los Dividendos**: A diferencia de la estrategia de inversión en valor, donde los inversores buscan acciones subvaluadas con dividendos estables, la fílosofia de growth investing no prioriza los dividendos y se buscan empresas que reinvierten sus beneficios para financiar el crecimiento.  \n",
    "    \n",
    "    \n",
    "+ **Alto Potencial de Rentabilidad a Largo Plazo**: La premisa básica del Growth Investing es que las empresas con un fuerte crecimiento tienen el potencial de generar rendimientos significativos a largo plazo, independientemente del valor actual. Estos inversores buscan capturar la apreciación del valor de las acciones a medida que la empresa crece.\n",
    "    \n",
    "    \n",
    "+ **Volatilidad y Riesgo**: Dado que las empresas de crecimiento a menudo operan en industrias dinámicas y emergentes, las acciones de estas empresas pueden experimentar una mayor volatilidad en comparación con las empresas más establecidas. Existe un riesgo asociado con la incertidumbre sobre la capacidad de mantener altas tasas de crecimiento.\n",
    "    \n",
    "    \n",
    "+ **Evaluación de Métricas de Crecimiento**: Los inversores de crecimiento analizan métricas clave como las tasas de crecimiento de ingresos, ganancias y márgenes para evaluar el potencial de crecimiento de una empresa. \n",
    "     \n",
    "\n",
    "    \n",
    "Ejemplos de empresas que podrían atraer a inversores de crecimiento incluyen aquellas en sectores tecnológicos, inteligencia artificial, biotecnología y otras industrias en rápido desarrollo.\n",
    "\n",
    "Es importante destacar que el Growth Investing implica un enfoque a largo plazo y requiere paciencia, ya que el crecimiento de las empresas puede llevar tiempo en materializarse. Además, la selección cuidadosa de empresas con fundamentos sólidos es esencial para mitigar riesgos en esta estrategia.\n",
    "    \n",
    "+ **Importante**: Al invertir en empresas con una alta expectativa de crecimiento en el futuro, los inversionistas esperan también un retorno alto, por tanto, hay que estar conscientes que la volatilidad será mucho mayor que invertir en empresas consolidadas.\n",
    "    \n",
    "    \n",
    "###  Diferencias Growth y Value  \n",
    "\n",
    "    \n",
    "| **Características**        | **Value Investing**                                                                 | **Growth Investing**                                                       |\n",
    "|:---------------------------:|:--------------------------------------------------------------------------------------:|:----------------------------------------------------------------------------------:|\n",
    "| **Enfoque Principal**       | Busca acciones subvaloradas o en descuento.                                           | Busca acciones de empresas con alto potencial de crecimiento.                     |\n",
    "| **Criterio de Selección**   | Selecciona acciones que tienen un valor intrínseco superior al precio de mercado.      | Selecciona acciones de empresas con historial de fuerte crecimiento y potencial futuro. |\n",
    "| **Tipo de Empresas Preferidas** | Tiende a favorecer empresas establecidas, con sólidos fundamentos y dividendos.       | Prefiere empresas con potencial de expansión futura.                              |\n",
    "| **Métricas Clave**          | P/E bajo, P/B bajo, dividendos sólidos.                                               | Crecimiento de ingresos, ganancias, ROE, márgenes de beneficio.                  |\n",
    "| **Enfoque en Dividendos**   | Sí, muchas acciones de valor pagan dividendos.                                        | No necesariamente; muchas empresas de crecimiento reinvierten ganancias en lugar de pagar dividendos. |\n",
    "| **Horizonte de Inversión**  | A mediano plazo; busca beneficios a medida que el mercado reconoce el verdadero valor de las acciones. | A largo plazo; espera que el crecimiento de las empresas impulse el rendimiento.  |\n",
    "| **Riesgos Considerados**    | Riesgo de valoración incorrecta; las acciones pueden permanecer subvaloradas durante períodos prolongados. | Riesgo de que las empresas de crecimiento no alcancen las expectativas de crecimiento; mayor volatilidad. |\n",
    "| **Ejemplos de Inversores Famosos** | Warren Buffett, Benjamin Graham.                                                  | Peter Lynch.                                                                      |\n",
    "\n",
    "    \n",
    "La metodología que utiliza una visión \"*en medio*\" de ambas estrategias se denomina GARP (*Growth at Reasonable Price*).\n",
    "    \n",
    "###  Factores clave para seleccionar empresas usando Growth Investing  \n",
    "    \n",
    "    \n",
    "1.- Crecimiento Histórico de las Ganancias.\n",
    "       \n",
    "    \n",
    "2.- Márgenes de Beneficio Sólidos\n",
    "    \n",
    "    \n",
    "3.- Fuerte Retorno sobre el Patrimonio \n",
    "    \n",
    "\n",
    "4.- Fuerte Rendimiento de Acciones\n",
    "    \n",
    "\n",
    "A continuación, ahondaremos en cada punto y como descargar esta información utilizando yahoo finance"
   ]
  },
  {
   "cell_type": "markdown",
   "id": "33b4a3ad",
   "metadata": {},
   "source": [
    "##  Práctica: Growth Investing  \n",
    "    \n",
    "    \n",
    "### 0. Descarga de Fundamentales  "
   ]
  },
  {
   "cell_type": "code",
   "execution_count": 3,
   "id": "74dbd39c",
   "metadata": {},
   "outputs": [],
   "source": [
    "# Importar librerías\n",
    "import numpy as np\n",
    "import pandas as pd\n",
    "import yfinance as yf\n",
    "import datetime\n",
    "\n",
    "import matplotlib.pyplot as plt"
   ]
  },
  {
   "cell_type": "code",
   "execution_count": 4,
   "id": "9714c42a",
   "metadata": {},
   "outputs": [],
   "source": [
    "# Bajar un precio en una fecha dada\n",
    "def get_historical_price(ticker: str, start: str):\n",
    "    end = start+datetime.timedelta(days=4)\n",
    "    price=pd.DataFrame(yf.Ticker(ticker).history(start=start, end=end)[\"Close\"])\n",
    "    return price.iloc[0, 0]"
   ]
  },
  {
   "cell_type": "code",
   "execution_count": 9,
   "id": "53ca3669",
   "metadata": {},
   "outputs": [],
   "source": [
    "def get_financials(ticker:str):\n",
    "    \n",
    "    info = yf.Ticker(ticker)\n",
    "    estado = info.income_stmt.iloc[:, :-1]\n",
    "    balance = info.balance_sheet.iloc[:, :-1]\n",
    "\n",
    "    return estado, balance"
   ]
  },
  {
   "cell_type": "code",
   "execution_count": 10,
   "id": "0874b648",
   "metadata": {},
   "outputs": [],
   "source": [
    "estado , balance = get_financials('LLY')"
   ]
  },
  {
   "cell_type": "markdown",
   "id": "31cd4612",
   "metadata": {},
   "source": [
    "### 1.- Fuerte Crecimiento Histórico de Ganancias\n",
    "\n",
    "Las empresas deben demostrar un historial de sólido crecimiento de ganancias en los últimos tres a diez años. El ratio financiero que nos puede ayudar a medir cuantitativamente esto es el EPS:\n",
    "    \n",
    "+ **EPS:** Múltiplio financiero que nos indica el beneficio por acción que tiene una compañía, en teoría, indica la cantidad de ingresos que le corresponde a cada inversionista por cada acción que tiene.\n",
    "    \n",
    "    \n",
    "$$EPS = \\frac{Income}{Shares}$$\n",
    "    \n",
    "\n",
    "    \n",
    "    \n",
    "El crecimiento mínimo de las ganancias por acción (EPS) en *Growth Investing* depende del tamaño de la empresa: por ejemplo, podrías buscar un crecimiento de al menos el 5% para empresas que superen los $4$ mil millones, el $7%$ para aquellas en el rango de $400$ millones a $4$ mil millones, y el $12%$ para empresas más pequeñas por debajo de los $400$ millones. La idea principal es que si la empresa ha mostrado un buen crecimiento en el pasado reciente, es probable que continúe haciéndolo en el futuro.\n",
    "\n",
    "    \n",
    "Además, las empresas objeto de inversión por medio de Growth Investing, muestran un price earnings ratio (*PER*) arriba de 25, lo que en Value Investing indicaría una sobre-valoración alta de un activo financiero.\n",
    "    \n",
    "    \n",
    "+ **PER:** Indica cuántas veces se está pagando el beneficio neto anual de una empresa determinada al comprar una acción de esta, es decir, que tan cara o barata esta una acción, en función de su utilidad real y cuánto cuesta comprar una parte de la empresa.\n",
    "    \n",
    "$$PER = \\frac{Price}{Income/Shares} = \\frac{Price}{Earnings Per Share}$$\n"
   ]
  },
  {
   "cell_type": "code",
   "execution_count": 11,
   "id": "876a5a98",
   "metadata": {},
   "outputs": [],
   "source": [
    "income = estado.loc['Net Income Common Stockholders']\n",
    "no_shares = balance.loc['Ordinary Shares Number']\n"
   ]
  },
  {
   "cell_type": "code",
   "execution_count": null,
   "id": "4e72587a",
   "metadata": {},
   "outputs": [],
   "source": []
  },
  {
   "cell_type": "code",
   "execution_count": null,
   "id": "f4d4e978",
   "metadata": {},
   "outputs": [],
   "source": [
    "Per = "
   ]
  },
  {
   "cell_type": "code",
   "execution_count": 17,
   "id": "60b4f2fc",
   "metadata": {},
   "outputs": [
    {
     "name": "stderr",
     "output_type": "stream",
     "text": [
      "C:\\Users\\ppmel\\AppData\\Local\\Temp\\ipykernel_11908\\2461831252.py:2: FutureWarning: Downcasting object dtype arrays on .fillna, .ffill, .bfill is deprecated and will change in a future version. Call result.infer_objects(copy=False) instead. To opt-in to the future behavior, set `pd.set_option('future.no_silent_downcasting', True)`\n",
      "  eps.pct_change(-1).fillna(0)\n"
     ]
    },
    {
     "data": {
      "text/plain": [
       "2024-12-31    1.024983\n",
       "2023-12-31   -0.113436\n",
       "2022-12-31    0.122886\n",
       "2021-12-31    0.000000\n",
       "dtype: float64"
      ]
     },
     "execution_count": 17,
     "metadata": {},
     "output_type": "execute_result"
    }
   ],
   "source": [
    "eps = income / no_shares\n",
    "eps.pct_change(-1).fillna(0)"
   ]
  },
  {
   "cell_type": "code",
   "execution_count": null,
   "id": "2dbd606e",
   "metadata": {},
   "outputs": [],
   "source": []
  },
  {
   "cell_type": "code",
   "execution_count": null,
   "id": "6f6827b0",
   "metadata": {},
   "outputs": [],
   "source": []
  },
  {
   "cell_type": "markdown",
   "id": "d3d0f75d",
   "metadata": {},
   "source": [
    "### 2.- Márgenes de Beneficio Sólidos  \n",
    "    \n",
    "    \n",
    "El **profit margin** o margen de beneficio antes de impuestos de una empresa se calcula restando todos los gastos de las ventas (excepto impuestos) y dividiendo por las ventas. Es una métrica importante a considerar porque una empresa puede tener un crecimiento fantástico en ventas con ganancias pobres, lo que podría indicar que la administración no está controlando costos y ingresos.\n",
    "    \n",
    " $$PM = \\frac{\\text{Income before Tax}}{\\text{Sales or Gross Revenue}}$$\n",
    "\n",
    "    \n",
    "El porcentaje de profit margin considerado \"bueno\" depende de la industria, ya que los márgenes varían significativamente según el sector. Sin embargo, como regla general:\n",
    "    \n",
    "- **Financials:** 10%-20%    \n",
    "    \n",
    "    \n",
    "- **Healthcare:**  15%-20%    \n",
    "    \n",
    "    \n",
    "- **Consumer Staples:** 5%-10%   \n",
    "    \n",
    " \n",
    "- **Consumer Discretionary:** 10%-20%    \n",
    "    \n",
    "\n",
    "- **Technology:** 15%-25%  \n",
    "    \n",
    "\n",
    "- **Energy:** 5%-15%    \n",
    "    \n",
    "\n",
    "- **Real Estate :** 30%-40%    \n",
    "    \n",
    "\n",
    "- **Industrials:** 5%-10%    \n",
    "    \n",
    "\n",
    "- **Utilities:** 10%-15%    \n",
    "    \n",
    "\n",
    "- **Telecommunications:** 10%-15%    \n",
    "    \n",
    "\n",
    "- **Transportation:** 5%-10%  "
   ]
  },
  {
   "cell_type": "code",
   "execution_count": null,
   "id": "e464faab",
   "metadata": {},
   "outputs": [],
   "source": []
  },
  {
   "cell_type": "markdown",
   "id": "f3fe790f",
   "metadata": {},
   "source": [
    "### 3.- Fuerte Retorno sobre el Patrimonio  \n",
    "    \n",
    "El **ROE** de una empresa mide la rentabilidad al revelar cuánto beneficio genera con el dinero que los accionistas han invertido, en pocas palabras, que tanto provecho  le esta sacando una empresa al capital que  tiene:\n",
    "    \n",
    "$$ROE = \\frac{Income}{Equity}$$\n",
    "    \n",
    "Se calcula dividiendo el ingreso neto entre el patrimonio de los accionistas. Una buena regla es comparar el ROE actual de una empresa con el ROE de tres-cinco años de la empresa y de la industria. Un ROE estable o en aumento indica que la administración está generando buenos rendimientos de las inversiones de los accionistas y opera eficientemente el negocio.\n",
    "    \n",
    "+ Si el resultado es inferior a 3, la situación es mala; si está entre 3 y 8, es normal; si es superior a 8, es buena. Se espera un resultado consistente y en crecimiento."
   ]
  },
  {
   "cell_type": "code",
   "execution_count": null,
   "id": "cebfa442",
   "metadata": {},
   "outputs": [],
   "source": []
  },
  {
   "cell_type": "code",
   "execution_count": null,
   "id": "f4e934bd",
   "metadata": {},
   "outputs": [],
   "source": []
  },
  {
   "cell_type": "markdown",
   "id": "fcf5b5fe",
   "metadata": {},
   "source": [
    "### 4.- Fuerte Rendimiento de Acciones  \n",
    "    \n",
    "    \n",
    "Se buscan acciones que puedan que duplicar su crecimiento anual en cinco años, si no probablemente no sea una acción objeto de inversión en *growth investing*. Cabe destacar que al buscar un crecimiento tan fuerte, se debe de aceptar también una volatilidad mayor.\n",
    "    \n",
    "Ten en cuenta que el precio de una acción se duplicaría en siete años con una tasa de crecimiento del 11%. Para duplicarse en cinco años, la tasa de crecimiento debe ser de aproximadamente 15%, algo ciertamente factible para empresas en industrias de rápido crecimiento o con una ventaja competitiva.\n",
    "\n"
   ]
  },
  {
   "cell_type": "code",
   "execution_count": null,
   "id": "2eebd771",
   "metadata": {},
   "outputs": [],
   "source": []
  },
  {
   "cell_type": "code",
   "execution_count": null,
   "id": "eade5e30",
   "metadata": {},
   "outputs": [],
   "source": []
  },
  {
   "cell_type": "code",
   "execution_count": null,
   "id": "fbebf082",
   "metadata": {},
   "outputs": [],
   "source": []
  },
  {
   "cell_type": "code",
   "execution_count": null,
   "id": "7694143e",
   "metadata": {},
   "outputs": [],
   "source": []
  }
 ],
 "metadata": {
  "kernelspec": {
   "display_name": "Python 3",
   "language": "python",
   "name": "python3"
  },
  "language_info": {
   "codemirror_mode": {
    "name": "ipython",
    "version": 3
   },
   "file_extension": ".py",
   "mimetype": "text/x-python",
   "name": "python",
   "nbconvert_exporter": "python",
   "pygments_lexer": "ipython3",
   "version": "3.12.8"
  }
 },
 "nbformat": 4,
 "nbformat_minor": 5
}
