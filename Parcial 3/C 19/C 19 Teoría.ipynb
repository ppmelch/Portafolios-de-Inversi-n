{
 "cells": [
  {
   "cell_type": "markdown",
   "id": "6569be7e",
   "metadata": {},
   "source": [
    "# Portafolios de Inversión\n",
    "## Alpha: Eficiencia del Mercado Bursátil\n",
    "José Armando Melchor Soto\n",
    "\n",
    "---\n",
    "\n",
    "\n",
    "\n"
   ]
  },
  {
   "cell_type": "markdown",
   "id": "dffd80fc",
   "metadata": {},
   "source": [
    "### Alpha "
   ]
  },
  {
   "cell_type": "markdown",
   "id": "85815d07",
   "metadata": {},
   "source": [
    "- La Alpha, como vimos en clases previas, es la tasa de rendimiento\n",
    "por arriba del rendimiento de un mercado que un administrador de\n",
    "portafolios genera en un período.\n",
    "\n",
    "- También es conocido como el “rendimiento activo” de una inversión\n",
    "y el complemento (rendimiento del mercado) es conocido como\n",
    "“rendimiento pasivo”.\n",
    "- La alfa es importante ya que nos indica dos cosas:\n",
    "    1. Que tan bueno es un administrador de portafolios. ¿Cuánto le pagamos?\n",
    "    2. ¡Un alfa positivo indica ineficiencias de mercado!"
   ]
  },
  {
   "cell_type": "markdown",
   "id": "badfa5a7",
   "metadata": {},
   "source": [
    "---"
   ]
  },
  {
   "cell_type": "markdown",
   "id": "8414c1e9",
   "metadata": {},
   "source": [
    "### Eficiencia del Mercado "
   ]
  },
  {
   "cell_type": "markdown",
   "id": "52f63158",
   "metadata": {},
   "source": [
    "- Recordando, uno de los supuestos del CAPM era:\n",
    "    - Todos los inversionistas tienen acceso a la misma\n",
    "información, por lo tanto arman sus carteras de una\n",
    "manera idéntica.\n",
    "\n",
    "- La eficiencia de mercados nos indica que TODA la\n",
    "información disponible se encuentra en el precio de un\n",
    "activo de manera insesgada.\n",
    "\n",
    "- Si es posible generar un Alpha, nos encontramos con\n",
    "una discrepancia en esta teoría.\n"
   ]
  },
  {
   "cell_type": "markdown",
   "id": "989b5107",
   "metadata": {},
   "source": [
    "### Hipótesis del Mercado "
   ]
  },
  {
   "cell_type": "markdown",
   "id": "2f154c40",
   "metadata": {},
   "source": [
    "- Desarrollada por Eugene Fama en la década de 1970.\n",
    "\n",
    "- La EMH explica que cada mercado tiene características\n",
    "propias, y dependiendo de la cantidad de inversionistas, los\n",
    "costos de transacción, la disponibilidad y la velocidad de la\n",
    "información y las restricciones al operar se puede determinar\n",
    "la eficiencia de un mercado concreto,\n",
    "\n",
    "- Se identifican tres formas de eficiencia:\n",
    "    - **Weak-Form Market Efficiency**\n",
    "        - Los precios reflejan toda la información pasada del mercado (precios y volumen).\n",
    "        - El análisis técnico no permite obtener rendimientos superiores.\n",
    "        - Los precios siguen una caminata aleatoria.\n",
    "\n",
    "\n",
    "    - **Semi-Strong Market Efficiency**\n",
    "        - Los precios reflejan toda la información pública disponible (incluye noticias, estados financieros, etc.).\n",
    "        - El análisis fundamental no genera rendimientos ajustados por riesgo positivos en promedio.\n",
    "        - El mercado reacciona rápidamente a nueva información pública (inesperada).\n",
    "\n",
    "\n",
    "    - **Strong Market Efficiency**\n",
    "        - Los precios reflejan toda la información, pública y privada.\n",
    "        - Nadie puede obtener “abnormal returns” de forma consistente, ni siquiera con información privilegiada.\n",
    "        - En la práctica, los mercados no son eficientes en su forma fuerte, debido a la prohibición del “inside\n",
    "        trading”.\n",
    "\n"
   ]
  },
  {
   "cell_type": "markdown",
   "id": "9d66c39d",
   "metadata": {},
   "source": [
    "---"
   ]
  },
  {
   "cell_type": "markdown",
   "id": "dc69a6d8",
   "metadata": {},
   "source": [
    "### Ineficiencia de Mercados "
   ]
  }
 ],
 "metadata": {
  "language_info": {
   "name": "python"
  }
 },
 "nbformat": 4,
 "nbformat_minor": 5
}
