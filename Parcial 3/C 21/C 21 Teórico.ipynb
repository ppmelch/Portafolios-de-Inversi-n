{
 "cells": [
  {
   "cell_type": "markdown",
   "id": "c3c67712",
   "metadata": {},
   "source": [
    "# Portafolios de Inversión\n",
    "## Investment Policy Statement  \n",
    "José Armando Melchor Soto\n",
    "\n",
    "---\n",
    "\n",
    "\n",
    "\n"
   ]
  },
  {
   "cell_type": "markdown",
   "id": "9d997ee9",
   "metadata": {},
   "source": []
  }
 ],
 "metadata": {
  "language_info": {
   "name": "python"
  }
 },
 "nbformat": 4,
 "nbformat_minor": 5
}
