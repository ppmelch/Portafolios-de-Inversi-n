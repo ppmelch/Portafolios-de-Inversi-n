{
 "cells": [
  {
   "cell_type": "markdown",
   "id": "e303e4c3",
   "metadata": {},
   "source": [
    "# Portafolios de Inversión\n",
    "## Tactical & Strategic Asset Allocation\n",
    "José Armando Melchor Soto\n",
    "\n",
    "---\n",
    "\n",
    "\n",
    "\n"
   ]
  },
  {
   "cell_type": "markdown",
   "id": "115315f2",
   "metadata": {},
   "source": [
    "### Tactical Asset Allocation"
   ]
  },
  {
   "cell_type": "markdown",
   "id": "917e8d3b",
   "metadata": {},
   "source": [
    "- El tactical Asset Allocation es una estrategia activa de gestin de cartera que ajusta el porcentaje de activos mantenidos en diversas categorías para aprovechar las anomalías de precio del mercado a los sectores fuertes del mercado.\n",
    "\n",
    "- Esta estrategia permite a los gestores de cartera crear valor adicional contra el benchmark aprovechando oportunidades de mercado.\n",
    "\n",
    "- Supongamos que la asignación de un portafolio tiene 45% acciones , donde 30% son High-Cap y un 15% Low-Cap.\n",
    "\n",
    "- Si las perspectivas para las acciones de pequeñas empresas no parecen favorables , se pueden ajustar la asignación dentro d elaas acciones a un 40% HC  y un 5% LC hasta que cambien las condiciones.\n",
    "\n",
    "- Por lo general los cambios tácticos oscilan entre el 5% - 25% . Se pueden diferenciar dos clases de activos en el TAA: Core Holdings"
   ]
  },
  {
   "cell_type": "markdown",
   "id": "283685bb",
   "metadata": {},
   "source": [
    "---"
   ]
  },
  {
   "cell_type": "markdown",
   "id": "156a71f7",
   "metadata": {},
   "source": [
    "### Stratefic Asset Allocation"
   ]
  },
  {
   "cell_type": "markdown",
   "id": "c5280242",
   "metadata": {},
   "source": [
    "- Las \"core holdings\" son las inversiones fundamentales una cartera de inversión a largo plazo.\n",
    "\n",
    "- Estas inversiones suelen representar la base central de la cartera y están diseñadas para proporcionar estabilidad y consistencia en rendimientos con respecto al benchmark.\n",
    "\n",
    "- La idea detras de las \"core holdings\" es construir un rendimiento estable en la cartera , generalmente a través de inversiones diversificadas.\n",
    "\n",
    "- Los administradores de portafolio a menudo seleccionan instrumentos financieros como fondos indexados o fondos cotizados (ETF's)....."
   ]
  },
  {
   "cell_type": "markdown",
   "id": "4a04ee54",
   "metadata": {},
   "source": [
    "---\n"
   ]
  },
  {
   "cell_type": "markdown",
   "id": "41f195bf",
   "metadata": {},
   "source": [
    "### TAA / SAA"
   ]
  },
  {
   "cell_type": "markdown",
   "id": "804e2b66",
   "metadata": {},
   "source": [
    "- Las inversiones tácticas o satélite son aquellas activos que proporcionan oportunidades para el crecimiento adicional de un portafolio de inversión , complementando la estabilidad proporcionada por las inversiones centrales.\n",
    "\n",
    "- El objetivo de estas acciones tácticas es aprovechar oportunidades de mercado y ayudar a superar el benchmark."
   ]
  },
  {
   "cell_type": "markdown",
   "id": "50210aa1",
   "metadata": {},
   "source": [
    "---"
   ]
  },
  {
   "cell_type": "markdown",
   "id": "f0676c00",
   "metadata": {},
   "source": []
  }
 ],
 "metadata": {
  "language_info": {
   "name": "python"
  }
 },
 "nbformat": 4,
 "nbformat_minor": 5
}
