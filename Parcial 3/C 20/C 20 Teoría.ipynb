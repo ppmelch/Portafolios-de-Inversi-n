{
 "cells": [
  {
   "cell_type": "markdown",
   "id": "0f7a79c9",
   "metadata": {},
   "source": [
    "# Portafolios de Inversión\n",
    "## Operación \n",
    "José Armando Melchor Soto\n",
    "\n",
    "---\n",
    "\n",
    "\n",
    "\n"
   ]
  },
  {
   "cell_type": "markdown",
   "id": "101dc6a8",
   "metadata": {},
   "source": [
    "### Spot Price \n",
    "\n",
    "- Precio actual en el mercado para la compra\n",
    "o venta de un activo. Se determina por la\n",
    "oferta y la demanda en el mercado,\n",
    "reflejando las condiciones actuales de\n",
    "operación\n",
    "\n",
    "### Precio de Cierre\n",
    "- Último precio al que se negocia un activo\n",
    "financiero al final de la sesión de mercado, en la\n",
    "BMV, se determina por el precio promedio\n",
    "ponderado de los últimos 20 minutos de\n",
    "operación.\n",
    "\n",
    "\n",
    "### ASK & BID Price\n",
    "- **BID**\n",
    "    - Precio más alto al que un inversor esta dispuesto a comprar un activo financiero.\n",
    "\n",
    "- **ASK**\n",
    "    - Precio más bajo al que un inversor esta dispuesto a VENDER un activo financiero\n",
    "\n",
    "### SPREAD \n",
    "\n",
    "- El Spread es la diferencia entre el Ask y el Bid.\n",
    "\n",
    "- El Spread nos da una buena idea de que tan líquido\n",
    "es un activo financiero, entre más pequeño es, más\n",
    "fácil es comprarlo y venderlo.\n",
    "\n",
    "- Es por esto, que el spread puede ser explicado\n",
    "como un costo de transacción, que también puede\n",
    "incluir la comisión que te cobra el exchange por\n",
    "operar, un “costo de obtener liquidez”.\n",
    "\n",
    "\n",
    "### Riesgo de Liquidez de Mercado \n",
    "\n",
    "- El riesgo de liquidez de mercado es el riesgo no diversificable de\n",
    "que una posición financiera no pueda ser fácilmente liquidada\n",
    "en el corto plazo sin afectar significativamente su valor debido a\n",
    "la falta de profundidad de mercado.\n",
    "\n",
    "- Esto ocurre cuando no hay suficientes compradores o\n",
    "vendedores en el mercado para acomodar grandes\n",
    "transacciones sin causar fluctuaciones sustanciales en los\n",
    "precios.\n",
    "\n",
    "- En consecuencia, el riesgo de liquidez está directamente\n",
    "relacionado con la eficiencia del mercado.\n",
    "\n",
    "\n",
    "### Mercados NO Líquidos\n",
    "\n",
    "- En mercados eficientes, los participantes pueden ejecutar\n",
    "transacciones de manera fluida, sin generar grandes movimientos\n",
    "en los precios, lo que les permite comprar o vender activos\n",
    "rápidamente y con costos de transacción mínimos.\n",
    "\n",
    "- Sin embargo, en mercados ineficientes, donde la liquidez es\n",
    "escasa, incluso pequeñas transacciones pueden provocar\n",
    "fluctuaciones significativas en los precios.\n",
    "\n",
    "- Esto aumenta los costos de transacción y puede obligar a los\n",
    "inversores a aceptar precios menos favorables, lo que en última\n",
    "instancia puede deteriorar el rendimiento general de un portafolio\n",
    "de inversión.\n",
    "\n"
   ]
  },
  {
   "cell_type": "markdown",
   "id": "6a2a72e7",
   "metadata": {},
   "source": [
    "---"
   ]
  },
  {
   "cell_type": "markdown",
   "id": "6ea7a3c1",
   "metadata": {},
   "source": []
  }
 ],
 "metadata": {
  "language_info": {
   "name": "python"
  }
 },
 "nbformat": 4,
 "nbformat_minor": 5
}
