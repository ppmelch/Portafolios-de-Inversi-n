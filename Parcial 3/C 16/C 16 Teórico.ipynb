{
 "cells": [
  {
   "cell_type": "markdown",
   "id": "107db587",
   "metadata": {},
   "source": [
    "# Portafolios de Inversión\n",
    "## Rebalanceos\n",
    "José Armando Melchor Soto\n",
    "\n",
    "---\n",
    "\n",
    "\n",
    "\n"
   ]
  },
  {
   "cell_type": "markdown",
   "id": "e2dcb757",
   "metadata": {},
   "source": [
    "### Rebalanceo de Portafolios\n",
    "\n",
    "- Proceso en el que se ajustan las ponderaciones de los activos que conforman una cartera de inversión para mantenerla en linea con los objetivos y la estrategia de inversión establecidos.\n",
    "\n",
    "- Consiste en vender o comprar activos en la cartera para establecer las ponderaciones objetivo , que se desvían debido a las fluctuaciones del mercado.\n",
    "\n",
    "\n",
    "\n",
    "- Un rebalanceo se realiza periódicamente de acuerdo a intervalos predefinidos , puede ser trimestral , semestral o anual.\n",
    "\n",
    "- Cuando se realiza el rebalanceo , se venden los activos que han aumentado en valor y se compran los activos que han disminuido en valor, de manera que se ajusta la distribución de activos de la cartera a los porcentajes objetivo.\n",
    "\n",
    "- Esto implica vender los activos que han tenido un mejor desempeño y comprar los activos que han tenido un rendimiento inferior.\n",
    "\n",
    "- Un rebalanceo también puede implicar cambiar las ponderaciones , re-optimizando el portafolio."
   ]
  },
  {
   "cell_type": "markdown",
   "id": "de67c424",
   "metadata": {},
   "source": [
    "---"
   ]
  },
  {
   "cell_type": "markdown",
   "id": "21698468",
   "metadata": {},
   "source": [
    "### Overweight \n",
    "\n",
    "- Cuando un activo \"pesa\" por arriba de su ponderación objetivo debido a su fluctuación positiva del mismo , se dice que el portafolio esta overweight en ese activo. Ya que su ponderación real en el portafolio es mayor que la objetivo. \n",
    "\n",
    "### Underweight \n",
    "\n",
    "- Cuando un activo \"pesa\" por debajo de su ponderación objetivo debido a la fluctuación negativa del mismo , se dice que el portafolio esta underweight en ese activo. Ya que su ponderación real en el portafolio es menor a la objetivo."
   ]
  },
  {
   "cell_type": "markdown",
   "id": "a12e92fa",
   "metadata": {},
   "source": [
    "---"
   ]
  },
  {
   "cell_type": "markdown",
   "id": "2a25cce3",
   "metadata": {},
   "source": [
    "### Beneficios "
   ]
  },
  {
   "cell_type": "markdown",
   "id": "0ac1f774",
   "metadata": {},
   "source": [
    "#### Control del Riesgo\n",
    "\n",
    "- El rebalanceo ayuda a controlar el riesgo al garantizar que la cartera no se concentre en activos que han tenido un buen desempeño reciente.\n",
    "\n",
    "#### Oportunidad\n",
    "\n",
    "- El rebalanceo permite aprovechar oportunidades de compra cuando los activos han disminuido en valor (infravalorados).\n",
    "\n",
    "#### Estrategia \n",
    "- El rebalanceo ayuda a mantener la estrategia de inversión a largo plazo del inversor. Si se permitiera que la cartera se desviara , se podróa alterar la exposición al riesgo y los objetivos de inversión establecidos."
   ]
  },
  {
   "cell_type": "markdown",
   "id": "6d7fd408",
   "metadata": {},
   "source": [
    "---"
   ]
  },
  {
   "cell_type": "markdown",
   "id": "e703a0de",
   "metadata": {},
   "source": [
    "### Tipos de Fluctuaciones que afectan los pesos de un portafolio"
   ]
  },
  {
   "cell_type": "markdown",
   "id": "61e385f9",
   "metadata": {},
   "source": [
    "#### Fluctuaciones de Mercado"
   ]
  },
  {
   "cell_type": "markdown",
   "id": "e101fa94",
   "metadata": {},
   "source": [
    "- Fluctuaciones generales del mercado de valores donde existen movimientos de los precios de las acciones y otros activos financieros.\n",
    "\n",
    "- Estas fluctuaciones pueden estar influenciadas por factores macroeconómicos , eventos geopolíticos , noticias económicas y financieras, cambios en las tasas de interés , condiciones económicas generales, entre otros.\n"
   ]
  },
  {
   "cell_type": "markdown",
   "id": "6931f601",
   "metadata": {},
   "source": [
    "#### Fluctuaciones de Tipo de Cambio"
   ]
  },
  {
   "cell_type": "markdown",
   "id": "b04e6891",
   "metadata": {},
   "source": [
    "- Las fluctuacioens de tipo de cambio se refieren a los cambios en el valor de una monerda en relación con otra. Estas fluctuaciones tienen un impacto alto en las acciones que cotizan en el SIC.\n",
    "\n",
    "    - SIC: Sistema Internacional de Cotizaciones de Bolsa de Mexicana de Valores (BMV) que permite a los inversionistas mexicanos acceder a activos listados en bolsas de valores extranjeras.\n",
    "\n",
    "- Las bajas de las monedas de referencias contra el peso (USD/MXN , EUR/MXN) afectan en gran medida a los administradores de portafolios que compran en el SIC, ya que , la fluctuación del tipo de cambio se puede \"comer\" la ganancia de un activo."
   ]
  },
  {
   "cell_type": "markdown",
   "id": "0eed6af2",
   "metadata": {},
   "source": [
    "#### Fluctuaciones Sectoriales\n",
    "\n",
    "- Los diferentes sectores de la economía pueden experimentar fluctuaciones de precios debido a factiiores específicos de la industria.\n",
    "\n",
    "    - Por ejemplo, los precios de las acciones en el sector tecnológico pueden verse influenciados por el lanzamiento de nuevos productos , la competencia en el mercado y los avances tecnológicos.\n",
    "\n",
    "    - Un ejemplo claro es la crisis bancaria de principios de 2023 donde empresas como BBVA , VISA , Mastercard , Santander , etc tuvieron bajas debido a la crisis bancaria iniciada por el Silicon Valley Bank.     \n"
   ]
  },
  {
   "cell_type": "markdown",
   "id": "b6b77c5d",
   "metadata": {},
   "source": [
    "---"
   ]
  },
  {
   "cell_type": "markdown",
   "id": "a0b8c8de",
   "metadata": {},
   "source": [
    "### Una estrategia a largo plazo \n",
    "\n",
    "- Un portafolio de inversión siempre es una estrategia a largio plazo y un administradorde portafolios debe ser paciente , resiliente y disciplinado , por lo cual es importante NO CAMBIAR los activos de un portafolio por fluctuaciones de mercado , a menos que:\n",
    "\n",
    "    - Es momento de rebalancear el portafolio (periodicidad pre-definida).\n",
    "\n",
    "    - Encuentres un negocio con un potencial de crecimiento más alto.\n",
    "\n",
    "    - Tu compañía está altamente sobre-valorado , es decir , ya creció hasta su máximo potencial.\n",
    "\n",
    "    - Si dos años después de la compra la empresa no ha proporcionado rendimientos\n",
    "\n",
    "    - Si tu activo pasó un umbral de rendimiento pre-definido al armar tu portafolio.\n",
    "\n",
    "    - Si no puedes soportar la máxima pérdida esperada de tu portafolio (VaR)\n",
    "\n",
    "    \" Speculation is not investment. Always stick to your policies !\" - Benjamin Graham\n"
   ]
  },
  {
   "cell_type": "markdown",
   "id": "c18716b1",
   "metadata": {},
   "source": [
    "---"
   ]
  }
 ],
 "metadata": {
  "language_info": {
   "name": "python"
  }
 },
 "nbformat": 4,
 "nbformat_minor": 5
}
