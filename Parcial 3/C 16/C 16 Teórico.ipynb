{
 "cells": [
  {
   "cell_type": "markdown",
   "id": "107db587",
   "metadata": {},
   "source": [
    "# Portafolios de Inversión\n",
    "## Rebalanceos\n",
    "José Armando Melchor Soto\n",
    "\n",
    "---\n",
    "\n",
    "\n",
    "\n"
   ]
  },
  {
   "cell_type": "markdown",
   "id": "e2dcb757",
   "metadata": {},
   "source": []
  }
 ],
 "metadata": {
  "language_info": {
   "name": "python"
  }
 },
 "nbformat": 4,
 "nbformat_minor": 5
}
