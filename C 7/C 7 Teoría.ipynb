{
 "cells": [
  {
   "cell_type": "markdown",
   "id": "505f1f24",
   "metadata": {},
   "source": [
    "# Portafolios de Inversión\n",
    "## Otras Medidas de Rendimiento y Riesgo\n",
    "José Armando Melchor Soto\n",
    "\n",
    "---\n",
    "\n",
    "\n",
    "\n"
   ]
  },
  {
   "cell_type": "markdown",
   "id": "b20c13cd",
   "metadata": {},
   "source": [
    "### Media Aritmética (Promedio)"
   ]
  },
  {
   "cell_type": "markdown",
   "id": "3edf7ecb",
   "metadata": {},
   "source": [
    "- La medida aritmética, o promedio , es la medida de tendencia central más simple y conmúnmente utilizada para evaluar el rendimiento a o largo de múltiples períodos.\n",
    "\n",
    "- Como se discutió durante el primer parcial , la media aritmética es fácil de calcular y posee propiedades estadísticas bien conocidad.\n",
    "\n",
    "- Sin embargo, principal inconveniente es que puede verse afectada por valores extremos(outliers), lo que genera un sesgo y la convierte en una medida inadecuada para evaluar el rendimiento de un activo financiero en tales situaciones.\n",
    "\n",
    "$$R_{act} = \\frac {1}{n} \\sum_{i=1}^n R_i$$"
   ]
  },
  {
   "cell_type": "markdown",
   "id": "5a14c08c",
   "metadata": {},
   "source": [
    "---"
   ]
  },
  {
   "cell_type": "markdown",
   "id": "ccea734e",
   "metadata": {},
   "source": [
    "### Media Geométrica "
   ]
  },
  {
   "cell_type": "markdown",
   "id": "3a2da53a",
   "metadata": {},
   "source": [
    "- La media geométrica es una medida de tendencia central que ofrece una mejor representación del crecimiento que ofrece una mejor representación del crecimiento de un portafolio a lo largo del tiempo , ya que , debido a su método de cálculo , se considera una medida de rendimiento compuesto.\n",
    "\n",
    "- Es especialmente útil cuando se reinvierte tanto el capital como los intereses durante un periodo determinado.\n",
    "\n",
    "- Sin embargo , uno de sus inconvenienteses que también puede verse sesgada por valores extremos, especialmente cuando existen diferencias importantes entre los rendimientos.\n",
    "\n",
    "$$R_G = (\\prod_{i=1}^{n} (1+r_n)^\\frac{1}{n} ) - 1$$\n"
   ]
  },
  {
   "cell_type": "markdown",
   "id": "6b37ee73",
   "metadata": {},
   "source": [
    "---"
   ]
  },
  {
   "cell_type": "markdown",
   "id": "2ab51f24",
   "metadata": {},
   "source": [
    "### Media Armónica\n",
    "- La media armónica es una medida de tendencia central , cuyo nombre proviene de un tipo de series especiales que usan el recíproco , conocidad como sries armónicas.\n",
    "\n",
    "- Esta medida puede interpretarse como una media ponderada, donde el peso de cada observación es inversamente proporcional a su magnitud. \n",
    "\n",
    "    Por ejemplo:\n",
    "    \n",
    "    - Si consideramos un conjunto de observaciones que va de 1,2,3, ..., hasta 1000, la media armónica es 2.8560 , mientras que la media aritmetica es 145.85.\n",
    "    \n",
    "- Por esta razón la media armónica es especialmente útil cuando se trata de datos con valores extremos (outliers) , ya que mitiga influencia en le resultado final.\n",
    "\n",
    "- ¿Qué es un black swan en finanzas?\n",
    "    \n",
    "    - Es un evento no esperado que tiene un impacto en el corto plazo , como lo puede ser una pandemia como lo fue el covid\n"
   ]
  },
  {
   "cell_type": "markdown",
   "id": "1a072a4c",
   "metadata": {},
   "source": [
    "$$R_H = \\frac{n}{\\sum_{i=1}^{n} \\frac{1}{1+r}} - 1$$"
   ]
  },
  {
   "cell_type": "markdown",
   "id": "c2b90682",
   "metadata": {},
   "source": [
    "---"
   ]
  },
  {
   "cell_type": "markdown",
   "id": "9857d36a",
   "metadata": {},
   "source": [
    "### Casos de Aplicación \n",
    "\n",
    "- Antes de seleccionar la medida adecuada para calcular el rendimiento, es crucial entender la naturaleza , la distribución de los datos y el problema a resolver.\n",
    "\n",
    "- A continuación, se muestra un gráfico que resume cuándo utilizar las distintas medidad de tendencia central mencionadas previamente.\n",
    "\n",
    "    - Datos Financieros\n",
    "    \n",
    "        ↓\n",
    "    \n",
    "    - ¿Incluir todos los valores incluidos outliers?  →  **Media Artimética**\n",
    "    \n",
    "        ↓\n",
    "    \n",
    "    - ¿Interés compuesto? → **Media Geométrica**\n",
    "    \n",
    "        ↓\n",
    "    \n",
    "    - ¿Outliers?  → **Media Armónica**\n"
   ]
  },
  {
   "cell_type": "markdown",
   "id": "2e252a01",
   "metadata": {},
   "source": [
    "---"
   ]
  },
  {
   "cell_type": "markdown",
   "id": "fa5a7274",
   "metadata": {},
   "source": [
    "### Medidas Probabilísticas de rend y riesgo \n",
    "- Suponiendo que eres un analista de mercado en JP Morgan\n",
    "\n",
    "- Al realizar un análisis del estado actual de la economía, identificadas tres posibles escenarios del mercado , cada uno con su probabilidad correspondiente.\n",
    "\n",
    "- A partir de esto , calcula el rendimiento y riesgo potencial de tu potencial en Apple para el próximo año dados los posibles escenarios.\n",
    "\n",
    "- ¿Cómo puedes cuantificar el rendimiento y riesgo esperado el siguiente año? \n",
    "\n",
    "    ### APPLE\n",
    "    | **Escenario** | **Probabilidad** |**Rendimiento** |  \n",
    "    |---------------|------------------|----------------|\n",
    "   Bajista (Bearish) | 25% | -10% |\n",
    "    Neutral | 30% | 5% |\n",
    "    Alcista (Bullish)| 45% | 20% |\n",
    "\n",
    "\n",
    "-\n",
    "- Para cuantificar el rendimiento basado en probablidades podemos utilizar el valor esperado, mientras que para el riesgo la varianza esperada.\n",
    "\n",
    "- Para una variable aleatoria X, el valor esperado se denota como E[X] y la varianza esperando como V[X].\n",
    "\n",
    "- Estos conceptos reflejan una proyección hacia el futuro basada en las probabilidades de ocurrencias de los posibles escenarios y los valores que la variable puede tomar en cada uno de ellos.\n",
    "\n"
   ]
  },
  {
   "cell_type": "markdown",
   "id": "73e4dff2",
   "metadata": {},
   "source": [
    "---"
   ]
  },
  {
   "cell_type": "markdown",
   "id": "aedf5aab",
   "metadata": {},
   "source": [
    "### Rendimiento Esperado\n",
    "\n",
    "- El rendimiento esperado es el promedio ponderado en los rend. con sus probabilidades asociados en los distintos escenarios.\n",
    "\n",
    "- Es fundamental diferenciar el valor esperado probabilístico de conceptos como el rendimiento histórico o la media de una muestra.\n",
    "\n",
    "- Mientras que el valor esperado probabilístico calcula el promedio proyectado hacia el futuro según las probabilidades de los posibles escenarios , la media histórica sintetiza los valores históricos en un solo número , representando la tendencia central observada en la muestra.\n",
    "\n",
    "\n",
    "$$E[R]= p(R_1)R_1 + ... + p(R_n)R_n $$\n",
    "$$E[R]= \\sum_{i=1}^{n} p(R_n)R_n$$\n",
    "\n"
   ]
  },
  {
   "cell_type": "markdown",
   "id": "bb839151",
   "metadata": {},
   "source": [
    "---"
   ]
  },
  {
   "cell_type": "markdown",
   "id": "757fed1f",
   "metadata": {},
   "source": [
    "### Varianza Esperada\n",
    "\n",
    "- La varianza esperada es el promedio ponderado , según las probabilidades , de los cuadrados de las desvaiciones con respecto al valor esperado del rendimiento.\n",
    "\n",
    "- Su interpretación es similar a la de la varianza clásica , así como la de la desviación estándar.\n",
    "\n",
    "- La diferencia radica en que varianza estadística mide las desviaciones respecto al valor esperado, siendo una proyección hacia el futuro.\n",
    "\n",
    "$$\\sigma^{2}[R] = p(R_1)(R_1-E[R])^2 +... + p(R_n)(R_n-E[R])^2 $$ \n",
    "\n",
    "$$\\sigma^{2}[R] = \\sum_{i=1}^{n} p(R_n)(R_n-E[R])^2 $$\n"
   ]
  },
  {
   "cell_type": "markdown",
   "id": "7d7d8d28",
   "metadata": {},
   "source": [
    "---"
   ]
  },
  {
   "cell_type": "markdown",
   "id": "4722f76c",
   "metadata": {},
   "source": [
    "### Ejercicio Medidas Probabilísticas I"
   ]
  },
  {
   "cell_type": "markdown",
   "id": "afbeea28",
   "metadata": {},
   "source": [
    "- Suponiendo que eres un analista de mercado en JP Morgan\n",
    "\n",
    "- Al realizar un análisis del estado actual de la economía, identificadas tres posibles escenarios del mercado , cada uno con su probabilidad correspondiente.\n",
    "\n",
    "- A partir de esto , calcula el rendimiento y riesgo potencial de tu potencial en Apple para el próximo año dados los posibles escenarios.\n",
    "\n",
    "### APPLE\n",
    "| **Escenario** | **Probabilidad** |**Rendimiento** |  \n",
    "|---------------|------------------|----------------|\n",
    "Bajista (Bearish) | 25% | -10% |\n",
    "Neutral | 30% | 5% |\n",
    "Alcista (Bullish)| 45% | 20% |"
   ]
  },
  {
   "cell_type": "markdown",
   "id": "622f344c",
   "metadata": {},
   "source": [
    "---"
   ]
  },
  {
   "cell_type": "markdown",
   "id": "5ee7e7b5",
   "metadata": {},
   "source": [
    "### Ejercicio Medidas Probabilísticas II"
   ]
  },
  {
   "cell_type": "markdown",
   "id": "06d3ecbf",
   "metadata": {},
   "source": [
    "- Como analista de deuda en Citi, se te ha solicitado estimar la expectativa del\n",
    "mercado respecto a la tasa de interés de la Reserva Federal para el próximo\n",
    "año.\n",
    "- Tras revisar los pronósticos de varios analistas en Bloomberg, encontraste lo\n",
    "siguiente:\n",
    "    - El mercado asigna un 70% de probabilidad a un escenario dovish, en el que\n",
    "la tasa de interés se situaría en 2%.\n",
    "    - Hay un 20% de probabilidad de un escenario neutral, con una tasa del 3%.\n",
    "    - Existe un 10% de probabilidad de un escenario hawkish, en el cual la tasa\n",
    "se quedaría en 5.5%.\n",
    "\n",
    "- Con esta información, calcula el valor y la volatilidad esperada por el mercado\n",
    "para la tasa de interés.\n"
   ]
  },
  {
   "cell_type": "markdown",
   "id": "5ca4afea",
   "metadata": {},
   "source": [
    "\n",
    "### Valor esperado / Esperanza\n",
    "\n",
    "$$E[R]= p(Bear) R_{bear} + p(N)R_n + p(Bull)R_{bull} $$\n",
    "\n",
    "$$= 0.25(-.10)+0.3(0.05)+0.45(.2)$$\n",
    "\n",
    "$$= 0.8 = 8 \\%$$ "
   ]
  },
  {
   "cell_type": "markdown",
   "id": "0d8af81e",
   "metadata": {},
   "source": [
    "### Varianza Esperada"
   ]
  },
  {
   "cell_type": "markdown",
   "id": "ced78427",
   "metadata": {},
   "source": [
    "$$Var [R] = p(Bear) * (R_{Bear}- E[R])^2 + $$\n",
    "$$p(neutral) * (R_{N}- E[R])^2 + $$\n",
    "$$p(Bull) * (R_{B}- E[R])^2 + $$"
   ]
  },
  {
   "cell_type": "markdown",
   "id": "bd2ab6cc",
   "metadata": {},
   "source": [
    "---"
   ]
  }
 ],
 "metadata": {
  "language_info": {
   "name": "python"
  }
 },
 "nbformat": 4,
 "nbformat_minor": 5
}
