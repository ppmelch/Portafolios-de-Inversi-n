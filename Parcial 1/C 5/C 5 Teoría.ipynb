{
 "cells": [
  {
   "cell_type": "markdown",
   "id": "e78fc723",
   "metadata": {},
   "source": [
    "# Portafolios de Inversión\n",
    "## Portafolios de Inversión II\n",
    "José Armando Melchor Soto\n",
    "\n",
    "---\n",
    "\n",
    "\n",
    "\n"
   ]
  },
  {
   "cell_type": "markdown",
   "id": "146e8b9d",
   "metadata": {},
   "source": [
    "### Principio de Diversificación\n",
    "\n",
    "- La clase pasada vimos que, el riesgo de un portafolio es menor que la suma ponderada de los riesgos individuales de los activos que lo componen , esto se debe al principio de diversificación.\n",
    "\n",
    "    - Pincipio de Diversificación: Poseer diferentes activos financieros mitiga el riesgo de una cartera de inversión.\n",
    "\n",
    "- El principio de diversifición nos dice que los riesgos propios de un activo se disipan al invertir en distintos activos.\n",
    "\n",
    "- Esto se resume como :\n",
    "\n",
    "     \"NO PONGAS TODOS LOS HUEVOS EN LA MISMA CANASTA\"\n",
    "\n"
   ]
  },
  {
   "cell_type": "markdown",
   "id": "ca5f3f39",
   "metadata": {},
   "source": [
    "---"
   ]
  },
  {
   "cell_type": "markdown",
   "id": "2fd57dfd",
   "metadata": {},
   "source": [
    "### Riesgo Sistemático y no sistemático\n",
    "\n",
    "- El riesgo de un activo se compone de dos tipos de riesgos:\n",
    "\n",
    "    - Riesgo Sistemático (o de mercado): Tipo de riesgo inherente al mercado que no puede ser diversificable ya que afecta a todo el mercado en su conjunto.\n",
    "        - Pandemia COVID-19\n",
    "        - Crisis Económica\n",
    "        - Guerra Mundial\n",
    "\n",
    "    \n",
    "    - Riesgo No Sistemático (o Idiosincrático): Es el riesgo propio de cada empresa o sector y que solamente afecta a estos, por lo cual , al invertir en activos con diferentes características el riesgo de compañía se elimina.\n",
    "        - Crisis en el sector tecnológico\n",
    "        - Sequía en algún bien (gas, energía, maíz , etc)\n",
    "        - Una empresa que se declara en bancarrota o en impago\n",
    "        - Despidos de empresas de software"
   ]
  },
  {
   "cell_type": "markdown",
   "id": "360ea30c",
   "metadata": {},
   "source": [
    "---"
   ]
  },
  {
   "cell_type": "markdown",
   "id": "897f06e7",
   "metadata": {},
   "source": [
    "### Correlación\n",
    "- La mejor forma de medir el nivel de diversificación de una cartera es por medio del coeficiente de correlación (p) , el cual a diferencia de la covarianza , tiene una magnitud interpretable y nos indica numéricamente (con valores entre -1 y 1) y que tanto varía un activo con respecto a otro.\n",
    "Existen cinco casos:\n",
    "\n",
    "\n",
    "| **Caso**| **Interpretación** \n",
    "|-----------|-----------|\n",
    "| $$\\rho=1 $$ | Los activos están perfectamente correlacionados y se mueven en la misma dirección con la misma magnitud.|\n",
    "|  $$\\rho>0 $$ | Los activos se mueven en la misma dirección con una magnitud dada.|\n",
    "|  $$\\rho=0 $$ |No existe una relación lineal en el movimiento de los dos activos.|\n",
    "|  $$\\rho<0 $$ |Los activos se mueven  en dirección contraria con una magnitud dada.|\n",
    "|  $$\\rho=-1 $$ |Los activos están perfectamente correlacionados negativamente, es decir, se mueven en dirección contraria con la misma magnitud.|\n",
    "\n",
    "\n",
    "- En la práctica , buscamos armar portafolios compuestos por activos sin relación entre sí (correlación cercana a cero) lo cual aumenta el efecto de diversificación en una cartera.\n",
    "\n",
    "- La correlación es la división de la covarianza de los dos activos entre la multiplicación de sus volatilidades individuales.\n",
    "\n",
    "$$p_{x,y} = \\frac{cov_{x,y}}{\\sigma_{x} \\sigma_{y}}$$"
   ]
  },
  {
   "cell_type": "markdown",
   "id": "aef7f2e9",
   "metadata": {},
   "source": [
    "---\n"
   ]
  },
  {
   "cell_type": "markdown",
   "id": "012eed7e",
   "metadata": {},
   "source": [
    "### Resumen "
   ]
  },
  {
   "cell_type": "markdown",
   "id": "4b654079",
   "metadata": {},
   "source": [
    "#### Rendimiento de portafolio\n",
    "El rendimiento de un portafolio es la suma ponderada de los rendimientos esperados con los pesos\n"
   ]
  },
  {
   "cell_type": "markdown",
   "id": "2fcada53",
   "metadata": {},
   "source": [
    "#### RIESGO DE PORTAFOLIO\n",
    "Multiplicación matricial entre dos vectores de pesos y la matriz de covarianza varianza, esta matriz contiene la relación que existe entre los activos que componen el portafolio."
   ]
  },
  {
   "cell_type": "markdown",
   "id": "7c9dacef",
   "metadata": {},
   "source": [
    "#### Diversificación\n",
    "\n",
    "El principio de diversificación establece que al tener un conjunto de activos financieros, el riesgo propio de cada uno se mitiga debido a la relación que existe entre estos. \n"
   ]
  },
  {
   "cell_type": "markdown",
   "id": "9312e019",
   "metadata": {},
   "source": [
    "#### Riesgo Sistemático y no Sistemático\n",
    "El sistématico es el riesgo de mercado afecta a todos los activos y no es diversificable, el no sistématico es propio de cada activo y se puede diversificar.\n"
   ]
  },
  {
   "cell_type": "markdown",
   "id": "2f8ffd40",
   "metadata": {},
   "source": [
    "#### Covarianza y Correlación\n",
    "Ambas métricas miden la relación lineal que existe entre un conjunto de activos financieros, con la diferencia que la correlación es interpretable tanto en dirección como magnitud.\n"
   ]
  }
 ],
 "metadata": {
  "language_info": {
   "name": "python"
  }
 },
 "nbformat": 4,
 "nbformat_minor": 5
}
