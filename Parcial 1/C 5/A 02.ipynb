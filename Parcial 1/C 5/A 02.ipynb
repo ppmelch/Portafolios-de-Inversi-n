{
 "cells": [
  {
   "cell_type": "markdown",
   "id": "ff17fc90",
   "metadata": {},
   "source": [
    "# Portafolios de Inversión\n",
    "## Actividad en Clase\n",
    "José Armando Melchor Soto"
   ]
  },
  {
   "cell_type": "markdown",
   "id": "e09bbc68",
   "metadata": {},
   "source": [
    "---"
   ]
  },
  {
   "cell_type": "markdown",
   "id": "9e8928a0",
   "metadata": {},
   "source": [
    "### Invesco PowerShares (QQQ)\n",
    "\n",
    "Es un ETF (fondo cotizado) que busca replicar que el NASDAQ 100, es un índice que contiene las 100 empresas con mayor Market Cap (Precio Acción * No. Acciones). Se enfoca en empresas de tecnología principalmente de USA\n",
    "\n",
    "### iShares Russell 2000 Growth (IWO)\n",
    "\n",
    "Es un ETF (fondo cotizado) que busca replicar los resultados de inversión de baja capitalización en crecimiento de Estados Unidos.\n",
    "\n",
    "### VXX\n",
    "Es un ETN (exchange traded note) refleja el rendimiento en futuros a corto plazo del S&P 500.\n",
    "\n",
    "### MTUM \n",
    "Es un ETF (fondo cotizado) que busca replicar los resultados de las empresas de mid y high cap.\n"
   ]
  },
  {
   "cell_type": "markdown",
   "id": "f55136f6",
   "metadata": {},
   "source": [
    "---"
   ]
  },
  {
   "cell_type": "markdown",
   "id": "f2706849",
   "metadata": {},
   "source": [
    "### Librerías\n"
   ]
  },
  {
   "cell_type": "code",
   "execution_count": 21,
   "id": "14815a37",
   "metadata": {},
   "outputs": [],
   "source": [
    "import yfinance as yf\n",
    "import pandas as pd\n",
    "import matplotlib.pyplot as plt\n",
    "import numpy as np"
   ]
  },
  {
   "cell_type": "markdown",
   "id": "28f5089f",
   "metadata": {},
   "source": [
    "---"
   ]
  },
  {
   "cell_type": "markdown",
   "id": "812e72a1",
   "metadata": {},
   "source": [
    "### Importación de los datos"
   ]
  },
  {
   "cell_type": "code",
   "execution_count": 22,
   "id": "84914883",
   "metadata": {},
   "outputs": [
    {
     "name": "stderr",
     "output_type": "stream",
     "text": [
      "[*********************100%***********************]  4 of 4 completed\n"
     ]
    }
   ],
   "source": [
    "prices  = yf.download(['QQQ','IWO', 'VXX', 'MTUM'], start='2020-01-01')['Close']"
   ]
  },
  {
   "cell_type": "markdown",
   "id": "9d4202ef",
   "metadata": {},
   "source": [
    "---"
   ]
  },
  {
   "cell_type": "markdown",
   "id": "0870e099",
   "metadata": {},
   "source": [
    "### Rendimientos"
   ]
  },
  {
   "cell_type": "code",
   "execution_count": 29,
   "id": "d3b34f87",
   "metadata": {},
   "outputs": [],
   "source": [
    "w = np.array([0.268,0.327,0.266,0.139])"
   ]
  },
  {
   "cell_type": "code",
   "execution_count": 30,
   "id": "12e7ec5a",
   "metadata": {},
   "outputs": [
    {
     "data": {
      "text/html": [
       "<div>\n",
       "<style scoped>\n",
       "    .dataframe tbody tr th:only-of-type {\n",
       "        vertical-align: middle;\n",
       "    }\n",
       "\n",
       "    .dataframe tbody tr th {\n",
       "        vertical-align: top;\n",
       "    }\n",
       "\n",
       "    .dataframe thead th {\n",
       "        text-align: right;\n",
       "    }\n",
       "</style>\n",
       "<table border=\"1\" class=\"dataframe\">\n",
       "  <thead>\n",
       "    <tr style=\"text-align: right;\">\n",
       "      <th>Ticker</th>\n",
       "      <th>IWO</th>\n",
       "      <th>MTUM</th>\n",
       "      <th>QQQ</th>\n",
       "      <th>VXX</th>\n",
       "    </tr>\n",
       "    <tr>\n",
       "      <th>Date</th>\n",
       "      <th></th>\n",
       "      <th></th>\n",
       "      <th></th>\n",
       "      <th></th>\n",
       "    </tr>\n",
       "  </thead>\n",
       "  <tbody>\n",
       "    <tr>\n",
       "      <th>2020-01-03</th>\n",
       "      <td>-0.004987</td>\n",
       "      <td>-0.000159</td>\n",
       "      <td>-0.009160</td>\n",
       "      <td>0.053756</td>\n",
       "    </tr>\n",
       "    <tr>\n",
       "      <th>2020-01-06</th>\n",
       "      <td>0.003560</td>\n",
       "      <td>0.001111</td>\n",
       "      <td>0.006443</td>\n",
       "      <td>-0.013734</td>\n",
       "    </tr>\n",
       "    <tr>\n",
       "      <th>2020-01-07</th>\n",
       "      <td>-0.001774</td>\n",
       "      <td>-0.002458</td>\n",
       "      <td>-0.000139</td>\n",
       "      <td>-0.004642</td>\n",
       "    </tr>\n",
       "    <tr>\n",
       "      <th>2020-01-08</th>\n",
       "      <td>0.005938</td>\n",
       "      <td>0.005326</td>\n",
       "      <td>0.007516</td>\n",
       "      <td>-0.013991</td>\n",
       "    </tr>\n",
       "    <tr>\n",
       "      <th>2020-01-09</th>\n",
       "      <td>0.003626</td>\n",
       "      <td>0.008698</td>\n",
       "      <td>0.008474</td>\n",
       "      <td>-0.041892</td>\n",
       "    </tr>\n",
       "    <tr>\n",
       "      <th>...</th>\n",
       "      <td>...</td>\n",
       "      <td>...</td>\n",
       "      <td>...</td>\n",
       "      <td>...</td>\n",
       "    </tr>\n",
       "    <tr>\n",
       "      <th>2025-05-27</th>\n",
       "      <td>0.023732</td>\n",
       "      <td>0.021486</td>\n",
       "      <td>0.023525</td>\n",
       "      <td>-0.100527</td>\n",
       "    </tr>\n",
       "    <tr>\n",
       "      <th>2025-05-28</th>\n",
       "      <td>-0.009046</td>\n",
       "      <td>-0.001995</td>\n",
       "      <td>-0.004432</td>\n",
       "      <td>0.011536</td>\n",
       "    </tr>\n",
       "    <tr>\n",
       "      <th>2025-05-29</th>\n",
       "      <td>0.000776</td>\n",
       "      <td>0.000869</td>\n",
       "      <td>0.001966</td>\n",
       "      <td>0.001122</td>\n",
       "    </tr>\n",
       "    <tr>\n",
       "      <th>2025-05-30</th>\n",
       "      <td>-0.004357</td>\n",
       "      <td>0.005297</td>\n",
       "      <td>-0.001577</td>\n",
       "      <td>0.005229</td>\n",
       "    </tr>\n",
       "    <tr>\n",
       "      <th>2025-06-02</th>\n",
       "      <td>0.007492</td>\n",
       "      <td>0.008724</td>\n",
       "      <td>0.007898</td>\n",
       "      <td>-0.010816</td>\n",
       "    </tr>\n",
       "  </tbody>\n",
       "</table>\n",
       "<p>1360 rows × 4 columns</p>\n",
       "</div>"
      ],
      "text/plain": [
       "Ticker           IWO      MTUM       QQQ       VXX\n",
       "Date                                              \n",
       "2020-01-03 -0.004987 -0.000159 -0.009160  0.053756\n",
       "2020-01-06  0.003560  0.001111  0.006443 -0.013734\n",
       "2020-01-07 -0.001774 -0.002458 -0.000139 -0.004642\n",
       "2020-01-08  0.005938  0.005326  0.007516 -0.013991\n",
       "2020-01-09  0.003626  0.008698  0.008474 -0.041892\n",
       "...              ...       ...       ...       ...\n",
       "2025-05-27  0.023732  0.021486  0.023525 -0.100527\n",
       "2025-05-28 -0.009046 -0.001995 -0.004432  0.011536\n",
       "2025-05-29  0.000776  0.000869  0.001966  0.001122\n",
       "2025-05-30 -0.004357  0.005297 -0.001577  0.005229\n",
       "2025-06-02  0.007492  0.008724  0.007898 -0.010816\n",
       "\n",
       "[1360 rows x 4 columns]"
      ]
     },
     "execution_count": 30,
     "metadata": {},
     "output_type": "execute_result"
    }
   ],
   "source": [
    "rets = prices.pct_change().dropna()\n",
    "rets"
   ]
  },
  {
   "cell_type": "markdown",
   "id": "24721811",
   "metadata": {},
   "source": [
    "---"
   ]
  },
  {
   "cell_type": "markdown",
   "id": "19b8e047",
   "metadata": {},
   "source": [
    "### Rendimiento Anual y diario"
   ]
  },
  {
   "cell_type": "code",
   "execution_count": 33,
   "id": "6fe48987",
   "metadata": {},
   "outputs": [
    {
     "name": "stdout",
     "output_type": "stream",
     "text": [
      "Rendimiento anual del portafolio: 9.584410163068473 %\n"
     ]
    }
   ],
   "source": [
    "mean = rets.mean()\n",
    "\n",
    "Rend_port_diario = (mean * w).sum()\n",
    "Rend_port_anual = Rend_port_diario * 252\n",
    "print('Rendimiento anual del portafolio:', Rend_port_anual * 100, '%')\n"
   ]
  },
  {
   "cell_type": "markdown",
   "id": "ef61b61b",
   "metadata": {},
   "source": [
    "---"
   ]
  },
  {
   "cell_type": "markdown",
   "id": "4b8e05b2",
   "metadata": {},
   "source": [
    "### Covarianza"
   ]
  },
  {
   "cell_type": "code",
   "execution_count": 43,
   "id": "8b9428b8",
   "metadata": {},
   "outputs": [
    {
     "data": {
      "text/html": [
       "<div>\n",
       "<style scoped>\n",
       "    .dataframe tbody tr th:only-of-type {\n",
       "        vertical-align: middle;\n",
       "    }\n",
       "\n",
       "    .dataframe tbody tr th {\n",
       "        vertical-align: top;\n",
       "    }\n",
       "\n",
       "    .dataframe thead th {\n",
       "        text-align: right;\n",
       "    }\n",
       "</style>\n",
       "<table border=\"1\" class=\"dataframe\">\n",
       "  <thead>\n",
       "    <tr style=\"text-align: right;\">\n",
       "      <th>Ticker</th>\n",
       "      <th>IWO</th>\n",
       "      <th>MTUM</th>\n",
       "      <th>QQQ</th>\n",
       "      <th>VXX</th>\n",
       "    </tr>\n",
       "    <tr>\n",
       "      <th>Ticker</th>\n",
       "      <th></th>\n",
       "      <th></th>\n",
       "      <th></th>\n",
       "      <th></th>\n",
       "    </tr>\n",
       "  </thead>\n",
       "  <tbody>\n",
       "    <tr>\n",
       "      <th>IWO</th>\n",
       "      <td>0.000318</td>\n",
       "      <td>0.000227</td>\n",
       "      <td>0.000242</td>\n",
       "      <td>-0.000612</td>\n",
       "    </tr>\n",
       "    <tr>\n",
       "      <th>MTUM</th>\n",
       "      <td>0.000227</td>\n",
       "      <td>0.000242</td>\n",
       "      <td>0.000229</td>\n",
       "      <td>-0.000522</td>\n",
       "    </tr>\n",
       "    <tr>\n",
       "      <th>QQQ</th>\n",
       "      <td>0.000242</td>\n",
       "      <td>0.000229</td>\n",
       "      <td>0.000273</td>\n",
       "      <td>-0.000559</td>\n",
       "    </tr>\n",
       "    <tr>\n",
       "      <th>VXX</th>\n",
       "      <td>-0.000612</td>\n",
       "      <td>-0.000522</td>\n",
       "      <td>-0.000559</td>\n",
       "      <td>0.002390</td>\n",
       "    </tr>\n",
       "  </tbody>\n",
       "</table>\n",
       "</div>"
      ],
      "text/plain": [
       "Ticker       IWO      MTUM       QQQ       VXX\n",
       "Ticker                                        \n",
       "IWO     0.000318  0.000227  0.000242 -0.000612\n",
       "MTUM    0.000227  0.000242  0.000229 -0.000522\n",
       "QQQ     0.000242  0.000229  0.000273 -0.000559\n",
       "VXX    -0.000612 -0.000522 -0.000559  0.002390"
      ]
     },
     "execution_count": 43,
     "metadata": {},
     "output_type": "execute_result"
    }
   ],
   "source": [
    "cov= rets.cov()\n",
    "cov"
   ]
  },
  {
   "cell_type": "markdown",
   "id": "5ceb5b16",
   "metadata": {},
   "source": [
    "### Varianza anual"
   ]
  },
  {
   "cell_type": "code",
   "execution_count": null,
   "id": "50955bb9",
   "metadata": {},
   "outputs": [],
   "source": [
    "var_port_diario=w.T @ cov @ w\n",
    "var_port_anual= var_port_diario*252\n",
    "\n",
    "print('Varianza del portafolio anual es de:', var_port_anual*100, '%')"
   ]
  },
  {
   "cell_type": "markdown",
   "id": "de12f570",
   "metadata": {},
   "source": [
    "### Volatilidad anual"
   ]
  },
  {
   "cell_type": "code",
   "execution_count": 44,
   "id": "1b9aacb5",
   "metadata": {},
   "outputs": [
    {
     "name": "stdout",
     "output_type": "stream",
     "text": [
      "Volatilidad del portafolio anual es de: 15.394862014025854 %\n"
     ]
    }
   ],
   "source": [
    "vol_port_anual = np.sqrt(var_port_anual)\n",
    "print('Volatilidad del portafolio anual es de:', vol_port_anual * 100, '%')"
   ]
  },
  {
   "cell_type": "code",
   "execution_count": 47,
   "id": "80f8136b",
   "metadata": {},
   "outputs": [
    {
     "name": "stdout",
     "output_type": "stream",
     "text": [
      "volatilidad ponderada 37.872548604628896 %\n"
     ]
    }
   ],
   "source": [
    "print('volatilidad ponderada',np.sqrt((rets.var()*w).sum()*252)*100, '%')"
   ]
  },
  {
   "cell_type": "markdown",
   "id": "cccf9dc6",
   "metadata": {},
   "source": [
    "---"
   ]
  },
  {
   "cell_type": "markdown",
   "id": "6631824a",
   "metadata": {},
   "source": [
    "### Correlación"
   ]
  },
  {
   "cell_type": "code",
   "execution_count": 45,
   "id": "975c66a3",
   "metadata": {},
   "outputs": [
    {
     "data": {
      "text/html": [
       "<div>\n",
       "<style scoped>\n",
       "    .dataframe tbody tr th:only-of-type {\n",
       "        vertical-align: middle;\n",
       "    }\n",
       "\n",
       "    .dataframe tbody tr th {\n",
       "        vertical-align: top;\n",
       "    }\n",
       "\n",
       "    .dataframe thead th {\n",
       "        text-align: right;\n",
       "    }\n",
       "</style>\n",
       "<table border=\"1\" class=\"dataframe\">\n",
       "  <thead>\n",
       "    <tr style=\"text-align: right;\">\n",
       "      <th>Ticker</th>\n",
       "      <th>IWO</th>\n",
       "      <th>MTUM</th>\n",
       "      <th>QQQ</th>\n",
       "      <th>VXX</th>\n",
       "    </tr>\n",
       "    <tr>\n",
       "      <th>Ticker</th>\n",
       "      <th></th>\n",
       "      <th></th>\n",
       "      <th></th>\n",
       "      <th></th>\n",
       "    </tr>\n",
       "  </thead>\n",
       "  <tbody>\n",
       "    <tr>\n",
       "      <th>IWO</th>\n",
       "      <td>1.000000</td>\n",
       "      <td>0.817946</td>\n",
       "      <td>0.821392</td>\n",
       "      <td>-0.701548</td>\n",
       "    </tr>\n",
       "    <tr>\n",
       "      <th>MTUM</th>\n",
       "      <td>0.817946</td>\n",
       "      <td>1.000000</td>\n",
       "      <td>0.892152</td>\n",
       "      <td>-0.685832</td>\n",
       "    </tr>\n",
       "    <tr>\n",
       "      <th>QQQ</th>\n",
       "      <td>0.821392</td>\n",
       "      <td>0.892152</td>\n",
       "      <td>1.000000</td>\n",
       "      <td>-0.692496</td>\n",
       "    </tr>\n",
       "    <tr>\n",
       "      <th>VXX</th>\n",
       "      <td>-0.701548</td>\n",
       "      <td>-0.685832</td>\n",
       "      <td>-0.692496</td>\n",
       "      <td>1.000000</td>\n",
       "    </tr>\n",
       "  </tbody>\n",
       "</table>\n",
       "</div>"
      ],
      "text/plain": [
       "Ticker       IWO      MTUM       QQQ       VXX\n",
       "Ticker                                        \n",
       "IWO     1.000000  0.817946  0.821392 -0.701548\n",
       "MTUM    0.817946  1.000000  0.892152 -0.685832\n",
       "QQQ     0.821392  0.892152  1.000000 -0.692496\n",
       "VXX    -0.701548 -0.685832 -0.692496  1.000000"
      ]
     },
     "execution_count": 45,
     "metadata": {},
     "output_type": "execute_result"
    }
   ],
   "source": [
    "rets.corr()"
   ]
  },
  {
   "cell_type": "code",
   "execution_count": null,
   "id": "16241490",
   "metadata": {},
   "outputs": [],
   "source": []
  }
 ],
 "metadata": {
  "kernelspec": {
   "display_name": "Python 3",
   "language": "python",
   "name": "python3"
  },
  "language_info": {
   "codemirror_mode": {
    "name": "ipython",
    "version": 3
   },
   "file_extension": ".py",
   "mimetype": "text/x-python",
   "name": "python",
   "nbconvert_exporter": "python",
   "pygments_lexer": "ipython3",
   "version": "3.12.8"
  }
 },
 "nbformat": 4,
 "nbformat_minor": 5
}
