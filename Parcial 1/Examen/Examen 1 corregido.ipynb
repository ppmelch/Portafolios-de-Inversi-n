{
 "cells": [
  {
   "cell_type": "markdown",
   "id": "a8030b23",
   "metadata": {},
   "source": [
    "# Portafolios de Inversión\n",
    "## Primer Examen Parcial\n",
    "José Armando Melchor Soto\n",
    "\n",
    "---\n",
    "\n",
    "\n",
    "\n"
   ]
  },
  {
   "cell_type": "markdown",
   "id": "6016330d",
   "metadata": {},
   "source": [
    "### Librerías"
   ]
  },
  {
   "cell_type": "code",
   "execution_count": 386,
   "id": "4e1fc32e",
   "metadata": {},
   "outputs": [],
   "source": [
    "import pandas as pd\n",
    "import numpy as np"
   ]
  },
  {
   "cell_type": "markdown",
   "id": "563fa116",
   "metadata": {},
   "source": [
    "---"
   ]
  },
  {
   "attachments": {
    "image.png": {
     "image/png": "[encoded data removed]"
    }
   },
   "cell_type": "markdown",
   "id": "093b9002",
   "metadata": {},
   "source": [
    "![image.png](attachment:image.png)"
   ]
  },
  {
   "cell_type": "code",
   "execution_count": 387,
   "id": "f236355a",
   "metadata": {},
   "outputs": [],
   "source": [
    "df = pd.DataFrame(index=['Expansión', 'Crecimiento', 'Recesión'])\n",
    "df['Proba']= [0.2,0.7,0.1]\n",
    "df['Rend']=  [0.21,0.05,-0.13]"
   ]
  },
  {
   "cell_type": "markdown",
   "id": "71d85617",
   "metadata": {},
   "source": [
    "#### Calcular el Rendimiento esperado del S&P 500"
   ]
  },
  {
   "cell_type": "code",
   "execution_count": 388,
   "id": "d994d463",
   "metadata": {},
   "outputs": [
    {
     "data": {
      "text/plain": [
       "6.4"
      ]
     },
     "execution_count": 388,
     "metadata": {},
     "output_type": "execute_result"
    }
   ],
   "source": [
    "df['E[X]'] = df['Proba'] * df['Rend']\n",
    "E=( df['E[X]'].sum())\n",
    "E*100"
   ]
  },
  {
   "cell_type": "markdown",
   "id": "496303df",
   "metadata": {},
   "source": [
    "#### Calcular la Volatilidad Esperada"
   ]
  },
  {
   "cell_type": "code",
   "execution_count": 389,
   "id": "0e9a4e0c",
   "metadata": {},
   "outputs": [
    {
     "data": {
      "text/plain": [
       "0.8164000000000001"
      ]
     },
     "execution_count": 389,
     "metadata": {},
     "output_type": "execute_result"
    }
   ],
   "source": [
    "v_r = (df['Proba'] * (df['Rend'] - E )**2).sum()\n",
    "v_r*100"
   ]
  },
  {
   "cell_type": "code",
   "execution_count": 390,
   "id": "2e60a888",
   "metadata": {},
   "outputs": [
    {
     "data": {
      "text/plain": [
       "9.035485598461214"
      ]
     },
     "execution_count": 390,
     "metadata": {},
     "output_type": "execute_result"
    }
   ],
   "source": [
    "Vol_esp = np.sqrt(v_r)\n",
    "Vol_esp*100"
   ]
  },
  {
   "cell_type": "markdown",
   "id": "3cd2d00d",
   "metadata": {},
   "source": [
    "---"
   ]
  },
  {
   "cell_type": "code",
   "execution_count": 411,
   "id": "d7d4af51",
   "metadata": {},
   "outputs": [
    {
     "data": {
      "text/html": [
       "<div>\n",
       "<style scoped>\n",
       "    .dataframe tbody tr th:only-of-type {\n",
       "        vertical-align: middle;\n",
       "    }\n",
       "\n",
       "    .dataframe tbody tr th {\n",
       "        vertical-align: top;\n",
       "    }\n",
       "\n",
       "    .dataframe thead th {\n",
       "        text-align: right;\n",
       "    }\n",
       "</style>\n",
       "<table border=\"1\" class=\"dataframe\">\n",
       "  <thead>\n",
       "    <tr style=\"text-align: right;\">\n",
       "      <th></th>\n",
       "      <th>J&amp;J</th>\n",
       "      <th>CAT</th>\n",
       "      <th>AAPL</th>\n",
       "    </tr>\n",
       "    <tr>\n",
       "      <th>Date</th>\n",
       "      <th></th>\n",
       "      <th></th>\n",
       "      <th></th>\n",
       "    </tr>\n",
       "  </thead>\n",
       "  <tbody>\n",
       "    <tr>\n",
       "      <th>2022-05-19</th>\n",
       "      <td>100.000000</td>\n",
       "      <td>100.000000</td>\n",
       "      <td>100.000000</td>\n",
       "    </tr>\n",
       "    <tr>\n",
       "      <th>2022-05-20</th>\n",
       "      <td>101.747729</td>\n",
       "      <td>95.676146</td>\n",
       "      <td>100.174736</td>\n",
       "    </tr>\n",
       "    <tr>\n",
       "      <th>2022-05-23</th>\n",
       "      <td>103.162010</td>\n",
       "      <td>98.737667</td>\n",
       "      <td>104.193666</td>\n",
       "    </tr>\n",
       "    <tr>\n",
       "      <th>2022-05-24</th>\n",
       "      <td>104.288835</td>\n",
       "      <td>99.463146</td>\n",
       "      <td>102.191482</td>\n",
       "    </tr>\n",
       "    <tr>\n",
       "      <th>2022-05-25</th>\n",
       "      <td>103.265494</td>\n",
       "      <td>101.233314</td>\n",
       "      <td>102.307972</td>\n",
       "    </tr>\n",
       "    <tr>\n",
       "      <th>...</th>\n",
       "      <td>...</td>\n",
       "      <td>...</td>\n",
       "      <td>...</td>\n",
       "    </tr>\n",
       "    <tr>\n",
       "      <th>2025-05-13</th>\n",
       "      <td>85.339772</td>\n",
       "      <td>170.506868</td>\n",
       "      <td>155.027303</td>\n",
       "    </tr>\n",
       "    <tr>\n",
       "      <th>2025-05-14</th>\n",
       "      <td>84.143958</td>\n",
       "      <td>169.113949</td>\n",
       "      <td>154.590462</td>\n",
       "    </tr>\n",
       "    <tr>\n",
       "      <th>2025-05-15</th>\n",
       "      <td>86.012418</td>\n",
       "      <td>169.186496</td>\n",
       "      <td>153.949763</td>\n",
       "    </tr>\n",
       "    <tr>\n",
       "      <th>2025-05-16</th>\n",
       "      <td>87.001265</td>\n",
       "      <td>171.009867</td>\n",
       "      <td>153.811431</td>\n",
       "    </tr>\n",
       "    <tr>\n",
       "      <th>2025-05-19</th>\n",
       "      <td>87.668161</td>\n",
       "      <td>170.521377</td>\n",
       "      <td>152.005825</td>\n",
       "    </tr>\n",
       "  </tbody>\n",
       "</table>\n",
       "<p>752 rows × 3 columns</p>\n",
       "</div>"
      ],
      "text/plain": [
       "                   J&J         CAT        AAPL\n",
       "Date                                          \n",
       "2022-05-19  100.000000  100.000000  100.000000\n",
       "2022-05-20  101.747729   95.676146  100.174736\n",
       "2022-05-23  103.162010   98.737667  104.193666\n",
       "2022-05-24  104.288835   99.463146  102.191482\n",
       "2022-05-25  103.265494  101.233314  102.307972\n",
       "...                ...         ...         ...\n",
       "2025-05-13   85.339772  170.506868  155.027303\n",
       "2025-05-14   84.143958  169.113949  154.590462\n",
       "2025-05-15   86.012418  169.186496  153.949763\n",
       "2025-05-16   87.001265  171.009867  153.811431\n",
       "2025-05-19   87.668161  170.521377  152.005825\n",
       "\n",
       "[752 rows x 3 columns]"
      ]
     },
     "execution_count": 411,
     "metadata": {},
     "output_type": "execute_result"
    }
   ],
   "source": [
    "prices = pd.read_excel('datos.xlsx', index_col=[0])\n",
    "prices = prices[['J&J', 'CAT','AAPL']]\n",
    "prices"
   ]
  },
  {
   "cell_type": "markdown",
   "id": "8aa3e759",
   "metadata": {},
   "source": [
    "#### Ponderaciones "
   ]
  },
  {
   "cell_type": "code",
   "execution_count": 412,
   "id": "0c75499d",
   "metadata": {},
   "outputs": [],
   "source": [
    "w= np.array([0.4,0.3,0.3])\n"
   ]
  },
  {
   "cell_type": "markdown",
   "id": "f60d69ab",
   "metadata": {},
   "source": [
    "#### Rendimiento esperado de tu portafolio de manera anual."
   ]
  },
  {
   "cell_type": "markdown",
   "id": "0ffe0800",
   "metadata": {},
   "source": [
    "1. Returns del portafolio "
   ]
  },
  {
   "cell_type": "code",
   "execution_count": 413,
   "id": "0b528a52",
   "metadata": {},
   "outputs": [
    {
     "data": {
      "text/html": [
       "<div>\n",
       "<style scoped>\n",
       "    .dataframe tbody tr th:only-of-type {\n",
       "        vertical-align: middle;\n",
       "    }\n",
       "\n",
       "    .dataframe tbody tr th {\n",
       "        vertical-align: top;\n",
       "    }\n",
       "\n",
       "    .dataframe thead th {\n",
       "        text-align: right;\n",
       "    }\n",
       "</style>\n",
       "<table border=\"1\" class=\"dataframe\">\n",
       "  <thead>\n",
       "    <tr style=\"text-align: right;\">\n",
       "      <th></th>\n",
       "      <th>J&amp;J</th>\n",
       "      <th>CAT</th>\n",
       "      <th>AAPL</th>\n",
       "    </tr>\n",
       "    <tr>\n",
       "      <th>Date</th>\n",
       "      <th></th>\n",
       "      <th></th>\n",
       "      <th></th>\n",
       "    </tr>\n",
       "  </thead>\n",
       "  <tbody>\n",
       "    <tr>\n",
       "      <th>2022-05-20</th>\n",
       "      <td>0.017477</td>\n",
       "      <td>-0.043239</td>\n",
       "      <td>0.001747</td>\n",
       "    </tr>\n",
       "    <tr>\n",
       "      <th>2022-05-23</th>\n",
       "      <td>0.013900</td>\n",
       "      <td>0.031999</td>\n",
       "      <td>0.040119</td>\n",
       "    </tr>\n",
       "    <tr>\n",
       "      <th>2022-05-24</th>\n",
       "      <td>0.010923</td>\n",
       "      <td>0.007348</td>\n",
       "      <td>-0.019216</td>\n",
       "    </tr>\n",
       "    <tr>\n",
       "      <th>2022-05-25</th>\n",
       "      <td>-0.009813</td>\n",
       "      <td>0.017797</td>\n",
       "      <td>0.001140</td>\n",
       "    </tr>\n",
       "    <tr>\n",
       "      <th>2022-05-26</th>\n",
       "      <td>-0.000891</td>\n",
       "      <td>0.017582</td>\n",
       "      <td>0.023200</td>\n",
       "    </tr>\n",
       "    <tr>\n",
       "      <th>...</th>\n",
       "      <td>...</td>\n",
       "      <td>...</td>\n",
       "      <td>...</td>\n",
       "    </tr>\n",
       "    <tr>\n",
       "      <th>2025-05-13</th>\n",
       "      <td>-0.036979</td>\n",
       "      <td>0.029164</td>\n",
       "      <td>0.010152</td>\n",
       "    </tr>\n",
       "    <tr>\n",
       "      <th>2025-05-14</th>\n",
       "      <td>-0.014012</td>\n",
       "      <td>-0.008169</td>\n",
       "      <td>-0.002818</td>\n",
       "    </tr>\n",
       "    <tr>\n",
       "      <th>2025-05-15</th>\n",
       "      <td>0.022206</td>\n",
       "      <td>0.000429</td>\n",
       "      <td>-0.004144</td>\n",
       "    </tr>\n",
       "    <tr>\n",
       "      <th>2025-05-16</th>\n",
       "      <td>0.011497</td>\n",
       "      <td>0.010777</td>\n",
       "      <td>-0.000899</td>\n",
       "    </tr>\n",
       "    <tr>\n",
       "      <th>2025-05-19</th>\n",
       "      <td>0.007665</td>\n",
       "      <td>-0.002856</td>\n",
       "      <td>-0.011739</td>\n",
       "    </tr>\n",
       "  </tbody>\n",
       "</table>\n",
       "<p>751 rows × 3 columns</p>\n",
       "</div>"
      ],
      "text/plain": [
       "                 J&J       CAT      AAPL\n",
       "Date                                    \n",
       "2022-05-20  0.017477 -0.043239  0.001747\n",
       "2022-05-23  0.013900  0.031999  0.040119\n",
       "2022-05-24  0.010923  0.007348 -0.019216\n",
       "2022-05-25 -0.009813  0.017797  0.001140\n",
       "2022-05-26 -0.000891  0.017582  0.023200\n",
       "...              ...       ...       ...\n",
       "2025-05-13 -0.036979  0.029164  0.010152\n",
       "2025-05-14 -0.014012 -0.008169 -0.002818\n",
       "2025-05-15  0.022206  0.000429 -0.004144\n",
       "2025-05-16  0.011497  0.010777 -0.000899\n",
       "2025-05-19  0.007665 -0.002856 -0.011739\n",
       "\n",
       "[751 rows x 3 columns]"
      ]
     },
     "execution_count": 413,
     "metadata": {},
     "output_type": "execute_result"
    }
   ],
   "source": [
    "ret = prices.pct_change().dropna()\n",
    "ret"
   ]
  },
  {
   "cell_type": "markdown",
   "id": "a91fe5b8",
   "metadata": {},
   "source": [
    "2. Rendimientos anuales"
   ]
  },
  {
   "cell_type": "code",
   "execution_count": 414,
   "id": "3e598d39",
   "metadata": {},
   "outputs": [
    {
     "data": {
      "text/plain": [
       "11.025752687213112"
      ]
     },
     "execution_count": 414,
     "metadata": {},
     "output_type": "execute_result"
    }
   ],
   "source": [
    "mean = ret.mean()\n",
    "ret_anual = (w *mean).sum()\n",
    "ret_anual * 252 * 100"
   ]
  },
  {
   "cell_type": "markdown",
   "id": "f978cd3e",
   "metadata": {},
   "source": [
    "#### Volatilidad individual de J&J de manera diaria."
   ]
  },
  {
   "cell_type": "markdown",
   "id": "bbad2622",
   "metadata": {},
   "source": [
    "1. Retornos"
   ]
  },
  {
   "cell_type": "code",
   "execution_count": 415,
   "id": "98594006",
   "metadata": {},
   "outputs": [
    {
     "data": {
      "text/plain": [
       "Date\n",
       "2022-05-20    0.017477\n",
       "2022-05-23    0.013900\n",
       "2022-05-24    0.010923\n",
       "2022-05-25   -0.009813\n",
       "2022-05-26   -0.000891\n",
       "Name: J&J, dtype: float64"
      ]
     },
     "execution_count": 415,
     "metadata": {},
     "output_type": "execute_result"
    }
   ],
   "source": [
    "ret_JJ = prices['J&J'].pct_change().dropna()\n",
    "ret_JJ.head()"
   ]
  },
  {
   "cell_type": "markdown",
   "id": "29abb19e",
   "metadata": {},
   "source": [
    "2. Retornos Anuales"
   ]
  },
  {
   "cell_type": "code",
   "execution_count": 416,
   "id": "0d664032",
   "metadata": {},
   "outputs": [
    {
     "data": {
      "text/plain": [
       "-2.9290547858893823"
      ]
     },
     "execution_count": 416,
     "metadata": {},
     "output_type": "execute_result"
    }
   ],
   "source": [
    "mean_JJ = ret_JJ.mean()\n",
    "ret_JJ_anual = (mean_JJ*w).sum()\n",
    "ret_JJ_anual*252*100"
   ]
  },
  {
   "cell_type": "markdown",
   "id": "d0374ae5",
   "metadata": {},
   "source": [
    "3. Varianza anual"
   ]
  },
  {
   "cell_type": "code",
   "execution_count": 417,
   "id": "28b06ee1",
   "metadata": {},
   "outputs": [
    {
     "data": {
      "text/plain": [
       "2.9707103616505304"
      ]
     },
     "execution_count": 417,
     "metadata": {},
     "output_type": "execute_result"
    }
   ],
   "source": [
    "varJJ = ret_JJ.var()\n",
    "varJJ_anual = varJJ * 252\n",
    "varJJ_anual*100\n"
   ]
  },
  {
   "cell_type": "markdown",
   "id": "a2eaefbf",
   "metadata": {},
   "source": [
    "4. Volatilidad "
   ]
  },
  {
   "cell_type": "code",
   "execution_count": 418,
   "id": "ebcb7b01",
   "metadata": {},
   "outputs": [
    {
     "data": {
      "text/plain": [
       "1.085750117713689"
      ]
     },
     "execution_count": 418,
     "metadata": {},
     "output_type": "execute_result"
    }
   ],
   "source": [
    "vol = np.sqrt(varJJ)\n",
    "vol*100"
   ]
  },
  {
   "cell_type": "code",
   "execution_count": 419,
   "id": "6049b438",
   "metadata": {},
   "outputs": [
    {
     "data": {
      "text/plain": [
       "17.235748784577158"
      ]
     },
     "execution_count": 419,
     "metadata": {},
     "output_type": "execute_result"
    }
   ],
   "source": [
    "vol_anual = vol * np.sqrt(252)\n",
    "vol_anual*100"
   ]
  },
  {
   "cell_type": "markdown",
   "id": "d8013f6b",
   "metadata": {},
   "source": [
    "#### Varianza de tu portafolio de manera anual"
   ]
  },
  {
   "cell_type": "markdown",
   "id": "f74b14eb",
   "metadata": {},
   "source": [
    "1. Covarianza"
   ]
  },
  {
   "cell_type": "code",
   "execution_count": 420,
   "id": "4adcb0ba",
   "metadata": {},
   "outputs": [],
   "source": [
    "cov = ret.cov()"
   ]
  },
  {
   "cell_type": "markdown",
   "id": "de40f9c1",
   "metadata": {},
   "source": [
    "2. Varianza "
   ]
  },
  {
   "cell_type": "code",
   "execution_count": 423,
   "id": "39c9fc01",
   "metadata": {},
   "outputs": [
    {
     "data": {
      "text/plain": [
       "0.011812270824629082"
      ]
     },
     "execution_count": 423,
     "metadata": {},
     "output_type": "execute_result"
    }
   ],
   "source": [
    "var = w.T @ cov @ w\n",
    "var*100\n"
   ]
  },
  {
   "cell_type": "code",
   "execution_count": 425,
   "id": "18fc96da",
   "metadata": {},
   "outputs": [
    {
     "data": {
      "text/plain": [
       "2.9766922478065285"
      ]
     },
     "execution_count": 425,
     "metadata": {},
     "output_type": "execute_result"
    }
   ],
   "source": [
    "var_anual = var * 252\n",
    "var_anual*100"
   ]
  },
  {
   "cell_type": "markdown",
   "id": "a6cd4b3d",
   "metadata": {},
   "source": [
    "#### Radio de Sharpe de tu portafolio utilizando datos anuales. "
   ]
  },
  {
   "cell_type": "code",
   "execution_count": null,
   "id": "d23dbe42",
   "metadata": {},
   "outputs": [],
   "source": [
    "rf = 0.03"
   ]
  },
  {
   "cell_type": "code",
   "execution_count": null,
   "id": "eefec05d",
   "metadata": {},
   "outputs": [
    {
     "data": {
      "text/plain": [
       "-0.17151833959144724"
      ]
     },
     "execution_count": 364,
     "metadata": {},
     "output_type": "execute_result"
    }
   ],
   "source": [
    "RS = (ret_anual - rf) / vol_anual\n",
    "RS"
   ]
  },
  {
   "cell_type": "markdown",
   "id": "ae22acac",
   "metadata": {},
   "source": [
    "#### Matriz de Correlación"
   ]
  },
  {
   "cell_type": "code",
   "execution_count": 426,
   "id": "0f4b073e",
   "metadata": {},
   "outputs": [
    {
     "data": {
      "text/html": [
       "<div>\n",
       "<style scoped>\n",
       "    .dataframe tbody tr th:only-of-type {\n",
       "        vertical-align: middle;\n",
       "    }\n",
       "\n",
       "    .dataframe tbody tr th {\n",
       "        vertical-align: top;\n",
       "    }\n",
       "\n",
       "    .dataframe thead th {\n",
       "        text-align: right;\n",
       "    }\n",
       "</style>\n",
       "<table border=\"1\" class=\"dataframe\">\n",
       "  <thead>\n",
       "    <tr style=\"text-align: right;\">\n",
       "      <th></th>\n",
       "      <th>J&amp;J</th>\n",
       "      <th>CAT</th>\n",
       "      <th>AAPL</th>\n",
       "    </tr>\n",
       "  </thead>\n",
       "  <tbody>\n",
       "    <tr>\n",
       "      <th>J&amp;J</th>\n",
       "      <td>1.000000</td>\n",
       "      <td>0.097364</td>\n",
       "      <td>0.143737</td>\n",
       "    </tr>\n",
       "    <tr>\n",
       "      <th>CAT</th>\n",
       "      <td>0.097364</td>\n",
       "      <td>1.000000</td>\n",
       "      <td>0.403509</td>\n",
       "    </tr>\n",
       "    <tr>\n",
       "      <th>AAPL</th>\n",
       "      <td>0.143737</td>\n",
       "      <td>0.403509</td>\n",
       "      <td>1.000000</td>\n",
       "    </tr>\n",
       "  </tbody>\n",
       "</table>\n",
       "</div>"
      ],
      "text/plain": [
       "           J&J       CAT      AAPL\n",
       "J&J   1.000000  0.097364  0.143737\n",
       "CAT   0.097364  1.000000  0.403509\n",
       "AAPL  0.143737  0.403509  1.000000"
      ]
     },
     "execution_count": 426,
     "metadata": {},
     "output_type": "execute_result"
    }
   ],
   "source": [
    "ret.corr()"
   ]
  },
  {
   "cell_type": "markdown",
   "id": "f52471f1",
   "metadata": {},
   "source": [
    "#### 14 Ratio Sharpe estrategia Pasiva "
   ]
  },
  {
   "cell_type": "markdown",
   "id": "7a2f2b87",
   "metadata": {},
   "source": [
    "- ret anual\n",
    "- rf \n",
    "- vol anual  "
   ]
  },
  {
   "cell_type": "code",
   "execution_count": null,
   "id": "bd51efe6",
   "metadata": {},
   "outputs": [],
   "source": [
    "rf = 0.03"
   ]
  },
  {
   "cell_type": "code",
   "execution_count": null,
   "id": "6cc98d6e",
   "metadata": {},
   "outputs": [
    {
     "data": {
      "text/plain": [
       "1      0.000280\n",
       "2      0.019780\n",
       "3      0.001517\n",
       "4      0.006003\n",
       "5      0.016093\n",
       "         ...   \n",
       "747   -0.006358\n",
       "748   -0.002121\n",
       "749    0.006461\n",
       "750    0.007844\n",
       "751    0.003219\n",
       "Name: DJI, Length: 751, dtype: float64"
      ]
     },
     "metadata": {},
     "output_type": "display_data"
    }
   ],
   "source": [
    "ret = prices['DJI'].pct_change().dropna()\n",
    "ret"
   ]
  },
  {
   "cell_type": "code",
   "execution_count": null,
   "id": "d8ee32b4",
   "metadata": {},
   "outputs": [
    {
     "data": {
      "text/plain": [
       "11.724915421236627"
      ]
     },
     "metadata": {},
     "output_type": "display_data"
    }
   ],
   "source": [
    "ret_anual = ret.mean() *252\n",
    "ret_anual*100"
   ]
  },
  {
   "cell_type": "markdown",
   "id": "9e62f6f7",
   "metadata": {},
   "source": [
    "### var anual"
   ]
  },
  {
   "cell_type": "code",
   "execution_count": null,
   "id": "51d72c22",
   "metadata": {},
   "outputs": [
    {
     "data": {
      "text/plain": [
       "2.3657904468559994"
      ]
     },
     "metadata": {},
     "output_type": "display_data"
    }
   ],
   "source": [
    "var = ret.var() *252\n",
    "var*100"
   ]
  },
  {
   "cell_type": "markdown",
   "id": "509464bc",
   "metadata": {},
   "source": [
    "vol anual"
   ]
  },
  {
   "cell_type": "code",
   "execution_count": null,
   "id": "cf553be4",
   "metadata": {},
   "outputs": [
    {
     "data": {
      "text/plain": [
       "15.381126248932485"
      ]
     },
     "metadata": {},
     "output_type": "display_data"
    }
   ],
   "source": [
    "vol = np.sqrt(var)\n",
    "vol*100"
   ]
  },
  {
   "cell_type": "markdown",
   "id": "44e0485b",
   "metadata": {},
   "source": [
    "RS"
   ]
  },
  {
   "cell_type": "code",
   "execution_count": null,
   "id": "9e35b0f5",
   "metadata": {},
   "outputs": [
    {
     "data": {
      "text/plain": [
       "0.5672481507550315"
      ]
     },
     "metadata": {},
     "output_type": "display_data"
    }
   ],
   "source": [
    "RS= (ret_anual - rf) / vol\n",
    "RS "
   ]
  }
 ],
 "metadata": {
  "kernelspec": {
   "display_name": "Python 3",
   "language": "python",
   "name": "python3"
  },
  "language_info": {
   "codemirror_mode": {
    "name": "ipython",
    "version": 3
   },
   "file_extension": ".py",
   "mimetype": "text/x-python",
   "name": "python",
   "nbconvert_exporter": "python",
   "pygments_lexer": "ipython3",
   "version": "3.12.8"
  }
 },
 "nbformat": 4,
 "nbformat_minor": 5
}
