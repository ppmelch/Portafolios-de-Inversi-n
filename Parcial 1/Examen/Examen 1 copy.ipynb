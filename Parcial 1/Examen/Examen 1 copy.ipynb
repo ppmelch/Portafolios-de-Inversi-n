{
 "cells": [
  {
   "cell_type": "markdown",
   "id": "a8030b23",
   "metadata": {},
   "source": [
    "# Portafolios de Inversión\n",
    "## Primer Examen Parcial\n",
    "José Armando Melchor Soto\n",
    "\n",
    "---\n",
    "\n",
    "\n",
    "\n"
   ]
  },
  {
   "cell_type": "markdown",
   "id": "6016330d",
   "metadata": {},
   "source": [
    "### Librerías"
   ]
  },
  {
   "cell_type": "code",
   "execution_count": 248,
   "id": "4e1fc32e",
   "metadata": {},
   "outputs": [],
   "source": [
    "import pandas as pd\n",
    "import numpy as np"
   ]
  },
  {
   "cell_type": "markdown",
   "id": "563fa116",
   "metadata": {},
   "source": [
    "---"
   ]
  },
  {
   "cell_type": "markdown",
   "id": "2a4b6424",
   "metadata": {},
   "source": [
    "---"
   ]
  },
  {
   "cell_type": "code",
   "execution_count": 249,
   "id": "c86e3dbf",
   "metadata": {},
   "outputs": [
    {
     "data": {
      "text/html": [
       "<div>\n",
       "<style scoped>\n",
       "    .dataframe tbody tr th:only-of-type {\n",
       "        vertical-align: middle;\n",
       "    }\n",
       "\n",
       "    .dataframe tbody tr th {\n",
       "        vertical-align: top;\n",
       "    }\n",
       "\n",
       "    .dataframe thead th {\n",
       "        text-align: right;\n",
       "    }\n",
       "</style>\n",
       "<table border=\"1\" class=\"dataframe\">\n",
       "  <thead>\n",
       "    <tr style=\"text-align: right;\">\n",
       "      <th></th>\n",
       "      <th>Date</th>\n",
       "      <th>DJI</th>\n",
       "      <th>J&amp;J</th>\n",
       "      <th>CAT</th>\n",
       "      <th>AAPL</th>\n",
       "    </tr>\n",
       "  </thead>\n",
       "  <tbody>\n",
       "    <tr>\n",
       "      <th>0</th>\n",
       "      <td>2022-05-19</td>\n",
       "      <td>100.000000</td>\n",
       "      <td>100.000000</td>\n",
       "      <td>100.000000</td>\n",
       "      <td>100.000000</td>\n",
       "    </tr>\n",
       "    <tr>\n",
       "      <th>1</th>\n",
       "      <td>2022-05-20</td>\n",
       "      <td>100.028047</td>\n",
       "      <td>101.747729</td>\n",
       "      <td>95.676146</td>\n",
       "      <td>100.174736</td>\n",
       "    </tr>\n",
       "    <tr>\n",
       "      <th>2</th>\n",
       "      <td>2022-05-23</td>\n",
       "      <td>102.006554</td>\n",
       "      <td>103.162010</td>\n",
       "      <td>98.737667</td>\n",
       "      <td>104.193666</td>\n",
       "    </tr>\n",
       "    <tr>\n",
       "      <th>3</th>\n",
       "      <td>2022-05-24</td>\n",
       "      <td>102.161343</td>\n",
       "      <td>104.288835</td>\n",
       "      <td>99.463146</td>\n",
       "      <td>102.191482</td>\n",
       "    </tr>\n",
       "    <tr>\n",
       "      <th>4</th>\n",
       "      <td>2022-05-25</td>\n",
       "      <td>102.774591</td>\n",
       "      <td>103.265494</td>\n",
       "      <td>101.233314</td>\n",
       "      <td>102.307972</td>\n",
       "    </tr>\n",
       "    <tr>\n",
       "      <th>...</th>\n",
       "      <td>...</td>\n",
       "      <td>...</td>\n",
       "      <td>...</td>\n",
       "      <td>...</td>\n",
       "      <td>...</td>\n",
       "    </tr>\n",
       "    <tr>\n",
       "      <th>747</th>\n",
       "      <td>2025-05-13</td>\n",
       "      <td>134.835888</td>\n",
       "      <td>85.339772</td>\n",
       "      <td>170.506868</td>\n",
       "      <td>155.027303</td>\n",
       "    </tr>\n",
       "    <tr>\n",
       "      <th>748</th>\n",
       "      <td>2025-05-14</td>\n",
       "      <td>134.549915</td>\n",
       "      <td>84.143958</td>\n",
       "      <td>169.113949</td>\n",
       "      <td>154.590462</td>\n",
       "    </tr>\n",
       "    <tr>\n",
       "      <th>749</th>\n",
       "      <td>2025-05-15</td>\n",
       "      <td>135.419243</td>\n",
       "      <td>86.012418</td>\n",
       "      <td>169.186496</td>\n",
       "      <td>153.949763</td>\n",
       "    </tr>\n",
       "    <tr>\n",
       "      <th>750</th>\n",
       "      <td>2025-05-16</td>\n",
       "      <td>136.481514</td>\n",
       "      <td>87.001265</td>\n",
       "      <td>171.009867</td>\n",
       "      <td>153.811431</td>\n",
       "    </tr>\n",
       "    <tr>\n",
       "      <th>751</th>\n",
       "      <td>2025-05-19</td>\n",
       "      <td>136.920898</td>\n",
       "      <td>87.668161</td>\n",
       "      <td>170.521377</td>\n",
       "      <td>152.005825</td>\n",
       "    </tr>\n",
       "  </tbody>\n",
       "</table>\n",
       "<p>752 rows × 5 columns</p>\n",
       "</div>"
      ],
      "text/plain": [
       "          Date         DJI         J&J         CAT        AAPL\n",
       "0   2022-05-19  100.000000  100.000000  100.000000  100.000000\n",
       "1   2022-05-20  100.028047  101.747729   95.676146  100.174736\n",
       "2   2022-05-23  102.006554  103.162010   98.737667  104.193666\n",
       "3   2022-05-24  102.161343  104.288835   99.463146  102.191482\n",
       "4   2022-05-25  102.774591  103.265494  101.233314  102.307972\n",
       "..         ...         ...         ...         ...         ...\n",
       "747 2025-05-13  134.835888   85.339772  170.506868  155.027303\n",
       "748 2025-05-14  134.549915   84.143958  169.113949  154.590462\n",
       "749 2025-05-15  135.419243   86.012418  169.186496  153.949763\n",
       "750 2025-05-16  136.481514   87.001265  171.009867  153.811431\n",
       "751 2025-05-19  136.920898   87.668161  170.521377  152.005825\n",
       "\n",
       "[752 rows x 5 columns]"
      ]
     },
     "execution_count": 249,
     "metadata": {},
     "output_type": "execute_result"
    }
   ],
   "source": [
    "prices = pd.read_excel('datos.xlsx')\n",
    "prices"
   ]
  },
  {
   "cell_type": "markdown",
   "id": "972089b5",
   "metadata": {},
   "source": [
    "#### Ponderaciones "
   ]
  },
  {
   "cell_type": "code",
   "execution_count": 250,
   "id": "45768cb3",
   "metadata": {},
   "outputs": [
    {
     "data": {
      "text/plain": [
       "array([0.3, 0.3, 0.4])"
      ]
     },
     "execution_count": 250,
     "metadata": {},
     "output_type": "execute_result"
    }
   ],
   "source": [
    "w= np.array([0.3,0.3,0.4])\n",
    "w"
   ]
  },
  {
   "cell_type": "markdown",
   "id": "1538f802",
   "metadata": {},
   "source": [
    "#### Returns Generales"
   ]
  },
  {
   "cell_type": "code",
   "execution_count": 251,
   "id": "082b8374",
   "metadata": {},
   "outputs": [
    {
     "data": {
      "text/html": [
       "<div>\n",
       "<style scoped>\n",
       "    .dataframe tbody tr th:only-of-type {\n",
       "        vertical-align: middle;\n",
       "    }\n",
       "\n",
       "    .dataframe tbody tr th {\n",
       "        vertical-align: top;\n",
       "    }\n",
       "\n",
       "    .dataframe thead th {\n",
       "        text-align: right;\n",
       "    }\n",
       "</style>\n",
       "<table border=\"1\" class=\"dataframe\">\n",
       "  <thead>\n",
       "    <tr style=\"text-align: right;\">\n",
       "      <th></th>\n",
       "      <th>J&amp;J</th>\n",
       "      <th>CAT</th>\n",
       "      <th>AAPL</th>\n",
       "    </tr>\n",
       "  </thead>\n",
       "  <tbody>\n",
       "    <tr>\n",
       "      <th>1</th>\n",
       "      <td>0.017477</td>\n",
       "      <td>-0.043239</td>\n",
       "      <td>0.001747</td>\n",
       "    </tr>\n",
       "    <tr>\n",
       "      <th>2</th>\n",
       "      <td>0.013900</td>\n",
       "      <td>0.031999</td>\n",
       "      <td>0.040119</td>\n",
       "    </tr>\n",
       "    <tr>\n",
       "      <th>3</th>\n",
       "      <td>0.010923</td>\n",
       "      <td>0.007348</td>\n",
       "      <td>-0.019216</td>\n",
       "    </tr>\n",
       "    <tr>\n",
       "      <th>4</th>\n",
       "      <td>-0.009813</td>\n",
       "      <td>0.017797</td>\n",
       "      <td>0.001140</td>\n",
       "    </tr>\n",
       "    <tr>\n",
       "      <th>5</th>\n",
       "      <td>-0.000891</td>\n",
       "      <td>0.017582</td>\n",
       "      <td>0.023200</td>\n",
       "    </tr>\n",
       "    <tr>\n",
       "      <th>...</th>\n",
       "      <td>...</td>\n",
       "      <td>...</td>\n",
       "      <td>...</td>\n",
       "    </tr>\n",
       "    <tr>\n",
       "      <th>747</th>\n",
       "      <td>-0.036979</td>\n",
       "      <td>0.029164</td>\n",
       "      <td>0.010152</td>\n",
       "    </tr>\n",
       "    <tr>\n",
       "      <th>748</th>\n",
       "      <td>-0.014012</td>\n",
       "      <td>-0.008169</td>\n",
       "      <td>-0.002818</td>\n",
       "    </tr>\n",
       "    <tr>\n",
       "      <th>749</th>\n",
       "      <td>0.022206</td>\n",
       "      <td>0.000429</td>\n",
       "      <td>-0.004144</td>\n",
       "    </tr>\n",
       "    <tr>\n",
       "      <th>750</th>\n",
       "      <td>0.011497</td>\n",
       "      <td>0.010777</td>\n",
       "      <td>-0.000899</td>\n",
       "    </tr>\n",
       "    <tr>\n",
       "      <th>751</th>\n",
       "      <td>0.007665</td>\n",
       "      <td>-0.002856</td>\n",
       "      <td>-0.011739</td>\n",
       "    </tr>\n",
       "  </tbody>\n",
       "</table>\n",
       "<p>751 rows × 3 columns</p>\n",
       "</div>"
      ],
      "text/plain": [
       "          J&J       CAT      AAPL\n",
       "1    0.017477 -0.043239  0.001747\n",
       "2    0.013900  0.031999  0.040119\n",
       "3    0.010923  0.007348 -0.019216\n",
       "4   -0.009813  0.017797  0.001140\n",
       "5   -0.000891  0.017582  0.023200\n",
       "..        ...       ...       ...\n",
       "747 -0.036979  0.029164  0.010152\n",
       "748 -0.014012 -0.008169 -0.002818\n",
       "749  0.022206  0.000429 -0.004144\n",
       "750  0.011497  0.010777 -0.000899\n",
       "751  0.007665 -0.002856 -0.011739\n",
       "\n",
       "[751 rows x 3 columns]"
      ]
     },
     "execution_count": 251,
     "metadata": {},
     "output_type": "execute_result"
    }
   ],
   "source": [
    "ret_gen = prices.drop(columns=['Date','DJI']).pct_change().dropna()\n",
    "ret_gen"
   ]
  },
  {
   "cell_type": "code",
   "execution_count": 252,
   "id": "9ef385cc",
   "metadata": {},
   "outputs": [
    {
     "data": {
      "text/plain": [
       "13.137946246036474"
      ]
     },
     "execution_count": 252,
     "metadata": {},
     "output_type": "execute_result"
    }
   ],
   "source": [
    "mean = ret_gen.mean()\n",
    "ret_anual = (w*mean).sum()\n",
    "ret_anual*252*100"
   ]
  },
  {
   "cell_type": "markdown",
   "id": "331ac328",
   "metadata": {},
   "source": [
    "#### Covarianza "
   ]
  },
  {
   "cell_type": "code",
   "execution_count": 253,
   "id": "a770e79c",
   "metadata": {},
   "outputs": [
    {
     "data": {
      "text/html": [
       "<div>\n",
       "<style scoped>\n",
       "    .dataframe tbody tr th:only-of-type {\n",
       "        vertical-align: middle;\n",
       "    }\n",
       "\n",
       "    .dataframe tbody tr th {\n",
       "        vertical-align: top;\n",
       "    }\n",
       "\n",
       "    .dataframe thead th {\n",
       "        text-align: right;\n",
       "    }\n",
       "</style>\n",
       "<table border=\"1\" class=\"dataframe\">\n",
       "  <thead>\n",
       "    <tr style=\"text-align: right;\">\n",
       "      <th></th>\n",
       "      <th>J&amp;J</th>\n",
       "      <th>CAT</th>\n",
       "      <th>AAPL</th>\n",
       "    </tr>\n",
       "  </thead>\n",
       "  <tbody>\n",
       "    <tr>\n",
       "      <th>J&amp;J</th>\n",
       "      <td>0.000118</td>\n",
       "      <td>0.000020</td>\n",
       "      <td>0.000028</td>\n",
       "    </tr>\n",
       "    <tr>\n",
       "      <th>CAT</th>\n",
       "      <td>0.000020</td>\n",
       "      <td>0.000363</td>\n",
       "      <td>0.000140</td>\n",
       "    </tr>\n",
       "    <tr>\n",
       "      <th>AAPL</th>\n",
       "      <td>0.000028</td>\n",
       "      <td>0.000140</td>\n",
       "      <td>0.000331</td>\n",
       "    </tr>\n",
       "  </tbody>\n",
       "</table>\n",
       "</div>"
      ],
      "text/plain": [
       "           J&J       CAT      AAPL\n",
       "J&J   0.000118  0.000020  0.000028\n",
       "CAT   0.000020  0.000363  0.000140\n",
       "AAPL  0.000028  0.000140  0.000331"
      ]
     },
     "execution_count": 253,
     "metadata": {},
     "output_type": "execute_result"
    }
   ],
   "source": [
    "cov = ret_gen.cov()\n",
    "cov"
   ]
  },
  {
   "cell_type": "markdown",
   "id": "d4588e30",
   "metadata": {},
   "source": [
    "#### Var "
   ]
  },
  {
   "cell_type": "code",
   "execution_count": 277,
   "id": "bf8fdf91",
   "metadata": {},
   "outputs": [
    {
     "data": {
      "text/plain": [
       "3.5338202147880144"
      ]
     },
     "execution_count": 277,
     "metadata": {},
     "output_type": "execute_result"
    }
   ],
   "source": [
    "var = w.T @ cov @ w\n",
    "var*100*252\n"
   ]
  },
  {
   "cell_type": "markdown",
   "id": "4338186a",
   "metadata": {},
   "source": [
    "### Vol anuaL"
   ]
  },
  {
   "cell_type": "code",
   "execution_count": 255,
   "id": "56a8e20a",
   "metadata": {},
   "outputs": [
    {
     "data": {
      "text/plain": [
       "18.798457954811116"
      ]
     },
     "execution_count": 255,
     "metadata": {},
     "output_type": "execute_result"
    }
   ],
   "source": [
    "vol_anual = np.sqrt(var) * np.sqrt(252)\n",
    "vol_anual*100"
   ]
  },
  {
   "cell_type": "markdown",
   "id": "773ef9f2",
   "metadata": {},
   "source": [
    "---"
   ]
  },
  {
   "cell_type": "markdown",
   "id": "32f9c1c2",
   "metadata": {},
   "source": [
    "#### Return J&J"
   ]
  },
  {
   "cell_type": "code",
   "execution_count": 256,
   "id": "9543a887",
   "metadata": {},
   "outputs": [
    {
     "data": {
      "text/plain": [
       "1      0.017477\n",
       "2      0.013900\n",
       "3      0.010923\n",
       "4     -0.009813\n",
       "5     -0.000891\n",
       "         ...   \n",
       "747   -0.036979\n",
       "748   -0.014012\n",
       "749    0.022206\n",
       "750    0.011497\n",
       "751    0.007665\n",
       "Name: J&J, Length: 751, dtype: float64"
      ]
     },
     "execution_count": 256,
     "metadata": {},
     "output_type": "execute_result"
    }
   ],
   "source": [
    "ret_JJ = prices['J&J'].pct_change().dropna()\n",
    "ret_JJ"
   ]
  },
  {
   "cell_type": "markdown",
   "id": "493d3cc0",
   "metadata": {},
   "source": [
    "### 9 Rendimiento esperado para J&J"
   ]
  },
  {
   "cell_type": "code",
   "execution_count": 257,
   "id": "6bbdb150",
   "metadata": {},
   "outputs": [
    {
     "data": {
      "text/plain": [
       "-2.9290547858893823"
      ]
     },
     "execution_count": 257,
     "metadata": {},
     "output_type": "execute_result"
    }
   ],
   "source": [
    "mean_JJ = ret_JJ.mean()\n",
    "ret_JJ_anual = (mean_JJ*w).sum()\n",
    "ret_JJ_anual*252*100"
   ]
  },
  {
   "cell_type": "markdown",
   "id": "2b97773a",
   "metadata": {},
   "source": [
    "#### Varianza individual de J&J"
   ]
  },
  {
   "cell_type": "code",
   "execution_count": 258,
   "id": "e5cd30b7",
   "metadata": {},
   "outputs": [
    {
     "data": {
      "text/plain": [
       "0.00011788533181152898"
      ]
     },
     "execution_count": 258,
     "metadata": {},
     "output_type": "execute_result"
    }
   ],
   "source": [
    "var_JJ = ret_JJ.var()\n",
    "var_JJ"
   ]
  },
  {
   "cell_type": "markdown",
   "id": "32d19ac8",
   "metadata": {},
   "source": [
    "#### 10 Volatilidad individual del portafolio diaria para J&J"
   ]
  },
  {
   "cell_type": "code",
   "execution_count": 259,
   "id": "15632c9f",
   "metadata": {},
   "outputs": [
    {
     "data": {
      "text/plain": [
       "1.085750117713689"
      ]
     },
     "execution_count": 259,
     "metadata": {},
     "output_type": "execute_result"
    }
   ],
   "source": [
    "vol_JJ = np.sqrt(var_JJ)\n",
    "vol_JJ*100"
   ]
  },
  {
   "cell_type": "markdown",
   "id": "67915e7d",
   "metadata": {},
   "source": [
    "--"
   ]
  },
  {
   "cell_type": "markdown",
   "id": "79b6b073",
   "metadata": {},
   "source": [
    "#### 11 Varianza anual del portafolio "
   ]
  },
  {
   "cell_type": "code",
   "execution_count": 260,
   "id": "fda08422",
   "metadata": {},
   "outputs": [
    {
     "data": {
      "text/plain": [
       "3.5338202147880144"
      ]
     },
     "execution_count": 260,
     "metadata": {},
     "output_type": "execute_result"
    }
   ],
   "source": [
    "var = w.T @ cov @ w\n",
    "var*252*100"
   ]
  },
  {
   "cell_type": "markdown",
   "id": "6ec5ba15",
   "metadata": {},
   "source": [
    "### Matriz de corr "
   ]
  },
  {
   "cell_type": "code",
   "execution_count": 261,
   "id": "e849222b",
   "metadata": {},
   "outputs": [
    {
     "data": {
      "text/html": [
       "<div>\n",
       "<style scoped>\n",
       "    .dataframe tbody tr th:only-of-type {\n",
       "        vertical-align: middle;\n",
       "    }\n",
       "\n",
       "    .dataframe tbody tr th {\n",
       "        vertical-align: top;\n",
       "    }\n",
       "\n",
       "    .dataframe thead th {\n",
       "        text-align: right;\n",
       "    }\n",
       "</style>\n",
       "<table border=\"1\" class=\"dataframe\">\n",
       "  <thead>\n",
       "    <tr style=\"text-align: right;\">\n",
       "      <th></th>\n",
       "      <th>J&amp;J</th>\n",
       "      <th>CAT</th>\n",
       "      <th>AAPL</th>\n",
       "    </tr>\n",
       "  </thead>\n",
       "  <tbody>\n",
       "    <tr>\n",
       "      <th>J&amp;J</th>\n",
       "      <td>1.000000</td>\n",
       "      <td>0.097364</td>\n",
       "      <td>0.143737</td>\n",
       "    </tr>\n",
       "    <tr>\n",
       "      <th>CAT</th>\n",
       "      <td>0.097364</td>\n",
       "      <td>1.000000</td>\n",
       "      <td>0.403509</td>\n",
       "    </tr>\n",
       "    <tr>\n",
       "      <th>AAPL</th>\n",
       "      <td>0.143737</td>\n",
       "      <td>0.403509</td>\n",
       "      <td>1.000000</td>\n",
       "    </tr>\n",
       "  </tbody>\n",
       "</table>\n",
       "</div>"
      ],
      "text/plain": [
       "           J&J       CAT      AAPL\n",
       "J&J   1.000000  0.097364  0.143737\n",
       "CAT   0.097364  1.000000  0.403509\n",
       "AAPL  0.143737  0.403509  1.000000"
      ]
     },
     "execution_count": 261,
     "metadata": {},
     "output_type": "execute_result"
    }
   ],
   "source": [
    "corr = ret_gen.corr()\n",
    "corr"
   ]
  },
  {
   "cell_type": "markdown",
   "id": "3e5fc543",
   "metadata": {},
   "source": [
    "#### 12 Ratio Sharpe"
   ]
  },
  {
   "cell_type": "markdown",
   "id": "f86b6309",
   "metadata": {},
   "source": [
    "##### Tasa libre de riesgo del 3%"
   ]
  },
  {
   "cell_type": "code",
   "execution_count": 262,
   "id": "75f936e5",
   "metadata": {},
   "outputs": [],
   "source": [
    "rf = 0.03"
   ]
  },
  {
   "cell_type": "code",
   "execution_count": 263,
   "id": "1d14b3fd",
   "metadata": {},
   "outputs": [
    {
     "data": {
      "text/plain": [
       "-0.1568142078334679"
      ]
     },
     "execution_count": 263,
     "metadata": {},
     "output_type": "execute_result"
    }
   ],
   "source": [
    "RS = (ret_anual - rf) / vol_anual\n",
    "RS"
   ]
  },
  {
   "cell_type": "markdown",
   "id": "d70537bf",
   "metadata": {},
   "source": [
    "#### 13 Matriz de Correlación"
   ]
  },
  {
   "cell_type": "code",
   "execution_count": 264,
   "id": "4d2c2f86",
   "metadata": {},
   "outputs": [
    {
     "data": {
      "text/html": [
       "<div>\n",
       "<style scoped>\n",
       "    .dataframe tbody tr th:only-of-type {\n",
       "        vertical-align: middle;\n",
       "    }\n",
       "\n",
       "    .dataframe tbody tr th {\n",
       "        vertical-align: top;\n",
       "    }\n",
       "\n",
       "    .dataframe thead th {\n",
       "        text-align: right;\n",
       "    }\n",
       "</style>\n",
       "<table border=\"1\" class=\"dataframe\">\n",
       "  <thead>\n",
       "    <tr style=\"text-align: right;\">\n",
       "      <th></th>\n",
       "      <th>J&amp;J</th>\n",
       "      <th>CAT</th>\n",
       "      <th>AAPL</th>\n",
       "    </tr>\n",
       "  </thead>\n",
       "  <tbody>\n",
       "    <tr>\n",
       "      <th>J&amp;J</th>\n",
       "      <td>1.000000</td>\n",
       "      <td>0.097364</td>\n",
       "      <td>0.143737</td>\n",
       "    </tr>\n",
       "    <tr>\n",
       "      <th>CAT</th>\n",
       "      <td>0.097364</td>\n",
       "      <td>1.000000</td>\n",
       "      <td>0.403509</td>\n",
       "    </tr>\n",
       "    <tr>\n",
       "      <th>AAPL</th>\n",
       "      <td>0.143737</td>\n",
       "      <td>0.403509</td>\n",
       "      <td>1.000000</td>\n",
       "    </tr>\n",
       "  </tbody>\n",
       "</table>\n",
       "</div>"
      ],
      "text/plain": [
       "           J&J       CAT      AAPL\n",
       "J&J   1.000000  0.097364  0.143737\n",
       "CAT   0.097364  1.000000  0.403509\n",
       "AAPL  0.143737  0.403509  1.000000"
      ]
     },
     "execution_count": 264,
     "metadata": {},
     "output_type": "execute_result"
    }
   ],
   "source": [
    "ret_gen.corr()"
   ]
  },
  {
   "cell_type": "markdown",
   "id": "caf53d4a",
   "metadata": {},
   "source": []
  },
  {
   "cell_type": "markdown",
   "id": "465a65d9",
   "metadata": {},
   "source": [
    "---"
   ]
  },
  {
   "cell_type": "markdown",
   "id": "77b2c67a",
   "metadata": {},
   "source": [
    "#### 14 Ratio Sharpe estrategia Pasiva "
   ]
  },
  {
   "cell_type": "markdown",
   "id": "80ea4935",
   "metadata": {},
   "source": [
    "- ret anual\n",
    "- rf \n",
    "- vol anual  "
   ]
  },
  {
   "cell_type": "markdown",
   "id": "5ba9b174",
   "metadata": {},
   "source": []
  },
  {
   "cell_type": "code",
   "execution_count": 265,
   "id": "a88fe5c0",
   "metadata": {},
   "outputs": [],
   "source": [
    "rf = 0.03"
   ]
  },
  {
   "cell_type": "code",
   "execution_count": 266,
   "id": "34ebe092",
   "metadata": {},
   "outputs": [
    {
     "data": {
      "text/plain": [
       "1      0.000280\n",
       "2      0.019780\n",
       "3      0.001517\n",
       "4      0.006003\n",
       "5      0.016093\n",
       "         ...   \n",
       "747   -0.006358\n",
       "748   -0.002121\n",
       "749    0.006461\n",
       "750    0.007844\n",
       "751    0.003219\n",
       "Name: DJI, Length: 751, dtype: float64"
      ]
     },
     "execution_count": 266,
     "metadata": {},
     "output_type": "execute_result"
    }
   ],
   "source": [
    "ret = prices['DJI'].pct_change().dropna()\n",
    "ret"
   ]
  },
  {
   "cell_type": "code",
   "execution_count": 267,
   "id": "02344ba3",
   "metadata": {},
   "outputs": [
    {
     "data": {
      "text/plain": [
       "11.724915421236627"
      ]
     },
     "execution_count": 267,
     "metadata": {},
     "output_type": "execute_result"
    }
   ],
   "source": [
    "ret_anual = ret.mean() *252\n",
    "ret_anual*100"
   ]
  },
  {
   "cell_type": "markdown",
   "id": "8d0c1e9f",
   "metadata": {},
   "source": [
    "### var anual"
   ]
  },
  {
   "cell_type": "code",
   "execution_count": 268,
   "id": "37df1252",
   "metadata": {},
   "outputs": [
    {
     "data": {
      "text/plain": [
       "2.3657904468559994"
      ]
     },
     "execution_count": 268,
     "metadata": {},
     "output_type": "execute_result"
    }
   ],
   "source": [
    "var = ret.var() *252\n",
    "var*100"
   ]
  },
  {
   "cell_type": "markdown",
   "id": "e16997f1",
   "metadata": {},
   "source": [
    "vol anual"
   ]
  },
  {
   "cell_type": "code",
   "execution_count": 269,
   "id": "756eb9ad",
   "metadata": {},
   "outputs": [
    {
     "data": {
      "text/plain": [
       "15.381126248932485"
      ]
     },
     "execution_count": 269,
     "metadata": {},
     "output_type": "execute_result"
    }
   ],
   "source": [
    "vol = np.sqrt(var)\n",
    "vol*100"
   ]
  },
  {
   "cell_type": "markdown",
   "id": "895e80d8",
   "metadata": {},
   "source": [
    "RS"
   ]
  },
  {
   "cell_type": "code",
   "execution_count": 270,
   "id": "1567a10c",
   "metadata": {},
   "outputs": [
    {
     "data": {
      "text/plain": [
       "0.5672481507550315"
      ]
     },
     "execution_count": 270,
     "metadata": {},
     "output_type": "execute_result"
    }
   ],
   "source": [
    "RS= (ret_anual - rf) / vol\n",
    "RS "
   ]
  },
  {
   "cell_type": "code",
   "execution_count": null,
   "id": "5b8b8d28",
   "metadata": {},
   "outputs": [],
   "source": []
  },
  {
   "cell_type": "markdown",
   "id": "145ff02a",
   "metadata": {},
   "source": [
    "----"
   ]
  },
  {
   "cell_type": "markdown",
   "id": "3024be74",
   "metadata": {},
   "source": [
    "#### Rendimiento Esperado"
   ]
  },
  {
   "attachments": {
    "image.png": {
     "image/png": "[encoded data removed]"
    }
   },
   "cell_type": "markdown",
   "id": "6b971fff",
   "metadata": {},
   "source": [
    "![image.png](attachment:image.png)"
   ]
  },
  {
   "cell_type": "code",
   "execution_count": 273,
   "id": "ccca9b5c",
   "metadata": {},
   "outputs": [
    {
     "data": {
      "text/html": [
       "<div>\n",
       "<style scoped>\n",
       "    .dataframe tbody tr th:only-of-type {\n",
       "        vertical-align: middle;\n",
       "    }\n",
       "\n",
       "    .dataframe tbody tr th {\n",
       "        vertical-align: top;\n",
       "    }\n",
       "\n",
       "    .dataframe thead th {\n",
       "        text-align: right;\n",
       "    }\n",
       "</style>\n",
       "<table border=\"1\" class=\"dataframe\">\n",
       "  <thead>\n",
       "    <tr style=\"text-align: right;\">\n",
       "      <th></th>\n",
       "      <th>proba</th>\n",
       "      <th>Rend</th>\n",
       "    </tr>\n",
       "  </thead>\n",
       "  <tbody>\n",
       "    <tr>\n",
       "      <th>Exp</th>\n",
       "      <td>0.2</td>\n",
       "      <td>0.21</td>\n",
       "    </tr>\n",
       "    <tr>\n",
       "      <th>Crec</th>\n",
       "      <td>0.7</td>\n",
       "      <td>0.05</td>\n",
       "    </tr>\n",
       "    <tr>\n",
       "      <th>Rece</th>\n",
       "      <td>0.1</td>\n",
       "      <td>-0.13</td>\n",
       "    </tr>\n",
       "  </tbody>\n",
       "</table>\n",
       "</div>"
      ],
      "text/plain": [
       "      proba  Rend\n",
       "Exp     0.2  0.21\n",
       "Crec    0.7  0.05\n",
       "Rece    0.1 -0.13"
      ]
     },
     "execution_count": 273,
     "metadata": {},
     "output_type": "execute_result"
    }
   ],
   "source": [
    "df = pd.DataFrame(index=['Exp', 'Crec', 'Rece'])\n",
    "df['proba']= [0.2,0.7,0.1]\n",
    "df['Rend']= [0.21,0.05,-0.13]\n",
    "df\n"
   ]
  },
  {
   "cell_type": "code",
   "execution_count": 274,
   "id": "61b1b1f3",
   "metadata": {},
   "outputs": [
    {
     "data": {
      "text/plain": [
       "0.064"
      ]
     },
     "execution_count": 274,
     "metadata": {},
     "output_type": "execute_result"
    }
   ],
   "source": [
    "df['E']= df['proba']* df['Rend']\n",
    "df['E'].sum()"
   ]
  },
  {
   "cell_type": "markdown",
   "id": "bf470a71",
   "metadata": {},
   "source": [
    "#### Volatilidad esperada\n"
   ]
  },
  {
   "attachments": {
    "image.png": {
     "image/png": "[encoded data removed]"
    }
   },
   "cell_type": "markdown",
   "id": "679be0a2",
   "metadata": {},
   "source": [
    "![image.png](attachment:image.png)"
   ]
  },
  {
   "cell_type": "code",
   "execution_count": null,
   "id": "aa721c3f",
   "metadata": {},
   "outputs": [],
   "source": []
  },
  {
   "cell_type": "code",
   "execution_count": null,
   "id": "b31fd6be",
   "metadata": {},
   "outputs": [],
   "source": [
    "V[E] = "
   ]
  },
  {
   "cell_type": "code",
   "execution_count": null,
   "id": "c5367066",
   "metadata": {},
   "outputs": [],
   "source": []
  },
  {
   "cell_type": "markdown",
   "id": "34754e3e",
   "metadata": {},
   "source": []
  }
 ],
 "metadata": {
  "kernelspec": {
   "display_name": "Python 3",
   "language": "python",
   "name": "python3"
  },
  "language_info": {
   "codemirror_mode": {
    "name": "ipython",
    "version": 3
   },
   "file_extension": ".py",
   "mimetype": "text/x-python",
   "name": "python",
   "nbconvert_exporter": "python",
   "pygments_lexer": "ipython3",
   "version": "3.12.8"
  }
 },
 "nbformat": 4,
 "nbformat_minor": 5
}
