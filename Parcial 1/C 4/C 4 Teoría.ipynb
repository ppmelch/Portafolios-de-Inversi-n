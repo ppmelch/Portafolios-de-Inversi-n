{
 "cells": [
  {
   "cell_type": "markdown",
   "id": "f197339a",
   "metadata": {},
   "source": [
    "# Portafolios de Inversión\n",
    "## Portafolios de Inversión I\n",
    "José Armando Melchor Soto\n",
    "\n",
    "---"
   ]
  },
  {
   "cell_type": "markdown",
   "id": "ddc0ee7d",
   "metadata": {},
   "source": [
    "### Portafolio de Inversión \n",
    "\n",
    "- Un portafolio de inversión es una coleccion de activos financieros de una persona o entidad poseen, seleccionados en función de los objetivos financieros , su horizonte temporal y su tolerancia al riesgo.\n",
    "\n",
    "- Su propósito principal de un portafolio de inversión es mitigar el riesgo y maximizar los retornos esperados.\n",
    "\n",
    "- Al Invertir en una variedad de activos , se busca reducir la exposición a cualquier riesgo específico asociado con un solo activo o clase de activos. Por ejemplo, si una acción individual en el portafolio se desempeña , es posible que otras acciones o activos en el portafolio compensen esas pérdidas.    \n",
    "\n",
    "- Hay 4 pasos para un portafolio de inversión\n",
    "    1. Selección de Activos.\n",
    "    2. Asset Allocation.\n",
    "    3. Inversión en Bolsa.\n",
    "    4. Evaluación y mantenimiento. "
   ]
  },
  {
   "cell_type": "markdown",
   "id": "5caa84d5",
   "metadata": {},
   "source": [
    "---"
   ]
  },
  {
   "cell_type": "markdown",
   "id": "64102a87",
   "metadata": {},
   "source": [
    "### Portafolio Manager\n",
    "\n",
    "- Profesional responsable de tomar decisiones de inversión y llevar a cabo actividades de inversión en nombre de otras personas o instituciones.\n",
    "\n",
    "### AUMS\n",
    "\n",
    "- Los \"Asset Under Management\" es la suma del valor de mercado de todos los activos que gestiona un administrador de portafolios."
   ]
  },
  {
   "cell_type": "markdown",
   "id": "7ed475dd",
   "metadata": {},
   "source": [
    "---"
   ]
  },
  {
   "cell_type": "markdown",
   "id": "3ddb1076",
   "metadata": {},
   "source": [
    "### Rendimiento de Portafolios\n",
    "\n",
    "En la clase anterior, aprendimos a calcular el rendimienti de un único activo financiero.\n",
    "\n",
    "Cuando se trata de un portafolio que contiene una cantidad \"n\" de activos financieros , el rendimiento total se puede calcular como la suma ponderada de los rendimientos esperados de cada activo , tomando en cuenta su peso dentro del portafolio.\n",
    "\n",
    "$$ R_{port} = w_1 R_1 +w_2 R_2 + ... + w_n R_n$$\n",
    "\n",
    "$$R_{port} = \\sum_{i=1}^{n} w_i R_i $$"
   ]
  },
  {
   "cell_type": "markdown",
   "id": "4d0d7bbc",
   "metadata": {},
   "source": [
    "---"
   ]
  },
  {
   "cell_type": "markdown",
   "id": "ae884603",
   "metadata": {},
   "source": [
    "### Riesgo en Portafolios\n",
    "\n",
    "- En el caso del riesgo de un portafolio , no se puede aplciar el mismo principio que para el rendimiento , ya que este depende de la relación entre los activos que componen.\n",
    "\n",
    "- La varianza es una medida que nos ayuda a explicar esta relación , indicando cómo se mueven conjutamente dos activos.\n",
    "\n",
    "    - Covarianza : Medida estadística que indica cómo se mueven conjuntamente dos variables aleatorias. \n",
    "    - El rango de la covarianza es entre menos infitino e infinito.\n",
    "    - La covarianza ayuda a medir la dirección de la relación , más no la magnitud\n",
    "\n",
    "\n",
    "$$ \\sigma_{X,Y} = \\frac{\\sum_{i=1}^{n} (x_i - E[x]) (y_i - E[y]) }{n} $$\n"
   ]
  },
  {
   "cell_type": "markdown",
   "id": "32578e49",
   "metadata": {},
   "source": [
    "| **$$\\sigma_{i,j}$$** | Interpretación \n",
    "|-----------|-----------|\n",
    "| Covarianza Positiva    |Los dos activos tienden a moverse en la misma dirección. Cuando el precio de uno sube , es probable que el otro también suba. y cuando uno baja , el otro también tiende a bajar también\n",
    "| Covarianza igual a cero    |No exite una relación lineal entre los movimientos de los activos. |\n",
    "| Covarianza Negativa |Los dos activos tienden a moverse en direcciones opuestas. Cuando el precio de uno sube , el otro tiende a bajar y viceversa |"
   ]
  },
  {
   "cell_type": "markdown",
   "id": "f6a284c8",
   "metadata": {},
   "source": [
    "---"
   ]
  },
  {
   "cell_type": "markdown",
   "id": "a30c784b",
   "metadata": {},
   "source": [
    "### Varianza en Portafolios "
   ]
  },
  {
   "cell_type": "markdown",
   "id": "393f992a",
   "metadata": {},
   "source": [
    "Para calcular el riesgo de un portafolio , podemos utilizar la fórmula de la derecha.\n",
    "\n",
    "-¡Actividad! Desarrollar en clase la sumatoria para dos activos e interpretar cada elemento de la ecuación obtenida.\n",
    "\n",
    "Nótese que el resultado toma en cuenta tanto la varianza individual como la covarianza.\n",
    "\n",
    "$$\\sigma_{port} = \\sum_{j=1}^{n} \\sum_{i=1}^{n} w_i w_j \\sigma_{ij} $$"
   ]
  },
  {
   "cell_type": "markdown",
   "id": "5ac63157",
   "metadata": {},
   "source": [
    "---"
   ]
  },
  {
   "cell_type": "markdown",
   "id": "80e1052d",
   "metadata": {},
   "source": [
    "### Matriz de Covarianza - Varianza \n",
    "\n",
    "- Representación matricial que muestra cómo se relacionan los rendimientos de varios activos de un portafolio.\n",
    "\n",
    "- Cada elemento de la matriz refleja la covarianza entre dos activos específicos.\n",
    "\n",
    "    - Filas y columnas : Cada fila y columna de la matriz representa un activo en el portafolio.\n",
    "\n",
    "    - Diagonal principal: Contiene la varianza de cada activo.\n",
    "\n",
    "    - Elementos fuera de la diagonal: Indican la covarianza entre los rendimientos de dos activos diferentes.\n",
    "\n",
    "$$\n",
    "\\begin{pmatrix}\n",
    "\\sigma^2_{X_1} & \\sigma_{X_1 X_2} & \\cdots & \\sigma_{X_1 X_k} \\\\\n",
    "\\sigma_{X_2 X_1} & \\sigma^2_{X_2} & \\cdots & \\sigma_{X_2 X_k} \\\\\n",
    "\\vdots & \\vdots & \\ddots & \\vdots \\\\\n",
    "\\sigma_{X_k X_1} & \\sigma_{X_k X_2} & \\cdots & \\sigma^2_{X_k}\n",
    "\\end{pmatrix}\n",
    "$$\n",
    "\n"
   ]
  },
  {
   "cell_type": "markdown",
   "id": "005f2c4e",
   "metadata": {},
   "source": [
    "---"
   ]
  },
  {
   "cell_type": "markdown",
   "id": "69dc1405",
   "metadata": {},
   "source": [
    "### Fórmula Matricial en Portafolios\n",
    "\n",
    "- La fórmula de la varianza previamente , si bien de obtener para dos o tres activos, imaginen desarrollarla para cinco o diez, es por esto que usando operacionales matriciales se puede simplificar la fórmula de varianza con :\n",
    "\n",
    "$$\\sigma^2 = w^T \\sum w$$\n",
    "\n",
    "- Donde w es el vector de pesos y Sigma es la matriz de Covarianza - Varianza.\n",
    "\n",
    "- Utilizando dos activos financieros , comprueba que la fórmula matricial es equivales a la solución obtenida con la fórmula de doble sumatoria."
   ]
  },
  {
   "cell_type": "markdown",
   "id": "b23e07b5",
   "metadata": {},
   "source": [
    "---"
   ]
  },
  {
   "cell_type": "markdown",
   "id": "48005fbe",
   "metadata": {},
   "source": [
    "\n",
    "### Ejercicio\n",
    "- Obtén de varianza y desviación estándar para un portafolio que contiene tres activos.\n",
    "- Asume una covarianza de 0.3 entre el activo 1 y 2 , -0.7 entre el activo 2 y 3 , 0.1 entre el activo 1 y 3.\n",
    "\n",
    "- Una vez calculada la varianza , compara si la suma ponderada de las varianzas individuales es igual, mayor o menor al resultado obtenido anteriormente.\n",
    "    - Responde: ¿A qué se debe?"
   ]
  },
  {
   "cell_type": "markdown",
   "id": "5d5439d3",
   "metadata": {},
   "source": [
    "$$ \\sigma^2_p = \\sum_{i=1}^{n} \\sum_{j=1}^{n} w_i w_j \\sigma_{i,j}  $$ \n",
    "$$ i,j= 1 , 2 , 3 $$ \n",
    "\n",
    "$$\\sigma^2_p =  w_1 w_1 \\sigma_{1,1}  + w_2 w_2 \\sigma_{2,2}  +  w_3 w_3 \\sigma_{3,3} + 2 w_1 w_2 \\sigma_{1,2}+ 2 w_1 w_3 \\sigma_{1,3} + 2 w_2 w_3 \\sigma_{2,3} $$\n",
    "\n",
    "$$\\sigma^2_p= w_1^2 \\sigma_1^2  + w_2^2 \\sigma_2^2 + w_3^2 \\sigma_3^2 + 2w_1 w_2 \\sigma_{1,2} + 2w_1 w_3 \\sigma_{1,3} + 2w_2 w_3 \\sigma_{2,3}     $$\n",
    "  "
   ]
  }
 ],
 "metadata": {
  "language_info": {
   "name": "python"
  }
 },
 "nbformat": 4,
 "nbformat_minor": 5
}
