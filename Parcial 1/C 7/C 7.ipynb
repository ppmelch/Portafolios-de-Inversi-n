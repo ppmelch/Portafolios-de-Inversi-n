{
 "cells": [
  {
   "cell_type": "markdown",
   "id": "f15c15cd",
   "metadata": {},
   "source": [
    "# Portafolios de Inversión\n",
    "## Otras Medidas de Rendimiento y Riesgo - Python\n",
    "José Armando Melchor Soto\n",
    "\n",
    "---\n",
    "\n",
    "\n",
    "\n"
   ]
  },
  {
   "cell_type": "code",
   "execution_count": 3,
   "id": "2d9a4a8f",
   "metadata": {},
   "outputs": [],
   "source": [
    "import pandas as pd\n",
    "import numpy as np\n",
    "import yfinance as yf\n",
    "\n"
   ]
  },
  {
   "cell_type": "code",
   "execution_count": 4,
   "id": "11b8259d",
   "metadata": {},
   "outputs": [
    {
     "data": {
      "text/html": [
       "<div>\n",
       "<style scoped>\n",
       "    .dataframe tbody tr th:only-of-type {\n",
       "        vertical-align: middle;\n",
       "    }\n",
       "\n",
       "    .dataframe tbody tr th {\n",
       "        vertical-align: top;\n",
       "    }\n",
       "\n",
       "    .dataframe thead th {\n",
       "        text-align: right;\n",
       "    }\n",
       "</style>\n",
       "<table border=\"1\" class=\"dataframe\">\n",
       "  <thead>\n",
       "    <tr style=\"text-align: right;\">\n",
       "      <th></th>\n",
       "      <th>Fondo A</th>\n",
       "      <th>Fonde B</th>\n",
       "    </tr>\n",
       "  </thead>\n",
       "  <tbody>\n",
       "    <tr>\n",
       "      <th>2020</th>\n",
       "      <td>0.22</td>\n",
       "      <td>0.05</td>\n",
       "    </tr>\n",
       "    <tr>\n",
       "      <th>2021</th>\n",
       "      <td>-0.12</td>\n",
       "      <td>0.06</td>\n",
       "    </tr>\n",
       "    <tr>\n",
       "      <th>2022</th>\n",
       "      <td>0.11</td>\n",
       "      <td>0.03</td>\n",
       "    </tr>\n",
       "    <tr>\n",
       "      <th>2023</th>\n",
       "      <td>-0.05</td>\n",
       "      <td>0.06</td>\n",
       "    </tr>\n",
       "  </tbody>\n",
       "</table>\n",
       "</div>"
      ],
      "text/plain": [
       "      Fondo A  Fonde B\n",
       "2020     0.22     0.05\n",
       "2021    -0.12     0.06\n",
       "2022     0.11     0.03\n",
       "2023    -0.05     0.06"
      ]
     },
     "execution_count": 4,
     "metadata": {},
     "output_type": "execute_result"
    }
   ],
   "source": [
    "df = pd.DataFrame(index=[2020,2021,2022,2023])\n",
    "df['Fondo A']= [.22,-.12,.11,-0.05]\n",
    "df['Fonde B']= [0.05,0.06,0.03,0.06]\n",
    "df"
   ]
  },
  {
   "cell_type": "markdown",
   "id": "5380cd33",
   "metadata": {},
   "source": [
    "### Media Aritmetica"
   ]
  },
  {
   "cell_type": "code",
   "execution_count": 5,
   "id": "475b1287",
   "metadata": {},
   "outputs": [
    {
     "data": {
      "text/plain": [
       "Fondo A    4.0\n",
       "Fonde B    5.0\n",
       "dtype: float64"
      ]
     },
     "execution_count": 5,
     "metadata": {},
     "output_type": "execute_result"
    }
   ],
   "source": [
    "media_Arit = df.mean()*100\n",
    "media_Arit"
   ]
  },
  {
   "cell_type": "markdown",
   "id": "3154a2db",
   "metadata": {},
   "source": [
    "### Media geométrica (Rendimiento Compuesto)"
   ]
  },
  {
   "cell_type": "code",
   "execution_count": 6,
   "id": "6c453c38",
   "metadata": {},
   "outputs": [
    {
     "data": {
      "text/plain": [
       "Fondo A    3.150722\n",
       "Fonde B    4.992811\n",
       "dtype: float64"
      ]
     },
     "execution_count": 6,
     "metadata": {},
     "output_type": "execute_result"
    }
   ],
   "source": [
    "media_geo = ((1+df).prod())**(1/4) -1\n",
    "media_geo*100\n",
    "\n"
   ]
  },
  {
   "cell_type": "markdown",
   "id": "25325b05",
   "metadata": {},
   "source": [
    "ó"
   ]
  },
  {
   "cell_type": "code",
   "execution_count": 7,
   "id": "19179d02",
   "metadata": {},
   "outputs": [
    {
     "data": {
      "text/plain": [
       "Fondo A    3.150722\n",
       "Fonde B    4.992811\n",
       "dtype: float64"
      ]
     },
     "execution_count": 7,
     "metadata": {},
     "output_type": "execute_result"
    }
   ],
   "source": [
    "media_geo = ((1+df).prod())**(1/len(df)) -1\n",
    "media_geo*100"
   ]
  },
  {
   "cell_type": "markdown",
   "id": "5bf816b6",
   "metadata": {},
   "source": [
    "La tasa de la media geométrica es menor que la tasa de la media aritmética. (siempre es así).\n",
    " \n",
    "Esto se debe al interés compuesto , por lo que siempre hará que la media geométrica se menor que la aritmética.\n"
   ]
  },
  {
   "cell_type": "markdown",
   "id": "70cfe311",
   "metadata": {},
   "source": [
    "### Media Armónica"
   ]
  },
  {
   "cell_type": "code",
   "execution_count": 8,
   "id": "2678a8ff",
   "metadata": {},
   "outputs": [
    {
     "data": {
      "text/plain": [
       "Fondo A    2.313088\n",
       "Fonde B    4.985576\n",
       "dtype: float64"
      ]
     },
     "execution_count": 8,
     "metadata": {},
     "output_type": "execute_result"
    }
   ],
   "source": [
    "media_armo = (len(df)/((1/(1+df)).sum())) -1\n",
    "media_armo*100"
   ]
  },
  {
   "cell_type": "markdown",
   "id": "321a7d76",
   "metadata": {},
   "source": [
    "Esta se utiliza cuando hay eventos no esperados, y es su tasa es muy menor que en las otras dos tasas, por lo mismo de que incluye los eventos inesperados."
   ]
  },
  {
   "cell_type": "markdown",
   "id": "b5d0271c",
   "metadata": {},
   "source": [
    "### Rendimiento y Riesgo Esperado"
   ]
  },
  {
   "cell_type": "code",
   "execution_count": 10,
   "id": "3f29fd68",
   "metadata": {},
   "outputs": [
    {
     "data": {
      "text/html": [
       "<div>\n",
       "<style scoped>\n",
       "    .dataframe tbody tr th:only-of-type {\n",
       "        vertical-align: middle;\n",
       "    }\n",
       "\n",
       "    .dataframe tbody tr th {\n",
       "        vertical-align: top;\n",
       "    }\n",
       "\n",
       "    .dataframe thead th {\n",
       "        text-align: right;\n",
       "    }\n",
       "</style>\n",
       "<table border=\"1\" class=\"dataframe\">\n",
       "  <thead>\n",
       "    <tr style=\"text-align: right;\">\n",
       "      <th></th>\n",
       "      <th>Prob</th>\n",
       "      <th>Rend</th>\n",
       "    </tr>\n",
       "  </thead>\n",
       "  <tbody>\n",
       "    <tr>\n",
       "      <th>Bearish</th>\n",
       "      <td>0.25</td>\n",
       "      <td>-0.10</td>\n",
       "    </tr>\n",
       "    <tr>\n",
       "      <th>Neutral</th>\n",
       "      <td>0.30</td>\n",
       "      <td>0.05</td>\n",
       "    </tr>\n",
       "    <tr>\n",
       "      <th>Bullish</th>\n",
       "      <td>0.45</td>\n",
       "      <td>0.20</td>\n",
       "    </tr>\n",
       "  </tbody>\n",
       "</table>\n",
       "</div>"
      ],
      "text/plain": [
       "         Prob  Rend\n",
       "Bearish  0.25 -0.10\n",
       "Neutral  0.30  0.05\n",
       "Bullish  0.45  0.20"
      ]
     },
     "execution_count": 10,
     "metadata": {},
     "output_type": "execute_result"
    }
   ],
   "source": [
    "df = pd.DataFrame(index= ['Bearish','Neutral','Bullish'])\n",
    "df['Prob']= [.25,.3,.45]\n",
    "df['Rend']= [-.1,.05,.2]\n",
    "\n",
    "df"
   ]
  },
  {
   "cell_type": "markdown",
   "id": "23381a23",
   "metadata": {},
   "source": [
    "### Valor Esperado"
   ]
  },
  {
   "cell_type": "code",
   "execution_count": 11,
   "id": "fa7e6875",
   "metadata": {},
   "outputs": [
    {
     "data": {
      "text/plain": [
       "8.000000000000002"
      ]
     },
     "execution_count": 11,
     "metadata": {},
     "output_type": "execute_result"
    }
   ],
   "source": [
    "df['E[R]']= df['Prob'] * df['Rend']\n",
    "E_r=(df['E[R]'].sum())\n",
    "E_r*100"
   ]
  },
  {
   "cell_type": "markdown",
   "id": "05d92978",
   "metadata": {},
   "source": [
    "### Varianza Esperado"
   ]
  },
  {
   "cell_type": "code",
   "execution_count": 12,
   "id": "8a355545",
   "metadata": {},
   "outputs": [
    {
     "data": {
      "text/plain": [
       "1.485"
      ]
     },
     "execution_count": 12,
     "metadata": {},
     "output_type": "execute_result"
    }
   ],
   "source": [
    "v_r = (df['Prob'] * (df['Rend'] - E_r)**2).sum()\n",
    "v_r*100"
   ]
  },
  {
   "cell_type": "markdown",
   "id": "d99de0eb",
   "metadata": {},
   "source": [
    "### Volatilidad/riesgo Esperado"
   ]
  },
  {
   "cell_type": "code",
   "execution_count": 13,
   "id": "0cb2d31b",
   "metadata": {},
   "outputs": [
    {
     "data": {
      "text/plain": [
       "12.18605760695394"
      ]
     },
     "execution_count": 13,
     "metadata": {},
     "output_type": "execute_result"
    }
   ],
   "source": [
    "Vol = np.sqrt(v_r)\n",
    "Vol*100"
   ]
  },
  {
   "cell_type": "markdown",
   "id": "f1eb32b7",
   "metadata": {},
   "source": [
    "### Ejercicio Medidas Probabilísticas II"
   ]
  },
  {
   "cell_type": "markdown",
   "id": "9c8ee944",
   "metadata": {},
   "source": []
  },
  {
   "cell_type": "code",
   "execution_count": 14,
   "id": "b87017a3",
   "metadata": {},
   "outputs": [
    {
     "data": {
      "text/html": [
       "<div>\n",
       "<style scoped>\n",
       "    .dataframe tbody tr th:only-of-type {\n",
       "        vertical-align: middle;\n",
       "    }\n",
       "\n",
       "    .dataframe tbody tr th {\n",
       "        vertical-align: top;\n",
       "    }\n",
       "\n",
       "    .dataframe thead th {\n",
       "        text-align: right;\n",
       "    }\n",
       "</style>\n",
       "<table border=\"1\" class=\"dataframe\">\n",
       "  <thead>\n",
       "    <tr style=\"text-align: right;\">\n",
       "      <th></th>\n",
       "      <th>Prob</th>\n",
       "      <th>Rend</th>\n",
       "    </tr>\n",
       "  </thead>\n",
       "  <tbody>\n",
       "    <tr>\n",
       "      <th>Dovish</th>\n",
       "      <td>70.0</td>\n",
       "      <td>2.0</td>\n",
       "    </tr>\n",
       "    <tr>\n",
       "      <th>Neutral</th>\n",
       "      <td>20.0</td>\n",
       "      <td>3.0</td>\n",
       "    </tr>\n",
       "    <tr>\n",
       "      <th>Hawkish</th>\n",
       "      <td>10.0</td>\n",
       "      <td>5.5</td>\n",
       "    </tr>\n",
       "  </tbody>\n",
       "</table>\n",
       "</div>"
      ],
      "text/plain": [
       "         Prob  Rend\n",
       "Dovish   70.0   2.0\n",
       "Neutral  20.0   3.0\n",
       "Hawkish  10.0   5.5"
      ]
     },
     "execution_count": 14,
     "metadata": {},
     "output_type": "execute_result"
    }
   ],
   "source": [
    "df = pd.DataFrame(index= ['Dovish','Neutral','Hawkish'])\n",
    "df['Prob']= [.7,.2,.1]\n",
    "df['Rend']= [.02,.03,.055]\n",
    "\n",
    "df*100"
   ]
  },
  {
   "cell_type": "markdown",
   "id": "964a6d61",
   "metadata": {},
   "source": [
    "### Valor Esperado"
   ]
  },
  {
   "cell_type": "code",
   "execution_count": 15,
   "id": "1c758e88",
   "metadata": {},
   "outputs": [
    {
     "data": {
      "text/plain": [
       "2.55"
      ]
     },
     "execution_count": 15,
     "metadata": {},
     "output_type": "execute_result"
    }
   ],
   "source": [
    "df['E[R]']= df['Prob'] * df['Rend']\n",
    "E_r=(df['E[R]'].sum())\n",
    "E_r*100"
   ]
  },
  {
   "cell_type": "markdown",
   "id": "7c0802c9",
   "metadata": {},
   "source": [
    "### Varianza Esperada"
   ]
  },
  {
   "cell_type": "code",
   "execution_count": 16,
   "id": "6918e941",
   "metadata": {},
   "outputs": [
    {
     "data": {
      "text/plain": [
       "0.011224999999999999"
      ]
     },
     "execution_count": 16,
     "metadata": {},
     "output_type": "execute_result"
    }
   ],
   "source": [
    "v_r = (df['Prob'] * (df['Rend'] - E_r)**2).sum()\n",
    "v_r*100"
   ]
  },
  {
   "cell_type": "markdown",
   "id": "1b654f3a",
   "metadata": {},
   "source": [
    "### Volatilidad/riesgo Esperado"
   ]
  },
  {
   "cell_type": "code",
   "execution_count": 17,
   "id": "6383346c",
   "metadata": {},
   "outputs": [
    {
     "data": {
      "text/plain": [
       "1.0594810050208545"
      ]
     },
     "execution_count": 17,
     "metadata": {},
     "output_type": "execute_result"
    }
   ],
   "source": [
    "Vol = np.sqrt(v_r)\n",
    "Vol*100"
   ]
  }
 ],
 "metadata": {
  "kernelspec": {
   "display_name": "Python 3",
   "language": "python",
   "name": "python3"
  },
  "language_info": {
   "codemirror_mode": {
    "name": "ipython",
    "version": 3
   },
   "file_extension": ".py",
   "mimetype": "text/x-python",
   "name": "python",
   "nbconvert_exporter": "python",
   "pygments_lexer": "ipython3",
   "version": "3.12.8"
  }
 },
 "nbformat": 4,
 "nbformat_minor": 5
}
