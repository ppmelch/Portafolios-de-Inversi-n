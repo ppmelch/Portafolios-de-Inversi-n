{
 "cells": [
  {
   "cell_type": "markdown",
   "id": "a94522ce",
   "metadata": {},
   "source": [
    "# Portafolios de Inversión\n",
    "## Distribución Normal - Python\n",
    "José Armando Melchor Soto"
   ]
  },
  {
   "cell_type": "markdown",
   "id": "7725503b",
   "metadata": {},
   "source": [
    "---"
   ]
  },
  {
   "cell_type": "markdown",
   "id": "4e4579c9",
   "metadata": {},
   "source": [
    "### Librerías"
   ]
  },
  {
   "cell_type": "code",
   "execution_count": 2,
   "id": "549b3ee4",
   "metadata": {},
   "outputs": [],
   "source": [
    "import pandas as pd\n",
    "import numpy as np\n",
    "import yfinance as yf\n",
    "import matplotlib.pyplot as plt\n"
   ]
  },
  {
   "cell_type": "markdown",
   "id": "5f73045e",
   "metadata": {},
   "source": [
    "### Descargar Acciones"
   ]
  },
  {
   "cell_type": "code",
   "execution_count": 3,
   "id": "f69bef05",
   "metadata": {},
   "outputs": [
    {
     "name": "stdout",
     "output_type": "stream",
     "text": [
      "YF.download() has changed argument auto_adjust default to True\n"
     ]
    },
    {
     "name": "stderr",
     "output_type": "stream",
     "text": [
      "[*********************100%***********************]  6 of 6 completed\n"
     ]
    },
    {
     "data": {
      "text/html": [
       "<div>\n",
       "<style scoped>\n",
       "    .dataframe tbody tr th:only-of-type {\n",
       "        vertical-align: middle;\n",
       "    }\n",
       "\n",
       "    .dataframe tbody tr th {\n",
       "        vertical-align: top;\n",
       "    }\n",
       "\n",
       "    .dataframe thead th {\n",
       "        text-align: right;\n",
       "    }\n",
       "</style>\n",
       "<table border=\"1\" class=\"dataframe\">\n",
       "  <thead>\n",
       "    <tr style=\"text-align: right;\">\n",
       "      <th>Ticker</th>\n",
       "      <th>AAPL</th>\n",
       "      <th>AMZN</th>\n",
       "      <th>AVB</th>\n",
       "      <th>NVDA</th>\n",
       "      <th>ORCL</th>\n",
       "      <th>TSLA</th>\n",
       "    </tr>\n",
       "    <tr>\n",
       "      <th>Date</th>\n",
       "      <th></th>\n",
       "      <th></th>\n",
       "      <th></th>\n",
       "      <th></th>\n",
       "      <th></th>\n",
       "      <th></th>\n",
       "    </tr>\n",
       "  </thead>\n",
       "  <tbody>\n",
       "    <tr>\n",
       "      <th>2020-01-02</th>\n",
       "      <td>72.620842</td>\n",
       "      <td>94.900497</td>\n",
       "      <td>172.700104</td>\n",
       "      <td>5.972160</td>\n",
       "      <td>49.642689</td>\n",
       "      <td>28.684000</td>\n",
       "    </tr>\n",
       "    <tr>\n",
       "      <th>2020-01-03</th>\n",
       "      <td>71.914825</td>\n",
       "      <td>93.748497</td>\n",
       "      <td>174.358414</td>\n",
       "      <td>5.876571</td>\n",
       "      <td>49.467857</td>\n",
       "      <td>29.534000</td>\n",
       "    </tr>\n",
       "    <tr>\n",
       "      <th>2020-01-06</th>\n",
       "      <td>72.487854</td>\n",
       "      <td>95.143997</td>\n",
       "      <td>174.650101</td>\n",
       "      <td>5.901216</td>\n",
       "      <td>49.725513</td>\n",
       "      <td>30.102667</td>\n",
       "    </tr>\n",
       "    <tr>\n",
       "      <th>2020-01-07</th>\n",
       "      <td>72.146950</td>\n",
       "      <td>95.343002</td>\n",
       "      <td>170.850082</td>\n",
       "      <td>5.972659</td>\n",
       "      <td>49.835922</td>\n",
       "      <td>31.270666</td>\n",
       "    </tr>\n",
       "    <tr>\n",
       "      <th>2020-01-08</th>\n",
       "      <td>73.307503</td>\n",
       "      <td>94.598503</td>\n",
       "      <td>171.558441</td>\n",
       "      <td>5.983861</td>\n",
       "      <td>50.030014</td>\n",
       "      <td>32.809334</td>\n",
       "    </tr>\n",
       "    <tr>\n",
       "      <th>...</th>\n",
       "      <td>...</td>\n",
       "      <td>...</td>\n",
       "      <td>...</td>\n",
       "      <td>...</td>\n",
       "      <td>...</td>\n",
       "      <td>...</td>\n",
       "    </tr>\n",
       "    <tr>\n",
       "      <th>2025-05-21</th>\n",
       "      <td>202.089996</td>\n",
       "      <td>201.119995</td>\n",
       "      <td>201.740005</td>\n",
       "      <td>131.800003</td>\n",
       "      <td>157.179993</td>\n",
       "      <td>334.619995</td>\n",
       "    </tr>\n",
       "    <tr>\n",
       "      <th>2025-05-22</th>\n",
       "      <td>201.360001</td>\n",
       "      <td>203.100006</td>\n",
       "      <td>199.860001</td>\n",
       "      <td>132.830002</td>\n",
       "      <td>157.309998</td>\n",
       "      <td>341.040009</td>\n",
       "    </tr>\n",
       "    <tr>\n",
       "      <th>2025-05-23</th>\n",
       "      <td>195.270004</td>\n",
       "      <td>200.990005</td>\n",
       "      <td>198.029999</td>\n",
       "      <td>131.289993</td>\n",
       "      <td>155.970001</td>\n",
       "      <td>339.339996</td>\n",
       "    </tr>\n",
       "    <tr>\n",
       "      <th>2025-05-27</th>\n",
       "      <td>200.210007</td>\n",
       "      <td>206.020004</td>\n",
       "      <td>201.460007</td>\n",
       "      <td>135.500000</td>\n",
       "      <td>161.910004</td>\n",
       "      <td>362.890015</td>\n",
       "    </tr>\n",
       "    <tr>\n",
       "      <th>2025-05-28</th>\n",
       "      <td>NaN</td>\n",
       "      <td>NaN</td>\n",
       "      <td>NaN</td>\n",
       "      <td>NaN</td>\n",
       "      <td>164.000000</td>\n",
       "      <td>NaN</td>\n",
       "    </tr>\n",
       "  </tbody>\n",
       "</table>\n",
       "<p>1358 rows × 6 columns</p>\n",
       "</div>"
      ],
      "text/plain": [
       "Ticker            AAPL        AMZN         AVB        NVDA        ORCL  \\\n",
       "Date                                                                     \n",
       "2020-01-02   72.620842   94.900497  172.700104    5.972160   49.642689   \n",
       "2020-01-03   71.914825   93.748497  174.358414    5.876571   49.467857   \n",
       "2020-01-06   72.487854   95.143997  174.650101    5.901216   49.725513   \n",
       "2020-01-07   72.146950   95.343002  170.850082    5.972659   49.835922   \n",
       "2020-01-08   73.307503   94.598503  171.558441    5.983861   50.030014   \n",
       "...                ...         ...         ...         ...         ...   \n",
       "2025-05-21  202.089996  201.119995  201.740005  131.800003  157.179993   \n",
       "2025-05-22  201.360001  203.100006  199.860001  132.830002  157.309998   \n",
       "2025-05-23  195.270004  200.990005  198.029999  131.289993  155.970001   \n",
       "2025-05-27  200.210007  206.020004  201.460007  135.500000  161.910004   \n",
       "2025-05-28         NaN         NaN         NaN         NaN  164.000000   \n",
       "\n",
       "Ticker            TSLA  \n",
       "Date                    \n",
       "2020-01-02   28.684000  \n",
       "2020-01-03   29.534000  \n",
       "2020-01-06   30.102667  \n",
       "2020-01-07   31.270666  \n",
       "2020-01-08   32.809334  \n",
       "...                ...  \n",
       "2025-05-21  334.619995  \n",
       "2025-05-22  341.040009  \n",
       "2025-05-23  339.339996  \n",
       "2025-05-27  362.890015  \n",
       "2025-05-28         NaN  \n",
       "\n",
       "[1358 rows x 6 columns]"
      ]
     },
     "execution_count": 3,
     "metadata": {},
     "output_type": "execute_result"
    }
   ],
   "source": [
    "prices= yf.download(['NVDA','TSLA','AAPL','AVB', 'ORCL','AMZN'], start='2020-01-01')['Close']\n",
    "prices"
   ]
  },
  {
   "cell_type": "code",
   "execution_count": 8,
   "id": "a0f710f3",
   "metadata": {},
   "outputs": [
    {
     "data": {
      "image/png": "[encoded data removed]",
      "text/plain": [
       "<Figure size 1400x700 with 1 Axes>"
      ]
     },
     "metadata": {},
     "output_type": "display_data"
    }
   ],
   "source": [
    "plt.figure(figsize=(14, 7))\n",
    "plt.hist(prices, label=prices.keys(), density=True, bins=50)\n",
    "plt.xlabel('Price')\n",
    "plt.ylabel('Probability')\n",
    "plt.legend()\n",
    "plt.show()"
   ]
  },
  {
   "cell_type": "markdown",
   "id": "4a1d901b",
   "metadata": {},
   "source": [
    "No puedo encontrar un patron para determinar el precio de una acción."
   ]
  },
  {
   "cell_type": "markdown",
   "id": "42431fc4",
   "metadata": {},
   "source": [
    "### Cómo calcular "
   ]
  },
  {
   "cell_type": "code",
   "execution_count": null,
   "id": "78ff613b",
   "metadata": {},
   "outputs": [
    {
     "data": {
      "text/html": [
       "<div>\n",
       "<style scoped>\n",
       "    .dataframe tbody tr th:only-of-type {\n",
       "        vertical-align: middle;\n",
       "    }\n",
       "\n",
       "    .dataframe tbody tr th {\n",
       "        vertical-align: top;\n",
       "    }\n",
       "\n",
       "    .dataframe thead th {\n",
       "        text-align: right;\n",
       "    }\n",
       "</style>\n",
       "<table border=\"1\" class=\"dataframe\">\n",
       "  <thead>\n",
       "    <tr style=\"text-align: right;\">\n",
       "      <th>Ticker</th>\n",
       "      <th>AAPL</th>\n",
       "    </tr>\n",
       "    <tr>\n",
       "      <th>Date</th>\n",
       "      <th></th>\n",
       "    </tr>\n",
       "  </thead>\n",
       "  <tbody>\n",
       "    <tr>\n",
       "      <th>2020-01-02</th>\n",
       "      <td>72.620842</td>\n",
       "    </tr>\n",
       "    <tr>\n",
       "      <th>2020-01-03</th>\n",
       "      <td>71.914825</td>\n",
       "    </tr>\n",
       "    <tr>\n",
       "      <th>2020-01-06</th>\n",
       "      <td>72.487854</td>\n",
       "    </tr>\n",
       "    <tr>\n",
       "      <th>2020-01-07</th>\n",
       "      <td>72.146950</td>\n",
       "    </tr>\n",
       "    <tr>\n",
       "      <th>2020-01-08</th>\n",
       "      <td>73.307503</td>\n",
       "    </tr>\n",
       "    <tr>\n",
       "      <th>...</th>\n",
       "      <td>...</td>\n",
       "    </tr>\n",
       "    <tr>\n",
       "      <th>2025-05-21</th>\n",
       "      <td>202.089996</td>\n",
       "    </tr>\n",
       "    <tr>\n",
       "      <th>2025-05-22</th>\n",
       "      <td>201.360001</td>\n",
       "    </tr>\n",
       "    <tr>\n",
       "      <th>2025-05-23</th>\n",
       "      <td>195.270004</td>\n",
       "    </tr>\n",
       "    <tr>\n",
       "      <th>2025-05-27</th>\n",
       "      <td>200.210007</td>\n",
       "    </tr>\n",
       "    <tr>\n",
       "      <th>2025-05-28</th>\n",
       "      <td>NaN</td>\n",
       "    </tr>\n",
       "  </tbody>\n",
       "</table>\n",
       "<p>1358 rows × 1 columns</p>\n",
       "</div>"
      ],
      "text/plain": [
       "Ticker            AAPL\n",
       "Date                  \n",
       "2020-01-02   72.620842\n",
       "2020-01-03   71.914825\n",
       "2020-01-06   72.487854\n",
       "2020-01-07   72.146950\n",
       "2020-01-08   73.307503\n",
       "...                ...\n",
       "2025-05-21  202.089996\n",
       "2025-05-22  201.360001\n",
       "2025-05-23  195.270004\n",
       "2025-05-27  200.210007\n",
       "2025-05-28         NaN\n",
       "\n",
       "[1358 rows x 1 columns]"
      ]
     },
     "execution_count": 9,
     "metadata": {},
     "output_type": "execute_result"
    }
   ],
   "source": [
    "prices [['AAPL']]"
   ]
  },
  {
   "cell_type": "code",
   "execution_count": 10,
   "id": "fdd28470",
   "metadata": {},
   "outputs": [
    {
     "data": {
      "text/html": [
       "<div>\n",
       "<style scoped>\n",
       "    .dataframe tbody tr th:only-of-type {\n",
       "        vertical-align: middle;\n",
       "    }\n",
       "\n",
       "    .dataframe tbody tr th {\n",
       "        vertical-align: top;\n",
       "    }\n",
       "\n",
       "    .dataframe thead th {\n",
       "        text-align: right;\n",
       "    }\n",
       "</style>\n",
       "<table border=\"1\" class=\"dataframe\">\n",
       "  <thead>\n",
       "    <tr style=\"text-align: right;\">\n",
       "      <th>Ticker</th>\n",
       "      <th>AAPL</th>\n",
       "    </tr>\n",
       "    <tr>\n",
       "      <th>Date</th>\n",
       "      <th></th>\n",
       "    </tr>\n",
       "  </thead>\n",
       "  <tbody>\n",
       "    <tr>\n",
       "      <th>2020-01-02</th>\n",
       "      <td>NaN</td>\n",
       "    </tr>\n",
       "    <tr>\n",
       "      <th>2020-01-03</th>\n",
       "      <td>72.620842</td>\n",
       "    </tr>\n",
       "    <tr>\n",
       "      <th>2020-01-06</th>\n",
       "      <td>71.914825</td>\n",
       "    </tr>\n",
       "    <tr>\n",
       "      <th>2020-01-07</th>\n",
       "      <td>72.487854</td>\n",
       "    </tr>\n",
       "    <tr>\n",
       "      <th>2020-01-08</th>\n",
       "      <td>72.146950</td>\n",
       "    </tr>\n",
       "    <tr>\n",
       "      <th>...</th>\n",
       "      <td>...</td>\n",
       "    </tr>\n",
       "    <tr>\n",
       "      <th>2025-05-21</th>\n",
       "      <td>206.860001</td>\n",
       "    </tr>\n",
       "    <tr>\n",
       "      <th>2025-05-22</th>\n",
       "      <td>202.089996</td>\n",
       "    </tr>\n",
       "    <tr>\n",
       "      <th>2025-05-23</th>\n",
       "      <td>201.360001</td>\n",
       "    </tr>\n",
       "    <tr>\n",
       "      <th>2025-05-27</th>\n",
       "      <td>195.270004</td>\n",
       "    </tr>\n",
       "    <tr>\n",
       "      <th>2025-05-28</th>\n",
       "      <td>200.210007</td>\n",
       "    </tr>\n",
       "  </tbody>\n",
       "</table>\n",
       "<p>1358 rows × 1 columns</p>\n",
       "</div>"
      ],
      "text/plain": [
       "Ticker            AAPL\n",
       "Date                  \n",
       "2020-01-02         NaN\n",
       "2020-01-03   72.620842\n",
       "2020-01-06   71.914825\n",
       "2020-01-07   72.487854\n",
       "2020-01-08   72.146950\n",
       "...                ...\n",
       "2025-05-21  206.860001\n",
       "2025-05-22  202.089996\n",
       "2025-05-23  201.360001\n",
       "2025-05-27  195.270004\n",
       "2025-05-28  200.210007\n",
       "\n",
       "[1358 rows x 1 columns]"
      ]
     },
     "execution_count": 10,
     "metadata": {},
     "output_type": "execute_result"
    }
   ],
   "source": [
    "prices [['AAPL']].shift()"
   ]
  },
  {
   "cell_type": "code",
   "execution_count": 17,
   "id": "1079f6d7",
   "metadata": {},
   "outputs": [
    {
     "data": {
      "text/html": [
       "<div>\n",
       "<style scoped>\n",
       "    .dataframe tbody tr th:only-of-type {\n",
       "        vertical-align: middle;\n",
       "    }\n",
       "\n",
       "    .dataframe tbody tr th {\n",
       "        vertical-align: top;\n",
       "    }\n",
       "\n",
       "    .dataframe thead th {\n",
       "        text-align: right;\n",
       "    }\n",
       "</style>\n",
       "<table border=\"1\" class=\"dataframe\">\n",
       "  <thead>\n",
       "    <tr style=\"text-align: right;\">\n",
       "      <th>Ticker</th>\n",
       "      <th>AAPL</th>\n",
       "      <th>AMZN</th>\n",
       "      <th>AVB</th>\n",
       "      <th>NVDA</th>\n",
       "      <th>ORCL</th>\n",
       "      <th>TSLA</th>\n",
       "    </tr>\n",
       "    <tr>\n",
       "      <th>Date</th>\n",
       "      <th></th>\n",
       "      <th></th>\n",
       "      <th></th>\n",
       "      <th></th>\n",
       "      <th></th>\n",
       "      <th></th>\n",
       "    </tr>\n",
       "  </thead>\n",
       "  <tbody>\n",
       "    <tr>\n",
       "      <th>2020-01-03</th>\n",
       "      <td>-0.009722</td>\n",
       "      <td>-0.012139</td>\n",
       "      <td>0.009602</td>\n",
       "      <td>-0.016006</td>\n",
       "      <td>-0.003522</td>\n",
       "      <td>0.029633</td>\n",
       "    </tr>\n",
       "    <tr>\n",
       "      <th>2020-01-06</th>\n",
       "      <td>0.007968</td>\n",
       "      <td>0.014886</td>\n",
       "      <td>0.001673</td>\n",
       "      <td>0.004194</td>\n",
       "      <td>0.005209</td>\n",
       "      <td>0.019255</td>\n",
       "    </tr>\n",
       "    <tr>\n",
       "      <th>2020-01-07</th>\n",
       "      <td>-0.004703</td>\n",
       "      <td>0.002092</td>\n",
       "      <td>-0.021758</td>\n",
       "      <td>0.012107</td>\n",
       "      <td>0.002220</td>\n",
       "      <td>0.038801</td>\n",
       "    </tr>\n",
       "    <tr>\n",
       "      <th>2020-01-08</th>\n",
       "      <td>0.016086</td>\n",
       "      <td>-0.007809</td>\n",
       "      <td>0.004146</td>\n",
       "      <td>0.001876</td>\n",
       "      <td>0.003895</td>\n",
       "      <td>0.049205</td>\n",
       "    </tr>\n",
       "    <tr>\n",
       "      <th>2020-01-09</th>\n",
       "      <td>0.021241</td>\n",
       "      <td>0.004799</td>\n",
       "      <td>0.002331</td>\n",
       "      <td>0.010982</td>\n",
       "      <td>0.004619</td>\n",
       "      <td>-0.021945</td>\n",
       "    </tr>\n",
       "    <tr>\n",
       "      <th>...</th>\n",
       "      <td>...</td>\n",
       "      <td>...</td>\n",
       "      <td>...</td>\n",
       "      <td>...</td>\n",
       "      <td>...</td>\n",
       "      <td>...</td>\n",
       "    </tr>\n",
       "    <tr>\n",
       "      <th>2025-05-20</th>\n",
       "      <td>-0.009196</td>\n",
       "      <td>-0.010138</td>\n",
       "      <td>-0.000144</td>\n",
       "      <td>-0.008778</td>\n",
       "      <td>0.004197</td>\n",
       "      <td>0.005057</td>\n",
       "    </tr>\n",
       "    <tr>\n",
       "      <th>2025-05-21</th>\n",
       "      <td>-0.023059</td>\n",
       "      <td>-0.014456</td>\n",
       "      <td>-0.032839</td>\n",
       "      <td>-0.019199</td>\n",
       "      <td>-0.019525</td>\n",
       "      <td>-0.026758</td>\n",
       "    </tr>\n",
       "    <tr>\n",
       "      <th>2025-05-22</th>\n",
       "      <td>-0.003612</td>\n",
       "      <td>0.009845</td>\n",
       "      <td>-0.009319</td>\n",
       "      <td>0.007815</td>\n",
       "      <td>0.000827</td>\n",
       "      <td>0.019186</td>\n",
       "    </tr>\n",
       "    <tr>\n",
       "      <th>2025-05-23</th>\n",
       "      <td>-0.030244</td>\n",
       "      <td>-0.010389</td>\n",
       "      <td>-0.009156</td>\n",
       "      <td>-0.011594</td>\n",
       "      <td>-0.008518</td>\n",
       "      <td>-0.004985</td>\n",
       "    </tr>\n",
       "    <tr>\n",
       "      <th>2025-05-27</th>\n",
       "      <td>0.025298</td>\n",
       "      <td>0.025026</td>\n",
       "      <td>0.017321</td>\n",
       "      <td>0.032066</td>\n",
       "      <td>0.038084</td>\n",
       "      <td>0.069399</td>\n",
       "    </tr>\n",
       "  </tbody>\n",
       "</table>\n",
       "<p>1356 rows × 6 columns</p>\n",
       "</div>"
      ],
      "text/plain": [
       "Ticker          AAPL      AMZN       AVB      NVDA      ORCL      TSLA\n",
       "Date                                                                  \n",
       "2020-01-03 -0.009722 -0.012139  0.009602 -0.016006 -0.003522  0.029633\n",
       "2020-01-06  0.007968  0.014886  0.001673  0.004194  0.005209  0.019255\n",
       "2020-01-07 -0.004703  0.002092 -0.021758  0.012107  0.002220  0.038801\n",
       "2020-01-08  0.016086 -0.007809  0.004146  0.001876  0.003895  0.049205\n",
       "2020-01-09  0.021241  0.004799  0.002331  0.010982  0.004619 -0.021945\n",
       "...              ...       ...       ...       ...       ...       ...\n",
       "2025-05-20 -0.009196 -0.010138 -0.000144 -0.008778  0.004197  0.005057\n",
       "2025-05-21 -0.023059 -0.014456 -0.032839 -0.019199 -0.019525 -0.026758\n",
       "2025-05-22 -0.003612  0.009845 -0.009319  0.007815  0.000827  0.019186\n",
       "2025-05-23 -0.030244 -0.010389 -0.009156 -0.011594 -0.008518 -0.004985\n",
       "2025-05-27  0.025298  0.025026  0.017321  0.032066  0.038084  0.069399\n",
       "\n",
       "[1356 rows x 6 columns]"
      ]
     },
     "execution_count": 17,
     "metadata": {},
     "output_type": "execute_result"
    }
   ],
   "source": [
    "daily_returns= (prices/prices.shift()-1).dropna()\n",
    "daily_returns"
   ]
  },
  {
   "cell_type": "code",
   "execution_count": 18,
   "id": "7ffba91f",
   "metadata": {},
   "outputs": [
    {
     "data": {
      "image/png": "[encoded data removed]",
      "text/plain": [
       "<Figure size 1400x700 with 1 Axes>"
      ]
     },
     "metadata": {},
     "output_type": "display_data"
    }
   ],
   "source": [
    "plt.figure(figsize=(14, 7))\n",
    "plt.hist(daily_returns, label=daily_returns.keys(), density=True, bins=50)\n",
    "plt.xlabel('Price')\n",
    "plt.ylabel('Probability')\n",
    "plt.legend()\n",
    "plt.show()"
   ]
  },
  {
   "cell_type": "code",
   "execution_count": null,
   "id": "c69db6e5",
   "metadata": {},
   "outputs": [],
   "source": [
    "## for"
   ]
  },
  {
   "cell_type": "code",
   "execution_count": 19,
   "id": "47fb74de",
   "metadata": {},
   "outputs": [
    {
     "data": {
      "text/html": [
       "<div>\n",
       "<style scoped>\n",
       "    .dataframe tbody tr th:only-of-type {\n",
       "        vertical-align: middle;\n",
       "    }\n",
       "\n",
       "    .dataframe tbody tr th {\n",
       "        vertical-align: top;\n",
       "    }\n",
       "\n",
       "    .dataframe thead th {\n",
       "        text-align: right;\n",
       "    }\n",
       "</style>\n",
       "<table border=\"1\" class=\"dataframe\">\n",
       "  <thead>\n",
       "    <tr style=\"text-align: right;\">\n",
       "      <th>Ticker</th>\n",
       "      <th>AAPL</th>\n",
       "      <th>AMZN</th>\n",
       "      <th>AVB</th>\n",
       "      <th>NVDA</th>\n",
       "      <th>ORCL</th>\n",
       "      <th>TSLA</th>\n",
       "    </tr>\n",
       "    <tr>\n",
       "      <th>Date</th>\n",
       "      <th></th>\n",
       "      <th></th>\n",
       "      <th></th>\n",
       "      <th></th>\n",
       "      <th></th>\n",
       "      <th></th>\n",
       "    </tr>\n",
       "  </thead>\n",
       "  <tbody>\n",
       "    <tr>\n",
       "      <th>2020-01-03</th>\n",
       "      <td>-0.009722</td>\n",
       "      <td>-0.012139</td>\n",
       "      <td>0.009602</td>\n",
       "      <td>-0.016006</td>\n",
       "      <td>-0.003522</td>\n",
       "      <td>0.029633</td>\n",
       "    </tr>\n",
       "    <tr>\n",
       "      <th>2020-01-06</th>\n",
       "      <td>0.007968</td>\n",
       "      <td>0.014886</td>\n",
       "      <td>0.001673</td>\n",
       "      <td>0.004194</td>\n",
       "      <td>0.005209</td>\n",
       "      <td>0.019255</td>\n",
       "    </tr>\n",
       "    <tr>\n",
       "      <th>2020-01-07</th>\n",
       "      <td>-0.004703</td>\n",
       "      <td>0.002092</td>\n",
       "      <td>-0.021758</td>\n",
       "      <td>0.012107</td>\n",
       "      <td>0.002220</td>\n",
       "      <td>0.038801</td>\n",
       "    </tr>\n",
       "    <tr>\n",
       "      <th>2020-01-08</th>\n",
       "      <td>0.016086</td>\n",
       "      <td>-0.007809</td>\n",
       "      <td>0.004146</td>\n",
       "      <td>0.001876</td>\n",
       "      <td>0.003895</td>\n",
       "      <td>0.049205</td>\n",
       "    </tr>\n",
       "    <tr>\n",
       "      <th>2020-01-09</th>\n",
       "      <td>0.021241</td>\n",
       "      <td>0.004799</td>\n",
       "      <td>0.002331</td>\n",
       "      <td>0.010982</td>\n",
       "      <td>0.004619</td>\n",
       "      <td>-0.021945</td>\n",
       "    </tr>\n",
       "    <tr>\n",
       "      <th>...</th>\n",
       "      <td>...</td>\n",
       "      <td>...</td>\n",
       "      <td>...</td>\n",
       "      <td>...</td>\n",
       "      <td>...</td>\n",
       "      <td>...</td>\n",
       "    </tr>\n",
       "    <tr>\n",
       "      <th>2025-05-20</th>\n",
       "      <td>-0.009196</td>\n",
       "      <td>-0.010138</td>\n",
       "      <td>-0.000144</td>\n",
       "      <td>-0.008778</td>\n",
       "      <td>0.004197</td>\n",
       "      <td>0.005057</td>\n",
       "    </tr>\n",
       "    <tr>\n",
       "      <th>2025-05-21</th>\n",
       "      <td>-0.023059</td>\n",
       "      <td>-0.014456</td>\n",
       "      <td>-0.032839</td>\n",
       "      <td>-0.019199</td>\n",
       "      <td>-0.019525</td>\n",
       "      <td>-0.026758</td>\n",
       "    </tr>\n",
       "    <tr>\n",
       "      <th>2025-05-22</th>\n",
       "      <td>-0.003612</td>\n",
       "      <td>0.009845</td>\n",
       "      <td>-0.009319</td>\n",
       "      <td>0.007815</td>\n",
       "      <td>0.000827</td>\n",
       "      <td>0.019186</td>\n",
       "    </tr>\n",
       "    <tr>\n",
       "      <th>2025-05-23</th>\n",
       "      <td>-0.030244</td>\n",
       "      <td>-0.010389</td>\n",
       "      <td>-0.009156</td>\n",
       "      <td>-0.011594</td>\n",
       "      <td>-0.008518</td>\n",
       "      <td>-0.004985</td>\n",
       "    </tr>\n",
       "    <tr>\n",
       "      <th>2025-05-27</th>\n",
       "      <td>0.025298</td>\n",
       "      <td>0.025026</td>\n",
       "      <td>0.017321</td>\n",
       "      <td>0.032066</td>\n",
       "      <td>0.038084</td>\n",
       "      <td>0.069399</td>\n",
       "    </tr>\n",
       "  </tbody>\n",
       "</table>\n",
       "<p>1356 rows × 6 columns</p>\n",
       "</div>"
      ],
      "text/plain": [
       "Ticker          AAPL      AMZN       AVB      NVDA      ORCL      TSLA\n",
       "Date                                                                  \n",
       "2020-01-03 -0.009722 -0.012139  0.009602 -0.016006 -0.003522  0.029633\n",
       "2020-01-06  0.007968  0.014886  0.001673  0.004194  0.005209  0.019255\n",
       "2020-01-07 -0.004703  0.002092 -0.021758  0.012107  0.002220  0.038801\n",
       "2020-01-08  0.016086 -0.007809  0.004146  0.001876  0.003895  0.049205\n",
       "2020-01-09  0.021241  0.004799  0.002331  0.010982  0.004619 -0.021945\n",
       "...              ...       ...       ...       ...       ...       ...\n",
       "2025-05-20 -0.009196 -0.010138 -0.000144 -0.008778  0.004197  0.005057\n",
       "2025-05-21 -0.023059 -0.014456 -0.032839 -0.019199 -0.019525 -0.026758\n",
       "2025-05-22 -0.003612  0.009845 -0.009319  0.007815  0.000827  0.019186\n",
       "2025-05-23 -0.030244 -0.010389 -0.009156 -0.011594 -0.008518 -0.004985\n",
       "2025-05-27  0.025298  0.025026  0.017321  0.032066  0.038084  0.069399\n",
       "\n",
       "[1356 rows x 6 columns]"
      ]
     },
     "execution_count": 19,
     "metadata": {},
     "output_type": "execute_result"
    }
   ],
   "source": [
    "daily_returns"
   ]
  },
  {
   "cell_type": "code",
   "execution_count": 28,
   "id": "fa162705",
   "metadata": {},
   "outputs": [
    {
     "data": {
      "text/plain": [
       "Ticker\n",
       "AAPL    0.000961\n",
       "AMZN    0.000834\n",
       "AVB     0.000290\n",
       "NVDA    0.002902\n",
       "ORCL    0.001108\n",
       "TSLA    0.002788\n",
       "dtype: float64"
      ]
     },
     "execution_count": 28,
     "metadata": {},
     "output_type": "execute_result"
    }
   ],
   "source": [
    "daily_returns.mean()"
   ]
  },
  {
   "cell_type": "markdown",
   "id": "a565368b",
   "metadata": {},
   "source": [
    "El coeficiente de variación , se calcula de la siguiente manera:\n",
    "$$CV = \\frac{\\sigma}{\\mu}$$\n",
    "\n",
    "- Entre menor sea el coeficiente de variación es mejor."
   ]
  },
  {
   "cell_type": "code",
   "execution_count": null,
   "id": "937ed6cb",
   "metadata": {},
   "outputs": [
    {
     "data": {
      "text/html": [
       "<div>\n",
       "<style scoped>\n",
       "    .dataframe tbody tr th:only-of-type {\n",
       "        vertical-align: middle;\n",
       "    }\n",
       "\n",
       "    .dataframe tbody tr th {\n",
       "        vertical-align: top;\n",
       "    }\n",
       "\n",
       "    .dataframe thead th {\n",
       "        text-align: right;\n",
       "    }\n",
       "</style>\n",
       "<table border=\"1\" class=\"dataframe\">\n",
       "  <thead>\n",
       "    <tr style=\"text-align: right;\">\n",
       "      <th></th>\n",
       "      <th>Daily_rate</th>\n",
       "      <th>Anual_rate</th>\n",
       "      <th>Daily_Vol</th>\n",
       "      <th>Anual_Vol</th>\n",
       "      <th>Skewness</th>\n",
       "    </tr>\n",
       "    <tr>\n",
       "      <th>Ticker</th>\n",
       "      <th></th>\n",
       "      <th></th>\n",
       "      <th></th>\n",
       "      <th></th>\n",
       "      <th></th>\n",
       "    </tr>\n",
       "  </thead>\n",
       "  <tbody>\n",
       "    <tr>\n",
       "      <th>AAPL</th>\n",
       "      <td>0.096101</td>\n",
       "      <td>24.217547</td>\n",
       "      <td>2.067044</td>\n",
       "      <td>32.813310</td>\n",
       "      <td>27.605933</td>\n",
       "    </tr>\n",
       "    <tr>\n",
       "      <th>AMZN</th>\n",
       "      <td>0.083355</td>\n",
       "      <td>21.005551</td>\n",
       "      <td>2.290270</td>\n",
       "      <td>36.356915</td>\n",
       "      <td>13.973486</td>\n",
       "    </tr>\n",
       "    <tr>\n",
       "      <th>AVB</th>\n",
       "      <td>0.029030</td>\n",
       "      <td>7.315666</td>\n",
       "      <td>1.875639</td>\n",
       "      <td>29.774840</td>\n",
       "      <td>-24.331608</td>\n",
       "    </tr>\n",
       "    <tr>\n",
       "      <th>NVDA</th>\n",
       "      <td>0.290158</td>\n",
       "      <td>73.119792</td>\n",
       "      <td>3.468085</td>\n",
       "      <td>55.054142</td>\n",
       "      <td>35.077824</td>\n",
       "    </tr>\n",
       "    <tr>\n",
       "      <th>ORCL</th>\n",
       "      <td>0.110768</td>\n",
       "      <td>27.913563</td>\n",
       "      <td>2.179726</td>\n",
       "      <td>34.602082</td>\n",
       "      <td>74.412093</td>\n",
       "    </tr>\n",
       "    <tr>\n",
       "      <th>TSLA</th>\n",
       "      <td>0.278826</td>\n",
       "      <td>70.264096</td>\n",
       "      <td>4.291068</td>\n",
       "      <td>68.118585</td>\n",
       "      <td>27.398915</td>\n",
       "    </tr>\n",
       "  </tbody>\n",
       "</table>\n",
       "</div>"
      ],
      "text/plain": [
       "        Daily_rate  Anual_rate  Daily_Vol  Anual_Vol   Skewness\n",
       "Ticker                                                         \n",
       "AAPL      0.096101   24.217547   2.067044  32.813310  27.605933\n",
       "AMZN      0.083355   21.005551   2.290270  36.356915  13.973486\n",
       "AVB       0.029030    7.315666   1.875639  29.774840 -24.331608\n",
       "NVDA      0.290158   73.119792   3.468085  55.054142  35.077824\n",
       "ORCL      0.110768   27.913563   2.179726  34.602082  74.412093\n",
       "TSLA      0.278826   70.264096   4.291068  68.118585  27.398915"
      ]
     },
     "execution_count": 50,
     "metadata": {},
     "output_type": "execute_result"
    }
   ],
   "source": [
    "df= pd.DataFrame(columns=daily_returns.keys()).T\n",
    "### Returns\n",
    "df['Daily_rate']= daily_returns.mean()\n",
    "df['Anual_rate']= daily_returns.mean()*252\n",
    "\n",
    "### Volatility / desv \n",
    "df['Daily_Vol']= daily_returns.std()\n",
    "df['Anual_Vol']= daily_returns.std()*np.sqrt(252)\n",
    "\n",
    "### Asimetria\n",
    "df['Skewness']= daily_returns.skew()\n",
    "df*100"
   ]
  },
  {
   "cell_type": "markdown",
   "id": "9010a56b",
   "metadata": {},
   "source": [
    "La 'mejor' acción es la de `NVDA`, porque es la que mejor rencimiento tiene, pero se necesitan otros factores para determinar si la acción es la mejor o no. "
   ]
  },
  {
   "cell_type": "markdown",
   "id": "40f43eae",
   "metadata": {},
   "source": []
  },
  {
   "cell_type": "markdown",
   "id": "158390a3",
   "metadata": {},
   "source": [
    "### Calcular la varianza "
   ]
  },
  {
   "cell_type": "code",
   "execution_count": 34,
   "id": "f218177d",
   "metadata": {},
   "outputs": [
    {
     "data": {
      "text/plain": [
       "Ticker\n",
       "AAPL    0.042695\n",
       "AMZN    0.052415\n",
       "AVB     0.035154\n",
       "NVDA    0.120187\n",
       "ORCL    0.047477\n",
       "TSLA    0.183997\n",
       "dtype: float64"
      ]
     },
     "execution_count": 34,
     "metadata": {},
     "output_type": "execute_result"
    }
   ],
   "source": [
    "((daily_returns-daily_returns.mean())**2).sum() / (len(daily_returns)) *100 "
   ]
  },
  {
   "cell_type": "code",
   "execution_count": 38,
   "id": "2dbb6a85",
   "metadata": {},
   "outputs": [
    {
     "data": {
      "text/plain": [
       "Ticker\n",
       "AAPL    0.000427\n",
       "AMZN    0.000525\n",
       "AVB     0.000352\n",
       "NVDA    0.001203\n",
       "ORCL    0.000475\n",
       "TSLA    0.001841\n",
       "dtype: float64"
      ]
     },
     "execution_count": 38,
     "metadata": {},
     "output_type": "execute_result"
    }
   ],
   "source": [
    "daily_returns.var()"
   ]
  },
  {
   "cell_type": "markdown",
   "id": "1e8117fe",
   "metadata": {},
   "source": [
    "### Calcular la desviación estándar / volatilidad"
   ]
  },
  {
   "cell_type": "code",
   "execution_count": null,
   "id": "aa627323",
   "metadata": {},
   "outputs": [
    {
     "data": {
      "text/plain": [
       "Ticker\n",
       "AAPL    2.067044\n",
       "AMZN    2.290270\n",
       "AVB     1.875639\n",
       "NVDA    3.468085\n",
       "ORCL    2.179726\n",
       "TSLA    4.291068\n",
       "dtype: float64"
      ]
     },
     "execution_count": 35,
     "metadata": {},
     "output_type": "execute_result"
    }
   ],
   "source": [
    "np.sqrt(((daily_returns-daily_returns.mean())**2).sum() / (len(daily_returns)-1)) * 100\n",
    "\n"
   ]
  },
  {
   "cell_type": "code",
   "execution_count": 37,
   "id": "c223fe40",
   "metadata": {},
   "outputs": [
    {
     "data": {
      "text/plain": [
       "Ticker\n",
       "AAPL    2.067044\n",
       "AMZN    2.290270\n",
       "AVB     1.875639\n",
       "NVDA    3.468085\n",
       "ORCL    2.179726\n",
       "TSLA    4.291068\n",
       "dtype: float64"
      ]
     },
     "execution_count": 37,
     "metadata": {},
     "output_type": "execute_result"
    }
   ],
   "source": [
    "daily_returns.std()*100"
   ]
  },
  {
   "cell_type": "markdown",
   "id": "d8c51aa6",
   "metadata": {},
   "source": [
    "### Coeficiente de Variación"
   ]
  },
  {
   "cell_type": "markdown",
   "id": "2b851304",
   "metadata": {},
   "source": [
    "El coeficiente de variación , se calcula de la siguiente manera:\n",
    "$$CV = \\frac{\\sigma}{\\mu}$$\n",
    "\n",
    "- Entre menor sea el coeficiente de variación es mejor."
   ]
  },
  {
   "cell_type": "code",
   "execution_count": 47,
   "id": "54076017",
   "metadata": {},
   "outputs": [
    {
     "data": {
      "text/plain": [
       "Ticker\n",
       "AAPL    1.354939\n",
       "AMZN    1.730824\n",
       "AVB     4.070011\n",
       "NVDA    0.752931\n",
       "ORCL    1.239615\n",
       "TSLA    0.969465\n",
       "Name: CV, dtype: float64"
      ]
     },
     "execution_count": 47,
     "metadata": {},
     "output_type": "execute_result"
    }
   ],
   "source": [
    "df['CV'] = df['Anual_Vol'] / df['Anual_rate']\n",
    "df['CV'] "
   ]
  },
  {
   "cell_type": "markdown",
   "id": "e23ed237",
   "metadata": {},
   "source": [
    "Con esto podemos decir que efectivamente, con el coeficiente de variación podemos afirmar que la mejor acción sí sería `NVIDIA`, ya que tiene el coeficiente de variación más bajo de todas las acciones."
   ]
  },
  {
   "cell_type": "markdown",
   "id": "0414032b",
   "metadata": {},
   "source": [
    "### Asimetría  (skewness)"
   ]
  },
  {
   "cell_type": "code",
   "execution_count": 48,
   "id": "ebf748a8",
   "metadata": {},
   "outputs": [
    {
     "data": {
      "text/plain": [
       "Ticker\n",
       "AAPL    0.276059\n",
       "AMZN    0.139735\n",
       "AVB    -0.243316\n",
       "NVDA    0.350778\n",
       "ORCL    0.744121\n",
       "TSLA    0.273989\n",
       "dtype: float64"
      ]
     },
     "execution_count": 48,
     "metadata": {},
     "output_type": "execute_result"
    }
   ],
   "source": [
    "daily_returns.skew()"
   ]
  },
  {
   "cell_type": "markdown",
   "id": "972f5045",
   "metadata": {},
   "source": [
    "La acción que menos conviene invertir es la de `AVB` ya que puede tener una tendencia a que haya más perdidas, siendo que tiene una asimetría negativa."
   ]
  }
 ],
 "metadata": {
  "kernelspec": {
   "display_name": "Python 3",
   "language": "python",
   "name": "python3"
  },
  "language_info": {
   "codemirror_mode": {
    "name": "ipython",
    "version": 3
   },
   "file_extension": ".py",
   "mimetype": "text/x-python",
   "name": "python",
   "nbconvert_exporter": "python",
   "pygments_lexer": "ipython3",
   "version": "3.12.8"
  }
 },
 "nbformat": 4,
 "nbformat_minor": 5
}
