{
 "cells": [
  {
   "cell_type": "markdown",
   "id": "9f72f3bd",
   "metadata": {},
   "source": [
    "# Portafolios de Inversión\n",
    "## Rentabilidad y Riesgo Financiero\n",
    "José Armando Melchor Soto"
   ]
  },
  {
   "cell_type": "markdown",
   "id": "65ea109e",
   "metadata": {},
   "source": [
    "---"
   ]
  },
  {
   "cell_type": "markdown",
   "id": "80dc99a2",
   "metadata": {},
   "source": [
    "### Distribución del Precio"
   ]
  },
  {
   "cell_type": "markdown",
   "id": "d2351058",
   "metadata": {},
   "source": [
    "- Los precios de un activo financiero dependen su tamaño e historial , lo que dificulta la comparación entre activos, ya que operan en escalas diferentes.\n",
    "\n",
    "- Por esto , no es adecuado comparar activos solo en base a sus precios.\n",
    "\n",
    "- Dado estas características, los precios no siguen una distribución normal, lo que complica su modelado estadístico.\n"
   ]
  },
  {
   "cell_type": "markdown",
   "id": "662e96df",
   "metadata": {},
   "source": [
    "---"
   ]
  },
  {
   "cell_type": "markdown",
   "id": "d6dbae6f",
   "metadata": {},
   "source": [
    "### Rentabilidad y Rendimiento"
   ]
  },
  {
   "cell_type": "markdown",
   "id": "4e5f1ace",
   "metadata": {},
   "source": [
    "- La rentabilidad es la capacidad de una inversión de generar ganancias. \n",
    "\n",
    "- La rentabilidad de un activo financiero se evaluar por medio del rendimiento , que es la tasa de retorno efectiva sobre un capital inicial.\n",
    "\n",
    "- Se puede calcular el rendimiento con la fórmula de la derecha, donde:\n",
    "    - Pt: Es el precio en el tiempo donde se quiere medir el rendimiento\n",
    "    - P0 : Es el precio incial de compra\n",
    "\n",
    "$$R_t = \\frac{P_t-P_0}{P_0} = \\frac{Nuevo}{Viejo} - 1$$     "
   ]
  },
  {
   "cell_type": "markdown",
   "id": "9e342d6c",
   "metadata": {},
   "source": [
    "---"
   ]
  },
  {
   "cell_type": "markdown",
   "id": "d33aeff2",
   "metadata": {},
   "source": [
    "### Distribución de Rendimiento\n",
    "\n",
    "- Los rendimientos suelen seguir una distribución aproximadamente normal , especialmente en el corto plazo(colo los rendimientos diarios).\n",
    "\n",
    "- Además , los redimientos de los activos financiros tienden a mantener una media relativamente constante a lo largo del tiempo.\n",
    "\n",
    "- El hecho de que los rendiminetos diarios sigan una distribución normal nos permite utilizar las propiedades y medidas de esta distribución para simplificar el análisis y el modelado de un activo financiero.\n",
    "\n"
   ]
  },
  {
   "cell_type": "markdown",
   "id": "42d13c8a",
   "metadata": {},
   "source": [
    "---"
   ]
  },
  {
   "cell_type": "markdown",
   "id": "384703fa",
   "metadata": {},
   "source": [
    "### Rendimiento promedio \n",
    "- El promedio de los rendimientos nos indica el rendimiento esperado de una inversión en un periodo determinado.\n",
    "\n",
    "- Esto refleja cómo ha fluctuado en promedio el activo financiero a lo largo del tiempo según la periodicidad de los datos. Por ejemplo, si los rendimientos son diarios , el promedio representa el rendimiento esperado en un día.\n",
    "\n",
    "- Es importante destacar que este valor esperado no garantiza un rendimiento diario constante , sino que , a largo plazo , los rendimientos tienden a acercarse a ese promedio."
   ]
  },
  {
   "cell_type": "markdown",
   "id": "951d9c92",
   "metadata": {},
   "source": [
    "---"
   ]
  },
  {
   "cell_type": "markdown",
   "id": "5cca6bd3",
   "metadata": {},
   "source": [
    "### Distr. Precio\n",
    "\n",
    "- Los precios dependen de la escala , por tanto, no se puede comparar el desempeño ode dos o más activos de bases a datos.\n",
    "\n",
    "- No tienen un comportamiento específico (no muestran patrones).\n",
    "\n",
    "- No distribuyen normal.\n"
   ]
  },
  {
   "cell_type": "markdown",
   "id": "123789d7",
   "metadata": {},
   "source": [
    "### Distr. Rendimiento"
   ]
  },
  {
   "cell_type": "markdown",
   "id": "1fd235c9",
   "metadata": {},
   "source": [
    "- Los rendimientos están \"estandarizados\" , por tanto se pueden comparar activos en base a sus rendimientos.\n",
    "\n",
    "- Los rendimientos distribuyen aprox. normal.\n",
    "\n",
    "- Los podemos modelar usando las medidas de tendencia central , dispersión y forma de una distribución normal.\n"
   ]
  },
  {
   "cell_type": "markdown",
   "id": "be06d77d",
   "metadata": {},
   "source": [
    "---"
   ]
  },
  {
   "cell_type": "markdown",
   "id": "9f2005fd",
   "metadata": {},
   "source": [
    "### Riesgo\n",
    "\n",
    "- Riesgo es la probabilidad de que se produzca un resultado distinto al esperado , pero en realidad no sabemos qué es es lo que va a pasar (incertidumbre).\n",
    "    - \"Más cosas pueden pasar de las que pasarán en realidad\".\n",
    "    - \"Existen varias posibilidades pero no sabemos cuál será el resultado\"\n",
    "\n",
    "- Instintivamente , asociamos riesgo con peligro. Sin embargo , solo porque más cosas pueden pasar de las que pasarán , no significa que cosas malas pasará: el resultado puede ser mejor de lo que inicialmente esperabamos. \n"
   ]
  },
  {
   "cell_type": "markdown",
   "id": "7c618e21",
   "metadata": {},
   "source": [
    "---"
   ]
  },
  {
   "cell_type": "markdown",
   "id": "3c60e37f",
   "metadata": {},
   "source": [
    "### Varianza y Volatilidad\n",
    "Dado que los rendimientos siguen una distribución normal, podemos utilizar las medidas de dispersión para evaluar la desviación respecto a la media , lo cual indica la posibilidad de obtener rendimientos diferentes a los esperados(riesgo).\n",
    "\n",
    "- Varianza: Es el promedio de las desviaciones estándar cuadradas de los rendiminetos respecto a su media. El hecho de que las desviaciones estén al cuadrado pueden dificultar su interpretación directa.\n",
    "\n",
    "$$ \\sigma ^2 = \\frac{\\sum_{i=1}^{n} (x_i - E[x])^2 }{n} $$\n",
    "\n",
    "\n",
    "- Desviación Estándar (Volatilidad): Es la raiz cuadrada de la varianza. Al estar expresada en las mismas unidades que los rendimientos , facilita su interpretación.\n",
    "\n",
    "$$ \\sigma = \\sqrt{\\frac{\\sum_{i=1}^{n} (x_i - E[x])^2 }{n}} $$\n"
   ]
  },
  {
   "cell_type": "markdown",
   "id": "98a98746",
   "metadata": {},
   "source": [
    "---"
   ]
  },
  {
   "cell_type": "markdown",
   "id": "dc48c5b5",
   "metadata": {},
   "source": [
    "### Asimetría\n",
    "\n",
    "- La asimetría en la distribución de rendimientos revela el comportamiento histórico de un activo . La asimetría negativa indica un mayor cantidad de rendimientos negativos extremos , mientras que la asimetría positiva sugiere una mayor cantidad de rendimientos positivos extremos.\n",
    "\n",
    "- Por eso , en finanzas, se prefieren activos con asimetría positiva , ya que estos presentan un sesgo hacia las ganancias.\n"
   ]
  }
 ],
 "metadata": {
  "kernelspec": {
   "display_name": "Python 3",
   "language": "python",
   "name": "python3"
  },
  "language_info": {
   "codemirror_mode": {
    "name": "ipython",
    "version": 3
   },
   "file_extension": ".py",
   "mimetype": "text/x-python",
   "name": "python",
   "nbconvert_exporter": "python",
   "pygments_lexer": "ipython3",
   "version": "3.12.8"
  }
 },
 "nbformat": 4,
 "nbformat_minor": 5
}
