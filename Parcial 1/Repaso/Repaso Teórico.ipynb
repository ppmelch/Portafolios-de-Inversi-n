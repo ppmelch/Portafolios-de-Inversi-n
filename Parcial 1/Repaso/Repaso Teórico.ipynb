{
 "cells": [
  {
   "cell_type": "markdown",
   "id": "c87b9290",
   "metadata": {},
   "source": [
    "# Portafolios de Inversión\n",
    "## Repaso Teórico\n",
    "José Armando Melchor Soto\n",
    "\n",
    "---\n",
    "\n",
    "\n",
    "\n"
   ]
  },
  {
   "cell_type": "markdown",
   "id": "37faa92c",
   "metadata": {},
   "source": [
    "## Temario"
   ]
  },
  {
   "cell_type": "markdown",
   "id": "510d116b",
   "metadata": {},
   "source": [
    "##### - Tipos de activos (Clase 1)\n",
    "\n",
    "##### - Distribución Normal (Clase 2)\n",
    "\n",
    "##### - Rentabilidad y Riesgo Financiero (Clase 3)\n",
    "\n",
    "##### - Portafolios de Inversión I y II (Clase 4 y 5)\n",
    "\n",
    "##### - Estrategias de Inversión (Clase 6)\n",
    "\n",
    "##### - Otras Medidas de Rendimiento y Riesgo (Clase 7)"
   ]
  },
  {
   "cell_type": "markdown",
   "id": "d011c281",
   "metadata": {},
   "source": [
    "---"
   ]
  },
  {
   "cell_type": "markdown",
   "id": "f2b2c62a",
   "metadata": {},
   "source": [
    "### **Tipos de Activos** "
   ]
  },
  {
   "cell_type": "markdown",
   "id": "3f237c30",
   "metadata": {},
   "source": [
    "#### Mercado de valores"
   ]
  },
  {
   "cell_type": "markdown",
   "id": "2d4ad661",
   "metadata": {},
   "source": [
    "Es un mecanismo donde participan distintas entidades con el objetivo de captar recursos o rendimientos en el futuro. Hay dos tipos de mercados , el mercado primario y el mercado secundario."
   ]
  },
  {
   "cell_type": "markdown",
   "id": "7f533553",
   "metadata": {},
   "source": [
    "#### Participantes del Mercado "
   ]
  },
  {
   "cell_type": "markdown",
   "id": "dc0b8ac2",
   "metadata": {},
   "source": [
    "En este participan:\n",
    "\n",
    "- Inversionista\n",
    "- Emisora \n",
    "- Intermediario\n",
    "- Autoridades Financieras\n",
    "- Organismos de apoyo \n",
    "\n"
   ]
  },
  {
   "cell_type": "markdown",
   "id": "2c22e8cd",
   "metadata": {},
   "source": [
    "#### Activos Financieros"
   ]
  },
  {
   "cell_type": "markdown",
   "id": "57be9aef",
   "metadata": {},
   "source": [
    "Hay distintos activos activos financieros, como lo pueden ser:\n",
    "- Mercado de Renta variable\n",
    "- Mercado de deuda\n",
    "- Mercado FOREX\n",
    "- Mercado de Derivados\n"
   ]
  },
  {
   "cell_type": "markdown",
   "id": "ca2a1f96",
   "metadata": {},
   "source": [
    "#### Mercado de Renta Variable "
   ]
  },
  {
   "cell_type": "markdown",
   "id": "a4b92a4c",
   "metadata": {},
   "source": [
    "Este es un mercado en el que la recuperación de su capital invertido no está garantizado bajo ninguna circunstancia y el rendmiento se desconoce de antemano. El que compra activos de Renta Variable se convierte en el dueño de una parte de la empresa emisora.\n",
    "\n",
    "Hay distintos activos de Renta Variable, como lo pueden ser:\n",
    "\n",
    "- Acciones\n",
    "- Fondos de Inversión \n",
    "- ETF's\n",
    "- UCIT's\n"
   ]
  },
  {
   "cell_type": "markdown",
   "id": "eeba13f3",
   "metadata": {},
   "source": [
    "#### Mercado de Deuda"
   ]
  },
  {
   "cell_type": "markdown",
   "id": "235d2cb1",
   "metadata": {},
   "source": [
    "Es un mercado donde se negocían títulos de deuda , los cuales funcionan como préstamo. La inversionista pide un título de deuda al emisor donde se compromete a devolver el capital prestado más un interés en un periodo de tiempo daod.\n",
    "\n",
    "Hay dos tipos de Mercados de deuda\n",
    "\n",
    "- Mercado de Deuda Gubernamental \n",
    "    - Es una deuda que permite a un país financiarse con títulos de deuda como lo pueden ser los CETES , BONOS M , etc.\n",
    "- Mercado de Deuda Corporativa \n",
    "    - Es una deuda que permite a las empresas financiarse con títulos de deuda sin dar un porcentaje de la empresa misma, son emitidas a través una casa de bolsa.\n",
    "\n"
   ]
  },
  {
   "cell_type": "markdown",
   "id": "183f9f67",
   "metadata": {},
   "source": [
    "#### FOREX "
   ]
  },
  {
   "cell_type": "markdown",
   "id": "139082ac",
   "metadata": {},
   "source": [
    "Es el mercado de divisas donde se negocian los tipos de cambio entre las distintas divisas del mundo.\n",
    "\n",
    "Sus característica son: \n",
    "- Es el mercado más grande del mundo.\n",
    "- Es de los volátiles , libres y no regulados.\n",
    "- Sus participantes tienen poca posibilidad de manipulación de mercado.\n",
    "- Esta en la actividad las 24 hrs del día , los cinco días de la semana laboral.\n"
   ]
  },
  {
   "cell_type": "markdown",
   "id": "693bf2a5",
   "metadata": {},
   "source": [
    "#### Mercado de derivados "
   ]
  },
  {
   "cell_type": "markdown",
   "id": "0c43e74a",
   "metadata": {},
   "source": [
    "Es el mercado donde se negocian los derivados , es decir, los productos financieros cuyo valor depende de un activo de referencia conocido como subyacente.\n",
    "Los principales derivados son :\n",
    "- Futuros / Fowards\n",
    "    - **Futuros**: Es la obligación de compra/venta de un activo en un periodo de largo plazo, estos se negocian en el mercado primario.\n",
    "    - **Fowards**: Es lo mismo que los futuros , con la diferencia que estos se negocian en el mercado secundario.\n",
    "\n",
    "- Opciones\n",
    "    - **Opciones**: Es el derecho mas no la obligacion de la compra/venta de un activo en un periodo de corto plazo-\n",
    "\n",
    "- Swaps\n",
    "    - **Swaps**: Como su nombre lo dice es un intercambio , tanto puede ser un activo como cualquier cosa. \n",
    "    \n",
    "    - **Tipos de Swaps**: \n",
    "        - Interest Rate Swaps (IRS)\n",
    "        - Total Return Swaps (TRS)\n",
    "        - Credit Default Swaps (CDS)\n"
   ]
  },
  {
   "cell_type": "markdown",
   "id": "6893b82c",
   "metadata": {},
   "source": [
    "---"
   ]
  },
  {
   "cell_type": "markdown",
   "id": "da88d922",
   "metadata": {},
   "source": [
    "### **Distribución Normal**"
   ]
  },
  {
   "cell_type": "markdown",
   "id": "27b6ee67",
   "metadata": {},
   "source": [
    "#### Distribución Normal\n",
    "\n",
    "- La distribución normal es una distribución de probabilidad continua que describe el comportamiento de un conjunto de variables aleatorias.\n",
    "\n",
    "- Su forma estándaar es simétrica , lo que implica que , si dividimos la distribución por la mitad , los valores a la izquierda y a la derecha de la media son reflejos exactos entre sí.\n",
    "\n",
    "- Los párametros que definen esta distribución son la media ($\\mu$) y la varianza ($\\sigma ^2$)\n",
    "\n",
    "\n",
    "#### Propiedades\n",
    "\n",
    "- Forma de campana\n",
    "\n",
    "- Total del Área bajo la curva es igual a 1. La integral de la función de densidad de probabilidad (PDF) de una distrubución normal en todo su rango es igual a 1 , lo que representa la probabilidadad total.\n",
    "\n",
    "- Regla(68-95-99.7) : Aproximadamente el 68% de los valores en una distribución normal cae dentro de una desviación estándar de la mediana , el 95% dentro de las dos desviaciones estándar , y el 99.7% dentro de las tres desviaciones estándar.\n",
    "\n",
    "\n",
    "\n",
    "#### Aplicaciones \n",
    "\n",
    "El teorema central del limite establece que , para que un tamaño de muestra lo suficientemente grande , la distribución del promedio de un conjunto de variables aleatorias independientes e idénticas distribuidas , sin importar su distribución original , tienden a una distribución normal.\n",
    "\n",
    "\n",
    "\n",
    "#### Medidas de Tendencia Central\n",
    "\n",
    "- Las medias de la tendencia central son valores estadísticos que resumen o describen la ubicación central de un conjunto de datos.\n",
    "\n",
    "- Estas medias indican el punto alrededor del cual los datos tienden a agruparse. \n",
    "\n",
    "- Las principales son :\n",
    "    - ***Media***\n",
    "        - Es el valor obtenido al sumar todos los datos y dividir el resultado entre número total de datos.\n",
    "        - Es útil para datos distribuidos simétricamente , puede verse afectada por valores atípicos.\n",
    "\n",
    "        $$\\mu = \\frac{1}{n} \\sum_{i=1}^{n} x_i$$\n",
    "\n",
    "    - ***Mediana***\n",
    "        - Es el valor central de un conjunto de datos ordenados.\n",
    "        - La mediana es menos sensible a valores atipicos y es adecuada para distribuciones sesgadas.\n",
    "\n",
    "    - ***Moda***\n",
    "        - Es el valor o los valores que ocurren con mayor frecuencia en un conjunto de datos.\n",
    "        - Un conjunto de datos que puede tener una única moda, múltiples modas o no tener ninguna moda.\n",
    "\n",
    "\n",
    "#### Medidas de dispersión \n",
    "\n",
    "- Las medidas de dispersión indican qué tan disperso está un conjunto de datos alrededor de su media.\n",
    "\n",
    "- Estas medidas proporcionan información sobre la variabilidad de los datos. \n",
    "\n",
    "- Las principales medidad de dispersión son:\n",
    "\n",
    "    - ***Varianza***\n",
    "        - Indica cuánto se desvían los valores de un conjunto de datos respecto a su media. Se calculan como el promedio de las diferencias al cuadrado entre cada valor y la media. \n",
    "        - La varianza está expresada en unidades al cuadrado de los datos originales, lo que puede dificultar su interpretación directa.\n",
    "\n",
    "        $$ \\sigma ^2 = \\frac{\\sum_{i=1}^{n} (x_i - E[x])^2 }{n} $$\n",
    "        \n",
    "\n",
    "    - ***Desviación Estandar***\n",
    "        - Es la raiz cuadrada de la varianza y mide , en promedio , cuánto se desvían los valores de los datos respecto a la media.\n",
    "        - A diferencia de la varianza , la desviación estándar está expresada en las mismas unidades que los datos originales , lo que facilita su interpretación.\n",
    "        \n",
    "        $$ \\sigma = \\sqrt{\\frac{\\sum_{i=1}^{n} (x_i - E[x])^2 }{n}} $$\n",
    "\n",
    "\n",
    "#### Medidas de la forma de una distribución \n",
    "\n",
    "- Dado que las medidad de dispersión indican qué tan disperso está un conjunto de datos alrededor de su media y esta puede sesgarse , estas medidas no proporcionan información sobre la forma general de una distribución , es decir, como se distribuyen todos los valores y si existen o no valores atipicos.\n",
    "\n",
    "- Las medidas de la forma describen la asimetria y el comportamienyo de las colas de una distribución de datos en comparación con una distribución normal. Las dos principales métricas son:\n",
    "\n",
    "    - **Asimetría (Skewness)**: Mide que tan sesgada esta una distribución con respecto a una distribución normal simétrica.\n",
    "\n",
    "    - **Curtosis (Kurtosis)** : Mide el grado de concentración de los valores en las colas de una distribución en comparación con una distribución normal. \n",
    "\n",
    "\n",
    "#### Asimetría \n",
    "\n",
    "- **Asimetría Positiva:**\n",
    "    - Indica que la cola derecha de la distribiución es más larga o tiene más valores extremos que la izquierda.\n",
    "    - Esto implica que , aunque los valores en el lado izquierdo de la distribución son más frecuentes y tienden a ser pequeños , existe una mayor presencia de valores extremos y significativamente grandes en el lado derecho.\n",
    "\n",
    "- **Asimetría Negativa**\n",
    "    - Indica que la cola izquierda es más larga o tiene más valores extremos que la derecha.\n",
    "    - Esto significa que , aunque los valores en el lado derecho de la distribución son más frecuentes y tienden a ser pequeños , existe una mayor presencia de valores extremos y significativamente bajos en el lado izquierdo.\n",
    "\n",
    "\n",
    "#### Curtosis\n",
    "\n",
    "- **Leptocúrtica:**\n",
    "    - Indica que la distribución tiene colas más pesadas, con más valores extremos. \n",
    "\n",
    "- **Mesocúrtica:**\n",
    "    - Sugiere una distribución normal.\n",
    "\n",
    "- **Platicúrtica:**\n",
    "    - Indica que la distribución tiene oclas más ligeras , con menos valores extremos.\n"
   ]
  },
  {
   "cell_type": "markdown",
   "id": "316ed98b",
   "metadata": {},
   "source": [
    "---"
   ]
  },
  {
   "cell_type": "markdown",
   "id": "1b5922e6",
   "metadata": {},
   "source": [
    "### **Rentabilidad y Riesgo Financiero**"
   ]
  },
  {
   "cell_type": "markdown",
   "id": "5577cc67",
   "metadata": {},
   "source": [
    "#### Distribución de Precio "
   ]
  },
  {
   "cell_type": "markdown",
   "id": "73d21b3b",
   "metadata": {},
   "source": [
    "Los precios de los activos financieros dependen de su tamaño e historial , lo que dificulta la comparación entre los activos , ya que operan en escalas diferentes. Por esto mismo no es bueno comparar los activos financieros en base a su precio , ya que estos no siguen una distribución normal, lo que hace que se complique su modelado estadístico."
   ]
  },
  {
   "cell_type": "markdown",
   "id": "ec03a374",
   "metadata": {},
   "source": [
    "#### Rentabilidad y Rendimiento"
   ]
  },
  {
   "cell_type": "markdown",
   "id": "bb4ffd45",
   "metadata": {},
   "source": [
    "La rentabilidad es la capacidad de una inversión de generar ganancias , la rentabilidad se mide en base al rendimiento , que es la tasa efectiva de retorno sobre el capital incial.\n",
    "\n",
    "El rendimiento se calcula como :\n",
    "\n",
    "$$R_t = \\frac{P_t-P_0}{P_0} = \\frac{Nuevo}{Viejo}-1 $$"
   ]
  },
  {
   "cell_type": "markdown",
   "id": "d2845d59",
   "metadata": {},
   "source": [
    "#### Distribución de Rendimiento "
   ]
  },
  {
   "cell_type": "markdown",
   "id": "36f44be0",
   "metadata": {},
   "source": [
    "- Los rendimientos suelen seguir una distribución aproximadamente normal , especialmente en el corto plazo(como los rendimientos diarios).\n",
    "\n",
    "- Además , los redimientos de los activos financiros tienden a mantener una media relativamente constante a lo largo del tiempo.\n",
    "\n",
    "- El hecho de que los rendiminetos diarios sigan una distribución normal nos permite utilizar las propiedades y medidas de esta distribución para simplificar el análisis y el modelado de un activo financiero."
   ]
  },
  {
   "cell_type": "markdown",
   "id": "5a85f83c",
   "metadata": {},
   "source": [
    "#### Rendimiento promedio "
   ]
  },
  {
   "cell_type": "markdown",
   "id": "f4a105ad",
   "metadata": {},
   "source": [
    "El promedio de los rendimientos nos indican el rendimiento esperado de una inversión en un periodo determinado, pero es importante destacar que este valor esperado no garantiza un rendimiento diario constante , sino que , a largo plazo , los rendimientos tienden a acercarse a ese promedio."
   ]
  },
  {
   "cell_type": "markdown",
   "id": "f972bcda",
   "metadata": {},
   "source": [
    "#### Distr. Precio\n",
    "\n",
    "- Los precios dependen de la escala , por tanto, no se puede comparar el desempeño ode dos o más activos de bases a datos.\n",
    "\n",
    "- No tienen un comportamiento específico (no muestran patrones).\n",
    "\n",
    "- No distribuyen normal.\n",
    "\n",
    "#### Distr. Rendimiento\n",
    "- Los rendimientos están \"estandarizados\" , por tanto se pueden comparar activos en base a sus rendimientos.\n",
    "\n",
    "- Los rendimientos distribuyen aprox. normal.\n",
    "\n",
    "- Los podemos modelar usando las medidas de tendencia central , dispersión y forma de una distribución normal.\n"
   ]
  },
  {
   "cell_type": "markdown",
   "id": "aa64ee3a",
   "metadata": {},
   "source": [
    "#### Riesgo \n",
    "Es la probabilidad de que suceda un evento distinto al esperado , pero a la vez no se sabe qué va a pasar, hay incertidumbre. "
   ]
  },
  {
   "cell_type": "markdown",
   "id": "73ad6be6",
   "metadata": {},
   "source": [
    "#### Varianza "
   ]
  },
  {
   "cell_type": "markdown",
   "id": "a5626faf",
   "metadata": {},
   "source": [
    "- Varianza: Es el promedio de las desviaciones estándar cuadradas de los rendiminetos respecto a su media. El hecho de que las desviaciones estén al cuadrado pueden dificultar su interpretación directa.\n",
    "\n",
    "$$ \\sigma ^2 = \\frac{\\sum_{i=1}^{n} (x_i - E[x])^2 }{n} $$\n",
    "\n",
    "\n",
    "\n",
    "#### Volatlidad / Riesgo \n",
    "- Desviación Estándar (Volatilidad): Es la raiz cuadrada de la varianza. Al estar expresada en las mismas unidades que los rendimientos , facilita su interpretación.\n",
    "\n",
    "$$ \\sigma = \\sqrt{\\frac{\\sum_{i=1}^{n} (x_i - E[x])^2 }{n}} $$\n"
   ]
  },
  {
   "cell_type": "markdown",
   "id": "9259fb05",
   "metadata": {},
   "source": [
    "#### Asimetría"
   ]
  },
  {
   "cell_type": "markdown",
   "id": "c7fd6aa3",
   "metadata": {},
   "source": [
    " La asimetría en la distribución de rendimientos revela el comportamiento histórico de un activo . La asimetría negativa indica un mayor cantidad de rendimientos negativos extremos , mientras que la asimetría positiva sugiere una mayor cantidad de rendimientos positivos extremos.\n"
   ]
  },
  {
   "cell_type": "markdown",
   "id": "d10f6e45",
   "metadata": {},
   "source": [
    "---"
   ]
  },
  {
   "cell_type": "markdown",
   "id": "e420c8ab",
   "metadata": {},
   "source": [
    "### **Portafolio de Inversión I y II**"
   ]
  },
  {
   "cell_type": "markdown",
   "id": "ca8323d6",
   "metadata": {},
   "source": [
    "#### Portafolio de Inversión \n",
    "\n",
    "- Un portafolio de inversión es una coleccion de activos financieros de una persona o entidad poseen, seleccionados en función de los objetivos financieros , su horizonte temporal y su tolerancia al riesgo.\n",
    "\n",
    "- Su propósito principal de un portafolio de inversión es mitigar el riesgo y maximizar los retornos esperados.\n",
    "\n",
    "- Al Invertir en una variedad de activos , se busca reducir la exposición a cualquier riesgo específico asociado con un solo activo o clase de activos. Por ejemplo, si una acción individual en el portafolio se desempeña , es posible que otras acciones o activos en el portafolio compensen esas pérdidas.    \n",
    "\n",
    "- Hay 4 pasos para un portafolio de inversión\n",
    "    1. Selección de Activos.\n",
    "    2. Asset Allocation.\n",
    "    3. Inversión en Bolsa.\n",
    "    4. Evaluación y mantenimiento. \n",
    "\n",
    "\n",
    "\n",
    "#### Portafolio Manager\n",
    "\n",
    "- Profesional responsable de tomar decisiones de inversión y llevar a cabo actividades de inversión en nombre de otras personas o instituciones.\n",
    "\n",
    "#### AUMS\n",
    "\n",
    "- Los \"Asset Under Management\" es la suma del valor de mercado de todos los activos que gestiona un administrador de portafolios.\n",
    "\n",
    "\n",
    "#### Rendimiento de Portafolios\n",
    "\n",
    "En la clase anterior, aprendimos a calcular el rendimienti de un único activo financiero.\n",
    "\n",
    "Cuando se trata de un portafolio que contiene una cantidad \"n\" de activos financieros , el rendimiento total se puede calcular como la suma ponderada de los rendimientos esperados de cada activo , tomando en cuenta su peso dentro del portafolio.\n",
    "\n",
    "$$ R_{port} = w_1 R_1 +w_2 R_2 + ... + w_n R_n$$\n",
    "\n",
    "$$R_{port} = \\sum_{i=1}^{n} w_i R_i $$\n",
    "\n",
    "\n",
    "\n",
    "#### Riesgo en Portafolios\n",
    "\n",
    "- En el caso del riesgo de un portafolio , no se puede aplciar el mismo principio que para el rendimiento , ya que este depende de la relación entre los activos que componen.\n",
    "\n",
    "- La varianza es una medida que nos ayuda a explicar esta relación , indicando cómo se mueven conjutamente dos activos.\n",
    "\n",
    "    - Covarianza : Medida estadística que indica cómo se mueven conjuntamente dos variables aleatorias. \n",
    "    - El rango de la covarianza es entre menos infitino e infinito.\n",
    "    - La covarianza ayuda a medir la dirección de la relación , más no la magnitud\n",
    "\n",
    "\n",
    "$$ \\sigma_{X,Y} = \\frac{\\sum_{i=1}^{n} (x_i - E[x]) (y_i - E[y]) }{n} $$\n",
    "\n",
    "| **$$\\sigma_{i,j}$$** | Interpretación \n",
    "|-----------|-----------|\n",
    "| Covarianza Positiva    |Los dos activos tienden a moverse en la misma dirección. Cuando el precio de uno sube , es probable que el otro también suba. y cuando uno baja , el otro también tiende a bajar también\n",
    "| Covarianza igual a cero    |No exite una relación lineal entre los movimientos de los activos. |\n",
    "| Covarianza Negativa |Los dos activos tienden a moverse en direcciones opuestas. Cuando el precio de uno sube , el otro tiende a bajar y viceversa |\n",
    "\n",
    "\n",
    "\n",
    "\n",
    "#### Varianza en Portafolios \n",
    "Para calcular el riesgo de un portafolio , podemos utilizar la fórmula de la derecha.\n",
    "\n",
    "-¡Actividad! Desarrollar en clase la sumatoria para dos activos e interpretar cada elemento de la ecuación obtenida.\n",
    "\n",
    "Nótese que el resultado toma en cuenta tanto la varianza individual como la covarianza.\n",
    "\n",
    "$$\\sigma_{port} = \\sum_{j=1}^{n} \\sum_{i=1}^{n} w_i w_j \\sigma_{ij} $$\n",
    "\n",
    "\n",
    "\n",
    "#### Matriz de Covarianza - Varianza \n",
    "\n",
    "- Representación matricial que muestra cómo se relacionan los rendimientos de varios activos de un portafolio.\n",
    "\n",
    "- Cada elemento de la matriz refleja la covarianza entre dos activos específicos.\n",
    "\n",
    "    - Filas y columnas : Cada fila y columna de la matriz representa un activo en el portafolio.\n",
    "\n",
    "    - Diagonal principal: Contiene la varianza de cada activo.\n",
    "\n",
    "    - Elementos fuera de la diagonal: Indican la covarianza entre los rendimientos de dos activos diferentes.\n",
    "\n",
    "$$\n",
    "\\begin{pmatrix}\n",
    "\\sigma^2_{X_1} & \\sigma_{X_1 X_2} & \\cdots & \\sigma_{X_1 X_k} \\\\\n",
    "\\sigma_{X_2 X_1} & \\sigma^2_{X_2} & \\cdots & \\sigma_{X_2 X_k} \\\\\n",
    "\\vdots & \\vdots & \\ddots & \\vdots \\\\\n",
    "\\sigma_{X_k X_1} & \\sigma_{X_k X_2} & \\cdots & \\sigma^2_{X_k}\n",
    "\\end{pmatrix}\n",
    "$$\n",
    "\n",
    "\n",
    "\n",
    "#### Fórmula Matricial en Portafolios\n",
    "\n",
    "- La fórmula de la varianza previamente , si bien de obtener para dos o tres activos, imaginen desarrollarla para cinco o diez, es por esto que usando operacionales matriciales se puede simplificar la fórmula de varianza con :\n",
    "\n",
    "$$\\sigma^2 = w^T \\sum w$$\n",
    "\n",
    "- Donde w es el vector de pesos y Sigma es la matriz de Covarianza - Varianza.\n",
    "\n",
    "- Utilizando dos activos financieros , comprueba que la fórmula matricial es equivales a la solución obtenida con la fórmula de doble sumatoria."
   ]
  },
  {
   "cell_type": "markdown",
   "id": "d27c8723",
   "metadata": {},
   "source": [
    "#### Rendimiento de portafolio\n",
    "El rendimiento de un portafolio es la suma ponderada de los rendimientos esperados con los pesos\n",
    "\n",
    "#### RIESGO DE PORTAFOLIO\n",
    "Multiplicación matricial entre dos vectores de pesos y la matriz de covarianza varianza, esta matriz contiene la relación que existe entre los activos que componen el portafolio.\n",
    "#### Diversificación\n",
    "\n",
    "El principio de diversificación establece que al tener un conjunto de activos financieros, el riesgo propio de cada uno se mitiga debido a la relación que existe entre estos. \n",
    "\n",
    "#### Riesgo Sistemático y no Sistemático\n",
    "El sistématico es el riesgo de mercado afecta a todos los activos y no es diversificable, el no sistématico es propio de cada activo y se puede diversificar.\n",
    "\n",
    "#### Covarianza y Correlación\n",
    "Ambas métricas miden la relación lineal que existe entre un conjunto de activos financieros, con la diferencia que la correlación es interpretable tanto en dirección como magnitud.\n"
   ]
  },
  {
   "cell_type": "markdown",
   "id": "cdf16e8a",
   "metadata": {},
   "source": [
    "---"
   ]
  },
  {
   "cell_type": "markdown",
   "id": "5b334e70",
   "metadata": {},
   "source": [
    "### **Estrategias de Inversión**"
   ]
  },
  {
   "cell_type": "markdown",
   "id": "12f9992a",
   "metadata": {},
   "source": [
    "#### Estrategia de Inversión Pasiva\n",
    "- Enfoque de inversión a largo plazo que busca replicar el desempeño de un índice o sector de referencia.\n",
    "\n",
    "- La estrategia consiste en invertir en un solo activo , que refleja el comportamiento del indice o sector que deseas seguir.\n",
    "\n",
    "- Se fundamenta en la teoría del mercado eficiente , la cual establece que la mayoría de los gestores de fondos no pueden superar consistentemente el rendimiento del mercado. Según la teoría, los precios de los activos ya reflejan toda la información disponible , lo que dificulta la generación de alpha.\n",
    "\n",
    "- Las ventajas de la estrategia es que tiende a tener costos bajos, en cuestión de tiempo y costos de operación. Además , el inversor pasivo se beneficia de la difersificación inherente en índice.\n",
    "\n",
    "\n",
    "#### Estrategia de Inversión Activa\n",
    "- Enfoque de inversión que busca superar el rendimiento de un índice de referencia o del mercado en general.\n",
    "\n",
    "- Implica realizar constante análisis y ajustes en un portafolio con el objetivo de generar retornos superiores a los de tu \"benchmark\".\n",
    "\n",
    "- En una estrategia de inversión activa , los gestores analizan activamente los mercados financieros , identifican oportunidades y toman decisiones de inversión basadas en su propio \n",
    "análisis y criterio.\n",
    "\n",
    "- Conlleva un nivel más alto de involucramiento y toma de decisiones por parte del gestor, lo que también implica comisiones más altas para el inversionista.\n",
    "\n",
    "#### BenchMark\n",
    "- Un benchmark es un índice de referencia que se utiliza para medir y comparar el desempeño de una estrategia activa. Representa el comportamiento promedio de un grupo de activos o un mercado específico. Su importancia radica en:\n",
    "\n",
    "    - Medición de desempeño\n",
    "    - Análisis del alpha\n",
    "    - Gestión y análisis del riesgo\n",
    "\n",
    "- Ayudar a evaluar la eficacia y justificar la estrategia seguida por un gestor de portafolios, ayudando a determinar al inversionista si esta genera valor por encima del mercado.\n",
    "\n",
    "\n",
    "#### Comparando el Desempeño\n",
    "- Radio de Sharpe: Medida que evalúa el rendimiento de una inversión por encima de la tasa libre de riesgo(\"excess return\"), ajustando por el riesgo asumido.\n",
    "\n",
    "    - Cuanto mayor sea el RS , mejor se considera la estrategia.\n",
    "\n",
    "    - El RS indica cuantas unidades de rendimiento estamos obteniendo por unidad de riesgo asumido.\n",
    "\n",
    "    - El Radio de Sharpe es útil para comparar el desempeño de diferentes estrategias o portafolios de inversión.\n",
    "\n",
    "$$RS = \\frac{R_p - r_f}{\\sigma_{p}}$$\n",
    "\n",
    "#### Activos alternativos\n",
    "- Los activos alternativos son los activos financieros que no pertenecen a los activos financieros tradicionales de inversión, los bonos (renta fija) y las acciones (renta variable).\n",
    "- Muchos de los activos alternativos tienen la ventaja de que la mayoría son tangibles. Es decir, que al invertir en bienes raíces, materias primas y obras de arte, se tiene propiedad de algo físico con un valor intrínseco.\n",
    "\n",
    "    - Ejemplo:\n",
    "        - Bienes raíces\n",
    "        - Fondos de capital privado\n",
    "        - Inversión en materias primas\n",
    "\n",
    "#### Aversión al Riesgo\n",
    "\n",
    "- La aversión al riesgo es una medida relativa que refleja la preferencia de un inversionista por estrategias con menor riesgo, priorizando la estabilidad sobre la posibilidad de obtener mayores rendimientos.\n",
    "\n",
    "- Hay tres perfiles de riesgo:\n",
    "    - Amante de Riesgo: Prefiere mayor riesgo y mayor rendimiento.\n",
    "    - Neutral al Riesgo: Le da igual el riesgo siempre y cuando la relación riesgo y rendimiento sea buena.\n",
    "    - Averso al Riesgo: Prefiere el menor riesgo posible\n",
    "\n",
    "- Al ser relativo , es tarea del gestor en inversiones asignar un perfil de riesgo al cliente y recomendarle inversiones en concordancia con su perfil.\n",
    "\n",
    "#### Coeficiente de Aversión al Riesgo\n",
    "- Medida que evalúa numéricamente , cual es el grado de aversión de un activo financiero o portafolio.\n",
    "\n",
    "    - Un coeficiente de AR grande indica un activo para inversores con alta aversión al riesgo. Un valor bajo sugiere un activo para inversores con preferencia por el riesgo.\n",
    "\n",
    "- Se utiliza para recomendarle a un inversionista si invertir o no en un activo o portafolio , dada una evaluación previa realizada por el gestor al inversionista.\n",
    "\n",
    "$$AR = \\frac {R_p-r_f}{\\frac{1}{2} \\sigma_{p}^{2}}$$\n",
    "\n",
    "---"
   ]
  },
  {
   "cell_type": "markdown",
   "id": "a8af8a9c",
   "metadata": {},
   "source": [
    "### **Otras Medidas de Rendimiento y Riesgo**"
   ]
  },
  {
   "cell_type": "markdown",
   "id": "20dd50bf",
   "metadata": {},
   "source": [
    "### Media Aritmética (Promedio)\n",
    "- La medida aritmética, o promedio , es la medida de tendencia central más simple y conmúnmente utilizada para evaluar el rendimiento a o largo de múltiples períodos.\n",
    "\n",
    "- Como se discutió durante el primer parcial , la media aritmética es fácil de calcular y posee propiedades estadísticas bien conocidad.\n",
    "\n",
    "- Sin embargo, principal inconveniente es que puede verse afectada por valores extremos(outliers), lo que genera un sesgo y la convierte en una medida inadecuada para evaluar el rendimiento de un activo financiero en tales situaciones.\n",
    "\n",
    "$$R_{act} = \\frac {1}{n} \\sum_{i=1}^n R_i$$\n",
    "\n",
    "### Media Geométrica \n",
    "- La media geométrica es una medida de tendencia central que ofrece una mejor representación del crecimiento que ofrece una mejor representación del crecimiento de un portafolio a lo largo del tiempo , ya que , debido a su método de cálculo , se considera una medida de rendimiento compuesto.\n",
    "\n",
    "- Es especialmente útil cuando se reinvierte tanto el capital como los intereses durante un periodo determinado.\n",
    "\n",
    "- Sin embargo , uno de sus inconvenienteses que también puede verse sesgada por valores extremos, especialmente cuando existen diferencias importantes entre los rendimientos.\n",
    "\n",
    "$$R_G = (\\prod_{i=1}^{n} (1+r_n)^\\frac{1}{n} ) - 1$$\n",
    "\n",
    "\n",
    "### Media Armónica\n",
    "- La media armónica es una medida de tendencia central , cuyo nombre proviene de un tipo de series especiales que usan el recíproco , conocidad como sries armónicas.\n",
    "\n",
    "- Esta medida puede interpretarse como una media ponderada, donde el peso de cada observación es inversamente proporcional a su magnitud. \n",
    "\n",
    "    Por ejemplo:\n",
    "    \n",
    "    - Si consideramos un conjunto de observaciones que va de 1,2,3, ..., hasta 1000, la media armónica es 2.8560 , mientras que la media aritmetica es 145.85.\n",
    "    \n",
    "- Por esta razón la media armónica es especialmente útil cuando se trata de datos con valores extremos (outliers) , ya que mitiga influencia en le resultado final.\n",
    "\n",
    "- ¿Qué es un black swan en finanzas?\n",
    "    \n",
    "    - Es un evento no esperado que tiene un impacto en el corto plazo , como lo puede ser una pandemia como lo fue el covid\n",
    "\n",
    "$$R_H = \\frac{n}{\\sum_{i=1}^{n} \\frac{1}{1+r}} - 1$$\n",
    "\n",
    "### Casos de Aplicación \n",
    "\n",
    "- Antes de seleccionar la medida adecuada para calcular el rendimiento, es crucial entender la naturaleza , la distribución de los datos y el problema a resolver.\n",
    "\n",
    "- A continuación, se muestra un gráfico que resume cuándo utilizar las distintas medidad de tendencia central mencionadas previamente.\n",
    "\n",
    "    - Datos Financieros\n",
    "    \n",
    "        ↓\n",
    "    \n",
    "    - ¿Incluir todos los valores incluidos outliers?  →  **Media Artimética**\n",
    "    \n",
    "        ↓\n",
    "    \n",
    "    - ¿Interés compuesto? → **Media Geométrica**\n",
    "    \n",
    "        ↓\n",
    "    \n",
    "    - ¿Outliers?  → **Media Armónica**\n",
    "\n",
    "\n",
    "### Medidas Probabilísticas de rend y riesgo \n",
    "- Suponiendo que eres un analista de mercado en JP Morgan\n",
    "\n",
    "- Al realizar un análisis del estado actual de la economía, identificadas tres posibles escenarios del mercado , cada uno con su probabilidad correspondiente.\n",
    "\n",
    "- A partir de esto , calcula el rendimiento y riesgo potencial de tu potencial en Apple para el próximo año dados los posibles escenarios.\n",
    "\n",
    "- ¿Cómo puedes cuantificar el rendimiento y riesgo esperado el siguiente año? \n",
    "\n",
    "    ### APPLE\n",
    "    | **Escenario** | **Probabilidad** |**Rendimiento** |  \n",
    "    |---------------|------------------|----------------|\n",
    "   Bajista (Bearish) | 25% | -10% |\n",
    "    Neutral | 30% | 5% |\n",
    "    Alcista (Bullish)| 45% | 20% |\n",
    "\n",
    "\n",
    "-\n",
    "- Para cuantificar el rendimiento basado en probablidades podemos utilizar el valor esperado, mientras que para el riesgo la varianza esperada.\n",
    "\n",
    "- Para una variable aleatoria X, el valor esperado se denota como E[X] y la varianza esperando como V[X].\n",
    "\n",
    "- Estos conceptos reflejan una proyección hacia el futuro basada en las probabilidades de ocurrencias de los posibles escenarios y los valores que la variable puede tomar en cada uno de ellos.\n",
    "\n",
    "\n",
    "### Rendimiento Esperado\n",
    "\n",
    "- El rendimiento esperado es el promedio ponderado en los rend. con sus probabilidades asociados en los distintos escenarios.\n",
    "\n",
    "- Es fundamental diferenciar el valor esperado probabilístico de conceptos como el rendimiento histórico o la media de una muestra.\n",
    "\n",
    "- Mientras que el valor esperado probabilístico calcula el promedio proyectado hacia el futuro según las probabilidades de los posibles escenarios , la media histórica sintetiza los valores históricos en un solo número , representando la tendencia central observada en la muestra.\n",
    "\n",
    "\n",
    "$$E[R]= p(R_1)R_1 + ... + p(R_n)R_n $$\n",
    "$$E[R]= \\sum_{i=1}^{n} p(R_n)R_n$$\n",
    "\n",
    "\n",
    "### Varianza Esperada\n",
    "\n",
    "- La varianza esperada es el promedio ponderado , según las probabilidades , de los cuadrados de las desvaiciones con respecto al valor esperado del rendimiento.\n",
    "\n",
    "- Su interpretación es similar a la de la varianza clásica , así como la de la desviación estándar.\n",
    "\n",
    "- La diferencia radica en que varianza estadística mide las desviaciones respecto al valor esperado, siendo una proyección hacia el futuro.\n",
    "\n",
    "$$\\sigma^{2}[R] = p(R_1)(R_1-E[R])^2 +... + p(R_n)(R_n-E[R])^2 $$ \n",
    "\n",
    "$$\\sigma^{2}[R] = \\sum_{i=1}^{n} p(R_n)(R_n-E[R])^2 $$\n"
   ]
  },
  {
   "cell_type": "markdown",
   "id": "cc275b80",
   "metadata": {},
   "source": []
  }
 ],
 "metadata": {
  "language_info": {
   "name": "python"
  }
 },
 "nbformat": 4,
 "nbformat_minor": 5
}
