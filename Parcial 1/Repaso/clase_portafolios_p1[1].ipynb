{
 "cells": [
  {
   "cell_type": "code",
   "execution_count": 1,
   "id": "271217c1",
   "metadata": {},
   "outputs": [],
   "source": [
    "import pandas as pd\n",
    "import numpy as np\n",
    "import yfinance\n",
    "import matplotlib.pyplot as plt"
   ]
  },
  {
   "cell_type": "code",
   "execution_count": 2,
   "id": "a68a1bbd",
   "metadata": {},
   "outputs": [
    {
     "name": "stdout",
     "output_type": "stream",
     "text": [
      "YF.download() has changed argument auto_adjust default to True\n"
     ]
    },
    {
     "name": "stderr",
     "output_type": "stream",
     "text": [
      "[*********************100%***********************]  6 of 6 completed\n"
     ]
    }
   ],
   "source": [
    "prices=yfinance.download(['NVDA', 'TSLA', 'AAPL', 'AVB', 'ORCL', 'AMZN'], start='2020-01-01')['Close']"
   ]
  },
  {
   "cell_type": "code",
   "execution_count": 3,
   "id": "dd2eded9",
   "metadata": {},
   "outputs": [
    {
     "data": {
      "text/html": [
       "<div>\n",
       "<style scoped>\n",
       "    .dataframe tbody tr th:only-of-type {\n",
       "        vertical-align: middle;\n",
       "    }\n",
       "\n",
       "    .dataframe tbody tr th {\n",
       "        vertical-align: top;\n",
       "    }\n",
       "\n",
       "    .dataframe thead th {\n",
       "        text-align: right;\n",
       "    }\n",
       "</style>\n",
       "<table border=\"1\" class=\"dataframe\">\n",
       "  <thead>\n",
       "    <tr style=\"text-align: right;\">\n",
       "      <th>Ticker</th>\n",
       "      <th>AAPL</th>\n",
       "      <th>AMZN</th>\n",
       "      <th>AVB</th>\n",
       "      <th>NVDA</th>\n",
       "      <th>ORCL</th>\n",
       "      <th>TSLA</th>\n",
       "    </tr>\n",
       "    <tr>\n",
       "      <th>Date</th>\n",
       "      <th></th>\n",
       "      <th></th>\n",
       "      <th></th>\n",
       "      <th></th>\n",
       "      <th></th>\n",
       "      <th></th>\n",
       "    </tr>\n",
       "  </thead>\n",
       "  <tbody>\n",
       "    <tr>\n",
       "      <th>2020-01-02</th>\n",
       "      <td>72.620834</td>\n",
       "      <td>94.900497</td>\n",
       "      <td>172.700119</td>\n",
       "      <td>5.972162</td>\n",
       "      <td>49.642696</td>\n",
       "      <td>28.684000</td>\n",
       "    </tr>\n",
       "    <tr>\n",
       "      <th>2020-01-03</th>\n",
       "      <td>71.914810</td>\n",
       "      <td>93.748497</td>\n",
       "      <td>174.358429</td>\n",
       "      <td>5.876571</td>\n",
       "      <td>49.467865</td>\n",
       "      <td>29.534000</td>\n",
       "    </tr>\n",
       "    <tr>\n",
       "      <th>2020-01-06</th>\n",
       "      <td>72.487831</td>\n",
       "      <td>95.143997</td>\n",
       "      <td>174.650070</td>\n",
       "      <td>5.901215</td>\n",
       "      <td>49.725513</td>\n",
       "      <td>30.102667</td>\n",
       "    </tr>\n",
       "    <tr>\n",
       "      <th>2020-01-07</th>\n",
       "      <td>72.146957</td>\n",
       "      <td>95.343002</td>\n",
       "      <td>170.850082</td>\n",
       "      <td>5.972658</td>\n",
       "      <td>49.835930</td>\n",
       "      <td>31.270666</td>\n",
       "    </tr>\n",
       "    <tr>\n",
       "      <th>2020-01-08</th>\n",
       "      <td>73.307510</td>\n",
       "      <td>94.598503</td>\n",
       "      <td>171.558426</td>\n",
       "      <td>5.983861</td>\n",
       "      <td>50.030018</td>\n",
       "      <td>32.809334</td>\n",
       "    </tr>\n",
       "    <tr>\n",
       "      <th>...</th>\n",
       "      <td>...</td>\n",
       "      <td>...</td>\n",
       "      <td>...</td>\n",
       "      <td>...</td>\n",
       "      <td>...</td>\n",
       "      <td>...</td>\n",
       "    </tr>\n",
       "    <tr>\n",
       "      <th>2025-05-27</th>\n",
       "      <td>200.210007</td>\n",
       "      <td>206.020004</td>\n",
       "      <td>201.460007</td>\n",
       "      <td>135.500000</td>\n",
       "      <td>161.910004</td>\n",
       "      <td>362.890015</td>\n",
       "    </tr>\n",
       "    <tr>\n",
       "      <th>2025-05-28</th>\n",
       "      <td>200.419998</td>\n",
       "      <td>204.720001</td>\n",
       "      <td>201.979996</td>\n",
       "      <td>134.809998</td>\n",
       "      <td>163.850006</td>\n",
       "      <td>356.899994</td>\n",
       "    </tr>\n",
       "    <tr>\n",
       "      <th>2025-05-29</th>\n",
       "      <td>199.949997</td>\n",
       "      <td>205.699997</td>\n",
       "      <td>206.020004</td>\n",
       "      <td>139.190002</td>\n",
       "      <td>162.899994</td>\n",
       "      <td>358.429993</td>\n",
       "    </tr>\n",
       "    <tr>\n",
       "      <th>2025-05-30</th>\n",
       "      <td>200.850006</td>\n",
       "      <td>205.009995</td>\n",
       "      <td>206.770004</td>\n",
       "      <td>135.130005</td>\n",
       "      <td>165.529999</td>\n",
       "      <td>346.459991</td>\n",
       "    </tr>\n",
       "    <tr>\n",
       "      <th>2025-06-02</th>\n",
       "      <td>NaN</td>\n",
       "      <td>NaN</td>\n",
       "      <td>206.630005</td>\n",
       "      <td>NaN</td>\n",
       "      <td>166.699997</td>\n",
       "      <td>NaN</td>\n",
       "    </tr>\n",
       "  </tbody>\n",
       "</table>\n",
       "<p>1361 rows × 6 columns</p>\n",
       "</div>"
      ],
      "text/plain": [
       "Ticker            AAPL        AMZN         AVB        NVDA        ORCL  \\\n",
       "Date                                                                     \n",
       "2020-01-02   72.620834   94.900497  172.700119    5.972162   49.642696   \n",
       "2020-01-03   71.914810   93.748497  174.358429    5.876571   49.467865   \n",
       "2020-01-06   72.487831   95.143997  174.650070    5.901215   49.725513   \n",
       "2020-01-07   72.146957   95.343002  170.850082    5.972658   49.835930   \n",
       "2020-01-08   73.307510   94.598503  171.558426    5.983861   50.030018   \n",
       "...                ...         ...         ...         ...         ...   \n",
       "2025-05-27  200.210007  206.020004  201.460007  135.500000  161.910004   \n",
       "2025-05-28  200.419998  204.720001  201.979996  134.809998  163.850006   \n",
       "2025-05-29  199.949997  205.699997  206.020004  139.190002  162.899994   \n",
       "2025-05-30  200.850006  205.009995  206.770004  135.130005  165.529999   \n",
       "2025-06-02         NaN         NaN  206.630005         NaN  166.699997   \n",
       "\n",
       "Ticker            TSLA  \n",
       "Date                    \n",
       "2020-01-02   28.684000  \n",
       "2020-01-03   29.534000  \n",
       "2020-01-06   30.102667  \n",
       "2020-01-07   31.270666  \n",
       "2020-01-08   32.809334  \n",
       "...                ...  \n",
       "2025-05-27  362.890015  \n",
       "2025-05-28  356.899994  \n",
       "2025-05-29  358.429993  \n",
       "2025-05-30  346.459991  \n",
       "2025-06-02         NaN  \n",
       "\n",
       "[1361 rows x 6 columns]"
      ]
     },
     "execution_count": 3,
     "metadata": {},
     "output_type": "execute_result"
    }
   ],
   "source": [
    "prices"
   ]
  },
  {
   "cell_type": "code",
   "execution_count": 4,
   "id": "2adf1a19",
   "metadata": {},
   "outputs": [
    {
     "data": {
      "image/png": "[encoded data removed]",
      "text/plain": [
       "<Figure size 1200x600 with 1 Axes>"
      ]
     },
     "metadata": {},
     "output_type": "display_data"
    }
   ],
   "source": [
    "plt.figure(figsize=(12, 6))\n",
    "plt.hist(prices, label=prices.columns, density=True, bins=50)\n",
    "plt.xlabel('Precios')\n",
    "plt.ylabel('Probabilídad')\n",
    "plt.legend()\n",
    "plt.show();"
   ]
  },
  {
   "cell_type": "code",
   "execution_count": 5,
   "id": "169dad56",
   "metadata": {},
   "outputs": [
    {
     "data": {
      "text/html": [
       "<div>\n",
       "<style scoped>\n",
       "    .dataframe tbody tr th:only-of-type {\n",
       "        vertical-align: middle;\n",
       "    }\n",
       "\n",
       "    .dataframe tbody tr th {\n",
       "        vertical-align: top;\n",
       "    }\n",
       "\n",
       "    .dataframe thead th {\n",
       "        text-align: right;\n",
       "    }\n",
       "</style>\n",
       "<table border=\"1\" class=\"dataframe\">\n",
       "  <thead>\n",
       "    <tr style=\"text-align: right;\">\n",
       "      <th>Ticker</th>\n",
       "      <th>AAPL</th>\n",
       "      <th>AMZN</th>\n",
       "      <th>AVB</th>\n",
       "      <th>NVDA</th>\n",
       "      <th>ORCL</th>\n",
       "      <th>TSLA</th>\n",
       "    </tr>\n",
       "    <tr>\n",
       "      <th>Date</th>\n",
       "      <th></th>\n",
       "      <th></th>\n",
       "      <th></th>\n",
       "      <th></th>\n",
       "      <th></th>\n",
       "      <th></th>\n",
       "    </tr>\n",
       "  </thead>\n",
       "  <tbody>\n",
       "    <tr>\n",
       "      <th>2020-01-03</th>\n",
       "      <td>-0.009722</td>\n",
       "      <td>-0.012139</td>\n",
       "      <td>0.009602</td>\n",
       "      <td>-0.016006</td>\n",
       "      <td>-0.003522</td>\n",
       "      <td>0.029633</td>\n",
       "    </tr>\n",
       "    <tr>\n",
       "      <th>2020-01-06</th>\n",
       "      <td>0.007968</td>\n",
       "      <td>0.014886</td>\n",
       "      <td>0.001673</td>\n",
       "      <td>0.004194</td>\n",
       "      <td>0.005208</td>\n",
       "      <td>0.019255</td>\n",
       "    </tr>\n",
       "    <tr>\n",
       "      <th>2020-01-07</th>\n",
       "      <td>-0.004702</td>\n",
       "      <td>0.002092</td>\n",
       "      <td>-0.021758</td>\n",
       "      <td>0.012106</td>\n",
       "      <td>0.002221</td>\n",
       "      <td>0.038801</td>\n",
       "    </tr>\n",
       "    <tr>\n",
       "      <th>2020-01-08</th>\n",
       "      <td>0.016086</td>\n",
       "      <td>-0.007809</td>\n",
       "      <td>0.004146</td>\n",
       "      <td>0.001876</td>\n",
       "      <td>0.003895</td>\n",
       "      <td>0.049205</td>\n",
       "    </tr>\n",
       "    <tr>\n",
       "      <th>2020-01-09</th>\n",
       "      <td>0.021241</td>\n",
       "      <td>0.004799</td>\n",
       "      <td>0.002332</td>\n",
       "      <td>0.010983</td>\n",
       "      <td>0.004619</td>\n",
       "      <td>-0.021945</td>\n",
       "    </tr>\n",
       "  </tbody>\n",
       "</table>\n",
       "</div>"
      ],
      "text/plain": [
       "Ticker          AAPL      AMZN       AVB      NVDA      ORCL      TSLA\n",
       "Date                                                                  \n",
       "2020-01-03 -0.009722 -0.012139  0.009602 -0.016006 -0.003522  0.029633\n",
       "2020-01-06  0.007968  0.014886  0.001673  0.004194  0.005208  0.019255\n",
       "2020-01-07 -0.004702  0.002092 -0.021758  0.012106  0.002221  0.038801\n",
       "2020-01-08  0.016086 -0.007809  0.004146  0.001876  0.003895  0.049205\n",
       "2020-01-09  0.021241  0.004799  0.002332  0.010983  0.004619 -0.021945"
      ]
     },
     "execution_count": 5,
     "metadata": {},
     "output_type": "execute_result"
    }
   ],
   "source": [
    "daily_returns=(prices/prices.shift()-1).dropna()\n",
    "daily_returns.head()"
   ]
  },
  {
   "cell_type": "code",
   "execution_count": 6,
   "id": "d9f796bb",
   "metadata": {
    "scrolled": false
   },
   "outputs": [
    {
     "data": {
      "image/png": "[encoded data removed]",
      "text/plain": [
       "<Figure size 1000x400 with 1 Axes>"
      ]
     },
     "metadata": {},
     "output_type": "display_data"
    },
    {
     "data": {
      "image/png": "[encoded data removed]",
      "text/plain": [
       "<Figure size 1000x400 with 1 Axes>"
      ]
     },
     "metadata": {},
     "output_type": "display_data"
    },
    {
     "data": {
      "image/png": "[encoded data removed]",
      "text/plain": [
       "<Figure size 1000x400 with 1 Axes>"
      ]
     },
     "metadata": {},
     "output_type": "display_data"
    },
    {
     "data": {
      "image/png": "[encoded data removed]",
      "text/plain": [
       "<Figure size 1000x400 with 1 Axes>"
      ]
     },
     "metadata": {},
     "output_type": "display_data"
    },
    {
     "data": {
      "image/png": "[encoded data removed]",
      "text/plain": [
       "<Figure size 1000x400 with 1 Axes>"
      ]
     },
     "metadata": {},
     "output_type": "display_data"
    },
    {
     "data": {
      "image/png": "[encoded data removed]",
      "text/plain": [
       "<Figure size 1000x400 with 1 Axes>"
      ]
     },
     "metadata": {},
     "output_type": "display_data"
    }
   ],
   "source": [
    "for stock in daily_returns.columns:\n",
    "    \n",
    "    plt.figure(figsize=(10, 4))\n",
    "    plt.hist(daily_returns[stock], label=stock, density=True, bins=50)\n",
    "    plt.xlabel('Returns')\n",
    "    plt.ylabel('Probabilídad')\n",
    "    plt.legend()\n",
    "    plt.show();"
   ]
  },
  {
   "cell_type": "markdown",
   "id": "7d983bb5",
   "metadata": {},
   "source": [
    "El coeficiente de variación, se calcula de la siguiente manera:\n",
    "\n",
    "$$CV = \\frac{\\sigma}{\\mu}$$\n",
    "\n",
    "- Entre menor sea el coeficiente de variación es mejor. "
   ]
  },
  {
   "cell_type": "code",
   "execution_count": 7,
   "id": "09163e6e",
   "metadata": {},
   "outputs": [
    {
     "data": {
      "text/html": [
       "<div>\n",
       "<style scoped>\n",
       "    .dataframe tbody tr th:only-of-type {\n",
       "        vertical-align: middle;\n",
       "    }\n",
       "\n",
       "    .dataframe tbody tr th {\n",
       "        vertical-align: top;\n",
       "    }\n",
       "\n",
       "    .dataframe thead th {\n",
       "        text-align: right;\n",
       "    }\n",
       "</style>\n",
       "<table border=\"1\" class=\"dataframe\">\n",
       "  <thead>\n",
       "    <tr style=\"text-align: right;\">\n",
       "      <th></th>\n",
       "      <th>Daily_Ret</th>\n",
       "      <th>Anual_Ret</th>\n",
       "      <th>Daily_Vol</th>\n",
       "      <th>Anual_Vol</th>\n",
       "      <th>Coefficent of Variation</th>\n",
       "      <th>Skewness</th>\n",
       "    </tr>\n",
       "    <tr>\n",
       "      <th>Ticker</th>\n",
       "      <th></th>\n",
       "      <th></th>\n",
       "      <th></th>\n",
       "      <th></th>\n",
       "      <th></th>\n",
       "      <th></th>\n",
       "    </tr>\n",
       "  </thead>\n",
       "  <tbody>\n",
       "    <tr>\n",
       "      <th>AAPL</th>\n",
       "      <td>0.000961</td>\n",
       "      <td>0.242235</td>\n",
       "      <td>0.020648</td>\n",
       "      <td>0.327777</td>\n",
       "      <td>1.353136</td>\n",
       "      <td>0.276311</td>\n",
       "    </tr>\n",
       "    <tr>\n",
       "      <th>AMZN</th>\n",
       "      <td>0.000828</td>\n",
       "      <td>0.208687</td>\n",
       "      <td>0.022879</td>\n",
       "      <td>0.363189</td>\n",
       "      <td>1.740349</td>\n",
       "      <td>0.140554</td>\n",
       "    </tr>\n",
       "    <tr>\n",
       "      <th>AVB</th>\n",
       "      <td>0.000309</td>\n",
       "      <td>0.077858</td>\n",
       "      <td>0.018744</td>\n",
       "      <td>0.297545</td>\n",
       "      <td>3.821654</td>\n",
       "      <td>-0.245406</td>\n",
       "    </tr>\n",
       "    <tr>\n",
       "      <th>NVDA</th>\n",
       "      <td>0.002894</td>\n",
       "      <td>0.729255</td>\n",
       "      <td>0.034663</td>\n",
       "      <td>0.550265</td>\n",
       "      <td>0.754557</td>\n",
       "      <td>0.351063</td>\n",
       "    </tr>\n",
       "    <tr>\n",
       "      <th>ORCL</th>\n",
       "      <td>0.001122</td>\n",
       "      <td>0.282660</td>\n",
       "      <td>0.021780</td>\n",
       "      <td>0.345743</td>\n",
       "      <td>1.223179</td>\n",
       "      <td>0.742639</td>\n",
       "    </tr>\n",
       "    <tr>\n",
       "      <th>TSLA</th>\n",
       "      <td>0.002749</td>\n",
       "      <td>0.692631</td>\n",
       "      <td>0.042878</td>\n",
       "      <td>0.680662</td>\n",
       "      <td>0.982719</td>\n",
       "      <td>0.276287</td>\n",
       "    </tr>\n",
       "  </tbody>\n",
       "</table>\n",
       "</div>"
      ],
      "text/plain": [
       "        Daily_Ret  Anual_Ret  Daily_Vol  Anual_Vol  Coefficent of Variation  \\\n",
       "Ticker                                                                        \n",
       "AAPL     0.000961   0.242235   0.020648   0.327777                 1.353136   \n",
       "AMZN     0.000828   0.208687   0.022879   0.363189                 1.740349   \n",
       "AVB      0.000309   0.077858   0.018744   0.297545                 3.821654   \n",
       "NVDA     0.002894   0.729255   0.034663   0.550265                 0.754557   \n",
       "ORCL     0.001122   0.282660   0.021780   0.345743                 1.223179   \n",
       "TSLA     0.002749   0.692631   0.042878   0.680662                 0.982719   \n",
       "\n",
       "        Skewness  \n",
       "Ticker            \n",
       "AAPL    0.276311  \n",
       "AMZN    0.140554  \n",
       "AVB    -0.245406  \n",
       "NVDA    0.351063  \n",
       "ORCL    0.742639  \n",
       "TSLA    0.276287  "
      ]
     },
     "execution_count": 7,
     "metadata": {},
     "output_type": "execute_result"
    }
   ],
   "source": [
    "df=pd.DataFrame(columns=daily_returns.columns).T\n",
    "df['Daily_Ret']=daily_returns.mean()\n",
    "df['Anual_Ret']=daily_returns.mean()*252\n",
    "df['Daily_Vol']=daily_returns.std()\n",
    "df['Anual_Vol']=daily_returns.std()*np.sqrt(252)\n",
    "df['Coefficent of Variation']=df['Anual_Vol']/df['Anual_Ret']\n",
    "df['Skewness'] = daily_returns.skew()\n",
    "\n",
    "df"
   ]
  },
  {
   "cell_type": "code",
   "execution_count": 8,
   "id": "273afe19",
   "metadata": {},
   "outputs": [
    {
     "data": {
      "text/plain": [
       "array([0.16666667, 0.16666667, 0.16666667, 0.16666667, 0.16666667,\n",
       "       0.16666667])"
      ]
     },
     "execution_count": 8,
     "metadata": {},
     "output_type": "execute_result"
    }
   ],
   "source": [
    "w=np.ones(6)/6\n",
    "w"
   ]
  },
  {
   "cell_type": "code",
   "execution_count": 9,
   "id": "638140c5",
   "metadata": {},
   "outputs": [
    {
     "data": {
      "text/plain": [
       "37.22211528994593"
      ]
     },
     "execution_count": 9,
     "metadata": {},
     "output_type": "execute_result"
    }
   ],
   "source": [
    "Rend_port= sum(df['Anual_Ret']*w)\n",
    "Rend_port*100"
   ]
  },
  {
   "cell_type": "code",
   "execution_count": 10,
   "id": "b74f5727",
   "metadata": {},
   "outputs": [
    {
     "data": {
      "text/html": [
       "<div>\n",
       "<style scoped>\n",
       "    .dataframe tbody tr th:only-of-type {\n",
       "        vertical-align: middle;\n",
       "    }\n",
       "\n",
       "    .dataframe tbody tr th {\n",
       "        vertical-align: top;\n",
       "    }\n",
       "\n",
       "    .dataframe thead th {\n",
       "        text-align: right;\n",
       "    }\n",
       "</style>\n",
       "<table border=\"1\" class=\"dataframe\">\n",
       "  <thead>\n",
       "    <tr style=\"text-align: right;\">\n",
       "      <th>Ticker</th>\n",
       "      <th>AAPL</th>\n",
       "      <th>AMZN</th>\n",
       "      <th>AVB</th>\n",
       "      <th>NVDA</th>\n",
       "      <th>ORCL</th>\n",
       "      <th>TSLA</th>\n",
       "    </tr>\n",
       "    <tr>\n",
       "      <th>Ticker</th>\n",
       "      <th></th>\n",
       "      <th></th>\n",
       "      <th></th>\n",
       "      <th></th>\n",
       "      <th></th>\n",
       "      <th></th>\n",
       "    </tr>\n",
       "  </thead>\n",
       "  <tbody>\n",
       "    <tr>\n",
       "      <th>AAPL</th>\n",
       "      <td>0.000426</td>\n",
       "      <td>0.000286</td>\n",
       "      <td>0.000164</td>\n",
       "      <td>0.000426</td>\n",
       "      <td>0.000213</td>\n",
       "      <td>0.000444</td>\n",
       "    </tr>\n",
       "    <tr>\n",
       "      <th>AMZN</th>\n",
       "      <td>0.000286</td>\n",
       "      <td>0.000523</td>\n",
       "      <td>0.000116</td>\n",
       "      <td>0.000470</td>\n",
       "      <td>0.000210</td>\n",
       "      <td>0.000452</td>\n",
       "    </tr>\n",
       "    <tr>\n",
       "      <th>AVB</th>\n",
       "      <td>0.000164</td>\n",
       "      <td>0.000116</td>\n",
       "      <td>0.000351</td>\n",
       "      <td>0.000172</td>\n",
       "      <td>0.000141</td>\n",
       "      <td>0.000214</td>\n",
       "    </tr>\n",
       "    <tr>\n",
       "      <th>NVDA</th>\n",
       "      <td>0.000426</td>\n",
       "      <td>0.000470</td>\n",
       "      <td>0.000172</td>\n",
       "      <td>0.001202</td>\n",
       "      <td>0.000374</td>\n",
       "      <td>0.000722</td>\n",
       "    </tr>\n",
       "    <tr>\n",
       "      <th>ORCL</th>\n",
       "      <td>0.000213</td>\n",
       "      <td>0.000210</td>\n",
       "      <td>0.000141</td>\n",
       "      <td>0.000374</td>\n",
       "      <td>0.000474</td>\n",
       "      <td>0.000262</td>\n",
       "    </tr>\n",
       "    <tr>\n",
       "      <th>TSLA</th>\n",
       "      <td>0.000444</td>\n",
       "      <td>0.000452</td>\n",
       "      <td>0.000214</td>\n",
       "      <td>0.000722</td>\n",
       "      <td>0.000262</td>\n",
       "      <td>0.001838</td>\n",
       "    </tr>\n",
       "  </tbody>\n",
       "</table>\n",
       "</div>"
      ],
      "text/plain": [
       "Ticker      AAPL      AMZN       AVB      NVDA      ORCL      TSLA\n",
       "Ticker                                                            \n",
       "AAPL    0.000426  0.000286  0.000164  0.000426  0.000213  0.000444\n",
       "AMZN    0.000286  0.000523  0.000116  0.000470  0.000210  0.000452\n",
       "AVB     0.000164  0.000116  0.000351  0.000172  0.000141  0.000214\n",
       "NVDA    0.000426  0.000470  0.000172  0.001202  0.000374  0.000722\n",
       "ORCL    0.000213  0.000210  0.000141  0.000374  0.000474  0.000262\n",
       "TSLA    0.000444  0.000452  0.000214  0.000722  0.000262  0.001838"
      ]
     },
     "execution_count": 10,
     "metadata": {},
     "output_type": "execute_result"
    }
   ],
   "source": [
    "cov=daily_returns.cov()\n",
    "cov"
   ]
  },
  {
   "cell_type": "code",
   "execution_count": 11,
   "id": "a301893a",
   "metadata": {},
   "outputs": [
    {
     "data": {
      "text/plain": [
       "(9.902704849763053, 31.46856343998412)"
      ]
     },
     "execution_count": 11,
     "metadata": {},
     "output_type": "execute_result"
    }
   ],
   "source": [
    "Var_port = (w.T @ cov @ w)*252\n",
    "Volat_port = np.sqrt(Var_port)\n",
    "\n",
    "Var_port*100, Volat_port*100"
   ]
  },
  {
   "cell_type": "code",
   "execution_count": 12,
   "id": "f00c6f51",
   "metadata": {},
   "outputs": [
    {
     "data": {
      "text/plain": [
       "42.75303236806184"
      ]
     },
     "execution_count": 12,
     "metadata": {},
     "output_type": "execute_result"
    }
   ],
   "source": [
    "sum(df['Anual_Vol']*w)*100"
   ]
  },
  {
   "cell_type": "markdown",
   "id": "32b77ca7",
   "metadata": {},
   "source": [
    "## Actividad en clase: Portafolios de Inversion"
   ]
  },
  {
   "cell_type": "markdown",
   "id": "bc17d537",
   "metadata": {},
   "source": [
    "## QQQ\n",
    "\n",
    "Es un ETF (fondo cotizado) que busca replicar que el NASDAQ 100, es un índica que contiene las 100 empresas con mayor Market Cap (Precio Accion * No. Acciones). Se enfoca en empresas de tecnologia principalmente de USA. \n",
    "\n",
    "\n",
    "## IWO\n",
    "\n",
    "Es un ETF (fondo cotizado) que busca replicar los resultados de inversion de baja capitalización en crecimiento de Estados Unidos. \n",
    "\n",
    "\n",
    "## VXX\n",
    "\n",
    "Es un ETN (exchange traded note) refleja el rendimiento en futuros a corto plazo del S&P 500. \n",
    "\n",
    "## MTUM \n",
    "\n",
    "Es un ETF (fondo cotizado) que busca replicar los resultados de las empresas de mid y high cap. "
   ]
  },
  {
   "cell_type": "code",
   "execution_count": 15,
   "id": "7d487c75",
   "metadata": {},
   "outputs": [
    {
     "name": "stderr",
     "output_type": "stream",
     "text": [
      "[*********************100%***********************]  4 of 4 completed\n"
     ]
    },
    {
     "data": {
      "text/html": [
       "<div>\n",
       "<style scoped>\n",
       "    .dataframe tbody tr th:only-of-type {\n",
       "        vertical-align: middle;\n",
       "    }\n",
       "\n",
       "    .dataframe tbody tr th {\n",
       "        vertical-align: top;\n",
       "    }\n",
       "\n",
       "    .dataframe thead th {\n",
       "        text-align: right;\n",
       "    }\n",
       "</style>\n",
       "<table border=\"1\" class=\"dataframe\">\n",
       "  <thead>\n",
       "    <tr style=\"text-align: right;\">\n",
       "      <th>Ticker</th>\n",
       "      <th>IWO</th>\n",
       "      <th>MTUM</th>\n",
       "      <th>QQQ</th>\n",
       "      <th>VXX</th>\n",
       "    </tr>\n",
       "    <tr>\n",
       "      <th>Date</th>\n",
       "      <th></th>\n",
       "      <th></th>\n",
       "      <th></th>\n",
       "      <th></th>\n",
       "    </tr>\n",
       "  </thead>\n",
       "  <tbody>\n",
       "    <tr>\n",
       "      <th>2020-01-02</th>\n",
       "      <td>207.340530</td>\n",
       "      <td>118.660217</td>\n",
       "      <td>209.325851</td>\n",
       "      <td>928.640015</td>\n",
       "    </tr>\n",
       "    <tr>\n",
       "      <th>2020-01-03</th>\n",
       "      <td>206.306549</td>\n",
       "      <td>118.641380</td>\n",
       "      <td>207.408463</td>\n",
       "      <td>978.559998</td>\n",
       "    </tr>\n",
       "    <tr>\n",
       "      <th>2020-01-06</th>\n",
       "      <td>207.040985</td>\n",
       "      <td>118.773232</td>\n",
       "      <td>208.744888</td>\n",
       "      <td>965.119995</td>\n",
       "    </tr>\n",
       "    <tr>\n",
       "      <th>2020-01-07</th>\n",
       "      <td>206.673752</td>\n",
       "      <td>118.481247</td>\n",
       "      <td>208.715805</td>\n",
       "      <td>960.640015</td>\n",
       "    </tr>\n",
       "    <tr>\n",
       "      <th>2020-01-08</th>\n",
       "      <td>207.900955</td>\n",
       "      <td>119.112320</td>\n",
       "      <td>210.284576</td>\n",
       "      <td>947.200012</td>\n",
       "    </tr>\n",
       "  </tbody>\n",
       "</table>\n",
       "</div>"
      ],
      "text/plain": [
       "Ticker             IWO        MTUM         QQQ         VXX\n",
       "Date                                                      \n",
       "2020-01-02  207.340530  118.660217  209.325851  928.640015\n",
       "2020-01-03  206.306549  118.641380  207.408463  978.559998\n",
       "2020-01-06  207.040985  118.773232  208.744888  965.119995\n",
       "2020-01-07  206.673752  118.481247  208.715805  960.640015\n",
       "2020-01-08  207.900955  119.112320  210.284576  947.200012"
      ]
     },
     "execution_count": 15,
     "metadata": {},
     "output_type": "execute_result"
    }
   ],
   "source": [
    "prices=yfinance.download(['QQQ', 'IWO', 'VXX', 'MTUM'], start='2020-01-01')['Close']\n",
    "\n",
    "prices.head()"
   ]
  },
  {
   "cell_type": "code",
   "execution_count": 20,
   "id": "78975d8f",
   "metadata": {},
   "outputs": [],
   "source": [
    "w=np.array([.268, .327, .266, .139])"
   ]
  },
  {
   "cell_type": "code",
   "execution_count": 18,
   "id": "53367329",
   "metadata": {},
   "outputs": [
    {
     "data": {
      "text/html": [
       "<div>\n",
       "<style scoped>\n",
       "    .dataframe tbody tr th:only-of-type {\n",
       "        vertical-align: middle;\n",
       "    }\n",
       "\n",
       "    .dataframe tbody tr th {\n",
       "        vertical-align: top;\n",
       "    }\n",
       "\n",
       "    .dataframe thead th {\n",
       "        text-align: right;\n",
       "    }\n",
       "</style>\n",
       "<table border=\"1\" class=\"dataframe\">\n",
       "  <thead>\n",
       "    <tr style=\"text-align: right;\">\n",
       "      <th>Ticker</th>\n",
       "      <th>IWO</th>\n",
       "      <th>MTUM</th>\n",
       "      <th>QQQ</th>\n",
       "      <th>VXX</th>\n",
       "    </tr>\n",
       "    <tr>\n",
       "      <th>Date</th>\n",
       "      <th></th>\n",
       "      <th></th>\n",
       "      <th></th>\n",
       "      <th></th>\n",
       "    </tr>\n",
       "  </thead>\n",
       "  <tbody>\n",
       "    <tr>\n",
       "      <th>2020-01-03</th>\n",
       "      <td>-0.004987</td>\n",
       "      <td>-0.000159</td>\n",
       "      <td>-0.009160</td>\n",
       "      <td>0.053756</td>\n",
       "    </tr>\n",
       "    <tr>\n",
       "      <th>2020-01-06</th>\n",
       "      <td>0.003560</td>\n",
       "      <td>0.001111</td>\n",
       "      <td>0.006443</td>\n",
       "      <td>-0.013734</td>\n",
       "    </tr>\n",
       "    <tr>\n",
       "      <th>2020-01-07</th>\n",
       "      <td>-0.001774</td>\n",
       "      <td>-0.002458</td>\n",
       "      <td>-0.000139</td>\n",
       "      <td>-0.004642</td>\n",
       "    </tr>\n",
       "    <tr>\n",
       "      <th>2020-01-08</th>\n",
       "      <td>0.005938</td>\n",
       "      <td>0.005326</td>\n",
       "      <td>0.007516</td>\n",
       "      <td>-0.013991</td>\n",
       "    </tr>\n",
       "    <tr>\n",
       "      <th>2020-01-09</th>\n",
       "      <td>0.003625</td>\n",
       "      <td>0.008699</td>\n",
       "      <td>0.008474</td>\n",
       "      <td>-0.041892</td>\n",
       "    </tr>\n",
       "  </tbody>\n",
       "</table>\n",
       "</div>"
      ],
      "text/plain": [
       "Ticker           IWO      MTUM       QQQ       VXX\n",
       "Date                                              \n",
       "2020-01-03 -0.004987 -0.000159 -0.009160  0.053756\n",
       "2020-01-06  0.003560  0.001111  0.006443 -0.013734\n",
       "2020-01-07 -0.001774 -0.002458 -0.000139 -0.004642\n",
       "2020-01-08  0.005938  0.005326  0.007516 -0.013991\n",
       "2020-01-09  0.003625  0.008699  0.008474 -0.041892"
      ]
     },
     "execution_count": 18,
     "metadata": {},
     "output_type": "execute_result"
    }
   ],
   "source": [
    "rets=prices.pct_change().dropna()\n",
    "\n",
    "rets.head()"
   ]
  },
  {
   "cell_type": "code",
   "execution_count": 24,
   "id": "f9ced8b8",
   "metadata": {},
   "outputs": [
    {
     "name": "stdout",
     "output_type": "stream",
     "text": [
      "El rendimiento del portafolio anual es de 9.584410865534105 %\n"
     ]
    }
   ],
   "source": [
    "mean=rets.mean()\n",
    "\n",
    "Rend_port_diario = (mean * w).sum()\n",
    "Rend_port_anual = Rend_port_diario * 252\n",
    "\n",
    "print('El rendimiento del portafolio anual es de', Rend_port_anual*100, '%')"
   ]
  },
  {
   "cell_type": "code",
   "execution_count": 26,
   "id": "5f689aa2",
   "metadata": {},
   "outputs": [
    {
     "name": "stdout",
     "output_type": "stream",
     "text": [
      "La varianza del portafolio anual es de 2.3700170654920907 %\n"
     ]
    }
   ],
   "source": [
    "cov=rets.cov()\n",
    "\n",
    "var_port_diario = w.T @ cov @ w\n",
    "var_port_anual = var_port_diario *252\n",
    "\n",
    "print('La varianza del portafolio anual es de', var_port_anual*100, '%')"
   ]
  },
  {
   "cell_type": "code",
   "execution_count": 27,
   "id": "c6302baa",
   "metadata": {},
   "outputs": [
    {
     "name": "stdout",
     "output_type": "stream",
     "text": [
      "La volatilidad del portafolio anual es de 15.394859744382508 %\n"
     ]
    }
   ],
   "source": [
    "vol_port_anual = np.sqrt(var_port_anual)\n",
    "\n",
    "print('La volatilidad del portafolio anual es de', vol_port_anual*100, '%')"
   ]
  },
  {
   "cell_type": "code",
   "execution_count": 33,
   "id": "aaee12d3",
   "metadata": {},
   "outputs": [
    {
     "data": {
      "text/plain": [
       "37.87254768957486"
      ]
     },
     "execution_count": 33,
     "metadata": {},
     "output_type": "execute_result"
    }
   ],
   "source": [
    "np.sqrt((rets.var() * w).sum() * 252)*100"
   ]
  },
  {
   "cell_type": "code",
   "execution_count": 28,
   "id": "af57dc5b",
   "metadata": {},
   "outputs": [
    {
     "data": {
      "text/html": [
       "<div>\n",
       "<style scoped>\n",
       "    .dataframe tbody tr th:only-of-type {\n",
       "        vertical-align: middle;\n",
       "    }\n",
       "\n",
       "    .dataframe tbody tr th {\n",
       "        vertical-align: top;\n",
       "    }\n",
       "\n",
       "    .dataframe thead th {\n",
       "        text-align: right;\n",
       "    }\n",
       "</style>\n",
       "<table border=\"1\" class=\"dataframe\">\n",
       "  <thead>\n",
       "    <tr style=\"text-align: right;\">\n",
       "      <th>Ticker</th>\n",
       "      <th>IWO</th>\n",
       "      <th>MTUM</th>\n",
       "      <th>QQQ</th>\n",
       "      <th>VXX</th>\n",
       "    </tr>\n",
       "    <tr>\n",
       "      <th>Ticker</th>\n",
       "      <th></th>\n",
       "      <th></th>\n",
       "      <th></th>\n",
       "      <th></th>\n",
       "    </tr>\n",
       "  </thead>\n",
       "  <tbody>\n",
       "    <tr>\n",
       "      <th>IWO</th>\n",
       "      <td>1.000000</td>\n",
       "      <td>0.817946</td>\n",
       "      <td>0.821392</td>\n",
       "      <td>-0.701548</td>\n",
       "    </tr>\n",
       "    <tr>\n",
       "      <th>MTUM</th>\n",
       "      <td>0.817946</td>\n",
       "      <td>1.000000</td>\n",
       "      <td>0.892152</td>\n",
       "      <td>-0.685832</td>\n",
       "    </tr>\n",
       "    <tr>\n",
       "      <th>QQQ</th>\n",
       "      <td>0.821392</td>\n",
       "      <td>0.892152</td>\n",
       "      <td>1.000000</td>\n",
       "      <td>-0.692496</td>\n",
       "    </tr>\n",
       "    <tr>\n",
       "      <th>VXX</th>\n",
       "      <td>-0.701548</td>\n",
       "      <td>-0.685832</td>\n",
       "      <td>-0.692496</td>\n",
       "      <td>1.000000</td>\n",
       "    </tr>\n",
       "  </tbody>\n",
       "</table>\n",
       "</div>"
      ],
      "text/plain": [
       "Ticker       IWO      MTUM       QQQ       VXX\n",
       "Ticker                                        \n",
       "IWO     1.000000  0.817946  0.821392 -0.701548\n",
       "MTUM    0.817946  1.000000  0.892152 -0.685832\n",
       "QQQ     0.821392  0.892152  1.000000 -0.692496\n",
       "VXX    -0.701548 -0.685832 -0.692496  1.000000"
      ]
     },
     "execution_count": 28,
     "metadata": {},
     "output_type": "execute_result"
    }
   ],
   "source": [
    "rets.corr()"
   ]
  },
  {
   "cell_type": "markdown",
   "id": "ece160e9",
   "metadata": {},
   "source": [
    "### Estrategias de Inversión"
   ]
  },
  {
   "cell_type": "code",
   "execution_count": 2,
   "id": "99e470e5",
   "metadata": {},
   "outputs": [],
   "source": [
    "import yfinance as yf\n",
    "import numpy as np\n",
    "import pandas as pd\n",
    "import matplotlib.pyplot as plt"
   ]
  },
  {
   "cell_type": "code",
   "execution_count": 9,
   "id": "267eed4d",
   "metadata": {},
   "outputs": [
    {
     "name": "stderr",
     "output_type": "stream",
     "text": [
      "[*********************100%***********************]  10 of 10 completed\n"
     ]
    },
    {
     "data": {
      "text/html": [
       "<div>\n",
       "<style scoped>\n",
       "    .dataframe tbody tr th:only-of-type {\n",
       "        vertical-align: middle;\n",
       "    }\n",
       "\n",
       "    .dataframe tbody tr th {\n",
       "        vertical-align: top;\n",
       "    }\n",
       "\n",
       "    .dataframe thead th {\n",
       "        text-align: right;\n",
       "    }\n",
       "</style>\n",
       "<table border=\"1\" class=\"dataframe\">\n",
       "  <thead>\n",
       "    <tr style=\"text-align: right;\">\n",
       "      <th>Ticker</th>\n",
       "      <th>ACWI</th>\n",
       "      <th>BND</th>\n",
       "      <th>GSG</th>\n",
       "      <th>IHE</th>\n",
       "      <th>IYF</th>\n",
       "      <th>XLP</th>\n",
       "      <th>XLY</th>\n",
       "      <th>^DJI</th>\n",
       "      <th>^GSPC</th>\n",
       "      <th>^NBI</th>\n",
       "    </tr>\n",
       "    <tr>\n",
       "      <th>Date</th>\n",
       "      <th></th>\n",
       "      <th></th>\n",
       "      <th></th>\n",
       "      <th></th>\n",
       "      <th></th>\n",
       "      <th></th>\n",
       "      <th></th>\n",
       "      <th></th>\n",
       "      <th></th>\n",
       "      <th></th>\n",
       "    </tr>\n",
       "  </thead>\n",
       "  <tbody>\n",
       "    <tr>\n",
       "      <th>2020-01-02</th>\n",
       "      <td>73.371567</td>\n",
       "      <td>72.023148</td>\n",
       "      <td>16.290001</td>\n",
       "      <td>49.126125</td>\n",
       "      <td>63.359642</td>\n",
       "      <td>54.455322</td>\n",
       "      <td>121.261276</td>\n",
       "      <td>28868.800781</td>\n",
       "      <td>3257.850098</td>\n",
       "      <td>3763.050049</td>\n",
       "    </tr>\n",
       "    <tr>\n",
       "      <th>2020-01-03</th>\n",
       "      <td>72.739288</td>\n",
       "      <td>72.280426</td>\n",
       "      <td>16.510000</td>\n",
       "      <td>48.599960</td>\n",
       "      <td>63.002903</td>\n",
       "      <td>54.368172</td>\n",
       "      <td>120.229362</td>\n",
       "      <td>28634.880859</td>\n",
       "      <td>3234.850098</td>\n",
       "      <td>3715.300049</td>\n",
       "    </tr>\n",
       "    <tr>\n",
       "      <th>2020-01-06</th>\n",
       "      <td>72.904221</td>\n",
       "      <td>72.194710</td>\n",
       "      <td>16.510000</td>\n",
       "      <td>48.658081</td>\n",
       "      <td>62.966305</td>\n",
       "      <td>54.481472</td>\n",
       "      <td>120.563789</td>\n",
       "      <td>28703.380859</td>\n",
       "      <td>3246.280029</td>\n",
       "      <td>3743.429932</td>\n",
       "    </tr>\n",
       "    <tr>\n",
       "      <th>2020-01-07</th>\n",
       "      <td>72.720970</td>\n",
       "      <td>72.134628</td>\n",
       "      <td>16.459999</td>\n",
       "      <td>48.526539</td>\n",
       "      <td>62.540947</td>\n",
       "      <td>54.063114</td>\n",
       "      <td>120.372688</td>\n",
       "      <td>28583.679688</td>\n",
       "      <td>3237.179932</td>\n",
       "      <td>3745.149902</td>\n",
       "    </tr>\n",
       "    <tr>\n",
       "      <th>2020-01-08</th>\n",
       "      <td>73.078339</td>\n",
       "      <td>72.023148</td>\n",
       "      <td>16.150000</td>\n",
       "      <td>48.431709</td>\n",
       "      <td>62.925140</td>\n",
       "      <td>54.263588</td>\n",
       "      <td>120.735764</td>\n",
       "      <td>28745.089844</td>\n",
       "      <td>3253.050049</td>\n",
       "      <td>3778.810059</td>\n",
       "    </tr>\n",
       "    <tr>\n",
       "      <th>...</th>\n",
       "      <td>...</td>\n",
       "      <td>...</td>\n",
       "      <td>...</td>\n",
       "      <td>...</td>\n",
       "      <td>...</td>\n",
       "      <td>...</td>\n",
       "      <td>...</td>\n",
       "      <td>...</td>\n",
       "      <td>...</td>\n",
       "      <td>...</td>\n",
       "    </tr>\n",
       "    <tr>\n",
       "      <th>2025-05-23</th>\n",
       "      <td>122.300003</td>\n",
       "      <td>71.951920</td>\n",
       "      <td>21.559999</td>\n",
       "      <td>63.599998</td>\n",
       "      <td>114.400002</td>\n",
       "      <td>81.599998</td>\n",
       "      <td>210.649994</td>\n",
       "      <td>41603.070312</td>\n",
       "      <td>5802.819824</td>\n",
       "      <td>4084.750000</td>\n",
       "    </tr>\n",
       "    <tr>\n",
       "      <th>2025-05-27</th>\n",
       "      <td>124.349998</td>\n",
       "      <td>72.290794</td>\n",
       "      <td>21.410000</td>\n",
       "      <td>64.370003</td>\n",
       "      <td>116.430000</td>\n",
       "      <td>82.339996</td>\n",
       "      <td>216.869995</td>\n",
       "      <td>42343.648438</td>\n",
       "      <td>5921.540039</td>\n",
       "      <td>4122.620117</td>\n",
       "    </tr>\n",
       "    <tr>\n",
       "      <th>2025-05-28</th>\n",
       "      <td>123.459999</td>\n",
       "      <td>72.131325</td>\n",
       "      <td>21.330000</td>\n",
       "      <td>63.990002</td>\n",
       "      <td>115.459999</td>\n",
       "      <td>81.779999</td>\n",
       "      <td>214.880005</td>\n",
       "      <td>42098.699219</td>\n",
       "      <td>5888.549805</td>\n",
       "      <td>4086.219971</td>\n",
       "    </tr>\n",
       "    <tr>\n",
       "      <th>2025-05-29</th>\n",
       "      <td>123.910004</td>\n",
       "      <td>72.390457</td>\n",
       "      <td>21.260000</td>\n",
       "      <td>64.629997</td>\n",
       "      <td>116.050003</td>\n",
       "      <td>82.110001</td>\n",
       "      <td>214.970001</td>\n",
       "      <td>42215.730469</td>\n",
       "      <td>5912.169922</td>\n",
       "      <td>4170.990234</td>\n",
       "    </tr>\n",
       "    <tr>\n",
       "      <th>2025-05-30</th>\n",
       "      <td>123.650002</td>\n",
       "      <td>72.529999</td>\n",
       "      <td>21.170000</td>\n",
       "      <td>65.089996</td>\n",
       "      <td>116.050003</td>\n",
       "      <td>82.830002</td>\n",
       "      <td>213.800003</td>\n",
       "      <td>42270.070312</td>\n",
       "      <td>5911.689941</td>\n",
       "      <td>4079.129883</td>\n",
       "    </tr>\n",
       "  </tbody>\n",
       "</table>\n",
       "<p>1360 rows × 10 columns</p>\n",
       "</div>"
      ],
      "text/plain": [
       "Ticker            ACWI        BND        GSG        IHE         IYF  \\\n",
       "Date                                                                  \n",
       "2020-01-02   73.371567  72.023148  16.290001  49.126125   63.359642   \n",
       "2020-01-03   72.739288  72.280426  16.510000  48.599960   63.002903   \n",
       "2020-01-06   72.904221  72.194710  16.510000  48.658081   62.966305   \n",
       "2020-01-07   72.720970  72.134628  16.459999  48.526539   62.540947   \n",
       "2020-01-08   73.078339  72.023148  16.150000  48.431709   62.925140   \n",
       "...                ...        ...        ...        ...         ...   \n",
       "2025-05-23  122.300003  71.951920  21.559999  63.599998  114.400002   \n",
       "2025-05-27  124.349998  72.290794  21.410000  64.370003  116.430000   \n",
       "2025-05-28  123.459999  72.131325  21.330000  63.990002  115.459999   \n",
       "2025-05-29  123.910004  72.390457  21.260000  64.629997  116.050003   \n",
       "2025-05-30  123.650002  72.529999  21.170000  65.089996  116.050003   \n",
       "\n",
       "Ticker            XLP         XLY          ^DJI        ^GSPC         ^NBI  \n",
       "Date                                                                       \n",
       "2020-01-02  54.455322  121.261276  28868.800781  3257.850098  3763.050049  \n",
       "2020-01-03  54.368172  120.229362  28634.880859  3234.850098  3715.300049  \n",
       "2020-01-06  54.481472  120.563789  28703.380859  3246.280029  3743.429932  \n",
       "2020-01-07  54.063114  120.372688  28583.679688  3237.179932  3745.149902  \n",
       "2020-01-08  54.263588  120.735764  28745.089844  3253.050049  3778.810059  \n",
       "...               ...         ...           ...          ...          ...  \n",
       "2025-05-23  81.599998  210.649994  41603.070312  5802.819824  4084.750000  \n",
       "2025-05-27  82.339996  216.869995  42343.648438  5921.540039  4122.620117  \n",
       "2025-05-28  81.779999  214.880005  42098.699219  5888.549805  4086.219971  \n",
       "2025-05-29  82.110001  214.970001  42215.730469  5912.169922  4170.990234  \n",
       "2025-05-30  82.830002  213.800003  42270.070312  5911.689941  4079.129883  \n",
       "\n",
       "[1360 rows x 10 columns]"
      ]
     },
     "execution_count": 9,
     "metadata": {},
     "output_type": "execute_result"
    }
   ],
   "source": [
    "prices=yf.download(['^GSPC', 'ACWI','^DJI', 'IYF', 'XLY', 'XLP', '^NBI', 'GSG', 'BND', 'IHE'], \n",
    "                   start='2020-01-01', end='2025-06-02')['Close']\n",
    "prices"
   ]
  },
  {
   "cell_type": "code",
   "execution_count": 10,
   "id": "07c079f5",
   "metadata": {
    "scrolled": true
   },
   "outputs": [
    {
     "data": {
      "text/html": [
       "<div>\n",
       "<style scoped>\n",
       "    .dataframe tbody tr th:only-of-type {\n",
       "        vertical-align: middle;\n",
       "    }\n",
       "\n",
       "    .dataframe tbody tr th {\n",
       "        vertical-align: top;\n",
       "    }\n",
       "\n",
       "    .dataframe thead th {\n",
       "        text-align: right;\n",
       "    }\n",
       "</style>\n",
       "<table border=\"1\" class=\"dataframe\">\n",
       "  <thead>\n",
       "    <tr style=\"text-align: right;\">\n",
       "      <th>Ticker</th>\n",
       "      <th>ACWI</th>\n",
       "      <th>BND</th>\n",
       "      <th>GSG</th>\n",
       "      <th>IHE</th>\n",
       "      <th>IYF</th>\n",
       "      <th>XLP</th>\n",
       "      <th>XLY</th>\n",
       "      <th>^DJI</th>\n",
       "      <th>^GSPC</th>\n",
       "      <th>^NBI</th>\n",
       "    </tr>\n",
       "    <tr>\n",
       "      <th>Date</th>\n",
       "      <th></th>\n",
       "      <th></th>\n",
       "      <th></th>\n",
       "      <th></th>\n",
       "      <th></th>\n",
       "      <th></th>\n",
       "      <th></th>\n",
       "      <th></th>\n",
       "      <th></th>\n",
       "      <th></th>\n",
       "    </tr>\n",
       "  </thead>\n",
       "  <tbody>\n",
       "    <tr>\n",
       "      <th>2020-01-03</th>\n",
       "      <td>-0.008617</td>\n",
       "      <td>0.003572</td>\n",
       "      <td>0.013505</td>\n",
       "      <td>-0.010710</td>\n",
       "      <td>-0.005630</td>\n",
       "      <td>-0.001600</td>\n",
       "      <td>-0.008510</td>\n",
       "      <td>-0.008103</td>\n",
       "      <td>-0.007060</td>\n",
       "      <td>-0.012689</td>\n",
       "    </tr>\n",
       "    <tr>\n",
       "      <th>2020-01-06</th>\n",
       "      <td>0.002267</td>\n",
       "      <td>-0.001186</td>\n",
       "      <td>0.000000</td>\n",
       "      <td>0.001196</td>\n",
       "      <td>-0.000581</td>\n",
       "      <td>0.002084</td>\n",
       "      <td>0.002782</td>\n",
       "      <td>0.002392</td>\n",
       "      <td>0.003533</td>\n",
       "      <td>0.007571</td>\n",
       "    </tr>\n",
       "    <tr>\n",
       "      <th>2020-01-07</th>\n",
       "      <td>-0.002514</td>\n",
       "      <td>-0.000832</td>\n",
       "      <td>-0.003029</td>\n",
       "      <td>-0.002703</td>\n",
       "      <td>-0.006755</td>\n",
       "      <td>-0.007679</td>\n",
       "      <td>-0.001585</td>\n",
       "      <td>-0.004170</td>\n",
       "      <td>-0.002803</td>\n",
       "      <td>0.000459</td>\n",
       "    </tr>\n",
       "    <tr>\n",
       "      <th>2020-01-08</th>\n",
       "      <td>0.004914</td>\n",
       "      <td>-0.001545</td>\n",
       "      <td>-0.018834</td>\n",
       "      <td>-0.001954</td>\n",
       "      <td>0.006143</td>\n",
       "      <td>0.003708</td>\n",
       "      <td>0.003016</td>\n",
       "      <td>0.005647</td>\n",
       "      <td>0.004902</td>\n",
       "      <td>0.008988</td>\n",
       "    </tr>\n",
       "    <tr>\n",
       "      <th>2020-01-09</th>\n",
       "      <td>0.005643</td>\n",
       "      <td>0.001191</td>\n",
       "      <td>-0.007430</td>\n",
       "      <td>0.004674</td>\n",
       "      <td>0.006542</td>\n",
       "      <td>0.007067</td>\n",
       "      <td>0.005302</td>\n",
       "      <td>0.007369</td>\n",
       "      <td>0.006655</td>\n",
       "      <td>0.005541</td>\n",
       "    </tr>\n",
       "    <tr>\n",
       "      <th>...</th>\n",
       "      <td>...</td>\n",
       "      <td>...</td>\n",
       "      <td>...</td>\n",
       "      <td>...</td>\n",
       "      <td>...</td>\n",
       "      <td>...</td>\n",
       "      <td>...</td>\n",
       "      <td>...</td>\n",
       "      <td>...</td>\n",
       "      <td>...</td>\n",
       "    </tr>\n",
       "    <tr>\n",
       "      <th>2025-05-23</th>\n",
       "      <td>-0.003097</td>\n",
       "      <td>0.001526</td>\n",
       "      <td>0.007948</td>\n",
       "      <td>0.001733</td>\n",
       "      <td>-0.001658</td>\n",
       "      <td>0.003690</td>\n",
       "      <td>-0.008986</td>\n",
       "      <td>-0.006116</td>\n",
       "      <td>-0.006708</td>\n",
       "      <td>0.000747</td>\n",
       "    </tr>\n",
       "    <tr>\n",
       "      <th>2025-05-27</th>\n",
       "      <td>0.016762</td>\n",
       "      <td>0.004710</td>\n",
       "      <td>-0.006957</td>\n",
       "      <td>0.012107</td>\n",
       "      <td>0.017745</td>\n",
       "      <td>0.009069</td>\n",
       "      <td>0.029528</td>\n",
       "      <td>0.017801</td>\n",
       "      <td>0.020459</td>\n",
       "      <td>0.009271</td>\n",
       "    </tr>\n",
       "    <tr>\n",
       "      <th>2025-05-28</th>\n",
       "      <td>-0.007157</td>\n",
       "      <td>-0.002206</td>\n",
       "      <td>-0.003737</td>\n",
       "      <td>-0.005903</td>\n",
       "      <td>-0.008331</td>\n",
       "      <td>-0.006801</td>\n",
       "      <td>-0.009176</td>\n",
       "      <td>-0.005785</td>\n",
       "      <td>-0.005571</td>\n",
       "      <td>-0.008829</td>\n",
       "    </tr>\n",
       "    <tr>\n",
       "      <th>2025-05-29</th>\n",
       "      <td>0.003645</td>\n",
       "      <td>0.003593</td>\n",
       "      <td>-0.003282</td>\n",
       "      <td>0.010001</td>\n",
       "      <td>0.005110</td>\n",
       "      <td>0.004035</td>\n",
       "      <td>0.000419</td>\n",
       "      <td>0.002780</td>\n",
       "      <td>0.004011</td>\n",
       "      <td>0.020745</td>\n",
       "    </tr>\n",
       "    <tr>\n",
       "      <th>2025-05-30</th>\n",
       "      <td>-0.002098</td>\n",
       "      <td>0.001928</td>\n",
       "      <td>-0.004233</td>\n",
       "      <td>0.007117</td>\n",
       "      <td>0.000000</td>\n",
       "      <td>0.008769</td>\n",
       "      <td>-0.005443</td>\n",
       "      <td>0.001287</td>\n",
       "      <td>-0.000081</td>\n",
       "      <td>-0.022024</td>\n",
       "    </tr>\n",
       "  </tbody>\n",
       "</table>\n",
       "<p>1359 rows × 10 columns</p>\n",
       "</div>"
      ],
      "text/plain": [
       "Ticker          ACWI       BND       GSG       IHE       IYF       XLP  \\\n",
       "Date                                                                     \n",
       "2020-01-03 -0.008617  0.003572  0.013505 -0.010710 -0.005630 -0.001600   \n",
       "2020-01-06  0.002267 -0.001186  0.000000  0.001196 -0.000581  0.002084   \n",
       "2020-01-07 -0.002514 -0.000832 -0.003029 -0.002703 -0.006755 -0.007679   \n",
       "2020-01-08  0.004914 -0.001545 -0.018834 -0.001954  0.006143  0.003708   \n",
       "2020-01-09  0.005643  0.001191 -0.007430  0.004674  0.006542  0.007067   \n",
       "...              ...       ...       ...       ...       ...       ...   \n",
       "2025-05-23 -0.003097  0.001526  0.007948  0.001733 -0.001658  0.003690   \n",
       "2025-05-27  0.016762  0.004710 -0.006957  0.012107  0.017745  0.009069   \n",
       "2025-05-28 -0.007157 -0.002206 -0.003737 -0.005903 -0.008331 -0.006801   \n",
       "2025-05-29  0.003645  0.003593 -0.003282  0.010001  0.005110  0.004035   \n",
       "2025-05-30 -0.002098  0.001928 -0.004233  0.007117  0.000000  0.008769   \n",
       "\n",
       "Ticker           XLY      ^DJI     ^GSPC      ^NBI  \n",
       "Date                                                \n",
       "2020-01-03 -0.008510 -0.008103 -0.007060 -0.012689  \n",
       "2020-01-06  0.002782  0.002392  0.003533  0.007571  \n",
       "2020-01-07 -0.001585 -0.004170 -0.002803  0.000459  \n",
       "2020-01-08  0.003016  0.005647  0.004902  0.008988  \n",
       "2020-01-09  0.005302  0.007369  0.006655  0.005541  \n",
       "...              ...       ...       ...       ...  \n",
       "2025-05-23 -0.008986 -0.006116 -0.006708  0.000747  \n",
       "2025-05-27  0.029528  0.017801  0.020459  0.009271  \n",
       "2025-05-28 -0.009176 -0.005785 -0.005571 -0.008829  \n",
       "2025-05-29  0.000419  0.002780  0.004011  0.020745  \n",
       "2025-05-30 -0.005443  0.001287 -0.000081 -0.022024  \n",
       "\n",
       "[1359 rows x 10 columns]"
      ]
     },
     "execution_count": 10,
     "metadata": {},
     "output_type": "execute_result"
    }
   ],
   "source": [
    "returns=prices.pct_change().dropna()\n",
    "\n",
    "returns"
   ]
  },
  {
   "cell_type": "code",
   "execution_count": 15,
   "id": "52b17457",
   "metadata": {},
   "outputs": [],
   "source": [
    "rf=4.04"
   ]
  },
  {
   "cell_type": "code",
   "execution_count": 20,
   "id": "05b8b727",
   "metadata": {},
   "outputs": [
    {
     "data": {
      "text/html": [
       "<div>\n",
       "<style scoped>\n",
       "    .dataframe tbody tr th:only-of-type {\n",
       "        vertical-align: middle;\n",
       "    }\n",
       "\n",
       "    .dataframe tbody tr th {\n",
       "        vertical-align: top;\n",
       "    }\n",
       "\n",
       "    .dataframe thead th {\n",
       "        text-align: right;\n",
       "    }\n",
       "</style>\n",
       "<table border=\"1\" class=\"dataframe\">\n",
       "  <thead>\n",
       "    <tr style=\"text-align: right;\">\n",
       "      <th></th>\n",
       "      <th>Rend_Prom_Anual_%</th>\n",
       "      <th>Vol_Prom_Anual_%</th>\n",
       "      <th>Sharpe Ratio</th>\n",
       "      <th>Risk Aversion</th>\n",
       "    </tr>\n",
       "    <tr>\n",
       "      <th>Ticker</th>\n",
       "      <th></th>\n",
       "      <th></th>\n",
       "      <th></th>\n",
       "      <th></th>\n",
       "    </tr>\n",
       "  </thead>\n",
       "  <tbody>\n",
       "    <tr>\n",
       "      <th>^GSPC</th>\n",
       "      <td>13.424816</td>\n",
       "      <td>21.753694</td>\n",
       "      <td>0.431413</td>\n",
       "      <td>0.039663</td>\n",
       "    </tr>\n",
       "    <tr>\n",
       "      <th>ACWI</th>\n",
       "      <td>11.755716</td>\n",
       "      <td>20.324036</td>\n",
       "      <td>0.379635</td>\n",
       "      <td>0.037358</td>\n",
       "    </tr>\n",
       "    <tr>\n",
       "      <th>XLP</th>\n",
       "      <td>9.216736</td>\n",
       "      <td>16.951449</td>\n",
       "      <td>0.305386</td>\n",
       "      <td>0.036031</td>\n",
       "    </tr>\n",
       "    <tr>\n",
       "      <th>IYF</th>\n",
       "      <td>14.471681</td>\n",
       "      <td>25.434307</td>\n",
       "      <td>0.410142</td>\n",
       "      <td>0.032251</td>\n",
       "    </tr>\n",
       "    <tr>\n",
       "      <th>XLY</th>\n",
       "      <td>14.051933</td>\n",
       "      <td>26.536499</td>\n",
       "      <td>0.377289</td>\n",
       "      <td>0.028435</td>\n",
       "    </tr>\n",
       "    <tr>\n",
       "      <th>^DJI</th>\n",
       "      <td>9.272181</td>\n",
       "      <td>20.932028</td>\n",
       "      <td>0.249961</td>\n",
       "      <td>0.023883</td>\n",
       "    </tr>\n",
       "    <tr>\n",
       "      <th>IHE</th>\n",
       "      <td>7.016617</td>\n",
       "      <td>18.953367</td>\n",
       "      <td>0.157049</td>\n",
       "      <td>0.016572</td>\n",
       "    </tr>\n",
       "    <tr>\n",
       "      <th>GSG</th>\n",
       "      <td>7.890947</td>\n",
       "      <td>24.487833</td>\n",
       "      <td>0.157260</td>\n",
       "      <td>0.012844</td>\n",
       "    </tr>\n",
       "    <tr>\n",
       "      <th>^NBI</th>\n",
       "      <td>4.639452</td>\n",
       "      <td>25.059708</td>\n",
       "      <td>0.023921</td>\n",
       "      <td>0.001909</td>\n",
       "    </tr>\n",
       "    <tr>\n",
       "      <th>BND</th>\n",
       "      <td>0.368944</td>\n",
       "      <td>6.905655</td>\n",
       "      <td>-0.531601</td>\n",
       "      <td>-0.153961</td>\n",
       "    </tr>\n",
       "  </tbody>\n",
       "</table>\n",
       "</div>"
      ],
      "text/plain": [
       "        Rend_Prom_Anual_%  Vol_Prom_Anual_%  Sharpe Ratio  Risk Aversion\n",
       "Ticker                                                                  \n",
       "^GSPC           13.424816         21.753694      0.431413       0.039663\n",
       "ACWI            11.755716         20.324036      0.379635       0.037358\n",
       "XLP              9.216736         16.951449      0.305386       0.036031\n",
       "IYF             14.471681         25.434307      0.410142       0.032251\n",
       "XLY             14.051933         26.536499      0.377289       0.028435\n",
       "^DJI             9.272181         20.932028      0.249961       0.023883\n",
       "IHE              7.016617         18.953367      0.157049       0.016572\n",
       "GSG              7.890947         24.487833      0.157260       0.012844\n",
       "^NBI             4.639452         25.059708      0.023921       0.001909\n",
       "BND              0.368944          6.905655     -0.531601      -0.153961"
      ]
     },
     "execution_count": 20,
     "metadata": {},
     "output_type": "execute_result"
    }
   ],
   "source": [
    "df=pd.DataFrame(columns=returns.columns).T\n",
    "df['Rend_Prom_Anual_%']=returns.mean()*252*100\n",
    "df['Vol_Prom_Anual_%']=np.sqrt(252)*returns.std()*100\n",
    "df['Sharpe Ratio']=(df['Rend_Prom_Anual_%'] - rf)/df['Vol_Prom_Anual_%']\n",
    "df['Risk Aversion']=(df['Rend_Prom_Anual_%'] - rf)/(0.5 * df['Vol_Prom_Anual_%']**2)\n",
    "\n",
    "df.sort_values(by='Risk Aversion', ascending=False)"
   ]
  },
  {
   "cell_type": "code",
   "execution_count": 2,
   "id": "8aa9648a",
   "metadata": {},
   "outputs": [],
   "source": [
    "tickers=['ABT', 'ACN', 'ADM', 'ADSK', 'AES', 'AAPL', 'AFL', 'AIZ', 'AKAM', 'ALL', 'AMD', 'AMGN',\n",
    "         'AMT', 'AMZN', 'APA', 'APH', 'AZO', 'BAC', 'BAX', 'BBY', 'BLK', 'BSX', 'BTU', 'CAG',\n",
    "         'CCL', 'CHRW', 'CI', 'CINF', 'COF', 'CPB', 'CRM', 'CTAS', 'CTSH', 'CVS', 'CVX', 'DGX',\n",
    "         'DHI', 'DIS', 'DTE', 'DV', 'EA', 'ED', 'EMN', 'EMR', 'EQR', 'ETR', 'F', 'FAST', 'FCX',\n",
    "         'FE', 'FHN', 'FIS', 'FLR', 'FLS', 'GME', 'GOOG', 'GWW', 'HAS', 'HBAN', 'HIG', 'HOG', 'HON',\n",
    "         'HRB', 'HSY', 'HUM', 'IFF', 'IGT', 'INTU', 'IR', 'JCI', 'K', 'KEY', 'KIM', 'KLAC', 'KO', 'KR',\n",
    "         'KSS', 'LEN', 'LLY', 'LNC', 'M', 'MA', 'MCD', 'MCK', 'MET', 'MMC', 'MS', 'MSFT', 'MU', 'NBR', 'NDAQ',\n",
    "         'NEM', 'NVDA', 'NWL', 'PCG', 'PEG', 'PFG', 'PLD', 'PPG', 'PSA', 'PX', 'RL', 'ROST', 'RRC',\n",
    "         'RSG', 'S', 'SBUX', 'SEE', 'SO', 'SPG', 'STI', 'STT', 'STX', 'SUN', 'SWK', 'SYK', 'SYY', \n",
    "         'TAP', 'TMO', 'URBN', 'VLO', 'VZ', 'WAT', 'WDC', 'WEC', 'WHR', 'WU', 'XOM', 'XRAY', 'XRX', 'JPM']"
   ]
  },
  {
   "cell_type": "code",
   "execution_count": 3,
   "id": "3ab05ebb",
   "metadata": {},
   "outputs": [
    {
     "name": "stdout",
     "output_type": "stream",
     "text": [
      "YF.download() has changed argument auto_adjust default to True\n"
     ]
    },
    {
     "name": "stderr",
     "output_type": "stream",
     "text": [
      "[*********************100%***********************]  131 of 131 completed\n"
     ]
    }
   ],
   "source": [
    "prices=yfinance.download(tickers, start='2021-01-01')['Close']"
   ]
  },
  {
   "cell_type": "code",
   "execution_count": 7,
   "id": "77d36876",
   "metadata": {},
   "outputs": [
    {
     "name": "stderr",
     "output_type": "stream",
     "text": [
      "/var/folders/8f/_w_76jq92z567k3ss2yjkcfm0000gn/T/ipykernel_6286/3097450443.py:1: FutureWarning: The default fill_method='pad' in DataFrame.pct_change is deprecated and will be removed in a future version. Either fill in any non-leading NA values prior to calling pct_change or specify 'fill_method=None' to not fill NA values.\n",
      "  returns=prices.pct_change().dropna()\n"
     ]
    }
   ],
   "source": [
    "returns=prices.pct_change().dropna()"
   ]
  },
  {
   "cell_type": "code",
   "execution_count": 8,
   "id": "f1a7e760",
   "metadata": {},
   "outputs": [
    {
     "data": {
      "text/html": [
       "<div>\n",
       "<style scoped>\n",
       "    .dataframe tbody tr th:only-of-type {\n",
       "        vertical-align: middle;\n",
       "    }\n",
       "\n",
       "    .dataframe tbody tr th {\n",
       "        vertical-align: top;\n",
       "    }\n",
       "\n",
       "    .dataframe thead th {\n",
       "        text-align: right;\n",
       "    }\n",
       "</style>\n",
       "<table border=\"1\" class=\"dataframe\">\n",
       "  <thead>\n",
       "    <tr style=\"text-align: right;\">\n",
       "      <th></th>\n",
       "      <th>Daily_Ret</th>\n",
       "      <th>Anual_Ret</th>\n",
       "      <th>Daily_Vol</th>\n",
       "      <th>Anual_Vol</th>\n",
       "      <th>Coefficent of Variation</th>\n",
       "      <th>Skewness</th>\n",
       "    </tr>\n",
       "    <tr>\n",
       "      <th>Ticker</th>\n",
       "      <th></th>\n",
       "      <th></th>\n",
       "      <th></th>\n",
       "      <th></th>\n",
       "      <th></th>\n",
       "      <th></th>\n",
       "    </tr>\n",
       "  </thead>\n",
       "  <tbody>\n",
       "    <tr>\n",
       "      <th>AAPL</th>\n",
       "      <td>0.000493</td>\n",
       "      <td>0.124114</td>\n",
       "      <td>0.018595</td>\n",
       "      <td>0.295185</td>\n",
       "      <td>2.378337</td>\n",
       "      <td>0.538757</td>\n",
       "    </tr>\n",
       "    <tr>\n",
       "      <th>ABT</th>\n",
       "      <td>0.000379</td>\n",
       "      <td>0.095436</td>\n",
       "      <td>0.013556</td>\n",
       "      <td>0.215201</td>\n",
       "      <td>2.254923</td>\n",
       "      <td>0.166696</td>\n",
       "    </tr>\n",
       "    <tr>\n",
       "      <th>ACN</th>\n",
       "      <td>0.000262</td>\n",
       "      <td>0.065911</td>\n",
       "      <td>0.016868</td>\n",
       "      <td>0.267768</td>\n",
       "      <td>4.062577</td>\n",
       "      <td>-0.080699</td>\n",
       "    </tr>\n",
       "    <tr>\n",
       "      <th>ADM</th>\n",
       "      <td>-0.000494</td>\n",
       "      <td>-0.124403</td>\n",
       "      <td>0.018807</td>\n",
       "      <td>0.298544</td>\n",
       "      <td>-2.399808</td>\n",
       "      <td>-3.174830</td>\n",
       "    </tr>\n",
       "    <tr>\n",
       "      <th>ADSK</th>\n",
       "      <td>0.000793</td>\n",
       "      <td>0.199713</td>\n",
       "      <td>0.021723</td>\n",
       "      <td>0.344843</td>\n",
       "      <td>1.726692</td>\n",
       "      <td>0.194938</td>\n",
       "    </tr>\n",
       "    <tr>\n",
       "      <th>...</th>\n",
       "      <td>...</td>\n",
       "      <td>...</td>\n",
       "      <td>...</td>\n",
       "      <td>...</td>\n",
       "      <td>...</td>\n",
       "      <td>...</td>\n",
       "    </tr>\n",
       "    <tr>\n",
       "      <th>WHR</th>\n",
       "      <td>-0.000558</td>\n",
       "      <td>-0.140546</td>\n",
       "      <td>0.024814</td>\n",
       "      <td>0.393912</td>\n",
       "      <td>-2.802719</td>\n",
       "      <td>-0.105528</td>\n",
       "    </tr>\n",
       "    <tr>\n",
       "      <th>WU</th>\n",
       "      <td>-0.000368</td>\n",
       "      <td>-0.092721</td>\n",
       "      <td>0.017146</td>\n",
       "      <td>0.272181</td>\n",
       "      <td>-2.935473</td>\n",
       "      <td>-0.095345</td>\n",
       "    </tr>\n",
       "    <tr>\n",
       "      <th>XOM</th>\n",
       "      <td>0.000509</td>\n",
       "      <td>0.128294</td>\n",
       "      <td>0.016736</td>\n",
       "      <td>0.265670</td>\n",
       "      <td>2.070801</td>\n",
       "      <td>-0.258357</td>\n",
       "    </tr>\n",
       "    <tr>\n",
       "      <th>XRAY</th>\n",
       "      <td>-0.000779</td>\n",
       "      <td>-0.196335</td>\n",
       "      <td>0.023483</td>\n",
       "      <td>0.372777</td>\n",
       "      <td>-1.898684</td>\n",
       "      <td>-1.797530</td>\n",
       "    </tr>\n",
       "    <tr>\n",
       "      <th>XRX</th>\n",
       "      <td>-0.000902</td>\n",
       "      <td>-0.227249</td>\n",
       "      <td>0.030065</td>\n",
       "      <td>0.477269</td>\n",
       "      <td>-2.100204</td>\n",
       "      <td>-0.315447</td>\n",
       "    </tr>\n",
       "  </tbody>\n",
       "</table>\n",
       "<p>131 rows × 6 columns</p>\n",
       "</div>"
      ],
      "text/plain": [
       "        Daily_Ret  Anual_Ret  Daily_Vol  Anual_Vol  Coefficent of Variation  \\\n",
       "Ticker                                                                        \n",
       "AAPL     0.000493   0.124114   0.018595   0.295185                 2.378337   \n",
       "ABT      0.000379   0.095436   0.013556   0.215201                 2.254923   \n",
       "ACN      0.000262   0.065911   0.016868   0.267768                 4.062577   \n",
       "ADM     -0.000494  -0.124403   0.018807   0.298544                -2.399808   \n",
       "ADSK     0.000793   0.199713   0.021723   0.344843                 1.726692   \n",
       "...           ...        ...        ...        ...                      ...   \n",
       "WHR     -0.000558  -0.140546   0.024814   0.393912                -2.802719   \n",
       "WU      -0.000368  -0.092721   0.017146   0.272181                -2.935473   \n",
       "XOM      0.000509   0.128294   0.016736   0.265670                 2.070801   \n",
       "XRAY    -0.000779  -0.196335   0.023483   0.372777                -1.898684   \n",
       "XRX     -0.000902  -0.227249   0.030065   0.477269                -2.100204   \n",
       "\n",
       "        Skewness  \n",
       "Ticker            \n",
       "AAPL    0.538757  \n",
       "ABT     0.166696  \n",
       "ACN    -0.080699  \n",
       "ADM    -3.174830  \n",
       "ADSK    0.194938  \n",
       "...          ...  \n",
       "WHR    -0.105528  \n",
       "WU     -0.095345  \n",
       "XOM    -0.258357  \n",
       "XRAY   -1.797530  \n",
       "XRX    -0.315447  \n",
       "\n",
       "[131 rows x 6 columns]"
      ]
     },
     "execution_count": 8,
     "metadata": {},
     "output_type": "execute_result"
    }
   ],
   "source": [
    "df=pd.DataFrame(columns=returns.columns).T\n",
    "df['Daily_Ret']=returns.mean()\n",
    "df['Anual_Ret']=returns.mean()*252\n",
    "df['Daily_Vol']=returns.std()\n",
    "df['Anual_Vol']=returns.std()*np.sqrt(252)\n",
    "df['Coefficent of Variation']=df['Anual_Vol']/df['Anual_Ret']\n",
    "df['Skewness'] = returns.skew()\n",
    "\n",
    "df"
   ]
  },
  {
   "cell_type": "code",
   "execution_count": 10,
   "id": "a4820500",
   "metadata": {},
   "outputs": [],
   "source": [
    "sorted_df=df.sort_values(by='Coefficent of Variation')"
   ]
  },
  {
   "cell_type": "code",
   "execution_count": 14,
   "id": "610e9a5f",
   "metadata": {},
   "outputs": [
    {
     "data": {
      "text/html": [
       "<div>\n",
       "<style scoped>\n",
       "    .dataframe tbody tr th:only-of-type {\n",
       "        vertical-align: middle;\n",
       "    }\n",
       "\n",
       "    .dataframe tbody tr th {\n",
       "        vertical-align: top;\n",
       "    }\n",
       "\n",
       "    .dataframe thead th {\n",
       "        text-align: right;\n",
       "    }\n",
       "</style>\n",
       "<table border=\"1\" class=\"dataframe\">\n",
       "  <thead>\n",
       "    <tr style=\"text-align: right;\">\n",
       "      <th></th>\n",
       "      <th>Daily_Ret</th>\n",
       "      <th>Anual_Ret</th>\n",
       "      <th>Daily_Vol</th>\n",
       "      <th>Anual_Vol</th>\n",
       "      <th>Coefficent of Variation</th>\n",
       "      <th>Skewness</th>\n",
       "    </tr>\n",
       "    <tr>\n",
       "      <th>Ticker</th>\n",
       "      <th></th>\n",
       "      <th></th>\n",
       "      <th></th>\n",
       "      <th></th>\n",
       "      <th></th>\n",
       "      <th></th>\n",
       "    </tr>\n",
       "  </thead>\n",
       "  <tbody>\n",
       "    <tr>\n",
       "      <th>BSX</th>\n",
       "      <td>0.001290</td>\n",
       "      <td>0.324964</td>\n",
       "      <td>0.013761</td>\n",
       "      <td>0.218452</td>\n",
       "      <td>0.672236</td>\n",
       "      <td>-0.245695</td>\n",
       "    </tr>\n",
       "    <tr>\n",
       "      <th>NVDA</th>\n",
       "      <td>0.003118</td>\n",
       "      <td>0.785800</td>\n",
       "      <td>0.035094</td>\n",
       "      <td>0.557099</td>\n",
       "      <td>0.708958</td>\n",
       "      <td>0.577265</td>\n",
       "    </tr>\n",
       "    <tr>\n",
       "      <th>RSG</th>\n",
       "      <td>0.000972</td>\n",
       "      <td>0.244916</td>\n",
       "      <td>0.011167</td>\n",
       "      <td>0.177277</td>\n",
       "      <td>0.723826</td>\n",
       "      <td>-0.256053</td>\n",
       "    </tr>\n",
       "    <tr>\n",
       "      <th>MCK</th>\n",
       "      <td>0.001225</td>\n",
       "      <td>0.308594</td>\n",
       "      <td>0.014802</td>\n",
       "      <td>0.234980</td>\n",
       "      <td>0.761454</td>\n",
       "      <td>-0.521412</td>\n",
       "    </tr>\n",
       "    <tr>\n",
       "      <th>CTAS</th>\n",
       "      <td>0.001209</td>\n",
       "      <td>0.304603</td>\n",
       "      <td>0.014673</td>\n",
       "      <td>0.232924</td>\n",
       "      <td>0.764679</td>\n",
       "      <td>-0.268563</td>\n",
       "    </tr>\n",
       "    <tr>\n",
       "      <th>JPM</th>\n",
       "      <td>0.001248</td>\n",
       "      <td>0.314591</td>\n",
       "      <td>0.015821</td>\n",
       "      <td>0.251144</td>\n",
       "      <td>0.798317</td>\n",
       "      <td>0.342288</td>\n",
       "    </tr>\n",
       "    <tr>\n",
       "      <th>APH</th>\n",
       "      <td>0.001378</td>\n",
       "      <td>0.347168</td>\n",
       "      <td>0.018028</td>\n",
       "      <td>0.286184</td>\n",
       "      <td>0.824338</td>\n",
       "      <td>-0.396079</td>\n",
       "    </tr>\n",
       "    <tr>\n",
       "      <th>GWW</th>\n",
       "      <td>0.001195</td>\n",
       "      <td>0.301101</td>\n",
       "      <td>0.015803</td>\n",
       "      <td>0.250868</td>\n",
       "      <td>0.833171</td>\n",
       "      <td>0.989560</td>\n",
       "    </tr>\n",
       "    <tr>\n",
       "      <th>LLY</th>\n",
       "      <td>0.001419</td>\n",
       "      <td>0.357678</td>\n",
       "      <td>0.020139</td>\n",
       "      <td>0.319690</td>\n",
       "      <td>0.893792</td>\n",
       "      <td>0.701790</td>\n",
       "    </tr>\n",
       "    <tr>\n",
       "      <th>AFL</th>\n",
       "      <td>0.000951</td>\n",
       "      <td>0.239674</td>\n",
       "      <td>0.013734</td>\n",
       "      <td>0.218018</td>\n",
       "      <td>0.909642</td>\n",
       "      <td>-0.654158</td>\n",
       "    </tr>\n",
       "  </tbody>\n",
       "</table>\n",
       "</div>"
      ],
      "text/plain": [
       "        Daily_Ret  Anual_Ret  Daily_Vol  Anual_Vol  Coefficent of Variation  \\\n",
       "Ticker                                                                        \n",
       "BSX      0.001290   0.324964   0.013761   0.218452                 0.672236   \n",
       "NVDA     0.003118   0.785800   0.035094   0.557099                 0.708958   \n",
       "RSG      0.000972   0.244916   0.011167   0.177277                 0.723826   \n",
       "MCK      0.001225   0.308594   0.014802   0.234980                 0.761454   \n",
       "CTAS     0.001209   0.304603   0.014673   0.232924                 0.764679   \n",
       "JPM      0.001248   0.314591   0.015821   0.251144                 0.798317   \n",
       "APH      0.001378   0.347168   0.018028   0.286184                 0.824338   \n",
       "GWW      0.001195   0.301101   0.015803   0.250868                 0.833171   \n",
       "LLY      0.001419   0.357678   0.020139   0.319690                 0.893792   \n",
       "AFL      0.000951   0.239674   0.013734   0.218018                 0.909642   \n",
       "\n",
       "        Skewness  \n",
       "Ticker            \n",
       "BSX    -0.245695  \n",
       "NVDA    0.577265  \n",
       "RSG    -0.256053  \n",
       "MCK    -0.521412  \n",
       "CTAS   -0.268563  \n",
       "JPM     0.342288  \n",
       "APH    -0.396079  \n",
       "GWW     0.989560  \n",
       "LLY     0.701790  \n",
       "AFL    -0.654158  "
      ]
     },
     "execution_count": 14,
     "metadata": {},
     "output_type": "execute_result"
    }
   ],
   "source": [
    "sorted_df[sorted_df['Coefficent of Variation']>0].head(10)"
   ]
  },
  {
   "cell_type": "code",
   "execution_count": 2,
   "id": "cf56bf8b",
   "metadata": {},
   "outputs": [],
   "source": [
    "import pandas as pd\n",
    "import numpy as np"
   ]
  },
  {
   "cell_type": "code",
   "execution_count": 6,
   "id": "1fb97a93",
   "metadata": {},
   "outputs": [
    {
     "data": {
      "text/html": [
       "<div>\n",
       "<style scoped>\n",
       "    .dataframe tbody tr th:only-of-type {\n",
       "        vertical-align: middle;\n",
       "    }\n",
       "\n",
       "    .dataframe tbody tr th {\n",
       "        vertical-align: top;\n",
       "    }\n",
       "\n",
       "    .dataframe thead th {\n",
       "        text-align: right;\n",
       "    }\n",
       "</style>\n",
       "<table border=\"1\" class=\"dataframe\">\n",
       "  <thead>\n",
       "    <tr style=\"text-align: right;\">\n",
       "      <th></th>\n",
       "      <th>Fondo_A</th>\n",
       "      <th>Fondo_B</th>\n",
       "    </tr>\n",
       "  </thead>\n",
       "  <tbody>\n",
       "    <tr>\n",
       "      <th>2020</th>\n",
       "      <td>0.22</td>\n",
       "      <td>0.05</td>\n",
       "    </tr>\n",
       "    <tr>\n",
       "      <th>2021</th>\n",
       "      <td>-0.12</td>\n",
       "      <td>0.06</td>\n",
       "    </tr>\n",
       "    <tr>\n",
       "      <th>2022</th>\n",
       "      <td>0.11</td>\n",
       "      <td>0.03</td>\n",
       "    </tr>\n",
       "    <tr>\n",
       "      <th>2023</th>\n",
       "      <td>-0.05</td>\n",
       "      <td>0.06</td>\n",
       "    </tr>\n",
       "  </tbody>\n",
       "</table>\n",
       "</div>"
      ],
      "text/plain": [
       "      Fondo_A  Fondo_B\n",
       "2020     0.22     0.05\n",
       "2021    -0.12     0.06\n",
       "2022     0.11     0.03\n",
       "2023    -0.05     0.06"
      ]
     },
     "execution_count": 6,
     "metadata": {},
     "output_type": "execute_result"
    }
   ],
   "source": [
    "df=pd.DataFrame(index=[2020, 2021, 2022, 2023])\n",
    "df['Fondo_A']=[.22, -.12, .11, -.05]\n",
    "df['Fondo_B']=[.05, .06, .03, .06]\n",
    "\n",
    "df"
   ]
  },
  {
   "cell_type": "code",
   "execution_count": 12,
   "id": "9f30c046",
   "metadata": {},
   "outputs": [
    {
     "data": {
      "text/plain": [
       "Fondo_A    4.0\n",
       "Fondo_B    5.0\n",
       "dtype: float64"
      ]
     },
     "execution_count": 12,
     "metadata": {},
     "output_type": "execute_result"
    }
   ],
   "source": [
    "# Media Aritmética\n",
    "media_a = df.mean()\n",
    "media_a*100"
   ]
  },
  {
   "cell_type": "code",
   "execution_count": 13,
   "id": "111209d8",
   "metadata": {},
   "outputs": [
    {
     "data": {
      "text/plain": [
       "Fondo_A    3.150722\n",
       "Fondo_B    4.992811\n",
       "dtype: float64"
      ]
     },
     "execution_count": 13,
     "metadata": {},
     "output_type": "execute_result"
    }
   ],
   "source": [
    "media_g=((df + 1).prod())**(1/len(df))-1\n",
    "media_g*100"
   ]
  },
  {
   "cell_type": "code",
   "execution_count": 19,
   "id": "2a94eedf",
   "metadata": {},
   "outputs": [
    {
     "data": {
      "text/plain": [
       "Fondo_A    2.313088\n",
       "Fondo_B    4.985576\n",
       "dtype: float64"
      ]
     },
     "execution_count": 19,
     "metadata": {},
     "output_type": "execute_result"
    }
   ],
   "source": [
    "media_arm=len(df)/(1/(1 + df)).sum()-1\n",
    "media_arm*100"
   ]
  },
  {
   "cell_type": "markdown",
   "id": "f1120a40",
   "metadata": {},
   "source": [
    "# Rendimiento y Riesgo Esperado"
   ]
  },
  {
   "cell_type": "code",
   "execution_count": 21,
   "id": "c4c2af85",
   "metadata": {},
   "outputs": [
    {
     "data": {
      "text/html": [
       "<div>\n",
       "<style scoped>\n",
       "    .dataframe tbody tr th:only-of-type {\n",
       "        vertical-align: middle;\n",
       "    }\n",
       "\n",
       "    .dataframe tbody tr th {\n",
       "        vertical-align: top;\n",
       "    }\n",
       "\n",
       "    .dataframe thead th {\n",
       "        text-align: right;\n",
       "    }\n",
       "</style>\n",
       "<table border=\"1\" class=\"dataframe\">\n",
       "  <thead>\n",
       "    <tr style=\"text-align: right;\">\n",
       "      <th></th>\n",
       "      <th>Prob</th>\n",
       "      <th>Rend</th>\n",
       "    </tr>\n",
       "  </thead>\n",
       "  <tbody>\n",
       "    <tr>\n",
       "      <th>Bearish</th>\n",
       "      <td>0.25</td>\n",
       "      <td>-0.10</td>\n",
       "    </tr>\n",
       "    <tr>\n",
       "      <th>Neutral</th>\n",
       "      <td>0.30</td>\n",
       "      <td>0.05</td>\n",
       "    </tr>\n",
       "    <tr>\n",
       "      <th>Bullish</th>\n",
       "      <td>0.45</td>\n",
       "      <td>0.20</td>\n",
       "    </tr>\n",
       "  </tbody>\n",
       "</table>\n",
       "</div>"
      ],
      "text/plain": [
       "         Prob  Rend\n",
       "Bearish  0.25 -0.10\n",
       "Neutral  0.30  0.05\n",
       "Bullish  0.45  0.20"
      ]
     },
     "execution_count": 21,
     "metadata": {},
     "output_type": "execute_result"
    }
   ],
   "source": [
    "df=pd.DataFrame(index=['Bearish', 'Neutral', 'Bullish'])\n",
    "df['Prob']=[.25, .30, .45]\n",
    "df['Rend']=[-.1, .05, .2]\n",
    "\n",
    "df"
   ]
  },
  {
   "cell_type": "code",
   "execution_count": 24,
   "id": "d6466c81",
   "metadata": {},
   "outputs": [
    {
     "data": {
      "text/plain": [
       "8.000000000000002"
      ]
     },
     "execution_count": 24,
     "metadata": {},
     "output_type": "execute_result"
    }
   ],
   "source": [
    "# Valor Esperado (E[R])\n",
    "E_r=(df['Prob']*df['Rend']).sum()\n",
    "\n",
    "E_r*100"
   ]
  },
  {
   "cell_type": "code",
   "execution_count": 29,
   "id": "28bdda4d",
   "metadata": {},
   "outputs": [
    {
     "data": {
      "text/plain": [
       "1.485"
      ]
     },
     "execution_count": 29,
     "metadata": {},
     "output_type": "execute_result"
    }
   ],
   "source": [
    "V_r= (df['Prob'] * (df['Rend'] - E_r)**2).sum()\n",
    "V_r*100"
   ]
  },
  {
   "cell_type": "code",
   "execution_count": 31,
   "id": "09740109",
   "metadata": {},
   "outputs": [
    {
     "data": {
      "text/plain": [
       "12.18605760695394"
      ]
     },
     "execution_count": 31,
     "metadata": {},
     "output_type": "execute_result"
    }
   ],
   "source": [
    "Vol_ = np.sqrt(V_r)\n",
    "\n",
    "Vol_*100"
   ]
  },
  {
   "cell_type": "markdown",
   "id": "23c7e1ef",
   "metadata": {},
   "source": [
    "## Ejercicio 2"
   ]
  },
  {
   "cell_type": "code",
   "execution_count": 32,
   "id": "b720911c",
   "metadata": {},
   "outputs": [
    {
     "data": {
      "text/html": [
       "<div>\n",
       "<style scoped>\n",
       "    .dataframe tbody tr th:only-of-type {\n",
       "        vertical-align: middle;\n",
       "    }\n",
       "\n",
       "    .dataframe tbody tr th {\n",
       "        vertical-align: top;\n",
       "    }\n",
       "\n",
       "    .dataframe thead th {\n",
       "        text-align: right;\n",
       "    }\n",
       "</style>\n",
       "<table border=\"1\" class=\"dataframe\">\n",
       "  <thead>\n",
       "    <tr style=\"text-align: right;\">\n",
       "      <th></th>\n",
       "      <th>Prob</th>\n",
       "      <th>Tasas</th>\n",
       "    </tr>\n",
       "  </thead>\n",
       "  <tbody>\n",
       "    <tr>\n",
       "      <th>Dovish</th>\n",
       "      <td>0.7</td>\n",
       "      <td>0.020</td>\n",
       "    </tr>\n",
       "    <tr>\n",
       "      <th>Neutral</th>\n",
       "      <td>0.2</td>\n",
       "      <td>0.030</td>\n",
       "    </tr>\n",
       "    <tr>\n",
       "      <th>Hawkish</th>\n",
       "      <td>0.1</td>\n",
       "      <td>0.055</td>\n",
       "    </tr>\n",
       "  </tbody>\n",
       "</table>\n",
       "</div>"
      ],
      "text/plain": [
       "         Prob  Tasas\n",
       "Dovish    0.7  0.020\n",
       "Neutral   0.2  0.030\n",
       "Hawkish   0.1  0.055"
      ]
     },
     "execution_count": 32,
     "metadata": {},
     "output_type": "execute_result"
    }
   ],
   "source": [
    "df=pd.DataFrame(index=['Dovish', 'Neutral', 'Hawkish'])\n",
    "df['Prob']=[.7, .2, .1]\n",
    "df['Tasas']=[.02, .03, .055]\n",
    "\n",
    "df"
   ]
  },
  {
   "cell_type": "code",
   "execution_count": 34,
   "id": "719b5bd0",
   "metadata": {},
   "outputs": [
    {
     "data": {
      "text/plain": [
       "2.55"
      ]
     },
     "execution_count": 34,
     "metadata": {},
     "output_type": "execute_result"
    }
   ],
   "source": [
    "# Valor Esperado (E[R])\n",
    "E_r=(df['Prob']*df['Tasas']).sum()\n",
    "\n",
    "E_r*100"
   ]
  },
  {
   "cell_type": "code",
   "execution_count": 35,
   "id": "7e8e7801",
   "metadata": {},
   "outputs": [
    {
     "data": {
      "text/plain": [
       "0.011224999999999999"
      ]
     },
     "execution_count": 35,
     "metadata": {},
     "output_type": "execute_result"
    }
   ],
   "source": [
    "V_r= (df['Prob'] * (df['Tasas'] - E_r)**2).sum()\n",
    "\n",
    "V_r*100"
   ]
  },
  {
   "cell_type": "code",
   "execution_count": 36,
   "id": "a64ef9d5",
   "metadata": {},
   "outputs": [
    {
     "data": {
      "text/plain": [
       "1.0594810050208545"
      ]
     },
     "execution_count": 36,
     "metadata": {},
     "output_type": "execute_result"
    }
   ],
   "source": [
    "Vol_ = np.sqrt(V_r)\n",
    "\n",
    "Vol_*100"
   ]
  }
 ],
 "metadata": {
  "kernelspec": {
   "display_name": "Python 3 (ipykernel)",
   "language": "python",
   "name": "python3"
  },
  "language_info": {
   "codemirror_mode": {
    "name": "ipython",
    "version": 3
   },
   "file_extension": ".py",
   "mimetype": "text/x-python",
   "name": "python",
   "nbconvert_exporter": "python",
   "pygments_lexer": "ipython3",
   "version": "3.11.0"
  }
 },
 "nbformat": 4,
 "nbformat_minor": 5
}
