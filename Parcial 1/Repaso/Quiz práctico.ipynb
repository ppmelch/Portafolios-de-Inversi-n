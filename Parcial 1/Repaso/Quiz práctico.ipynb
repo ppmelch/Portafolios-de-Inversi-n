{
 "cells": [
  {
   "cell_type": "markdown",
   "id": "351539db",
   "metadata": {},
   "source": [
    "## QUIZ PRÁCTICO\n",
    "\n"
   ]
  },
  {
   "cell_type": "markdown",
   "id": "57e38154",
   "metadata": {},
   "source": [
    "#### ACTIVOS"
   ]
  },
  {
   "cell_type": "markdown",
   "id": "657a9226",
   "metadata": {},
   "source": [
    "- AAPL - Apple Inc.\n",
    "- JBM - JPMorgan Chase & Co.\n",
    "- XOM - Exxon Mobil Corp.\n",
    "- PG - Procter & Gamble Co. "
   ]
  },
  {
   "cell_type": "markdown",
   "id": "b8b9a2e3",
   "metadata": {},
   "source": [
    "---"
   ]
  },
  {
   "cell_type": "markdown",
   "id": "b8b581ae",
   "metadata": {},
   "source": [
    "#### Librerías"
   ]
  },
  {
   "cell_type": "code",
   "execution_count": 3,
   "id": "09ce93f8",
   "metadata": {},
   "outputs": [],
   "source": [
    "import pandas as pd\n",
    "import numpy as np\n",
    "import yfinance as yf\n",
    "import matplotlib.pyplot as plt\n"
   ]
  },
  {
   "cell_type": "markdown",
   "id": "b8c00b35",
   "metadata": {},
   "source": [
    "---"
   ]
  },
  {
   "cell_type": "markdown",
   "id": "ef02c6b8",
   "metadata": {},
   "source": [
    "## PORTAFOLIO CON PESOS\n",
    "\n",
    "Con tasa libre de riesgo de :\n",
    "\n",
    "rf = 0.08"
   ]
  },
  {
   "cell_type": "markdown",
   "id": "18367bbc",
   "metadata": {},
   "source": [
    "#### Importar Datos"
   ]
  },
  {
   "cell_type": "code",
   "execution_count": 6,
   "id": "bf0b397e",
   "metadata": {},
   "outputs": [
    {
     "name": "stderr",
     "output_type": "stream",
     "text": [
      "[*********************100%***********************]  4 of 4 completed\n"
     ]
    },
    {
     "data": {
      "text/html": [
       "<div>\n",
       "<style scoped>\n",
       "    .dataframe tbody tr th:only-of-type {\n",
       "        vertical-align: middle;\n",
       "    }\n",
       "\n",
       "    .dataframe tbody tr th {\n",
       "        vertical-align: top;\n",
       "    }\n",
       "\n",
       "    .dataframe thead th {\n",
       "        text-align: right;\n",
       "    }\n",
       "</style>\n",
       "<table border=\"1\" class=\"dataframe\">\n",
       "  <thead>\n",
       "    <tr style=\"text-align: right;\">\n",
       "      <th>Ticker</th>\n",
       "      <th>AAPL</th>\n",
       "      <th>JPM</th>\n",
       "      <th>PG</th>\n",
       "      <th>XOM</th>\n",
       "    </tr>\n",
       "    <tr>\n",
       "      <th>Date</th>\n",
       "      <th></th>\n",
       "      <th></th>\n",
       "      <th></th>\n",
       "      <th></th>\n",
       "    </tr>\n",
       "  </thead>\n",
       "  <tbody>\n",
       "    <tr>\n",
       "      <th>2018-01-02</th>\n",
       "      <td>40.426815</td>\n",
       "      <td>87.571877</td>\n",
       "      <td>74.359978</td>\n",
       "      <td>60.040218</td>\n",
       "    </tr>\n",
       "    <tr>\n",
       "      <th>2018-01-03</th>\n",
       "      <td>40.419788</td>\n",
       "      <td>87.661110</td>\n",
       "      <td>74.269753</td>\n",
       "      <td>61.219437</td>\n",
       "    </tr>\n",
       "    <tr>\n",
       "      <th>2018-01-04</th>\n",
       "      <td>40.607525</td>\n",
       "      <td>88.916924</td>\n",
       "      <td>74.794762</td>\n",
       "      <td>61.304142</td>\n",
       "    </tr>\n",
       "    <tr>\n",
       "      <th>2018-01-05</th>\n",
       "      <td>41.069866</td>\n",
       "      <td>88.346100</td>\n",
       "      <td>74.843941</td>\n",
       "      <td>61.254726</td>\n",
       "    </tr>\n",
       "    <tr>\n",
       "      <th>2018-01-08</th>\n",
       "      <td>40.917320</td>\n",
       "      <td>88.476570</td>\n",
       "      <td>75.237686</td>\n",
       "      <td>61.530090</td>\n",
       "    </tr>\n",
       "    <tr>\n",
       "      <th>...</th>\n",
       "      <td>...</td>\n",
       "      <td>...</td>\n",
       "      <td>...</td>\n",
       "      <td>...</td>\n",
       "    </tr>\n",
       "    <tr>\n",
       "      <th>2025-06-02</th>\n",
       "      <td>201.699997</td>\n",
       "      <td>264.660004</td>\n",
       "      <td>167.779999</td>\n",
       "      <td>103.050003</td>\n",
       "    </tr>\n",
       "    <tr>\n",
       "      <th>2025-06-03</th>\n",
       "      <td>203.270004</td>\n",
       "      <td>266.269989</td>\n",
       "      <td>166.850006</td>\n",
       "      <td>103.800003</td>\n",
       "    </tr>\n",
       "    <tr>\n",
       "      <th>2025-06-04</th>\n",
       "      <td>202.820007</td>\n",
       "      <td>264.220001</td>\n",
       "      <td>165.949997</td>\n",
       "      <td>102.300003</td>\n",
       "    </tr>\n",
       "    <tr>\n",
       "      <th>2025-06-05</th>\n",
       "      <td>200.630005</td>\n",
       "      <td>261.950012</td>\n",
       "      <td>162.800003</td>\n",
       "      <td>101.830002</td>\n",
       "    </tr>\n",
       "    <tr>\n",
       "      <th>2025-06-06</th>\n",
       "      <td>203.919998</td>\n",
       "      <td>265.730011</td>\n",
       "      <td>164.020004</td>\n",
       "      <td>104.269997</td>\n",
       "    </tr>\n",
       "  </tbody>\n",
       "</table>\n",
       "<p>1868 rows × 4 columns</p>\n",
       "</div>"
      ],
      "text/plain": [
       "Ticker            AAPL         JPM          PG         XOM\n",
       "Date                                                      \n",
       "2018-01-02   40.426815   87.571877   74.359978   60.040218\n",
       "2018-01-03   40.419788   87.661110   74.269753   61.219437\n",
       "2018-01-04   40.607525   88.916924   74.794762   61.304142\n",
       "2018-01-05   41.069866   88.346100   74.843941   61.254726\n",
       "2018-01-08   40.917320   88.476570   75.237686   61.530090\n",
       "...                ...         ...         ...         ...\n",
       "2025-06-02  201.699997  264.660004  167.779999  103.050003\n",
       "2025-06-03  203.270004  266.269989  166.850006  103.800003\n",
       "2025-06-04  202.820007  264.220001  165.949997  102.300003\n",
       "2025-06-05  200.630005  261.950012  162.800003  101.830002\n",
       "2025-06-06  203.919998  265.730011  164.020004  104.269997\n",
       "\n",
       "[1868 rows x 4 columns]"
      ]
     },
     "execution_count": 6,
     "metadata": {},
     "output_type": "execute_result"
    }
   ],
   "source": [
    "prices = yf.download([\"AAPL\",\"JPM\",\"XOM\",\"PG\"], start= '2018-01-01')['Close']\n",
    "prices"
   ]
  },
  {
   "cell_type": "markdown",
   "id": "31c0d7c0",
   "metadata": {},
   "source": [
    "#### PESOS"
   ]
  },
  {
   "cell_type": "code",
   "execution_count": null,
   "id": "8a67ae64",
   "metadata": {},
   "outputs": [],
   "source": [
    "w = np.array([0.25, 0.25, 0.25, 0.25])"
   ]
  },
  {
   "cell_type": "markdown",
   "id": "d27d9e9e",
   "metadata": {},
   "source": [
    "#### Rendimientos Diarios"
   ]
  },
  {
   "cell_type": "code",
   "execution_count": null,
   "id": "97db3b66",
   "metadata": {},
   "outputs": [
    {
     "data": {
      "text/html": [
       "<div>\n",
       "<style scoped>\n",
       "    .dataframe tbody tr th:only-of-type {\n",
       "        vertical-align: middle;\n",
       "    }\n",
       "\n",
       "    .dataframe tbody tr th {\n",
       "        vertical-align: top;\n",
       "    }\n",
       "\n",
       "    .dataframe thead th {\n",
       "        text-align: right;\n",
       "    }\n",
       "</style>\n",
       "<table border=\"1\" class=\"dataframe\">\n",
       "  <thead>\n",
       "    <tr style=\"text-align: right;\">\n",
       "      <th>Ticker</th>\n",
       "      <th>AAPL</th>\n",
       "      <th>JPM</th>\n",
       "      <th>PG</th>\n",
       "      <th>XOM</th>\n",
       "    </tr>\n",
       "    <tr>\n",
       "      <th>Date</th>\n",
       "      <th></th>\n",
       "      <th></th>\n",
       "      <th></th>\n",
       "      <th></th>\n",
       "    </tr>\n",
       "  </thead>\n",
       "  <tbody>\n",
       "    <tr>\n",
       "      <th>2018-01-03</th>\n",
       "      <td>-0.000174</td>\n",
       "      <td>0.001019</td>\n",
       "      <td>-0.001213</td>\n",
       "      <td>0.019640</td>\n",
       "    </tr>\n",
       "    <tr>\n",
       "      <th>2018-01-04</th>\n",
       "      <td>0.004645</td>\n",
       "      <td>0.014326</td>\n",
       "      <td>0.007069</td>\n",
       "      <td>0.001384</td>\n",
       "    </tr>\n",
       "    <tr>\n",
       "      <th>2018-01-05</th>\n",
       "      <td>0.011386</td>\n",
       "      <td>-0.006420</td>\n",
       "      <td>0.000658</td>\n",
       "      <td>-0.000806</td>\n",
       "    </tr>\n",
       "    <tr>\n",
       "      <th>2018-01-08</th>\n",
       "      <td>-0.003714</td>\n",
       "      <td>0.001477</td>\n",
       "      <td>0.005261</td>\n",
       "      <td>0.004495</td>\n",
       "    </tr>\n",
       "    <tr>\n",
       "      <th>2018-01-09</th>\n",
       "      <td>-0.000115</td>\n",
       "      <td>0.005069</td>\n",
       "      <td>-0.007305</td>\n",
       "      <td>-0.004246</td>\n",
       "    </tr>\n",
       "    <tr>\n",
       "      <th>...</th>\n",
       "      <td>...</td>\n",
       "      <td>...</td>\n",
       "      <td>...</td>\n",
       "      <td>...</td>\n",
       "    </tr>\n",
       "    <tr>\n",
       "      <th>2025-06-02</th>\n",
       "      <td>0.004232</td>\n",
       "      <td>0.002500</td>\n",
       "      <td>-0.012420</td>\n",
       "      <td>0.007331</td>\n",
       "    </tr>\n",
       "    <tr>\n",
       "      <th>2025-06-03</th>\n",
       "      <td>0.007784</td>\n",
       "      <td>0.006083</td>\n",
       "      <td>-0.005543</td>\n",
       "      <td>0.007278</td>\n",
       "    </tr>\n",
       "    <tr>\n",
       "      <th>2025-06-04</th>\n",
       "      <td>-0.002214</td>\n",
       "      <td>-0.007699</td>\n",
       "      <td>-0.005394</td>\n",
       "      <td>-0.014451</td>\n",
       "    </tr>\n",
       "    <tr>\n",
       "      <th>2025-06-05</th>\n",
       "      <td>-0.010798</td>\n",
       "      <td>-0.008591</td>\n",
       "      <td>-0.018982</td>\n",
       "      <td>-0.004594</td>\n",
       "    </tr>\n",
       "    <tr>\n",
       "      <th>2025-06-06</th>\n",
       "      <td>0.016398</td>\n",
       "      <td>0.014430</td>\n",
       "      <td>0.007494</td>\n",
       "      <td>0.023961</td>\n",
       "    </tr>\n",
       "  </tbody>\n",
       "</table>\n",
       "<p>1867 rows × 4 columns</p>\n",
       "</div>"
      ],
      "text/plain": [
       "Ticker          AAPL       JPM        PG       XOM\n",
       "Date                                              \n",
       "2018-01-03 -0.000174  0.001019 -0.001213  0.019640\n",
       "2018-01-04  0.004645  0.014326  0.007069  0.001384\n",
       "2018-01-05  0.011386 -0.006420  0.000658 -0.000806\n",
       "2018-01-08 -0.003714  0.001477  0.005261  0.004495\n",
       "2018-01-09 -0.000115  0.005069 -0.007305 -0.004246\n",
       "...              ...       ...       ...       ...\n",
       "2025-06-02  0.004232  0.002500 -0.012420  0.007331\n",
       "2025-06-03  0.007784  0.006083 -0.005543  0.007278\n",
       "2025-06-04 -0.002214 -0.007699 -0.005394 -0.014451\n",
       "2025-06-05 -0.010798 -0.008591 -0.018982 -0.004594\n",
       "2025-06-06  0.016398  0.014430  0.007494  0.023961\n",
       "\n",
       "[1867 rows x 4 columns]"
      ]
     },
     "execution_count": 7,
     "metadata": {},
     "output_type": "execute_result"
    }
   ],
   "source": [
    "ret = prices.pct_change().dropna()\n",
    "ret"
   ]
  },
  {
   "cell_type": "markdown",
   "id": "54850ba5",
   "metadata": {},
   "source": [
    "### Rendimientos Anuales\n",
    "\n"
   ]
  },
  {
   "cell_type": "code",
   "execution_count": 24,
   "id": "ac43deae",
   "metadata": {},
   "outputs": [
    {
     "data": {
      "text/plain": [
       "17.769948735004903"
      ]
     },
     "execution_count": 24,
     "metadata": {},
     "output_type": "execute_result"
    }
   ],
   "source": [
    "mean = ret.mean()*252\n",
    "ret_anual = (mean * w).sum()\n",
    "ret_anual*100"
   ]
  },
  {
   "cell_type": "markdown",
   "id": "20d4c2f8",
   "metadata": {},
   "source": [
    "#### Covarianza"
   ]
  },
  {
   "cell_type": "code",
   "execution_count": 23,
   "id": "a5efbf8b",
   "metadata": {},
   "outputs": [],
   "source": [
    "cov = ret.cov()"
   ]
  },
  {
   "cell_type": "markdown",
   "id": "820acf8b",
   "metadata": {},
   "source": [
    "#### Varianza"
   ]
  },
  {
   "cell_type": "code",
   "execution_count": 14,
   "id": "b2ddce69",
   "metadata": {},
   "outputs": [
    {
     "data": {
      "text/plain": [
       "0.016996732259343606"
      ]
     },
     "execution_count": 14,
     "metadata": {},
     "output_type": "execute_result"
    }
   ],
   "source": [
    "var = w.T@ cov @ w\n",
    "var*100"
   ]
  },
  {
   "cell_type": "markdown",
   "id": "70365192",
   "metadata": {},
   "source": [
    "#### Varianza Anual "
   ]
  },
  {
   "cell_type": "code",
   "execution_count": 15,
   "id": "1d155fb6",
   "metadata": {},
   "outputs": [
    {
     "data": {
      "text/plain": [
       "4.283176529354589"
      ]
     },
     "execution_count": 15,
     "metadata": {},
     "output_type": "execute_result"
    }
   ],
   "source": [
    "var * 252 *100"
   ]
  },
  {
   "cell_type": "markdown",
   "id": "acfbdf4e",
   "metadata": {},
   "source": [
    "#### Volatilidad"
   ]
  },
  {
   "cell_type": "code",
   "execution_count": 16,
   "id": "dd6147fa",
   "metadata": {},
   "outputs": [
    {
     "data": {
      "text/plain": [
       "1.3037151628842707"
      ]
     },
     "execution_count": 16,
     "metadata": {},
     "output_type": "execute_result"
    }
   ],
   "source": [
    "vol = np.sqrt(var)\n",
    "vol*100"
   ]
  },
  {
   "cell_type": "markdown",
   "id": "14f19ee7",
   "metadata": {},
   "source": [
    "#### Volatilidad Anual"
   ]
  },
  {
   "cell_type": "code",
   "execution_count": 17,
   "id": "3d2e048a",
   "metadata": {},
   "outputs": [
    {
     "data": {
      "text/plain": [
       "20.695836608735075"
      ]
     },
     "execution_count": 17,
     "metadata": {},
     "output_type": "execute_result"
    }
   ],
   "source": [
    "vol_anual = vol* np.sqrt(252)\n",
    "vol_anual * 100"
   ]
  },
  {
   "cell_type": "markdown",
   "id": "abbc58c5",
   "metadata": {},
   "source": [
    "#### Coeficiente de Variación"
   ]
  },
  {
   "cell_type": "code",
   "execution_count": 27,
   "id": "c278c6fd",
   "metadata": {},
   "outputs": [
    {
     "data": {
      "text/plain": [
       "1.1646537036973261"
      ]
     },
     "execution_count": 27,
     "metadata": {},
     "output_type": "execute_result"
    }
   ],
   "source": [
    "CV = vol_anual / ret_anual\n",
    "CV"
   ]
  },
  {
   "cell_type": "markdown",
   "id": "60073b54",
   "metadata": {},
   "source": [
    "Entre menor sea , es mejor "
   ]
  },
  {
   "cell_type": "markdown",
   "id": "589eff29",
   "metadata": {},
   "source": [
    "#### Ratio Sharpe"
   ]
  },
  {
   "cell_type": "code",
   "execution_count": 28,
   "id": "a4d415f8",
   "metadata": {},
   "outputs": [],
   "source": [
    "rf = 0.08"
   ]
  },
  {
   "cell_type": "code",
   "execution_count": 33,
   "id": "8d2a2084",
   "metadata": {},
   "outputs": [
    {
     "data": {
      "text/plain": [
       "47.20731478369572"
      ]
     },
     "execution_count": 33,
     "metadata": {},
     "output_type": "execute_result"
    }
   ],
   "source": [
    "RS = (ret_anual-rf) / vol_anual\n",
    "RS*100"
   ]
  },
  {
   "cell_type": "markdown",
   "id": "0b4daba6",
   "metadata": {},
   "source": [
    "Entre mayor sea, es mejor la estrategia"
   ]
  },
  {
   "cell_type": "markdown",
   "id": "a7b40f8a",
   "metadata": {},
   "source": [
    "#### Matriz de Correlación"
   ]
  },
  {
   "cell_type": "code",
   "execution_count": 20,
   "id": "8f450e5d",
   "metadata": {},
   "outputs": [
    {
     "data": {
      "text/html": [
       "<div>\n",
       "<style scoped>\n",
       "    .dataframe tbody tr th:only-of-type {\n",
       "        vertical-align: middle;\n",
       "    }\n",
       "\n",
       "    .dataframe tbody tr th {\n",
       "        vertical-align: top;\n",
       "    }\n",
       "\n",
       "    .dataframe thead th {\n",
       "        text-align: right;\n",
       "    }\n",
       "</style>\n",
       "<table border=\"1\" class=\"dataframe\">\n",
       "  <thead>\n",
       "    <tr style=\"text-align: right;\">\n",
       "      <th>Ticker</th>\n",
       "      <th>AAPL</th>\n",
       "      <th>JPM</th>\n",
       "      <th>PG</th>\n",
       "      <th>XOM</th>\n",
       "    </tr>\n",
       "    <tr>\n",
       "      <th>Ticker</th>\n",
       "      <th></th>\n",
       "      <th></th>\n",
       "      <th></th>\n",
       "      <th></th>\n",
       "    </tr>\n",
       "  </thead>\n",
       "  <tbody>\n",
       "    <tr>\n",
       "      <th>AAPL</th>\n",
       "      <td>1.000000</td>\n",
       "      <td>0.439900</td>\n",
       "      <td>0.371001</td>\n",
       "      <td>0.319995</td>\n",
       "    </tr>\n",
       "    <tr>\n",
       "      <th>JPM</th>\n",
       "      <td>0.439900</td>\n",
       "      <td>1.000000</td>\n",
       "      <td>0.329506</td>\n",
       "      <td>0.563073</td>\n",
       "    </tr>\n",
       "    <tr>\n",
       "      <th>PG</th>\n",
       "      <td>0.371001</td>\n",
       "      <td>0.329506</td>\n",
       "      <td>1.000000</td>\n",
       "      <td>0.232038</td>\n",
       "    </tr>\n",
       "    <tr>\n",
       "      <th>XOM</th>\n",
       "      <td>0.319995</td>\n",
       "      <td>0.563073</td>\n",
       "      <td>0.232038</td>\n",
       "      <td>1.000000</td>\n",
       "    </tr>\n",
       "  </tbody>\n",
       "</table>\n",
       "</div>"
      ],
      "text/plain": [
       "Ticker      AAPL       JPM        PG       XOM\n",
       "Ticker                                        \n",
       "AAPL    1.000000  0.439900  0.371001  0.319995\n",
       "JPM     0.439900  1.000000  0.329506  0.563073\n",
       "PG      0.371001  0.329506  1.000000  0.232038\n",
       "XOM     0.319995  0.563073  0.232038  1.000000"
      ]
     },
     "execution_count": 20,
     "metadata": {},
     "output_type": "execute_result"
    }
   ],
   "source": [
    "corr = ret.corr()\n",
    "corr"
   ]
  },
  {
   "cell_type": "markdown",
   "id": "075c364a",
   "metadata": {},
   "source": [
    "Los activos de esta matriz están muy correlacionados, ya que su suma supera el 1."
   ]
  },
  {
   "cell_type": "markdown",
   "id": "1a1cb89c",
   "metadata": {},
   "source": [
    "#### Media Geometrica "
   ]
  },
  {
   "cell_type": "code",
   "execution_count": 38,
   "id": "039b3108",
   "metadata": {},
   "outputs": [
    {
     "data": {
      "text/plain": [
       "Ticker\n",
       "AAPL    0.086713\n",
       "JPM     0.059472\n",
       "PG      0.042380\n",
       "XOM     0.029569\n",
       "dtype: float64"
      ]
     },
     "execution_count": 38,
     "metadata": {},
     "output_type": "execute_result"
    }
   ],
   "source": [
    "Media_geo = (1 + ret).prod()**(1/len(ret)) - 1\n",
    "Media_geo * 100"
   ]
  },
  {
   "cell_type": "markdown",
   "id": "810a3985",
   "metadata": {},
   "source": [
    "#### Media Armónica"
   ]
  },
  {
   "cell_type": "code",
   "execution_count": 36,
   "id": "bb281b4b",
   "metadata": {},
   "outputs": [
    {
     "data": {
      "text/plain": [
       "Ticker\n",
       "AAPL    0.067152\n",
       "JPM     0.042072\n",
       "PG      0.034239\n",
       "XOM     0.010660\n",
       "dtype: float64"
      ]
     },
     "execution_count": 36,
     "metadata": {},
     "output_type": "execute_result"
    }
   ],
   "source": [
    "media_armo = (len(ret)/((1/(1+ret)).sum())) -1\n",
    "media_armo*100"
   ]
  },
  {
   "cell_type": "markdown",
   "id": "73e876f9",
   "metadata": {},
   "source": [
    "#### Valor Esperado"
   ]
  },
  {
   "cell_type": "code",
   "execution_count": 40,
   "id": "4167664b",
   "metadata": {},
   "outputs": [
    {
     "data": {
      "text/plain": [
       "Ticker\n",
       "AAPL    5.044177\n",
       "JPM     3.034422\n",
       "PG      2.205757\n",
       "XOM     1.736669\n",
       "dtype: float64"
      ]
     },
     "execution_count": 40,
     "metadata": {},
     "output_type": "execute_result"
    }
   ],
   "source": [
    "valor_esp = (1 + ret).prod()\n",
    "valor_esp"
   ]
  },
  {
   "cell_type": "markdown",
   "id": "8aedf602",
   "metadata": {},
   "source": [
    "#### Varianza Esperada"
   ]
  },
  {
   "cell_type": "code",
   "execution_count": 39,
   "id": "93f72928",
   "metadata": {},
   "outputs": [
    {
     "data": {
      "text/plain": [
       "Ticker\n",
       "AAPL    9.861110\n",
       "JPM     8.785845\n",
       "PG      4.104165\n",
       "XOM     9.497811\n",
       "dtype: float64"
      ]
     },
     "execution_count": 39,
     "metadata": {},
     "output_type": "execute_result"
    }
   ],
   "source": [
    "varianza_esp = (1/len(ret)) * ((ret - ret.mean())**2).sum()\n",
    "varianza_esp * 252 * 100\n"
   ]
  },
  {
   "cell_type": "markdown",
   "id": "93a44c58",
   "metadata": {},
   "source": [
    "#### Volatilidad Esperada"
   ]
  },
  {
   "cell_type": "code",
   "execution_count": 41,
   "id": "07d9cac7",
   "metadata": {},
   "outputs": [
    {
     "data": {
      "text/plain": [
       "Ticker\n",
       "AAPL    1.978166\n",
       "JPM     1.867203\n",
       "PG      1.276181\n",
       "XOM     1.941384\n",
       "dtype: float64"
      ]
     },
     "execution_count": 41,
     "metadata": {},
     "output_type": "execute_result"
    }
   ],
   "source": [
    "vol_esp= np.sqrt(varianza_esp)\n",
    "vol_esp * 100"
   ]
  },
  {
   "cell_type": "code",
   "execution_count": null,
   "id": "b22e8a8f",
   "metadata": {},
   "outputs": [],
   "source": []
  }
 ],
 "metadata": {
  "kernelspec": {
   "display_name": "Python 3",
   "language": "python",
   "name": "python3"
  },
  "language_info": {
   "codemirror_mode": {
    "name": "ipython",
    "version": 3
   },
   "file_extension": ".py",
   "mimetype": "text/x-python",
   "name": "python",
   "nbconvert_exporter": "python",
   "pygments_lexer": "ipython3",
   "version": "3.12.8"
  }
 },
 "nbformat": 4,
 "nbformat_minor": 5
}
