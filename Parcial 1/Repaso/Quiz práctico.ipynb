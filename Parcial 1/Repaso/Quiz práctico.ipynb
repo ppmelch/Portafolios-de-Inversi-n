{
 "cells": [
  {
   "cell_type": "markdown",
   "id": "351539db",
   "metadata": {},
   "source": [
    "## QUIZ PRÁCTICO\n",
    "\n"
   ]
  },
  {
   "cell_type": "markdown",
   "id": "57e38154",
   "metadata": {},
   "source": [
    "#### ACTIVOS"
   ]
  },
  {
   "cell_type": "markdown",
   "id": "657a9226",
   "metadata": {},
   "source": [
    "- AAPL - Apple Inc.\n",
    "- JBM - JPMorgan Chase & Co.\n",
    "- XOM - Exxon Mobil Corp.\n",
    "- PG - Procter & Gamble Co. "
   ]
  },
  {
   "cell_type": "markdown",
   "id": "b8b9a2e3",
   "metadata": {},
   "source": [
    "---"
   ]
  },
  {
   "cell_type": "markdown",
   "id": "b8b581ae",
   "metadata": {},
   "source": [
    "#### Librerías"
   ]
  },
  {
   "cell_type": "code",
   "execution_count": 117,
   "id": "09ce93f8",
   "metadata": {},
   "outputs": [],
   "source": [
    "import pandas as pd\n",
    "import numpy as np\n",
    "import yfinance as yf\n",
    "import matplotlib.pyplot as plt\n"
   ]
  },
  {
   "cell_type": "markdown",
   "id": "b8c00b35",
   "metadata": {},
   "source": [
    "---"
   ]
  },
  {
   "cell_type": "markdown",
   "id": "ef02c6b8",
   "metadata": {},
   "source": [
    "## PORTAFOLIO CON PESOS\n",
    "\n",
    "Con tasa libre de riesgo de :\n",
    "\n",
    "rf = 0.08"
   ]
  },
  {
   "cell_type": "markdown",
   "id": "18367bbc",
   "metadata": {},
   "source": [
    "#### Importar Datos"
   ]
  },
  {
   "cell_type": "code",
   "execution_count": 118,
   "id": "bf0b397e",
   "metadata": {},
   "outputs": [
    {
     "name": "stderr",
     "output_type": "stream",
     "text": [
      "[*********************100%***********************]  4 of 4 completed\n"
     ]
    },
    {
     "data": {
      "text/html": [
       "<div>\n",
       "<style scoped>\n",
       "    .dataframe tbody tr th:only-of-type {\n",
       "        vertical-align: middle;\n",
       "    }\n",
       "\n",
       "    .dataframe tbody tr th {\n",
       "        vertical-align: top;\n",
       "    }\n",
       "\n",
       "    .dataframe thead th {\n",
       "        text-align: right;\n",
       "    }\n",
       "</style>\n",
       "<table border=\"1\" class=\"dataframe\">\n",
       "  <thead>\n",
       "    <tr style=\"text-align: right;\">\n",
       "      <th>Ticker</th>\n",
       "      <th>AAPL</th>\n",
       "      <th>JPM</th>\n",
       "      <th>PG</th>\n",
       "      <th>XOM</th>\n",
       "    </tr>\n",
       "    <tr>\n",
       "      <th>Date</th>\n",
       "      <th></th>\n",
       "      <th></th>\n",
       "      <th></th>\n",
       "      <th></th>\n",
       "    </tr>\n",
       "  </thead>\n",
       "  <tbody>\n",
       "    <tr>\n",
       "      <th>2018-01-02</th>\n",
       "      <td>40.426815</td>\n",
       "      <td>87.571877</td>\n",
       "      <td>74.359993</td>\n",
       "      <td>60.040215</td>\n",
       "    </tr>\n",
       "    <tr>\n",
       "      <th>2018-01-03</th>\n",
       "      <td>40.419785</td>\n",
       "      <td>87.661125</td>\n",
       "      <td>74.269760</td>\n",
       "      <td>61.219410</td>\n",
       "    </tr>\n",
       "    <tr>\n",
       "      <th>2018-01-04</th>\n",
       "      <td>40.607529</td>\n",
       "      <td>88.916908</td>\n",
       "      <td>74.794746</td>\n",
       "      <td>61.304150</td>\n",
       "    </tr>\n",
       "    <tr>\n",
       "      <th>2018-01-05</th>\n",
       "      <td>41.069862</td>\n",
       "      <td>88.346100</td>\n",
       "      <td>74.843956</td>\n",
       "      <td>61.254730</td>\n",
       "    </tr>\n",
       "    <tr>\n",
       "      <th>2018-01-08</th>\n",
       "      <td>40.917320</td>\n",
       "      <td>88.476578</td>\n",
       "      <td>75.237701</td>\n",
       "      <td>61.530106</td>\n",
       "    </tr>\n",
       "    <tr>\n",
       "      <th>...</th>\n",
       "      <td>...</td>\n",
       "      <td>...</td>\n",
       "      <td>...</td>\n",
       "      <td>...</td>\n",
       "    </tr>\n",
       "    <tr>\n",
       "      <th>2025-06-03</th>\n",
       "      <td>203.270004</td>\n",
       "      <td>266.269989</td>\n",
       "      <td>166.850006</td>\n",
       "      <td>103.800003</td>\n",
       "    </tr>\n",
       "    <tr>\n",
       "      <th>2025-06-04</th>\n",
       "      <td>202.820007</td>\n",
       "      <td>264.220001</td>\n",
       "      <td>165.949997</td>\n",
       "      <td>102.300003</td>\n",
       "    </tr>\n",
       "    <tr>\n",
       "      <th>2025-06-05</th>\n",
       "      <td>200.630005</td>\n",
       "      <td>261.950012</td>\n",
       "      <td>162.800003</td>\n",
       "      <td>101.830002</td>\n",
       "    </tr>\n",
       "    <tr>\n",
       "      <th>2025-06-06</th>\n",
       "      <td>203.919998</td>\n",
       "      <td>265.730011</td>\n",
       "      <td>164.020004</td>\n",
       "      <td>104.269997</td>\n",
       "    </tr>\n",
       "    <tr>\n",
       "      <th>2025-06-09</th>\n",
       "      <td>204.399994</td>\n",
       "      <td>265.549988</td>\n",
       "      <td>162.929993</td>\n",
       "      <td>105.089996</td>\n",
       "    </tr>\n",
       "  </tbody>\n",
       "</table>\n",
       "<p>1869 rows × 4 columns</p>\n",
       "</div>"
      ],
      "text/plain": [
       "Ticker            AAPL         JPM          PG         XOM\n",
       "Date                                                      \n",
       "2018-01-02   40.426815   87.571877   74.359993   60.040215\n",
       "2018-01-03   40.419785   87.661125   74.269760   61.219410\n",
       "2018-01-04   40.607529   88.916908   74.794746   61.304150\n",
       "2018-01-05   41.069862   88.346100   74.843956   61.254730\n",
       "2018-01-08   40.917320   88.476578   75.237701   61.530106\n",
       "...                ...         ...         ...         ...\n",
       "2025-06-03  203.270004  266.269989  166.850006  103.800003\n",
       "2025-06-04  202.820007  264.220001  165.949997  102.300003\n",
       "2025-06-05  200.630005  261.950012  162.800003  101.830002\n",
       "2025-06-06  203.919998  265.730011  164.020004  104.269997\n",
       "2025-06-09  204.399994  265.549988  162.929993  105.089996\n",
       "\n",
       "[1869 rows x 4 columns]"
      ]
     },
     "execution_count": 118,
     "metadata": {},
     "output_type": "execute_result"
    }
   ],
   "source": [
    "prices = yf.download([\"AAPL\",\"JPM\",\"XOM\",\"PG\"], start= '2018-01-01')['Close']\n",
    "prices"
   ]
  },
  {
   "cell_type": "markdown",
   "id": "31c0d7c0",
   "metadata": {},
   "source": [
    "#### PESOS"
   ]
  },
  {
   "cell_type": "code",
   "execution_count": 119,
   "id": "8a67ae64",
   "metadata": {},
   "outputs": [],
   "source": [
    "w = np.array([0.25, 0.25, 0.25, 0.25])"
   ]
  },
  {
   "cell_type": "markdown",
   "id": "d27d9e9e",
   "metadata": {},
   "source": [
    "#### Rendimientos Diarios"
   ]
  },
  {
   "cell_type": "code",
   "execution_count": 120,
   "id": "97db3b66",
   "metadata": {},
   "outputs": [
    {
     "data": {
      "text/html": [
       "<div>\n",
       "<style scoped>\n",
       "    .dataframe tbody tr th:only-of-type {\n",
       "        vertical-align: middle;\n",
       "    }\n",
       "\n",
       "    .dataframe tbody tr th {\n",
       "        vertical-align: top;\n",
       "    }\n",
       "\n",
       "    .dataframe thead th {\n",
       "        text-align: right;\n",
       "    }\n",
       "</style>\n",
       "<table border=\"1\" class=\"dataframe\">\n",
       "  <thead>\n",
       "    <tr style=\"text-align: right;\">\n",
       "      <th>Ticker</th>\n",
       "      <th>AAPL</th>\n",
       "      <th>JPM</th>\n",
       "      <th>PG</th>\n",
       "      <th>XOM</th>\n",
       "    </tr>\n",
       "    <tr>\n",
       "      <th>Date</th>\n",
       "      <th></th>\n",
       "      <th></th>\n",
       "      <th></th>\n",
       "      <th></th>\n",
       "    </tr>\n",
       "  </thead>\n",
       "  <tbody>\n",
       "    <tr>\n",
       "      <th>2018-01-03</th>\n",
       "      <td>-0.000174</td>\n",
       "      <td>0.001019</td>\n",
       "      <td>-0.001213</td>\n",
       "      <td>0.019640</td>\n",
       "    </tr>\n",
       "    <tr>\n",
       "      <th>2018-01-04</th>\n",
       "      <td>0.004645</td>\n",
       "      <td>0.014325</td>\n",
       "      <td>0.007069</td>\n",
       "      <td>0.001384</td>\n",
       "    </tr>\n",
       "    <tr>\n",
       "      <th>2018-01-05</th>\n",
       "      <td>0.011385</td>\n",
       "      <td>-0.006420</td>\n",
       "      <td>0.000658</td>\n",
       "      <td>-0.000806</td>\n",
       "    </tr>\n",
       "    <tr>\n",
       "      <th>2018-01-08</th>\n",
       "      <td>-0.003714</td>\n",
       "      <td>0.001477</td>\n",
       "      <td>0.005261</td>\n",
       "      <td>0.004496</td>\n",
       "    </tr>\n",
       "    <tr>\n",
       "      <th>2018-01-09</th>\n",
       "      <td>-0.000115</td>\n",
       "      <td>0.005069</td>\n",
       "      <td>-0.007305</td>\n",
       "      <td>-0.004246</td>\n",
       "    </tr>\n",
       "    <tr>\n",
       "      <th>...</th>\n",
       "      <td>...</td>\n",
       "      <td>...</td>\n",
       "      <td>...</td>\n",
       "      <td>...</td>\n",
       "    </tr>\n",
       "    <tr>\n",
       "      <th>2025-06-03</th>\n",
       "      <td>0.007784</td>\n",
       "      <td>0.006083</td>\n",
       "      <td>-0.005543</td>\n",
       "      <td>0.007278</td>\n",
       "    </tr>\n",
       "    <tr>\n",
       "      <th>2025-06-04</th>\n",
       "      <td>-0.002214</td>\n",
       "      <td>-0.007699</td>\n",
       "      <td>-0.005394</td>\n",
       "      <td>-0.014451</td>\n",
       "    </tr>\n",
       "    <tr>\n",
       "      <th>2025-06-05</th>\n",
       "      <td>-0.010798</td>\n",
       "      <td>-0.008591</td>\n",
       "      <td>-0.018982</td>\n",
       "      <td>-0.004594</td>\n",
       "    </tr>\n",
       "    <tr>\n",
       "      <th>2025-06-06</th>\n",
       "      <td>0.016398</td>\n",
       "      <td>0.014430</td>\n",
       "      <td>0.007494</td>\n",
       "      <td>0.023961</td>\n",
       "    </tr>\n",
       "    <tr>\n",
       "      <th>2025-06-09</th>\n",
       "      <td>0.002354</td>\n",
       "      <td>-0.000677</td>\n",
       "      <td>-0.006646</td>\n",
       "      <td>0.007864</td>\n",
       "    </tr>\n",
       "  </tbody>\n",
       "</table>\n",
       "<p>1868 rows × 4 columns</p>\n",
       "</div>"
      ],
      "text/plain": [
       "Ticker          AAPL       JPM        PG       XOM\n",
       "Date                                              \n",
       "2018-01-03 -0.000174  0.001019 -0.001213  0.019640\n",
       "2018-01-04  0.004645  0.014325  0.007069  0.001384\n",
       "2018-01-05  0.011385 -0.006420  0.000658 -0.000806\n",
       "2018-01-08 -0.003714  0.001477  0.005261  0.004496\n",
       "2018-01-09 -0.000115  0.005069 -0.007305 -0.004246\n",
       "...              ...       ...       ...       ...\n",
       "2025-06-03  0.007784  0.006083 -0.005543  0.007278\n",
       "2025-06-04 -0.002214 -0.007699 -0.005394 -0.014451\n",
       "2025-06-05 -0.010798 -0.008591 -0.018982 -0.004594\n",
       "2025-06-06  0.016398  0.014430  0.007494  0.023961\n",
       "2025-06-09  0.002354 -0.000677 -0.006646  0.007864\n",
       "\n",
       "[1868 rows x 4 columns]"
      ]
     },
     "execution_count": 120,
     "metadata": {},
     "output_type": "execute_result"
    }
   ],
   "source": [
    "ret = prices.pct_change().dropna()\n",
    "ret"
   ]
  },
  {
   "cell_type": "markdown",
   "id": "54850ba5",
   "metadata": {},
   "source": [
    "### Rendimientos Anuales\n",
    "\n"
   ]
  },
  {
   "cell_type": "code",
   "execution_count": 121,
   "id": "ac43deae",
   "metadata": {},
   "outputs": [
    {
     "data": {
      "text/plain": [
       "17.770198591704066"
      ]
     },
     "execution_count": 121,
     "metadata": {},
     "output_type": "execute_result"
    }
   ],
   "source": [
    "mean = ret.mean()*252\n",
    "ret_anual = (mean * w).sum()\n",
    "ret_anual*100"
   ]
  },
  {
   "cell_type": "markdown",
   "id": "20d4c2f8",
   "metadata": {},
   "source": [
    "#### Covarianza"
   ]
  },
  {
   "cell_type": "code",
   "execution_count": 122,
   "id": "a5efbf8b",
   "metadata": {},
   "outputs": [],
   "source": [
    "cov = ret.cov()"
   ]
  },
  {
   "cell_type": "markdown",
   "id": "820acf8b",
   "metadata": {},
   "source": [
    "#### Varianza"
   ]
  },
  {
   "cell_type": "code",
   "execution_count": 123,
   "id": "b2ddce69",
   "metadata": {},
   "outputs": [
    {
     "data": {
      "text/plain": [
       "0.016987614952366788"
      ]
     },
     "execution_count": 123,
     "metadata": {},
     "output_type": "execute_result"
    }
   ],
   "source": [
    "var = w.T@ cov @ w\n",
    "var*100"
   ]
  },
  {
   "cell_type": "markdown",
   "id": "70365192",
   "metadata": {},
   "source": [
    "#### Varianza Anual "
   ]
  },
  {
   "cell_type": "code",
   "execution_count": 124,
   "id": "1d155fb6",
   "metadata": {},
   "outputs": [
    {
     "data": {
      "text/plain": [
       "4.280878967996431"
      ]
     },
     "execution_count": 124,
     "metadata": {},
     "output_type": "execute_result"
    }
   ],
   "source": [
    "var * 252 *100"
   ]
  },
  {
   "cell_type": "markdown",
   "id": "acfbdf4e",
   "metadata": {},
   "source": [
    "#### Volatilidad"
   ]
  },
  {
   "cell_type": "code",
   "execution_count": 125,
   "id": "dd6147fa",
   "metadata": {},
   "outputs": [
    {
     "data": {
      "text/plain": [
       "1.303365449609847"
      ]
     },
     "execution_count": 125,
     "metadata": {},
     "output_type": "execute_result"
    }
   ],
   "source": [
    "vol = np.sqrt(var)\n",
    "vol*100"
   ]
  },
  {
   "cell_type": "markdown",
   "id": "14f19ee7",
   "metadata": {},
   "source": [
    "#### Volatilidad Anual"
   ]
  },
  {
   "cell_type": "code",
   "execution_count": 126,
   "id": "3d2e048a",
   "metadata": {},
   "outputs": [
    {
     "data": {
      "text/plain": [
       "20.690285082609254"
      ]
     },
     "execution_count": 126,
     "metadata": {},
     "output_type": "execute_result"
    }
   ],
   "source": [
    "vol_anual = vol* np.sqrt(252)\n",
    "vol_anual * 100"
   ]
  },
  {
   "cell_type": "markdown",
   "id": "abbc58c5",
   "metadata": {},
   "source": [
    "#### Coeficiente de Variación"
   ]
  },
  {
   "cell_type": "code",
   "execution_count": 127,
   "id": "c278c6fd",
   "metadata": {},
   "outputs": [
    {
     "data": {
      "text/plain": [
       "1.1643249216285303"
      ]
     },
     "execution_count": 127,
     "metadata": {},
     "output_type": "execute_result"
    }
   ],
   "source": [
    "CV = vol_anual / ret_anual\n",
    "CV"
   ]
  },
  {
   "cell_type": "markdown",
   "id": "60073b54",
   "metadata": {},
   "source": [
    "Entre menor sea , es mejor "
   ]
  },
  {
   "cell_type": "markdown",
   "id": "589eff29",
   "metadata": {},
   "source": [
    "#### Ratio Sharpe"
   ]
  },
  {
   "cell_type": "code",
   "execution_count": 128,
   "id": "a4d415f8",
   "metadata": {},
   "outputs": [],
   "source": [
    "rf = 0.08"
   ]
  },
  {
   "cell_type": "code",
   "execution_count": 129,
   "id": "8d2a2084",
   "metadata": {},
   "outputs": [
    {
     "data": {
      "text/plain": [
       "47.22118884633533"
      ]
     },
     "execution_count": 129,
     "metadata": {},
     "output_type": "execute_result"
    }
   ],
   "source": [
    "RS = (ret_anual-rf) / vol_anual\n",
    "RS*100"
   ]
  },
  {
   "cell_type": "markdown",
   "id": "0b4daba6",
   "metadata": {},
   "source": [
    "Entre mayor sea, es mejor la estrategia"
   ]
  },
  {
   "cell_type": "markdown",
   "id": "a7b40f8a",
   "metadata": {},
   "source": [
    "#### Matriz de Correlación"
   ]
  },
  {
   "cell_type": "code",
   "execution_count": 130,
   "id": "8f450e5d",
   "metadata": {},
   "outputs": [
    {
     "data": {
      "text/html": [
       "<div>\n",
       "<style scoped>\n",
       "    .dataframe tbody tr th:only-of-type {\n",
       "        vertical-align: middle;\n",
       "    }\n",
       "\n",
       "    .dataframe tbody tr th {\n",
       "        vertical-align: top;\n",
       "    }\n",
       "\n",
       "    .dataframe thead th {\n",
       "        text-align: right;\n",
       "    }\n",
       "</style>\n",
       "<table border=\"1\" class=\"dataframe\">\n",
       "  <thead>\n",
       "    <tr style=\"text-align: right;\">\n",
       "      <th>Ticker</th>\n",
       "      <th>AAPL</th>\n",
       "      <th>JPM</th>\n",
       "      <th>PG</th>\n",
       "      <th>XOM</th>\n",
       "    </tr>\n",
       "    <tr>\n",
       "      <th>Ticker</th>\n",
       "      <th></th>\n",
       "      <th></th>\n",
       "      <th></th>\n",
       "      <th></th>\n",
       "    </tr>\n",
       "  </thead>\n",
       "  <tbody>\n",
       "    <tr>\n",
       "      <th>AAPL</th>\n",
       "      <td>1.000000</td>\n",
       "      <td>0.439896</td>\n",
       "      <td>0.370949</td>\n",
       "      <td>0.319995</td>\n",
       "    </tr>\n",
       "    <tr>\n",
       "      <th>JPM</th>\n",
       "      <td>0.439896</td>\n",
       "      <td>1.000000</td>\n",
       "      <td>0.329501</td>\n",
       "      <td>0.563034</td>\n",
       "    </tr>\n",
       "    <tr>\n",
       "      <th>PG</th>\n",
       "      <td>0.370949</td>\n",
       "      <td>0.329501</td>\n",
       "      <td>1.000000</td>\n",
       "      <td>0.231895</td>\n",
       "    </tr>\n",
       "    <tr>\n",
       "      <th>XOM</th>\n",
       "      <td>0.319995</td>\n",
       "      <td>0.563034</td>\n",
       "      <td>0.231895</td>\n",
       "      <td>1.000000</td>\n",
       "    </tr>\n",
       "  </tbody>\n",
       "</table>\n",
       "</div>"
      ],
      "text/plain": [
       "Ticker      AAPL       JPM        PG       XOM\n",
       "Ticker                                        \n",
       "AAPL    1.000000  0.439896  0.370949  0.319995\n",
       "JPM     0.439896  1.000000  0.329501  0.563034\n",
       "PG      0.370949  0.329501  1.000000  0.231895\n",
       "XOM     0.319995  0.563034  0.231895  1.000000"
      ]
     },
     "execution_count": 130,
     "metadata": {},
     "output_type": "execute_result"
    }
   ],
   "source": [
    "corr = ret.corr()\n",
    "corr"
   ]
  },
  {
   "cell_type": "markdown",
   "id": "075c364a",
   "metadata": {},
   "source": [
    "Los activos de esta matriz están muy correlacionados, ya que su suma supera el 1."
   ]
  },
  {
   "cell_type": "markdown",
   "id": "1a1cb89c",
   "metadata": {},
   "source": [
    "#### Media Geometrica "
   ]
  },
  {
   "cell_type": "code",
   "execution_count": 131,
   "id": "039b3108",
   "metadata": {},
   "outputs": [
    {
     "data": {
      "text/plain": [
       "Ticker\n",
       "AAPL    0.086793\n",
       "JPM     0.059404\n",
       "PG      0.042000\n",
       "XOM     0.029973\n",
       "dtype: float64"
      ]
     },
     "execution_count": 131,
     "metadata": {},
     "output_type": "execute_result"
    }
   ],
   "source": [
    "Media_geo = (1 + ret).prod()**(1/len(ret)) - 1\n",
    "Media_geo * 100"
   ]
  },
  {
   "cell_type": "markdown",
   "id": "810a3985",
   "metadata": {},
   "source": [
    "#### Media Armónica"
   ]
  },
  {
   "cell_type": "code",
   "execution_count": 132,
   "id": "bb281b4b",
   "metadata": {},
   "outputs": [
    {
     "data": {
      "text/plain": [
       "Ticker\n",
       "AAPL    0.067242\n",
       "JPM     0.042013\n",
       "PG      0.033863\n",
       "XOM     0.011072\n",
       "dtype: float64"
      ]
     },
     "execution_count": 132,
     "metadata": {},
     "output_type": "execute_result"
    }
   ],
   "source": [
    "media_armo = (len(ret)/((1/(1+ret)).sum())) -1\n",
    "media_armo*100"
   ]
  },
  {
   "cell_type": "markdown",
   "id": "73e876f9",
   "metadata": {},
   "source": [
    "#### Valor Esperado"
   ]
  },
  {
   "cell_type": "code",
   "execution_count": 133,
   "id": "4167664b",
   "metadata": {},
   "outputs": [
    {
     "data": {
      "text/plain": [
       "Ticker\n",
       "AAPL    5.056050\n",
       "JPM     3.032366\n",
       "PG      2.191097\n",
       "XOM     1.750327\n",
       "dtype: float64"
      ]
     },
     "execution_count": 133,
     "metadata": {},
     "output_type": "execute_result"
    }
   ],
   "source": [
    "valor_esp = (1 + ret).prod()\n",
    "valor_esp"
   ]
  },
  {
   "cell_type": "markdown",
   "id": "8aedf602",
   "metadata": {},
   "source": [
    "#### Varianza Esperada"
   ]
  },
  {
   "cell_type": "code",
   "execution_count": 134,
   "id": "93f72928",
   "metadata": {},
   "outputs": [
    {
     "data": {
      "text/plain": [
       "Ticker\n",
       "AAPL    9.855856\n",
       "JPM     8.781171\n",
       "PG      4.102653\n",
       "XOM     9.493458\n",
       "dtype: float64"
      ]
     },
     "execution_count": 134,
     "metadata": {},
     "output_type": "execute_result"
    }
   ],
   "source": [
    "varianza_esp = (1/len(ret)) * ((ret - ret.mean())**2).sum()\n",
    "varianza_esp * 252 * 100\n"
   ]
  },
  {
   "cell_type": "markdown",
   "id": "93a44c58",
   "metadata": {},
   "source": [
    "#### Volatilidad Esperada"
   ]
  },
  {
   "cell_type": "code",
   "execution_count": 135,
   "id": "07d9cac7",
   "metadata": {},
   "outputs": [
    {
     "data": {
      "text/plain": [
       "Ticker\n",
       "AAPL    1.977639\n",
       "JPM     1.866706\n",
       "PG      1.275945\n",
       "XOM     1.940939\n",
       "dtype: float64"
      ]
     },
     "execution_count": 135,
     "metadata": {},
     "output_type": "execute_result"
    }
   ],
   "source": [
    "vol_esp= np.sqrt(varianza_esp)\n",
    "vol_esp * 100"
   ]
  },
  {
   "cell_type": "markdown",
   "id": "b91f6f04",
   "metadata": {},
   "source": [
    "---\n",
    "\n",
    "## PORTAFOLIO Indice\n",
    "\n",
    "- Activo : ^TWII\n",
    "\n",
    "Con tasa libre de riesgo de :\n",
    "\n",
    "rf = 0.08"
   ]
  },
  {
   "cell_type": "markdown",
   "id": "e682a930",
   "metadata": {},
   "source": [
    "#### Calcular\n",
    "- Rendimiento diario\n",
    "- Rendimiento anual \n",
    "- Covarianza\n",
    "- Varianza \n",
    "- Varianza anual\n",
    "- Volatilidad diaria\n",
    "- Volatilidad anual\n",
    "- Coeficiente de Variación \n",
    "- Ratio Sharpe\n",
    "- Matriz de Correlación"
   ]
  },
  {
   "cell_type": "markdown",
   "id": "4875d45f",
   "metadata": {},
   "source": [
    "#### Importar datos"
   ]
  },
  {
   "cell_type": "code",
   "execution_count": 136,
   "id": "b22e8a8f",
   "metadata": {},
   "outputs": [],
   "source": [
    "import yfinance as yf\n",
    "import matplotlib.pyplot as plt\n",
    "import pandas as pd\n",
    "import numpy as np"
   ]
  },
  {
   "cell_type": "markdown",
   "id": "0a8f8ca1",
   "metadata": {},
   "source": [
    "#### Rendimiento Diario\n"
   ]
  },
  {
   "cell_type": "code",
   "execution_count": 137,
   "id": "33c6a6e0",
   "metadata": {},
   "outputs": [
    {
     "name": "stderr",
     "output_type": "stream",
     "text": [
      "[*********************100%***********************]  1 of 1 completed\n"
     ]
    },
    {
     "data": {
      "text/html": [
       "<div>\n",
       "<style scoped>\n",
       "    .dataframe tbody tr th:only-of-type {\n",
       "        vertical-align: middle;\n",
       "    }\n",
       "\n",
       "    .dataframe tbody tr th {\n",
       "        vertical-align: top;\n",
       "    }\n",
       "\n",
       "    .dataframe thead th {\n",
       "        text-align: right;\n",
       "    }\n",
       "</style>\n",
       "<table border=\"1\" class=\"dataframe\">\n",
       "  <thead>\n",
       "    <tr style=\"text-align: right;\">\n",
       "      <th>Ticker</th>\n",
       "      <th>^TWII</th>\n",
       "    </tr>\n",
       "    <tr>\n",
       "      <th>Date</th>\n",
       "      <th></th>\n",
       "    </tr>\n",
       "  </thead>\n",
       "  <tbody>\n",
       "    <tr>\n",
       "      <th>2015-01-05</th>\n",
       "      <td>9274.068359</td>\n",
       "    </tr>\n",
       "    <tr>\n",
       "      <th>2015-01-06</th>\n",
       "      <td>9048.298828</td>\n",
       "    </tr>\n",
       "    <tr>\n",
       "      <th>2015-01-07</th>\n",
       "      <td>9080.047852</td>\n",
       "    </tr>\n",
       "    <tr>\n",
       "      <th>2015-01-08</th>\n",
       "      <td>9237.988281</td>\n",
       "    </tr>\n",
       "    <tr>\n",
       "      <th>2015-01-09</th>\n",
       "      <td>9215.538086</td>\n",
       "    </tr>\n",
       "    <tr>\n",
       "      <th>...</th>\n",
       "      <td>...</td>\n",
       "    </tr>\n",
       "    <tr>\n",
       "      <th>2025-06-03</th>\n",
       "      <td>21126.929688</td>\n",
       "    </tr>\n",
       "    <tr>\n",
       "      <th>2025-06-04</th>\n",
       "      <td>21618.089844</td>\n",
       "    </tr>\n",
       "    <tr>\n",
       "      <th>2025-06-05</th>\n",
       "      <td>21674.429688</td>\n",
       "    </tr>\n",
       "    <tr>\n",
       "      <th>2025-06-06</th>\n",
       "      <td>21660.660156</td>\n",
       "    </tr>\n",
       "    <tr>\n",
       "      <th>2025-06-09</th>\n",
       "      <td>21790.289062</td>\n",
       "    </tr>\n",
       "  </tbody>\n",
       "</table>\n",
       "<p>2531 rows × 1 columns</p>\n",
       "</div>"
      ],
      "text/plain": [
       "Ticker             ^TWII\n",
       "Date                    \n",
       "2015-01-05   9274.068359\n",
       "2015-01-06   9048.298828\n",
       "2015-01-07   9080.047852\n",
       "2015-01-08   9237.988281\n",
       "2015-01-09   9215.538086\n",
       "...                  ...\n",
       "2025-06-03  21126.929688\n",
       "2025-06-04  21618.089844\n",
       "2025-06-05  21674.429688\n",
       "2025-06-06  21660.660156\n",
       "2025-06-09  21790.289062\n",
       "\n",
       "[2531 rows x 1 columns]"
      ]
     },
     "execution_count": 137,
     "metadata": {},
     "output_type": "execute_result"
    }
   ],
   "source": [
    "prices = yf.download(['^TWII'],start= '2015-01-01')['Close']\n",
    "prices "
   ]
  },
  {
   "cell_type": "markdown",
   "id": "3a2e6564",
   "metadata": {},
   "source": [
    "#### Rendimiento diario"
   ]
  },
  {
   "cell_type": "code",
   "execution_count": 138,
   "id": "7b2b1fe5",
   "metadata": {},
   "outputs": [
    {
     "data": {
      "text/html": [
       "<div>\n",
       "<style scoped>\n",
       "    .dataframe tbody tr th:only-of-type {\n",
       "        vertical-align: middle;\n",
       "    }\n",
       "\n",
       "    .dataframe tbody tr th {\n",
       "        vertical-align: top;\n",
       "    }\n",
       "\n",
       "    .dataframe thead th {\n",
       "        text-align: right;\n",
       "    }\n",
       "</style>\n",
       "<table border=\"1\" class=\"dataframe\">\n",
       "  <thead>\n",
       "    <tr style=\"text-align: right;\">\n",
       "      <th>Ticker</th>\n",
       "      <th>^TWII</th>\n",
       "    </tr>\n",
       "    <tr>\n",
       "      <th>Date</th>\n",
       "      <th></th>\n",
       "    </tr>\n",
       "  </thead>\n",
       "  <tbody>\n",
       "    <tr>\n",
       "      <th>2015-01-06</th>\n",
       "      <td>-0.024344</td>\n",
       "    </tr>\n",
       "    <tr>\n",
       "      <th>2015-01-07</th>\n",
       "      <td>0.003509</td>\n",
       "    </tr>\n",
       "    <tr>\n",
       "      <th>2015-01-08</th>\n",
       "      <td>0.017394</td>\n",
       "    </tr>\n",
       "    <tr>\n",
       "      <th>2015-01-09</th>\n",
       "      <td>-0.002430</td>\n",
       "    </tr>\n",
       "    <tr>\n",
       "      <th>2015-01-12</th>\n",
       "      <td>-0.004045</td>\n",
       "    </tr>\n",
       "  </tbody>\n",
       "</table>\n",
       "</div>"
      ],
      "text/plain": [
       "Ticker         ^TWII\n",
       "Date                \n",
       "2015-01-06 -0.024344\n",
       "2015-01-07  0.003509\n",
       "2015-01-08  0.017394\n",
       "2015-01-09 -0.002430\n",
       "2015-01-12 -0.004045"
      ]
     },
     "execution_count": 138,
     "metadata": {},
     "output_type": "execute_result"
    }
   ],
   "source": [
    "\n",
    "ret = prices.pct_change().dropna()\n",
    "ret.head()"
   ]
  },
  {
   "cell_type": "markdown",
   "id": "e5fb5c48",
   "metadata": {},
   "source": [
    "#### Rendimiento Anual "
   ]
  },
  {
   "cell_type": "code",
   "execution_count": 139,
   "id": "7cd7655a",
   "metadata": {},
   "outputs": [
    {
     "data": {
      "text/plain": [
       "9.972581959911905"
      ]
     },
     "execution_count": 139,
     "metadata": {},
     "output_type": "execute_result"
    }
   ],
   "source": [
    "mean = ret.mean() *252\n",
    "ret_anual = mean.sum()\n",
    "ret_anual *100"
   ]
  },
  {
   "cell_type": "markdown",
   "id": "280db39a",
   "metadata": {},
   "source": [
    "#### Covarianza"
   ]
  },
  {
   "cell_type": "code",
   "execution_count": 140,
   "id": "df24fe34",
   "metadata": {},
   "outputs": [],
   "source": [
    "COV = ret.cov()"
   ]
  },
  {
   "cell_type": "markdown",
   "id": "b5a3764d",
   "metadata": {},
   "source": [
    "#### Varianza "
   ]
  },
  {
   "cell_type": "code",
   "execution_count": 141,
   "id": "a0d42b28",
   "metadata": {},
   "outputs": [
    {
     "data": {
      "text/plain": [
       "Ticker\n",
       "^TWII    0.011556\n",
       "dtype: float64"
      ]
     },
     "execution_count": 141,
     "metadata": {},
     "output_type": "execute_result"
    }
   ],
   "source": [
    "var = ret.var()\n",
    "var*100"
   ]
  },
  {
   "cell_type": "markdown",
   "id": "cec71b7b",
   "metadata": {},
   "source": [
    "#### Varianza Anual"
   ]
  },
  {
   "cell_type": "code",
   "execution_count": 142,
   "id": "eeafd0f4",
   "metadata": {},
   "outputs": [
    {
     "data": {
      "text/plain": [
       "Ticker\n",
       "^TWII    2.912037\n",
       "dtype: float64"
      ]
     },
     "execution_count": 142,
     "metadata": {},
     "output_type": "execute_result"
    }
   ],
   "source": [
    "var_anual = var *252\n",
    "var_anual*100"
   ]
  },
  {
   "cell_type": "markdown",
   "id": "0794e463",
   "metadata": {},
   "source": [
    "#### Volatilidad diaria"
   ]
  },
  {
   "cell_type": "code",
   "execution_count": 143,
   "id": "0721936b",
   "metadata": {},
   "outputs": [
    {
     "data": {
      "text/plain": [
       "Ticker\n",
       "^TWII    1.074975\n",
       "dtype: float64"
      ]
     },
     "execution_count": 143,
     "metadata": {},
     "output_type": "execute_result"
    }
   ],
   "source": [
    "Vol = np.sqrt(var)\n",
    "Vol*100"
   ]
  },
  {
   "cell_type": "markdown",
   "id": "735ec074",
   "metadata": {},
   "source": [
    "#### Volatilidad Anual"
   ]
  },
  {
   "cell_type": "code",
   "execution_count": 144,
   "id": "25cacbe0",
   "metadata": {},
   "outputs": [
    {
     "data": {
      "text/plain": [
       "Ticker\n",
       "^TWII    17.064691\n",
       "dtype: float64"
      ]
     },
     "execution_count": 144,
     "metadata": {},
     "output_type": "execute_result"
    }
   ],
   "source": [
    "Vol_anual = np.sqrt(var)*np.sqrt(252)\n",
    "Vol_anual*100\n"
   ]
  },
  {
   "cell_type": "markdown",
   "id": "5df3baa1",
   "metadata": {},
   "source": [
    "#### Coeficiente de Variación "
   ]
  },
  {
   "cell_type": "code",
   "execution_count": 145,
   "id": "fff0733c",
   "metadata": {},
   "outputs": [
    {
     "data": {
      "text/plain": [
       "2.0747169755817207"
      ]
     },
     "execution_count": 145,
     "metadata": {},
     "output_type": "execute_result"
    }
   ],
   "source": [
    "CV = vol_anual / ret_anual\n",
    "CV"
   ]
  },
  {
   "cell_type": "markdown",
   "id": "5e5ba7e6",
   "metadata": {},
   "source": [
    "#### Ratio Sharpe"
   ]
  },
  {
   "cell_type": "code",
   "execution_count": 146,
   "id": "83157b57",
   "metadata": {},
   "outputs": [],
   "source": [
    "rf = 0.08"
   ]
  },
  {
   "cell_type": "code",
   "execution_count": 147,
   "id": "82d02103",
   "metadata": {},
   "outputs": [
    {
     "data": {
      "text/plain": [
       "Ticker\n",
       "^TWII    11.559435\n",
       "dtype: float64"
      ]
     },
     "execution_count": 147,
     "metadata": {},
     "output_type": "execute_result"
    }
   ],
   "source": [
    "RS = (ret_anual - rf)/Vol_anual\n",
    "RS*100"
   ]
  },
  {
   "cell_type": "markdown",
   "id": "34bcfcae",
   "metadata": {},
   "source": [
    "#### Asimetría Skewness"
   ]
  },
  {
   "cell_type": "code",
   "execution_count": 148,
   "id": "0fdae0da",
   "metadata": {},
   "outputs": [
    {
     "data": {
      "text/plain": [
       "Ticker\n",
       "^TWII   -0.632625\n",
       "dtype: float64"
      ]
     },
     "execution_count": 148,
     "metadata": {},
     "output_type": "execute_result"
    }
   ],
   "source": [
    "Skew = ret.skew()\n",
    "Skew"
   ]
  }
 ],
 "metadata": {
  "kernelspec": {
   "display_name": "Python 3",
   "language": "python",
   "name": "python3"
  },
  "language_info": {
   "codemirror_mode": {
    "name": "ipython",
    "version": 3
   },
   "file_extension": ".py",
   "mimetype": "text/x-python",
   "name": "python",
   "nbconvert_exporter": "python",
   "pygments_lexer": "ipython3",
   "version": "3.12.8"
  }
 },
 "nbformat": 4,
 "nbformat_minor": 5
}
