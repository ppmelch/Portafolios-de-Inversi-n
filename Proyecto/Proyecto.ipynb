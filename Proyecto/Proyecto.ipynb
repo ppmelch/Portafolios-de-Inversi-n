{
 "cells": [
  {
   "cell_type": "code",
   "execution_count": 95,
   "id": "09a19ce0",
   "metadata": {},
   "outputs": [],
   "source": [
    "import pandas as pd \n",
    "import yfinance as yf\n",
    "import numpy as np\n",
    "import datetime\n"
   ]
  },
  {
   "cell_type": "code",
   "execution_count": 96,
   "id": "83e03150",
   "metadata": {},
   "outputs": [
    {
     "name": "stderr",
     "output_type": "stream",
     "text": [
      "[*********************100%***********************]  1 of 1 completed\n"
     ]
    },
    {
     "data": {
      "text/html": [
       "<div>\n",
       "<style scoped>\n",
       "    .dataframe tbody tr th:only-of-type {\n",
       "        vertical-align: middle;\n",
       "    }\n",
       "\n",
       "    .dataframe tbody tr th {\n",
       "        vertical-align: top;\n",
       "    }\n",
       "\n",
       "    .dataframe thead th {\n",
       "        text-align: right;\n",
       "    }\n",
       "</style>\n",
       "<table border=\"1\" class=\"dataframe\">\n",
       "  <thead>\n",
       "    <tr style=\"text-align: right;\">\n",
       "      <th>Ticker</th>\n",
       "      <th>GENTERA.MX</th>\n",
       "    </tr>\n",
       "    <tr>\n",
       "      <th>Date</th>\n",
       "      <th></th>\n",
       "    </tr>\n",
       "  </thead>\n",
       "  <tbody>\n",
       "    <tr>\n",
       "      <th>2021-01-04</th>\n",
       "      <td>9.214066</td>\n",
       "    </tr>\n",
       "    <tr>\n",
       "      <th>2021-01-05</th>\n",
       "      <td>8.959209</td>\n",
       "    </tr>\n",
       "    <tr>\n",
       "      <th>2021-01-06</th>\n",
       "      <td>9.018022</td>\n",
       "    </tr>\n",
       "    <tr>\n",
       "      <th>2021-01-07</th>\n",
       "      <td>9.478725</td>\n",
       "    </tr>\n",
       "    <tr>\n",
       "      <th>2021-01-08</th>\n",
       "      <td>9.321890</td>\n",
       "    </tr>\n",
       "  </tbody>\n",
       "</table>\n",
       "</div>"
      ],
      "text/plain": [
       "Ticker      GENTERA.MX\n",
       "Date                  \n",
       "2021-01-04    9.214066\n",
       "2021-01-05    8.959209\n",
       "2021-01-06    9.018022\n",
       "2021-01-07    9.478725\n",
       "2021-01-08    9.321890"
      ]
     },
     "execution_count": 96,
     "metadata": {},
     "output_type": "execute_result"
    }
   ],
   "source": [
    "prices = yf.download(['GENTERA.MX'], start='2021-01-01', end='2025-01-01')['Close']\n",
    "prices.head()"
   ]
  },
  {
   "cell_type": "code",
   "execution_count": null,
   "id": "ddecf262",
   "metadata": {},
   "outputs": [],
   "source": [
    "def get_historical_price(ticker: str, start: str):\n",
    "    end = start+datetime.timedelta(days=4)\n",
    "    price=pd.DataFrame(yf.Ticker(ticker).history(start=start, end=end)[\"Close\"])\n",
    "    return price.iloc[0, 0]"
   ]
  },
  {
   "cell_type": "code",
   "execution_count": 98,
   "id": "ed191bb3",
   "metadata": {},
   "outputs": [],
   "source": [
    "def get_financial (ticker: str):\n",
    "    info = yf.Ticker(\"GENTERA.MX\")\n",
    "    balance_g = info.balance_sheet.iloc[:,0:-1]\n",
    "    estados_r = info.financials.iloc[:,0:-1]\n",
    "    \n",
    "    return balance_g, estados_r\n"
   ]
  },
  {
   "cell_type": "code",
   "execution_count": 99,
   "id": "fbaf5d2f",
   "metadata": {},
   "outputs": [],
   "source": [
    "balance_g, estados_r = get_financial(\"GENTERA.MX\")\n"
   ]
  },
  {
   "cell_type": "code",
   "execution_count": 100,
   "id": "9d61551c",
   "metadata": {},
   "outputs": [
    {
     "data": {
      "text/plain": [
       "2024-12-31    6004665558.0\n",
       "2023-12-31    4722486795.0\n",
       "2022-12-31    4554000000.0\n",
       "2021-12-31    2347000000.0\n",
       "Name: Net Income Common Stockholders, dtype: object"
      ]
     },
     "execution_count": 100,
     "metadata": {},
     "output_type": "execute_result"
    }
   ],
   "source": [
    "net_income = estados_r.loc['Net Income Common Stockholders'] \n",
    "net_income"
   ]
  },
  {
   "cell_type": "code",
   "execution_count": 101,
   "id": "a5029eae",
   "metadata": {},
   "outputs": [
    {
     "data": {
      "text/plain": [
       "2024-12-31    1579239112.0\n",
       "2023-12-31    1584093876.0\n",
       "2022-12-31    1582743876.0\n",
       "2021-12-31    1587593876.0\n",
       "Name: Ordinary Shares Number, dtype: object"
      ]
     },
     "execution_count": 101,
     "metadata": {},
     "output_type": "execute_result"
    }
   ],
   "source": [
    "Shares = balance_g.loc['Ordinary Shares Number']\n",
    "Shares"
   ]
  },
  {
   "cell_type": "code",
   "execution_count": 102,
   "id": "fc2caee2",
   "metadata": {},
   "outputs": [
    {
     "data": {
      "text/plain": [
       "2024-12-31    3.802252\n",
       "2023-12-31    2.981191\n",
       "2022-12-31    2.877282\n",
       "2021-12-31    1.478338\n",
       "dtype: object"
      ]
     },
     "execution_count": 102,
     "metadata": {},
     "output_type": "execute_result"
    }
   ],
   "source": [
    "EPS = net_income/ Shares\n",
    "EPS"
   ]
  },
  {
   "cell_type": "code",
   "execution_count": 103,
   "id": "a27bb02f",
   "metadata": {},
   "outputs": [
    {
     "data": {
      "text/plain": [
       "2.78476575884277"
      ]
     },
     "execution_count": 103,
     "metadata": {},
     "output_type": "execute_result"
    }
   ],
   "source": [
    "EPS.mean()"
   ]
  },
  {
   "cell_type": "markdown",
   "id": "f6672f78",
   "metadata": {},
   "source": [
    "A cada accionista le tocaria en promedio 2.78 dolares"
   ]
  },
  {
   "cell_type": "markdown",
   "id": "0f81edd2",
   "metadata": {},
   "source": [
    "---"
   ]
  },
  {
   "cell_type": "code",
   "execution_count": 104,
   "id": "8861a53c",
   "metadata": {},
   "outputs": [
    {
     "data": {
      "text/plain": [
       "[24.010000228881836, 23.010000228881836, 22.0, 12.919297218322754]"
      ]
     },
     "execution_count": 104,
     "metadata": {},
     "output_type": "execute_result"
    }
   ],
   "source": [
    "prices = [get_historical_price(\"GENTERA.MX\", date) for date in EPS.index]\n",
    "prices"
   ]
  },
  {
   "cell_type": "code",
   "execution_count": 105,
   "id": "a164eb16",
   "metadata": {},
   "outputs": [
    {
     "data": {
      "text/plain": [
       "2024-12-31    6.314678\n",
       "2023-12-31    7.718391\n",
       "2022-12-31    7.646106\n",
       "2021-12-31     8.73907\n",
       "dtype: object"
      ]
     },
     "execution_count": 105,
     "metadata": {},
     "output_type": "execute_result"
    }
   ],
   "source": [
    "PER = prices / EPS\n",
    "PER"
   ]
  },
  {
   "cell_type": "markdown",
   "id": "dafcf762",
   "metadata": {},
   "source": [
    "Se puede creer que esta acción está infravalorada"
   ]
  },
  {
   "cell_type": "markdown",
   "id": "158c26f7",
   "metadata": {},
   "source": [
    "---"
   ]
  },
  {
   "cell_type": "code",
   "execution_count": 106,
   "id": "94e4eaa8",
   "metadata": {},
   "outputs": [],
   "source": [
    "Liabilities= balance_g.loc['Total Liabilities Net Minority Interest']\n",
    "Assets = balance_g.loc['Total Assets']"
   ]
  },
  {
   "cell_type": "code",
   "execution_count": 107,
   "id": "160f1741",
   "metadata": {},
   "outputs": [
    {
     "data": {
      "text/plain": [
       "2024-12-31     1.45738\n",
       "2023-12-31    1.474793\n",
       "2022-12-31    1.515999\n",
       "2021-12-31    1.546547\n",
       "dtype: object"
      ]
     },
     "execution_count": 107,
     "metadata": {},
     "output_type": "execute_result"
    }
   ],
   "source": [
    "Solvency =  Assets / Liabilities\n",
    "Solvency"
   ]
  },
  {
   "cell_type": "code",
   "execution_count": 112,
   "id": "7634d698",
   "metadata": {},
   "outputs": [
    {
     "data": {
      "text/plain": [
       "1.498679462269381"
      ]
     },
     "execution_count": 112,
     "metadata": {},
     "output_type": "execute_result"
    }
   ],
   "source": [
    "Solvency.mean()"
   ]
  },
  {
   "cell_type": "markdown",
   "id": "714edb38",
   "metadata": {},
   "source": [
    "En cuanto a solvencia , esta acción está normal."
   ]
  },
  {
   "cell_type": "markdown",
   "id": "e01e09e3",
   "metadata": {},
   "source": [
    "---"
   ]
  },
  {
   "cell_type": "code",
   "execution_count": 108,
   "id": "18314a74",
   "metadata": {},
   "outputs": [],
   "source": [
    "Equity = balance_g.loc['Stockholders Equity']"
   ]
  },
  {
   "cell_type": "code",
   "execution_count": 111,
   "id": "10a038b3",
   "metadata": {},
   "outputs": [
    {
     "data": {
      "text/plain": [
       "2024-12-31    19.306783\n",
       "2023-12-31    18.350444\n",
       "2022-12-31    19.309701\n",
       "2021-12-31    11.053028\n",
       "dtype: object"
      ]
     },
     "execution_count": 111,
     "metadata": {},
     "output_type": "execute_result"
    }
   ],
   "source": [
    "ROE = net_income / Equity\n",
    "ROE*100"
   ]
  },
  {
   "cell_type": "markdown",
   "id": "c005aa6b",
   "metadata": {},
   "source": []
  },
  {
   "cell_type": "markdown",
   "id": "8488e491",
   "metadata": {},
   "source": [
    "---"
   ]
  },
  {
   "cell_type": "markdown",
   "id": "db762db7",
   "metadata": {},
   "source": []
  }
 ],
 "metadata": {
  "kernelspec": {
   "display_name": "Python 3",
   "language": "python",
   "name": "python3"
  },
  "language_info": {
   "codemirror_mode": {
    "name": "ipython",
    "version": 3
   },
   "file_extension": ".py",
   "mimetype": "text/x-python",
   "name": "python",
   "nbconvert_exporter": "python",
   "pygments_lexer": "ipython3",
   "version": "3.12.8"
  }
 },
 "nbformat": 4,
 "nbformat_minor": 5
}
